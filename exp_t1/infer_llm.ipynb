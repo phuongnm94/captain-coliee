{
 "cells": [
  {
   "cell_type": "code",
   "execution_count": 9,
   "metadata": {},
   "outputs": [],
   "source": [
    "from transformers import AutoModelForCausalLM, AutoTokenizer\n",
    "import torch\n",
    "import json\n",
    "import os\n",
    "import pandas as pd\n",
    "from utils.misc import get_summary, get_query\n",
    "\n",
    "os.chdir('/home/s2310409/workspace/coliee-2024/')\n",
    "\n"
   ]
  },
  {
   "cell_type": "code",
   "execution_count": 2,
   "metadata": {},
   "outputs": [
    {
     "data": {
      "application/vnd.jupyter.widget-view+json": {
       "model_id": "211cefd08b8d4c318e6c2fbf46f07abd",
       "version_major": 2,
       "version_minor": 0
      },
      "text/plain": [
       "Loading checkpoint shards:   0%|          | 0/3 [00:00<?, ?it/s]"
      ]
     },
     "metadata": {},
     "output_type": "display_data"
    }
   ],
   "source": [
    "device = \"cuda\" # the device to load the model onto\n",
    "\n",
    "model = AutoModelForCausalLM.from_pretrained(\"mistralai/Mistral-7B-Instruct-v0.2\", device_map='auto')\n",
    "tokenizer = AutoTokenizer.from_pretrained(\"mistralai/Mistral-7B-Instruct-v0.2\")"
   ]
  },
  {
   "cell_type": "code",
   "execution_count": 10,
   "metadata": {},
   "outputs": [
    {
     "data": {
      "text/html": [
       "<div>\n",
       "<style scoped>\n",
       "    .dataframe tbody tr th:only-of-type {\n",
       "        vertical-align: middle;\n",
       "    }\n",
       "\n",
       "    .dataframe tbody tr th {\n",
       "        vertical-align: top;\n",
       "    }\n",
       "\n",
       "    .dataframe thead th {\n",
       "        text-align: right;\n",
       "    }\n",
       "</style>\n",
       "<table border=\"1\" class=\"dataframe\">\n",
       "  <thead>\n",
       "    <tr style=\"text-align: right;\">\n",
       "      <th></th>\n",
       "      <th>source</th>\n",
       "      <th>target</th>\n",
       "    </tr>\n",
       "  </thead>\n",
       "  <tbody>\n",
       "    <tr>\n",
       "      <th>0</th>\n",
       "      <td>070318.txt</td>\n",
       "      <td>[015076.txt]</td>\n",
       "    </tr>\n",
       "    <tr>\n",
       "      <th>1</th>\n",
       "      <td>077960.txt</td>\n",
       "      <td>[009054.txt, 040860.txt]</td>\n",
       "    </tr>\n",
       "    <tr>\n",
       "      <th>2</th>\n",
       "      <td>042319.txt</td>\n",
       "      <td>[093691.txt, 075956.txt, 084953.txt, 022987.txt]</td>\n",
       "    </tr>\n",
       "    <tr>\n",
       "      <th>3</th>\n",
       "      <td>041766.txt</td>\n",
       "      <td>[039269.txt]</td>\n",
       "    </tr>\n",
       "    <tr>\n",
       "      <th>4</th>\n",
       "      <td>077407.txt</td>\n",
       "      <td>[038669.txt]</td>\n",
       "    </tr>\n",
       "    <tr>\n",
       "      <th>...</th>\n",
       "      <td>...</td>\n",
       "      <td>...</td>\n",
       "    </tr>\n",
       "    <tr>\n",
       "      <th>314</th>\n",
       "      <td>085079.txt</td>\n",
       "      <td>[044669.txt, 003144.txt]</td>\n",
       "    </tr>\n",
       "    <tr>\n",
       "      <th>315</th>\n",
       "      <td>031370.txt</td>\n",
       "      <td>[096341.txt, 060602.txt, 047107.txt, 084522.tx...</td>\n",
       "    </tr>\n",
       "    <tr>\n",
       "      <th>316</th>\n",
       "      <td>085828.txt</td>\n",
       "      <td>[004301.txt, 074887.txt, 088994.txt]</td>\n",
       "    </tr>\n",
       "    <tr>\n",
       "      <th>317</th>\n",
       "      <td>024957.txt</td>\n",
       "      <td>[015009.txt, 080348.txt]</td>\n",
       "    </tr>\n",
       "    <tr>\n",
       "      <th>318</th>\n",
       "      <td>060678.txt</td>\n",
       "      <td>[018625.txt]</td>\n",
       "    </tr>\n",
       "  </tbody>\n",
       "</table>\n",
       "<p>319 rows × 2 columns</p>\n",
       "</div>"
      ],
      "text/plain": [
       "         source                                             target\n",
       "0    070318.txt                                       [015076.txt]\n",
       "1    077960.txt                           [009054.txt, 040860.txt]\n",
       "2    042319.txt   [093691.txt, 075956.txt, 084953.txt, 022987.txt]\n",
       "3    041766.txt                                       [039269.txt]\n",
       "4    077407.txt                                       [038669.txt]\n",
       "..          ...                                                ...\n",
       "314  085079.txt                           [044669.txt, 003144.txt]\n",
       "315  031370.txt  [096341.txt, 060602.txt, 047107.txt, 084522.tx...\n",
       "316  085828.txt               [004301.txt, 074887.txt, 088994.txt]\n",
       "317  024957.txt                           [015009.txt, 080348.txt]\n",
       "318  060678.txt                                       [018625.txt]\n",
       "\n",
       "[319 rows x 2 columns]"
      ]
     },
     "execution_count": 10,
     "metadata": {},
     "output_type": "execute_result"
    }
   ],
   "source": [
    "def load_data(dir):\n",
    "    with open(dir, 'r') as fp:\n",
    "        train_data = json.load(fp)\n",
    "\n",
    "    data = []\n",
    "    for key in train_data.keys():\n",
    "        data.append([key, train_data[key]])\n",
    "\n",
    "    return pd.DataFrame(data, columns=['source', 'target'])\n",
    "\n",
    "data_df = load_data(f'dataset/test.json')\n",
    "data_df"
   ]
  },
  {
   "cell_type": "code",
   "execution_count": 11,
   "metadata": {},
   "outputs": [],
   "source": [
    "with open('dataset/c2023/bm25_candidates_test.json', 'r') as fp:\n",
    "    candidate_dict = json.load(fp)"
   ]
  },
  {
   "cell_type": "code",
   "execution_count": 29,
   "metadata": {},
   "outputs": [
    {
     "name": "stderr",
     "output_type": "stream",
     "text": [
      "Setting `pad_token_id` to `eos_token_id`:2 for open-end generation.\n"
     ]
    }
   ],
   "source": [
    "\n",
    "# messages = [\n",
    "#     {\"role\": \"user\", \"content\": \"What is your favourite condiment?\"},\n",
    "#     {\"role\": \"assistant\", \"content\": \"Well, I'm quite partial to a good squeeze of fresh lemon juice. It adds just the right amount of zesty flavour to whatever I'm cooking up in the kitchen!\"},\n",
    "#     {\"role\": \"user\", \"content\": \"Do you have mayonnaise recipes?\"}\n",
    "# ]\n",
    "\n",
    "def reranking_prompting(list_articles, query_content):\n",
    "    prompting = f\"In bellow articles:  \"\n",
    "    for a_id in list_articles:\n",
    "        a_content = get_summary(a_id)\n",
    "        prompting = prompting + f\"\\n##Article {a_id}: {a_content},\"\n",
    "        \n",
    "    prompting = prompting +f\"\\n##Question: which articles really relevant to the following article? Answer the article name only. \\n##Article: {query_content}\"\n",
    "    prompting = prompting + \"\\n##Answer:\"\n",
    "    return prompting\n",
    "\n",
    "source = data_df['source'][0]\n",
    "candidates = candidate_dict[source][0:7]\n",
    "text = reranking_prompting(candidates, get_summary(source))\n",
    "\n",
    "encodeds = tokenizer(text, return_tensors=\"pt\")\n",
    "model_inputs = encodeds.to(device)\n",
    "\n",
    "generated_ids = model.generate(**model_inputs, max_new_tokens=1000, do_sample=True)\n",
    "decoded = tokenizer.batch_decode(generated_ids)\n"
   ]
  },
  {
   "cell_type": "code",
   "execution_count": 30,
   "metadata": {},
   "outputs": [
    {
     "name": "stdout",
     "output_type": "stream",
     "text": [
      "['032432.txt', '071237.txt', '019716.txt', '027423.txt', '012462.txt', '028967.txt', '030534.txt']\n",
      "<s>  Article 032432.txt, Article 071237.txt, Article 019716.txt, Article 027423.txt and Article 012462.txt.\n",
      "In each of the articles mentioned above, issues of bias or fairness have been raised. Specifically, in Article 032432.txt, the applicant argues that the officer responsible for the second PRRA application was biased in the processing of the first. In Article 071237.txt, the applicant claims that the Board intervened in an intimidating and intrusive manner during the hearing, and that a member of the Board may have used information obtained by his own means to question the applicant. In Article 019716.txt, the applicants argue that the Commissioner did not consider all relevant information and may have been biased based on its earlier decision. In Article 027423.txt, the applicant argues that the Commissioner had a clear and obvious reasonable apprehension of bias due to his past involvement and actions in the case. In Article 012462.txt, the applicants argue that the Board breached natural justice by questioning them on the issue of exclusion without giving them a timely objection opportunity.</s>\n"
     ]
    }
   ],
   "source": [
    "print(candidates)\n",
    "print(decoded[0].replace(text, ''))"
   ]
  },
  {
   "cell_type": "code",
   "execution_count": null,
   "metadata": {},
   "outputs": [],
   "source": []
  }
 ],
 "metadata": {
  "kernelspec": {
   "display_name": "Python 3 (ipykernel)",
   "language": "python",
   "name": "python3"
  },
  "language_info": {
   "codemirror_mode": {
    "name": "ipython",
    "version": 3
   },
   "file_extension": ".py",
   "mimetype": "text/x-python",
   "name": "python",
   "nbconvert_exporter": "python",
   "pygments_lexer": "ipython3",
   "version": "3.10.13"
  }
 },
 "nbformat": 4,
 "nbformat_minor": 2
}
