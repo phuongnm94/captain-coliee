{
 "cells": [
  {
   "cell_type": "code",
   "execution_count": 1,
   "metadata": {},
   "outputs": [
    {
     "name": "stdout",
     "output_type": "stream",
     "text": [
      "env: CUDA_VISIBLE_DEVICES=0,1\n"
     ]
    }
   ],
   "source": [
    "%env CUDA_VISIBLE_DEVICES=0,1\n"
   ]
  },
  {
   "cell_type": "code",
   "execution_count": 1,
   "metadata": {},
   "outputs": [],
   "source": [
    "import json \n",
    "\n",
    "PATH_LOG = \"./\"\n",
    "\n",
    "faked_data = {\n",
    "  \"R02-1-A\": [\n",
    "    \"The family court may decide to commence an assistance also in respect of a person whose capacity to appreciate their own situation is extremely inadequate due to a mental disorder.\",\n",
    "    [\n",
    "      [\n",
    "        \"11\",\n",
    "        \"Part I General Provisions Chapter II Persons Section 3 Capacity to Act   (Decisions for Commencement of Curatorship) Article 11  The family court may decide to commence a curatorship in respect of a person whose capacity to appreciate their own situation is extremely inadequate due to a mental disorder, at the request of the person in question, the person's spouse, the person's relative within the fourth degree of kinship, the guardian, the guardian's supervisor, the assistant, the assistant's supervisor, or a public prosecutor; provided, however, that this does not apply to a person in respect of whom a cause set forth in Article 7 exists.\"\n",
    "      ],\n",
    "      [\n",
    "        \"15\",\n",
    "        \"Part I General Provisions Chapter II Persons Section 3 Capacity to Act   (Decisions for Commencement of Assistance) Article 15  (1) The family court may decide to commence an assistance in respect of a person whose capacity to appreciate their own situation is inadequate due to a mental disorder, at the request of the person in question, that person's spouse, that person's relative within the fourth degree of kinship, the guardian, the guardian's supervisor, the curator, the curator's supervisor, or a public prosecutor; provided, however, that this does not apply to a person with respect to whom there are grounds as prescribed in Article 7 or the main clause of Article 11. \\n (2) The issuance of a decision for commencement of assistance at the request of a person other than the person in question requires the consent of the person in question. \\n (3) A decision for commencement of assistance must be made concurrent with a decision as referred to in Article 17, paragraph (1) or a decision as referred to in Article 876-9, paragraph (1).\"\n",
    "      ]\n",
    "    ]\n",
    "  ],\n",
    "  \"R02-1-I\": [\n",
    "    \"The issuance of a decision for commencement of assistance at the request of a person other than the person in question requires the consent of the person in question unless the family court finds it to be suitable.\",\n",
    "    [\n",
    "      [\n",
    "        \"15\",\n",
    "        \"Part I General Provisions Chapter II Persons Section 3 Capacity to Act   (Decisions for Commencement of Assistance) Article 15  (1) The family court may decide to commence an assistance in respect of a person whose capacity to appreciate their own situation is inadequate due to a mental disorder, at the request of the person in question, that person's spouse, that person's relative within the fourth degree of kinship, the guardian, the guardian's supervisor, the curator, the curator's supervisor, or a public prosecutor; provided, however, that this does not apply to a person with respect to whom there are grounds as prescribed in Article 7 or the main clause of Article 11. \\n (2) The issuance of a decision for commencement of assistance at the request of a person other than the person in question requires the consent of the person in question. \\n (3) A decision for commencement of assistance must be made concurrent with a decision as referred to in Article 17, paragraph (1) or a decision as referred to in Article 876-9, paragraph (1).\"\n",
    "      ]\n",
    "    ]\n",
    "  ],\n",
    "  \"R02-1-U\": [\n",
    "    \"If the grounds of commencement of assistance cease to exist, the family court may rescind the decision for commencement of assistance without any party's request.\",\n",
    "    [\n",
    "      [\n",
    "        \"18\",\n",
    "        \"Part I General Provisions Chapter II Persons Section 3 Capacity to Act   (Rescission of Decisions for Commencement of Assistance) Article 18  (1) If the grounds prescribed in the main clause of Article 15, paragraph (1) cease to exist, the family court must rescind the decision for commencement of assistance at the request of the person in question, that person's spouse, that person's relative within the fourth degree of kinship, the guardian of a minor, the supervisor of a minor's guardian, the assistant, the assistant's supervisor, or a public prosecutor. \\n (2) At the request of a person as prescribed in the preceding paragraph, the family court may rescind all or part of the decision referred to in paragraph (1) of the preceding Article. \\n (3) If rescinding the decision referred to in paragraph (1) of the preceding Article and the decision referred to in Article 876-9, paragraph (1) in their entirety, the family court must rescind the decision for commencement of assistance.\"\n",
    "      ]\n",
    "    ]\n",
    "  ],\n",
    "  \"R02-1-E\": [\n",
    "    \"If the assistant does not consent to an act for which the person under assistance must obtain the assistant's consent even though it is unlikely to prejudice the interests of the person under assistance, the family court may grant permission that operates in lieu of the assistant's consent, at the request of the person under assistance.\",\n",
    "    [\n",
    "      [\n",
    "        \"17\",\n",
    "        \"Part I General Provisions Chapter II Persons Section 3 Capacity to Act   (Decisions Requiring Person to Obtain Consent of Assistant) Article 17  (1) At the request of the person referred to in the main clause of Article 15, paragraph (1) or the assistant or assistant's supervisor, the family court may decide that the person under assistance must obtain the consent of the person's assistant in order to perform a specific juridical act; provided, however, that the acts that such a decision may establish as those for which the person must obtain the consent of the assistant are restricted to a part of the acts provided for in Article 13, paragraph (1). \\n (2) In order to decide as referred to in the preceding paragraph at the request of a person other than the person in question requires the consent of the person in question. \\n (3) If the assistant does not consent to an act for which the person under assistance must obtain the assistant's consent even though it is unlikely to prejudice the interests of the person under assistance, the family court may grant permission that operates in lieu of the assistant's consent, at the request of the person under assistance. \\n (4) An act for which the person under assistance must obtain the assistant's consent is voidable if the person performs it without obtaining the assistance's consent or a permission that operates in lieu of it.\"\n",
    "      ]\n",
    "    ]\n",
    "  ],\n",
    "  \"R02-2-E\": [\n",
    "    \"A foreign juridical person permitted possesses the same private rights even if a foreign national is not entitled to enjoy the rights as those possessed by a juridical person of the same kind that has been formed in Japan.\",\n",
    "    [\n",
    "      [\n",
    "        \"36\",\n",
    "        \"Part I General Provisions Chapter III Juridical Persons Section 1 Incorporation of Juridical Persons   (Foreign Juridical Persons) Article 36  (1) With the exception of states, administrative divisions of states, and commercial companies, the formation of foreign juridical persons is not permitted; provided, however, that this does not apply to a foreign juridical persons that is permitted pursuant to the provisions of a law or treaty. \\n (2) A foreign juridical person permitted pursuant to the provisions of the preceding paragraph possesses the same private rights as those possessed by a juridical person of the same kind that has been formed in Japan; provided, however, that this does not apply to a right that a foreign national is not entitled to enjoy or to any right for which there are special provisions in a law or treaty.\"\n",
    "      ]\n",
    "    ]\n",
    "  ]\n",
    "}"
   ]
  },
  {
   "cell_type": "code",
   "execution_count": 4,
   "metadata": {},
   "outputs": [],
   "source": [
    "import re\n",
    "def format_output(text):\n",
    "\tCLEANR = re.compile('<.*?>') \n",
    "\tcleantext = re.sub(CLEANR, '', text)\n",
    "\treturn cleantext.strip().lower()\n",
    "\n",
    "def llm_infer(model, tokenizer_, texts):\n",
    "    inputs = tokenizer_(texts, return_tensors=\"pt\", padding='longest')[\"input_ids\"].cuda()\n",
    "    outputs = model.generate(inputs, max_new_tokens=256)\n",
    "    raw_out = tokenizer_.batch_decode(outputs, skip_special_tokens=True)\n",
    "    output_text = [format_output(e.replace(texts[i], \"\")) for i, e in enumerate(raw_out)]\n",
    "    \n",
    "    return output_text"
   ]
  },
  {
   "cell_type": "code",
   "execution_count": 5,
   "metadata": {},
   "outputs": [],
   "source": [
    "def reranking_prompting(list_articles, query_content):\n",
    "    prompting = f\"In bellow articles:  \"\n",
    "    for a_id, a_content in list_articles:\n",
    "        prompting = prompting + f\"\\nArticle {a_id}: {a_content},\"\n",
    "        \n",
    "    prompting  = prompting +f\"\\nQuestion: which articles really relevant to query \\\"{query_content}\\\"?\"\n",
    "    return prompting\n"
   ]
  },
  {
   "cell_type": "code",
   "execution_count": null,
   "metadata": {},
   "outputs": [],
   "source": []
  },
  {
   "cell_type": "code",
   "execution_count": 6,
   "metadata": {},
   "outputs": [],
   "source": [
    "\n",
    "prompt_texts = []\n",
    "prompt_texts_ids = []\n",
    "for q_id, (query_content, info_relevant_articles) in faked_data.items():\n",
    "    prompt = reranking_prompting(info_relevant_articles, query_content)\n",
    "    prompt_texts.append(prompt)\n",
    "    prompt_texts_ids.append( q_id )\n",
    " "
   ]
  },
  {
   "cell_type": "code",
   "execution_count": 7,
   "metadata": {},
   "outputs": [
    {
     "name": "stdout",
     "output_type": "stream",
     "text": [
      "In bellow articles:  \n",
      "Article 11: Part I General Provisions Chapter II Persons Section 3 Capacity to Act   (Decisions for Commencement of Curatorship) Article 11  The family court may decide to commence a curatorship in respect of a person whose capacity to appreciate their own situation is extremely inadequate due to a mental disorder, at the request of the person in question, the person's spouse, the person's relative within the fourth degree of kinship, the guardian, the guardian's supervisor, the assistant, the assistant's supervisor, or a public prosecutor; provided, however, that this does not apply to a person in respect of whom a cause set forth in Article 7 exists.,\n",
      "Article 15: Part I General Provisions Chapter II Persons Section 3 Capacity to Act   (Decisions for Commencement of Assistance) Article 15  (1) The family court may decide to commence an assistance in respect of a person whose capacity to appreciate their own situation is inadequate due to a mental disorder, at the request of the person in question, that person's spouse, that person's relative within the fourth degree of kinship, the guardian, the guardian's supervisor, the curator, the curator's supervisor, or a public prosecutor; provided, however, that this does not apply to a person with respect to whom there are grounds as prescribed in Article 7 or the main clause of Article 11. \n",
      " (2) The issuance of a decision for commencement of assistance at the request of a person other than the person in question requires the consent of the person in question. \n",
      " (3) A decision for commencement of assistance must be made concurrent with a decision as referred to in Article 17, paragraph (1) or a decision as referred to in Article 876-9, paragraph (1).,\n",
      "Question: which articles really relevant to query \"The family court may decide to commence an assistance also in respect of a person whose capacity to appreciate their own situation is extremely inadequate due to a mental disorder.\"?\n",
      "R02-1-A\n"
     ]
    }
   ],
   "source": [
    "print(prompt_texts[0])\n",
    "print(prompt_texts_ids[0])"
   ]
  },
  {
   "cell_type": "code",
   "execution_count": 8,
   "metadata": {},
   "outputs": [
    {
     "name": "stderr",
     "output_type": "stream",
     "text": [
      "/home/phuongnm/coliee2024/env_coliee/lib/python3.8/site-packages/tqdm/auto.py:21: TqdmWarning: IProgress not found. Please update jupyter and ipywidgets. See https://ipywidgets.readthedocs.io/en/stable/user_install.html\n",
      "  from .autonotebook import tqdm as notebook_tqdm\n"
     ]
    },
    {
     "name": "stderr",
     "output_type": "stream",
     "text": [
      "Loading checkpoint shards: 100%|██████████| 5/5 [00:58<00:00, 11.66s/it]\n"
     ]
    }
   ],
   "source": [
    "\n",
    "from transformers import AutoTokenizer, BloomForCausalLM, AutoTokenizer, AutoModelForSeq2SeqLM\n",
    "import torch\n",
    "\n",
    "model_name = \"google/flan-t5-xxl\"\n",
    "model = AutoModelForSeq2SeqLM.from_pretrained(\n",
    "\t\tmodel_name, device_map=\"auto\",  torch_dtype=torch.float16, load_in_8bit=True,\n",
    "\t)\n",
    "tokenizer = AutoTokenizer.from_pretrained(model_name)"
   ]
  },
  {
   "cell_type": "code",
   "execution_count": 9,
   "metadata": {},
   "outputs": [
    {
     "name": "stdout",
     "output_type": "stream",
     "text": [
      "['article 15', 'article 15']\n"
     ]
    }
   ],
   "source": [
    "print(llm_infer(model, tokenizer, prompt_texts[:2]))\n"
   ]
  },
  {
   "cell_type": "code",
   "execution_count": 29,
   "metadata": {},
   "outputs": [
    {
     "name": "stdout",
     "output_type": "stream",
     "text": [
      "len(prompt_texts) =  400\n"
     ]
    },
    {
     "name": "stderr",
     "output_type": "stream",
     "text": [
      "  2%|▏         | 2/100 [01:00<58:12, 35.64s/it]Token indices sequence length is longer than the specified maximum sequence length for this model (520 > 512). Running this sequence through the model will result in indexing errors\n",
      "100%|██████████| 100/100 [19:22<00:00, 11.62s/it]\n"
     ]
    }
   ],
   "source": [
    "import json \n",
    "from tqdm import tqdm\n",
    "from torch.utils.data.dataloader import DataLoader\n",
    "\n",
    "\n",
    "print(\"len(prompt_texts) = \", len(prompt_texts))\n",
    "prompting_loader = DataLoader(prompt_texts, batch_size=4, collate_fn=None, shuffle=False)\n",
    "all_outputs = []\n",
    "all_inputs = []\n",
    "for i_batch, batch_prompt_texts in enumerate(tqdm(prompting_loader)):\n",
    "    batch_outputs = llm_infer(model, tokenizer,  batch_prompt_texts)\n",
    "    all_inputs = all_inputs + batch_prompt_texts\n",
    "    all_outputs = all_outputs + batch_outputs\n",
    "    if i_batch % 5 == 4:\n",
    "        json.dump(list(zip(prompt_texts_ids[:len(all_outputs)], all_inputs, all_outputs)), open(f\"{PATH_LOG}/all_infer_rerank.json\", \"wt\"), indent=2)\n",
    "\n",
    "        \n",
    "json.dump(list(zip(prompt_texts_ids[:len(all_outputs)], all_inputs, all_outputs)), open(f\"{PATH_LOG}/all_infer_rerank.json\", \"wt\"), indent=2)"
   ]
  },
  {
   "cell_type": "code",
   "execution_count": null,
   "metadata": {},
   "outputs": [],
   "source": []
  }
 ],
 "metadata": {
  "kernelspec": {
   "display_name": "Python 3",
   "language": "python",
   "name": "python3"
  },
  "language_info": {
   "codemirror_mode": {
    "name": "ipython",
    "version": 3
   },
   "file_extension": ".py",
   "mimetype": "text/x-python",
   "name": "python",
   "nbconvert_exporter": "python",
   "pygments_lexer": "ipython3",
   "version": "3.8.18"
  }
 },
 "nbformat": 4,
 "nbformat_minor": 4
}
