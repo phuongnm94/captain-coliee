{
 "cells": [
  {
   "cell_type": "code",
   "execution_count": 2,
   "id": "2916b071-b8d7-4ace-a2ca-395d5dfef537",
   "metadata": {},
   "outputs": [],
   "source": [
    "path_file = \"../data/COLIEE2024statute_data-English/train/\""
   ]
  },
  {
   "cell_type": "code",
   "execution_count": 3,
   "id": "7fcdd19c-648e-44ae-8f6d-29951fa27740",
   "metadata": {
    "jupyter": {
     "source_hidden": true
    }
   },
   "outputs": [],
   "source": [
    "from os import listdir\n",
    "from os.path import isfile, join\n",
    "\n",
    "def get_all_files_from_path(mypath):\n",
    "    filenames = [join(mypath, f) for f in listdir(mypath) if isfile(join(mypath, f))]\n",
    "    return filenames\n",
    "\n",
    "from bs4 import BeautifulSoup\n",
    "import re\n",
    "import json\n",
    "\n",
    "def get_article(articles):\n",
    "    result = {}\n",
    "    current_statue = \"(non-statute)\"\n",
    "    for i in re.split(r\"(.*)\", articles.strip()):\n",
    "        if len(i) == 0 or i == \"\\n\":\n",
    "            continue\n",
    "        if re.search(r\"^\\(.*\\)$\", i):\n",
    "            current_statue = i.strip()\n",
    "            if current_statue not in result:\n",
    "                result.update({current_statue: []})\n",
    "        else:\n",
    "            if current_statue not in result:\n",
    "                result.update({current_statue: []})\n",
    "            result[current_statue].append(i)\n",
    "    return result\n",
    "\n",
    "def build_test(filename):\n",
    "    result = {}\n",
    "    with open(filename, 'r') as f:\n",
    "        data = f.read()\n",
    "\n",
    "    data = BeautifulSoup(data, \"xml\").find_all('pair')\n",
    "    for i in data:\n",
    "        id = i.get('id')\n",
    "        result.update({id: {}})\n",
    "        result[id].update({\"label\": i.get('label')})\n",
    "        articles = i.find('t1').text.strip()\n",
    "        # articles = get_article(articles)\n",
    "        result[id].update({\"result\": articles})\n",
    "        result[id].update({\"content\": i.find('t2').text.strip()})\n",
    "    return result\n",
    "\n",
    "def write_json(filename, data):\n",
    "    with open(filename, 'w', encoding='utf-8') as f:\n",
    "        json.dump(data, f, ensure_ascii=False, indent=4)\n",
    "\n",
    "import xml.etree.ElementTree as Et\n",
    "import glob\n",
    "\n",
    "def format_first_line(text):\n",
    "    lines = text.split(\"\\n\")\n",
    "    results = []\n",
    "    for line in lines:\n",
    "        if line[0] == \"\":\n",
    "            continue\n",
    "        if line[0] == \"(\" and line[-1] == \")\":\n",
    "            continue\n",
    "        results.append(line)\n",
    "    return \"\\n\".join(results)\n",
    "\n",
    "def load_samples(filexml):\n",
    "    # try:\n",
    "        tree = Et.parse(filexml)\n",
    "        root = tree.getroot()\n",
    "        samples = []\n",
    "        for i in range(0, len(root)):\n",
    "            sample = {'result': []}\n",
    "            for j, e in enumerate(root[i]):\n",
    "                if e.tag == \"t1\":\n",
    "                    sample['result'] = format_first_line(e.text.strip())\n",
    "                elif e.tag == \"t2\":\n",
    "                    question = e.text.strip()\n",
    "                    sample['content'] = question if len(question) > 0 else None\n",
    "            sample.update(\n",
    "                {'index': root[i].attrib['id'], 'label': root[i].attrib.get('label', \"N\")})\n",
    "            # filter the noise samples\n",
    "            if sample['content'] is not None:\n",
    "                samples.append(sample)\n",
    "            else:\n",
    "                print(\"[Important warning] samples {} is ignored\".format(sample))\n",
    "        return samples\n",
    "\n",
    "def load_test_data_samples(path_folder_base, test_id):\n",
    "    data = []\n",
    "    test = load_samples(f\"{path_folder_base}/riteval_{test_id}.xml\")\n",
    "    for file_path in glob.glob(f\"{path_folder_base}/riteval_{test_id}.xml\"):\n",
    "        data = data + load_samples(file_path)\n",
    "    return data\n",
    "\n",
    "\n",
    "def load_all_data_samples(path_folder_base):\n",
    "    data = []\n",
    "    for file_path in glob.glob(\"{}/*.xml\".format(path_folder_base)):\n",
    "        data = data + load_samples(file_path)\n",
    "    return data\n",
    "\n",
    "def check_false_labels(pred, false_labels):\n",
    "\tfor label in false_labels:\n",
    "\t\tif label in pred:\n",
    "\t\t\treturn True\n",
    "\treturn False\n",
    "\n",
    "import json\n",
    "def readfile(filename):\n",
    "    f = open(filename)\n",
    "    data = json.load(f)\n",
    "    return data\n",
    "\n",
    "def writefile(data, filename):\n",
    "    # Serializing json\n",
    "    json_object = json.dumps(data, indent=1)\n",
    "    # Writing to sample.json\n",
    "    with open(filename, \"w\") as outfile:\n",
    "        outfile.write(json_object)"
   ]
  },
  {
   "cell_type": "code",
   "execution_count": 4,
   "id": "2a121bed-f56d-4134-8df0-8b15a591f79d",
   "metadata": {},
   "outputs": [
    {
     "name": "stderr",
     "output_type": "stream",
     "text": [
      "/home/congnguyen/drive/miniconda3/envs/myenv/lib/python3.10/site-packages/tqdm/auto.py:21: TqdmWarning: IProgress not found. Please update jupyter and ipywidgets. See https://ipywidgets.readthedocs.io/en/stable/user_install.html\n",
      "  from .autonotebook import tqdm as notebook_tqdm\n",
      "Loading checkpoint shards: 100%|██████████████████████████████████████████████████████████████████████████████████████████████████████████████████████████████████| 5/5 [00:10<00:00,  2.19s/it]\n"
     ]
    }
   ],
   "source": [
    "from transformers import AutoTokenizer, BloomForCausalLM, AutoTokenizer, AutoModelForSeq2SeqLM\n",
    "import torch\n",
    "\n",
    "model_name = \"google/flan-t5-xxl\"\n",
    "cache_dir = \"/home/congnguyen/drive/.cache\"\n",
    "tokenizer = AutoTokenizer.from_pretrained(model_name, cache_dir=cache_dir)\n",
    "model = AutoModelForSeq2SeqLM.from_pretrained(\n",
    "\t\tmodel_name, device_map=\"cuda\", cache_dir=cache_dir, torch_dtype=torch.float16\n",
    "\t)\n",
    "model = model.cuda()"
   ]
  },
  {
   "cell_type": "code",
   "execution_count": 5,
   "id": "3a7f6a89-39ab-49a2-9805-a23d88b2376b",
   "metadata": {
    "scrolled": true
   },
   "outputs": [
    {
     "data": {
      "text/plain": [
       "[{'id': 0,\n",
       "  'label': ['True', 'False'],\n",
       "  'prompt': '{{premise}}\\nQuestion: {{hypothesis}} True or False?'},\n",
       " {'id': 1,\n",
       "  'label': ['True', 'False'],\n",
       "  'prompt': '{{premise}}\\nQuestion: {{hypothesis}} True or False? '},\n",
       " {'id': 2,\n",
       "  'label': ['true', 'false'],\n",
       "  'prompt': '{{premise}} Based on that information, is the claim: \"{{hypothesis}}\" true or false?'},\n",
       " {'id': 3,\n",
       "  'label': ['True', 'False'],\n",
       "  'prompt': 'EXAM\\n1. Answer by yes or no.\\n\\nDocument: {{premise}}\\nQuestion: {{hypothesis}}? '},\n",
       " {'id': 4,\n",
       "  'label': ['Yes', 'No'],\n",
       "  'prompt': '{{premise}}\\nBased on the previous passage, {{hypothesis}}? '},\n",
       " {'id': 5,\n",
       "  'label': ['Yes', 'No'],\n",
       "  'prompt': 'Premise: {{premise}}\\n\\nHypothesis: {{hypothesis}}\\n\\nDoes the premise entail the hypothesis? Yes or no '},\n",
       " {'id': 6,\n",
       "  'label': ['Yes', 'No'],\n",
       "  'prompt': 'Premise: {{premise}}\\nHypothesis: {{hypothesis}}\\nIs the hypothesis entailed by the premise? Yes or no '},\n",
       " {'id': 7,\n",
       "  'label': ['Yes', 'No'],\n",
       "  'prompt': 'Sentence 1: {{premise}}\\n\\nSentence 2: {{hypothesis}}\\nIs this second sentence entailed by the first sentence? Yes or No '},\n",
       " {'id': 8,\n",
       "  'label': ['True', 'False'],\n",
       "  'prompt': 'Sentence 1: {{premise}}\\n\\nSentence 2: {{hypothesis}}\\n\\nIf the first sentence is true, then is the second sentence true? True or False '},\n",
       " {'id': 9,\n",
       "  'label': ['Yes', 'No'],\n",
       "  'prompt': 'If {{premise}}, can we conclude that \"{{hypothesis}}\"? Yes or No '},\n",
       " {'id': 10,\n",
       "  'label': ['Yes', 'No'],\n",
       "  'prompt': 'Premise: \"{{premise}}\" If this premise is true, what does that tell us about whether it entails the hypothesis \"{{hypothesis}}\"?\\n\\nYes or No '}]"
      ]
     },
     "execution_count": 5,
     "metadata": {},
     "output_type": "execute_result"
    }
   ],
   "source": [
    "list_prompt = readfile(\"../data/prompt.json\")\n",
    "list_prompt"
   ]
  },
  {
   "cell_type": "code",
   "execution_count": 6,
   "id": "62cef256-3f1f-4c14-809c-ce91f1d5cd8f",
   "metadata": {},
   "outputs": [],
   "source": [
    "from tqdm import tqdm\n",
    "\n",
    "def format_output(text):\n",
    "\tCLEANR = re.compile('<.*?>') \n",
    "\tcleantext = re.sub(CLEANR, '', text)\n",
    "\treturn cleantext.strip().lower()\n",
    "\n",
    "def prompting(premise, hypothesis, template=None):\n",
    "    text = template.replace(\"{{premise}}\", premise).replace(\"{{hypothesis}}\", hypothesis)\n",
    "    return text"
   ]
  },
  {
   "cell_type": "code",
   "execution_count": 7,
   "id": "95eccb0a-0917-4b9a-ac3e-1e7b824689a4",
   "metadata": {
    "scrolled": true
   },
   "outputs": [],
   "source": [
    "def predict(model, tokenizer, files=[\"riteval_R01_en\",\"riteval_R02_en\",\"riteval_R03_en\",\"riteval_R04_en\"], output=\"../output/accuracy2/newpromt_\"):\n",
    "    for file in files:\n",
    "        test_file = path_file+file+\".xml\"\n",
    "        data = load_samples(test_file)\n",
    "        \n",
    "        acc = {}\n",
    "        for template_prompt in list_prompt:\n",
    "            template_prompt = template_prompt[\"prompt\"]\n",
    "            print(template_prompt)\n",
    "            result = []\n",
    "            count = 0\n",
    "            for item in tqdm(data):\n",
    "                label = item[\"label\"]\n",
    "                hypothesis = item[\"content\"]\n",
    "                premise = item[\"result\"]\n",
    "                #Important: You must use dot-product, not cosine_similarity\n",
    "                text = prompting(premise, hypothesis, template_prompt)\n",
    "                inputs = tokenizer(text, return_tensors=\"pt\")[\"input_ids\"].cuda()\n",
    "                outputs = model.generate(inputs, max_new_tokens=10)\n",
    "                output_text = format_output(tokenizer.decode(outputs[0]).replace(text, \"\").split(\"\\n\")[-1])\n",
    "                if count < 1:\n",
    "                    print(text)\n",
    "                # if count < 3:\n",
    "                #     print(output_text)\n",
    "                if \"yes\" in output_text or \"true\" in output_text:\n",
    "                    output_text = \"Y\"\n",
    "                else:\n",
    "                    output_text = \"N\"\n",
    "                if output_text == label:\n",
    "                    count+=1\n",
    "                # print(\"predict label: \", output_text, \"label: \", label)\n",
    "            print(\"=======================================\")\n",
    "            print(template_prompt)\n",
    "            print(count, \"/\", len(data))\n",
    "            acc.update({template_prompt: count/len(data)})\n",
    "        writefile(acc, output+file+\".json\")"
   ]
  },
  {
   "cell_type": "code",
   "execution_count": 8,
   "id": "0eaf3369-eb72-41c1-8c0a-0b0ffe006e4f",
   "metadata": {},
   "outputs": [
    {
     "name": "stdout",
     "output_type": "stream",
     "text": [
      "{{premise}}\n",
      "Question: {{hypothesis}} True or False?\n"
     ]
    },
    {
     "name": "stderr",
     "output_type": "stream",
     "text": [
      "  2%|██▊                                                                                                                                                        | 2/111 [00:00<00:46,  2.36it/s]Token indices sequence length is longer than the specified maximum sequence length for this model (575 > 512). Running this sequence through the model will result in indexing errors\n"
     ]
    },
    {
     "name": "stdout",
     "output_type": "stream",
     "text": [
      "Article 5\n",
      "(1) A minor must obtain the consent of the minor's legal representative to perform a juridical act;provided, however, that this does not apply to a juridical act for merely acquiring a right or being released from an obligation.\n",
      "(2) A juridical act in contravention of the provisions of the preceding paragraph is voidable.\n",
      "(3) Notwithstanding the provisions of paragraph (1), a minor may freely dispose of property that the legal representative has permitted the minor to dispose of for a specified purpose, to an extent that falls within the scope of that purpose. The same applies if the minor disposes of property that the legal representative has permitted the minor to dispose of without specifying a purpose.\n",
      "Question: A contract of sales concluded by a minor may not be rescinded if it relates to daily life, even in cases the consent of the parental authority is not obtained. True or False?\n"
     ]
    },
    {
     "name": "stderr",
     "output_type": "stream",
     "text": [
      "100%|█████████████████████████████████████████████████████████████████████████████████████████████████████████████████████████████████████████████████████████| 111/111 [00:21<00:00,  5.25it/s]\n"
     ]
    },
    {
     "name": "stdout",
     "output_type": "stream",
     "text": [
      "=======================================\n",
      "{{premise}}\n",
      "Question: {{hypothesis}} True or False?\n",
      "75 / 111\n",
      "{{premise}}\n",
      "Question: {{hypothesis}} True or False? \n"
     ]
    },
    {
     "name": "stderr",
     "output_type": "stream",
     "text": [
      "  2%|██▊                                                                                                                                                        | 2/111 [00:00<00:16,  6.80it/s]"
     ]
    },
    {
     "name": "stdout",
     "output_type": "stream",
     "text": [
      "Article 5\n",
      "(1) A minor must obtain the consent of the minor's legal representative to perform a juridical act;provided, however, that this does not apply to a juridical act for merely acquiring a right or being released from an obligation.\n",
      "(2) A juridical act in contravention of the provisions of the preceding paragraph is voidable.\n",
      "(3) Notwithstanding the provisions of paragraph (1), a minor may freely dispose of property that the legal representative has permitted the minor to dispose of for a specified purpose, to an extent that falls within the scope of that purpose. The same applies if the minor disposes of property that the legal representative has permitted the minor to dispose of without specifying a purpose.\n",
      "Question: A contract of sales concluded by a minor may not be rescinded if it relates to daily life, even in cases the consent of the parental authority is not obtained. True or False? \n"
     ]
    },
    {
     "name": "stderr",
     "output_type": "stream",
     "text": [
      "100%|█████████████████████████████████████████████████████████████████████████████████████████████████████████████████████████████████████████████████████████| 111/111 [00:20<00:00,  5.39it/s]\n"
     ]
    },
    {
     "name": "stdout",
     "output_type": "stream",
     "text": [
      "=======================================\n",
      "{{premise}}\n",
      "Question: {{hypothesis}} True or False? \n",
      "74 / 111\n",
      "{{premise}} Based on that information, is the claim: \"{{hypothesis}}\" true or false?\n"
     ]
    },
    {
     "name": "stderr",
     "output_type": "stream",
     "text": [
      "  1%|█▍                                                                                                                                                         | 1/111 [00:00<00:16,  6.67it/s]"
     ]
    },
    {
     "name": "stdout",
     "output_type": "stream",
     "text": [
      "Article 5\n",
      "(1) A minor must obtain the consent of the minor's legal representative to perform a juridical act;provided, however, that this does not apply to a juridical act for merely acquiring a right or being released from an obligation.\n",
      "(2) A juridical act in contravention of the provisions of the preceding paragraph is voidable.\n",
      "(3) Notwithstanding the provisions of paragraph (1), a minor may freely dispose of property that the legal representative has permitted the minor to dispose of for a specified purpose, to an extent that falls within the scope of that purpose. The same applies if the minor disposes of property that the legal representative has permitted the minor to dispose of without specifying a purpose. Based on that information, is the claim: \"A contract of sales concluded by a minor may not be rescinded if it relates to daily life, even in cases the consent of the parental authority is not obtained.\" true or false?\n"
     ]
    },
    {
     "name": "stderr",
     "output_type": "stream",
     "text": [
      "100%|█████████████████████████████████████████████████████████████████████████████████████████████████████████████████████████████████████████████████████████| 111/111 [00:17<00:00,  6.33it/s]\n"
     ]
    },
    {
     "name": "stdout",
     "output_type": "stream",
     "text": [
      "=======================================\n",
      "{{premise}} Based on that information, is the claim: \"{{hypothesis}}\" true or false?\n",
      "69 / 111\n",
      "EXAM\n",
      "1. Answer by yes or no.\n",
      "\n",
      "Document: {{premise}}\n",
      "Question: {{hypothesis}}? \n"
     ]
    },
    {
     "name": "stderr",
     "output_type": "stream",
     "text": [
      "  1%|█▍                                                                                                                                                         | 1/111 [00:00<00:18,  6.02it/s]"
     ]
    },
    {
     "name": "stdout",
     "output_type": "stream",
     "text": [
      "EXAM\n",
      "1. Answer by yes or no.\n",
      "\n",
      "Document: Article 5\n",
      "(1) A minor must obtain the consent of the minor's legal representative to perform a juridical act;provided, however, that this does not apply to a juridical act for merely acquiring a right or being released from an obligation.\n",
      "(2) A juridical act in contravention of the provisions of the preceding paragraph is voidable.\n",
      "(3) Notwithstanding the provisions of paragraph (1), a minor may freely dispose of property that the legal representative has permitted the minor to dispose of for a specified purpose, to an extent that falls within the scope of that purpose. The same applies if the minor disposes of property that the legal representative has permitted the minor to dispose of without specifying a purpose.\n",
      "Question: A contract of sales concluded by a minor may not be rescinded if it relates to daily life, even in cases the consent of the parental authority is not obtained.? \n"
     ]
    },
    {
     "name": "stderr",
     "output_type": "stream",
     "text": [
      "100%|█████████████████████████████████████████████████████████████████████████████████████████████████████████████████████████████████████████████████████████| 111/111 [00:18<00:00,  6.02it/s]\n"
     ]
    },
    {
     "name": "stdout",
     "output_type": "stream",
     "text": [
      "=======================================\n",
      "EXAM\n",
      "1. Answer by yes or no.\n",
      "\n",
      "Document: {{premise}}\n",
      "Question: {{hypothesis}}? \n",
      "75 / 111\n",
      "{{premise}}\n",
      "Based on the previous passage, {{hypothesis}}? \n"
     ]
    },
    {
     "name": "stderr",
     "output_type": "stream",
     "text": [
      "  1%|█▍                                                                                                                                                         | 1/111 [00:00<00:20,  5.47it/s]"
     ]
    },
    {
     "name": "stdout",
     "output_type": "stream",
     "text": [
      "Article 5\n",
      "(1) A minor must obtain the consent of the minor's legal representative to perform a juridical act;provided, however, that this does not apply to a juridical act for merely acquiring a right or being released from an obligation.\n",
      "(2) A juridical act in contravention of the provisions of the preceding paragraph is voidable.\n",
      "(3) Notwithstanding the provisions of paragraph (1), a minor may freely dispose of property that the legal representative has permitted the minor to dispose of for a specified purpose, to an extent that falls within the scope of that purpose. The same applies if the minor disposes of property that the legal representative has permitted the minor to dispose of without specifying a purpose.\n",
      "Based on the previous passage, A contract of sales concluded by a minor may not be rescinded if it relates to daily life, even in cases the consent of the parental authority is not obtained.? \n"
     ]
    },
    {
     "name": "stderr",
     "output_type": "stream",
     "text": [
      "100%|█████████████████████████████████████████████████████████████████████████████████████████████████████████████████████████████████████████████████████████| 111/111 [00:18<00:00,  5.99it/s]\n"
     ]
    },
    {
     "name": "stdout",
     "output_type": "stream",
     "text": [
      "=======================================\n",
      "{{premise}}\n",
      "Based on the previous passage, {{hypothesis}}? \n",
      "72 / 111\n",
      "Premise: {{premise}}\n",
      "\n",
      "Hypothesis: {{hypothesis}}\n",
      "\n",
      "Does the premise entail the hypothesis? Yes or no \n"
     ]
    },
    {
     "name": "stderr",
     "output_type": "stream",
     "text": [
      "  1%|█▍                                                                                                                                                         | 1/111 [00:00<00:18,  5.90it/s]"
     ]
    },
    {
     "name": "stdout",
     "output_type": "stream",
     "text": [
      "Premise: Article 5\n",
      "(1) A minor must obtain the consent of the minor's legal representative to perform a juridical act;provided, however, that this does not apply to a juridical act for merely acquiring a right or being released from an obligation.\n",
      "(2) A juridical act in contravention of the provisions of the preceding paragraph is voidable.\n",
      "(3) Notwithstanding the provisions of paragraph (1), a minor may freely dispose of property that the legal representative has permitted the minor to dispose of for a specified purpose, to an extent that falls within the scope of that purpose. The same applies if the minor disposes of property that the legal representative has permitted the minor to dispose of without specifying a purpose.\n",
      "\n",
      "Hypothesis: A contract of sales concluded by a minor may not be rescinded if it relates to daily life, even in cases the consent of the parental authority is not obtained.\n",
      "\n",
      "Does the premise entail the hypothesis? Yes or no \n"
     ]
    },
    {
     "name": "stderr",
     "output_type": "stream",
     "text": [
      "100%|█████████████████████████████████████████████████████████████████████████████████████████████████████████████████████████████████████████████████████████| 111/111 [00:17<00:00,  6.30it/s]\n"
     ]
    },
    {
     "name": "stdout",
     "output_type": "stream",
     "text": [
      "=======================================\n",
      "Premise: {{premise}}\n",
      "\n",
      "Hypothesis: {{hypothesis}}\n",
      "\n",
      "Does the premise entail the hypothesis? Yes or no \n",
      "71 / 111\n",
      "Premise: {{premise}}\n",
      "Hypothesis: {{hypothesis}}\n",
      "Is the hypothesis entailed by the premise? Yes or no \n"
     ]
    },
    {
     "name": "stderr",
     "output_type": "stream",
     "text": [
      "  1%|█▍                                                                                                                                                         | 1/111 [00:00<00:17,  6.45it/s]"
     ]
    },
    {
     "name": "stdout",
     "output_type": "stream",
     "text": [
      "Premise: Article 5\n",
      "(1) A minor must obtain the consent of the minor's legal representative to perform a juridical act;provided, however, that this does not apply to a juridical act for merely acquiring a right or being released from an obligation.\n",
      "(2) A juridical act in contravention of the provisions of the preceding paragraph is voidable.\n",
      "(3) Notwithstanding the provisions of paragraph (1), a minor may freely dispose of property that the legal representative has permitted the minor to dispose of for a specified purpose, to an extent that falls within the scope of that purpose. The same applies if the minor disposes of property that the legal representative has permitted the minor to dispose of without specifying a purpose.\n",
      "Hypothesis: A contract of sales concluded by a minor may not be rescinded if it relates to daily life, even in cases the consent of the parental authority is not obtained.\n",
      "Is the hypothesis entailed by the premise? Yes or no \n"
     ]
    },
    {
     "name": "stderr",
     "output_type": "stream",
     "text": [
      "100%|█████████████████████████████████████████████████████████████████████████████████████████████████████████████████████████████████████████████████████████| 111/111 [00:17<00:00,  6.32it/s]\n"
     ]
    },
    {
     "name": "stdout",
     "output_type": "stream",
     "text": [
      "=======================================\n",
      "Premise: {{premise}}\n",
      "Hypothesis: {{hypothesis}}\n",
      "Is the hypothesis entailed by the premise? Yes or no \n",
      "71 / 111\n",
      "Sentence 1: {{premise}}\n",
      "\n",
      "Sentence 2: {{hypothesis}}\n",
      "Is this second sentence entailed by the first sentence? Yes or No \n"
     ]
    },
    {
     "name": "stderr",
     "output_type": "stream",
     "text": [
      "  1%|█▍                                                                                                                                                         | 1/111 [00:00<00:17,  6.46it/s]"
     ]
    },
    {
     "name": "stdout",
     "output_type": "stream",
     "text": [
      "Sentence 1: Article 5\n",
      "(1) A minor must obtain the consent of the minor's legal representative to perform a juridical act;provided, however, that this does not apply to a juridical act for merely acquiring a right or being released from an obligation.\n",
      "(2) A juridical act in contravention of the provisions of the preceding paragraph is voidable.\n",
      "(3) Notwithstanding the provisions of paragraph (1), a minor may freely dispose of property that the legal representative has permitted the minor to dispose of for a specified purpose, to an extent that falls within the scope of that purpose. The same applies if the minor disposes of property that the legal representative has permitted the minor to dispose of without specifying a purpose.\n",
      "\n",
      "Sentence 2: A contract of sales concluded by a minor may not be rescinded if it relates to daily life, even in cases the consent of the parental authority is not obtained.\n",
      "Is this second sentence entailed by the first sentence? Yes or No \n"
     ]
    },
    {
     "name": "stderr",
     "output_type": "stream",
     "text": [
      "100%|█████████████████████████████████████████████████████████████████████████████████████████████████████████████████████████████████████████████████████████| 111/111 [00:18<00:00,  6.17it/s]\n"
     ]
    },
    {
     "name": "stdout",
     "output_type": "stream",
     "text": [
      "=======================================\n",
      "Sentence 1: {{premise}}\n",
      "\n",
      "Sentence 2: {{hypothesis}}\n",
      "Is this second sentence entailed by the first sentence? Yes or No \n",
      "73 / 111\n",
      "Sentence 1: {{premise}}\n",
      "\n",
      "Sentence 2: {{hypothesis}}\n",
      "\n",
      "If the first sentence is true, then is the second sentence true? True or False \n"
     ]
    },
    {
     "name": "stderr",
     "output_type": "stream",
     "text": [
      "  1%|█▍                                                                                                                                                         | 1/111 [00:00<00:27,  3.99it/s]"
     ]
    },
    {
     "name": "stdout",
     "output_type": "stream",
     "text": [
      "Sentence 1: Article 5\n",
      "(1) A minor must obtain the consent of the minor's legal representative to perform a juridical act;provided, however, that this does not apply to a juridical act for merely acquiring a right or being released from an obligation.\n",
      "(2) A juridical act in contravention of the provisions of the preceding paragraph is voidable.\n",
      "(3) Notwithstanding the provisions of paragraph (1), a minor may freely dispose of property that the legal representative has permitted the minor to dispose of for a specified purpose, to an extent that falls within the scope of that purpose. The same applies if the minor disposes of property that the legal representative has permitted the minor to dispose of without specifying a purpose.\n",
      "\n",
      "Sentence 2: A contract of sales concluded by a minor may not be rescinded if it relates to daily life, even in cases the consent of the parental authority is not obtained.\n",
      "\n",
      "If the first sentence is true, then is the second sentence true? True or False \n"
     ]
    },
    {
     "name": "stderr",
     "output_type": "stream",
     "text": [
      "100%|█████████████████████████████████████████████████████████████████████████████████████████████████████████████████████████████████████████████████████████| 111/111 [00:23<00:00,  4.76it/s]\n"
     ]
    },
    {
     "name": "stdout",
     "output_type": "stream",
     "text": [
      "=======================================\n",
      "Sentence 1: {{premise}}\n",
      "\n",
      "Sentence 2: {{hypothesis}}\n",
      "\n",
      "If the first sentence is true, then is the second sentence true? True or False \n",
      "71 / 111\n",
      "If {{premise}}, can we conclude that \"{{hypothesis}}\"? Yes or No \n"
     ]
    },
    {
     "name": "stderr",
     "output_type": "stream",
     "text": [
      "  1%|█▍                                                                                                                                                         | 1/111 [00:00<00:16,  6.60it/s]"
     ]
    },
    {
     "name": "stdout",
     "output_type": "stream",
     "text": [
      "If Article 5\n",
      "(1) A minor must obtain the consent of the minor's legal representative to perform a juridical act;provided, however, that this does not apply to a juridical act for merely acquiring a right or being released from an obligation.\n",
      "(2) A juridical act in contravention of the provisions of the preceding paragraph is voidable.\n",
      "(3) Notwithstanding the provisions of paragraph (1), a minor may freely dispose of property that the legal representative has permitted the minor to dispose of for a specified purpose, to an extent that falls within the scope of that purpose. The same applies if the minor disposes of property that the legal representative has permitted the minor to dispose of without specifying a purpose., can we conclude that \"A contract of sales concluded by a minor may not be rescinded if it relates to daily life, even in cases the consent of the parental authority is not obtained.\"? Yes or No \n"
     ]
    },
    {
     "name": "stderr",
     "output_type": "stream",
     "text": [
      "100%|█████████████████████████████████████████████████████████████████████████████████████████████████████████████████████████████████████████████████████████| 111/111 [00:18<00:00,  6.14it/s]\n"
     ]
    },
    {
     "name": "stdout",
     "output_type": "stream",
     "text": [
      "=======================================\n",
      "If {{premise}}, can we conclude that \"{{hypothesis}}\"? Yes or No \n",
      "71 / 111\n",
      "Premise: \"{{premise}}\" If this premise is true, what does that tell us about whether it entails the hypothesis \"{{hypothesis}}\"?\n",
      "\n",
      "Yes or No \n"
     ]
    },
    {
     "name": "stderr",
     "output_type": "stream",
     "text": [
      "  1%|█▍                                                                                                                                                         | 1/111 [00:00<00:20,  5.48it/s]"
     ]
    },
    {
     "name": "stdout",
     "output_type": "stream",
     "text": [
      "Premise: \"Article 5\n",
      "(1) A minor must obtain the consent of the minor's legal representative to perform a juridical act;provided, however, that this does not apply to a juridical act for merely acquiring a right or being released from an obligation.\n",
      "(2) A juridical act in contravention of the provisions of the preceding paragraph is voidable.\n",
      "(3) Notwithstanding the provisions of paragraph (1), a minor may freely dispose of property that the legal representative has permitted the minor to dispose of for a specified purpose, to an extent that falls within the scope of that purpose. The same applies if the minor disposes of property that the legal representative has permitted the minor to dispose of without specifying a purpose.\" If this premise is true, what does that tell us about whether it entails the hypothesis \"A contract of sales concluded by a minor may not be rescinded if it relates to daily life, even in cases the consent of the parental authority is not obtained.\"?\n",
      "\n",
      "Yes or No \n"
     ]
    },
    {
     "name": "stderr",
     "output_type": "stream",
     "text": [
      "100%|█████████████████████████████████████████████████████████████████████████████████████████████████████████████████████████████████████████████████████████| 111/111 [00:20<00:00,  5.52it/s]\n"
     ]
    },
    {
     "name": "stdout",
     "output_type": "stream",
     "text": [
      "=======================================\n",
      "Premise: \"{{premise}}\" If this premise is true, what does that tell us about whether it entails the hypothesis \"{{hypothesis}}\"?\n",
      "\n",
      "Yes or No \n",
      "72 / 111\n",
      "{{premise}}\n",
      "Question: {{hypothesis}} True or False?\n"
     ]
    },
    {
     "name": "stderr",
     "output_type": "stream",
     "text": [
      "  1%|█▉                                                                                                                                                          | 1/81 [00:00<00:23,  3.38it/s]"
     ]
    },
    {
     "name": "stdout",
     "output_type": "stream",
     "text": [
      "Article 15 (1) The family court may decide to commence an assistance in respect of a person whose capacity to appreciate their own situation is inadequate due to a mental disorder, at the request of the person in question, that person's spouse, that person's relative within the fourth degree of kinship, the guardian, the guardian's supervisor, the curator, the curator's supervisor, or a public prosecutor; provided, however, that this does not apply to a person with respect to whom there are grounds as prescribed in Article 7 or the main clause of Article 11.\n",
      "Article 11 The family court may decide to commence a curatorship in respect of a person whose capacity to appreciate their own situation is extremely inadequate due to a mental disorder, at the request of the person in question, the person's spouse, the person's relative within the fourth degree of kinship, the guardian, the guardian's supervisor, the assistant, the assistant's supervisor, or a public prosecutor; provided, however, that this does not apply to a person in respect of whom a cause set forth in Article 7 exists.\n",
      "Question: The family court may decide to commence an assistance also in respect of a person whose capacity to appreciate their own situation is extremely inadequate due to a mental disorder. True or False?\n"
     ]
    },
    {
     "name": "stderr",
     "output_type": "stream",
     "text": [
      "100%|███████████████████████████████████████████████████████████████████████████████████████████████████████████████████████████████████████████████████████████| 81/81 [00:16<00:00,  4.78it/s]\n"
     ]
    },
    {
     "name": "stdout",
     "output_type": "stream",
     "text": [
      "=======================================\n",
      "{{premise}}\n",
      "Question: {{hypothesis}} True or False?\n",
      "65 / 81\n",
      "{{premise}}\n",
      "Question: {{hypothesis}} True or False? \n"
     ]
    },
    {
     "name": "stderr",
     "output_type": "stream",
     "text": [
      "  1%|█▉                                                                                                                                                          | 1/81 [00:00<00:24,  3.32it/s]"
     ]
    },
    {
     "name": "stdout",
     "output_type": "stream",
     "text": [
      "Article 15 (1) The family court may decide to commence an assistance in respect of a person whose capacity to appreciate their own situation is inadequate due to a mental disorder, at the request of the person in question, that person's spouse, that person's relative within the fourth degree of kinship, the guardian, the guardian's supervisor, the curator, the curator's supervisor, or a public prosecutor; provided, however, that this does not apply to a person with respect to whom there are grounds as prescribed in Article 7 or the main clause of Article 11.\n",
      "Article 11 The family court may decide to commence a curatorship in respect of a person whose capacity to appreciate their own situation is extremely inadequate due to a mental disorder, at the request of the person in question, the person's spouse, the person's relative within the fourth degree of kinship, the guardian, the guardian's supervisor, the assistant, the assistant's supervisor, or a public prosecutor; provided, however, that this does not apply to a person in respect of whom a cause set forth in Article 7 exists.\n",
      "Question: The family court may decide to commence an assistance also in respect of a person whose capacity to appreciate their own situation is extremely inadequate due to a mental disorder. True or False? \n"
     ]
    },
    {
     "name": "stderr",
     "output_type": "stream",
     "text": [
      "100%|███████████████████████████████████████████████████████████████████████████████████████████████████████████████████████████████████████████████████████████| 81/81 [00:17<00:00,  4.72it/s]\n"
     ]
    },
    {
     "name": "stdout",
     "output_type": "stream",
     "text": [
      "=======================================\n",
      "{{premise}}\n",
      "Question: {{hypothesis}} True or False? \n",
      "65 / 81\n",
      "{{premise}} Based on that information, is the claim: \"{{hypothesis}}\" true or false?\n"
     ]
    },
    {
     "name": "stderr",
     "output_type": "stream",
     "text": [
      "  2%|███▊                                                                                                                                                        | 2/81 [00:00<00:15,  4.97it/s]"
     ]
    },
    {
     "name": "stdout",
     "output_type": "stream",
     "text": [
      "Article 15 (1) The family court may decide to commence an assistance in respect of a person whose capacity to appreciate their own situation is inadequate due to a mental disorder, at the request of the person in question, that person's spouse, that person's relative within the fourth degree of kinship, the guardian, the guardian's supervisor, the curator, the curator's supervisor, or a public prosecutor; provided, however, that this does not apply to a person with respect to whom there are grounds as prescribed in Article 7 or the main clause of Article 11.\n",
      "Article 11 The family court may decide to commence a curatorship in respect of a person whose capacity to appreciate their own situation is extremely inadequate due to a mental disorder, at the request of the person in question, the person's spouse, the person's relative within the fourth degree of kinship, the guardian, the guardian's supervisor, the assistant, the assistant's supervisor, or a public prosecutor; provided, however, that this does not apply to a person in respect of whom a cause set forth in Article 7 exists. Based on that information, is the claim: \"The family court may decide to commence an assistance also in respect of a person whose capacity to appreciate their own situation is extremely inadequate due to a mental disorder.\" true or false?\n"
     ]
    },
    {
     "name": "stderr",
     "output_type": "stream",
     "text": [
      "100%|███████████████████████████████████████████████████████████████████████████████████████████████████████████████████████████████████████████████████████████| 81/81 [00:14<00:00,  5.52it/s]\n"
     ]
    },
    {
     "name": "stdout",
     "output_type": "stream",
     "text": [
      "=======================================\n",
      "{{premise}} Based on that information, is the claim: \"{{hypothesis}}\" true or false?\n",
      "66 / 81\n",
      "EXAM\n",
      "1. Answer by yes or no.\n",
      "\n",
      "Document: {{premise}}\n",
      "Question: {{hypothesis}}? \n"
     ]
    },
    {
     "name": "stderr",
     "output_type": "stream",
     "text": [
      "  2%|███▊                                                                                                                                                        | 2/81 [00:00<00:15,  5.01it/s]"
     ]
    },
    {
     "name": "stdout",
     "output_type": "stream",
     "text": [
      "EXAM\n",
      "1. Answer by yes or no.\n",
      "\n",
      "Document: Article 15 (1) The family court may decide to commence an assistance in respect of a person whose capacity to appreciate their own situation is inadequate due to a mental disorder, at the request of the person in question, that person's spouse, that person's relative within the fourth degree of kinship, the guardian, the guardian's supervisor, the curator, the curator's supervisor, or a public prosecutor; provided, however, that this does not apply to a person with respect to whom there are grounds as prescribed in Article 7 or the main clause of Article 11.\n",
      "Article 11 The family court may decide to commence a curatorship in respect of a person whose capacity to appreciate their own situation is extremely inadequate due to a mental disorder, at the request of the person in question, the person's spouse, the person's relative within the fourth degree of kinship, the guardian, the guardian's supervisor, the assistant, the assistant's supervisor, or a public prosecutor; provided, however, that this does not apply to a person in respect of whom a cause set forth in Article 7 exists.\n",
      "Question: The family court may decide to commence an assistance also in respect of a person whose capacity to appreciate their own situation is extremely inadequate due to a mental disorder.? \n"
     ]
    },
    {
     "name": "stderr",
     "output_type": "stream",
     "text": [
      "100%|███████████████████████████████████████████████████████████████████████████████████████████████████████████████████████████████████████████████████████████| 81/81 [00:14<00:00,  5.47it/s]\n"
     ]
    },
    {
     "name": "stdout",
     "output_type": "stream",
     "text": [
      "=======================================\n",
      "EXAM\n",
      "1. Answer by yes or no.\n",
      "\n",
      "Document: {{premise}}\n",
      "Question: {{hypothesis}}? \n",
      "66 / 81\n",
      "{{premise}}\n",
      "Based on the previous passage, {{hypothesis}}? \n"
     ]
    },
    {
     "name": "stderr",
     "output_type": "stream",
     "text": [
      "  1%|█▉                                                                                                                                                          | 1/81 [00:00<00:21,  3.65it/s]"
     ]
    },
    {
     "name": "stdout",
     "output_type": "stream",
     "text": [
      "Article 15 (1) The family court may decide to commence an assistance in respect of a person whose capacity to appreciate their own situation is inadequate due to a mental disorder, at the request of the person in question, that person's spouse, that person's relative within the fourth degree of kinship, the guardian, the guardian's supervisor, the curator, the curator's supervisor, or a public prosecutor; provided, however, that this does not apply to a person with respect to whom there are grounds as prescribed in Article 7 or the main clause of Article 11.\n",
      "Article 11 The family court may decide to commence a curatorship in respect of a person whose capacity to appreciate their own situation is extremely inadequate due to a mental disorder, at the request of the person in question, the person's spouse, the person's relative within the fourth degree of kinship, the guardian, the guardian's supervisor, the assistant, the assistant's supervisor, or a public prosecutor; provided, however, that this does not apply to a person in respect of whom a cause set forth in Article 7 exists.\n",
      "Based on the previous passage, The family court may decide to commence an assistance also in respect of a person whose capacity to appreciate their own situation is extremely inadequate due to a mental disorder.? \n"
     ]
    },
    {
     "name": "stderr",
     "output_type": "stream",
     "text": [
      "  4%|█████▊                                                                                                                                                      | 3/81 [00:00<00:16,  4.71it/s]"
     ]
    },
    {
     "name": "stdout",
     "output_type": "stream",
     "text": [
      "Article 15 (1) The family court may decide to commence an assistance in respect of a person whose capacity to appreciate their own situation is inadequate due to a mental disorder, at the request of the person in question, that person's spouse, that person's relative within the fourth degree of kinship, the guardian, the guardian's supervisor, the curator, the curator's supervisor, or a public prosecutor; provided, however, that this does not apply to a person with respect to whom there are grounds as prescribed in Article 7 or the main clause of Article 11.\n",
      "(2) The issuance of a decision for commencement of assistance at the request of a person other than the person in question requires the consent of the person in question.\n",
      "Based on the previous passage, The issuance of a decision for commencement of assistance at the request of a person other than the person in question requires the consent of the person in question unless the family court finds it to be suitable.? \n"
     ]
    },
    {
     "name": "stderr",
     "output_type": "stream",
     "text": [
      "100%|███████████████████████████████████████████████████████████████████████████████████████████████████████████████████████████████████████████████████████████| 81/81 [00:15<00:00,  5.31it/s]\n"
     ]
    },
    {
     "name": "stdout",
     "output_type": "stream",
     "text": [
      "=======================================\n",
      "{{premise}}\n",
      "Based on the previous passage, {{hypothesis}}? \n",
      "60 / 81\n",
      "Premise: {{premise}}\n",
      "\n",
      "Hypothesis: {{hypothesis}}\n",
      "\n",
      "Does the premise entail the hypothesis? Yes or no \n"
     ]
    },
    {
     "name": "stderr",
     "output_type": "stream",
     "text": [
      "  1%|█▉                                                                                                                                                          | 1/81 [00:00<00:18,  4.43it/s]"
     ]
    },
    {
     "name": "stdout",
     "output_type": "stream",
     "text": [
      "Premise: Article 15 (1) The family court may decide to commence an assistance in respect of a person whose capacity to appreciate their own situation is inadequate due to a mental disorder, at the request of the person in question, that person's spouse, that person's relative within the fourth degree of kinship, the guardian, the guardian's supervisor, the curator, the curator's supervisor, or a public prosecutor; provided, however, that this does not apply to a person with respect to whom there are grounds as prescribed in Article 7 or the main clause of Article 11.\n",
      "Article 11 The family court may decide to commence a curatorship in respect of a person whose capacity to appreciate their own situation is extremely inadequate due to a mental disorder, at the request of the person in question, the person's spouse, the person's relative within the fourth degree of kinship, the guardian, the guardian's supervisor, the assistant, the assistant's supervisor, or a public prosecutor; provided, however, that this does not apply to a person in respect of whom a cause set forth in Article 7 exists.\n",
      "\n",
      "Hypothesis: The family court may decide to commence an assistance also in respect of a person whose capacity to appreciate their own situation is extremely inadequate due to a mental disorder.\n",
      "\n",
      "Does the premise entail the hypothesis? Yes or no \n"
     ]
    },
    {
     "name": "stderr",
     "output_type": "stream",
     "text": [
      "  2%|███▊                                                                                                                                                        | 2/81 [00:00<00:23,  3.42it/s]"
     ]
    },
    {
     "name": "stdout",
     "output_type": "stream",
     "text": [
      "Premise: Article 15 (1) The family court may decide to commence an assistance in respect of a person whose capacity to appreciate their own situation is inadequate due to a mental disorder, at the request of the person in question, that person's spouse, that person's relative within the fourth degree of kinship, the guardian, the guardian's supervisor, the curator, the curator's supervisor, or a public prosecutor; provided, however, that this does not apply to a person with respect to whom there are grounds as prescribed in Article 7 or the main clause of Article 11.\n",
      "(2) The issuance of a decision for commencement of assistance at the request of a person other than the person in question requires the consent of the person in question.\n",
      "\n",
      "Hypothesis: The issuance of a decision for commencement of assistance at the request of a person other than the person in question requires the consent of the person in question unless the family court finds it to be suitable.\n",
      "\n",
      "Does the premise entail the hypothesis? Yes or no \n"
     ]
    },
    {
     "name": "stderr",
     "output_type": "stream",
     "text": [
      "100%|███████████████████████████████████████████████████████████████████████████████████████████████████████████████████████████████████████████████████████████| 81/81 [00:15<00:00,  5.36it/s]\n"
     ]
    },
    {
     "name": "stdout",
     "output_type": "stream",
     "text": [
      "=======================================\n",
      "Premise: {{premise}}\n",
      "\n",
      "Hypothesis: {{hypothesis}}\n",
      "\n",
      "Does the premise entail the hypothesis? Yes or no \n",
      "64 / 81\n",
      "Premise: {{premise}}\n",
      "Hypothesis: {{hypothesis}}\n",
      "Is the hypothesis entailed by the premise? Yes or no \n"
     ]
    },
    {
     "name": "stderr",
     "output_type": "stream",
     "text": [
      "  1%|█▉                                                                                                                                                          | 1/81 [00:00<00:24,  3.31it/s]"
     ]
    },
    {
     "name": "stdout",
     "output_type": "stream",
     "text": [
      "Premise: Article 15 (1) The family court may decide to commence an assistance in respect of a person whose capacity to appreciate their own situation is inadequate due to a mental disorder, at the request of the person in question, that person's spouse, that person's relative within the fourth degree of kinship, the guardian, the guardian's supervisor, the curator, the curator's supervisor, or a public prosecutor; provided, however, that this does not apply to a person with respect to whom there are grounds as prescribed in Article 7 or the main clause of Article 11.\n",
      "Article 11 The family court may decide to commence a curatorship in respect of a person whose capacity to appreciate their own situation is extremely inadequate due to a mental disorder, at the request of the person in question, the person's spouse, the person's relative within the fourth degree of kinship, the guardian, the guardian's supervisor, the assistant, the assistant's supervisor, or a public prosecutor; provided, however, that this does not apply to a person in respect of whom a cause set forth in Article 7 exists.\n",
      "Hypothesis: The family court may decide to commence an assistance also in respect of a person whose capacity to appreciate their own situation is extremely inadequate due to a mental disorder.\n",
      "Is the hypothesis entailed by the premise? Yes or no \n"
     ]
    },
    {
     "name": "stderr",
     "output_type": "stream",
     "text": [
      "  2%|███▊                                                                                                                                                        | 2/81 [00:00<00:28,  2.75it/s]"
     ]
    },
    {
     "name": "stdout",
     "output_type": "stream",
     "text": [
      "Premise: Article 15 (1) The family court may decide to commence an assistance in respect of a person whose capacity to appreciate their own situation is inadequate due to a mental disorder, at the request of the person in question, that person's spouse, that person's relative within the fourth degree of kinship, the guardian, the guardian's supervisor, the curator, the curator's supervisor, or a public prosecutor; provided, however, that this does not apply to a person with respect to whom there are grounds as prescribed in Article 7 or the main clause of Article 11.\n",
      "(2) The issuance of a decision for commencement of assistance at the request of a person other than the person in question requires the consent of the person in question.\n",
      "Hypothesis: The issuance of a decision for commencement of assistance at the request of a person other than the person in question requires the consent of the person in question unless the family court finds it to be suitable.\n",
      "Is the hypothesis entailed by the premise? Yes or no \n"
     ]
    },
    {
     "name": "stderr",
     "output_type": "stream",
     "text": [
      "100%|███████████████████████████████████████████████████████████████████████████████████████████████████████████████████████████████████████████████████████████| 81/81 [00:15<00:00,  5.28it/s]\n"
     ]
    },
    {
     "name": "stdout",
     "output_type": "stream",
     "text": [
      "=======================================\n",
      "Premise: {{premise}}\n",
      "Hypothesis: {{hypothesis}}\n",
      "Is the hypothesis entailed by the premise? Yes or no \n",
      "65 / 81\n",
      "Sentence 1: {{premise}}\n",
      "\n",
      "Sentence 2: {{hypothesis}}\n",
      "Is this second sentence entailed by the first sentence? Yes or No \n"
     ]
    },
    {
     "name": "stderr",
     "output_type": "stream",
     "text": [
      "  1%|█▉                                                                                                                                                          | 1/81 [00:00<00:23,  3.34it/s]"
     ]
    },
    {
     "name": "stdout",
     "output_type": "stream",
     "text": [
      "Sentence 1: Article 15 (1) The family court may decide to commence an assistance in respect of a person whose capacity to appreciate their own situation is inadequate due to a mental disorder, at the request of the person in question, that person's spouse, that person's relative within the fourth degree of kinship, the guardian, the guardian's supervisor, the curator, the curator's supervisor, or a public prosecutor; provided, however, that this does not apply to a person with respect to whom there are grounds as prescribed in Article 7 or the main clause of Article 11.\n",
      "Article 11 The family court may decide to commence a curatorship in respect of a person whose capacity to appreciate their own situation is extremely inadequate due to a mental disorder, at the request of the person in question, the person's spouse, the person's relative within the fourth degree of kinship, the guardian, the guardian's supervisor, the assistant, the assistant's supervisor, or a public prosecutor; provided, however, that this does not apply to a person in respect of whom a cause set forth in Article 7 exists.\n",
      "\n",
      "Sentence 2: The family court may decide to commence an assistance also in respect of a person whose capacity to appreciate their own situation is extremely inadequate due to a mental disorder.\n",
      "Is this second sentence entailed by the first sentence? Yes or No \n"
     ]
    },
    {
     "name": "stderr",
     "output_type": "stream",
     "text": [
      "100%|███████████████████████████████████████████████████████████████████████████████████████████████████████████████████████████████████████████████████████████| 81/81 [00:15<00:00,  5.24it/s]\n"
     ]
    },
    {
     "name": "stdout",
     "output_type": "stream",
     "text": [
      "=======================================\n",
      "Sentence 1: {{premise}}\n",
      "\n",
      "Sentence 2: {{hypothesis}}\n",
      "Is this second sentence entailed by the first sentence? Yes or No \n",
      "66 / 81\n",
      "Sentence 1: {{premise}}\n",
      "\n",
      "Sentence 2: {{hypothesis}}\n",
      "\n",
      "If the first sentence is true, then is the second sentence true? True or False \n"
     ]
    },
    {
     "name": "stderr",
     "output_type": "stream",
     "text": [
      "  1%|█▉                                                                                                                                                          | 1/81 [00:00<00:36,  2.20it/s]"
     ]
    },
    {
     "name": "stdout",
     "output_type": "stream",
     "text": [
      "Sentence 1: Article 15 (1) The family court may decide to commence an assistance in respect of a person whose capacity to appreciate their own situation is inadequate due to a mental disorder, at the request of the person in question, that person's spouse, that person's relative within the fourth degree of kinship, the guardian, the guardian's supervisor, the curator, the curator's supervisor, or a public prosecutor; provided, however, that this does not apply to a person with respect to whom there are grounds as prescribed in Article 7 or the main clause of Article 11.\n",
      "Article 11 The family court may decide to commence a curatorship in respect of a person whose capacity to appreciate their own situation is extremely inadequate due to a mental disorder, at the request of the person in question, the person's spouse, the person's relative within the fourth degree of kinship, the guardian, the guardian's supervisor, the assistant, the assistant's supervisor, or a public prosecutor; provided, however, that this does not apply to a person in respect of whom a cause set forth in Article 7 exists.\n",
      "\n",
      "Sentence 2: The family court may decide to commence an assistance also in respect of a person whose capacity to appreciate their own situation is extremely inadequate due to a mental disorder.\n",
      "\n",
      "If the first sentence is true, then is the second sentence true? True or False \n"
     ]
    },
    {
     "name": "stderr",
     "output_type": "stream",
     "text": [
      "100%|███████████████████████████████████████████████████████████████████████████████████████████████████████████████████████████████████████████████████████████| 81/81 [00:19<00:00,  4.11it/s]\n"
     ]
    },
    {
     "name": "stdout",
     "output_type": "stream",
     "text": [
      "=======================================\n",
      "Sentence 1: {{premise}}\n",
      "\n",
      "Sentence 2: {{hypothesis}}\n",
      "\n",
      "If the first sentence is true, then is the second sentence true? True or False \n",
      "65 / 81\n",
      "If {{premise}}, can we conclude that \"{{hypothesis}}\"? Yes or No \n"
     ]
    },
    {
     "name": "stderr",
     "output_type": "stream",
     "text": [
      "  1%|█▉                                                                                                                                                          | 1/81 [00:00<00:24,  3.30it/s]"
     ]
    },
    {
     "name": "stdout",
     "output_type": "stream",
     "text": [
      "If Article 15 (1) The family court may decide to commence an assistance in respect of a person whose capacity to appreciate their own situation is inadequate due to a mental disorder, at the request of the person in question, that person's spouse, that person's relative within the fourth degree of kinship, the guardian, the guardian's supervisor, the curator, the curator's supervisor, or a public prosecutor; provided, however, that this does not apply to a person with respect to whom there are grounds as prescribed in Article 7 or the main clause of Article 11.\n",
      "Article 11 The family court may decide to commence a curatorship in respect of a person whose capacity to appreciate their own situation is extremely inadequate due to a mental disorder, at the request of the person in question, the person's spouse, the person's relative within the fourth degree of kinship, the guardian, the guardian's supervisor, the assistant, the assistant's supervisor, or a public prosecutor; provided, however, that this does not apply to a person in respect of whom a cause set forth in Article 7 exists., can we conclude that \"The family court may decide to commence an assistance also in respect of a person whose capacity to appreciate their own situation is extremely inadequate due to a mental disorder.\"? Yes or No \n"
     ]
    },
    {
     "name": "stderr",
     "output_type": "stream",
     "text": [
      "  4%|█████▊                                                                                                                                                      | 3/81 [00:00<00:17,  4.50it/s]"
     ]
    },
    {
     "name": "stdout",
     "output_type": "stream",
     "text": [
      "If Article 15 (1) The family court may decide to commence an assistance in respect of a person whose capacity to appreciate their own situation is inadequate due to a mental disorder, at the request of the person in question, that person's spouse, that person's relative within the fourth degree of kinship, the guardian, the guardian's supervisor, the curator, the curator's supervisor, or a public prosecutor; provided, however, that this does not apply to a person with respect to whom there are grounds as prescribed in Article 7 or the main clause of Article 11.\n",
      "(2) The issuance of a decision for commencement of assistance at the request of a person other than the person in question requires the consent of the person in question., can we conclude that \"The issuance of a decision for commencement of assistance at the request of a person other than the person in question requires the consent of the person in question unless the family court finds it to be suitable.\"? Yes or No \n"
     ]
    },
    {
     "name": "stderr",
     "output_type": "stream",
     "text": [
      "100%|███████████████████████████████████████████████████████████████████████████████████████████████████████████████████████████████████████████████████████████| 81/81 [00:15<00:00,  5.27it/s]\n"
     ]
    },
    {
     "name": "stdout",
     "output_type": "stream",
     "text": [
      "=======================================\n",
      "If {{premise}}, can we conclude that \"{{hypothesis}}\"? Yes or No \n",
      "63 / 81\n",
      "Premise: \"{{premise}}\" If this premise is true, what does that tell us about whether it entails the hypothesis \"{{hypothesis}}\"?\n",
      "\n",
      "Yes or No \n"
     ]
    },
    {
     "name": "stderr",
     "output_type": "stream",
     "text": [
      "  1%|█▉                                                                                                                                                          | 1/81 [00:00<00:19,  4.13it/s]"
     ]
    },
    {
     "name": "stdout",
     "output_type": "stream",
     "text": [
      "Premise: \"Article 15 (1) The family court may decide to commence an assistance in respect of a person whose capacity to appreciate their own situation is inadequate due to a mental disorder, at the request of the person in question, that person's spouse, that person's relative within the fourth degree of kinship, the guardian, the guardian's supervisor, the curator, the curator's supervisor, or a public prosecutor; provided, however, that this does not apply to a person with respect to whom there are grounds as prescribed in Article 7 or the main clause of Article 11.\n",
      "Article 11 The family court may decide to commence a curatorship in respect of a person whose capacity to appreciate their own situation is extremely inadequate due to a mental disorder, at the request of the person in question, the person's spouse, the person's relative within the fourth degree of kinship, the guardian, the guardian's supervisor, the assistant, the assistant's supervisor, or a public prosecutor; provided, however, that this does not apply to a person in respect of whom a cause set forth in Article 7 exists.\" If this premise is true, what does that tell us about whether it entails the hypothesis \"The family court may decide to commence an assistance also in respect of a person whose capacity to appreciate their own situation is extremely inadequate due to a mental disorder.\"?\n",
      "\n",
      "Yes or No \n"
     ]
    },
    {
     "name": "stderr",
     "output_type": "stream",
     "text": [
      "  4%|█████▊                                                                                                                                                      | 3/81 [00:00<00:19,  4.05it/s]"
     ]
    },
    {
     "name": "stdout",
     "output_type": "stream",
     "text": [
      "Premise: \"Article 15 (1) The family court may decide to commence an assistance in respect of a person whose capacity to appreciate their own situation is inadequate due to a mental disorder, at the request of the person in question, that person's spouse, that person's relative within the fourth degree of kinship, the guardian, the guardian's supervisor, the curator, the curator's supervisor, or a public prosecutor; provided, however, that this does not apply to a person with respect to whom there are grounds as prescribed in Article 7 or the main clause of Article 11.\n",
      "(2) The issuance of a decision for commencement of assistance at the request of a person other than the person in question requires the consent of the person in question.\" If this premise is true, what does that tell us about whether it entails the hypothesis \"The issuance of a decision for commencement of assistance at the request of a person other than the person in question requires the consent of the person in question unless the family court finds it to be suitable.\"?\n",
      "\n",
      "Yes or No \n"
     ]
    },
    {
     "name": "stderr",
     "output_type": "stream",
     "text": [
      "100%|███████████████████████████████████████████████████████████████████████████████████████████████████████████████████████████████████████████████████████████| 81/81 [00:15<00:00,  5.13it/s]\n"
     ]
    },
    {
     "name": "stdout",
     "output_type": "stream",
     "text": [
      "=======================================\n",
      "Premise: \"{{premise}}\" If this premise is true, what does that tell us about whether it entails the hypothesis \"{{hypothesis}}\"?\n",
      "\n",
      "Yes or No \n",
      "63 / 81\n",
      "{{premise}}\n",
      "Question: {{hypothesis}} True or False?\n"
     ]
    },
    {
     "name": "stderr",
     "output_type": "stream",
     "text": [
      "  1%|█▍                                                                                                                                                         | 1/109 [00:00<00:28,  3.82it/s]"
     ]
    },
    {
     "name": "stdout",
     "output_type": "stream",
     "text": [
      "Article 32 (1) Having received proof that a missing person is alive or that a missing person died at a time different from the time set forth in the preceding Article, the family court, at the request of the missing person or an interested person, must rescind the declaration of that person's disappearance. In this case, the rescission does not affect the validity of any act performed in good faith after the declaration of disappearance but before the rescission thereof.\n",
      "(2) A person who has acquired property due to a declaration of disappearance loses the rights in question due to its rescission; provided, however, that the person has the obligation to return that property only to the extent currently enriched.\n",
      "Question: In the event that a declaration of disappearance is rescinded, a person who has acquired property due to the declaration of disappearance must return to the missing person the full amount of the benefits received from the acquisition of the property, even if the person acted in good faith regarding the survival of the missing person. True or False?\n"
     ]
    },
    {
     "name": "stderr",
     "output_type": "stream",
     "text": [
      "100%|█████████████████████████████████████████████████████████████████████████████████████████████████████████████████████████████████████████████████████████| 109/109 [00:26<00:00,  4.09it/s]\n"
     ]
    },
    {
     "name": "stdout",
     "output_type": "stream",
     "text": [
      "=======================================\n",
      "{{premise}}\n",
      "Question: {{hypothesis}} True or False?\n",
      "81 / 109\n",
      "{{premise}}\n",
      "Question: {{hypothesis}} True or False? \n"
     ]
    },
    {
     "name": "stderr",
     "output_type": "stream",
     "text": [
      "  1%|█▍                                                                                                                                                         | 1/109 [00:00<00:27,  3.95it/s]"
     ]
    },
    {
     "name": "stdout",
     "output_type": "stream",
     "text": [
      "Article 32 (1) Having received proof that a missing person is alive or that a missing person died at a time different from the time set forth in the preceding Article, the family court, at the request of the missing person or an interested person, must rescind the declaration of that person's disappearance. In this case, the rescission does not affect the validity of any act performed in good faith after the declaration of disappearance but before the rescission thereof.\n",
      "(2) A person who has acquired property due to a declaration of disappearance loses the rights in question due to its rescission; provided, however, that the person has the obligation to return that property only to the extent currently enriched.\n",
      "Question: In the event that a declaration of disappearance is rescinded, a person who has acquired property due to the declaration of disappearance must return to the missing person the full amount of the benefits received from the acquisition of the property, even if the person acted in good faith regarding the survival of the missing person. True or False? \n"
     ]
    },
    {
     "name": "stderr",
     "output_type": "stream",
     "text": [
      "100%|█████████████████████████████████████████████████████████████████████████████████████████████████████████████████████████████████████████████████████████| 109/109 [00:26<00:00,  4.04it/s]\n"
     ]
    },
    {
     "name": "stdout",
     "output_type": "stream",
     "text": [
      "=======================================\n",
      "{{premise}}\n",
      "Question: {{hypothesis}} True or False? \n",
      "82 / 109\n",
      "{{premise}} Based on that information, is the claim: \"{{hypothesis}}\" true or false?\n"
     ]
    },
    {
     "name": "stderr",
     "output_type": "stream",
     "text": [
      "  1%|█▍                                                                                                                                                         | 1/109 [00:00<00:22,  4.73it/s]"
     ]
    },
    {
     "name": "stdout",
     "output_type": "stream",
     "text": [
      "Article 32 (1) Having received proof that a missing person is alive or that a missing person died at a time different from the time set forth in the preceding Article, the family court, at the request of the missing person or an interested person, must rescind the declaration of that person's disappearance. In this case, the rescission does not affect the validity of any act performed in good faith after the declaration of disappearance but before the rescission thereof.\n",
      "(2) A person who has acquired property due to a declaration of disappearance loses the rights in question due to its rescission; provided, however, that the person has the obligation to return that property only to the extent currently enriched. Based on that information, is the claim: \"In the event that a declaration of disappearance is rescinded, a person who has acquired property due to the declaration of disappearance must return to the missing person the full amount of the benefits received from the acquisition of the property, even if the person acted in good faith regarding the survival of the missing person.\" true or false?\n"
     ]
    },
    {
     "name": "stderr",
     "output_type": "stream",
     "text": [
      "100%|█████████████████████████████████████████████████████████████████████████████████████████████████████████████████████████████████████████████████████████| 109/109 [00:23<00:00,  4.57it/s]\n"
     ]
    },
    {
     "name": "stdout",
     "output_type": "stream",
     "text": [
      "=======================================\n",
      "{{premise}} Based on that information, is the claim: \"{{hypothesis}}\" true or false?\n",
      "81 / 109\n",
      "EXAM\n",
      "1. Answer by yes or no.\n",
      "\n",
      "Document: {{premise}}\n",
      "Question: {{hypothesis}}? \n"
     ]
    },
    {
     "name": "stderr",
     "output_type": "stream",
     "text": [
      "  1%|█▍                                                                                                                                                         | 1/109 [00:00<00:20,  5.21it/s]"
     ]
    },
    {
     "name": "stdout",
     "output_type": "stream",
     "text": [
      "EXAM\n",
      "1. Answer by yes or no.\n",
      "\n",
      "Document: Article 32 (1) Having received proof that a missing person is alive or that a missing person died at a time different from the time set forth in the preceding Article, the family court, at the request of the missing person or an interested person, must rescind the declaration of that person's disappearance. In this case, the rescission does not affect the validity of any act performed in good faith after the declaration of disappearance but before the rescission thereof.\n",
      "(2) A person who has acquired property due to a declaration of disappearance loses the rights in question due to its rescission; provided, however, that the person has the obligation to return that property only to the extent currently enriched.\n",
      "Question: In the event that a declaration of disappearance is rescinded, a person who has acquired property due to the declaration of disappearance must return to the missing person the full amount of the benefits received from the acquisition of the property, even if the person acted in good faith regarding the survival of the missing person.? \n"
     ]
    },
    {
     "name": "stderr",
     "output_type": "stream",
     "text": [
      "100%|█████████████████████████████████████████████████████████████████████████████████████████████████████████████████████████████████████████████████████████| 109/109 [00:23<00:00,  4.56it/s]\n"
     ]
    },
    {
     "name": "stdout",
     "output_type": "stream",
     "text": [
      "=======================================\n",
      "EXAM\n",
      "1. Answer by yes or no.\n",
      "\n",
      "Document: {{premise}}\n",
      "Question: {{hypothesis}}? \n",
      "82 / 109\n",
      "{{premise}}\n",
      "Based on the previous passage, {{hypothesis}}? \n"
     ]
    },
    {
     "name": "stderr",
     "output_type": "stream",
     "text": [
      "  1%|█▍                                                                                                                                                         | 1/109 [00:00<00:19,  5.40it/s]"
     ]
    },
    {
     "name": "stdout",
     "output_type": "stream",
     "text": [
      "Article 32 (1) Having received proof that a missing person is alive or that a missing person died at a time different from the time set forth in the preceding Article, the family court, at the request of the missing person or an interested person, must rescind the declaration of that person's disappearance. In this case, the rescission does not affect the validity of any act performed in good faith after the declaration of disappearance but before the rescission thereof.\n",
      "(2) A person who has acquired property due to a declaration of disappearance loses the rights in question due to its rescission; provided, however, that the person has the obligation to return that property only to the extent currently enriched.\n",
      "Based on the previous passage, In the event that a declaration of disappearance is rescinded, a person who has acquired property due to the declaration of disappearance must return to the missing person the full amount of the benefits received from the acquisition of the property, even if the person acted in good faith regarding the survival of the missing person.? \n"
     ]
    },
    {
     "name": "stderr",
     "output_type": "stream",
     "text": [
      "100%|█████████████████████████████████████████████████████████████████████████████████████████████████████████████████████████████████████████████████████████| 109/109 [00:24<00:00,  4.50it/s]\n"
     ]
    },
    {
     "name": "stdout",
     "output_type": "stream",
     "text": [
      "=======================================\n",
      "{{premise}}\n",
      "Based on the previous passage, {{hypothesis}}? \n",
      "77 / 109\n",
      "Premise: {{premise}}\n",
      "\n",
      "Hypothesis: {{hypothesis}}\n",
      "\n",
      "Does the premise entail the hypothesis? Yes or no \n"
     ]
    },
    {
     "name": "stderr",
     "output_type": "stream",
     "text": [
      "  1%|█▍                                                                                                                                                         | 1/109 [00:00<00:20,  5.37it/s]"
     ]
    },
    {
     "name": "stdout",
     "output_type": "stream",
     "text": [
      "Premise: Article 32 (1) Having received proof that a missing person is alive or that a missing person died at a time different from the time set forth in the preceding Article, the family court, at the request of the missing person or an interested person, must rescind the declaration of that person's disappearance. In this case, the rescission does not affect the validity of any act performed in good faith after the declaration of disappearance but before the rescission thereof.\n",
      "(2) A person who has acquired property due to a declaration of disappearance loses the rights in question due to its rescission; provided, however, that the person has the obligation to return that property only to the extent currently enriched.\n",
      "\n",
      "Hypothesis: In the event that a declaration of disappearance is rescinded, a person who has acquired property due to the declaration of disappearance must return to the missing person the full amount of the benefits received from the acquisition of the property, even if the person acted in good faith regarding the survival of the missing person.\n",
      "\n",
      "Does the premise entail the hypothesis? Yes or no \n"
     ]
    },
    {
     "name": "stderr",
     "output_type": "stream",
     "text": [
      "100%|█████████████████████████████████████████████████████████████████████████████████████████████████████████████████████████████████████████████████████████| 109/109 [00:24<00:00,  4.40it/s]\n"
     ]
    },
    {
     "name": "stdout",
     "output_type": "stream",
     "text": [
      "=======================================\n",
      "Premise: {{premise}}\n",
      "\n",
      "Hypothesis: {{hypothesis}}\n",
      "\n",
      "Does the premise entail the hypothesis? Yes or no \n",
      "78 / 109\n",
      "Premise: {{premise}}\n",
      "Hypothesis: {{hypothesis}}\n",
      "Is the hypothesis entailed by the premise? Yes or no \n"
     ]
    },
    {
     "name": "stderr",
     "output_type": "stream",
     "text": [
      "  1%|█▍                                                                                                                                                         | 1/109 [00:00<00:20,  5.26it/s]"
     ]
    },
    {
     "name": "stdout",
     "output_type": "stream",
     "text": [
      "Premise: Article 32 (1) Having received proof that a missing person is alive or that a missing person died at a time different from the time set forth in the preceding Article, the family court, at the request of the missing person or an interested person, must rescind the declaration of that person's disappearance. In this case, the rescission does not affect the validity of any act performed in good faith after the declaration of disappearance but before the rescission thereof.\n",
      "(2) A person who has acquired property due to a declaration of disappearance loses the rights in question due to its rescission; provided, however, that the person has the obligation to return that property only to the extent currently enriched.\n",
      "Hypothesis: In the event that a declaration of disappearance is rescinded, a person who has acquired property due to the declaration of disappearance must return to the missing person the full amount of the benefits received from the acquisition of the property, even if the person acted in good faith regarding the survival of the missing person.\n",
      "Is the hypothesis entailed by the premise? Yes or no \n"
     ]
    },
    {
     "name": "stderr",
     "output_type": "stream",
     "text": [
      "100%|█████████████████████████████████████████████████████████████████████████████████████████████████████████████████████████████████████████████████████████| 109/109 [00:24<00:00,  4.40it/s]\n"
     ]
    },
    {
     "name": "stdout",
     "output_type": "stream",
     "text": [
      "=======================================\n",
      "Premise: {{premise}}\n",
      "Hypothesis: {{hypothesis}}\n",
      "Is the hypothesis entailed by the premise? Yes or no \n",
      "79 / 109\n",
      "Sentence 1: {{premise}}\n",
      "\n",
      "Sentence 2: {{hypothesis}}\n",
      "Is this second sentence entailed by the first sentence? Yes or No \n"
     ]
    },
    {
     "name": "stderr",
     "output_type": "stream",
     "text": [
      "  1%|█▍                                                                                                                                                         | 1/109 [00:00<00:21,  5.08it/s]"
     ]
    },
    {
     "name": "stdout",
     "output_type": "stream",
     "text": [
      "Sentence 1: Article 32 (1) Having received proof that a missing person is alive or that a missing person died at a time different from the time set forth in the preceding Article, the family court, at the request of the missing person or an interested person, must rescind the declaration of that person's disappearance. In this case, the rescission does not affect the validity of any act performed in good faith after the declaration of disappearance but before the rescission thereof.\n",
      "(2) A person who has acquired property due to a declaration of disappearance loses the rights in question due to its rescission; provided, however, that the person has the obligation to return that property only to the extent currently enriched.\n",
      "\n",
      "Sentence 2: In the event that a declaration of disappearance is rescinded, a person who has acquired property due to the declaration of disappearance must return to the missing person the full amount of the benefits received from the acquisition of the property, even if the person acted in good faith regarding the survival of the missing person.\n",
      "Is this second sentence entailed by the first sentence? Yes or No \n"
     ]
    },
    {
     "name": "stderr",
     "output_type": "stream",
     "text": [
      "100%|█████████████████████████████████████████████████████████████████████████████████████████████████████████████████████████████████████████████████████████| 109/109 [00:25<00:00,  4.32it/s]\n"
     ]
    },
    {
     "name": "stdout",
     "output_type": "stream",
     "text": [
      "=======================================\n",
      "Sentence 1: {{premise}}\n",
      "\n",
      "Sentence 2: {{hypothesis}}\n",
      "Is this second sentence entailed by the first sentence? Yes or No \n",
      "79 / 109\n",
      "Sentence 1: {{premise}}\n",
      "\n",
      "Sentence 2: {{hypothesis}}\n",
      "\n",
      "If the first sentence is true, then is the second sentence true? True or False \n"
     ]
    },
    {
     "name": "stderr",
     "output_type": "stream",
     "text": [
      "  1%|█▍                                                                                                                                                         | 1/109 [00:00<00:32,  3.33it/s]"
     ]
    },
    {
     "name": "stdout",
     "output_type": "stream",
     "text": [
      "Sentence 1: Article 32 (1) Having received proof that a missing person is alive or that a missing person died at a time different from the time set forth in the preceding Article, the family court, at the request of the missing person or an interested person, must rescind the declaration of that person's disappearance. In this case, the rescission does not affect the validity of any act performed in good faith after the declaration of disappearance but before the rescission thereof.\n",
      "(2) A person who has acquired property due to a declaration of disappearance loses the rights in question due to its rescission; provided, however, that the person has the obligation to return that property only to the extent currently enriched.\n",
      "\n",
      "Sentence 2: In the event that a declaration of disappearance is rescinded, a person who has acquired property due to the declaration of disappearance must return to the missing person the full amount of the benefits received from the acquisition of the property, even if the person acted in good faith regarding the survival of the missing person.\n",
      "\n",
      "If the first sentence is true, then is the second sentence true? True or False \n"
     ]
    },
    {
     "name": "stderr",
     "output_type": "stream",
     "text": [
      "100%|█████████████████████████████████████████████████████████████████████████████████████████████████████████████████████████████████████████████████████████| 109/109 [00:31<00:00,  3.49it/s]\n"
     ]
    },
    {
     "name": "stdout",
     "output_type": "stream",
     "text": [
      "=======================================\n",
      "Sentence 1: {{premise}}\n",
      "\n",
      "Sentence 2: {{hypothesis}}\n",
      "\n",
      "If the first sentence is true, then is the second sentence true? True or False \n",
      "74 / 109\n",
      "If {{premise}}, can we conclude that \"{{hypothesis}}\"? Yes or No \n"
     ]
    },
    {
     "name": "stderr",
     "output_type": "stream",
     "text": [
      "  1%|█▍                                                                                                                                                         | 1/109 [00:00<00:26,  4.01it/s]"
     ]
    },
    {
     "name": "stdout",
     "output_type": "stream",
     "text": [
      "If Article 32 (1) Having received proof that a missing person is alive or that a missing person died at a time different from the time set forth in the preceding Article, the family court, at the request of the missing person or an interested person, must rescind the declaration of that person's disappearance. In this case, the rescission does not affect the validity of any act performed in good faith after the declaration of disappearance but before the rescission thereof.\n",
      "(2) A person who has acquired property due to a declaration of disappearance loses the rights in question due to its rescission; provided, however, that the person has the obligation to return that property only to the extent currently enriched., can we conclude that \"In the event that a declaration of disappearance is rescinded, a person who has acquired property due to the declaration of disappearance must return to the missing person the full amount of the benefits received from the acquisition of the property, even if the person acted in good faith regarding the survival of the missing person.\"? Yes or No \n"
     ]
    },
    {
     "name": "stderr",
     "output_type": "stream",
     "text": [
      "100%|█████████████████████████████████████████████████████████████████████████████████████████████████████████████████████████████████████████████████████████| 109/109 [00:24<00:00,  4.49it/s]\n"
     ]
    },
    {
     "name": "stdout",
     "output_type": "stream",
     "text": [
      "=======================================\n",
      "If {{premise}}, can we conclude that \"{{hypothesis}}\"? Yes or No \n",
      "82 / 109\n",
      "Premise: \"{{premise}}\" If this premise is true, what does that tell us about whether it entails the hypothesis \"{{hypothesis}}\"?\n",
      "\n",
      "Yes or No \n"
     ]
    },
    {
     "name": "stderr",
     "output_type": "stream",
     "text": [
      "  1%|█▍                                                                                                                                                         | 1/109 [00:00<00:27,  3.99it/s]"
     ]
    },
    {
     "name": "stdout",
     "output_type": "stream",
     "text": [
      "Premise: \"Article 32 (1) Having received proof that a missing person is alive or that a missing person died at a time different from the time set forth in the preceding Article, the family court, at the request of the missing person or an interested person, must rescind the declaration of that person's disappearance. In this case, the rescission does not affect the validity of any act performed in good faith after the declaration of disappearance but before the rescission thereof.\n",
      "(2) A person who has acquired property due to a declaration of disappearance loses the rights in question due to its rescission; provided, however, that the person has the obligation to return that property only to the extent currently enriched.\" If this premise is true, what does that tell us about whether it entails the hypothesis \"In the event that a declaration of disappearance is rescinded, a person who has acquired property due to the declaration of disappearance must return to the missing person the full amount of the benefits received from the acquisition of the property, even if the person acted in good faith regarding the survival of the missing person.\"?\n",
      "\n",
      "Yes or No \n"
     ]
    },
    {
     "name": "stderr",
     "output_type": "stream",
     "text": [
      "100%|█████████████████████████████████████████████████████████████████████████████████████████████████████████████████████████████████████████████████████████| 109/109 [00:25<00:00,  4.20it/s]\n"
     ]
    },
    {
     "name": "stdout",
     "output_type": "stream",
     "text": [
      "=======================================\n",
      "Premise: \"{{premise}}\" If this premise is true, what does that tell us about whether it entails the hypothesis \"{{hypothesis}}\"?\n",
      "\n",
      "Yes or No \n",
      "81 / 109\n",
      "{{premise}}\n",
      "Question: {{hypothesis}} True or False?\n"
     ]
    },
    {
     "name": "stderr",
     "output_type": "stream",
     "text": [
      "  2%|███                                                                                                                                                        | 2/101 [00:00<00:22,  4.40it/s]"
     ]
    },
    {
     "name": "stdout",
     "output_type": "stream",
     "text": [
      "Article 5 (1) A minor must obtain the consent of the minor's legal representative to perform a juridical act;provided, however, that this does not apply to a juridical act for merely acquiring a right or being released from an obligation.\n",
      "(2) A juridical act in contravention of the provisions of the preceding paragraph is voidable.\n",
      "Article 6 (1) A minor who is permitted to conduct one or multiple types of business has the same capacity to act as an adult as far as that business is concerned.\n",
      "Question: A juridical act by a minor who is permitted to conduct business may not be rescinded even if the judicial act does not concern the business. True or False?\n"
     ]
    },
    {
     "name": "stderr",
     "output_type": "stream",
     "text": [
      "100%|█████████████████████████████████████████████████████████████████████████████████████████████████████████████████████████████████████████████████████████| 101/101 [00:22<00:00,  4.51it/s]\n"
     ]
    },
    {
     "name": "stdout",
     "output_type": "stream",
     "text": [
      "=======================================\n",
      "{{premise}}\n",
      "Question: {{hypothesis}} True or False?\n",
      "79 / 101\n",
      "{{premise}}\n",
      "Question: {{hypothesis}} True or False? \n"
     ]
    },
    {
     "name": "stderr",
     "output_type": "stream",
     "text": [
      "  1%|█▌                                                                                                                                                         | 1/101 [00:00<00:31,  3.18it/s]"
     ]
    },
    {
     "name": "stdout",
     "output_type": "stream",
     "text": [
      "Article 5 (1) A minor must obtain the consent of the minor's legal representative to perform a juridical act;provided, however, that this does not apply to a juridical act for merely acquiring a right or being released from an obligation.\n",
      "(2) A juridical act in contravention of the provisions of the preceding paragraph is voidable.\n",
      "Article 6 (1) A minor who is permitted to conduct one or multiple types of business has the same capacity to act as an adult as far as that business is concerned.\n",
      "Question: A juridical act by a minor who is permitted to conduct business may not be rescinded even if the judicial act does not concern the business. True or False? \n"
     ]
    },
    {
     "name": "stderr",
     "output_type": "stream",
     "text": [
      "100%|█████████████████████████████████████████████████████████████████████████████████████████████████████████████████████████████████████████████████████████| 101/101 [00:23<00:00,  4.38it/s]\n"
     ]
    },
    {
     "name": "stdout",
     "output_type": "stream",
     "text": [
      "=======================================\n",
      "{{premise}}\n",
      "Question: {{hypothesis}} True or False? \n",
      "79 / 101\n",
      "{{premise}} Based on that information, is the claim: \"{{hypothesis}}\" true or false?\n"
     ]
    },
    {
     "name": "stderr",
     "output_type": "stream",
     "text": [
      "  1%|█▌                                                                                                                                                         | 1/101 [00:00<00:16,  5.96it/s]"
     ]
    },
    {
     "name": "stdout",
     "output_type": "stream",
     "text": [
      "Article 5 (1) A minor must obtain the consent of the minor's legal representative to perform a juridical act;provided, however, that this does not apply to a juridical act for merely acquiring a right or being released from an obligation.\n",
      "(2) A juridical act in contravention of the provisions of the preceding paragraph is voidable.\n",
      "Article 6 (1) A minor who is permitted to conduct one or multiple types of business has the same capacity to act as an adult as far as that business is concerned. Based on that information, is the claim: \"A juridical act by a minor who is permitted to conduct business may not be rescinded even if the judicial act does not concern the business.\" true or false?\n"
     ]
    },
    {
     "name": "stderr",
     "output_type": "stream",
     "text": [
      "100%|█████████████████████████████████████████████████████████████████████████████████████████████████████████████████████████████████████████████████████████| 101/101 [00:20<00:00,  4.99it/s]\n"
     ]
    },
    {
     "name": "stdout",
     "output_type": "stream",
     "text": [
      "=======================================\n",
      "{{premise}} Based on that information, is the claim: \"{{hypothesis}}\" true or false?\n",
      "79 / 101\n",
      "EXAM\n",
      "1. Answer by yes or no.\n",
      "\n",
      "Document: {{premise}}\n",
      "Question: {{hypothesis}}? \n"
     ]
    },
    {
     "name": "stderr",
     "output_type": "stream",
     "text": [
      "  1%|█▌                                                                                                                                                         | 1/101 [00:00<00:16,  6.03it/s]"
     ]
    },
    {
     "name": "stdout",
     "output_type": "stream",
     "text": [
      "EXAM\n",
      "1. Answer by yes or no.\n",
      "\n",
      "Document: Article 5 (1) A minor must obtain the consent of the minor's legal representative to perform a juridical act;provided, however, that this does not apply to a juridical act for merely acquiring a right or being released from an obligation.\n",
      "(2) A juridical act in contravention of the provisions of the preceding paragraph is voidable.\n",
      "Article 6 (1) A minor who is permitted to conduct one or multiple types of business has the same capacity to act as an adult as far as that business is concerned.\n",
      "Question: A juridical act by a minor who is permitted to conduct business may not be rescinded even if the judicial act does not concern the business.? \n"
     ]
    },
    {
     "name": "stderr",
     "output_type": "stream",
     "text": [
      "100%|█████████████████████████████████████████████████████████████████████████████████████████████████████████████████████████████████████████████████████████| 101/101 [00:18<00:00,  5.36it/s]\n"
     ]
    },
    {
     "name": "stdout",
     "output_type": "stream",
     "text": [
      "=======================================\n",
      "EXAM\n",
      "1. Answer by yes or no.\n",
      "\n",
      "Document: {{premise}}\n",
      "Question: {{hypothesis}}? \n",
      "76 / 101\n",
      "{{premise}}\n",
      "Based on the previous passage, {{hypothesis}}? \n"
     ]
    },
    {
     "name": "stderr",
     "output_type": "stream",
     "text": [
      "  1%|█▌                                                                                                                                                         | 1/101 [00:00<00:18,  5.29it/s]"
     ]
    },
    {
     "name": "stdout",
     "output_type": "stream",
     "text": [
      "Article 5 (1) A minor must obtain the consent of the minor's legal representative to perform a juridical act;provided, however, that this does not apply to a juridical act for merely acquiring a right or being released from an obligation.\n",
      "(2) A juridical act in contravention of the provisions of the preceding paragraph is voidable.\n",
      "Article 6 (1) A minor who is permitted to conduct one or multiple types of business has the same capacity to act as an adult as far as that business is concerned.\n",
      "Based on the previous passage, A juridical act by a minor who is permitted to conduct business may not be rescinded even if the judicial act does not concern the business.? \n"
     ]
    },
    {
     "name": "stderr",
     "output_type": "stream",
     "text": [
      "100%|█████████████████████████████████████████████████████████████████████████████████████████████████████████████████████████████████████████████████████████| 101/101 [00:19<00:00,  5.24it/s]\n"
     ]
    },
    {
     "name": "stdout",
     "output_type": "stream",
     "text": [
      "=======================================\n",
      "{{premise}}\n",
      "Based on the previous passage, {{hypothesis}}? \n",
      "80 / 101\n",
      "Premise: {{premise}}\n",
      "\n",
      "Hypothesis: {{hypothesis}}\n",
      "\n",
      "Does the premise entail the hypothesis? Yes or no \n"
     ]
    },
    {
     "name": "stderr",
     "output_type": "stream",
     "text": [
      "  1%|█▌                                                                                                                                                         | 1/101 [00:00<00:17,  5.56it/s]"
     ]
    },
    {
     "name": "stdout",
     "output_type": "stream",
     "text": [
      "Premise: Article 5 (1) A minor must obtain the consent of the minor's legal representative to perform a juridical act;provided, however, that this does not apply to a juridical act for merely acquiring a right or being released from an obligation.\n",
      "(2) A juridical act in contravention of the provisions of the preceding paragraph is voidable.\n",
      "Article 6 (1) A minor who is permitted to conduct one or multiple types of business has the same capacity to act as an adult as far as that business is concerned.\n",
      "\n",
      "Hypothesis: A juridical act by a minor who is permitted to conduct business may not be rescinded even if the judicial act does not concern the business.\n",
      "\n",
      "Does the premise entail the hypothesis? Yes or no \n"
     ]
    },
    {
     "name": "stderr",
     "output_type": "stream",
     "text": [
      "100%|█████████████████████████████████████████████████████████████████████████████████████████████████████████████████████████████████████████████████████████| 101/101 [00:20<00:00,  5.02it/s]\n"
     ]
    },
    {
     "name": "stdout",
     "output_type": "stream",
     "text": [
      "=======================================\n",
      "Premise: {{premise}}\n",
      "\n",
      "Hypothesis: {{hypothesis}}\n",
      "\n",
      "Does the premise entail the hypothesis? Yes or no \n",
      "79 / 101\n",
      "Premise: {{premise}}\n",
      "Hypothesis: {{hypothesis}}\n",
      "Is the hypothesis entailed by the premise? Yes or no \n"
     ]
    },
    {
     "name": "stderr",
     "output_type": "stream",
     "text": [
      "  1%|█▌                                                                                                                                                         | 1/101 [00:00<00:23,  4.20it/s]"
     ]
    },
    {
     "name": "stdout",
     "output_type": "stream",
     "text": [
      "Premise: Article 5 (1) A minor must obtain the consent of the minor's legal representative to perform a juridical act;provided, however, that this does not apply to a juridical act for merely acquiring a right or being released from an obligation.\n",
      "(2) A juridical act in contravention of the provisions of the preceding paragraph is voidable.\n",
      "Article 6 (1) A minor who is permitted to conduct one or multiple types of business has the same capacity to act as an adult as far as that business is concerned.\n",
      "Hypothesis: A juridical act by a minor who is permitted to conduct business may not be rescinded even if the judicial act does not concern the business.\n",
      "Is the hypothesis entailed by the premise? Yes or no \n"
     ]
    },
    {
     "name": "stderr",
     "output_type": "stream",
     "text": [
      "100%|█████████████████████████████████████████████████████████████████████████████████████████████████████████████████████████████████████████████████████████| 101/101 [00:20<00:00,  4.96it/s]\n"
     ]
    },
    {
     "name": "stdout",
     "output_type": "stream",
     "text": [
      "=======================================\n",
      "Premise: {{premise}}\n",
      "Hypothesis: {{hypothesis}}\n",
      "Is the hypothesis entailed by the premise? Yes or no \n",
      "79 / 101\n",
      "Sentence 1: {{premise}}\n",
      "\n",
      "Sentence 2: {{hypothesis}}\n",
      "Is this second sentence entailed by the first sentence? Yes or No \n"
     ]
    },
    {
     "name": "stderr",
     "output_type": "stream",
     "text": [
      "  1%|█▌                                                                                                                                                         | 1/101 [00:00<00:16,  6.12it/s]"
     ]
    },
    {
     "name": "stdout",
     "output_type": "stream",
     "text": [
      "Sentence 1: Article 5 (1) A minor must obtain the consent of the minor's legal representative to perform a juridical act;provided, however, that this does not apply to a juridical act for merely acquiring a right or being released from an obligation.\n",
      "(2) A juridical act in contravention of the provisions of the preceding paragraph is voidable.\n",
      "Article 6 (1) A minor who is permitted to conduct one or multiple types of business has the same capacity to act as an adult as far as that business is concerned.\n",
      "\n",
      "Sentence 2: A juridical act by a minor who is permitted to conduct business may not be rescinded even if the judicial act does not concern the business.\n",
      "Is this second sentence entailed by the first sentence? Yes or No \n"
     ]
    },
    {
     "name": "stderr",
     "output_type": "stream",
     "text": [
      "100%|█████████████████████████████████████████████████████████████████████████████████████████████████████████████████████████████████████████████████████████| 101/101 [00:20<00:00,  5.05it/s]\n"
     ]
    },
    {
     "name": "stdout",
     "output_type": "stream",
     "text": [
      "=======================================\n",
      "Sentence 1: {{premise}}\n",
      "\n",
      "Sentence 2: {{hypothesis}}\n",
      "Is this second sentence entailed by the first sentence? Yes or No \n",
      "78 / 101\n",
      "Sentence 1: {{premise}}\n",
      "\n",
      "Sentence 2: {{hypothesis}}\n",
      "\n",
      "If the first sentence is true, then is the second sentence true? True or False \n"
     ]
    },
    {
     "name": "stderr",
     "output_type": "stream",
     "text": [
      "  1%|█▌                                                                                                                                                         | 1/101 [00:00<00:31,  3.22it/s]"
     ]
    },
    {
     "name": "stdout",
     "output_type": "stream",
     "text": [
      "Sentence 1: Article 5 (1) A minor must obtain the consent of the minor's legal representative to perform a juridical act;provided, however, that this does not apply to a juridical act for merely acquiring a right or being released from an obligation.\n",
      "(2) A juridical act in contravention of the provisions of the preceding paragraph is voidable.\n",
      "Article 6 (1) A minor who is permitted to conduct one or multiple types of business has the same capacity to act as an adult as far as that business is concerned.\n",
      "\n",
      "Sentence 2: A juridical act by a minor who is permitted to conduct business may not be rescinded even if the judicial act does not concern the business.\n",
      "\n",
      "If the first sentence is true, then is the second sentence true? True or False \n"
     ]
    },
    {
     "name": "stderr",
     "output_type": "stream",
     "text": [
      "100%|█████████████████████████████████████████████████████████████████████████████████████████████████████████████████████████████████████████████████████████| 101/101 [00:28<00:00,  3.58it/s]\n"
     ]
    },
    {
     "name": "stdout",
     "output_type": "stream",
     "text": [
      "=======================================\n",
      "Sentence 1: {{premise}}\n",
      "\n",
      "Sentence 2: {{hypothesis}}\n",
      "\n",
      "If the first sentence is true, then is the second sentence true? True or False \n",
      "68 / 101\n",
      "If {{premise}}, can we conclude that \"{{hypothesis}}\"? Yes or No \n"
     ]
    },
    {
     "name": "stderr",
     "output_type": "stream",
     "text": [
      "  1%|█▌                                                                                                                                                         | 1/101 [00:00<00:21,  4.62it/s]"
     ]
    },
    {
     "name": "stdout",
     "output_type": "stream",
     "text": [
      "If Article 5 (1) A minor must obtain the consent of the minor's legal representative to perform a juridical act;provided, however, that this does not apply to a juridical act for merely acquiring a right or being released from an obligation.\n",
      "(2) A juridical act in contravention of the provisions of the preceding paragraph is voidable.\n",
      "Article 6 (1) A minor who is permitted to conduct one or multiple types of business has the same capacity to act as an adult as far as that business is concerned., can we conclude that \"A juridical act by a minor who is permitted to conduct business may not be rescinded even if the judicial act does not concern the business.\"? Yes or No \n"
     ]
    },
    {
     "name": "stderr",
     "output_type": "stream",
     "text": [
      "100%|█████████████████████████████████████████████████████████████████████████████████████████████████████████████████████████████████████████████████████████| 101/101 [00:19<00:00,  5.17it/s]\n"
     ]
    },
    {
     "name": "stdout",
     "output_type": "stream",
     "text": [
      "=======================================\n",
      "If {{premise}}, can we conclude that \"{{hypothesis}}\"? Yes or No \n",
      "81 / 101\n",
      "Premise: \"{{premise}}\" If this premise is true, what does that tell us about whether it entails the hypothesis \"{{hypothesis}}\"?\n",
      "\n",
      "Yes or No \n"
     ]
    },
    {
     "name": "stderr",
     "output_type": "stream",
     "text": [
      "  1%|█▌                                                                                                                                                         | 1/101 [00:00<00:17,  5.85it/s]"
     ]
    },
    {
     "name": "stdout",
     "output_type": "stream",
     "text": [
      "Premise: \"Article 5 (1) A minor must obtain the consent of the minor's legal representative to perform a juridical act;provided, however, that this does not apply to a juridical act for merely acquiring a right or being released from an obligation.\n",
      "(2) A juridical act in contravention of the provisions of the preceding paragraph is voidable.\n",
      "Article 6 (1) A minor who is permitted to conduct one or multiple types of business has the same capacity to act as an adult as far as that business is concerned.\" If this premise is true, what does that tell us about whether it entails the hypothesis \"A juridical act by a minor who is permitted to conduct business may not be rescinded even if the judicial act does not concern the business.\"?\n",
      "\n",
      "Yes or No \n"
     ]
    },
    {
     "name": "stderr",
     "output_type": "stream",
     "text": [
      "100%|█████████████████████████████████████████████████████████████████████████████████████████████████████████████████████████████████████████████████████████| 101/101 [00:21<00:00,  4.67it/s]"
     ]
    },
    {
     "name": "stdout",
     "output_type": "stream",
     "text": [
      "=======================================\n",
      "Premise: \"{{premise}}\" If this premise is true, what does that tell us about whether it entails the hypothesis \"{{hypothesis}}\"?\n",
      "\n",
      "Yes or No \n",
      "81 / 101\n"
     ]
    },
    {
     "name": "stderr",
     "output_type": "stream",
     "text": [
      "\n"
     ]
    }
   ],
   "source": [
    "predict(model, tokenizer, [\"riteval_R01_en\",\"riteval_R02_en\",\"riteval_R03_en\",\"riteval_R04_en\"], \"../output/accuracy2/newpromt_\")"
   ]
  },
  {
   "cell_type": "code",
   "execution_count": null,
   "id": "3955c392-c3e1-456c-82ce-0571b0145c33",
   "metadata": {},
   "outputs": [],
   "source": []
  }
 ],
 "metadata": {
  "kernelspec": {
   "display_name": "Python 3 (ipykernel)",
   "language": "python",
   "name": "python3"
  },
  "language_info": {
   "codemirror_mode": {
    "name": "ipython",
    "version": 3
   },
   "file_extension": ".py",
   "mimetype": "text/x-python",
   "name": "python",
   "nbconvert_exporter": "python",
   "pygments_lexer": "ipython3",
   "version": "3.10.13"
  }
 },
 "nbformat": 4,
 "nbformat_minor": 5
}
