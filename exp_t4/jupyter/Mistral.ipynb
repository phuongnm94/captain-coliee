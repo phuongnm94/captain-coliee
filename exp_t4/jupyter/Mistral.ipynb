{
 "cells": [
  {
   "cell_type": "code",
   "execution_count": 1,
   "id": "ff068eec-62ac-48e9-bd1b-7e0de6bec440",
   "metadata": {},
   "outputs": [
    {
     "name": "stdout",
     "output_type": "stream",
     "text": [
      "\n",
      "===================================BUG REPORT===================================\n",
      "Welcome to bitsandbytes. For bug reports, please run\n",
      "\n",
      "python -m bitsandbytes\n",
      "\n",
      " and submit this information together with your error trace to: https://github.com/TimDettmers/bitsandbytes/issues\n",
      "================================================================================\n"
     ]
    },
    {
     "name": "stderr",
     "output_type": "stream",
     "text": [
      "/home/congnguyen/miniconda3/envs/myenv/lib/python3.10/site-packages/bitsandbytes/cuda_setup/main.py:147: UserWarning: Found duplicate ['libcudart.so', 'libcudart.so.11.0', 'libcudart.so.12.0'] files: {PosixPath('/home/congnguyen/miniconda3/envs/myenv/lib/libcudart.so'), PosixPath('/home/congnguyen/miniconda3/envs/myenv/lib/libcudart.so.11.0')}.. We'll flip a coin and try one of these, in order to fail forward.\n",
      "Either way, this might cause trouble in the future:\n",
      "If you get `CUDA error: invalid device function` errors, the above might be the cause and the solution is to make sure only one ['libcudart.so', 'libcudart.so.11.0', 'libcudart.so.12.0'] in the paths that we search based on your env.\n",
      "  warn(msg)\n"
     ]
    },
    {
     "name": "stdout",
     "output_type": "stream",
     "text": [
      "CUDA SETUP: CUDA runtime path found: /home/congnguyen/miniconda3/envs/myenv/lib/libcudart.so\n",
      "CUDA SETUP: Highest compute capability among GPUs detected: 7.5\n",
      "CUDA SETUP: Detected CUDA version 116\n",
      "CUDA SETUP: Loading binary /home/congnguyen/miniconda3/envs/myenv/lib/python3.10/site-packages/bitsandbytes/libbitsandbytes_cuda116.so...\n"
     ]
    },
    {
     "data": {
      "application/vnd.jupyter.widget-view+json": {
       "model_id": "95599e3e508241c9844a2e3dffb7de82",
       "version_major": 2,
       "version_minor": 0
      },
      "text/plain": [
       "Loading checkpoint shards:   0%|          | 0/2 [00:00<?, ?it/s]"
      ]
     },
     "metadata": {},
     "output_type": "display_data"
    }
   ],
   "source": [
    "import torch\n",
    "from transformers import (\n",
    "    AutoModelForCausalLM,\n",
    "    AutoTokenizer,\n",
    "    GenerationConfig,\n",
    "    TextStreamer,\n",
    "    pipeline,\n",
    ")\n",
    "\n",
    "MODEL_NAME = \"mistralai/Mistral-7B-Instruct-v0.1\"\n",
    "\n",
    "tokenizer = AutoTokenizer.from_pretrained(MODEL_NAME, cache_dir=\"/home/congnguyen/drive/.cache\")\n",
    "model = AutoModelForCausalLM.from_pretrained(\n",
    "    MODEL_NAME, device_map=\"auto\", cache_dir=\"/home/congnguyen/drive/.cache\", torch_dtype=torch.float16, load_in_8bit=True\n",
    ")"
   ]
  },
  {
   "cell_type": "code",
   "execution_count": 26,
   "id": "716b173d-f1d2-41de-b036-111d0d87cfb1",
   "metadata": {},
   "outputs": [],
   "source": [
    "\n",
    "from bs4 import BeautifulSoup\n",
    "import re\n",
    "import json\n",
    "\n",
    "def get_article(articles):\n",
    "    result = {}\n",
    "    current_statue = \"(non-statute)\"\n",
    "    for i in re.split(r\"(.*)\", articles.strip()):\n",
    "        if len(i) == 0 or i == \"\\n\":\n",
    "            continue\n",
    "        if re.search(r\"^\\(.*\\)$\", i):\n",
    "            current_statue = i.strip()\n",
    "            if current_statue not in result:\n",
    "                result.update({current_statue: []})\n",
    "        else:\n",
    "            if current_statue not in result:\n",
    "                result.update({current_statue: []})\n",
    "            result[current_statue].append(i)\n",
    "    return result\n",
    "\n",
    "def build_test(filename):\n",
    "    result = {}\n",
    "    with open(filename, 'r') as f:\n",
    "        data = f.read()\n",
    "\n",
    "    data = BeautifulSoup(data, \"xml\").find_all('pair')\n",
    "    for i in data:\n",
    "        id = i.get('id')\n",
    "        result.update({id: {}})\n",
    "        result[id].update({\"label\": i.get('label')})\n",
    "        articles = i.find('t1').text.replace(\"\\n\", \" \").strip()\n",
    "        # articles = get_article(articles)\n",
    "        result[id].update({\"statute\": articles})\n",
    "        result[id].update({\"query\": i.find('t2').text.strip()})\n",
    "    return result\n",
    "\n",
    "def write_json(filename, data):\n",
    "    with open(filename, 'w', encoding='utf-8') as f:\n",
    "        json.dump(data, f, ensure_ascii=False, indent=4)"
   ]
  },
  {
   "cell_type": "code",
   "execution_count": 27,
   "id": "8160b655-2a07-4ea7-8f39-6456385780cd",
   "metadata": {},
   "outputs": [
    {
     "data": {
      "text/plain": [
       "{'R04-01-I': {'label': 'N',\n",
       "  'statute': \"(Juridical Acts by Minors) Article 5 (1) A minor must obtain the consent of the minor's legal representative to perform a juridical act;provided, however, that this does not apply to a juridical act for merely acquiring a right or being released from an obligation. (2) A juridical act in contravention of the provisions of the preceding paragraph is voidable. (Permission for Minors to Conduct Business) Article 6 (1) A minor who is permitted to conduct one or multiple types of business has the same capacity to act as an adult as far as that business is concerned.\",\n",
       "  'query': 'A juridical act by a minor who is permitted to conduct business may not be rescinded even if the judicial act does not concern the business.'},\n",
       " 'R04-01-U': {'label': 'N',\n",
       "  'statute': \"(Juridical Acts by Minors) Article 5 (1) A minor must obtain the consent of the minor's legal representative to perform a juridical act;provided, however, that this does not apply to a juridical act for merely acquiring a right or being released from an obligation. (2) A juridical act in contravention of the provisions of the preceding paragraph is voidable. (Holder of Right to Rescind) Article 120 (1) An act that is voidable on the grounds of the qualified legal capacity to act of the person who did the act may be rescinded only by the person with qualified legal capacity (in the case of an act performed by the person as a legal representative of another person with limited capacity, including that other person with limited capacity), or an agent or successor thereof, or a person who has the authority to give consent thereto.\",\n",
       "  'query': 'When a minor concludes a contract without obtaining the consent of the person who has the parental authority, the minor may not personally rescind the contract without the consent of the person who has the parental authority until the minor has attained the age of majority.'},\n",
       " 'R04-01-E': {'label': 'Y',\n",
       "  'statute': \"(Juridical Acts by Minors) Article 5 (1) A minor must obtain the consent of the minor's legal representative to perform a juridical act;provided, however, that this does not apply to a juridical act for merely acquiring a right or being released from an obligation. (2) A juridical act in contravention of the provisions of the preceding paragraph is voidable. (Requirements for Ratification) Article 124 (1) The ratification of a voidable act does not become effective unless it is made after the circumstances that made the act voidable cease to exist and the person ratifying the act becomes aware of the right to rescind it. (2) In the following cases, the ratification referred to in the preceding paragraph is not required to be made after the circumstances that made the act voidable cease to exist: (ii) if a person with qualified legal capacity (excluding an adult ward) makes the ratification with the consent of a legal representative, curator or assistant.\",\n",
       "  'query': 'When a minor concludes a contract without obtaining the consent of the person who has the parental authority, the minor may not personally ratify the contract without the consent of the person who has the parental authority until the minor has attained the age of majority.'},\n",
       " 'R04-02-A': {'label': 'N',\n",
       "  'statute': '(Juridical Acts by Adult Wards under Guardianship) Article 9 A juridical act performed by an adult ward is voidable;provided, however, that this does not apply to the purchase of daily necessities or to any other act involved in day-to-day life.',\n",
       "  'query': 'If an adult ward acquires land by gift, the guardian of the adult ward may not rescind the gift.'},\n",
       " 'R04-02-U': {'label': 'N',\n",
       "  'statute': \"(Juridical Acts by Adult Wards under Guardianship) Article 9 A juridical act performed by an adult ward is voidable;provided, however, that this does not apply to the purchase of daily necessities or to any other act involved in day-to-day life. (Agent's Capacity to Act) Article 102 An act that a person with qualified legal capacity performs as an agent of another person may not be rescinded on the grounds of qualified legal capacity;provided, however, that this does not apply to an act performed by a person with qualified legal capacity as a legal representative of another person with qualified legal capacity.\",\n",
       "  'query': 'An act that A, an adult ward, performs as legal representative of B, a minor, may not be rescinded on the grounds of qualified legal capacity of A.'},\n",
       " 'R04-02-E': {'label': 'Y',\n",
       "  'statute': \"(Minor or Adult Ward and Postponement of Expiry of Prescription Period) Article 158 (2) If a minor or an adult ward has a right vis-a-vis the minor's or the adult ward's father, mother, or guardian who manages the property, the prescription period does not expire with respect to that right until six months have passed from the time when that minor or adult ward becomes a person with capacity to act, or a succeeding legal representative assumes the position.\",\n",
       "  'query': \"If A, an adult ward, has a right vis-a-vis the adult ward's guardian who manages the property, the prescription period will not expire with respect to that right until the statutory period has passed from the time when A becomes a person with capacity to act, or a succeeding legal representative assumes the position.\"},\n",
       " 'R04-03-A': {'label': 'N',\n",
       "  'statute': '(Timing of Entry into Effect of Manifestations of Intention) Article 97 (1) A manifestation of intention becomes effective at the time notice thereof reaches the other party.',\n",
       "  'query': 'A manifestation of intention to a person at a distance will not be effective until the other party recognizes it.'},\n",
       " 'R04-03-I': {'label': 'N',\n",
       "  'statute': \"(Juridical Acts by Minors) Article 5 (1) A minor must obtain the consent of the minor's legal representative to perform a juridical act;provided, however, that this does not apply to a juridical act for merely acquiring a right or being released from an obligation. (2) A juridical act in contravention of the provisions of the preceding paragraph is voidable. (Right to Demand of the Other Party to Dealings Involving a Person with Qualified Legal Capacity) Article 20 (1) After a person with qualified legal capacity who is involved in dealings with another party becomes a person with the legal capacity to act (meaning a person whose legal capacity to act is not subject to restrictions; the same applies hereinafter), the other party to those dealings may fix a period of one month or longer and demand that the person give a definite answer within that period of time as to whether the person will ratify an act that the person may rescind. In such a case, if the person fails to send a definite answer within that period of time, the person is deemed to have ratified that act. (2) The second sentence of the preceding paragraph also applies if, before the person with qualified legal capacity becomes a person with the legal capacity to act, the other party to dealings involving the person with qualified legal capacity lodges the demand prescribed in the preceding paragraph with the legal representative, curator, or assistant of that person with respect to an act within the scope of their authority, and they fail to send a definite answer within the fixed period of time referred to in that paragraph.\",\n",
       "  'query': 'B, who concluded a contract with A, a minor, demanded that C, the legal representative of A, give a definite answer whether C will ratify the contract. In this case, if C fails to send a definite answer within the period of time fixed by B, C is deemed to have rescinded that act.'},\n",
       " 'R04-03-U': {'label': 'Y',\n",
       "  'statute': \"(Mental Reservations) Article 93 (1) The validity of a manifestation of intention is not impaired even if the person making it does so while knowing that it does not reflect that person's true intention;provided, however, that if the other party knew or could have known that the manifestation was not the true intention of the person who made it, that manifestation of intention is void. (2) The nullity of a manifestation of intention under the provisions of the proviso to the preceding paragraph may not be duly asserted against a third party in good faith.\",\n",
       "  'query': 'The nullity of a manifestation of intention based on the mental reservation may not be duly asserted against a third party in good faith with negligence.'},\n",
       " 'R04-03-E': {'label': 'N',\n",
       "  'statute': '(Mistakes) Article 95 (3) If a mistake is due to gross negligence on the part of the person making the manifestation of intention, that person may not rescind a manifestation of intention as under paragraph (1), except in the following cases: (ii) if the other party was under the same mistake as the person making the manifestation of intention.',\n",
       "  'query': 'The manifestation of intention based on the mistake may not be rescinded if the mistake is due to gross negligence on the part of the person making the manifestation of intention, and the other party is under the same mistake as the person making the manifestation of intention.'},\n",
       " 'R04-03-O': {'label': 'Y',\n",
       "  'statute': '(Fraud or Duress) Article 96 (1) A manifestation of intention based on fraud or duress is voidable. (2) If a third party commits a fraud inducing a first party to make a manifestation of intention to a second party, that manifestation of intention is voidable only if the second party knew or could have known that fact.',\n",
       "  'query': 'If a third party commits duress forcing a first party to make a manifestation of intention to a second party, that manifestation of intention is voidable even if the second party could not have known that fact.'},\n",
       " 'R04-04-A': {'label': 'Y',\n",
       "  'statute': '(Holder of Right to Rescind) Article 120 (1) An act that is voidable on the grounds of the qualified legal capacity to act of the person who did the act may be rescinded only by the person with qualified legal capacity (in the case of an act performed by the person as a legal representative of another person with limited capacity, including that other person with limited capacity), or an agent or successor thereof, or a person who has the authority to give consent thereto. (2) An act that is voidable on the grounds of a mistake, fraud or duress may be rescinded only by the person who made the defective manifestation of intention, or an agent or successor thereof.',\n",
       "  'query': 'A guarantor of an obligation arising from a judicial act which may be voidable may not rescind the judicial act.'},\n",
       " 'R04-04-I': {'label': 'Y',\n",
       "  'statute': '(Holder of Right to Rescind) Article 120 (1) An act that is voidable on the grounds of the qualified legal capacity to act of the person who did the act may be rescinded only by the person with qualified legal capacity (in the case of an act performed by the person as a legal representative of another person with limited capacity, including that other person with limited capacity), or an agent or successor thereof, or a person who has the authority to give consent thereto. (Ratification of Voidable Acts) Article 122 A voidable act may not be rescinded after the person prescribed in Article 120 ratifies it.',\n",
       "  'query': 'A, a person under curatorship, may not rescind a judicial act by A after the legal representative ratifies the judicial act.'},\n",
       " 'R04-04-U': {'label': 'N',\n",
       "  'statute': '(Fraud or Duress) Article 96 (1) A manifestation of intention based on fraud or duress is voidable. (2) If a third party commits a fraud inducing a first party to make a manifestation of intention to a second party, that manifestation of intention is voidable only if the second party knew or could have known that fact. (Method of Voidance and Ratification) Article 123 If the counterparty to a voidable act is identified, the voidance or ratification of that act is made by the manifestation of intention to the counterparty.',\n",
       "  'query': 'If A makes a manifestation of intention of selling an immovable to C because of the fraud by B, the third party, the rescission of that act is made by the manifestation of intention to both B and C.'},\n",
       " 'R04-04-E': {'label': 'N',\n",
       "  'statute': '(Effect of Rescission) Article 121 An act that has been rescinded is deemed void ab initio. (Obligation of Restoration) Article 121-2 (1) A person that has received payment or delivery as the performance of an obligation based on a void act has an obligation to restore the other party to the original state. (3) Notwithstanding the provisions of paragraph (1), a person who has no mental capacity at the time of performing an act has an obligation to return to the extent currently enriched by the act. The same applies to a person who is a person with qualified legal capacity at the time of performing an act.',\n",
       "  'query': 'If a loan of money made by A, a person under curatorship, is cancelled, A has the obligation to return the entire amount of the loan to the lender, even if the loan has been spent gambling until then.'},\n",
       " 'R04-04-O': {'label': 'N',\n",
       "  'statute': '(Limitation on Period of Right to Rescind) Article 126 The right to rescind an act is extinguished by the operation of the prescription if it is not exercised within five years from the time when it becomes possible to ratify the act. The same applies if 20 years have passed from the time of the act.',\n",
       "  'query': 'The right to rescind an act is extinguished by the operation of the prescription if it is not exercised within five years from the voidable act.'},\n",
       " 'R04-05-U': {'label': 'Y',\n",
       "  'statute': '(Invocation of Prescription) Article 145 The court may not make a judicial decision relying on prescription unless a party (in the case of extinctive prescription, including a guarantor, third-party collateral provider, third party acquirer, or any other person with a legitimate interest in the extinction of a right) invokes it.',\n",
       "  'query': 'The one who acquired Land X after the mortgage had been created on Land X and the creation had been registered may invoke the extinctive prescription of the secured claim under the mortgage.'},\n",
       " 'R04-06-A': {'label': 'N',\n",
       "  'statute': '(Requirements of Perfection of Changes in Real Rights on Immovables) Article 177 Acquisitions of, losses of and changes in real rights on immovables may not be duly asserted against any third parties, unless the same are registered pursuant to the applicable provisions of the Real Property Registration Act (Act No. 123 of 2004) and other laws regarding registration.',\n",
       "  'query': 'A sold Building X, owned by A, to B, but the registration of preservation of ownership of Building X has not been made. In this case, B may duly assert the acquisition of ownership against the third party without the registration in the name of B.'},\n",
       " 'R04-07-A': {'label': 'N',\n",
       "  'statute': '(Merger of Rights) Article 179 (1) If ownership and another real right on the same thing are acquired by the same person, the other real right is extinguished;provided, however, that this does not apply if that thing or the other real right is the object of the right of a third party.',\n",
       "  'query': 'A created the first-ranked mortgage for the benefit of B and the second-ranked mortgage for the benefit of C on Land X, owned by A. In this case, if B purchases Land X from A, the mortgage for B shall be extinguished.'},\n",
       " 'R04-07-I': {'label': 'N',\n",
       "  'statute': '(Merger of Rights) Article 179 (1) If ownership and another real right on the same thing are acquired by the same person, the other real right is extinguished;provided, however, that this does not apply if that thing or the other real right is the object of the right of a third party.',\n",
       "  'query': 'A created the superficies on Land X, owned by A, for the benefit of B, and B created the mortgage on the superficies for the benefit of C. In this case, if A dies and B is the only heir, the superficies for B shall be extinguished.'},\n",
       " 'R04-07-O': {'label': 'Y',\n",
       "  'statute': '(Merger of Rights) Article 179 (1) If ownership and another real right on the same thing are acquired by the same person, the other real right is extinguished;provided, however, that this does not apply if that thing or the other real right is the object of the right of a third party.',\n",
       "  'query': 'A created the superficies on Land X, owned by A, for the benefit of B, and B leased Building Y, built on Land X, to C. In this case, if A dies and B is the only heir, the superficies for B shall be extinguished.'},\n",
       " 'R04-08-A': {'label': 'N',\n",
       "  'statute': '(Requirements of Perfection of Transfer of Real Rights Concerning Movables) Article 178 The transfer of a real right on movables may not be duly asserted against a third party, unless the movables are delivered. (Transfer of Possession by Instruction) Article 184 If a thing is possessed through an agent, the principal orders that agent to thenceforward possess that thing on behalf of a third party, and that third party consents thereto, the third party acquires the possessory rights.',\n",
       "  'query': 'A sold Painting X, owned by A, to C while depositing it with B and ordered B to thenceforward possess X on behalf of C, and B consented thereto. In this case, C may duly assert the acquisition of the ownership of X against any third parties.'},\n",
       " 'R04-08-O': {'label': 'Y',\n",
       "  'statute': \"(Actual Delivery and Summary Delivery) Article 182 (2) If a transferee or the agent of a transferee is actually holding the thing under possession, the transfer of possessory rights may be effected by the parties' manifestations of intention alone. (Requirements of Perfection of Transfer of Real Rights Concerning Movables) Article 178 The transfer of a real right on movables may not be duly asserted against a third party, unless the movables are delivered.\",\n",
       "  'query': 'B kept Painting X, owned by A, from A and possessed it. Thereafter B purchased X from A, and A and B manifested an intention to transfer the possession to B. In this case, B may duly assert the acquisition of the ownership of X against any third parties.'},\n",
       " 'R04-09-A': {'label': 'Y',\n",
       "  'statute': 'Article 211 (1) In the cases referred to in the preceding Article, the location and method of passage must be chosen so as to meet the needs of the person that is entitled to the right-of-way under the provisions of that Article and cause the least damage to the other land.',\n",
       "  'query': 'Land X, owned by A, is surrounded by other land and has no access to a public road, and Land Y, owned by B, surrounds Land X. A has a right to pass through Land Y in order to reach a public road. In this case, the location and method of passage must be chosen so as to meet the needs of A and cause the least damage to Land Y.'},\n",
       " 'R04-09-I': {'label': 'N',\n",
       "  'statute': 'Article 211 (2) A person that holds the right-of-way under the provisions of the preceding Article may construct a road if necessary.',\n",
       "  'query': 'Land X, owned by A, is surrounded by other land and has no access to a public road, and Land Y, owned by B, surrounds Land X. A has a right to pass through Land Y in order to reach a public road. In this case, A must obtain the consent of B to construct a road on Land Y.'},\n",
       " 'R04-09-U': {'label': 'Y',\n",
       "  'statute': \"(Mutatis Mutandis Application of Provisions Regarding Neighboring Relationships) Article 267 The provisions of Section 1, Subsection 2 of the preceding Chapter (Neighboring Relationships) apply mutatis mutandis between superficiaries or between a superficiary and a landowner;provided, however, that the mutatis mutandis application of the provisions of Article 229 to superficiaries is limited to when structures on the boundary line are installed after the establishment of the superficies. (Right-of-Way over Other Land for Access to Public Roads) Article 210 (1) An owner of land that is surrounded by other land and has no access to a public road may pass through the other land that surrounds that owner's land to reach a public road.\",\n",
       "  'query': 'Land X, owned by A, is surrounded by other land and has no access to a public road, and Land Y, owned by B, surrounds Land X. A has a right to pass through Land Y in order to reach a public road. In this case, C, the superficiary of Land X, may pass through Land Y without the consent of B.'},\n",
       " 'R04-10-U': {'label': 'Y',\n",
       "  'statute': \"(Obligations to Bear Burdens Regarding Property in Co-Ownership) Article 253 (2) If a co-owner does not perform the obligations referred to in the preceding paragraph within one year, other co-owners may acquire that co-owner's interest by paying a reasonable compensation.\",\n",
       "  'query': 'A, B, and C co-own Land X with one-third interest each. If one year has passed without A performing the obligation to pay B the expenses of management of Land X, B may acquire the interest of A by paying a reasonable compensation.'},\n",
       " 'R04-10-O': {'label': 'Y',\n",
       "  'statute': '(Payment of Claims Regarding Co-Ownership) Article 259 (1) If one of the co-owners holds a claim regarding co-ownership against other co-owners, upon partition, the portion of the property in co-ownership that belongs to the obligor may be appropriated for the payment of the same.',\n",
       "  'query': 'A, B, and C co-own Land X with one-third interest each. In this case, if A holds a claim for the expenses of management of Land X against B, upon the partition of Land X in kind, the portion that is to belong to B may be appropriated for the payment of the same.'},\n",
       " 'R04-11-A': {'label': 'N',\n",
       "  'statute': '(Content of Rights of Retention) Article 295 (2) The provisions of the preceding paragraph do not apply if possession commenced by means of a tortious act.',\n",
       "  'query': 'A commenced possession of Building X, owned by B, while knowing there is no title, and thereafter A obtained a claim that has arisen in relation to X. In this case, A may retain X until that claim is satisfied.'},\n",
       " 'R04-11-U': {'label': 'N',\n",
       "  'statute': '(Extension of Security Interest to Proceeds of Collateral) Article 304 (1) A statutory lien may also be exercised against things including monies that the obligor is to receive as a result of the sale, lease or loss of, or damage to, the subject matter of the statutory lien;provided, however, that the holder of the statutory lien must attach the same before the payment or delivery of the monies or other thing.',\n",
       "  'query': 'The holder of the right of retention may also exercise the right of the retention over the insurance claim which the obligor should receive because of the loss of the thing retained, by attaching the same.'},\n",
       " 'R04-11-E': {'label': 'N',\n",
       "  'statute': '(Custody of Thing Retained by Holders of Rights of Retention) Article 298 (2) The holder of the right of retention may not use, lease or provide as a security the thing retained unless that holder obtains the consent of the obligor;provided, however, that this does not apply to uses necessary for the preservation of that thing. (3) If the holder of a right of retention violates the provisions of the preceding two paragraphs, the obligor may demand that the right of retention be terminated.',\n",
       "  'query': 'The holder of the right of retention leased the thing retained without obtaining the consent of the obligor. In this case, if the lease is terminated and the thing retained is returned to the holder, the obligor may not demand that the right of retention be terminated.'},\n",
       " 'R04-12-A': {'label': 'N',\n",
       "  'statute': \"(Content of Statutory Liens) Article 303 The holder of a statutory lien has the rights to have that holder's own claim satisfied prior to other obligees out of the assets of the relevant obligor in accordance with the provisions of laws including this Act.\",\n",
       "  'query': 'A sold Mechanical Tool X, owned by A, to B and delivered X to B. In this case, if B does not perform the payment obligation even after the due date arrives, A may claim for the delivery of X against B based on statutory liens.'},\n",
       " 'R04-12-U': {'label': 'Y',\n",
       "  'statute': '(Conflict between Statutory Liens and Pledges on Movables) Article 334 If there is conflict between a statutory lien and a pledge on movables, the pledgee of those movables has the same rights as those of the holder of a statutory lien of the first rank under Article 330. (Order of Priority of Statutory Liens over Movables) Article 330 (1) If there are competing special statutory liens against the same movables, the order of priority follows the order set forth below.In this case, if there are two or more preservers with respect to the statutory liens for preservation of movables set forth in item (ii), a new preserver has priority over previous preservers: (i) statutory liens for leases of immovables, lodging at hotels and transportation; (ii) statutory liens for the preservation of movables; and (iii) statutory liens for the sale of movables, the supply of seeds and seedlings or fertilizer, agricultural labor and industrial labor. (2) In the cases referred to in the preceding paragraph, if a holder of a statutory lien ranked first knew at the time of acquiring the relevant claim of the existence of a holder of a statutory lien of the second or third rank, that holder may not exercise the relevant rights of priority against those persons. The same applies to the exercise against persons that have preserved things on behalf of the holder of a statutory lien of the first rank.',\n",
       "  'query': 'A sold Mechanical Tool X, owned by A, to B and delivered X to B. Then B created a pledge on X for the benefit of C and completed the delivery, and as of the time when C acquired the pledge, C did not know that A had a statutory lien. In this case, the pledge for C shall have priority over the statutory lien for A.'},\n",
       " 'R04-13-U': {'label': 'Y',\n",
       "  'statute': \"(Collection of Claims by Pledgees) Article 366 (2) If monies are the subject matter of a pledged claim, the pledgee may collect the same to the extent of the portion that corresponds to the amount of the pledgee's own claim.\",\n",
       "  'query': 'B created a pledge over Loan Claim Y of B against C in order to secure Loan Claim X of A against B, and B orally notified C to that effect. In this case, if both Claim X and Claim Y are due, A may directly collect Claim Y from C to the extent of the portion that corresponds to the amount of Claim X.'},\n",
       " 'R04-13-E': {'label': 'Y',\n",
       "  'statute': '(Collection of Claims by Pledgees) Article 366 (3) If the due date of the pledged claim referred to in the preceding paragraph arrives prior to the due date of the claim of the pledgee, the pledgee may have the third party obligor deposit with official depository that amount to be paid to the pledgee. In this case, the pledge exists over the amount so deposited.',\n",
       "  'query': 'B created a pledge over Loan Claim Y of B against C in order to secure Loan Claim X of A against B, and B orally notified C to that effect. In this case, if the due date of Claim Y arrives prior to the due date of Claim X, A may have C deposit with official depository that amount to be paid.'},\n",
       " 'R04-13-O': {'label': 'N',\n",
       "  'statute': \"(Mutatis Mutandis Application of Provisions on Rights of Retention and Statutory Liens) Article 350 The provisions of Articles 296 through 300 and those of Article 304 apply mutatis mutandis to pledges. (Collection of Fruits by Holders of Rights of Retention) Article 297 (1) A holder of a right of retention may collect fruits derived from the thing retained, and appropriate the same to the satisfaction of that holder's own claim before other obligees.\",\n",
       "  'query': 'B created a pledge over Loan Claim Y of B against C in order to secure Loan Claim X of A against B, and B orally notified C to that effect. In this case, the scope of effect of the pledge of the claim shall not extend to the interest arising from Claim Y.'},\n",
       " 'R04-14-A': {'label': 'Y',\n",
       "  'statute': '(Requirements for Perfection of Disposition of Mortgages) Article 377 (1) In the cases in the preceding Article, the mortgagee may not duly assert the disposition of mortgages against principal obligors, guarantors, mortgagors or their respective successors unless the disposition is notified to the principal obligors or the principal obligors consent to that disposition in accordance with the provisions of Article 467. (Disposition of Mortgages) Article 376 (1) A mortgagee may apply the mortgage to secure other claims, or assign or waive that mortgage, or its order of priority, for the benefit of other obligees of the same obligor.',\n",
       "  'query': 'A created a mortgage on Land X, owned by A, in order to secure the obligation against B, and B assigned the mortgage to C, who was a general creditor of A. In this case, C may not duly assert the assignment of the mortgage against A unless B notifies A of this or A consents to this.'},\n",
       " 'R04-14-U': {'label': 'N',\n",
       "  'statute': '(Changes in Order of Priority of Mortgages) Article 374 (1) The order of priority of mortgages may be changed with the agreement of all mortgagees;provided, however, that if there are interested persons, the consent of the same must be obtained.',\n",
       "  'query': 'A created the first-ranked mortgage for the benefit of B, the second-ranked mortgage for the benefit of C, and the third-ranked mortgage for the benefit of D on Land X, owned by A. In this case, the consent of C shall not be required in order to change the order of priority of the mortgage in the order of D, C, and B.'},\n",
       " 'R04-14-E': {'label': 'N',\n",
       "  'statute': '(Auction of Buildings on Mortgaged Lands) Article 389 (1) If a building is constructed on a mortgaged land after the creation of a mortgage, the mortgagee may auction the building together with the land;provided, however, that the right of priority of that mortgagee may be exercised solely against the proceeds of the land.',\n",
       "  'query': 'A created a mortgage on Land X, which was vacant land and owned by A, for the benefit of B, and thereafter built Building Y on Land X. In this case, if B enforces the mortgage and auctions Land X and Building Y at once, B may receive preferential payment from proceeds of the sale of Building Y.'},\n",
       " 'R04-14-O': {'label': 'Y',\n",
       "  'statute': '(Direct Satisfaction of Mortgage with Purchase Price) Article 378 If a third party that purchases the ownership or superficies of a mortgaged immovables pays the price of the same to a mortgagee at the request of the same mortgagee, that mortgage is terminated for the benefit of that third party.',\n",
       "  'query': 'A created a mortgage on Land X, owned by A, for the benefit of B and thereafter sold Land X to C. In this case, if C pays the price of the same to B at the request of B, the mortgage shall be terminated.'},\n",
       " 'R04-16-I': {'label': 'N',\n",
       "  'statute': \"(Obligee's Delay in Acceptance) Article 413 (1) If the obligee refuses, or is unable, to accept the tender of the performance of an obligation, and the subject matter of the obligation is the delivery of a specific thing, it is sufficient for the obligor to retain the thing by exercising care identical to that the obligor exercises for the obligor's own property, during the period from the time of the tender of the performance until the delivery of the thing.\",\n",
       "  'query': 'A seller of a specific thing tendered the performance of the obligation of the delivery of the subject matter. In this case, if the buyer is not able to accept the subject matter, the seller must retain the thing with the due care of a prudent manager, which is determined in light of the contract and the common sense in the transaction, from the time of the tender of the performance until the completion of the delivery.'},\n",
       " 'R04-16-U': {'label': 'Y',\n",
       "  'statute': \"(Obligee's Delay in Acceptance) Article 413 (2) If the obligee's refusal or inability to accept the performance of an obligation results in increasing the expenses for the performance, the amount of increase is borne by the obligee.\",\n",
       "  'query': 'A seller of a specific thing tendered the performance of the obligation of the delivery of the subject matter. In this case, if the buyer is not able to accept the subject matter, the buyer must bear the cost required for the seller to continue to keep the subject matter in custody.'},\n",
       " 'R04-16-E': {'label': 'Y',\n",
       "  'statute': '(Effect of Tender of Performances) Article 492 Upon tendering the performance, the obligor is relieved from any and all responsibilities which may arise from the non-performance of the obligation.',\n",
       "  'query': 'A seller of a specific thing tendered the performance of the obligation of the delivery of the subject matter. In this case, if the buyer is not able to accept the subject matter, the seller shall be relieved from the responsibilities for the delay from the time when the seller tendered the performance.'},\n",
       " 'R04-16-O': {'label': 'N',\n",
       "  'statute': '(Transfer of Risk for Loss of Subject Matter) Article 567 (2) The preceding paragraph also applies if the seller tenders the performance of the obligation of delivery by delivering the subject matter that conforms to the terms of the contract, but the buyer refuses to accept or is unable to accept the performance, and the subject matter is lost or damaged after the time of the tender of the performance due to any grounds not attributable to either party.',\n",
       "  'query': 'A seller of a specific thing tendered the performance of the obligation of the delivery of the subject matter. The buyer refused to accept the subject matter, and thereafter the subject matter was lost due to grounds attributable to neither the seller nor the buyer. In this case, the buyer may cancel the contract.'},\n",
       " 'R04-18-A': {'label': 'N',\n",
       "  'statute': \"(Performance) Article 473 If the obligor performs an obligation to the obligee, the claim is extinguished. (Defense of the Other Party) Article 423-4 If the obligee exercises the subrogor's right, the other party may duly assert against the obligee any defense that can be asserted against the obligor.\",\n",
       "  'query': 'A requested the performance of the monitory claim of B against C based on the obligee’s right of subrogation to preserve the claim of A against B, but C had already performed the monitory obligation against B before the due date. In this case, C may not duly assert the extinguish of the claim by the performance against A.'},\n",
       " 'R04-18-U': {'label': 'Y',\n",
       "  'statute': \"(Scope of Exercise by Subrogation) Article 423-2 If the obligee exercises the subrogor's right, and the subject matter of the subrogor's right is divisible, the obligee may exercise the subrogor's right only to the extent of the amount of the obligee's own claim.\",\n",
       "  'query': 'If A holds a monitory claim against B, and B holds a monitory claim against C, A may not exercise the claim of B against C beyond the amount of A’s claim, based on the obligee’s right of subrogation to preserve the claim of A against B.'},\n",
       " 'R04-18-O': {'label': 'N',\n",
       "  'statute': \"(Obligee's Right of Subrogation to Preserve the Right to Request Registration) Article 423-7 A person that has acquired by assignment from another person a property for which the acquisition or loss of rights and the change to rights cannot be duly asserted against a third party unless registered may exercise the assignor's right to request a third party to complete the registration procedure if the assignor does not exercise that right. In such a case, the provisions of the preceding three Articles apply mutatis mutandis.\",\n",
       "  'query': 'B purchased the land from its owner C and resold it to A. In this case, if B does not exercise the right to request the registration of the transfer of the ownership against C, A may request C directly transfer the registration to A based on the obligee’s right of subrogation to preserve the claim of A against B.'},\n",
       " 'R04-19-A': {'label': 'Y',\n",
       "  'statute': \"(Guarantee of Voidable Obligations) Article 449 If a guarantor that guarantees an obligation which may be voidable due to the principal obligor's limited capacity to act, is aware, at the time of entering into a guarantee contract, of the cause for its voidability, that guarantor is presumed to have assumed an independent obligation of the same subject matter in the event of non-performance by the principal obligor or rescission of the obligation.\",\n",
       "  'query': 'If a guarantor that guarantees an obligation which may be voidable due to the limited capacity to act, is aware, at the time of conclusion of the guarantee contract, of the cause for its voidability, that guarantor is presumed to have assumed an independent obligation of the same subject matter in the event of non-performance by the principal obligor or rescission of the obligation.'},\n",
       " 'R04-19-I': {'label': 'N',\n",
       "  'statute': '(Right to Reimbursement of Guarantor Guaranteeing without Request by Principal Obligor) Article 462 (1) The provisions of Article 459-2, paragraph (1) apply mutatis mutandis if a person, that has given guarantee without the request of the principal obligor, performs an act for extinguishment of obligation. (2) A person that has become a guarantor against the will of the principal obligor has the right to reimbursement only to the extent currently enriched.In this case, if the principal obligor asserts to have grounds for set-off against the obligee prior to the day of the demand for reimbursement, the guarantor may demand that the obligee perform the obligation which would have been extinguished by that set-off. (Right to Reimbursement in Case of Guarantor Guaranteeing by Request Who Performed Obligation Before Due Date) Article 459-2(1) If a guarantor gives a guarantee as requested by the principal obligor and performs an act for extinguishment of obligation before the due date of the principal obligation, the guarantor has the right to reimbursement from the principal obligor to the extent that the principal obligor was enriched at the time of the act. In such a case, if the principal obligor alleges to have had grounds for set-off prior to the day of the act for extinguishment of obligation, the guarantor may request the obligee to perform the obligation which should have been extinguished due to the set-off.',\n",
       "  'query': 'In the case where the guarantee was given against the will of the principal obligor, the guarantor who performed the guarantee obligation has the right to reimbursement to the extent that the principal obligor was enriched at the time of the performance.'},\n",
       " 'R04-19-U': {'label': 'N',\n",
       "  'statute': \"(Limitation on Reimbursement for Guarantor Who Failed to Give Notice) Article 463 (2) If a guarantor gives a guarantee as requested by the principal obligor and performs an act for extinguishment of obligation in good faith because of the principal obligor's failure to notify the guarantor of the principal obligor's performance of an act for extinguishment of obligation, the guarantor may deem that the guarantor's own act for extinguishment of obligation is valid.\",\n",
       "  'query': 'In the case where the guarantee was given without the request of the principal obligor, the principal obligor performed the obligation but did not notify the guarantor of the fact. In this case, if the guarantor performed the obligation of the guarantee without knowing the performance by the principal obligor, the guarantor may deem that the performance is valid.'},\n",
       " 'R04-19-E': {'label': 'Y',\n",
       "  'statute': '(Responsibility of Guarantor) Article 446(1) A guarantor has the responsibility to perform the obligation of the principal obligor when the latter fails to perform that obligation. (Requirements for Set-Offs) Article 505(1) If two persons bear an obligation to each other that has the same kind of purpose and if both obligations are due, each obligor may be relieved from the obligation by setting off the value of that obligation against the corresponding amount of the obligation of the other obligor;provided, however, that this does not apply if the nature of the obligation does not permit such a set-off.',\n",
       "  'query': 'If a guarantor who was requested by the obligee the performance of the guarantee obligation invokes a set-off with the guarantor’s claim against the obligee, the principal obligation shall be extinguished at the corresponding amount.'},\n",
       " 'R04-19-O': {'label': 'N',\n",
       "  'statute': \"(Right of Joint Guarantors to Reimbursement for One Obligation) Article 465(1) If there are multiple guarantors, and one guarantor has paid the entire amount of the obligation or any amount exceeding that guarantor's share because the principal obligation is indivisible, or because there is a special provision to the effect that each guarantor should pay the entire amount, the provisions of Articles 442 through 444 apply mutatis mutandis. (Right to Reimbursement among Joint and Several Obligors) Article 442(1) If one of the joint and several obligors performs the obligation or otherwise obtain a common discharge in exchange for that obligor's own property, the joint and several obligor has the right to reimbursement from other joint and several obligors for the amounts in proportion to their respective shares of the obligation of the amount of the property expended by the joint and several obligor in order to obtain the discharge (if the amount of property exceeds the amount after the common discharge, the amount thus discharged), regardless of whether the amount discharged exceeds the amount of the joint and several obligor's own share.\",\n",
       "  'query': 'In the case where one of the multiple jointly and severally liable guarantors performed the guarantee obligation, the guarantor may claim the reimbursement against the other jointly and severally liable guarantors regardless of whether the amount exceeded the guarantor’s own share.'},\n",
       " 'R04-20-A': {'label': 'N',\n",
       "  'statute': '(Assignability of Claim Yet to Arise) Article 466-6 (2) If a claim is assigned, and the claim is yet to arise by the time of the manifestation of intention to assign it, the assignee by operation of law acquires the claim when it arises. (3) In the case prescribed in the preceding paragraph, if the assignor makes the manifestation of intention to restrict assignment by the time when the assignor gives notice under the provisions of the following Article or the obligor gives consent under the provisions of that Article (hereinafter referred to as the \"time of completion of perfection\"), a third party such as the assignee is deemed to have known this, and the provisions of Article 466, paragraph (3) (or paragraph (1) of the preceding Article if the claim subject to the manifestation of intention to restrict assignment is a claim for deposits) apply thereto. (Assignability of Claims) Article 466 (3) In the case prescribed in the preceding paragraph, the obligor may refuse to perform the obligation to a third party such as the assignee that knew or did not know due to gross negligence that the manifestation of intention to restrict assignment was made, and may duly assert against such third party any event that results in extinguishment of the obligation such as payment to the assignor.',\n",
       "  'query': 'A assigned Claim X, the claim of the payment of the sales price against B, which should be arisen in the future, to C and notified B of the assignment. Then A and B made a special agreement prohibiting the assignment of Claim X, and thereafter Claim X arose. In this case, B may deem that C knew the existence of the special agreement and may refuse to perform the obligation.'},\n",
       " 'R04-20-I': {'label': 'N',\n",
       "  'statute': '(Assignability of Claims) Article 466 (2) Even if a party to a claim manifests the intention to prohibit or restrict the assignment of the claim (hereinafter referred to as the \"manifestation of intention to restrict assignment\"), the validity of the assignment of the claim is not impaired. (3) In the case prescribed in the preceding paragraph, the obligor may refuse to perform the obligation to a third party such as the assignee that knew or did not know due to gross negligence that the manifestation of intention to restrict assignment was made, and may duly assert against such third party any event that results in extinguishment of the obligation such as payment to the assignor. (4) The provisions of the preceding paragraph do not apply if the obligor does not perform the obligation, and the third party prescribed in that paragraph makes a demand to the obligor for the performance to the assignor by specifying a reasonable period of time, but the obligor does not perform the obligation within that period.',\n",
       "  'query': 'Claim X, the claim of the payment of the sales price of A against B, has a special agreement prohibiting the assignment, but C acquired Claim X while knowing the existence of the special agreement prohibiting the assignment. C made a demand to B for the performance to C by specifying a reasonable period of time, but B did not perform the obligation within that period. In this case, B may not refuse to perform the obligation to C based on the special agreement prohibiting the assignment.'},\n",
       " 'R04-20-U': {'label': 'Y',\n",
       "  'statute': '(Assignability of Claims) Article 466 (2) Even if a party to a claim manifests the intention to prohibit or restrict the assignment of the claim (hereinafter referred to as the \"manifestation of intention to restrict assignment\"), the validity of the assignment of the claim is not impaired. (3) In the case prescribed in the preceding paragraph, the obligor may refuse to perform the obligation to a third party such as the assignee that knew or did not know due to gross negligence that the manifestation of intention to restrict assignment was made, and may duly assert against such third party any event that results in extinguishment of the obligation such as payment to the assignor.',\n",
       "  'query': 'Claim X, the claim of the payment of the sales price of A against B, has a special agreement prohibiting the assignment, but C acquired Claim X and assigned it to D while knowing the existence of the special agreement prohibiting the assignment. In this case, if D does not know the existence of the special agreement without gross negligence, B may not refuse to perform the obligation to D based on the special agreement prohibiting the assignment.'},\n",
       " 'R04-20-E': {'label': 'Y',\n",
       "  'statute': '(Deposit Made by Obligor for Claim Subject to Manifestation of Intention to Restrict Assignment) Article 466-2 (1) If a claim for payment of money subject to the manifestation of intention to restrict assignment is assigned to a third party, the obligor may deposit the amount of money equivalent to the full amount of the claim with an official depository having jurisdiction over the place of performance of the obligation (including the current domicile of the assignor if the place of performance of the obligation is determined on the basis of the current domicile of the obligee; the same applies in the following Article).',\n",
       "  'query': 'Claim X, the claim of the payment of the sales price of A against B, has a special agreement prohibiting the assignment, but Claim X was assigned. In this case, B may deposit the amount of money equivalent to the full amount of the claim with an official depository.'},\n",
       " 'R04-20-O': {'label': 'N',\n",
       "  'statute': '(Assignability of Claims) Article 466 (2) Even if a party to a claim manifests the intention to prohibit or restrict the assignment of the claim (hereinafter referred to as the \"manifestation of intention to restrict assignment\"), the validity of the assignment of the claim is not impaired. (3) In the case prescribed in the preceding paragraph, the obligor may refuse to perform the obligation to a third party such as the assignee that knew or did not know due to gross negligence that the manifestation of intention to restrict assignment was made, and may duly assert against such third party any event that results in extinguishment of the obligation such as payment to the assignor. (Attachment of Claim Subject to Manifestation of Intention to Restrict Assignment) Article 466-4 (1) The provisions of Article 466, paragraph (3) do not apply to an attaching obligee that has enforced compulsory execution against a claim that is subject to the manifestation of intention to restrict assignment. (2) Notwithstanding the provisions of the preceding paragraph, if a third party such as the assignee knew or did not know due to gross negligence that the manifestation of intention to restrict assignment was made, and the obligee of the assignee or other third party enforces compulsory execution against the claim referred to in that paragraph, the obligor may refuse to perform the obligation and duly assert against an attaching obligee any event that results in extinguishing the obligation such as payment to the assignor.',\n",
       "  'query': 'Claim X, the claim of the payment of the sales price of A against B, has a special agreement prohibiting the assignment, but C acquired Claim X while knowing the existence of the special agreement prohibiting the assignment. Then D, the obligee of C, enforced compulsory execution against Claim X. In this case, B may not refuse to perform the obligation to D based on the special agreement prohibiting the assignment.'},\n",
       " 'R04-21-I': {'label': 'Y',\n",
       "  'statute': '(Deposit) Article 494 (2) The preceding paragraph also applies if the performer is unable to ascertain the obligee;provided, however, that this does not apply if the performer is negligent in this respect.',\n",
       "  'query': 'If a performer is unable to ascertain the obligee without negligence, the performer may deposit the subject matter of the performance with an official depository.'},\n",
       " 'R04-21-U': {'label': 'N',\n",
       "  'statute': '(Recovery of Deposited Thing) Article 496 (1) As long as the obligee does not accept the deposit, or the judgment which pronounces that the deposit is effective does not become final and binding, the performer may recover the deposited thingy. In such case, it is deemed that no deposit has been effected.',\n",
       "  'query': 'If a performer lawfully deposits the subject matter of the performance with an official depository, the performer may not recover the deposited thing.'},\n",
       " 'R04-21-E': {'label': 'Y',\n",
       "  'statute': '(Method of Deposit) Article 495 (3) A person that has effected a deposit pursuant to the provisions of the preceding Article must notify the obligee of the deposit without delay.',\n",
       "  'query': 'If a performer deposits the subject matter of the performance with an official depository for the benefit of the obligee, the performer must notify the obligee of the deposit without delay.'},\n",
       " 'R04-21-O': {'label': 'N',\n",
       "  'statute': '(Deposit) Article 494 (1) In the following cases, a performer may deposit the subject matter of the performance with an official depository for the benefit of the obligee. In such a case, the claim is extinguished when the performer makes the deposit:',\n",
       "  'query': 'If a performer deposits the subject matter of the performance with an official depository for the benefit of the obligee, the claim shall be extinguished at the time when the deposited thing is returned to the obligee.'},\n",
       " 'R04-22-A': {'label': 'N',\n",
       "  'statute': '(Prohibition of Effecting Set-Offs Against Claims Arising from Tortious Acts as Passive Sett-Off Claim) Article 509 The obligor of either of the following obligations may not duly assert a set-off against the obligee;provided, however, that this does not apply if the obligee acquires a claim corresponding to the relevant obligation from another person: (i) an obligation for compensation for loss or damage based on a tort committed in bad faith; or (ii) an obligation for compensation for loss or damage for death or injury to person (excluding the one set forth in the preceding item).',\n",
       "  'query': 'Victim A, who was injured by the tort, may not use the claim for compensation for the damage against Perpetrator B to assert set-off, against the loan claim of B against A.'},\n",
       " 'R04-22-I': {'label': 'N',\n",
       "  'statute': '(Requirements for Set-Offs) Article 505 (1) If two persons bear an obligation to each other that has the same kind of purpose and if both obligations are due, each obligor may be relieved from the obligation by setting off the value of that obligation against the corresponding amount of the obligation of the other obligor;provided, however, that this does not apply if the nature of the obligation does not permit such a set-off. (Benefit of Time and Waiver) Article 136 (2) The benefit of time stipulation may be waived;provided, however, that the waiver may not prejudice the interest of the counterparty.',\n",
       "  'query': 'The obligor of the claim not yet due may not set off the claim.'},\n",
       " 'R04-22-O': {'label': 'Y',\n",
       "  'statute': '(Prohibition of Set-Offs Against Any Claim Attached) Article 511 (1) A third party obligor of a claim which has been attached may not assert sett-off as defense with any claim acquired after the attachment against the attaching obligee, but may duly assert against the same a set-off based using a claim acquired before the attachment.',\n",
       "  'query': 'A third party obligor of a claim which has been attached may assert, against the attaching obligee, set-off using the claim against the attached obligor held prior to the attachment.'},\n",
       " 'R04-23-A': {'label': 'Y',\n",
       "  'statute': '(Cancellation of Loan for Use) Article 598 (2) If the parties do not specify a period of a loan for use or a purpose of using and making profit from the borrowed thing, the lender may cancel the contract at any time.',\n",
       "  'query': 'The loan for use without specification of the period of the loan was concluded. In this case, if there is no specification of a purpose of using and making profit from the borrowed thing, the lender may cancel the contract at any time.'},\n",
       " 'R04-23-I': {'label': 'Y',\n",
       "  'statute': '(Notice of Termination of Leases with Indefinite Terms) Article 617 (1) If the parties do not specify the term of a lease, either party may give a notice of termination at any time. In such cases, a lease as set forth in one of the following items terminates when the term prescribed in that item has passed after the day of the notice of termination:',\n",
       "  'query': 'In the case of a lease of movables with an indefinite term, the lessor may give a notice of termination at any time.'},\n",
       " 'R04-23-U': {'label': 'N',\n",
       "  'statute': '(Cancellation of Contract by Party Ordering Work) Article 641 The party ordering work may cancel the contract at any time whilst the contractor has not completed the work by paying compensation for loss or damage. (Cancellation on Commencement of Bankruptcy Proceeding for Party Ordering Work) Article 642 (1) If the party ordering work receives an order commencing bankruptcy proceeding, the contractor or the bankruptcy trustee may cancel the contract;provided, however, that this does not apply to the cancellation of the contract by the contractor after the work is completed.',\n",
       "  'query': 'The contractor may cancel the contract for work at any time whilst the contractor has not completed the work by paying compensation for loss or damage.'},\n",
       " 'R04-23-E': {'label': 'Y',\n",
       "  'statute': '(Cancellation of Mandate) Article 651 (1) A mandate may be cancelled by either party at any time.',\n",
       "  'query': 'In the case of a mandate with definite terms and which is for value, the mandatary may cancel the contract prior to the expiration of the term.'},\n",
       " 'R04-23-O': {'label': 'N',\n",
       "  'statute': '(Cancellation of Bailment by Bailor Prior to Receipt of Bailed Thing) Article 657-2 (2) A gratuitous bailee may cancel the contract up until the bailee receives the bailed thing;provided, however, that this does not apply to a bailment made in writing.',\n",
       "  'query': 'If the gratuitous bailment has been made in writing, the bailor may cancel the contract up until the bailee receives the bailed thing.'},\n",
       " 'R04-24-I': {'label': 'N',\n",
       "  'statute': '(Earnest Money) Article 557 (1) If the buyer pays earnest money to the seller, the buyer may cancel the contract by waiving the earnest money, or the seller may cancel the contract by actually providing the buyer with twice its amount;provided, however, that this does not apply after the counterparty commences performance of the contract.',\n",
       "  'query': 'The buyer may cancel the contract by the earnest money for cancellation until the buyer commences performance of the contract even if the seller has already commenced performance of the contract.'},\n",
       " 'R04-24-U': {'label': 'Y',\n",
       "  'statute': '(Earnest Money) Article 557 (1) If the buyer pays earnest money to the seller, the buyer may cancel the contract by waiving the earnest money, or the seller may cancel the contract by actually providing the buyer with twice its amount;provided, however, that this does not apply after the counterparty commences performance of the contract.',\n",
       "  'query': 'The buyer may cancel the contract by an earnest money for cancellation until the seller commences performance of the contract even if the buyer commences performance of the contract.'},\n",
       " 'R04-24-E': {'label': 'N',\n",
       "  'statute': '(Earnest Money) Article 557 (1) If the buyer pays earnest money to the seller, the buyer may cancel the contract by waiving the earnest money, or the seller may cancel the contract by actually providing the buyer with twice its amount;provided, however, that this does not apply after the counterparty commences performance of the contract.',\n",
       "  'query': 'The seller may cancel the contract by an earnest money for cancellation when the seller notifies the buyer orally that the seller reimburses twice the amount of the earnest money.'},\n",
       " 'R04-24-O': {'label': 'Y',\n",
       "  'statute': '(Earnest Money) Article 557 (2) The provisions of Article 545, paragraph (4) do not apply to the cases referred to in the preceding paragraph. (Effect of Cancellation) Article 545 (4) The exercise of the right to cancel does not preclude claims for compensation for loss or damage.',\n",
       "  'query': 'When the buyer cancels the contract by the earnest money for cancellation, the buyer is not liable to compensate for damage even if the damage in excess of the amount of the earnest money has been sustained by the seller.'},\n",
       " 'R04-25-A': {'label': 'Y',\n",
       "  'statute': '(Loans for Consumption) Article 587 A loan for consumption becomes effective when a first party receives money or any other thing from a second party, having promised to return a thing of the same type, quality, and quantity.',\n",
       "  'query': 'A loan for consumption not made in writing becomes effective when a first party receives money or any other thing from a second party, having promised to return a thing of the same type, quality, and quantity.'},\n",
       " 'R04-25-I': {'label': 'N',\n",
       "  'statute': '(Loan for Consumption Made in Writing) Article 587-2 (2) The borrower of a loan for consumption made in writing may cancel the contract until the borrower receives the money or other thing from the lender. In such a case, if the lender sustains any damage from the cancellation of the contract, the lender may claim compensation therefor.',\n",
       "  'query': 'A loan for consumption made in writing may be cancelled by either party until the borrower receives the subject matter from the lender.'},\n",
       " 'R04-25-U': {'label': 'Y',\n",
       "  'statute': '(Interest) Article 589 (1) In the absence of any special agreement, the lender may not demand interest from the borrower.',\n",
       "  'query': 'With respect to a loan for consumption under Civil code, in the absence of any special agreement, the lender may not demand interest from the borrower.'},\n",
       " 'R04-25-E': {'label': 'N',\n",
       "  'statute': '(Timing of Returns) Article 591 (2) The borrower may return the borrowed thing at any time, irrespective of whether the parties have defined the time of return of the thing.',\n",
       "  'query': 'With respect to a loan for consumption under Civil code, if the parties defined the time of return of the borrowed thing, the borrower may not return the thing prior to the time of return.'},\n",
       " 'R04-25-O': {'label': 'Y',\n",
       "  'statute': \"(Lender's Obligation to Deliver) Article 590 (2) Irrespective of whether there is any special agreement referred to in paragraph (1) of the preceding Article, if the thing delivered from the lender does not conform to the terms of the contract with respect to the kind or quality, the borrower may return the value of the delivered thing.\",\n",
       "  'query': 'With respect to a loan for consumption under Civil code, if the thing delivered from the lender does not conform to the terms of the contract with respect to the kind or quality, the borrower may return the value of the delivered thing.'},\n",
       " 'R04-26-A': {'label': 'N',\n",
       "  'statute': \"(Scope of Subject Matter of Statutory Liens for Leases of Immovables) Article 313 (2) The statutory lien of a lessor of a building exists against movables furnished to that building by the lessee. Article 316 If a lessor has received a security deposit prescribed in Article 622-2, paragraph (1), the lessor has a statutory lien solely against the portion of the lessor's claim that will not be satisfied by that security deposit.\",\n",
       "  'query': 'A leased Building X, which B owns, from B and delivered security deposit to B, and A failed to pay the rent. In this case, B may exercise the statutory lien against the movables furnished to that building by A even if the amount of unpaid rent is within the amount of security deposit.'},\n",
       " 'R04-26-I': {'label': 'N',\n",
       "  'statute': 'Article 622-2 (2) If the lessee fails to perform an obligation to pay money based on the lease, the lessor may appropriate the security deposit to the payment of the obligation. In such a case, the lessee may not demand that the lessor appropriate the security deposit to the payment of the obligation.',\n",
       "  'query': 'A leased Building X, which B owns, from B and delivered security deposit to B. In this case, A may demand that B appropriate the security deposit to the payment of rent while the lease continues.'},\n",
       " 'R04-26-U': {'label': 'N',\n",
       "  'statute': '(Content of Rights of Retention) Article 295 (1) If a possessor of a thing belonging to another person has a claim that has arisen in relation to that thing, that possessor may retain that thing until that claim is satisfied;provided, however, that this does not apply if the relevant claim has not yet fallen due. Article 622-2 (1) If a lessor receives a security deposit (meaning money to be delivered by the lessee to the lessor under any name, for the purpose of securing an obligation to pay money that is owed by the lessee to the lessor based on a lease, such as an obligation to pay rent; hereinafter the same applies in this Article), the lessor must return to the lessee the amount that remains after deducting the amount of the obligation to pay money that is owed by the lessee to the lessor based on the lease, from the amount of security deposit received, in the following cases: (i) if the lease is terminated, and the lessor receives the return of the leased thing; or',\n",
       "  'query': 'A leased Building X from B owned by B and delivered security deposit to B, and the lease was terminated. In this case, A may retain Building X until the security deposit is returned.'},\n",
       " 'R04-26-E': {'label': 'Y',\n",
       "  'statute': 'Article 622-2 (1) If a lessor receives a security deposit (meaning money to be delivered by the lessee to the lessor under any name, for the purpose of securing an obligation to pay money that is owed by the lessee to the lessor based on a lease, such as an obligation to pay rent; hereinafter the same applies in this Article), the lessor must return to the lessee the amount that remains after deducting the amount of the obligation to pay money that is owed by the lessee to the lessor based on the lease, from the amount of security deposit received, in the following cases: (ii) if the lessee assigns the lease lawfully.',\n",
       "  'query': 'A leased Building X, which B owns, from B and delivered security deposit to B, and A lawfully assigned the lease to C. In this case, A may demand the return of the security deposit from B.'},\n",
       " 'R04-27-A': {'label': 'Y',\n",
       "  'statute': '(Remuneration for Result) Article 648-2 (1) If the parties agree that remuneration will be paid for any result that may be obtained through the performance of the mandated business, and the result is required to be delivered, remuneration must be paid simultaneously upon the delivery of the result.',\n",
       "  'query': 'If the parties agree that remuneration will be paid for any result that may be obtained through the performance of the mandated business, and the result is required to be delivered, the mandator must pay the remuneration simultaneously upon the delivery of the result.'},\n",
       " 'R04-27-I': {'label': 'N',\n",
       "  'statute': '(Appointment of Sub-Mandatary) Article 644-2 (1) A mandatary may not appoint a sub-mandatary unless the mandatary obtains the permission of the mandator or there is a compelling reason to do so.',\n",
       "  'query': 'A mandatary may appoint a sub-mandatary without obtaining the permission of the mandator even if there is no compelling reason to do so.'},\n",
       " 'R04-27-U': {'label': 'N',\n",
       "  'statute': '(Cancellation of Mandate) Article 651 (1) A mandate may be cancelled by either party at any time.',\n",
       "  'query': 'The mandator may not cancel the mandate at a time that is detrimental to the mandatary.'},\n",
       " 'R04-27-E': {'label': 'Y',\n",
       "  'statute': \"(Mandatary's Claims for Reimbursement of Expense) Article 650 (1) If the mandatary has expended costs found to be necessary for the administration of the mandated business, the mandatary may claim reimbursement of those costs from the mandator and any interest on the same from the day the costs were expended.\",\n",
       "  'query': 'If the mandatary has expended costs found to be necessary for the administration of the mandated business, the mandatary may claim reimbursement of those costs from the mandator and any interest on the same from the day the costs were expended.'},\n",
       " 'R04-27-O': {'label': 'Y',\n",
       "  'statute': '(Effect of Cancellation of Mandate) Article 652 The provisions of Article 620 apply mutatis mutandis to mandates. (Effect of Cancellations of Leases) Article 620 If a lease is cancelled, the cancellation becomes effective solely toward the future. In such a case, the cancellation does not preclude a claim for compensation for loss or damage.',\n",
       "  'query': 'A cancellation of a mandate becomes effective solely toward the future.'},\n",
       " 'R04-28-A': {'label': 'Y',\n",
       "  'statute': \"(Mutatis Mutandis Application of Provisions on Mandates) Article 701 The provisions of Article 645 through Article 647 apply mutatis mutandis to the benevolent intervention in another's business. (Mandatary's Claims for Reimbursement of Expense) Article 650 (3) If a mandatary incurs loss or damage that is not due to the negligence of the mandatary in order to administer the mandated business, the mandatary may claim compensation for this from the mandator.\",\n",
       "  'query': \"Even if a manager incurs loss or damage that is not due to the negligence of the manager in order to engage in the benevolent intervention in another's business, the manager may not claim compensation for this from the principal.\"},\n",
       " 'R04-28-I': {'label': 'N',\n",
       "  'statute': \"(Managers' Claims for Reimbursement of Costs) Article 702 (1) If a manager has incurred beneficial expenses for a principal, the manager may claim reimbursement of those costs from the principal. (3) If a manager has engaged in the benevolent intervention in another's business against the will of the principal, the provisions of the preceding two paragraphs apply mutatis mutandis, solely to the extent currently enriched.\",\n",
       "  'query': \"If it becomes evident after starting the benevolent intervention in another's business that the benevolent intervention in another's business is the contrary to the will of the principal, the manager may not claim reimbursement of the costs that the manager has already paid for from the principal.\"},\n",
       " 'R04-28-E': {'label': 'Y',\n",
       "  'statute': \"(Mutatis Mutandis Application of Provisions on Mandates) Article 701 The provisions of Article 645 through Article 647 apply mutatis mutandis to the benevolent intervention in another's business. (Reports by Mandatary) Article 645 A mandatary must, if so requested by the mandator, report the current status of the administration of the mandated business at any time, and must report the process and results without delay upon termination of the mandate.\",\n",
       "  'query': \"The manager must report the process and results without delay upon termination of the benevolent intervention in another's business.\"},\n",
       " 'R04-28-O': {'label': 'Y',\n",
       "  'statute': \"(Urgent Benevolent Intervention in Another's Business) Article 698 If a manager engages in benevolent intervention in another's business in order to allow a principal to escape imminent danger to the principal's person, reputation, or property, the manager is not liable to compensate for damage resulting from this unless the manager has acted in bad faith or with gross negligence.\",\n",
       "  'query': \"If a manager engages in benevolent intervention in another's business in order to allow a principal to escape imminent danger to the principal's property, the manager is not liable to compensate for damage resulting from this unless the manager has acted in bad faith or with gross negligence.\"},\n",
       " 'R04-29-I': {'label': 'Y',\n",
       "  'statute': '(Extinctive Prescription of Claim for Compensation for Loss or Damage Caused by Tort) Article 724 In the following cases, the claim for compensation for loss or damage caused by tort is extinguished by prescription: (ii) the right is not exercised within 20 years from the time of the tortious act.',\n",
       "  'query': 'The claim for compensation for loss or damage caused by tort is extinguished by prescription when the right is not exercised within 20 years from the time of the tortious act.'},\n",
       " 'R04-29-O': {'label': 'N',\n",
       "  'statute': '(Self-Defense and Necessity) Article 720 (1) A person that, in response to the tortious act of another, is compelled to commit a harmful act to protect rights or legally protected interests of the person or of a third party, is not liable for compensation for loss or damage;provided, however, that this does not preclude a victim from filing a claim of compensation for loss or damage against the person that committed the tortious act.',\n",
       "  'query': 'B, who, in response to the tortious act of A, committed a harmful act to protect rights of a third party C, is liable for compensation for loss or damage even if the harmful act is compelling.'},\n",
       " 'R04-33-I': {'label': 'Y',\n",
       "  'statute': '(Termination of Loan for Use upon Expiration of Period of Loan) Article 597 (3) A loan for use is terminated upon the death of the borrower.',\n",
       "  'query': 'If a borrower of a loan for use of land dies, an heir of the borrower may not keep using the land by succeeding the right of the loan for use.'},\n",
       " 'R04-36-A': {'label': 'Y',\n",
       "  'statute': '(Requirement for Perfection of Assignment of Claim) Article 467(1) The assignment of a claim (including the assignment of a claim that is yet to arise) may not be duly asserted against the applicable obligor or any other third party, unless the assignor gives notice thereof to the obligor or the obligor has consented to the same.',\n",
       "  'query': 'If an obligor consents to the assignment of the claim against either the assignor or the assignee, the assignee may duly assert the assignment of the claim against the obligor.'},\n",
       " 'R04-36-I': {'label': 'Y',\n",
       "  'statute': '(Offers That Do Not Specify Period for Acceptance) Article 525(1) An offer made without specifying a period for acceptance may not be revoked until the passage of a reasonable period of time for the offeror to receive a notice of acceptance;provided, however, that this does not apply if the offeror reserves the right to revoke.',\n",
       "  'query': 'An offer to a person at a distance made without specifying a period for acceptance may not be revoked until the passage of a reasonable period of time for the offeror to receive a notice of acceptance unless the offeror reserves the right to revoke.'},\n",
       " 'R04-36-U': {'label': 'Y',\n",
       "  'statute': '(Requirements for and Effect of Assumption of Obligation Not Releasing Obligor) Article 470 (3) The assumption of obligation not releasing an obligor may also be effected by a contract between the initial obligor and the person that becomes the additional obligor. In such a case, the assumption of obligation not releasing an obligor becomes effective when the obligee gives consent to the person that becomes the additional obligor.',\n",
       "  'query': 'The assumption of obligation not releasing an obligor by a contract between the initial obligor and the person that becomes the additional obligor becomes effective when the obligee gives consent to the person that becomes the additional obligor.'},\n",
       " 'R04-36-E': {'label': 'N',\n",
       "  'statute': '(Use of Bailed Thing and Custody by Third Parties) Article 658(1) A bailee may not use the bailed thing without obtaining the consent of the bailor.',\n",
       "  'query': 'A gratuitous bailee may use the bailed thing in compliance with the method of use without obtaining the consent of the bailor.'},\n",
       " 'R04-37-A': {'label': 'N',\n",
       "  'statute': \"(Possessors' Claims for Reimbursement of Expenses) Article 196 (2) With respect to the costs paid for by a possessor to improve the thing in the possession thereof and other beneficial expenses, the possessor may have the person recovering the thing reimburse the possessor for either the costs the possessor has paid or the amount of the increased value, whichever the person recovering the thing chooses, but only if there is a current increase in value;provided, however, that with regard to a possessor in bad faith, the court may, at the request of the person recovering the thing, grant a reasonable period of time for the same.\",\n",
       "  'query': 'A possessor claimed the reimbursement of beneficial expenses against the owner when the possessor returned the thing in possession. In this case, the court may, at the request of the owner, grant a reasonable period of time for the reimbursement even if the possessor was in good faith.'},\n",
       " 'R04-37-I': {'label': 'N',\n",
       "  'statute': '(Enforcement of Pledges on Movables) Article 354 If the claim of a pledgee of movables is not satisfied, the pledgee may make a request to the court seeking the immediate appropriation of the thing pledged for the satisfaction of that claim in accordance with the evaluation of an appraiser only when there are reasonable grounds.In this case, the pledgee of movables must notify the obligor in advance of the request.',\n",
       "  'query': 'If the claim of a pledgee of movables is not satisfied, the pledgee may immediately appropriate the thing pledged for the satisfaction of that claim by getting the permission of the court, instead of getting the evaluation of an appraiser, only when there are reasonable grounds for not getting the evaluation of an appraiser.'},\n",
       " 'R04-37-U': {'label': 'Y',\n",
       "  'statute': '(Deposit) Article 494(1) In the following cases, a performer may deposit the subject matter of the performance with an official depository for the benefit of the obligee. In such a case, the claim is extinguished when the performer makes the deposit: (i) the performer tenders the performance, and the obligee refuses to accept it;  (Thing Not Suitable for Deposit) Article 497 In the following cases, the performer may, with the permission of the court, sell the thing that is the subject matter of performance at public auction and deposit the proceeds of such sales with an official depository: (iii) excessive expenses are required for the preservation of the thing; or',\n",
       "  'query': 'A performer tendered the performance, and the obligee refused to accept it. In this case, if excessive expenses are required for the preservation of the thing, the performer may, with the permission of the court, sell the thing that is the subject matter of performance at a public auction and deposit the proceeds of such sales with an official depository.'}}"
      ]
     },
     "execution_count": 27,
     "metadata": {},
     "output_type": "execute_result"
    }
   ],
   "source": [
    "test_file = \"../data/COLIEE2024statute_data-English/train/riteval_R04_en.xml\"\n",
    "data = build_test(test_file)\n",
    "data"
   ]
  },
  {
   "cell_type": "code",
   "execution_count": 28,
   "id": "fa14738b-99c3-4045-a299-c9569b2cf4cf",
   "metadata": {},
   "outputs": [],
   "source": [
    "def format_prompt(prompt, system_prompt=\"\"):\n",
    "    if system_prompt.strip():\n",
    "        return f\"[INST] {system_prompt} {prompt} [/INST]\"\n",
    "    return f\"[INST] {prompt} [/INST]\""
   ]
  },
  {
   "cell_type": "code",
   "execution_count": 33,
   "id": "ddaf902c-af18-4147-84fb-3b65e46f8eb8",
   "metadata": {},
   "outputs": [
    {
     "name": "stderr",
     "output_type": "stream",
     "text": [
      "Setting `pad_token_id` to `eos_token_id`:2 for open-end generation.\n",
      "Setting `pad_token_id` to `eos_token_id`:2 for open-end generation.\n"
     ]
    },
    {
     "name": "stdout",
     "output_type": "stream",
     "text": [
      "R04-01-I :  \n",
      "Answer: No\n"
     ]
    },
    {
     "name": "stderr",
     "output_type": "stream",
     "text": [
      "Setting `pad_token_id` to `eos_token_id`:2 for open-end generation.\n"
     ]
    },
    {
     "name": "stdout",
     "output_type": "stream",
     "text": [
      "R04-01-U :  \n",
      "\n",
      "Answer:\n"
     ]
    },
    {
     "name": "stderr",
     "output_type": "stream",
     "text": [
      "Setting `pad_token_id` to `eos_token_id`:2 for open-end generation.\n"
     ]
    },
    {
     "name": "stdout",
     "output_type": "stream",
     "text": [
      "R04-01-E :  \n",
      "Answer: Yes\n"
     ]
    },
    {
     "name": "stderr",
     "output_type": "stream",
     "text": [
      "Setting `pad_token_id` to `eos_token_id`:2 for open-end generation.\n"
     ]
    },
    {
     "name": "stdout",
     "output_type": "stream",
     "text": [
      "R04-02-A :  \n",
      "\n",
      "Answer:\n"
     ]
    },
    {
     "name": "stderr",
     "output_type": "stream",
     "text": [
      "Setting `pad_token_id` to `eos_token_id`:2 for open-end generation.\n"
     ]
    },
    {
     "name": "stdout",
     "output_type": "stream",
     "text": [
      "R04-02-U :  \n",
      "Answer: Yes\n"
     ]
    },
    {
     "name": "stderr",
     "output_type": "stream",
     "text": [
      "Setting `pad_token_id` to `eos_token_id`:2 for open-end generation.\n"
     ]
    },
    {
     "name": "stdout",
     "output_type": "stream",
     "text": [
      "R04-02-E :  \n",
      "\n",
      "Answer:\n"
     ]
    },
    {
     "name": "stderr",
     "output_type": "stream",
     "text": [
      "Setting `pad_token_id` to `eos_token_id`:2 for open-end generation.\n"
     ]
    },
    {
     "name": "stdout",
     "output_type": "stream",
     "text": [
      "R04-03-A :  \n",
      "Answer: No\n"
     ]
    },
    {
     "name": "stderr",
     "output_type": "stream",
     "text": [
      "Setting `pad_token_id` to `eos_token_id`:2 for open-end generation.\n"
     ]
    },
    {
     "name": "stdout",
     "output_type": "stream",
     "text": [
      "R04-03-I :  \n",
      "\n",
      "Answer:\n"
     ]
    },
    {
     "name": "stderr",
     "output_type": "stream",
     "text": [
      "Setting `pad_token_id` to `eos_token_id`:2 for open-end generation.\n"
     ]
    },
    {
     "name": "stdout",
     "output_type": "stream",
     "text": [
      "R04-03-U :  \n",
      "\n",
      "Answer:\n"
     ]
    },
    {
     "name": "stderr",
     "output_type": "stream",
     "text": [
      "Setting `pad_token_id` to `eos_token_id`:2 for open-end generation.\n"
     ]
    },
    {
     "name": "stdout",
     "output_type": "stream",
     "text": [
      "R04-03-E :  \n",
      "Answer: Yes\n"
     ]
    },
    {
     "name": "stderr",
     "output_type": "stream",
     "text": [
      "Setting `pad_token_id` to `eos_token_id`:2 for open-end generation.\n"
     ]
    },
    {
     "name": "stdout",
     "output_type": "stream",
     "text": [
      "R04-03-O :  \n",
      "\n",
      "Answer:\n"
     ]
    },
    {
     "name": "stderr",
     "output_type": "stream",
     "text": [
      "Setting `pad_token_id` to `eos_token_id`:2 for open-end generation.\n"
     ]
    },
    {
     "name": "stdout",
     "output_type": "stream",
     "text": [
      "R04-04-A :  \n",
      "Answer: Yes\n"
     ]
    },
    {
     "name": "stderr",
     "output_type": "stream",
     "text": [
      "Setting `pad_token_id` to `eos_token_id`:2 for open-end generation.\n"
     ]
    },
    {
     "name": "stdout",
     "output_type": "stream",
     "text": [
      "R04-04-I :  \n",
      "\n",
      "Answer:\n"
     ]
    },
    {
     "name": "stderr",
     "output_type": "stream",
     "text": [
      "Setting `pad_token_id` to `eos_token_id`:2 for open-end generation.\n"
     ]
    },
    {
     "name": "stdout",
     "output_type": "stream",
     "text": [
      "R04-04-U :  \n",
      "Answer: Yes\n"
     ]
    },
    {
     "name": "stderr",
     "output_type": "stream",
     "text": [
      "Setting `pad_token_id` to `eos_token_id`:2 for open-end generation.\n"
     ]
    },
    {
     "name": "stdout",
     "output_type": "stream",
     "text": [
      "R04-04-E :  \n",
      "Answer: Yes\n"
     ]
    },
    {
     "name": "stderr",
     "output_type": "stream",
     "text": [
      "Setting `pad_token_id` to `eos_token_id`:2 for open-end generation.\n"
     ]
    },
    {
     "name": "stdout",
     "output_type": "stream",
     "text": [
      "R04-04-O :  \n",
      "Answer: Yes\n"
     ]
    },
    {
     "name": "stderr",
     "output_type": "stream",
     "text": [
      "Setting `pad_token_id` to `eos_token_id`:2 for open-end generation.\n"
     ]
    },
    {
     "name": "stdout",
     "output_type": "stream",
     "text": [
      "R04-05-U :  \n",
      "\n",
      "Answer:\n"
     ]
    },
    {
     "name": "stderr",
     "output_type": "stream",
     "text": [
      "Setting `pad_token_id` to `eos_token_id`:2 for open-end generation.\n"
     ]
    },
    {
     "name": "stdout",
     "output_type": "stream",
     "text": [
      "R04-06-A :  \n",
      "Answer: No\n"
     ]
    },
    {
     "name": "stderr",
     "output_type": "stream",
     "text": [
      "Setting `pad_token_id` to `eos_token_id`:2 for open-end generation.\n"
     ]
    },
    {
     "name": "stdout",
     "output_type": "stream",
     "text": [
      "R04-07-A :  \n",
      "\n",
      "Answer:\n"
     ]
    },
    {
     "name": "stderr",
     "output_type": "stream",
     "text": [
      "Setting `pad_token_id` to `eos_token_id`:2 for open-end generation.\n"
     ]
    },
    {
     "name": "stdout",
     "output_type": "stream",
     "text": [
      "R04-07-I :  \n",
      "\n",
      "Answer:\n"
     ]
    },
    {
     "name": "stderr",
     "output_type": "stream",
     "text": [
      "Setting `pad_token_id` to `eos_token_id`:2 for open-end generation.\n"
     ]
    },
    {
     "name": "stdout",
     "output_type": "stream",
     "text": [
      "R04-07-O :  \n",
      "\n",
      "Answer:\n"
     ]
    },
    {
     "name": "stderr",
     "output_type": "stream",
     "text": [
      "Setting `pad_token_id` to `eos_token_id`:2 for open-end generation.\n"
     ]
    },
    {
     "name": "stdout",
     "output_type": "stream",
     "text": [
      "R04-08-A :  \n",
      "\n",
      "Answer:\n"
     ]
    },
    {
     "name": "stderr",
     "output_type": "stream",
     "text": [
      "Setting `pad_token_id` to `eos_token_id`:2 for open-end generation.\n"
     ]
    },
    {
     "name": "stdout",
     "output_type": "stream",
     "text": [
      "R04-08-O :  \n",
      "\n",
      "Answer:\n"
     ]
    },
    {
     "name": "stderr",
     "output_type": "stream",
     "text": [
      "Setting `pad_token_id` to `eos_token_id`:2 for open-end generation.\n"
     ]
    },
    {
     "name": "stdout",
     "output_type": "stream",
     "text": [
      "R04-09-A :  \n",
      "Answer: Yes\n"
     ]
    },
    {
     "name": "stderr",
     "output_type": "stream",
     "text": [
      "Setting `pad_token_id` to `eos_token_id`:2 for open-end generation.\n"
     ]
    },
    {
     "name": "stdout",
     "output_type": "stream",
     "text": [
      "R04-09-I :  \n",
      "\n",
      "Answer:\n"
     ]
    },
    {
     "name": "stderr",
     "output_type": "stream",
     "text": [
      "Setting `pad_token_id` to `eos_token_id`:2 for open-end generation.\n"
     ]
    },
    {
     "name": "stdout",
     "output_type": "stream",
     "text": [
      "R04-09-U :  \n",
      "Answer: Yes\n"
     ]
    },
    {
     "name": "stderr",
     "output_type": "stream",
     "text": [
      "Setting `pad_token_id` to `eos_token_id`:2 for open-end generation.\n"
     ]
    },
    {
     "name": "stdout",
     "output_type": "stream",
     "text": [
      "R04-10-U :  \n",
      "\n",
      "Answer:\n"
     ]
    },
    {
     "name": "stderr",
     "output_type": "stream",
     "text": [
      "Setting `pad_token_id` to `eos_token_id`:2 for open-end generation.\n"
     ]
    },
    {
     "name": "stdout",
     "output_type": "stream",
     "text": [
      "R04-10-O :  \n",
      "\n",
      "Answer:\n"
     ]
    },
    {
     "name": "stderr",
     "output_type": "stream",
     "text": [
      "Setting `pad_token_id` to `eos_token_id`:2 for open-end generation.\n"
     ]
    },
    {
     "name": "stdout",
     "output_type": "stream",
     "text": [
      "R04-11-A :  \n",
      "\n",
      "Answer:\n"
     ]
    },
    {
     "name": "stderr",
     "output_type": "stream",
     "text": [
      "Setting `pad_token_id` to `eos_token_id`:2 for open-end generation.\n"
     ]
    },
    {
     "name": "stdout",
     "output_type": "stream",
     "text": [
      "R04-11-U :  \n",
      "\n",
      "Answer:\n"
     ]
    },
    {
     "name": "stderr",
     "output_type": "stream",
     "text": [
      "Setting `pad_token_id` to `eos_token_id`:2 for open-end generation.\n"
     ]
    },
    {
     "name": "stdout",
     "output_type": "stream",
     "text": [
      "R04-11-E :  \n",
      "Answer: No\n"
     ]
    },
    {
     "name": "stderr",
     "output_type": "stream",
     "text": [
      "Setting `pad_token_id` to `eos_token_id`:2 for open-end generation.\n"
     ]
    },
    {
     "name": "stdout",
     "output_type": "stream",
     "text": [
      "R04-12-A :  \n",
      "Answer: Yes\n"
     ]
    },
    {
     "name": "stderr",
     "output_type": "stream",
     "text": [
      "Setting `pad_token_id` to `eos_token_id`:2 for open-end generation.\n"
     ]
    },
    {
     "name": "stdout",
     "output_type": "stream",
     "text": [
      "R04-12-U :  \n",
      "\n",
      "Answer:\n"
     ]
    },
    {
     "name": "stderr",
     "output_type": "stream",
     "text": [
      "Setting `pad_token_id` to `eos_token_id`:2 for open-end generation.\n"
     ]
    },
    {
     "name": "stdout",
     "output_type": "stream",
     "text": [
      "R04-13-U :  \n",
      "\n",
      "Answer:\n"
     ]
    },
    {
     "name": "stderr",
     "output_type": "stream",
     "text": [
      "Setting `pad_token_id` to `eos_token_id`:2 for open-end generation.\n"
     ]
    },
    {
     "name": "stdout",
     "output_type": "stream",
     "text": [
      "R04-13-E :  \n",
      "\n",
      "Answer:\n"
     ]
    },
    {
     "name": "stderr",
     "output_type": "stream",
     "text": [
      "Setting `pad_token_id` to `eos_token_id`:2 for open-end generation.\n"
     ]
    },
    {
     "name": "stdout",
     "output_type": "stream",
     "text": [
      "R04-13-O :  \n",
      "Answer: Yes\n"
     ]
    },
    {
     "name": "stderr",
     "output_type": "stream",
     "text": [
      "Setting `pad_token_id` to `eos_token_id`:2 for open-end generation.\n"
     ]
    },
    {
     "name": "stdout",
     "output_type": "stream",
     "text": [
      "R04-14-A :  \n",
      "Answer: Yes\n"
     ]
    },
    {
     "name": "stderr",
     "output_type": "stream",
     "text": [
      "Setting `pad_token_id` to `eos_token_id`:2 for open-end generation.\n"
     ]
    },
    {
     "name": "stdout",
     "output_type": "stream",
     "text": [
      "R04-14-U :  \n",
      "Answer: Yes\n"
     ]
    },
    {
     "name": "stderr",
     "output_type": "stream",
     "text": [
      "Setting `pad_token_id` to `eos_token_id`:2 for open-end generation.\n"
     ]
    },
    {
     "name": "stdout",
     "output_type": "stream",
     "text": [
      "R04-14-E :  \n",
      "\n",
      "Answer:\n"
     ]
    },
    {
     "name": "stderr",
     "output_type": "stream",
     "text": [
      "Setting `pad_token_id` to `eos_token_id`:2 for open-end generation.\n"
     ]
    },
    {
     "name": "stdout",
     "output_type": "stream",
     "text": [
      "R04-14-O :  \n",
      "\n",
      "Answer:\n"
     ]
    },
    {
     "name": "stderr",
     "output_type": "stream",
     "text": [
      "Setting `pad_token_id` to `eos_token_id`:2 for open-end generation.\n"
     ]
    },
    {
     "name": "stdout",
     "output_type": "stream",
     "text": [
      "R04-16-I :  \n",
      "\n",
      "Answer:\n"
     ]
    },
    {
     "name": "stderr",
     "output_type": "stream",
     "text": [
      "Setting `pad_token_id` to `eos_token_id`:2 for open-end generation.\n"
     ]
    },
    {
     "name": "stdout",
     "output_type": "stream",
     "text": [
      "R04-16-U :  \n",
      "\n",
      "Answer:\n"
     ]
    },
    {
     "name": "stderr",
     "output_type": "stream",
     "text": [
      "Setting `pad_token_id` to `eos_token_id`:2 for open-end generation.\n"
     ]
    },
    {
     "name": "stdout",
     "output_type": "stream",
     "text": [
      "R04-16-E :  \n",
      "\n",
      "Answer:\n"
     ]
    },
    {
     "name": "stderr",
     "output_type": "stream",
     "text": [
      "Setting `pad_token_id` to `eos_token_id`:2 for open-end generation.\n"
     ]
    },
    {
     "name": "stdout",
     "output_type": "stream",
     "text": [
      "R04-16-O :  \n",
      "\n",
      "Answer:\n"
     ]
    },
    {
     "name": "stderr",
     "output_type": "stream",
     "text": [
      "Setting `pad_token_id` to `eos_token_id`:2 for open-end generation.\n"
     ]
    },
    {
     "name": "stdout",
     "output_type": "stream",
     "text": [
      "R04-18-A :  \n",
      "\n",
      "Answer:\n"
     ]
    },
    {
     "name": "stderr",
     "output_type": "stream",
     "text": [
      "Setting `pad_token_id` to `eos_token_id`:2 for open-end generation.\n"
     ]
    },
    {
     "name": "stdout",
     "output_type": "stream",
     "text": [
      "R04-18-U :  \n",
      "\n",
      "Answer:\n"
     ]
    },
    {
     "name": "stderr",
     "output_type": "stream",
     "text": [
      "Setting `pad_token_id` to `eos_token_id`:2 for open-end generation.\n"
     ]
    },
    {
     "name": "stdout",
     "output_type": "stream",
     "text": [
      "R04-18-O :  \n",
      "Answer: Yes\n"
     ]
    },
    {
     "name": "stderr",
     "output_type": "stream",
     "text": [
      "Setting `pad_token_id` to `eos_token_id`:2 for open-end generation.\n"
     ]
    },
    {
     "name": "stdout",
     "output_type": "stream",
     "text": [
      "R04-19-A :  \n",
      "\n",
      "Answer:\n"
     ]
    },
    {
     "name": "stderr",
     "output_type": "stream",
     "text": [
      "Setting `pad_token_id` to `eos_token_id`:2 for open-end generation.\n"
     ]
    },
    {
     "name": "stdout",
     "output_type": "stream",
     "text": [
      "R04-19-I :  \n",
      "Answer: No\n"
     ]
    },
    {
     "name": "stderr",
     "output_type": "stream",
     "text": [
      "Setting `pad_token_id` to `eos_token_id`:2 for open-end generation.\n"
     ]
    },
    {
     "name": "stdout",
     "output_type": "stream",
     "text": [
      "R04-19-U :  \n",
      "\n",
      "Answer:\n"
     ]
    },
    {
     "name": "stderr",
     "output_type": "stream",
     "text": [
      "Setting `pad_token_id` to `eos_token_id`:2 for open-end generation.\n"
     ]
    },
    {
     "name": "stdout",
     "output_type": "stream",
     "text": [
      "R04-19-E :  \n",
      "\n",
      "Answer:\n"
     ]
    },
    {
     "name": "stderr",
     "output_type": "stream",
     "text": [
      "Setting `pad_token_id` to `eos_token_id`:2 for open-end generation.\n"
     ]
    },
    {
     "name": "stdout",
     "output_type": "stream",
     "text": [
      "R04-19-O :  \n",
      "Answer: Yes\n"
     ]
    },
    {
     "name": "stderr",
     "output_type": "stream",
     "text": [
      "Setting `pad_token_id` to `eos_token_id`:2 for open-end generation.\n"
     ]
    },
    {
     "name": "stdout",
     "output_type": "stream",
     "text": [
      "R04-20-A :  \n",
      "Answer: No\n"
     ]
    },
    {
     "name": "stderr",
     "output_type": "stream",
     "text": [
      "Setting `pad_token_id` to `eos_token_id`:2 for open-end generation.\n"
     ]
    },
    {
     "name": "stdout",
     "output_type": "stream",
     "text": [
      "R04-20-I :  \n",
      "\n",
      "Answer:\n"
     ]
    },
    {
     "name": "stderr",
     "output_type": "stream",
     "text": [
      "Setting `pad_token_id` to `eos_token_id`:2 for open-end generation.\n"
     ]
    },
    {
     "name": "stdout",
     "output_type": "stream",
     "text": [
      "R04-20-U :  \n",
      "\n",
      "Answer:\n"
     ]
    },
    {
     "name": "stderr",
     "output_type": "stream",
     "text": [
      "Setting `pad_token_id` to `eos_token_id`:2 for open-end generation.\n"
     ]
    },
    {
     "name": "stdout",
     "output_type": "stream",
     "text": [
      "R04-20-E :  \n",
      "Answer: Yes\n"
     ]
    },
    {
     "name": "stderr",
     "output_type": "stream",
     "text": [
      "Setting `pad_token_id` to `eos_token_id`:2 for open-end generation.\n"
     ]
    },
    {
     "name": "stdout",
     "output_type": "stream",
     "text": [
      "R04-20-O :  \n",
      "Answer: No\n"
     ]
    },
    {
     "name": "stderr",
     "output_type": "stream",
     "text": [
      "Setting `pad_token_id` to `eos_token_id`:2 for open-end generation.\n"
     ]
    },
    {
     "name": "stdout",
     "output_type": "stream",
     "text": [
      "R04-21-I :  \n",
      "\n",
      "Answer:\n"
     ]
    },
    {
     "name": "stderr",
     "output_type": "stream",
     "text": [
      "Setting `pad_token_id` to `eos_token_id`:2 for open-end generation.\n"
     ]
    },
    {
     "name": "stdout",
     "output_type": "stream",
     "text": [
      "R04-21-U :  \n",
      "\n",
      "Answer:\n"
     ]
    },
    {
     "name": "stderr",
     "output_type": "stream",
     "text": [
      "Setting `pad_token_id` to `eos_token_id`:2 for open-end generation.\n"
     ]
    },
    {
     "name": "stdout",
     "output_type": "stream",
     "text": [
      "R04-21-E :  \n",
      "\n",
      "Answer:\n"
     ]
    },
    {
     "name": "stderr",
     "output_type": "stream",
     "text": [
      "Setting `pad_token_id` to `eos_token_id`:2 for open-end generation.\n"
     ]
    },
    {
     "name": "stdout",
     "output_type": "stream",
     "text": [
      "R04-21-O :  \n",
      "\n",
      "Answer:\n"
     ]
    },
    {
     "name": "stderr",
     "output_type": "stream",
     "text": [
      "Setting `pad_token_id` to `eos_token_id`:2 for open-end generation.\n"
     ]
    },
    {
     "name": "stdout",
     "output_type": "stream",
     "text": [
      "R04-22-A :  \n",
      "Answer: Yes\n"
     ]
    },
    {
     "name": "stderr",
     "output_type": "stream",
     "text": [
      "Setting `pad_token_id` to `eos_token_id`:2 for open-end generation.\n"
     ]
    },
    {
     "name": "stdout",
     "output_type": "stream",
     "text": [
      "R04-22-I :  \n",
      "Answer: Yes\n"
     ]
    },
    {
     "name": "stderr",
     "output_type": "stream",
     "text": [
      "Setting `pad_token_id` to `eos_token_id`:2 for open-end generation.\n"
     ]
    },
    {
     "name": "stdout",
     "output_type": "stream",
     "text": [
      "R04-22-O :  \n",
      "\n",
      "Answer:\n"
     ]
    },
    {
     "name": "stderr",
     "output_type": "stream",
     "text": [
      "Setting `pad_token_id` to `eos_token_id`:2 for open-end generation.\n"
     ]
    },
    {
     "name": "stdout",
     "output_type": "stream",
     "text": [
      "R04-23-A :  \n",
      "Answer: Yes\n"
     ]
    },
    {
     "name": "stderr",
     "output_type": "stream",
     "text": [
      "Setting `pad_token_id` to `eos_token_id`:2 for open-end generation.\n"
     ]
    },
    {
     "name": "stdout",
     "output_type": "stream",
     "text": [
      "R04-23-I :  \n",
      "Answer: Yes\n"
     ]
    },
    {
     "name": "stderr",
     "output_type": "stream",
     "text": [
      "Setting `pad_token_id` to `eos_token_id`:2 for open-end generation.\n"
     ]
    },
    {
     "name": "stdout",
     "output_type": "stream",
     "text": [
      "R04-23-U :  \n",
      "Answer: Yes\n"
     ]
    },
    {
     "name": "stderr",
     "output_type": "stream",
     "text": [
      "Setting `pad_token_id` to `eos_token_id`:2 for open-end generation.\n"
     ]
    },
    {
     "name": "stdout",
     "output_type": "stream",
     "text": [
      "R04-23-E :  \n",
      "\n",
      "Answer:\n"
     ]
    },
    {
     "name": "stderr",
     "output_type": "stream",
     "text": [
      "Setting `pad_token_id` to `eos_token_id`:2 for open-end generation.\n"
     ]
    },
    {
     "name": "stdout",
     "output_type": "stream",
     "text": [
      "R04-23-O :  \n",
      "Answer: No\n"
     ]
    },
    {
     "name": "stderr",
     "output_type": "stream",
     "text": [
      "Setting `pad_token_id` to `eos_token_id`:2 for open-end generation.\n"
     ]
    },
    {
     "name": "stdout",
     "output_type": "stream",
     "text": [
      "R04-24-I :  \n",
      "Answer: No\n"
     ]
    },
    {
     "name": "stderr",
     "output_type": "stream",
     "text": [
      "Setting `pad_token_id` to `eos_token_id`:2 for open-end generation.\n"
     ]
    },
    {
     "name": "stdout",
     "output_type": "stream",
     "text": [
      "R04-24-U :  \n",
      "Answer: No\n"
     ]
    },
    {
     "name": "stderr",
     "output_type": "stream",
     "text": [
      "Setting `pad_token_id` to `eos_token_id`:2 for open-end generation.\n"
     ]
    },
    {
     "name": "stdout",
     "output_type": "stream",
     "text": [
      "R04-24-E :  \n",
      "Answer: Yes\n"
     ]
    },
    {
     "name": "stderr",
     "output_type": "stream",
     "text": [
      "Setting `pad_token_id` to `eos_token_id`:2 for open-end generation.\n"
     ]
    },
    {
     "name": "stdout",
     "output_type": "stream",
     "text": [
      "R04-24-O :  \n",
      "\n",
      "Answer:\n"
     ]
    },
    {
     "name": "stderr",
     "output_type": "stream",
     "text": [
      "Setting `pad_token_id` to `eos_token_id`:2 for open-end generation.\n"
     ]
    },
    {
     "name": "stdout",
     "output_type": "stream",
     "text": [
      "R04-25-A :  \n",
      "Answer: No\n"
     ]
    },
    {
     "name": "stderr",
     "output_type": "stream",
     "text": [
      "Setting `pad_token_id` to `eos_token_id`:2 for open-end generation.\n"
     ]
    },
    {
     "name": "stdout",
     "output_type": "stream",
     "text": [
      "R04-25-I :  \n",
      "Answer: Yes\n"
     ]
    },
    {
     "name": "stderr",
     "output_type": "stream",
     "text": [
      "Setting `pad_token_id` to `eos_token_id`:2 for open-end generation.\n"
     ]
    },
    {
     "name": "stdout",
     "output_type": "stream",
     "text": [
      "R04-25-U :  \n",
      "\n",
      "Answer:\n"
     ]
    },
    {
     "name": "stderr",
     "output_type": "stream",
     "text": [
      "Setting `pad_token_id` to `eos_token_id`:2 for open-end generation.\n"
     ]
    },
    {
     "name": "stdout",
     "output_type": "stream",
     "text": [
      "R04-25-E :  \n",
      "\n",
      "Answer:\n"
     ]
    },
    {
     "name": "stderr",
     "output_type": "stream",
     "text": [
      "Setting `pad_token_id` to `eos_token_id`:2 for open-end generation.\n"
     ]
    },
    {
     "name": "stdout",
     "output_type": "stream",
     "text": [
      "R04-25-O :  \n",
      "\n",
      "Answer:\n"
     ]
    },
    {
     "name": "stderr",
     "output_type": "stream",
     "text": [
      "Setting `pad_token_id` to `eos_token_id`:2 for open-end generation.\n"
     ]
    },
    {
     "name": "stdout",
     "output_type": "stream",
     "text": [
      "R04-26-A :  \n",
      "\n",
      "Answer:\n"
     ]
    },
    {
     "name": "stderr",
     "output_type": "stream",
     "text": [
      "Setting `pad_token_id` to `eos_token_id`:2 for open-end generation.\n"
     ]
    },
    {
     "name": "stdout",
     "output_type": "stream",
     "text": [
      "R04-26-I :  \n",
      "\n",
      "Answer:\n"
     ]
    },
    {
     "name": "stderr",
     "output_type": "stream",
     "text": [
      "Setting `pad_token_id` to `eos_token_id`:2 for open-end generation.\n"
     ]
    },
    {
     "name": "stdout",
     "output_type": "stream",
     "text": [
      "R04-26-U :  \n",
      "Answer: Yes\n"
     ]
    },
    {
     "name": "stderr",
     "output_type": "stream",
     "text": [
      "Setting `pad_token_id` to `eos_token_id`:2 for open-end generation.\n"
     ]
    },
    {
     "name": "stdout",
     "output_type": "stream",
     "text": [
      "R04-26-E :  \n",
      "Answer: Yes\n"
     ]
    },
    {
     "name": "stderr",
     "output_type": "stream",
     "text": [
      "Setting `pad_token_id` to `eos_token_id`:2 for open-end generation.\n"
     ]
    },
    {
     "name": "stdout",
     "output_type": "stream",
     "text": [
      "R04-27-A :  \n",
      "\n",
      "Answer:\n"
     ]
    },
    {
     "name": "stderr",
     "output_type": "stream",
     "text": [
      "Setting `pad_token_id` to `eos_token_id`:2 for open-end generation.\n"
     ]
    },
    {
     "name": "stdout",
     "output_type": "stream",
     "text": [
      "R04-27-I :  \n",
      "Answer: No\n"
     ]
    },
    {
     "name": "stderr",
     "output_type": "stream",
     "text": [
      "Setting `pad_token_id` to `eos_token_id`:2 for open-end generation.\n"
     ]
    },
    {
     "name": "stdout",
     "output_type": "stream",
     "text": [
      "R04-27-U :  \n",
      "Answer: No\n"
     ]
    },
    {
     "name": "stderr",
     "output_type": "stream",
     "text": [
      "Setting `pad_token_id` to `eos_token_id`:2 for open-end generation.\n"
     ]
    },
    {
     "name": "stdout",
     "output_type": "stream",
     "text": [
      "R04-27-E :  \n",
      "Answer: Yes\n"
     ]
    },
    {
     "name": "stderr",
     "output_type": "stream",
     "text": [
      "Setting `pad_token_id` to `eos_token_id`:2 for open-end generation.\n"
     ]
    },
    {
     "name": "stdout",
     "output_type": "stream",
     "text": [
      "R04-27-O :  \n",
      "Answer: Yes\n"
     ]
    },
    {
     "name": "stderr",
     "output_type": "stream",
     "text": [
      "Setting `pad_token_id` to `eos_token_id`:2 for open-end generation.\n"
     ]
    },
    {
     "name": "stdout",
     "output_type": "stream",
     "text": [
      "R04-28-A :  \n",
      "Answer: Yes\n"
     ]
    },
    {
     "name": "stderr",
     "output_type": "stream",
     "text": [
      "Setting `pad_token_id` to `eos_token_id`:2 for open-end generation.\n"
     ]
    },
    {
     "name": "stdout",
     "output_type": "stream",
     "text": [
      "R04-28-I :  \n",
      "\n",
      "Answer:\n"
     ]
    },
    {
     "name": "stderr",
     "output_type": "stream",
     "text": [
      "Setting `pad_token_id` to `eos_token_id`:2 for open-end generation.\n"
     ]
    },
    {
     "name": "stdout",
     "output_type": "stream",
     "text": [
      "R04-28-E :  \n",
      "\n",
      "Answer:\n"
     ]
    },
    {
     "name": "stderr",
     "output_type": "stream",
     "text": [
      "Setting `pad_token_id` to `eos_token_id`:2 for open-end generation.\n"
     ]
    },
    {
     "name": "stdout",
     "output_type": "stream",
     "text": [
      "R04-28-O :  \n",
      "\n",
      "Answer:\n"
     ]
    },
    {
     "name": "stderr",
     "output_type": "stream",
     "text": [
      "Setting `pad_token_id` to `eos_token_id`:2 for open-end generation.\n"
     ]
    },
    {
     "name": "stdout",
     "output_type": "stream",
     "text": [
      "R04-29-I :  \n",
      "\n",
      "Answer:\n"
     ]
    },
    {
     "name": "stderr",
     "output_type": "stream",
     "text": [
      "Setting `pad_token_id` to `eos_token_id`:2 for open-end generation.\n"
     ]
    },
    {
     "name": "stdout",
     "output_type": "stream",
     "text": [
      "R04-29-O :  \n",
      "\n",
      "Answer:\n"
     ]
    },
    {
     "name": "stderr",
     "output_type": "stream",
     "text": [
      "Setting `pad_token_id` to `eos_token_id`:2 for open-end generation.\n"
     ]
    },
    {
     "name": "stdout",
     "output_type": "stream",
     "text": [
      "R04-33-I :  \n",
      "\n",
      "Answer:\n"
     ]
    },
    {
     "name": "stderr",
     "output_type": "stream",
     "text": [
      "Setting `pad_token_id` to `eos_token_id`:2 for open-end generation.\n"
     ]
    },
    {
     "name": "stdout",
     "output_type": "stream",
     "text": [
      "R04-36-A :  \n",
      "\n",
      "Answer:\n"
     ]
    },
    {
     "name": "stderr",
     "output_type": "stream",
     "text": [
      "Setting `pad_token_id` to `eos_token_id`:2 for open-end generation.\n"
     ]
    },
    {
     "name": "stdout",
     "output_type": "stream",
     "text": [
      "R04-36-I :  \n",
      "\n",
      "Answer:\n"
     ]
    },
    {
     "name": "stderr",
     "output_type": "stream",
     "text": [
      "Setting `pad_token_id` to `eos_token_id`:2 for open-end generation.\n"
     ]
    },
    {
     "name": "stdout",
     "output_type": "stream",
     "text": [
      "R04-36-U :  \n",
      "\n",
      "Answer:\n"
     ]
    },
    {
     "name": "stderr",
     "output_type": "stream",
     "text": [
      "Setting `pad_token_id` to `eos_token_id`:2 for open-end generation.\n"
     ]
    },
    {
     "name": "stdout",
     "output_type": "stream",
     "text": [
      "R04-36-E :  \n",
      "\n",
      "Answer:\n"
     ]
    },
    {
     "name": "stderr",
     "output_type": "stream",
     "text": [
      "Setting `pad_token_id` to `eos_token_id`:2 for open-end generation.\n"
     ]
    },
    {
     "name": "stdout",
     "output_type": "stream",
     "text": [
      "R04-37-A :  \n",
      "\n",
      "Answer:\n"
     ]
    },
    {
     "name": "stderr",
     "output_type": "stream",
     "text": [
      "Setting `pad_token_id` to `eos_token_id`:2 for open-end generation.\n"
     ]
    },
    {
     "name": "stdout",
     "output_type": "stream",
     "text": [
      "R04-37-I :  \n",
      "Answer: No\n",
      "R04-37-U :  \n",
      "\n",
      "Answer:\n"
     ]
    }
   ],
   "source": [
    "result = {}\n",
    "for id in data:\n",
    "    context = data[id]['statute']\n",
    "    query = data[id]['query']\n",
    "    prompt = \"EXAM\\n1. Answer by yes or no.\\n\\nDocument: {{premise}}\\nQuestion: {{hypothesis}}? \"\n",
    "    prompt = prompt.replace(\"{{premise}}\", context).replace(\"{{hypothesis}}\", query)\n",
    "    # prompt = format_prompt(prompt)\n",
    "    inputs = tokenizer(prompt, return_tensors=\"pt\")\n",
    "    outputs = model.generate(**inputs, max_new_tokens=5)\n",
    "    out = tokenizer.decode(outputs[0], skip_special_tokens=True).replace(prompt, \"\")\n",
    "    print(id, \": \", out)\n",
    "    result.update({id: out})"
   ]
  },
  {
   "cell_type": "code",
   "execution_count": 32,
   "id": "b7100109-6087-4b60-8579-05174ce5b6bf",
   "metadata": {},
   "outputs": [],
   "source": [
    "f = open(\"../data/infer/R04_mistral.xml\", \"w\")\n",
    "for k in result:\n",
    "    if \"Yes\" in result[k]:\n",
    "        f.write(k + \" Y \" + \"JNLP\"+\"\\n\")\n",
    "    elif \"No\" in result[k]:\n",
    "        f.write(k + \" N \" + \"JNLP\"+\"\\n\")"
   ]
  },
  {
   "cell_type": "code",
   "execution_count": null,
   "id": "99df05ca-a92d-4d7a-885d-ed136c57568d",
   "metadata": {},
   "outputs": [],
   "source": []
  }
 ],
 "metadata": {
  "kernelspec": {
   "display_name": "Python 3 (ipykernel)",
   "language": "python",
   "name": "python3"
  },
  "language_info": {
   "codemirror_mode": {
    "name": "ipython",
    "version": 3
   },
   "file_extension": ".py",
   "mimetype": "text/x-python",
   "name": "python",
   "nbconvert_exporter": "python",
   "pygments_lexer": "ipython3",
   "version": "3.10.13"
  }
 },
 "nbformat": 4,
 "nbformat_minor": 5
}
