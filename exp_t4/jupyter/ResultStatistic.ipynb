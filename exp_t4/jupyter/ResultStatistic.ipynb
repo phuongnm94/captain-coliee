{
 "cells": [
  {
   "cell_type": "code",
   "execution_count": 13,
   "id": "aad8feab-cdd7-4633-8ce7-4e88fb129d9d",
   "metadata": {},
   "outputs": [],
   "source": [
    "import json\n",
    "from os import listdir\n",
    "from os.path import isfile, join\n",
    "\n",
    "def get_all_files_from_path(mypath):\n",
    "    filenames = [join(mypath, f) for f in listdir(mypath) if isfile(join(mypath, f))]\n",
    "    return filenames\n",
    "    \n",
    "def readfile(filename):\n",
    "    f = open(filename)\n",
    "    data = json.load(f)\n",
    "    return data\n",
    "\n",
    "def get_avg_score(data):\n",
    "    sum_score = 0\n",
    "    for idx in data:\n",
    "        sum_score += data[idx]\n",
    "    return sum_score/len(data)\n",
    "# get_avg_score(data)\n",
    "\n",
    "def get_topk(list_prompt, data, avg_score):\n",
    "    for idx in data:\n",
    "        if data[idx] > avg_score:\n",
    "            if idx not in list_prompt:\n",
    "                list_prompt.update({idx: 1})\n",
    "            else:\n",
    "                list_prompt[idx] += 1\n",
    "    return list_prompt\n",
    "\n",
    "# list_prompt = {}\n",
    "# avg = get_avg_score(data)\n",
    "# get_topk(list_prompt, data, avg)\n",
    "\n",
    "def get_best_prompt(list_prompt, files):\n",
    "    for file in files:\n",
    "        data = readfile(file)\n",
    "        avg = get_avg_score(data)\n",
    "        list_prompt = get_topk(list_prompt, data, avg)\n",
    "    return list_prompt"
   ]
  },
  {
   "cell_type": "code",
   "execution_count": 21,
   "id": "af25f475-d7b6-4aca-99e4-f60fcc817d39",
   "metadata": {},
   "outputs": [],
   "source": [
    "path = \"/home/congnguyen/drive/Coliee2024/output/accuracy/\""
   ]
  },
  {
   "cell_type": "code",
   "execution_count": 22,
   "id": "0a746628-4489-4a9f-93b6-5bb2b7974095",
   "metadata": {
    "scrolled": true
   },
   "outputs": [
    {
     "data": {
      "text/plain": [
       "{'Prompt 0': 8,\n",
       " 'Prompt 14': 5,\n",
       " 'Prompt 16': 8,\n",
       " 'Prompt 2': 6,\n",
       " 'Prompt 26': 8,\n",
       " 'Prompt 36': 8,\n",
       " 'Prompt 46': 6,\n",
       " 'Prompt 47': 6,\n",
       " 'Prompt 48': 6,\n",
       " 'Prompt 49': 4,\n",
       " 'Prompt 5': 7,\n",
       " 'Prompt 50': 8,\n",
       " 'Prompt 51': 3,\n",
       " 'Prompt 52': 7,\n",
       " 'Prompt 53': 7,\n",
       " 'Prompt 54': 7,\n",
       " 'Prompt 6': 7,\n",
       " 'Prompt 11': 3,\n",
       " 'Prompt 15': 1,\n",
       " 'Prompt 19': 4,\n",
       " 'Prompt 23': 3,\n",
       " 'Prompt 29': 4,\n",
       " 'Prompt 33': 3,\n",
       " 'Prompt 39': 4,\n",
       " 'Prompt 4': 6,\n",
       " 'Prompt 43': 3,\n",
       " 'Prompt 55': 3,\n",
       " 'Prompt 7': 7,\n",
       " 'Prompt 8': 6,\n",
       " 'Prompt 20': 6,\n",
       " 'Prompt 30': 6,\n",
       " 'Prompt 40': 6,\n",
       " 'Prompt 1': 2,\n",
       " 'Prompt 10': 3,\n",
       " 'Prompt 21': 2,\n",
       " 'Prompt 22': 3,\n",
       " 'Prompt 31': 2,\n",
       " 'Prompt 32': 3,\n",
       " 'Prompt 41': 2,\n",
       " 'Prompt 42': 3,\n",
       " 'Prompt 9': 4,\n",
       " 'Prompt 24': 2,\n",
       " 'Prompt 34': 2,\n",
       " 'Prompt 44': 2,\n",
       " 'Prompt 12': 2,\n",
       " 'Prompt 13': 1}"
      ]
     },
     "execution_count": 22,
     "metadata": {},
     "output_type": "execute_result"
    }
   ],
   "source": [
    "list_prompt = {}\n",
    "\n",
    "for folder in [\"alpaca\", \"t5-xxl\"]:\n",
    "    absolute_path = path + folder\n",
    "    files = get_all_files_from_path(absolute_path)\n",
    "    list_prompt = get_best_prompt(list_prompt, files)\n",
    "list_prompt"
   ]
  },
  {
   "cell_type": "code",
   "execution_count": null,
   "id": "3944f331-9409-4bde-a5d6-254a6471a3d6",
   "metadata": {},
   "outputs": [],
   "source": []
  }
 ],
 "metadata": {
  "kernelspec": {
   "display_name": "Python 3 (ipykernel)",
   "language": "python",
   "name": "python3"
  },
  "language_info": {
   "codemirror_mode": {
    "name": "ipython",
    "version": 3
   },
   "file_extension": ".py",
   "mimetype": "text/x-python",
   "name": "python",
   "nbconvert_exporter": "python",
   "pygments_lexer": "ipython3",
   "version": "3.10.13"
  }
 },
 "nbformat": 4,
 "nbformat_minor": 5
}
