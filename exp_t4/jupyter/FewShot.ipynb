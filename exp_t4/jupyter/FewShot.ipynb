{
 "cells": [
  {
   "cell_type": "code",
   "execution_count": 1,
   "id": "47e19c6c-069f-4d75-95f3-824138faff74",
   "metadata": {},
   "outputs": [],
   "source": [
    "test_file = \"../data/COLIEE2024statute_data-English/train/riteval_R04_en.xml\"\n",
    "dev_file = \"../data/COLIEE2024statute_data-English/train/riteval_R03_en.xml\""
   ]
  },
  {
   "cell_type": "code",
   "execution_count": 2,
   "id": "90b50cab-3717-4a65-b774-23c2e9983d60",
   "metadata": {
    "jupyter": {
     "source_hidden": true
    }
   },
   "outputs": [],
   "source": [
    "from os import listdir\n",
    "from os.path import isfile, join\n",
    "\n",
    "def get_all_files_from_path(mypath):\n",
    "    filenames = [join(mypath, f) for f in listdir(mypath) if isfile(join(mypath, f))]\n",
    "    return filenames\n",
    "\n",
    "from bs4 import BeautifulSoup\n",
    "import re\n",
    "import json\n",
    "\n",
    "def get_article(articles):\n",
    "    result = {}\n",
    "    current_statue = \"(non-statute)\"\n",
    "    for i in re.split(r\"(.*)\", articles.strip()):\n",
    "        if len(i) == 0 or i == \"\\n\":\n",
    "            continue\n",
    "        if re.search(r\"^\\(.*\\)$\", i):\n",
    "            current_statue = i.strip()\n",
    "            if current_statue not in result:\n",
    "                result.update({current_statue: []})\n",
    "        else:\n",
    "            if current_statue not in result:\n",
    "                result.update({current_statue: []})\n",
    "            result[current_statue].append(i)\n",
    "    return result\n",
    "\n",
    "def build_test(filename):\n",
    "    result = {}\n",
    "    with open(filename, 'r') as f:\n",
    "        data = f.read()\n",
    "\n",
    "    data = BeautifulSoup(data, \"xml\").find_all('pair')\n",
    "    for i in data:\n",
    "        id = i.get('id')\n",
    "        result.update({id: {}})\n",
    "        result[id].update({\"label\": i.get('label')})\n",
    "        articles = i.find('t1').text.strip()\n",
    "        # articles = get_article(articles)\n",
    "        result[id].update({\"result\": articles})\n",
    "        result[id].update({\"content\": i.find('t2').text.strip()})\n",
    "    return result\n",
    "\n",
    "def write_json(filename, data):\n",
    "    with open(filename, 'w', encoding='utf-8') as f:\n",
    "        json.dump(data, f, ensure_ascii=False, indent=4)\n",
    "\n",
    "import xml.etree.ElementTree as Et\n",
    "import glob\n",
    "\n",
    "def format_first_line(text):\n",
    "    lines = text.split(\"\\n\")\n",
    "    results = []\n",
    "    for line in lines:\n",
    "        if line[0] == \"\":\n",
    "            continue\n",
    "        if line[0] == \"(\" and line[-1] == \")\":\n",
    "            continue\n",
    "        results.append(line)\n",
    "    return \"\\n\".join(results)\n",
    "\n",
    "def load_samples(filexml):\n",
    "    # try:\n",
    "        tree = Et.parse(filexml)\n",
    "        root = tree.getroot()\n",
    "        samples = []\n",
    "        for i in range(0, len(root)):\n",
    "            sample = {'result': []}\n",
    "            for j, e in enumerate(root[i]):\n",
    "                if e.tag == \"t1\":\n",
    "                    sample['result'] = format_first_line(e.text.strip())\n",
    "                elif e.tag == \"t2\":\n",
    "                    question = e.text.strip()\n",
    "                    sample['content'] = question if len(question) > 0 else None\n",
    "            sample.update(\n",
    "                {'index': root[i].attrib['id'], 'label': root[i].attrib.get('label', \"N\")})\n",
    "            # filter the noise samples\n",
    "            if sample['content'] is not None:\n",
    "                samples.append(sample)\n",
    "            else:\n",
    "                print(\"[Important warning] samples {} is ignored\".format(sample))\n",
    "        return samples\n",
    "\n",
    "def load_test_data_samples(path_folder_base, test_id):\n",
    "    data = []\n",
    "    test = load_samples(f\"{path_folder_base}/riteval_{test_id}.xml\")\n",
    "    for file_path in glob.glob(f\"{path_folder_base}/riteval_{test_id}.xml\"):\n",
    "        data = data + load_samples(file_path)\n",
    "    return data\n",
    "\n",
    "\n",
    "def load_all_data_samples(path_folder_base):\n",
    "    data = []\n",
    "    for file_path in glob.glob(\"{}/*.xml\".format(path_folder_base)):\n",
    "        data = data + load_samples(file_path)\n",
    "    return data\n",
    "\n",
    "def check_false_labels(pred, false_labels):\n",
    "\tfor label in false_labels:\n",
    "\t\tif label in pred:\n",
    "\t\t\treturn True\n",
    "\treturn False\n",
    "\n",
    "from tqdm import tqdm\n",
    "\n",
    "def format_output(text):\n",
    "\tCLEANR = re.compile('<.*?>') \n",
    "\tcleantext = re.sub(CLEANR, '', text)\n",
    "\treturn cleantext.strip().lower()\n",
    "\n",
    "def readfile(filename):\n",
    "    f = open(filename)\n",
    "    data = json.load(f)\n",
    "    return data"
   ]
  },
  {
   "cell_type": "code",
   "execution_count": 3,
   "id": "e030ec13-36c5-4600-9b2f-0fedf64c9478",
   "metadata": {},
   "outputs": [],
   "source": [
    "# def prompting(prompt=\"{{premise}}\\nBased on the previous passage, {{hypothesis}}? \", data=None):\n",
    "#     return prompt.replace(\"{{premise}}\", data['result']).replace('{{hypothesis}}', data['content'])"
   ]
  },
  {
   "cell_type": "code",
   "execution_count": 4,
   "id": "a6ab246f-2cab-4edf-b8f2-18820e73049b",
   "metadata": {},
   "outputs": [
    {
     "name": "stdout",
     "output_type": "stream",
     "text": [
      "1097\n"
     ]
    }
   ],
   "source": [
    "datas = get_all_files_from_path(\"../data/COLIEE2024statute_data-English/train\")\n",
    "corpus = []\n",
    "content = []\n",
    "labels = []\n",
    "for data in datas:\n",
    "    data = load_samples(data)\n",
    "    for item in data:\n",
    "        corpus.append(item[\"result\"])\n",
    "        content.append(item[\"content\"])\n",
    "        labels.append(item[\"label\"])\n",
    "print(len(corpus))"
   ]
  },
  {
   "cell_type": "code",
   "execution_count": 5,
   "id": "7f1d371d-2765-4245-a4ee-2f51f748187e",
   "metadata": {},
   "outputs": [
    {
     "name": "stderr",
     "output_type": "stream",
     "text": [
      "/home/congnguyen/drive/miniconda3/envs/myenv/lib/python3.10/site-packages/tqdm/auto.py:21: TqdmWarning: IProgress not found. Please update jupyter and ipywidgets. See https://ipywidgets.readthedocs.io/en/stable/user_install.html\n",
      "  from .autonotebook import tqdm as notebook_tqdm\n"
     ]
    }
   ],
   "source": [
    "from sentence_transformers import SentenceTransformer, util\n",
    "passage_encoder = SentenceTransformer('facebook-dpr-ctx_encoder-single-nq-base')\n",
    "\n",
    "passage_embeddings = passage_encoder.encode(corpus)\n",
    "\n",
    "query_encoder = SentenceTransformer('facebook-dpr-question_encoder-single-nq-base')\n"
   ]
  },
  {
   "cell_type": "code",
   "execution_count": 6,
   "id": "b5fecd2b-1741-4c55-b90d-03e6f6b8b7a6",
   "metadata": {},
   "outputs": [
    {
     "name": "stderr",
     "output_type": "stream",
     "text": [
      "Loading checkpoint shards: 100%|████████████████████████████████████████████████████████████████████████████████| 5/5 [00:12<00:00,  2.42s/it]\n"
     ]
    }
   ],
   "source": [
    "from transformers import AutoTokenizer, BloomForCausalLM, AutoTokenizer, AutoModelForSeq2SeqLM\n",
    "import torch\n",
    "\n",
    "model_name = \"google/flan-t5-xxl\"\n",
    "cache_dir = \"/home/congnguyen/drive/.cache\"\n",
    "tokenizer = AutoTokenizer.from_pretrained(model_name, cache_dir=cache_dir)\n",
    "model = AutoModelForSeq2SeqLM.from_pretrained(\n",
    "\t\tmodel_name, device_map=\"auto\", cache_dir=cache_dir, torch_dtype=torch.float16, load_in_8bit=True\n",
    "\t)"
   ]
  },
  {
   "cell_type": "code",
   "execution_count": 7,
   "id": "30a5ac6a-9805-4caf-a35b-c0fab498438a",
   "metadata": {},
   "outputs": [],
   "source": [
    "from tqdm import tqdm\n",
    "\n",
    "def format_output(text):\n",
    "\tCLEANR = re.compile('<.*?>') \n",
    "\tcleantext = re.sub(CLEANR, '', text)\n",
    "\treturn cleantext.strip().lower()\n",
    "    \n",
    "def few_shot_prompting(indexes, corpus, content, labels, prompt_template):\n",
    "    result = \"\"\n",
    "    for i in indexes:\n",
    "        answer = \"Yes\"\n",
    "        if \"N\" == labels[i]:\n",
    "            answer = \"No\"\n",
    "        prompt = prompt_template.replace(\"{{premise}}\", corpus[i]).replace('{{hypothesis}}', content[i]).replace('{{answer}}', answer)\n",
    "        result += prompt\n",
    "    return result\n",
    "    \n",
    "prompt_template = \"{{premise}}\\nBased on the previous passage, {{hypothesis}}?\\nAnswer: {{answer}}\\n\\n\"\n",
    "final_prompt = \"{{premise}}\\nBased on the previous passage, {{hypothesis}}?\\nAnswer: \""
   ]
  },
  {
   "cell_type": "code",
   "execution_count": 8,
   "id": "2adb45c7-c3a2-4a68-9268-1bc611662b7f",
   "metadata": {},
   "outputs": [],
   "source": [
    "data = load_samples(test_file)"
   ]
  },
  {
   "cell_type": "code",
   "execution_count": 9,
   "id": "2fd67096-ab32-40c1-a161-25814437a3e0",
   "metadata": {
    "scrolled": true
   },
   "outputs": [
    {
     "name": "stderr",
     "output_type": "stream",
     "text": [
      "  0%|                                                                                                                 | 0/101 [00:00<?, ?it/s]Token indices sequence length is longer than the specified maximum sequence length for this model (604 > 512). Running this sequence through the model will result in indexing errors\n"
     ]
    },
    {
     "name": "stdout",
     "output_type": "stream",
     "text": [
      "------------------------------\n",
      "{{premise}}\n",
      "Based on the previous passage, {{hypothesis}}?\n",
      "Answer: {{answer}}\n",
      "\n",
      "\n",
      "Article 5 (1) A minor must obtain the consent of the minor's legal representative to perform a juridical act;provided, however, that this does not apply to a juridical act for merely acquiring a right or being released from an obligation.\n",
      "(2) A juridical act in contravention of the provisions of the preceding paragraph is voidable.\n",
      "Article 6 (1) A minor who is permitted to conduct one or multiple types of business has the same capacity to act as an adult as far as that business is concerned.\n",
      "Based on the previous passage, A juridical act by a minor who is permitted to conduct business may not be rescinded even if the judicial act does not concern the business.?\n",
      "Answer: No\n",
      "\n",
      "Article 6\n",
      "(1) A minor who is permitted to conduct one or multiple types of business has the same capacity to act as an adult as far as that business is concerned.\n",
      "(2) In a case as referred to in the preceding paragraph, if there are grounds that make the minor unable to sustain that business, the legal representative may revoke or limit the permission therefor in accordance with the provisions of Part IV (Relatives).\n",
      "Based on the previous passage, A minor who is permitted to carry on one or more kinds of business shall have the same capacity to act as a person of the age of majority as far as such business is concerned.?\n",
      "Answer: Yes\n",
      "\n",
      "Article 6\n",
      "(1) A minor who is permitted to conduct one or multiple types of business has the same capacity to act as an adult as far as that business is concerned.\n",
      "(2) In a case as referred to in the preceding paragraph, if there are grounds that make the minor unable to sustain that business, the legal representative may revoke or limit the permission therefor in accordance with the provisions of Part IV (Relatives).\n",
      "Based on the previous passage, If a minor, after getting permission for carrying a business from his/her statutory agent, performs an act unrelated to the business without getting consent of the statutory agent, that act may not be rescinded.?\n",
      "Answer: No\n",
      "\n",
      "Article 5 (1) A minor must obtain the consent of the minor's legal representative to perform a juridical act;provided, however, that this does not apply to a juridical act for merely acquiring a right or being released from an obligation.\n",
      "(2) A juridical act in contravention of the provisions of the preceding paragraph is voidable.\n",
      "Article 6 (1) A minor who is permitted to conduct one or multiple types of business has the same capacity to act as an adult as far as that business is concerned.\n",
      "Based on the previous passage, A juridical act by a minor who is permitted to conduct business may not be rescinded even if the judicial act does not concern the business.?\n",
      "Answer: \n",
      "{{premise}}\n",
      "Based on the previous passage, {{hypothesis}}?\n",
      "Answer: \n"
     ]
    },
    {
     "name": "stderr",
     "output_type": "stream",
     "text": [
      "  1%|█                                                                                                        | 1/101 [00:00<01:32,  1.09it/s]"
     ]
    },
    {
     "name": "stdout",
     "output_type": "stream",
     "text": [
      "------------------------------\n",
      "{{premise}}\n",
      "Based on the previous passage, {{hypothesis}}?\n",
      "Answer: {{answer}}\n",
      "\n",
      "\n",
      "Article 5 (1) A minor must obtain the consent of the minor's legal representative to perform a juridical act;provided, however, that this does not apply to a juridical act for merely acquiring a right or being released from an obligation.\n",
      "(2) A juridical act in contravention of the provisions of the preceding paragraph is voidable.\n",
      "Article 120 (1) An act that is voidable on the grounds of the qualified legal capacity to act of the person who did the act may be rescinded only by the person with qualified legal capacity (in the case of an act performed by the person as a legal representative of another person with limited capacity, including that other person with limited capacity), or an agent or successor thereof, or a person who has the authority to give consent thereto.\n",
      "Based on the previous passage, When a minor concludes a contract without obtaining the consent of the person who has the parental authority, the minor may not personally rescind the contract without the consent of the person who has the parental authority until the minor has attained the age of majority.?\n",
      "Answer: No\n",
      "\n",
      "Article 95\n",
      "(1) A manifestation of intention is voidable if it is based on either of the following mistakes, and the mistake is material in light of the purpose of the juridical act and the common sense in the transaction:\n",
      "(i) a mistake wherein the person lacks the intention that corresponds to the manifestation of intention; or\n",
      "(ii) a mistake wherein the person making the manifestation of intention holds an understandings that does not correspond to the truth with regard to the circumstances which the person has taken as the basis for the juridical act.\n",
      "(2) A manifestation of intention under the provisions of item (ii) of the preceding paragraph may be rescinded only if it has been indicated that the circumstances in question are being taken as the basis for the juridical act.\n",
      "(3) If a mistake is due to gross negligence on the part of the person making the manifestation of intention, that person may not rescind a manifestation of intention as under paragraph (1), except in the following cases:\n",
      "(i) if the other party knew, or did not know due to gross negligence, of the mistake on the part of the person making the manifestation of intention; or\n",
      "(ii) if the other party was under the same mistake as the person making the manifestation of intention.\n",
      "(4) The rescission of a manifestation of intention under the provisions of paragraph (1) may not be duly asserted against a third party in good faith acting without negligence.\n",
      "Based on the previous passage, In the case where a person under curatorship concluded contract for sale with a third party with consent of his/her curator, even when there is a mistake in any element of the juristic act in question and he/she was not grossly negligent, he/she may not assert such nullity by himself/herself.?\n",
      "Answer: No\n",
      "\n",
      "Article 95\n",
      "(1) A manifestation of intention is voidable if it is based on either of the following mistakes, and the mistake is material in light of the purpose of the juridical act and the common sense in the transaction:\n",
      "(i) a mistake wherein the person lacks the intention that corresponds to the manifestation of intention; or\n",
      "(ii) a mistake wherein the person making the manifestation of intention holds an understandings that does not correspond to the truth with regard to the circumstances which the person has taken as the basis for the juridical act.\n",
      "(2) A manifestation of intention under the provisions of item (ii) of the preceding paragraph may be rescinded only if it has been indicated that the circumstances in question are being taken as the basis for the juridical act.\n",
      "(3) If a mistake is due to gross negligence on the part of the person making the manifestation of intention, that person may not rescind a manifestation of intention as under paragraph (1), except in the following cases:\n",
      "(i) if the other party knew, or did not know due to gross negligence, of the mistake on the part of the person making the manifestation of intention; or\n",
      "(ii) if the other party was under the same mistake as the person making the manifestation of intention.\n",
      "(4) The rescission of a manifestation of intention under the provisions of paragraph (1) may not be duly asserted against a third party in good faith acting without negligence.\n",
      "Based on the previous passage, In cases where person C was unaware that the ownership of real property L belonged to person A at the time of the execution of the sales contract between person B and person C, since person C is mistaken regarding an essential element of the sales contract, and the contract is not effective, person B bears no obligation to acquire ownership from person A and transfer it to person C.?\n",
      "Answer: No\n",
      "\n",
      "Article 5 (1) A minor must obtain the consent of the minor's legal representative to perform a juridical act;provided, however, that this does not apply to a juridical act for merely acquiring a right or being released from an obligation.\n",
      "(2) A juridical act in contravention of the provisions of the preceding paragraph is voidable.\n",
      "Article 120 (1) An act that is voidable on the grounds of the qualified legal capacity to act of the person who did the act may be rescinded only by the person with qualified legal capacity (in the case of an act performed by the person as a legal representative of another person with limited capacity, including that other person with limited capacity), or an agent or successor thereof, or a person who has the authority to give consent thereto.\n",
      "Based on the previous passage, When a minor concludes a contract without obtaining the consent of the person who has the parental authority, the minor may not personally rescind the contract without the consent of the person who has the parental authority until the minor has attained the age of majority.?\n",
      "Answer: \n",
      "{{premise}}\n",
      "Based on the previous passage, {{hypothesis}}?\n",
      "Answer: \n"
     ]
    },
    {
     "name": "stderr",
     "output_type": "stream",
     "text": [
      "  2%|██                                                                                                       | 2/101 [00:02<01:46,  1.08s/it]"
     ]
    },
    {
     "name": "stdout",
     "output_type": "stream",
     "text": [
      "------------------------------\n",
      "{{premise}}\n",
      "Based on the previous passage, {{hypothesis}}?\n",
      "Answer: {{answer}}\n",
      "\n",
      "\n",
      "Article 124\n",
      "(1) The ratification of a voidable act does not become effective unless it is made after the circumstances that made the act voidable cease to exist and the person ratifying the act becomes aware of the right to rescind it.\n",
      "(2) In the following cases, the ratification referred to in the preceding paragraph is not required to be made after the circumstances that made the act voidable cease to exist:\n",
      "(i) if a legal representative or a curator or assistant of a person with qualified legal capacity ratifies the act; or\n",
      "(ii) if a person with qualified legal capacity (excluding an adult ward) makes the ratification with the consent of a legal representative, curator or assistant.\n",
      "Article 126\n",
      "The right to rescind an act is extinguished by the operation of the prescription if it is not exercised within five years from the time when it becomes possible to ratify the act. The same applies if 20 years have passed from the time of the act.\n",
      "Based on the previous passage, The period of the extinctive prescription of the right to rescind about the act performed by an adult ward commences from the time of becoming a person with capacity to act.?\n",
      "Answer: No\n",
      "\n",
      "Article 124\n",
      "(1) The ratification of a voidable act does not become effective unless it is made after the circumstances that made the act voidable cease to exist and the person ratifying the act becomes aware of the right to rescind it.\n",
      "(2) In the following cases, the ratification referred to in the preceding paragraph is not required to be made after the circumstances that made the act voidable cease to exist:\n",
      "(i) if a legal representative or a curator or assistant of a person with qualified legal capacity ratifies the act; or\n",
      "(ii) if a person with qualified legal capacity (excluding an adult ward) makes the ratification with the consent of a legal representative, curator or assistant.\n",
      "Article 125\n",
      "If, at or after the time when it becomes possible to ratify an act, any of the following facts occur with respect to a voidable act, it is deemed that the act has been ratified;provided, however, that this does not apply if an objection is reserved:\n",
      "(i) full or partial performance;\n",
      "(ii) request for the performance;\n",
      "(iii) novation;\n",
      "(iv) provision of a security;\n",
      "(v) assignment of a part of or the whole of a right acquired by the voidable act; or\n",
      "(vi) compulsory execution.\n",
      "Based on the previous passage, The person under curatorship A sold A's land \"X\" to B without the consent of the curator or any permission of the family court in lieu thereof.\n",
      "If, after A has become a person with capacity to act, A assigns the claim for the sale price of the land \"X\" to others, it is deemed that he/she has ratified such contract for sale.?\n",
      "Answer: Yes\n",
      "\n",
      "Article 5 (1) A minor must obtain the consent of the minor's legal representative to perform a juridical act;provided, however, that this does not apply to a juridical act for merely acquiring a right or being released from an obligation.\n",
      "(2) A juridical act in contravention of the provisions of the preceding paragraph is voidable.\n",
      "Article 124 (1) The ratification of a voidable act does not become effective unless it is made after the circumstances that made the act voidable cease to exist and the person ratifying the act becomes aware of the right to rescind it.\n",
      "(2) In the following cases, the ratification referred to in the preceding paragraph is not required to be made after the circumstances that made the act voidable cease to exist:\n",
      "(ii) if a person with qualified legal capacity (excluding an adult ward) makes the ratification with the consent of a legal representative, curator or assistant.\n",
      "Based on the previous passage, When a minor concludes a contract without obtaining the consent of the person who has the parental authority, the minor may not personally ratify the contract without the consent of the person who has the parental authority until the minor has attained the age of majority.?\n",
      "Answer: Yes\n",
      "\n",
      "Article 5 (1) A minor must obtain the consent of the minor's legal representative to perform a juridical act;provided, however, that this does not apply to a juridical act for merely acquiring a right or being released from an obligation.\n",
      "(2) A juridical act in contravention of the provisions of the preceding paragraph is voidable.\n",
      "Article 124 (1) The ratification of a voidable act does not become effective unless it is made after the circumstances that made the act voidable cease to exist and the person ratifying the act becomes aware of the right to rescind it.\n",
      "(2) In the following cases, the ratification referred to in the preceding paragraph is not required to be made after the circumstances that made the act voidable cease to exist:\n",
      "(ii) if a person with qualified legal capacity (excluding an adult ward) makes the ratification with the consent of a legal representative, curator or assistant.\n",
      "Based on the previous passage, When a minor concludes a contract without obtaining the consent of the person who has the parental authority, the minor may not personally ratify the contract without the consent of the person who has the parental authority until the minor has attained the age of majority.?\n",
      "Answer: \n",
      "{{premise}}\n",
      "Based on the previous passage, {{hypothesis}}?\n",
      "Answer: \n"
     ]
    },
    {
     "name": "stderr",
     "output_type": "stream",
     "text": [
      "  3%|███                                                                                                      | 3/101 [00:03<01:51,  1.14s/it]"
     ]
    },
    {
     "name": "stdout",
     "output_type": "stream",
     "text": [
      "------------------------------\n",
      "{{premise}}\n",
      "Based on the previous passage, {{hypothesis}}?\n",
      "Answer: {{answer}}\n",
      "\n",
      "\n",
      "Article 9 A juridical act performed by an adult ward is voidable;provided, however, that this does not apply to the purchase of daily necessities or to any other act involved in day-to-day life.\n",
      "Based on the previous passage, If an adult ward acquires land by gift, the guardian of the adult ward may not rescind the gift.?\n",
      "Answer: No\n",
      "\n",
      "Article 9\n",
      "A juridical act performed by an adult ward is voidable;provided, however, that this does not apply to the purchase of daily necessities or to any other act involved in day-to-day life.\n",
      "Based on the previous passage, The purchase of daily household items may not be rescinded, even if an adult ward performed the act.?\n",
      "Answer: Yes\n",
      "\n",
      "Article 9\n",
      "A juridical act performed by an adult ward is voidable;provided, however, that this does not apply to the purchase of daily necessities or to any other act involved in day-to-day life.\n",
      "Based on the previous passage, In cases where an adult ward receives the gift of a building, the adult ward cannot rescindthe relevant gift contract.?\n",
      "Answer: No\n",
      "\n",
      "Article 9 A juridical act performed by an adult ward is voidable;provided, however, that this does not apply to the purchase of daily necessities or to any other act involved in day-to-day life.\n",
      "Based on the previous passage, If an adult ward acquires land by gift, the guardian of the adult ward may not rescind the gift.?\n",
      "Answer: \n",
      "{{premise}}\n",
      "Based on the previous passage, {{hypothesis}}?\n",
      "Answer: \n"
     ]
    },
    {
     "name": "stderr",
     "output_type": "stream",
     "text": [
      "  4%|████▏                                                                                                    | 4/101 [00:03<01:31,  1.06it/s]"
     ]
    },
    {
     "name": "stdout",
     "output_type": "stream",
     "text": [
      "------------------------------\n",
      "{{premise}}\n",
      "Based on the previous passage, {{hypothesis}}?\n",
      "Answer: {{answer}}\n",
      "\n",
      "\n",
      "Article 9 A juridical act performed by an adult ward is voidable;provided, however, that this does not apply to the purchase of daily necessities or to any other act involved in day-to-day life.\n",
      "Article 102 An act that a person with qualified legal capacity performs as an agent of another person may not be rescinded on the grounds of qualified legal capacity;provided, however, that this does not apply to an act performed by a person with qualified legal capacity as a legal representative of another person with qualified legal capacity.\n",
      "Based on the previous passage, An act that A, an adult ward, performs as legal representative of B, a minor, may not be rescinded on the grounds of qualified legal capacity of A.?\n",
      "Answer: No\n",
      "\n",
      "Article 102\n",
      "An act that a person with qualified legal capacity performs as an agent of another person may not be rescinded on the grounds of qualified legal capacity;provided, however, that this does not apply to an act performed by a person with qualified legal capacity as a legal representative of another person with qualified legal capacity.\n",
      "Based on the previous passage, A minor may not become an agent.?\n",
      "Answer: No\n",
      "\n",
      "Article 102\n",
      "An act that a person with qualified legal capacity performs as an agent of another person may not be rescinded on the grounds of qualified legal capacity;provided, however, that this does not apply to an act performed by a person with qualified legal capacity as a legal representative of another person with qualified legal capacity.\n",
      "Based on the previous passage, A contract may not be rescinded by the principal after it is performed by an agent with a counterparty even if it turns out that the agent was a person with limited capacity.?\n",
      "Answer: Yes\n",
      "\n",
      "Article 9 A juridical act performed by an adult ward is voidable;provided, however, that this does not apply to the purchase of daily necessities or to any other act involved in day-to-day life.\n",
      "Article 102 An act that a person with qualified legal capacity performs as an agent of another person may not be rescinded on the grounds of qualified legal capacity;provided, however, that this does not apply to an act performed by a person with qualified legal capacity as a legal representative of another person with qualified legal capacity.\n",
      "Based on the previous passage, An act that A, an adult ward, performs as legal representative of B, a minor, may not be rescinded on the grounds of qualified legal capacity of A.?\n",
      "Answer: \n",
      "{{premise}}\n",
      "Based on the previous passage, {{hypothesis}}?\n",
      "Answer: \n"
     ]
    },
    {
     "name": "stderr",
     "output_type": "stream",
     "text": [
      "  5%|█████▏                                                                                                   | 5/101 [00:04<01:21,  1.17it/s]"
     ]
    },
    {
     "name": "stdout",
     "output_type": "stream",
     "text": [
      "------------------------------\n",
      "{{premise}}\n",
      "Based on the previous passage, {{hypothesis}}?\n",
      "Answer: {{answer}}\n",
      "\n",
      "\n",
      "Article 158 (2) If a minor or an adult ward has a right vis-a-vis the minor's or the adult ward's father, mother, or guardian who manages the property, the prescription period does not expire with respect to that right until six months have passed from the time when that minor or adult ward becomes a person with capacity to act, or a succeeding legal representative assumes the position.\n",
      "Based on the previous passage, If A, an adult ward, has a right vis-a-vis the adult ward's guardian who manages the property, the prescription period will not expire with respect to that right until the statutory period has passed from the time when A becomes a person with capacity to act, or a succeeding legal representative assumes the position.?\n",
      "Answer: Yes\n",
      "\n",
      "Article 7\n",
      "The family court may decide to commence a guardianship in respect of a person who constantly lacks the capacity to appreciate the person's own situation due to a mental disorder, at the request of the person in question, that person's spouse, that person's relative within the fourth degree of kinship, the person's guardian of a minor, the person's supervisor of a minor's guardian, the person's curator, the person's curator's supervisor, the person's assistant, the person's assistant's supervisor, or a public prosecutor.\n",
      "Based on the previous passage, A is a nineteen-year-old male and subject to the parental authority of his parents.\n",
      "Even if A constantly lacks the capacity to discern right and wrong due to mental disability, the family court may not order the commencement of guardianship with respect to A until A has attained the age of majority.?\n",
      "Answer: No\n",
      "\n",
      "Article 7\n",
      "The family court may decide to commence a guardianship in respect of a person who constantly lacks the capacity to appreciate the person's own situation due to a mental disorder, at the request of the person in question, that person's spouse, that person's relative within the fourth degree of kinship, the person's guardian of a minor, the person's supervisor of a minor's guardian, the person's curator, the person's curator's supervisor, the person's assistant, the person's assistant's supervisor, or a public prosecutor.\n",
      "Based on the previous passage, The minor that has been appointed a guardian of a minor cannot request a ruling for commencement of guardianship and be appointed a guardian of an adult.?\n",
      "Answer: No\n",
      "\n",
      "Article 158 (2) If a minor or an adult ward has a right vis-a-vis the minor's or the adult ward's father, mother, or guardian who manages the property, the prescription period does not expire with respect to that right until six months have passed from the time when that minor or adult ward becomes a person with capacity to act, or a succeeding legal representative assumes the position.\n",
      "Based on the previous passage, If A, an adult ward, has a right vis-a-vis the adult ward's guardian who manages the property, the prescription period will not expire with respect to that right until the statutory period has passed from the time when A becomes a person with capacity to act, or a succeeding legal representative assumes the position.?\n",
      "Answer: \n",
      "{{premise}}\n",
      "Based on the previous passage, {{hypothesis}}?\n",
      "Answer: \n"
     ]
    },
    {
     "name": "stderr",
     "output_type": "stream",
     "text": [
      "100%|███████████████████████████████████████████████████████████████████████████████████████████████████████| 101/101 [01:16<00:00,  1.32it/s]\n"
     ]
    },
    {
     "data": {
      "text/plain": [
       "87"
      ]
     },
     "execution_count": 9,
     "metadata": {},
     "output_type": "execute_result"
    }
   ],
   "source": [
    "result = []\n",
    "count = 0\n",
    "for item in tqdm(data):\n",
    "    label = item[\"label\"]\n",
    "    query = item[\"result\"]\n",
    "    query_embedding = query_encoder.encode(query)\n",
    "    #Important: You must use dot-product, not cosine_similarity\n",
    "    scores = util.dot_score(query_embedding, passage_embeddings)\n",
    "    indexes = torch.topk(scores, 3).indices[0]\n",
    "    \n",
    "    text = few_shot_prompting(indexes, corpus, content, labels, prompt_template)\n",
    "    text += final_prompt.replace(\"{{premise}}\", item[\"result\"]).replace('{{hypothesis}}', item[\"content\"])\n",
    "    if count < 5:\n",
    "        print(\"------------------------------\")\n",
    "        print(prompt_template)\n",
    "        print(text)\n",
    "        print(final_prompt)\n",
    "    # print(text)\n",
    "    inputs = tokenizer(text, return_tensors=\"pt\")[\"input_ids\"].cuda()\n",
    "    outputs = model.generate(inputs, max_new_tokens=10)\n",
    "    output_text = format_output(tokenizer.decode(outputs[0]).replace(text, \"\").split(\"\\n\")[-1])\n",
    "    if \"yes\" in output_text:\n",
    "        output_text = \"Y\"\n",
    "    else:\n",
    "        output_text = \"N\"\n",
    "    if output_text == label:\n",
    "        count+=1\n",
    "    # print(\"predict label: \", output_text, \"label: \", label)\n",
    "\n",
    "count/len(data)\n",
    "len(data)\n",
    "count"
   ]
  },
  {
   "cell_type": "markdown",
   "id": "e42adf6f-ef0f-4eae-9ceb-50d7405f01d9",
   "metadata": {},
   "source": [
    "# Evaluate R0-R4"
   ]
  },
  {
   "cell_type": "code",
   "execution_count": 10,
   "id": "2897bec8-67ff-48d3-8ce2-23c24e0cfc9d",
   "metadata": {},
   "outputs": [],
   "source": [
    "path_file = \"../data/COLIEE2024statute_data-English/train/\""
   ]
  },
  {
   "cell_type": "code",
   "execution_count": 11,
   "id": "8804af4d-8128-4428-b60f-e0981171edf0",
   "metadata": {
    "scrolled": true
   },
   "outputs": [],
   "source": [
    "list_prompt = readfile(\"../data/prompt.json\")\n",
    "# list_prompt"
   ]
  },
  {
   "cell_type": "code",
   "execution_count": 12,
   "id": "7fbbe5d6-621a-4bd9-9406-6e209e7315fd",
   "metadata": {},
   "outputs": [],
   "source": [
    "def prompting(premise, hypothesis, template=None):\n",
    "    text = template.replace(\"{{premise}}\", premise).replace(\"{{hypothesis}}\", hypothesis)\n",
    "    return text\n",
    "\n",
    "def writefile(data, filename):\n",
    "    # Serializing json\n",
    "    json_object = json.dumps(data, indent=1)\n",
    "    # Writing to sample.json\n",
    "    with open(filename, \"w\") as outfile:\n",
    "        outfile.write(json_object)\n",
    "        \n",
    "def few_shot_prompting(indexes, corpus, content, labels, prompt_template):\n",
    "    result = \"\"\n",
    "    for i in indexes:\n",
    "        if \"true or false\" in prompt_template.lower():\n",
    "            answer = \"True\"\n",
    "            if \"N\" == labels[i]:\n",
    "                answer = \"False\"\n",
    "        else:\n",
    "            answer = \"Yes\"\n",
    "            if \"N\" == labels[i]:\n",
    "                answer = \"No\"\n",
    "        prompt = prompt_template.replace(\"{{premise}}\", corpus[i]).replace('{{hypothesis}}', content[i]).replace('{{answer}}', answer)\n",
    "        result += prompt\n",
    "    return result"
   ]
  },
  {
   "cell_type": "code",
   "execution_count": 1,
   "id": "3be94de7-95dd-4b5a-91d0-bac846f4e419",
   "metadata": {
    "scrolled": true
   },
   "outputs": [
    {
     "ename": "NameError",
     "evalue": "name 'model' is not defined",
     "output_type": "error",
     "traceback": [
      "\u001b[0;31m---------------------------------------------------------------------------\u001b[0m",
      "\u001b[0;31mNameError\u001b[0m                                 Traceback (most recent call last)",
      "Cell \u001b[0;32mIn[1], line 50\u001b[0m\n\u001b[1;32m     48\u001b[0m         writefile(acc, output\u001b[38;5;241m+\u001b[39mfile\u001b[38;5;241m+\u001b[39m\u001b[38;5;124m\"\u001b[39m\u001b[38;5;124m.json\u001b[39m\u001b[38;5;124m\"\u001b[39m)\n\u001b[1;32m     49\u001b[0m         f\u001b[38;5;241m.\u001b[39mclose()\n\u001b[0;32m---> 50\u001b[0m predict(\u001b[43mmodel\u001b[49m, tokenizer, path_file, passage_embeddings, [\u001b[38;5;124m\"\u001b[39m\u001b[38;5;124mriteval_R04_en\u001b[39m\u001b[38;5;124m\"\u001b[39m], \u001b[38;5;124m\"\u001b[39m\u001b[38;5;124m../output/newpromt_\u001b[39m\u001b[38;5;124m\"\u001b[39m)\n",
      "\u001b[0;31mNameError\u001b[0m: name 'model' is not defined"
     ]
    }
   ],
   "source": [
    "def predict(model, tokenizer, path_file, passage_embeddings, files=[\"riteval_R01_en\",\"riteval_R02_en\",\"riteval_R03_en\",\"riteval_R04_en\"], output=\"../output/accuracy2/newpromt_\"):\n",
    "    for file in files:\n",
    "        test_file = path_file+file+\".xml\"\n",
    "        f = open(path_file+file+\".txt\", \"w\", encoding=\"utf-8\")\n",
    "        data = load_samples(test_file)\n",
    "        \n",
    "        acc = {}\n",
    "        for template_prompt in list_prompt:\n",
    "            template_prompt = template_prompt[\"prompt\"]\n",
    "            query_prompt = template_prompt+\"\\nAnswer: \"\n",
    "            prompt_template = template_prompt+\"\\nAnswer: {{answer}}\\n\\n\"\n",
    "            \n",
    "            result = []\n",
    "            count = 0\n",
    "            for item in tqdm(data):\n",
    "                label = item[\"label\"]\n",
    "                hypothesis = item[\"content\"]\n",
    "                premise = item[\"result\"]\n",
    "                #Important: You must use dot-product, not cosine_similarity\n",
    "                query_embedding = query_encoder.encode(premise)\n",
    "                scores = util.dot_score(query_embedding, passage_embeddings)\n",
    "                indexes = torch.topk(scores, 3).indices[0]\n",
    "                few_shot = few_shot_prompting(indexes, corpus, content, labels, prompt_template)\n",
    "                text = few_shot + prompting(premise, hypothesis, query_prompt)\n",
    "                #############################################\n",
    "                inputs = tokenizer(text, return_tensors=\"pt\")[\"input_ids\"].cuda()\n",
    "                outputs = model.generate(inputs, max_new_tokens=10)\n",
    "                output_text = format_output(tokenizer.decode(outputs[0]).replace(text, \"\").split(\"\\n\")[-1])\n",
    "                f.write(text)\n",
    "                f.write(\"\\n3-shot answer:\"+output_text+\"\\n\")\n",
    "                f.write(\"=========================================\\n\")\n",
    "                if count < 1:\n",
    "                    print(text)\n",
    "                # if count < 3:\n",
    "                #     print(output_text)\n",
    "                if \"yes\" in output_text or \"true\" in output_text:\n",
    "                    output_text = \"Y\"\n",
    "                else:\n",
    "                    output_text = \"N\"\n",
    "                if output_text == label:\n",
    "                    count+=1\n",
    "                # print(\"predict label: \", output_text, \"label: \", label)\n",
    "            # print(\"=======================================\")\n",
    "            # print(template_prompt)\n",
    "            # print(count, \"/\", len(data))\n",
    "            acc.update({template_prompt: count/len(data)})\n",
    "            print(acc)\n",
    "        writefile(acc, output+file+\".json\")\n",
    "        f.close()\n",
    "predict(model, tokenizer, path_file, passage_embeddings, [\"riteval_R04_en\"], \"../output/newpromt_\")"
   ]
  },
  {
   "cell_type": "code",
   "execution_count": null,
   "id": "41a473ed-64dd-4b26-a75a-23cb40e2b8e2",
   "metadata": {},
   "outputs": [],
   "source": []
  }
 ],
 "metadata": {
  "kernelspec": {
   "display_name": "Python 3 (ipykernel)",
   "language": "python",
   "name": "python3"
  },
  "language_info": {
   "codemirror_mode": {
    "name": "ipython",
    "version": 3
   },
   "file_extension": ".py",
   "mimetype": "text/x-python",
   "name": "python",
   "nbconvert_exporter": "python",
   "pygments_lexer": "ipython3",
   "version": "3.10.13"
  }
 },
 "nbformat": 4,
 "nbformat_minor": 5
}
