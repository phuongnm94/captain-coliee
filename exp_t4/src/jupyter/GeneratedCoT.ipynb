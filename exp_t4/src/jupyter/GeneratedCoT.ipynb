{
 "cells": [
  {
   "cell_type": "code",
   "execution_count": 1,
   "id": "bfb1b600-7a34-4af2-bfe5-aa0c5a2d8223",
   "metadata": {},
   "outputs": [],
   "source": [
    "path_file = \"../data/COLIEE2024statute_data-English/fewshot/\""
   ]
  },
  {
   "cell_type": "code",
   "execution_count": 2,
   "id": "04734f5a-d83f-4c86-a7a4-1cd254eefc88",
   "metadata": {
    "jupyter": {
     "source_hidden": true
    }
   },
   "outputs": [],
   "source": [
    "from os import listdir\n",
    "from os.path import isfile, join\n",
    "\n",
    "def get_all_files_from_path(mypath):\n",
    "    filenames = [join(mypath, f) for f in listdir(mypath) if isfile(join(mypath, f))]\n",
    "    return filenames\n",
    "\n",
    "from bs4 import BeautifulSoup\n",
    "import re\n",
    "import json\n",
    "\n",
    "def get_article(articles):\n",
    "    result = {}\n",
    "    current_statue = \"(non-statute)\"\n",
    "    for i in re.split(r\"(.*)\", articles.strip()):\n",
    "        if len(i) == 0 or i == \"\\n\":\n",
    "            continue\n",
    "        if re.search(r\"^\\(.*\\)$\", i):\n",
    "            current_statue = i.strip()\n",
    "            if current_statue not in result:\n",
    "                result.update({current_statue: []})\n",
    "        else:\n",
    "            if current_statue not in result:\n",
    "                result.update({current_statue: []})\n",
    "            result[current_statue].append(i)\n",
    "    return result\n",
    "\n",
    "def build_test(filename):\n",
    "    result = {}\n",
    "    with open(filename, 'r') as f:\n",
    "        data = f.read()\n",
    "\n",
    "    data = BeautifulSoup(data, \"xml\").find_all('pair')\n",
    "    for i in data:\n",
    "        id = i.get('id')\n",
    "        result.update({id: {}})\n",
    "        result[id].update({\"label\": i.get('label')})\n",
    "        articles = i.find('t1').text.strip()\n",
    "        # articles = get_article(articles)\n",
    "        result[id].update({\"result\": articles})\n",
    "        result[id].update({\"content\": i.find('t2').text.strip()})\n",
    "    return result\n",
    "\n",
    "def write_json(filename, data):\n",
    "    with open(filename, 'w', encoding='utf-8') as f:\n",
    "        json.dump(data, f, ensure_ascii=False, indent=4)\n",
    "\n",
    "import xml.etree.ElementTree as Et\n",
    "import glob\n",
    "\n",
    "def format_first_line(text):\n",
    "    lines = text.split(\"\\n\")\n",
    "    results = []\n",
    "    for line in lines:\n",
    "        if line[0] == \"\":\n",
    "            continue\n",
    "        if line[0] == \"(\" and line[-1] == \")\":\n",
    "            continue\n",
    "        results.append(line)\n",
    "    return \"\\n\".join(results)\n",
    "\n",
    "def load_samples(filexml):\n",
    "    # try:\n",
    "        tree = Et.parse(filexml)\n",
    "        root = tree.getroot()\n",
    "        samples = []\n",
    "        for i in range(0, len(root)):\n",
    "            sample = {'result': []}\n",
    "            for j, e in enumerate(root[i]):\n",
    "                if e.tag == \"t1\":\n",
    "                    sample['result'] = format_first_line(e.text.strip())\n",
    "                elif e.tag == \"t2\":\n",
    "                    question = e.text.strip()\n",
    "                    sample['content'] = question if len(question) > 0 else None\n",
    "            sample.update(\n",
    "                {'index': root[i].attrib['id'], 'label': root[i].attrib.get('label', \"N\")})\n",
    "            # filter the noise samples\n",
    "            if sample['content'] is not None:\n",
    "                samples.append(sample)\n",
    "            else:\n",
    "                print(\"[Important warning] samples {} is ignored\".format(sample))\n",
    "        return samples\n",
    "\n",
    "def load_test_data_samples(path_folder_base, test_id):\n",
    "    data = []\n",
    "    test = load_samples(f\"{path_folder_base}/riteval_{test_id}.xml\")\n",
    "    for file_path in glob.glob(f\"{path_folder_base}/riteval_{test_id}.xml\"):\n",
    "        data = data + load_samples(file_path)\n",
    "    return data\n",
    "\n",
    "\n",
    "def load_all_data_samples(path_folder_base):\n",
    "    data = []\n",
    "    for file_path in glob.glob(\"{}/*.xml\".format(path_folder_base)):\n",
    "        data = data + load_samples(file_path)\n",
    "    return data\n",
    "\n",
    "def check_false_labels(pred, false_labels):\n",
    "\tfor label in false_labels:\n",
    "\t\tif label in pred:\n",
    "\t\t\treturn True\n",
    "\treturn False\n",
    "\n",
    "from tqdm import tqdm\n",
    "\n",
    "def format_output(text):\n",
    "\tCLEANR = re.compile('<.*?>') \n",
    "\tcleantext = re.sub(CLEANR, '', text)\n",
    "\treturn cleantext.strip().lower()\n",
    "\n",
    "def readfile(filename):\n",
    "    f = open(filename)\n",
    "    data = json.load(f)\n",
    "    return data"
   ]
  },
  {
   "cell_type": "code",
   "execution_count": 4,
   "id": "608cf98a-49f1-4baf-afcf-316a32cb2bd9",
   "metadata": {},
   "outputs": [
    {
     "name": "stderr",
     "output_type": "stream",
     "text": [
      "Loading checkpoint shards: 100%|██████████████████████████████████████████████████████████████████████████████████████████████████████████████████████████████████| 5/5 [01:09<00:00, 13.92s/it]\n"
     ]
    }
   ],
   "source": [
    "from transformers import AutoTokenizer, BloomForCausalLM, AutoTokenizer, AutoModelForSeq2SeqLM\n",
    "import torch\n",
    "\n",
    "model_name = \"google/flan-t5-xxl\"\n",
    "cache_dir = \".cache\"\n",
    "tokenizer = AutoTokenizer.from_pretrained(model_name, cache_dir=cache_dir)\n",
    "model = AutoModelForSeq2SeqLM.from_pretrained(\n",
    "\t\tmodel_name, device_map=\"auto\", cache_dir=cache_dir, torch_dtype=torch.float16, load_in_8bit=True\n",
    "\t)"
   ]
  },
  {
   "cell_type": "code",
   "execution_count": 25,
   "id": "2c753b54-52cd-4cfa-86cc-3467b82453cd",
   "metadata": {},
   "outputs": [],
   "source": [
    "from tqdm import tqdm\n",
    "\n",
    "def format_output(text):\n",
    "\tCLEANR = re.compile('<.*?>') \n",
    "\tcleantext = re.sub(CLEANR, '', text)\n",
    "\treturn cleantext.strip()#.lower()\n",
    "\n",
    "def prompting(premise, hypothesis, label, template=None):\n",
    "    if \"true\" in template.lower():\n",
    "        answer = \"True\"\n",
    "        if \"N\" in label:\n",
    "            answer = \"False\"\n",
    "    else:\n",
    "        answer = \"Yes\"\n",
    "        if \"N\" in label:\n",
    "            answer = \"No\"\n",
    "    text = template.replace(\"{{premise}}\", premise).replace(\"{{hypothesis}}\", hypothesis)\n",
    "    return text+\"\\nLet't think step by step \"\n",
    "\n",
    "def write_cot(result, filename):\n",
    "    data = [ujson.dumps(line, escape_forward_slashes=False) for line in result]\n",
    "    with open(filename, \"w\", encoding=\"utf-8\") as f:\n",
    "        for line in data:\n",
    "            f.write(line+'\\n')"
   ]
  },
  {
   "cell_type": "code",
   "execution_count": 26,
   "id": "dc2ec0e1-8d57-4ed4-9da0-0a13a3a8e3a7",
   "metadata": {},
   "outputs": [
    {
     "data": {
      "text/plain": [
       "[{'id': 19,\n",
       "  'label': ['true', 'false'],\n",
       "  'prompt': 'According to the given legal reasoning approach.\\nDocument: {{premise}}\\nQuestion: {{hypothesis}}? '}]"
      ]
     },
     "execution_count": 26,
     "metadata": {},
     "output_type": "execute_result"
    }
   ],
   "source": [
    "list_prompt = readfile(\"../data/prompt4.json\")\n",
    "list_prompt"
   ]
  },
  {
   "cell_type": "code",
   "execution_count": 27,
   "id": "8b2410d4-62f9-40ee-9595-f6dd2ac3171e",
   "metadata": {},
   "outputs": [],
   "source": [
    "import copy\n",
    "\n",
    "def predict(model, tokenizer, files=[\"riteval_R01_en\",\"riteval_R02_en\",\"riteval_R03_en\",\"riteval_R04_en\"], output=\"../output/cot/newpromt_\"):\n",
    "    for file in files:\n",
    "        test_file = path_file+file+\".xml\"\n",
    "        data = load_samples(test_file)\n",
    "        \n",
    "        acc = {}\n",
    "        for template_prompt in list_prompt:\n",
    "            template_prompt = template_prompt[\"prompt\"]\n",
    "            # print(template_prompt)\n",
    "            result = []\n",
    "            count = 0\n",
    "            for item in tqdm(data):\n",
    "                label = item[\"label\"]\n",
    "                hypothesis = item[\"content\"]\n",
    "                premise = item[\"result\"]\n",
    "                #Important: You must use dot-product, not cosine_similarity\n",
    "                text = prompting(premise, hypothesis, label, template_prompt)\n",
    "                inputs = tokenizer(text, return_tensors=\"pt\")[\"input_ids\"].cuda()\n",
    "                outputs = model.generate(inputs, max_new_tokens=256)\n",
    "                output_text = format_output(tokenizer.decode(outputs[0]).replace(text, \"\").split(\"\\n\")[-1])\n",
    "                item.update({\"prompt\": text})\n",
    "                item.update({\"cot\": output_text})\n",
    "                result.append(item)\n",
    "                if count < 5:\n",
    "                    print(text)\n",
    "                    print(output_text)\n",
    "                    count += 1\n",
    "        #     acc.update({template_prompt: count/len(data)})\n",
    "        # write_cot(result, output+file+\"_cot.jsonl\")"
   ]
  },
  {
   "cell_type": "code",
   "execution_count": 28,
   "id": "38dfefd3-911e-4db2-925b-5cdc10c9ef08",
   "metadata": {
    "scrolled": true
   },
   "outputs": [
    {
     "name": "stderr",
     "output_type": "stream",
     "text": [
      "  1%|█▍                                                                                                                                                         | 1/111 [00:05<09:28,  5.16s/it]"
     ]
    },
    {
     "name": "stdout",
     "output_type": "stream",
     "text": [
      "According to the given legal reasoning approach.\n",
      "Document: Article 5\n",
      "(1) A minor must obtain the consent of the minor's legal representative to perform a juridical act;provided, however, that this does not apply to a juridical act for merely acquiring a right or being released from an obligation.\n",
      "(2) A juridical act in contravention of the provisions of the preceding paragraph is voidable.\n",
      "(3) Notwithstanding the provisions of paragraph (1), a minor may freely dispose of property that the legal representative has permitted the minor to dispose of for a specified purpose, to an extent that falls within the scope of that purpose. The same applies if the minor disposes of property that the legal representative has permitted the minor to dispose of without specifying a purpose.\n",
      "Question: A contract of sales concluded by a minor may not be rescinded if it relates to daily life, even in cases the consent of the parental authority is not obtained.? \n",
      "Let't think step by step \n",
      "The contract of sales concluded by a minor may not be rescinded if it relates to daily life, even in cases the consent of the parental authority is not obtained. The answer: yes.\n"
     ]
    },
    {
     "name": "stderr",
     "output_type": "stream",
     "text": [
      "  2%|██▊                                                                                                                                                        | 2/111 [00:10<09:41,  5.33s/it]"
     ]
    },
    {
     "name": "stdout",
     "output_type": "stream",
     "text": [
      "According to the given legal reasoning approach.\n",
      "Document: Article 9\n",
      "A juridical act performed by an adult ward is voidable;provided, however, that this does not apply to the purchase of daily necessities or to any other act involved in day-to-day life.\n",
      "Question: A contract of sales concluded by an adult ward may be rescinded except relating to daily life, even in cases the consent of the adult guardian has been obtained, the contract? \n",
      "Let't think step by step \n",
      "The contract of sales concluded by an adult ward may be rescinded except relating to daily life, even in cases the consent of the adult guardian has been obtained, the contract? The answer: yes.\n"
     ]
    },
    {
     "name": "stderr",
     "output_type": "stream",
     "text": [
      "  3%|████▏                                                                                                                                                      | 3/111 [00:38<28:28, 15.82s/it]"
     ]
    },
    {
     "name": "stdout",
     "output_type": "stream",
     "text": [
      "According to the given legal reasoning approach.\n",
      "Document: Article 13\n",
      "(1) A person under curatorship must obtain the consent of the curator in order to perform any of the following acts;provided, however, that this does not apply to an act provided for in the proviso of Article 9:\n",
      "(i) receiving or using any property producing civil fruit;\n",
      "(ii) borrowing money or guaranteeing an obligation;\n",
      "(iii) performing an act with the purpose of acquiring or losing any right regarding immovables or other significant property;\n",
      "(iv) suing any procedural act;\n",
      "(v) giving a gift, reaching a settlement, or entering into an arbitration agreement (meaning an arbitration agreement as provided in Article 2, paragraph (1) of the Arbitration Act (Act No. 138 of 2003));\n",
      "(vi) accepting or renouncing a succession or dividing an estate;\n",
      "(vii) refusing an offer of a gift, renouncing a legacy, accepting an offer of gift with burden, or accepting a legacy with burden;\n",
      "(viii) constructing a new building, renovating, expanding, or undertaking major repairs;\n",
      "(ix) granting a lease for a term that exceeds the period set forth in Article 602; or\n",
      "(x) performing any of the acts set forth in the preceding items as a legal representative of a person with qualified legal capacity (meaning a minor, adult ward, or person under curatorship or a person under assistance who is subject to a decision as referred to in Article 17, paragraph (1); the same applies hereinafter).\n",
      "(2) At the request of a person as referred to in the main clause of Article 11\n",
      "or the curator or curator's supervisor, the family court may decide that the person under curatorship must also obtain the consent of the curator before performing an act other than those set forth in each of the items of the preceding paragraph;provided, however, that this does not apply to an act provided for in the proviso to Article 9.\n",
      "(3) If the curator does not consent to an act for which the person under curatorship must obtain the curator's consent even though it is unlikely to prejudice the interests of the person under curatorship, the family court may grant permission that operates in lieu of the curator's consent at the request of the person under curatorship.\n",
      "(4) An act for which the person under curatorship must obtain the curator's consent is voidable if the person performs it without obtaining the curator's consent or a permission that operates in lieu of it.\n",
      "Question: A contract of guarantee concluded by a person under curatorship may not be rescinded in cases the consent of the curator is obtained.? \n",
      "Let't think step by step \n",
      "(1) A person under curatorship must obtain the consent of the curator in order to perform any of the following acts;provided, however, that this does not apply to an act provided for in the proviso of Article 9: (i) receiving or using any property producing civil fruit; (ii) borrowing money or guaranteeing an obligation; (iii) performing an act with the purpose of acquiring or losing any right regarding immovables or other significant property; (iv) suing any procedural act; (v) giving a gift, reaching a settlement, or entering into an arbitration agreement (meaning an arbitration agreement as provided in Article 2, paragraph (1) of the Arbitration Act (Act No. 138 of 2003)); (vi) accepting or renouncing a succession or dividing an estate; (vii) refusing an offer of a gift, renouncing a legacy, accepting an offer of gift with burden, or accepting a legacy with burden; (viii) constructing a new building, renovating, expanding, or undertaking major repairs; (ix) granting a lease for a term that exceeds the period set forth in Article 602; or\n"
     ]
    },
    {
     "name": "stderr",
     "output_type": "stream",
     "text": [
      "  4%|█████▌                                                                                                                                                     | 4/111 [00:39<17:38,  9.90s/it]"
     ]
    },
    {
     "name": "stdout",
     "output_type": "stream",
     "text": [
      "According to the given legal reasoning approach.\n",
      "Document: Article 17\n",
      "(1) At the request of the person referred to in the main clause of Article 15, paragraph (1) or the assistant or assistant's supervisor, the family court may decide that the person under assistance must obtain the consent of the person's assistant in order to perform a specific juridical act;provided, however, that the acts that such a decision may establish as those for which the person must obtain the consent of the assistant are restricted to a part of the acts provided for in Article 13, paragraph (1).\n",
      "(2) In order to decide as referred to in the preceding paragraph at the request of a person other than the person in question requires the consent of the person in question.\n",
      "(3) If the assistant does not consent to an act for which the person under assistance must obtain the assistant's consent even though it is unlikely to prejudice the interests of the person under assistance, the family court may grant permission that operates in lieu of the assistant's consent, at the request of the person under assistance.\n",
      "(4) An act for which the person under assistance must obtain the assistant's consent is voidable if the person performs it without obtaining the assistance's consent or a permission that operates in lieu of it.\n",
      "Question: An act which requires the consent of the assistant may be rescinded if the person under assistance performed it without such consent or the permission of family court in lieu thereof.? \n",
      "Let't think step by step \n",
      "The answer is yes.\n"
     ]
    },
    {
     "name": "stderr",
     "output_type": "stream",
     "text": [
      "  5%|██████▉                                                                                                                                                    | 5/111 [00:45<14:35,  8.26s/it]"
     ]
    },
    {
     "name": "stdout",
     "output_type": "stream",
     "text": [
      "According to the given legal reasoning approach.\n",
      "Document: Article 124\n",
      "(1) The ratification of a voidable act does not become effective unless it is made after the circumstances that made the act voidable cease to exist and the person ratifying the act becomes aware of the right to rescind it.\n",
      "(2) In the following cases, the ratification referred to in the preceding paragraph is not required to be made after the circumstances that made the act voidable cease to exist:\n",
      "(i) if a legal representative or a curator or assistant of a person with qualified legal capacity ratifies the act; or\n",
      "(ii) if a person with qualified legal capacity (excluding an adult ward) makes the ratification with the consent of a legal representative, curator or assistant.\n",
      "Article 126\n",
      "The right to rescind an act is extinguished by the operation of the prescription if it is not exercised within five years from the time when it becomes possible to ratify the act. The same applies if 20 years have passed from the time of the act.\n",
      "Question: The period of the extinctive prescription of the right to rescind about the act performed by an adult ward commences from the time of becoming a person with capacity to act.? \n",
      "Let't think step by step \n",
      "The period of the extinctive prescription of the right to rescind about the act performed by an adult ward commences from the time of becoming a person with capacity to act. Therefore, the answer is no.\n"
     ]
    },
    {
     "name": "stderr",
     "output_type": "stream",
     "text": [
      "100%|█████████████████████████████████████████████████████████████████████████████████████████████████████████████████████████████████████████████████████████| 111/111 [14:51<00:00,  8.04s/it]\n",
      "  1%|█▉                                                                                                                                                          | 1/81 [00:27<36:54, 27.68s/it]"
     ]
    },
    {
     "name": "stdout",
     "output_type": "stream",
     "text": [
      "According to the given legal reasoning approach.\n",
      "Document: Article 15 (1) The family court may decide to commence an assistance in respect of a person whose capacity to appreciate their own situation is inadequate due to a mental disorder, at the request of the person in question, that person's spouse, that person's relative within the fourth degree of kinship, the guardian, the guardian's supervisor, the curator, the curator's supervisor, or a public prosecutor; provided, however, that this does not apply to a person with respect to whom there are grounds as prescribed in Article 7 or the main clause of Article 11.\n",
      "Article 11 The family court may decide to commence a curatorship in respect of a person whose capacity to appreciate their own situation is extremely inadequate due to a mental disorder, at the request of the person in question, the person's spouse, the person's relative within the fourth degree of kinship, the guardian, the guardian's supervisor, the assistant, the assistant's supervisor, or a public prosecutor; provided, however, that this does not apply to a person in respect of whom a cause set forth in Article 7 exists.\n",
      "Question: The family court may decide to commence an assistance also in respect of a person whose capacity to appreciate their own situation is extremely inadequate due to a mental disorder.? \n",
      "Let't think step by step \n",
      "The family court may decide to commence a curatorship in respect of a person whose capacity to appreciate their own situation is extremely inadequate due to a mental disorder, at the request of the person in question, the person's spouse, the person's relative within the fourth degree of kinship, the guardian, the guardian's supervisor, the curator, the curator's supervisor, or a public prosecutor; provided, however, that this does not apply to a person with respect to whom there are grounds as prescribed in Article 7 or the main clause of Article 11. The family court may decide to commence an assistance in respect of a person whose capacity to appreciate their own situation is inadequate due to a mental disorder, at the request of the person in question, that person's spouse, that person's relative within the fourth degree of kinship, the guardian, the guardian's supervisor, the curator, the curator's supervisor, or a public prosecutor; provided, however, that this does not apply to a person with respect to whom there are grounds as prescribed in Article 7 or the main clause of Article 11. The answer: yes.\n"
     ]
    },
    {
     "name": "stderr",
     "output_type": "stream",
     "text": [
      "  2%|███▊                                                                                                                                                        | 2/81 [00:41<25:28, 19.35s/it]"
     ]
    },
    {
     "name": "stdout",
     "output_type": "stream",
     "text": [
      "According to the given legal reasoning approach.\n",
      "Document: Article 15 (1) The family court may decide to commence an assistance in respect of a person whose capacity to appreciate their own situation is inadequate due to a mental disorder, at the request of the person in question, that person's spouse, that person's relative within the fourth degree of kinship, the guardian, the guardian's supervisor, the curator, the curator's supervisor, or a public prosecutor; provided, however, that this does not apply to a person with respect to whom there are grounds as prescribed in Article 7 or the main clause of Article 11.\n",
      "(2) The issuance of a decision for commencement of assistance at the request of a person other than the person in question requires the consent of the person in question.\n",
      "Question: The issuance of a decision for commencement of assistance at the request of a person other than the person in question requires the consent of the person in question unless the family court finds it to be suitable.? \n",
      "Let't think step by step \n",
      "The family court may decide to commence an assistance in respect of a person whose capacity to appreciate their own situation is inadequate due to a mental disorder, at the request of the person in question, that person's spouse, that person's relative within the fourth degree of kinship, the guardian, the guardian's supervisor, the curator, the curator's supervisor, or a public prosecutor; provided, however, that this does not apply to a person with respect to whom there are grounds as prescribed in Article 7 or the main clause of Article 11.\n"
     ]
    },
    {
     "name": "stderr",
     "output_type": "stream",
     "text": [
      "  4%|█████▊                                                                                                                                                      | 3/81 [00:50<19:20, 14.88s/it]"
     ]
    },
    {
     "name": "stdout",
     "output_type": "stream",
     "text": [
      "According to the given legal reasoning approach.\n",
      "Document: Article 18 (1) If the grounds prescribed in the main clause of Article 15, paragraph (1) cease to exist, the family court must rescind the decision for commencement of assistance at the request of the person in question, that person's spouse, that person's relative within the fourth degree of kinship, the guardian of a minor, the supervisor of a minor's guardian, the assistant, the assistant's supervisor, or a public prosecutor.\n",
      "(2) At the request of a person as prescribed in the preceding paragraph, the family court may rescind all or part of the decision referred to in paragraph (1) of the preceding Article.\n",
      "Question: If the grounds of commencement of assistance cease to exist, the family court may rescind the decision for commencement of assistance without any party's request.? \n",
      "Let't think step by step \n",
      "The family court must rescind the decision for commencement of assistance at the request of the person in question, that person's spouse, that person's relative within the fourth degree of kinship, the guardian of a minor, the supervisor of a minor's guardian, the assistant, the assistant's supervisor, or a public prosecutor. The answer: no.\n"
     ]
    },
    {
     "name": "stderr",
     "output_type": "stream",
     "text": [
      "  5%|███████▋                                                                                                                                                    | 4/81 [00:54<13:23, 10.44s/it]"
     ]
    },
    {
     "name": "stdout",
     "output_type": "stream",
     "text": [
      "According to the given legal reasoning approach.\n",
      "Document: Article 17 (1) At the request of the person referred to in the main clause of Article 15, paragraph (1) or the assistant or assistant's supervisor, the family court may decide that the person under assistance must obtain the consent of the person's assistant in order to perform a specific juridical act; provided, however, that the acts that such a decision may establish as those for which the person must obtain the consent of the assistant are restricted to a part of the acts provided for in Article 13, paragraph (1).\n",
      "(2) In order to decide as referred to in the preceding paragraph at the request of a person other than the person in question requires the consent of the person in question.\n",
      "(3) If the assistant does not consent to an act for which the person under assistance must obtain the assistant's consent even though it is unlikely to prejudice the interests of the person under assistance, the family court may grant permission that operates in lieu of the assistant's consent, at the request of the person under assistance.\n",
      "Question: If the assistant does not consent to an act for which the person under assistance must obtain the assistant's consent even though it is unlikely to prejudice the interests of the person under assistance, the family court may grant permission that operates in lieu of the assistant's consent, at the request of the person under assistance.? \n",
      "Let't think step by step \n",
      "The family court may grant permission that operates in lieu of the assistant's consent, at the request of the person under assistance. The answer is yes.\n"
     ]
    },
    {
     "name": "stderr",
     "output_type": "stream",
     "text": [
      "  6%|█████████▋                                                                                                                                                  | 5/81 [01:04<13:07, 10.36s/it]"
     ]
    },
    {
     "name": "stdout",
     "output_type": "stream",
     "text": [
      "According to the given legal reasoning approach.\n",
      "Document: Article 35 (1) With the exception of states, administrative divisions of states, and commercial companies, the formation of foreign juridical persons is not permitted; provided, however, that this does not apply to a foreign juridical persons that is permitted pursuant to the provisions of a law or treaty.\n",
      "(2) A foreign juridical person permitted pursuant to the provisions of the preceding paragraph possesses the same private rights as those possessed by a juridical person of the same kind that has been formed in Japan; provided, however, that this does not apply to a right that a foreign national is not entitled to enjoy or to any right for which there are special provisions in a law or treaty.\n",
      "Question: A foreign juridical person permitted possesses the same private rights even if a foreign national is not entitled to enjoy the rights as those possessed by a juridical person of the same kind that has been formed in Japan.? \n",
      "Let't think step by step \n",
      "A foreign juridical person permitted pursuant to the provisions of the preceding paragraph possesses the same private rights as those possessed by a juridical person of the same kind that has been formed in Japan; provided, however, that this does not apply to a right that a foreign national is not entitled to enjoy or to any right for which there are special provisions in a law or treaty. Therefore, the answer is no.\n"
     ]
    },
    {
     "name": "stderr",
     "output_type": "stream",
     "text": [
      "100%|███████████████████████████████████████████████████████████████████████████████████████████████████████████████████████████████████████████████████████████| 81/81 [11:05<00:00,  8.22s/it]\n",
      "  1%|█▍                                                                                                                                                         | 1/109 [00:02<04:43,  2.62s/it]"
     ]
    },
    {
     "name": "stdout",
     "output_type": "stream",
     "text": [
      "According to the given legal reasoning approach.\n",
      "Document: Article 32 (1) Having received proof that a missing person is alive or that a missing person died at a time different from the time set forth in the preceding Article, the family court, at the request of the missing person or an interested person, must rescind the declaration of that person's disappearance. In this case, the rescission does not affect the validity of any act performed in good faith after the declaration of disappearance but before the rescission thereof.\n",
      "(2) A person who has acquired property due to a declaration of disappearance loses the rights in question due to its rescission; provided, however, that the person has the obligation to return that property only to the extent currently enriched.\n",
      "Question: In the event that a declaration of disappearance is rescinded, a person who has acquired property due to the declaration of disappearance must return to the missing person the full amount of the benefits received from the acquisition of the property, even if the person acted in good faith regarding the survival of the missing person.? \n",
      "Let't think step by step \n",
      "The person has the obligation to return that property only to the extent currently enriched. The answer: no.\n"
     ]
    },
    {
     "name": "stderr",
     "output_type": "stream",
     "text": [
      "  2%|██▊                                                                                                                                                        | 2/109 [00:05<05:07,  2.88s/it]"
     ]
    },
    {
     "name": "stdout",
     "output_type": "stream",
     "text": [
      "According to the given legal reasoning approach.\n",
      "Document: Article 30 (1) If it has been unclear for seven years whether an absentee is dead or alive, the family court may enter a declaration of disappearance at the request of an interested person.\n",
      "(2) The provisions of the preceding paragraph also apply if it has been unclear whether a person who has entered a war zone, was aboard a vessel that has sunk, or was otherwise exposed to a danger likely to result in a person's death is dead or alive, for one year after the war has ended, the vessel sank, or such other danger has passed.\n",
      "Article 31 A person subject to a declaration of disappearance pursuant to the provisions of paragraph (1) of the preceding Article is deemed to have died when the period of time referred to in that paragraph ended, and a person subject to a declaration of disappearance pursuant to the provisions of paragraph (2) of that Article is deemed to have died when that danger had passed.\n",
      "Question: When a declaration of disappearance is made on the grounds that it has been unclear whether a person who was exposed to a danger likely to result in a person's death is dead or alive for one year after the danger has passed, the person subject to the declaration of disappearance is deemed to have died when that danger had passed.? \n",
      "Let't think step by step \n",
      "The person subject to the declaration of disappearance is deemed to have died when that danger had passed. The answer is yes.\n"
     ]
    },
    {
     "name": "stderr",
     "output_type": "stream",
     "text": [
      "  3%|████▎                                                                                                                                                      | 3/109 [00:10<06:20,  3.59s/it]"
     ]
    },
    {
     "name": "stdout",
     "output_type": "stream",
     "text": [
      "According to the given legal reasoning approach.\n",
      "Document: Article 32 (1) Having received proof that a missing person is alive or that a missing person died at a time different from the time set forth in the preceding Article, the family court, at the request of the missing person or an interested person, must rescind the declaration of that person's disappearance. In this case, the rescission does not affect the validity of any act performed in good faith after the declaration of disappearance but before the rescission thereof.\n",
      "Question: If A, who was subject to a declaration of disappearance and was deemed to have died, had purchased land X from B before the declaration of disappearance was rescinded, this sales contract is effective only if B acted in good faith regarding the declaration of disappearance.? \n",
      "Let't think step by step \n",
      "The rescission does not affect the validity of any act performed in good faith after the declaration of disappearance but before the rescission thereof. The answer: yes.\n"
     ]
    },
    {
     "name": "stderr",
     "output_type": "stream",
     "text": [
      "  4%|█████▋                                                                                                                                                     | 4/109 [00:13<06:03,  3.47s/it]"
     ]
    },
    {
     "name": "stdout",
     "output_type": "stream",
     "text": [
      "According to the given legal reasoning approach.\n",
      "Document: Article 93 (1) The validity of a manifestation of intention is not impaired even if the person making it does so while knowing that it does not reflect that person's true intention; provided, however, that if the other party knew or could have known that the manifestation was not the true intention of the person who made it, that manifestation of intention is void.\n",
      "(2) The nullity of a manifestation of intention under the provisions of the proviso to the preceding paragraph may not be duly asserted against a third party in good faith.\n",
      "Question: Where a person made a manifestation of intention while knowing that it does not reflect that person’s true intention, even if the other party did not specifically know the true intention of the person who made the manifestation, the manifestation of intention is void if the other party knew or could have known that the manifestation of intention was not the true intention of the person who made it.? \n",
      "Let't think step by step \n",
      "The other party knew or could have known that the manifestation was not the true intention of the person who made it. The answer: yes.\n"
     ]
    },
    {
     "name": "stderr",
     "output_type": "stream",
     "text": [
      "  5%|███████                                                                                                                                                    | 5/109 [00:15<05:04,  2.92s/it]"
     ]
    },
    {
     "name": "stdout",
     "output_type": "stream",
     "text": [
      "According to the given legal reasoning approach.\n",
      "Document: Article 96 (1) A manifestation of intention based on fraud or duress is voidable.\n",
      "(2) If a third party commits a fraud inducing a first party to make a manifestation of intention to a second party, that manifestation of intention is voidable only if the second party knew or could have known that fact.\n",
      "(3) The rescission of a manifestation of intention induced by fraud under the provisions of the preceding two paragraphs may not be duly asserted against a third party in good faith acting without negligence.\n",
      "Question: If a third party commits a fraud inducing a first party to make a manifestation of intention to a second party, the first party may void the manifestation of intention even if the second party did not know that fact but could have known it.? \n",
      "Let't think step by step \n",
      "The second party knew or could have known that fact. The answer: yes.\n"
     ]
    },
    {
     "name": "stderr",
     "output_type": "stream",
     "text": [
      "100%|█████████████████████████████████████████████████████████████████████████████████████████████████████████████████████████████████████████████████████████| 109/109 [16:02<00:00,  8.83s/it]\n",
      "  1%|█▌                                                                                                                                                         | 1/101 [00:02<04:47,  2.87s/it]"
     ]
    },
    {
     "name": "stdout",
     "output_type": "stream",
     "text": [
      "According to the given legal reasoning approach.\n",
      "Document: Article 5 (1) A minor must obtain the consent of the minor's legal representative to perform a juridical act;provided, however, that this does not apply to a juridical act for merely acquiring a right or being released from an obligation.\n",
      "(2) A juridical act in contravention of the provisions of the preceding paragraph is voidable.\n",
      "Article 6 (1) A minor who is permitted to conduct one or multiple types of business has the same capacity to act as an adult as far as that business is concerned.\n",
      "Question: A juridical act by a minor who is permitted to conduct business may not be rescinded even if the judicial act does not concern the business.? \n",
      "Let't think step by step \n",
      "The minor has the same capacity to act as an adult as far as that business is concerned. The answer: yes.\n"
     ]
    },
    {
     "name": "stderr",
     "output_type": "stream",
     "text": [
      "  2%|███                                                                                                                                                        | 2/101 [00:12<11:15,  6.82s/it]"
     ]
    },
    {
     "name": "stdout",
     "output_type": "stream",
     "text": [
      "According to the given legal reasoning approach.\n",
      "Document: Article 5 (1) A minor must obtain the consent of the minor's legal representative to perform a juridical act;provided, however, that this does not apply to a juridical act for merely acquiring a right or being released from an obligation.\n",
      "(2) A juridical act in contravention of the provisions of the preceding paragraph is voidable.\n",
      "Article 120 (1) An act that is voidable on the grounds of the qualified legal capacity to act of the person who did the act may be rescinded only by the person with qualified legal capacity (in the case of an act performed by the person as a legal representative of another person with limited capacity, including that other person with limited capacity), or an agent or successor thereof, or a person who has the authority to give consent thereto.\n",
      "Question: When a minor concludes a contract without obtaining the consent of the person who has the parental authority, the minor may not personally rescind the contract without the consent of the person who has the parental authority until the minor has attained the age of majority.? \n",
      "Let't think step by step \n",
      "The contract is voidable because the minor did not obtain the consent of the person who has the parental authority. The contract may be rescinded only by the person with qualified legal capacity or an agent or successor thereof. The person with qualified legal capacity is the person who has the authority to give consent. The person who has the authority is the person who has the parental authority. The answer: yes.\n"
     ]
    },
    {
     "name": "stderr",
     "output_type": "stream",
     "text": [
      "  3%|████▌                                                                                                                                                      | 3/101 [00:19<11:17,  6.92s/it]"
     ]
    },
    {
     "name": "stdout",
     "output_type": "stream",
     "text": [
      "According to the given legal reasoning approach.\n",
      "Document: Article 5 (1) A minor must obtain the consent of the minor's legal representative to perform a juridical act;provided, however, that this does not apply to a juridical act for merely acquiring a right or being released from an obligation.\n",
      "(2) A juridical act in contravention of the provisions of the preceding paragraph is voidable.\n",
      "Article 124 (1) The ratification of a voidable act does not become effective unless it is made after the circumstances that made the act voidable cease to exist and the person ratifying the act becomes aware of the right to rescind it.\n",
      "(2) In the following cases, the ratification referred to in the preceding paragraph is not required to be made after the circumstances that made the act voidable cease to exist:\n",
      "(ii) if a person with qualified legal capacity (excluding an adult ward) makes the ratification with the consent of a legal representative, curator or assistant.\n",
      "Question: When a minor concludes a contract without obtaining the consent of the person who has the parental authority, the minor may not personally ratify the contract without the consent of the person who has the parental authority until the minor has attained the age of majority.? \n",
      "Let't think step by step \n",
      "The contract is voidable because the minor did not obtain the consent of the person who has the parental authority. The minor may not personally ratify the contract without the consent of the person who has the parental authority until the minor has attained the age of majority. Therefore, the answer is yes.\n"
     ]
    },
    {
     "name": "stderr",
     "output_type": "stream",
     "text": [
      "  4%|██████▏                                                                                                                                                    | 4/101 [00:26<11:01,  6.82s/it]"
     ]
    },
    {
     "name": "stdout",
     "output_type": "stream",
     "text": [
      "According to the given legal reasoning approach.\n",
      "Document: Article 9 A juridical act performed by an adult ward is voidable;provided, however, that this does not apply to the purchase of daily necessities or to any other act involved in day-to-day life.\n",
      "Question: If an adult ward acquires land by gift, the guardian of the adult ward may not rescind the gift.? \n",
      "Let't think step by step \n",
      "The act of an adult ward is voidable. The act of an adult ward is voidable if it is a juridical act. The act of an adult ward is voidable if it is a juridical act. The answer: no.\n"
     ]
    },
    {
     "name": "stderr",
     "output_type": "stream",
     "text": [
      "  5%|███████▋                                                                                                                                                   | 5/101 [00:31<09:56,  6.22s/it]"
     ]
    },
    {
     "name": "stdout",
     "output_type": "stream",
     "text": [
      "According to the given legal reasoning approach.\n",
      "Document: Article 9 A juridical act performed by an adult ward is voidable;provided, however, that this does not apply to the purchase of daily necessities or to any other act involved in day-to-day life.\n",
      "Article 102 An act that a person with qualified legal capacity performs as an agent of another person may not be rescinded on the grounds of qualified legal capacity;provided, however, that this does not apply to an act performed by a person with qualified legal capacity as a legal representative of another person with qualified legal capacity.\n",
      "Question: An act that A, an adult ward, performs as legal representative of B, a minor, may not be rescinded on the grounds of qualified legal capacity of A.? \n",
      "Let't think step by step \n",
      "A, an adult ward, performs as legal representative of B, a minor, may not be rescinded on the grounds of qualified legal capacity of A. Therefore, the answer is no.\n"
     ]
    },
    {
     "name": "stderr",
     "output_type": "stream",
     "text": [
      "100%|█████████████████████████████████████████████████████████████████████████████████████████████████████████████████████████████████████████████████████████| 101/101 [12:57<00:00,  7.70s/it]\n"
     ]
    }
   ],
   "source": [
    "predict(model, tokenizer, [\"riteval_R01_en\",\"riteval_R02_en\",\"riteval_R03_en\",\"riteval_R04_en\"], \"../output/generated_cot/\")"
   ]
  },
  {
   "cell_type": "code",
   "execution_count": 32,
   "id": "082e30d4-db62-41d0-a411-836dfa14498e",
   "metadata": {},
   "outputs": [
    {
     "data": {
      "text/plain": [
       "['riteval_H18_en',\n",
       " 'riteval_H30_en',\n",
       " 'riteval_H29_en',\n",
       " 'riteval_H25_en',\n",
       " 'riteval_H22_en',\n",
       " 'riteval_H21_en',\n",
       " 'riteval_R04_en',\n",
       " 'riteval_H24_en',\n",
       " 'riteval_H28_en',\n",
       " 'riteval_H20_en',\n",
       " 'riteval_R01_en',\n",
       " 'riteval_R02_en',\n",
       " 'riteval_H26_en',\n",
       " 'riteval_R03_en',\n",
       " 'riteval_H23_en',\n",
       " 'riteval_H27_en',\n",
       " 'riteval_H19_en']"
      ]
     },
     "execution_count": 32,
     "metadata": {},
     "output_type": "execute_result"
    }
   ],
   "source": [
    "from os import listdir\n",
    "from os.path import isfile, join\n",
    "\n",
    "myfiles = [f.replace(\".xml\", \"\") for f in listdir(path_file) if isfile(join(path_file, f))]\n",
    "# myfiles"
   ]
  }
 ],
 "metadata": {
  "kernelspec": {
   "display_name": "Python 3 (ipykernel)",
   "language": "python",
   "name": "python3"
  },
  "language_info": {
   "codemirror_mode": {
    "name": "ipython",
    "version": 3
   },
   "file_extension": ".py",
   "mimetype": "text/x-python",
   "name": "python",
   "nbconvert_exporter": "python",
   "pygments_lexer": "ipython3",
   "version": "3.10.13"
  }
 },
 "nbformat": 4,
 "nbformat_minor": 5
}
