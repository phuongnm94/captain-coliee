{
 "cells": [
  {
   "cell_type": "code",
   "execution_count": 1,
   "id": "90b50cab-3717-4a65-b774-23c2e9983d60",
   "metadata": {},
   "outputs": [],
   "source": [
    "from os import listdir\n",
    "from os.path import isfile, join\n",
    "\n",
    "def get_all_files_from_path(mypath):\n",
    "    filenames = [join(mypath, f) for f in listdir(mypath) if isfile(join(mypath, f))]\n",
    "    return filenames\n",
    "\n",
    "from bs4 import BeautifulSoup\n",
    "import re\n",
    "import json\n",
    "\n",
    "def get_article(articles):\n",
    "    result = {}\n",
    "    current_statue = \"(non-statute)\"\n",
    "    for i in re.split(r\"(.*)\", articles.strip()):\n",
    "        if len(i) == 0 or i == \"\\n\":\n",
    "            continue\n",
    "        if re.search(r\"^\\(.*\\)$\", i):\n",
    "            current_statue = i.strip()\n",
    "            if current_statue not in result:\n",
    "                result.update({current_statue: []})\n",
    "        else:\n",
    "            if current_statue not in result:\n",
    "                result.update({current_statue: []})\n",
    "            result[current_statue].append(i)\n",
    "    return result\n",
    "\n",
    "def build_test(filename):\n",
    "    result = {}\n",
    "    with open(filename, 'r') as f:\n",
    "        data = f.read()\n",
    "\n",
    "    data = BeautifulSoup(data, \"xml\").find_all('pair')\n",
    "    for i in data:\n",
    "        id = i.get('id')\n",
    "        result.update({id: {}})\n",
    "        result[id].update({\"label\": i.get('label')})\n",
    "        articles = i.find('t1').text.strip()\n",
    "        # articles = get_article(articles)\n",
    "        result[id].update({\"result\": articles})\n",
    "        result[id].update({\"content\": i.find('t2').text.strip()})\n",
    "    return result\n",
    "\n",
    "def write_json(filename, data):\n",
    "    with open(filename, 'w', encoding='utf-8') as f:\n",
    "        json.dump(data, f, ensure_ascii=False, indent=4)\n",
    "\n",
    "import xml.etree.ElementTree as Et\n",
    "import glob\n",
    "\n",
    "def format_first_line(text):\n",
    "    lines = text.split(\"\\n\")\n",
    "    results = []\n",
    "    for line in lines:\n",
    "        if line[0] == \"\":\n",
    "            continue\n",
    "        if line[0] == \"(\" and line[-1] == \")\":\n",
    "            continue\n",
    "        results.append(line)\n",
    "    return \"\\n\".join(results)\n",
    "\n",
    "def load_samples(filexml):\n",
    "    # try:\n",
    "    tree = Et.parse(filexml)\n",
    "    root = tree.getroot()\n",
    "    samples = []\n",
    "    for i in range(0, len(root)):\n",
    "        sample = {'result': []}\n",
    "        for j, e in enumerate(root[i]):\n",
    "            if e.tag == \"t1\":\n",
    "                sample['result'] = format_first_line(e.text.strip())\n",
    "            elif e.tag == \"t2\":\n",
    "                question = e.text.strip()\n",
    "                sample['content'] = question if len(question) > 0 else None\n",
    "        sample.update(\n",
    "            {'index': root[i].attrib['id'], 'label': root[i].attrib.get('label', \"N\")})\n",
    "        # filter the noise samples\n",
    "        if sample['content'] is not None:\n",
    "            samples.append(sample)\n",
    "        else:\n",
    "            print(\"[Important warning] samples {} is ignored\".format(sample))\n",
    "    return samples\n",
    "\n",
    "def load_test_data_samples(path_folder_base, test_id):\n",
    "    data = []\n",
    "    test = load_samples(f\"{path_folder_base}/riteval_{test_id}.xml\")\n",
    "    for file_path in glob.glob(f\"{path_folder_base}/riteval_{test_id}.xml\"):\n",
    "        data = data + load_samples(file_path)\n",
    "    return data\n",
    "\n",
    "\n",
    "def load_all_data_samples(path_folder_base):\n",
    "    data = []\n",
    "    for file_path in glob.glob(\"{}/*.xml\".format(path_folder_base)):\n",
    "        data = data + load_samples(file_path)\n",
    "    return data\n",
    "\n",
    "def check_false_labels(pred, false_labels):\n",
    "\tfor label in false_labels:\n",
    "\t\tif label in pred:\n",
    "\t\t\treturn True\n",
    "\treturn False\n",
    "\n",
    "from tqdm import tqdm\n",
    "\n",
    "def format_output(text):\n",
    "\tCLEANR = re.compile('<.*?>') \n",
    "\tcleantext = re.sub(CLEANR, '', text)\n",
    "\treturn cleantext.strip().lower()\n",
    "\n",
    "def readfile(filename):\n",
    "    f = open(filename)\n",
    "    data = json.load(f)\n",
    "    return data\n",
    "\n",
    "def load_jsonl(file):\n",
    "    with open(file) as f:\n",
    "        data = [json.loads(line) for line in f]\n",
    "    return data"
   ]
  },
  {
   "cell_type": "code",
   "execution_count": 2,
   "id": "e030ec13-36c5-4600-9b2f-0fedf64c9478",
   "metadata": {},
   "outputs": [],
   "source": [
    "# def prompting(prompt=\"{{premise}}\\nBased on the previous passage, {{hypothesis}}? \", data=None):\n",
    "#     return prompt.replace(\"{{premise}}\", data['result']).replace('{{hypothesis}}', data['content'])\n",
    "test_file = \"../data/COLIEE2024statute_data-English/test/riteval_R04_en.xml\"\n",
    "dev_file = \"../data/COLIEE2024statute_data-English/test/riteval_R03_en.xml\""
   ]
  },
  {
   "cell_type": "code",
   "execution_count": 7,
   "id": "a6ab246f-2cab-4edf-b8f2-18820e73049b",
   "metadata": {
    "scrolled": true
   },
   "outputs": [],
   "source": [
    "from sentence_transformers import SentenceTransformer, util\n",
    "query_encoder = SentenceTransformer('facebook-dpr-question_encoder-single-nq-base')\n",
    "passage_encoder = SentenceTransformer('facebook-dpr-ctx_encoder-single-nq-base')\n",
    "\n",
    "def dpr(testfile, path=\"../data/COLIEE2024statute_data-English/fewshot\", aug_data=None):\n",
    "    files = get_all_files_from_path(path)\n",
    "    corpus = []\n",
    "    content = []\n",
    "    labels = []\n",
    "    for data in files:\n",
    "        if testfile in data:\n",
    "            continue\n",
    "        data = load_samples(data)\n",
    "        for item in data:\n",
    "            # corpus.append(item[\"result\"].replace(\"\\n\", \" \").strip())\n",
    "            corpus.append(item[\"result\"].strip())\n",
    "            content.append(item[\"content\"].strip())\n",
    "            labels.append(item[\"label\"].strip())\n",
    "\n",
    "    if aug_data is not None:\n",
    "        files = get_all_files_from_path(aug_data)\n",
    "        for file in files:\n",
    "            data = load_jsonl(file)\n",
    "            for item in data:\n",
    "                # corpus.append(item[\"result\"].replace(\"\\n\", \" \").strip())\n",
    "                corpus.append(item[\"result\"].strip())\n",
    "                content.append(item[\"content\"].strip().replace(\"\\n\", \" \"))\n",
    "                labels.append(item[\"label\"].strip())\n",
    "                \n",
    "    retrival_passage_embeddings = passage_encoder.encode(corpus)\n",
    "    content_passage_embeddings = passage_encoder.encode(content)       \n",
    "    print(len(corpus))\n",
    "    return corpus, content, labels, retrival_passage_embeddings, content_passage_embeddings\n"
   ]
  },
  {
   "cell_type": "code",
   "execution_count": 4,
   "id": "b5fecd2b-1741-4c55-b90d-03e6f6b8b7a6",
   "metadata": {
    "scrolled": true
   },
   "outputs": [
    {
     "name": "stderr",
     "output_type": "stream",
     "text": [
      "Loading checkpoint shards: 100%|██████████████████████████████████████████████████████████████████████████████████████████████████████████████████████████████████| 5/5 [00:09<00:00,  1.90s/it]\n"
     ]
    }
   ],
   "source": [
    "from transformers import AutoTokenizer, BloomForCausalLM, AutoTokenizer, AutoModelForSeq2SeqLM\n",
    "import torch\n",
    "\n",
    "model_name = \"google/flan-t5-xxl\"\n",
    "cache_dir = \"/home/congnguyen/drive/.cache\"\n",
    "# cache_dir = \".cache\"\n",
    "tokenizer = AutoTokenizer.from_pretrained(model_name, cache_dir=cache_dir)\n",
    "model = AutoModelForSeq2SeqLM.from_pretrained(\n",
    "\t\tmodel_name, device_map=\"auto\", cache_dir=cache_dir, torch_dtype=torch.float16, load_in_8bit=True\n",
    "\t)"
   ]
  },
  {
   "cell_type": "code",
   "execution_count": 5,
   "id": "30a5ac6a-9805-4caf-a35b-c0fab498438a",
   "metadata": {},
   "outputs": [],
   "source": [
    "from tqdm import tqdm\n",
    "import random\n",
    "\n",
    "def format_output(text):\n",
    "\tCLEANR = re.compile('<.*?>') \n",
    "\tcleantext = re.sub(CLEANR, '', text)\n",
    "\treturn cleantext.strip().lower()\n",
    "    \n",
    "def few_shot_prompting(indexes, corpus, content, labels, prompt_template):\n",
    "    result = \"\"\n",
    "    count = 0\n",
    "    for i in indexes:\n",
    "        if \"true\" in prompt_template.lower():\n",
    "            answer = \"True\"\n",
    "        else:\n",
    "            answer = \"Yes\"\n",
    "        if \"N\" == labels[i]:\n",
    "            if \"true\" in prompt_template.lower(): answer = \"False\"\n",
    "            else: answer = \"No\"\n",
    "        prompt = prompt_template.replace(\"{{premise}}\", corpus[i]).replace('{{hypothesis}}', content[i]).replace('{{answer}}', answer)\n",
    "        result += prompt\n",
    "        count += 1\n",
    "    return result\n",
    "\n",
    "def few_shot_prompting2(indexes, corpus, content, labels, prompt_template):\n",
    "    result = \"\"\n",
    "    count = 0\n",
    "    for i in indexes:\n",
    "        answer = \"Probability is {{yes_score}}, {{no_score}}\"\n",
    "        if \"N\" == labels[i]:\n",
    "            no_score = round(random.uniform(0.70, 0.99), 2)\n",
    "            yes_score = round((1 - no_score), 2)\n",
    "        else:\n",
    "            yes_score = round(random.uniform(0.70, 0.99), 2)\n",
    "            no_score = round((1 - yes_score), 2)\n",
    "        answer = answer.replace(\"{{yes_score}}\", str(yes_score)).replace(\"{{no_score}}\", str(no_score))\n",
    "        prompt = prompt_template.replace(\"{{premise}}\", corpus[i]).replace('{{hypothesis}}', content[i]).replace('{{answer}}', answer)\n",
    "        result += prompt + \"\\n\"\n",
    "        count += 1\n",
    "    return result\n",
    "    \n",
    "def get_q_retrival(indexes, content):\n",
    "    q_retrival = []\n",
    "    for i in indexes:\n",
    "        q_retrival.append(content[i])\n",
    "    return q_retrival\n",
    "    \n",
    "def check_query(query, indexes, content):\n",
    "    q_retrival = get_q_retrival(indexes, content)\n",
    "    query_embedding = query_encoder.encode(query)\n",
    "    passage_embeddings = passage_encoder.encode(q_retrival)\n",
    "    scores = util.dot_score(query_embedding, passage_embeddings)\n",
    "    indexes = torch.topk(scores, 3)\n",
    "    print(indexes)\n",
    "    \n",
    "# prompt_template = \"EXAM\\n1. Answer by yes or no.\\n\\nDocument: {{premise}}\\nQuestion: {{hypothesis}}?\\nAnswer: {{answer}}\\n\\n\"\n",
    "# final_prompt = \"EXAM\\n1. Answer by yes or no.\\n\\nDocument: {{premise}}\\nQuestion: {{hypothesis}}?\\nAnswer: \"\n",
    "# zeroShot = \"EXAM\\n1. Answer by yes or no.\\n\\nDocument: {{premise}}\\nQuestion: {{hypothesis}}? \""
   ]
  },
  {
   "cell_type": "code",
   "execution_count": 19,
   "id": "674af01a-2ec5-4402-b7a9-7602f9d55374",
   "metadata": {},
   "outputs": [],
   "source": [
    "prompt_template = \"EXAM\\n1. Answer by yes or no.\\n\\nDocument: {{premise}}\\nQuestion: {{hypothesis}}? \\nAnswer: {{answer}}\\n\\n\"\n",
    "final_template = \"EXAM\\n1. Answer by yes or no.\\n\\nDocument: {{premise}}\\nQuestion: {{hypothesis}}? \"\n",
    "\n",
    "path_file = \"../data/COLIEE2024statute_data-English/test/\"\n",
    "aug_path = \"../data/COLIEE2024statute_data-English/aug_sum/\""
   ]
  },
  {
   "cell_type": "code",
   "execution_count": 25,
   "id": "98720a75-ff36-4cd7-8320-71b2b6bf0e1d",
   "metadata": {},
   "outputs": [],
   "source": [
    "def predict(model, tokenizer, path_file, files=[\"riteval_R04_en\"], output=\"../output/fewsho_detail/newpromt_\"):\n",
    "    for file in files:\n",
    "        n_shot = 3\n",
    "        test_file = path_file+file+\".xml\"\n",
    "        f_result = open(output+file+\"_acc.txt\", \"w\", encoding=\"utf-8\")\n",
    "        f_prompt = open(output+file+\"_prompt.txt\", \"w\", encoding=\"utf-8\")\n",
    "        if \"R05_en\" in file:\n",
    "            data = load_jsonl(test_file.replace(\".xml\", \".jsonl\"))\n",
    "        else:\n",
    "            data = load_samples(test_file)\n",
    "        corpus, content, labels, retrival_passage_embeddings, content_passage_embeddings = dpr(file, path_file, aug_path)\n",
    "        count = 0\n",
    "        for item in tqdm(data):\n",
    "            id = item[\"index\"]\n",
    "            label = item[\"label\"]\n",
    "            hypothesis = item[\"content\"]\n",
    "            premise = item[\"result\"]\n",
    "            few_shot = \"\"\n",
    "            #Important: You must use dot-product, not cosine_similarity\n",
    "            # query_embedding = query_encoder.encode(premise)\n",
    "            # scores = util.dot_score(query_embedding, retrival_passage_embeddings)\n",
    "            # indexes = torch.topk(scores, 3).indices[0]\n",
    "            # few_shot = few_shot_prompting(indexes, corpus, content, labels, prompt_template)\n",
    "            text = few_shot + final_template.replace(\"{{premise}}\", premise).replace(\"{{hypothesis}}\", hypothesis)\n",
    "            #############################################\n",
    "            inputs = tokenizer(text, return_tensors=\"pt\")[\"input_ids\"].cuda()\n",
    "            outputs = model.generate(inputs, max_new_tokens=10)\n",
    "            output_text = format_output(tokenizer.decode(outputs[0]).replace(text, \"\").split(\"\\n\")[-1])\n",
    "            if count < 1:\n",
    "                print(text)\n",
    "            if count < 20:\n",
    "                print(output_text)\n",
    "            if \"yes\" in output_text or \"true\" in output_text:\n",
    "                output_text = \"Y\"\n",
    "            else:\n",
    "                output_text = \"N\"\n",
    "            f_result.write(id+\"\\t\"+output_text+\"\\t\"+label+\"\\n\")\n",
    "            \n",
    "            if output_text == label:\n",
    "                f_prompt.write(id+\": \"+text+output_text+\"\\t\"+label+\"\\n++++++++++++++++++++++++++++++\\n\")\n",
    "                count+=1\n",
    "            else:\n",
    "                f_prompt.write(id+\": \"+text+output_text+\"\\t\"+label+\"\\n------------------------------\\n\")\n",
    "        print(file, count)\n"
   ]
  },
  {
   "cell_type": "code",
   "execution_count": 26,
   "id": "36b81f86-9ff2-41bc-a48f-9fcf6a5f6af4",
   "metadata": {
    "scrolled": true
   },
   "outputs": [
    {
     "name": "stdout",
     "output_type": "stream",
     "text": [
      "3440\n"
     ]
    },
    {
     "name": "stderr",
     "output_type": "stream",
     "text": [
      "  1%|█▍                                                                                                                                                         | 1/109 [00:00<00:36,  2.94it/s]"
     ]
    },
    {
     "name": "stdout",
     "output_type": "stream",
     "text": [
      "EXAM\n",
      "1. Answer by yes or no.\n",
      "\n",
      "Document: Article 537(1) If one of the parties promises in a contract to render a certain performance to a third party, the third party has the right to claim that performance directly from the obligor.\n",
      "(2) The validity of the contract referred to in the preceding paragraph is not impaired even if a third party does not exist or a third party is not specified at the time of its formation.\n",
      "(3) In the case referred to in paragraph (1), rights of the third party accrue when the third party has manifested intention of availing of the benefit of the contract under that paragraph to the obligor.\n",
      "Question: The validity of a third party beneficiary contract made by A with C, the mother of B, to give land X owned by A to B gratuitously, is not impaired even if B is an unborn child as of the time of the formation of the contract.? \n",
      "yes\n"
     ]
    },
    {
     "name": "stderr",
     "output_type": "stream",
     "text": [
      "  2%|██▊                                                                                                                                                        | 2/109 [00:00<00:35,  3.04it/s]"
     ]
    },
    {
     "name": "stdout",
     "output_type": "stream",
     "text": [
      "yes\n"
     ]
    },
    {
     "name": "stderr",
     "output_type": "stream",
     "text": [
      "  3%|████▎                                                                                                                                                      | 3/109 [00:00<00:34,  3.06it/s]"
     ]
    },
    {
     "name": "stdout",
     "output_type": "stream",
     "text": [
      "yes\n"
     ]
    },
    {
     "name": "stderr",
     "output_type": "stream",
     "text": [
      "  4%|█████▋                                                                                                                                                     | 4/109 [00:01<00:36,  2.85it/s]"
     ]
    },
    {
     "name": "stdout",
     "output_type": "stream",
     "text": [
      "yes\n"
     ]
    },
    {
     "name": "stderr",
     "output_type": "stream",
     "text": [
      "  5%|███████                                                                                                                                                    | 5/109 [00:01<00:36,  2.86it/s]"
     ]
    },
    {
     "name": "stdout",
     "output_type": "stream",
     "text": [
      "yes\n"
     ]
    },
    {
     "name": "stderr",
     "output_type": "stream",
     "text": [
      "  6%|████████▌                                                                                                                                                  | 6/109 [00:02<00:35,  2.88it/s]"
     ]
    },
    {
     "name": "stdout",
     "output_type": "stream",
     "text": [
      "no\n"
     ]
    },
    {
     "name": "stderr",
     "output_type": "stream",
     "text": [
      "  6%|█████████▉                                                                                                                                                 | 7/109 [00:02<00:35,  2.87it/s]"
     ]
    },
    {
     "name": "stdout",
     "output_type": "stream",
     "text": [
      "yes\n"
     ]
    },
    {
     "name": "stderr",
     "output_type": "stream",
     "text": [
      "  7%|███████████▍                                                                                                                                               | 8/109 [00:02<00:34,  2.89it/s]"
     ]
    },
    {
     "name": "stdout",
     "output_type": "stream",
     "text": [
      "yes\n"
     ]
    },
    {
     "name": "stderr",
     "output_type": "stream",
     "text": [
      "  8%|████████████▊                                                                                                                                              | 9/109 [00:03<00:34,  2.89it/s]"
     ]
    },
    {
     "name": "stdout",
     "output_type": "stream",
     "text": [
      "no\n"
     ]
    },
    {
     "name": "stderr",
     "output_type": "stream",
     "text": [
      "  9%|██████████████▏                                                                                                                                           | 10/109 [00:03<00:34,  2.89it/s]"
     ]
    },
    {
     "name": "stdout",
     "output_type": "stream",
     "text": [
      "yes\n"
     ]
    },
    {
     "name": "stderr",
     "output_type": "stream",
     "text": [
      " 10%|███████████████▌                                                                                                                                          | 11/109 [00:03<00:34,  2.82it/s]"
     ]
    },
    {
     "name": "stdout",
     "output_type": "stream",
     "text": [
      "no\n"
     ]
    },
    {
     "name": "stderr",
     "output_type": "stream",
     "text": [
      " 11%|████████████████▉                                                                                                                                         | 12/109 [00:04<00:33,  2.90it/s]"
     ]
    },
    {
     "name": "stdout",
     "output_type": "stream",
     "text": [
      "yes\n"
     ]
    },
    {
     "name": "stderr",
     "output_type": "stream",
     "text": [
      " 12%|██████████████████▎                                                                                                                                       | 13/109 [00:04<00:33,  2.89it/s]"
     ]
    },
    {
     "name": "stdout",
     "output_type": "stream",
     "text": [
      "yes\n"
     ]
    },
    {
     "name": "stderr",
     "output_type": "stream",
     "text": [
      " 13%|███████████████████▊                                                                                                                                      | 14/109 [00:04<00:32,  2.91it/s]"
     ]
    },
    {
     "name": "stdout",
     "output_type": "stream",
     "text": [
      "yes\n"
     ]
    },
    {
     "name": "stderr",
     "output_type": "stream",
     "text": [
      " 14%|█████████████████████▏                                                                                                                                    | 15/109 [00:05<00:32,  2.90it/s]"
     ]
    },
    {
     "name": "stdout",
     "output_type": "stream",
     "text": [
      "yes\n"
     ]
    },
    {
     "name": "stderr",
     "output_type": "stream",
     "text": [
      " 15%|██████████████████████▌                                                                                                                                   | 16/109 [00:05<00:35,  2.62it/s]"
     ]
    },
    {
     "name": "stdout",
     "output_type": "stream",
     "text": [
      "no\n"
     ]
    },
    {
     "name": "stderr",
     "output_type": "stream",
     "text": [
      " 16%|████████████████████████                                                                                                                                  | 17/109 [00:06<00:38,  2.42it/s]"
     ]
    },
    {
     "name": "stdout",
     "output_type": "stream",
     "text": [
      "yes\n"
     ]
    },
    {
     "name": "stderr",
     "output_type": "stream",
     "text": [
      " 17%|█████████████████████████▍                                                                                                                                | 18/109 [00:06<00:38,  2.34it/s]"
     ]
    },
    {
     "name": "stdout",
     "output_type": "stream",
     "text": [
      "yes\n"
     ]
    },
    {
     "name": "stderr",
     "output_type": "stream",
     "text": [
      " 17%|██████████████████████████▊                                                                                                                               | 19/109 [00:06<00:36,  2.48it/s]"
     ]
    },
    {
     "name": "stdout",
     "output_type": "stream",
     "text": [
      "no\n"
     ]
    },
    {
     "name": "stderr",
     "output_type": "stream",
     "text": [
      " 18%|████████████████████████████▎                                                                                                                             | 20/109 [00:07<00:34,  2.59it/s]"
     ]
    },
    {
     "name": "stdout",
     "output_type": "stream",
     "text": [
      "yes\n"
     ]
    },
    {
     "name": "stderr",
     "output_type": "stream",
     "text": [
      " 19%|█████████████████████████████▋                                                                                                                            | 21/109 [00:07<00:32,  2.73it/s]"
     ]
    },
    {
     "name": "stdout",
     "output_type": "stream",
     "text": [
      "yes\n"
     ]
    },
    {
     "name": "stderr",
     "output_type": "stream",
     "text": [
      " 20%|███████████████████████████████                                                                                                                           | 22/109 [00:07<00:31,  2.78it/s]"
     ]
    },
    {
     "name": "stdout",
     "output_type": "stream",
     "text": [
      "no\n"
     ]
    },
    {
     "name": "stderr",
     "output_type": "stream",
     "text": [
      " 21%|████████████████████████████████▍                                                                                                                         | 23/109 [00:08<00:30,  2.81it/s]"
     ]
    },
    {
     "name": "stdout",
     "output_type": "stream",
     "text": [
      "yes\n"
     ]
    },
    {
     "name": "stderr",
     "output_type": "stream",
     "text": [
      " 22%|█████████████████████████████████▉                                                                                                                        | 24/109 [00:08<00:29,  2.89it/s]"
     ]
    },
    {
     "name": "stdout",
     "output_type": "stream",
     "text": [
      "yes\n"
     ]
    },
    {
     "name": "stderr",
     "output_type": "stream",
     "text": [
      " 23%|███████████████████████████████████▎                                                                                                                      | 25/109 [00:08<00:29,  2.89it/s]"
     ]
    },
    {
     "name": "stdout",
     "output_type": "stream",
     "text": [
      "yes\n"
     ]
    },
    {
     "name": "stderr",
     "output_type": "stream",
     "text": [
      " 24%|████████████████████████████████████▋                                                                                                                     | 26/109 [00:09<00:28,  2.89it/s]"
     ]
    },
    {
     "name": "stdout",
     "output_type": "stream",
     "text": [
      "no\n"
     ]
    },
    {
     "name": "stderr",
     "output_type": "stream",
     "text": [
      " 25%|██████████████████████████████████████▏                                                                                                                   | 27/109 [00:09<00:27,  2.93it/s]"
     ]
    },
    {
     "name": "stdout",
     "output_type": "stream",
     "text": [
      "yes\n"
     ]
    },
    {
     "name": "stderr",
     "output_type": "stream",
     "text": [
      " 26%|███████████████████████████████████████▌                                                                                                                  | 28/109 [00:09<00:27,  2.92it/s]"
     ]
    },
    {
     "name": "stdout",
     "output_type": "stream",
     "text": [
      "no\n"
     ]
    },
    {
     "name": "stderr",
     "output_type": "stream",
     "text": [
      "100%|█████████████████████████████████████████████████████████████████████████████████████████████████████████████████████████████████████████████████████████| 109/109 [00:40<00:00,  2.69it/s]"
     ]
    },
    {
     "name": "stdout",
     "output_type": "stream",
     "text": [
      "riteval_R05_en 84\n"
     ]
    },
    {
     "name": "stderr",
     "output_type": "stream",
     "text": [
      "\n"
     ]
    },
    {
     "ename": "ParseError",
     "evalue": "not well-formed (invalid token): line 1, column 0 (<string>)",
     "output_type": "error",
     "traceback": [
      "Traceback \u001b[0;36m(most recent call last)\u001b[0m:\n",
      "\u001b[0m  File \u001b[1;32m~/drive/miniconda3/envs/myenv/lib/python3.10/site-packages/IPython/core/interactiveshell.py:3553\u001b[0m in \u001b[1;35mrun_code\u001b[0m\n    exec(code_obj, self.user_global_ns, self.user_ns)\u001b[0m\n",
      "\u001b[0m  Cell \u001b[1;32mIn[26], line 1\u001b[0m\n    predict(model, tokenizer, path_file, [\"riteval_R05_en\", \"riteval_R01_en\",\"riteval_R02_en\",\"riteval_R03_en\",\"riteval_R04_en\"], \"../output/fewshot_detail/aug\")\u001b[0m\n",
      "\u001b[0m  Cell \u001b[1;32mIn[25], line 11\u001b[0m in \u001b[1;35mpredict\u001b[0m\n    corpus, content, labels, retrival_passage_embeddings, content_passage_embeddings = dpr(file, path_file, aug_path)\u001b[0m\n",
      "\u001b[0m  Cell \u001b[1;32mIn[7], line 13\u001b[0m in \u001b[1;35mdpr\u001b[0m\n    data = load_samples(data)\u001b[0m\n",
      "\u001b[0m  Cell \u001b[1;32mIn[1], line 64\u001b[0m in \u001b[1;35mload_samples\u001b[0m\n    tree = Et.parse(filexml)\u001b[0m\n",
      "\u001b[0m  File \u001b[1;32m~/drive/miniconda3/envs/myenv/lib/python3.10/xml/etree/ElementTree.py:1222\u001b[0m in \u001b[1;35mparse\u001b[0m\n    tree.parse(source, parser)\u001b[0m\n",
      "\u001b[0;36m  File \u001b[0;32m~/drive/miniconda3/envs/myenv/lib/python3.10/xml/etree/ElementTree.py:580\u001b[0;36m in \u001b[0;35mparse\u001b[0;36m\n\u001b[0;31m    self._root = parser._parse_whole(source)\u001b[0;36m\n",
      "\u001b[0;36m  File \u001b[0;32m<string>\u001b[0;36m\u001b[0m\n\u001b[0;31mParseError\u001b[0m\u001b[0;31m:\u001b[0m not well-formed (invalid token): line 1, column 0\n"
     ]
    }
   ],
   "source": [
    "predict(model, tokenizer, path_file, [\"riteval_R05_en\", \"riteval_R01_en\",\"riteval_R02_en\",\"riteval_R03_en\",\"riteval_R04_en\"], \"../output/fewshot_detail/aug\")"
   ]
  },
  {
   "cell_type": "code",
   "execution_count": 14,
   "id": "fb2b2ba3-034a-4fcf-bff2-2b3461a67400",
   "metadata": {},
   "outputs": [
    {
     "name": "stdout",
     "output_type": "stream",
     "text": [
      "1105\n",
      "101\n"
     ]
    },
    {
     "data": {
      "text/plain": [
       "'EXAM\\n1. Answer by yes or no.\\n\\nDocument: {{premise}}\\nQuestion: {{hypothesis}}? \\nAnswer: {{answer}}\\n\\n'"
      ]
     },
     "execution_count": 14,
     "metadata": {},
     "output_type": "execute_result"
    }
   ],
   "source": [
    "prompt_template = \"EXAM\\n1. Answer by yes or no.\\n\\nDocument: {{premise}}\\nQuestion: {{hypothesis}}? \\nAnswer: {{answer}}\\n\\n\"\n",
    "final_template = \"EXAM\\n1. Answer by yes or no.\\n\\nDocument: {{premise}}\\nQuestion: {{hypothesis}}? \"\n",
    "test_file = \"../data/COLIEE2024statute_data-English/test/riteval_R04_en.xml\"\n",
    "corpus, content, labels, retrival_passage_embeddings, content_passage_embeddings = dpr(\"R04\")\n",
    "\n",
    "# final_prompt = \"{{premise}}\\nQuestion: {{hypothesis}}?\\nAnswer \"\n",
    "# prompt_template\n",
    "data = load_samples(test_file)\n",
    "print(len(data))\n",
    "prompt_template"
   ]
  },
  {
   "cell_type": "code",
   "execution_count": 15,
   "id": "7c6dfed2-b46f-4f25-a361-3969dfbdb951",
   "metadata": {
    "scrolled": true
   },
   "outputs": [
    {
     "name": "stderr",
     "output_type": "stream",
     "text": [
      "  0%|                                                                                                                                                                   | 0/101 [00:00<?, ?it/s]Token indices sequence length is longer than the specified maximum sequence length for this model (614 > 512). Running this sequence through the model will result in indexing errors\n",
      "  1%|█▌                                                                                                                                                         | 1/101 [00:02<04:30,  2.71s/it]"
     ]
    },
    {
     "name": "stdout",
     "output_type": "stream",
     "text": [
      "EXAM\n",
      "1. Answer by yes or no.\n",
      "\n",
      "Document: Article 6\n",
      "(1) A minor who is permitted to conduct one or multiple types of business has the same capacity to act as an adult as far as that business is concerned.\n",
      "(2) In a case as referred to in the preceding paragraph, if there are grounds that make the minor unable to sustain that business, the legal representative may revoke or limit the permission therefor in accordance with the provisions of Part IV (Relatives).\n",
      "Question: Assuming a person is a minor, then in regards a permitted, specific business, he/she has the legal capacity to act.? \n",
      "Answer: Yes\n",
      "\n",
      "EXAM\n",
      "1. Answer by yes or no.\n",
      "\n",
      "Document: Article 6\n",
      "(1) A minor who is permitted to conduct one or multiple types of business has the same capacity to act as an adult as far as that business is concerned.\n",
      "(2) In a case as referred to in the preceding paragraph, if there are grounds that make the minor unable to sustain that business, the legal representative may revoke or limit the permission therefor in accordance with the provisions of Part IV (Relatives).\n",
      "Question: If a minor, after getting permission for carrying a business from his/her statutory agent, performs an act unrelated to the business without getting consent of the statutory agent, that act may not be rescinded.? \n",
      "Answer: No\n",
      "\n",
      "EXAM\n",
      "1. Answer by yes or no.\n",
      "\n",
      "Document: Article 6\n",
      "(1) A minor who is permitted to conduct one or multiple types of business has the same capacity to act as an adult as far as that business is concerned.\n",
      "(2) In a case as referred to in the preceding paragraph, if there are grounds that make the minor unable to sustain that business, the legal representative may revoke or limit the permission therefor in accordance with the provisions of Part IV (Relatives).\n",
      "Question: A minor who is permitted to carry on one or more kinds of business shall have the same capacity to act as a person of the age of majority as far as such business is concerned.? \n",
      "Answer: Yes\n",
      "\n",
      "EXAM\n",
      "1. Answer by yes or no.\n",
      "\n",
      "Document: Article 5 (1) A minor must obtain the consent of the minor's legal representative to perform a juridical act;provided, however, that this does not apply to a juridical act for merely acquiring a right or being released from an obligation.\n",
      "(2) A juridical act in contravention of the provisions of the preceding paragraph is voidable.\n",
      "Article 6 (1) A minor who is permitted to conduct one or multiple types of business has the same capacity to act as an adult as far as that business is concerned.\n",
      "Question: A juridical act by a minor who is permitted to conduct business may not be rescinded even if the judicial act does not concern the business.? \n"
     ]
    },
    {
     "name": "stderr",
     "output_type": "stream",
     "text": [
      " 32%|████████████████████████████████████████████████▊                                                                                                         | 32/101 [01:25<03:04,  2.68s/it]\n"
     ]
    },
    {
     "ename": "KeyboardInterrupt",
     "evalue": "",
     "output_type": "error",
     "traceback": [
      "\u001b[0;31m---------------------------------------------------------------------------\u001b[0m",
      "\u001b[0;31mKeyboardInterrupt\u001b[0m                         Traceback (most recent call last)",
      "Cell \u001b[0;32mIn[15], line 17\u001b[0m\n\u001b[1;32m     15\u001b[0m text \u001b[38;5;241m+\u001b[39m\u001b[38;5;241m=\u001b[39m final_template\u001b[38;5;241m.\u001b[39mreplace(\u001b[38;5;124m\"\u001b[39m\u001b[38;5;124m{{\u001b[39m\u001b[38;5;124mpremise}}\u001b[39m\u001b[38;5;124m\"\u001b[39m, retrival)\u001b[38;5;241m.\u001b[39mreplace(\u001b[38;5;124m'\u001b[39m\u001b[38;5;124m{{\u001b[39m\u001b[38;5;124mhypothesis}}\u001b[39m\u001b[38;5;124m'\u001b[39m, query)\n\u001b[1;32m     16\u001b[0m inputs \u001b[38;5;241m=\u001b[39m tokenizer(text, return_tensors\u001b[38;5;241m=\u001b[39m\u001b[38;5;124m\"\u001b[39m\u001b[38;5;124mpt\u001b[39m\u001b[38;5;124m\"\u001b[39m)[\u001b[38;5;124m\"\u001b[39m\u001b[38;5;124minput_ids\u001b[39m\u001b[38;5;124m\"\u001b[39m]\u001b[38;5;241m.\u001b[39mcuda()\n\u001b[0;32m---> 17\u001b[0m outputs \u001b[38;5;241m=\u001b[39m \u001b[43mmodel\u001b[49m\u001b[38;5;241;43m.\u001b[39;49m\u001b[43mgenerate\u001b[49m\u001b[43m(\u001b[49m\u001b[43minputs\u001b[49m\u001b[43m,\u001b[49m\u001b[43m \u001b[49m\u001b[43mmax_new_tokens\u001b[49m\u001b[38;5;241;43m=\u001b[39;49m\u001b[38;5;241;43m5\u001b[39;49m\u001b[43m)\u001b[49m\n\u001b[1;32m     18\u001b[0m output_text \u001b[38;5;241m=\u001b[39m format_output(tokenizer\u001b[38;5;241m.\u001b[39mdecode(outputs[\u001b[38;5;241m0\u001b[39m])\u001b[38;5;241m.\u001b[39mreplace(text, \u001b[38;5;124m\"\u001b[39m\u001b[38;5;124m\"\u001b[39m)\u001b[38;5;241m.\u001b[39msplit(\u001b[38;5;124m\"\u001b[39m\u001b[38;5;130;01m\\n\u001b[39;00m\u001b[38;5;124m\"\u001b[39m)[\u001b[38;5;241m-\u001b[39m\u001b[38;5;241m1\u001b[39m])\n\u001b[1;32m     20\u001b[0m \u001b[38;5;66;03m##########################\u001b[39;00m\n\u001b[1;32m     21\u001b[0m \u001b[38;5;66;03m# output = []\u001b[39;00m\n\u001b[1;32m     22\u001b[0m \u001b[38;5;66;03m# query = query.split(\".\")\u001b[39;00m\n\u001b[0;32m   (...)\u001b[0m\n\u001b[1;32m     46\u001b[0m \n\u001b[1;32m     47\u001b[0m \u001b[38;5;66;03m### Write\u001b[39;00m\n",
      "File \u001b[0;32m~/drive/miniconda3/envs/myenv/lib/python3.10/site-packages/torch/utils/_contextlib.py:115\u001b[0m, in \u001b[0;36mcontext_decorator.<locals>.decorate_context\u001b[0;34m(*args, **kwargs)\u001b[0m\n\u001b[1;32m    112\u001b[0m \u001b[38;5;129m@functools\u001b[39m\u001b[38;5;241m.\u001b[39mwraps(func)\n\u001b[1;32m    113\u001b[0m \u001b[38;5;28;01mdef\u001b[39;00m \u001b[38;5;21mdecorate_context\u001b[39m(\u001b[38;5;241m*\u001b[39margs, \u001b[38;5;241m*\u001b[39m\u001b[38;5;241m*\u001b[39mkwargs):\n\u001b[1;32m    114\u001b[0m     \u001b[38;5;28;01mwith\u001b[39;00m ctx_factory():\n\u001b[0;32m--> 115\u001b[0m         \u001b[38;5;28;01mreturn\u001b[39;00m \u001b[43mfunc\u001b[49m\u001b[43m(\u001b[49m\u001b[38;5;241;43m*\u001b[39;49m\u001b[43margs\u001b[49m\u001b[43m,\u001b[49m\u001b[43m \u001b[49m\u001b[38;5;241;43m*\u001b[39;49m\u001b[38;5;241;43m*\u001b[39;49m\u001b[43mkwargs\u001b[49m\u001b[43m)\u001b[49m\n",
      "File \u001b[0;32m~/drive/miniconda3/envs/myenv/lib/python3.10/site-packages/transformers/generation/utils.py:1593\u001b[0m, in \u001b[0;36mGenerationMixin.generate\u001b[0;34m(self, inputs, generation_config, logits_processor, stopping_criteria, prefix_allowed_tokens_fn, synced_gpus, assistant_model, streamer, negative_prompt_ids, negative_prompt_attention_mask, **kwargs)\u001b[0m\n\u001b[1;32m   1585\u001b[0m         logger\u001b[38;5;241m.\u001b[39mwarning(\n\u001b[1;32m   1586\u001b[0m             \u001b[38;5;124m\"\u001b[39m\u001b[38;5;124mA decoder-only architecture is being used, but right-padding was detected! For correct \u001b[39m\u001b[38;5;124m\"\u001b[39m\n\u001b[1;32m   1587\u001b[0m             \u001b[38;5;124m\"\u001b[39m\u001b[38;5;124mgeneration results, please set `padding_side=\u001b[39m\u001b[38;5;124m'\u001b[39m\u001b[38;5;124mleft\u001b[39m\u001b[38;5;124m'\u001b[39m\u001b[38;5;124m` when initializing the tokenizer.\u001b[39m\u001b[38;5;124m\"\u001b[39m\n\u001b[1;32m   1588\u001b[0m         )\n\u001b[1;32m   1590\u001b[0m \u001b[38;5;28;01mif\u001b[39;00m \u001b[38;5;28mself\u001b[39m\u001b[38;5;241m.\u001b[39mconfig\u001b[38;5;241m.\u001b[39mis_encoder_decoder \u001b[38;5;129;01mand\u001b[39;00m \u001b[38;5;124m\"\u001b[39m\u001b[38;5;124mencoder_outputs\u001b[39m\u001b[38;5;124m\"\u001b[39m \u001b[38;5;129;01mnot\u001b[39;00m \u001b[38;5;129;01min\u001b[39;00m model_kwargs:\n\u001b[1;32m   1591\u001b[0m     \u001b[38;5;66;03m# if model is encoder decoder encoder_outputs are created\u001b[39;00m\n\u001b[1;32m   1592\u001b[0m     \u001b[38;5;66;03m# and added to `model_kwargs`\u001b[39;00m\n\u001b[0;32m-> 1593\u001b[0m     model_kwargs \u001b[38;5;241m=\u001b[39m \u001b[38;5;28;43mself\u001b[39;49m\u001b[38;5;241;43m.\u001b[39;49m\u001b[43m_prepare_encoder_decoder_kwargs_for_generation\u001b[49m\u001b[43m(\u001b[49m\n\u001b[1;32m   1594\u001b[0m \u001b[43m        \u001b[49m\u001b[43minputs_tensor\u001b[49m\u001b[43m,\u001b[49m\u001b[43m \u001b[49m\u001b[43mmodel_kwargs\u001b[49m\u001b[43m,\u001b[49m\u001b[43m \u001b[49m\u001b[43mmodel_input_name\u001b[49m\n\u001b[1;32m   1595\u001b[0m \u001b[43m    \u001b[49m\u001b[43m)\u001b[49m\n\u001b[1;32m   1597\u001b[0m \u001b[38;5;66;03m# 5. Prepare `input_ids` which will be used for auto-regressive generation\u001b[39;00m\n\u001b[1;32m   1598\u001b[0m \u001b[38;5;28;01mif\u001b[39;00m \u001b[38;5;28mself\u001b[39m\u001b[38;5;241m.\u001b[39mconfig\u001b[38;5;241m.\u001b[39mis_encoder_decoder:\n",
      "File \u001b[0;32m~/drive/miniconda3/envs/myenv/lib/python3.10/site-packages/transformers/generation/utils.py:742\u001b[0m, in \u001b[0;36mGenerationMixin._prepare_encoder_decoder_kwargs_for_generation\u001b[0;34m(self, inputs_tensor, model_kwargs, model_input_name)\u001b[0m\n\u001b[1;32m    740\u001b[0m encoder_kwargs[\u001b[38;5;124m\"\u001b[39m\u001b[38;5;124mreturn_dict\u001b[39m\u001b[38;5;124m\"\u001b[39m] \u001b[38;5;241m=\u001b[39m \u001b[38;5;28;01mTrue\u001b[39;00m\n\u001b[1;32m    741\u001b[0m encoder_kwargs[model_input_name] \u001b[38;5;241m=\u001b[39m inputs_tensor\n\u001b[0;32m--> 742\u001b[0m model_kwargs[\u001b[38;5;124m\"\u001b[39m\u001b[38;5;124mencoder_outputs\u001b[39m\u001b[38;5;124m\"\u001b[39m]: ModelOutput \u001b[38;5;241m=\u001b[39m \u001b[43mencoder\u001b[49m\u001b[43m(\u001b[49m\u001b[38;5;241;43m*\u001b[39;49m\u001b[38;5;241;43m*\u001b[39;49m\u001b[43mencoder_kwargs\u001b[49m\u001b[43m)\u001b[49m\n\u001b[1;32m    744\u001b[0m \u001b[38;5;28;01mreturn\u001b[39;00m model_kwargs\n",
      "File \u001b[0;32m~/drive/miniconda3/envs/myenv/lib/python3.10/site-packages/torch/nn/modules/module.py:1518\u001b[0m, in \u001b[0;36mModule._wrapped_call_impl\u001b[0;34m(self, *args, **kwargs)\u001b[0m\n\u001b[1;32m   1516\u001b[0m     \u001b[38;5;28;01mreturn\u001b[39;00m \u001b[38;5;28mself\u001b[39m\u001b[38;5;241m.\u001b[39m_compiled_call_impl(\u001b[38;5;241m*\u001b[39margs, \u001b[38;5;241m*\u001b[39m\u001b[38;5;241m*\u001b[39mkwargs)  \u001b[38;5;66;03m# type: ignore[misc]\u001b[39;00m\n\u001b[1;32m   1517\u001b[0m \u001b[38;5;28;01melse\u001b[39;00m:\n\u001b[0;32m-> 1518\u001b[0m     \u001b[38;5;28;01mreturn\u001b[39;00m \u001b[38;5;28;43mself\u001b[39;49m\u001b[38;5;241;43m.\u001b[39;49m\u001b[43m_call_impl\u001b[49m\u001b[43m(\u001b[49m\u001b[38;5;241;43m*\u001b[39;49m\u001b[43margs\u001b[49m\u001b[43m,\u001b[49m\u001b[43m \u001b[49m\u001b[38;5;241;43m*\u001b[39;49m\u001b[38;5;241;43m*\u001b[39;49m\u001b[43mkwargs\u001b[49m\u001b[43m)\u001b[49m\n",
      "File \u001b[0;32m~/drive/miniconda3/envs/myenv/lib/python3.10/site-packages/torch/nn/modules/module.py:1527\u001b[0m, in \u001b[0;36mModule._call_impl\u001b[0;34m(self, *args, **kwargs)\u001b[0m\n\u001b[1;32m   1522\u001b[0m \u001b[38;5;66;03m# If we don't have any hooks, we want to skip the rest of the logic in\u001b[39;00m\n\u001b[1;32m   1523\u001b[0m \u001b[38;5;66;03m# this function, and just call forward.\u001b[39;00m\n\u001b[1;32m   1524\u001b[0m \u001b[38;5;28;01mif\u001b[39;00m \u001b[38;5;129;01mnot\u001b[39;00m (\u001b[38;5;28mself\u001b[39m\u001b[38;5;241m.\u001b[39m_backward_hooks \u001b[38;5;129;01mor\u001b[39;00m \u001b[38;5;28mself\u001b[39m\u001b[38;5;241m.\u001b[39m_backward_pre_hooks \u001b[38;5;129;01mor\u001b[39;00m \u001b[38;5;28mself\u001b[39m\u001b[38;5;241m.\u001b[39m_forward_hooks \u001b[38;5;129;01mor\u001b[39;00m \u001b[38;5;28mself\u001b[39m\u001b[38;5;241m.\u001b[39m_forward_pre_hooks\n\u001b[1;32m   1525\u001b[0m         \u001b[38;5;129;01mor\u001b[39;00m _global_backward_pre_hooks \u001b[38;5;129;01mor\u001b[39;00m _global_backward_hooks\n\u001b[1;32m   1526\u001b[0m         \u001b[38;5;129;01mor\u001b[39;00m _global_forward_hooks \u001b[38;5;129;01mor\u001b[39;00m _global_forward_pre_hooks):\n\u001b[0;32m-> 1527\u001b[0m     \u001b[38;5;28;01mreturn\u001b[39;00m \u001b[43mforward_call\u001b[49m\u001b[43m(\u001b[49m\u001b[38;5;241;43m*\u001b[39;49m\u001b[43margs\u001b[49m\u001b[43m,\u001b[49m\u001b[43m \u001b[49m\u001b[38;5;241;43m*\u001b[39;49m\u001b[38;5;241;43m*\u001b[39;49m\u001b[43mkwargs\u001b[49m\u001b[43m)\u001b[49m\n\u001b[1;32m   1529\u001b[0m \u001b[38;5;28;01mtry\u001b[39;00m:\n\u001b[1;32m   1530\u001b[0m     result \u001b[38;5;241m=\u001b[39m \u001b[38;5;28;01mNone\u001b[39;00m\n",
      "File \u001b[0;32m~/drive/miniconda3/envs/myenv/lib/python3.10/site-packages/accelerate/hooks.py:165\u001b[0m, in \u001b[0;36madd_hook_to_module.<locals>.new_forward\u001b[0;34m(module, *args, **kwargs)\u001b[0m\n\u001b[1;32m    163\u001b[0m         output \u001b[38;5;241m=\u001b[39m module\u001b[38;5;241m.\u001b[39m_old_forward(\u001b[38;5;241m*\u001b[39margs, \u001b[38;5;241m*\u001b[39m\u001b[38;5;241m*\u001b[39mkwargs)\n\u001b[1;32m    164\u001b[0m \u001b[38;5;28;01melse\u001b[39;00m:\n\u001b[0;32m--> 165\u001b[0m     output \u001b[38;5;241m=\u001b[39m \u001b[43mmodule\u001b[49m\u001b[38;5;241;43m.\u001b[39;49m\u001b[43m_old_forward\u001b[49m\u001b[43m(\u001b[49m\u001b[38;5;241;43m*\u001b[39;49m\u001b[43margs\u001b[49m\u001b[43m,\u001b[49m\u001b[43m \u001b[49m\u001b[38;5;241;43m*\u001b[39;49m\u001b[38;5;241;43m*\u001b[39;49m\u001b[43mkwargs\u001b[49m\u001b[43m)\u001b[49m\n\u001b[1;32m    166\u001b[0m \u001b[38;5;28;01mreturn\u001b[39;00m module\u001b[38;5;241m.\u001b[39m_hf_hook\u001b[38;5;241m.\u001b[39mpost_forward(module, output)\n",
      "File \u001b[0;32m~/drive/miniconda3/envs/myenv/lib/python3.10/site-packages/transformers/models/t5/modeling_t5.py:1110\u001b[0m, in \u001b[0;36mT5Stack.forward\u001b[0;34m(self, input_ids, attention_mask, encoder_hidden_states, encoder_attention_mask, inputs_embeds, head_mask, cross_attn_head_mask, past_key_values, use_cache, output_attentions, output_hidden_states, return_dict)\u001b[0m\n\u001b[1;32m   1095\u001b[0m     layer_outputs \u001b[38;5;241m=\u001b[39m \u001b[38;5;28mself\u001b[39m\u001b[38;5;241m.\u001b[39m_gradient_checkpointing_func(\n\u001b[1;32m   1096\u001b[0m         layer_module\u001b[38;5;241m.\u001b[39mforward,\n\u001b[1;32m   1097\u001b[0m         hidden_states,\n\u001b[0;32m   (...)\u001b[0m\n\u001b[1;32m   1107\u001b[0m         output_attentions,\n\u001b[1;32m   1108\u001b[0m     )\n\u001b[1;32m   1109\u001b[0m \u001b[38;5;28;01melse\u001b[39;00m:\n\u001b[0;32m-> 1110\u001b[0m     layer_outputs \u001b[38;5;241m=\u001b[39m \u001b[43mlayer_module\u001b[49m\u001b[43m(\u001b[49m\n\u001b[1;32m   1111\u001b[0m \u001b[43m        \u001b[49m\u001b[43mhidden_states\u001b[49m\u001b[43m,\u001b[49m\n\u001b[1;32m   1112\u001b[0m \u001b[43m        \u001b[49m\u001b[43mattention_mask\u001b[49m\u001b[38;5;241;43m=\u001b[39;49m\u001b[43mextended_attention_mask\u001b[49m\u001b[43m,\u001b[49m\n\u001b[1;32m   1113\u001b[0m \u001b[43m        \u001b[49m\u001b[43mposition_bias\u001b[49m\u001b[38;5;241;43m=\u001b[39;49m\u001b[43mposition_bias\u001b[49m\u001b[43m,\u001b[49m\n\u001b[1;32m   1114\u001b[0m \u001b[43m        \u001b[49m\u001b[43mencoder_hidden_states\u001b[49m\u001b[38;5;241;43m=\u001b[39;49m\u001b[43mencoder_hidden_states\u001b[49m\u001b[43m,\u001b[49m\n\u001b[1;32m   1115\u001b[0m \u001b[43m        \u001b[49m\u001b[43mencoder_attention_mask\u001b[49m\u001b[38;5;241;43m=\u001b[39;49m\u001b[43mencoder_extended_attention_mask\u001b[49m\u001b[43m,\u001b[49m\n\u001b[1;32m   1116\u001b[0m \u001b[43m        \u001b[49m\u001b[43mencoder_decoder_position_bias\u001b[49m\u001b[38;5;241;43m=\u001b[39;49m\u001b[43mencoder_decoder_position_bias\u001b[49m\u001b[43m,\u001b[49m\n\u001b[1;32m   1117\u001b[0m \u001b[43m        \u001b[49m\u001b[43mlayer_head_mask\u001b[49m\u001b[38;5;241;43m=\u001b[39;49m\u001b[43mlayer_head_mask\u001b[49m\u001b[43m,\u001b[49m\n\u001b[1;32m   1118\u001b[0m \u001b[43m        \u001b[49m\u001b[43mcross_attn_layer_head_mask\u001b[49m\u001b[38;5;241;43m=\u001b[39;49m\u001b[43mcross_attn_layer_head_mask\u001b[49m\u001b[43m,\u001b[49m\n\u001b[1;32m   1119\u001b[0m \u001b[43m        \u001b[49m\u001b[43mpast_key_value\u001b[49m\u001b[38;5;241;43m=\u001b[39;49m\u001b[43mpast_key_value\u001b[49m\u001b[43m,\u001b[49m\n\u001b[1;32m   1120\u001b[0m \u001b[43m        \u001b[49m\u001b[43muse_cache\u001b[49m\u001b[38;5;241;43m=\u001b[39;49m\u001b[43muse_cache\u001b[49m\u001b[43m,\u001b[49m\n\u001b[1;32m   1121\u001b[0m \u001b[43m        \u001b[49m\u001b[43moutput_attentions\u001b[49m\u001b[38;5;241;43m=\u001b[39;49m\u001b[43moutput_attentions\u001b[49m\u001b[43m,\u001b[49m\n\u001b[1;32m   1122\u001b[0m \u001b[43m    \u001b[49m\u001b[43m)\u001b[49m\n\u001b[1;32m   1124\u001b[0m \u001b[38;5;66;03m# layer_outputs is a tuple with:\u001b[39;00m\n\u001b[1;32m   1125\u001b[0m \u001b[38;5;66;03m# hidden-states, key-value-states, (self-attention position bias), (self-attention weights), (cross-attention position bias), (cross-attention weights)\u001b[39;00m\n\u001b[1;32m   1126\u001b[0m \u001b[38;5;28;01mif\u001b[39;00m use_cache \u001b[38;5;129;01mis\u001b[39;00m \u001b[38;5;28;01mFalse\u001b[39;00m:\n",
      "File \u001b[0;32m~/drive/miniconda3/envs/myenv/lib/python3.10/site-packages/torch/nn/modules/module.py:1518\u001b[0m, in \u001b[0;36mModule._wrapped_call_impl\u001b[0;34m(self, *args, **kwargs)\u001b[0m\n\u001b[1;32m   1516\u001b[0m     \u001b[38;5;28;01mreturn\u001b[39;00m \u001b[38;5;28mself\u001b[39m\u001b[38;5;241m.\u001b[39m_compiled_call_impl(\u001b[38;5;241m*\u001b[39margs, \u001b[38;5;241m*\u001b[39m\u001b[38;5;241m*\u001b[39mkwargs)  \u001b[38;5;66;03m# type: ignore[misc]\u001b[39;00m\n\u001b[1;32m   1517\u001b[0m \u001b[38;5;28;01melse\u001b[39;00m:\n\u001b[0;32m-> 1518\u001b[0m     \u001b[38;5;28;01mreturn\u001b[39;00m \u001b[38;5;28;43mself\u001b[39;49m\u001b[38;5;241;43m.\u001b[39;49m\u001b[43m_call_impl\u001b[49m\u001b[43m(\u001b[49m\u001b[38;5;241;43m*\u001b[39;49m\u001b[43margs\u001b[49m\u001b[43m,\u001b[49m\u001b[43m \u001b[49m\u001b[38;5;241;43m*\u001b[39;49m\u001b[38;5;241;43m*\u001b[39;49m\u001b[43mkwargs\u001b[49m\u001b[43m)\u001b[49m\n",
      "File \u001b[0;32m~/drive/miniconda3/envs/myenv/lib/python3.10/site-packages/torch/nn/modules/module.py:1527\u001b[0m, in \u001b[0;36mModule._call_impl\u001b[0;34m(self, *args, **kwargs)\u001b[0m\n\u001b[1;32m   1522\u001b[0m \u001b[38;5;66;03m# If we don't have any hooks, we want to skip the rest of the logic in\u001b[39;00m\n\u001b[1;32m   1523\u001b[0m \u001b[38;5;66;03m# this function, and just call forward.\u001b[39;00m\n\u001b[1;32m   1524\u001b[0m \u001b[38;5;28;01mif\u001b[39;00m \u001b[38;5;129;01mnot\u001b[39;00m (\u001b[38;5;28mself\u001b[39m\u001b[38;5;241m.\u001b[39m_backward_hooks \u001b[38;5;129;01mor\u001b[39;00m \u001b[38;5;28mself\u001b[39m\u001b[38;5;241m.\u001b[39m_backward_pre_hooks \u001b[38;5;129;01mor\u001b[39;00m \u001b[38;5;28mself\u001b[39m\u001b[38;5;241m.\u001b[39m_forward_hooks \u001b[38;5;129;01mor\u001b[39;00m \u001b[38;5;28mself\u001b[39m\u001b[38;5;241m.\u001b[39m_forward_pre_hooks\n\u001b[1;32m   1525\u001b[0m         \u001b[38;5;129;01mor\u001b[39;00m _global_backward_pre_hooks \u001b[38;5;129;01mor\u001b[39;00m _global_backward_hooks\n\u001b[1;32m   1526\u001b[0m         \u001b[38;5;129;01mor\u001b[39;00m _global_forward_hooks \u001b[38;5;129;01mor\u001b[39;00m _global_forward_pre_hooks):\n\u001b[0;32m-> 1527\u001b[0m     \u001b[38;5;28;01mreturn\u001b[39;00m \u001b[43mforward_call\u001b[49m\u001b[43m(\u001b[49m\u001b[38;5;241;43m*\u001b[39;49m\u001b[43margs\u001b[49m\u001b[43m,\u001b[49m\u001b[43m \u001b[49m\u001b[38;5;241;43m*\u001b[39;49m\u001b[38;5;241;43m*\u001b[39;49m\u001b[43mkwargs\u001b[49m\u001b[43m)\u001b[49m\n\u001b[1;32m   1529\u001b[0m \u001b[38;5;28;01mtry\u001b[39;00m:\n\u001b[1;32m   1530\u001b[0m     result \u001b[38;5;241m=\u001b[39m \u001b[38;5;28;01mNone\u001b[39;00m\n",
      "File \u001b[0;32m~/drive/miniconda3/envs/myenv/lib/python3.10/site-packages/accelerate/hooks.py:165\u001b[0m, in \u001b[0;36madd_hook_to_module.<locals>.new_forward\u001b[0;34m(module, *args, **kwargs)\u001b[0m\n\u001b[1;32m    163\u001b[0m         output \u001b[38;5;241m=\u001b[39m module\u001b[38;5;241m.\u001b[39m_old_forward(\u001b[38;5;241m*\u001b[39margs, \u001b[38;5;241m*\u001b[39m\u001b[38;5;241m*\u001b[39mkwargs)\n\u001b[1;32m    164\u001b[0m \u001b[38;5;28;01melse\u001b[39;00m:\n\u001b[0;32m--> 165\u001b[0m     output \u001b[38;5;241m=\u001b[39m \u001b[43mmodule\u001b[49m\u001b[38;5;241;43m.\u001b[39;49m\u001b[43m_old_forward\u001b[49m\u001b[43m(\u001b[49m\u001b[38;5;241;43m*\u001b[39;49m\u001b[43margs\u001b[49m\u001b[43m,\u001b[49m\u001b[43m \u001b[49m\u001b[38;5;241;43m*\u001b[39;49m\u001b[38;5;241;43m*\u001b[39;49m\u001b[43mkwargs\u001b[49m\u001b[43m)\u001b[49m\n\u001b[1;32m    166\u001b[0m \u001b[38;5;28;01mreturn\u001b[39;00m module\u001b[38;5;241m.\u001b[39m_hf_hook\u001b[38;5;241m.\u001b[39mpost_forward(module, output)\n",
      "File \u001b[0;32m~/drive/miniconda3/envs/myenv/lib/python3.10/site-packages/transformers/models/t5/modeling_t5.py:694\u001b[0m, in \u001b[0;36mT5Block.forward\u001b[0;34m(self, hidden_states, attention_mask, position_bias, encoder_hidden_states, encoder_attention_mask, encoder_decoder_position_bias, layer_head_mask, cross_attn_layer_head_mask, past_key_value, use_cache, output_attentions, return_dict)\u001b[0m\n\u001b[1;32m    691\u001b[0m \u001b[38;5;28;01melse\u001b[39;00m:\n\u001b[1;32m    692\u001b[0m     self_attn_past_key_value, cross_attn_past_key_value \u001b[38;5;241m=\u001b[39m \u001b[38;5;28;01mNone\u001b[39;00m, \u001b[38;5;28;01mNone\u001b[39;00m\n\u001b[0;32m--> 694\u001b[0m self_attention_outputs \u001b[38;5;241m=\u001b[39m \u001b[38;5;28;43mself\u001b[39;49m\u001b[38;5;241;43m.\u001b[39;49m\u001b[43mlayer\u001b[49m\u001b[43m[\u001b[49m\u001b[38;5;241;43m0\u001b[39;49m\u001b[43m]\u001b[49m\u001b[43m(\u001b[49m\n\u001b[1;32m    695\u001b[0m \u001b[43m    \u001b[49m\u001b[43mhidden_states\u001b[49m\u001b[43m,\u001b[49m\n\u001b[1;32m    696\u001b[0m \u001b[43m    \u001b[49m\u001b[43mattention_mask\u001b[49m\u001b[38;5;241;43m=\u001b[39;49m\u001b[43mattention_mask\u001b[49m\u001b[43m,\u001b[49m\n\u001b[1;32m    697\u001b[0m \u001b[43m    \u001b[49m\u001b[43mposition_bias\u001b[49m\u001b[38;5;241;43m=\u001b[39;49m\u001b[43mposition_bias\u001b[49m\u001b[43m,\u001b[49m\n\u001b[1;32m    698\u001b[0m \u001b[43m    \u001b[49m\u001b[43mlayer_head_mask\u001b[49m\u001b[38;5;241;43m=\u001b[39;49m\u001b[43mlayer_head_mask\u001b[49m\u001b[43m,\u001b[49m\n\u001b[1;32m    699\u001b[0m \u001b[43m    \u001b[49m\u001b[43mpast_key_value\u001b[49m\u001b[38;5;241;43m=\u001b[39;49m\u001b[43mself_attn_past_key_value\u001b[49m\u001b[43m,\u001b[49m\n\u001b[1;32m    700\u001b[0m \u001b[43m    \u001b[49m\u001b[43muse_cache\u001b[49m\u001b[38;5;241;43m=\u001b[39;49m\u001b[43muse_cache\u001b[49m\u001b[43m,\u001b[49m\n\u001b[1;32m    701\u001b[0m \u001b[43m    \u001b[49m\u001b[43moutput_attentions\u001b[49m\u001b[38;5;241;43m=\u001b[39;49m\u001b[43moutput_attentions\u001b[49m\u001b[43m,\u001b[49m\n\u001b[1;32m    702\u001b[0m \u001b[43m\u001b[49m\u001b[43m)\u001b[49m\n\u001b[1;32m    703\u001b[0m hidden_states, present_key_value_state \u001b[38;5;241m=\u001b[39m self_attention_outputs[:\u001b[38;5;241m2\u001b[39m]\n\u001b[1;32m    704\u001b[0m attention_outputs \u001b[38;5;241m=\u001b[39m self_attention_outputs[\u001b[38;5;241m2\u001b[39m:]  \u001b[38;5;66;03m# Keep self-attention outputs and relative position weights\u001b[39;00m\n",
      "File \u001b[0;32m~/drive/miniconda3/envs/myenv/lib/python3.10/site-packages/torch/nn/modules/module.py:1518\u001b[0m, in \u001b[0;36mModule._wrapped_call_impl\u001b[0;34m(self, *args, **kwargs)\u001b[0m\n\u001b[1;32m   1516\u001b[0m     \u001b[38;5;28;01mreturn\u001b[39;00m \u001b[38;5;28mself\u001b[39m\u001b[38;5;241m.\u001b[39m_compiled_call_impl(\u001b[38;5;241m*\u001b[39margs, \u001b[38;5;241m*\u001b[39m\u001b[38;5;241m*\u001b[39mkwargs)  \u001b[38;5;66;03m# type: ignore[misc]\u001b[39;00m\n\u001b[1;32m   1517\u001b[0m \u001b[38;5;28;01melse\u001b[39;00m:\n\u001b[0;32m-> 1518\u001b[0m     \u001b[38;5;28;01mreturn\u001b[39;00m \u001b[38;5;28;43mself\u001b[39;49m\u001b[38;5;241;43m.\u001b[39;49m\u001b[43m_call_impl\u001b[49m\u001b[43m(\u001b[49m\u001b[38;5;241;43m*\u001b[39;49m\u001b[43margs\u001b[49m\u001b[43m,\u001b[49m\u001b[43m \u001b[49m\u001b[38;5;241;43m*\u001b[39;49m\u001b[38;5;241;43m*\u001b[39;49m\u001b[43mkwargs\u001b[49m\u001b[43m)\u001b[49m\n",
      "File \u001b[0;32m~/drive/miniconda3/envs/myenv/lib/python3.10/site-packages/torch/nn/modules/module.py:1527\u001b[0m, in \u001b[0;36mModule._call_impl\u001b[0;34m(self, *args, **kwargs)\u001b[0m\n\u001b[1;32m   1522\u001b[0m \u001b[38;5;66;03m# If we don't have any hooks, we want to skip the rest of the logic in\u001b[39;00m\n\u001b[1;32m   1523\u001b[0m \u001b[38;5;66;03m# this function, and just call forward.\u001b[39;00m\n\u001b[1;32m   1524\u001b[0m \u001b[38;5;28;01mif\u001b[39;00m \u001b[38;5;129;01mnot\u001b[39;00m (\u001b[38;5;28mself\u001b[39m\u001b[38;5;241m.\u001b[39m_backward_hooks \u001b[38;5;129;01mor\u001b[39;00m \u001b[38;5;28mself\u001b[39m\u001b[38;5;241m.\u001b[39m_backward_pre_hooks \u001b[38;5;129;01mor\u001b[39;00m \u001b[38;5;28mself\u001b[39m\u001b[38;5;241m.\u001b[39m_forward_hooks \u001b[38;5;129;01mor\u001b[39;00m \u001b[38;5;28mself\u001b[39m\u001b[38;5;241m.\u001b[39m_forward_pre_hooks\n\u001b[1;32m   1525\u001b[0m         \u001b[38;5;129;01mor\u001b[39;00m _global_backward_pre_hooks \u001b[38;5;129;01mor\u001b[39;00m _global_backward_hooks\n\u001b[1;32m   1526\u001b[0m         \u001b[38;5;129;01mor\u001b[39;00m _global_forward_hooks \u001b[38;5;129;01mor\u001b[39;00m _global_forward_pre_hooks):\n\u001b[0;32m-> 1527\u001b[0m     \u001b[38;5;28;01mreturn\u001b[39;00m \u001b[43mforward_call\u001b[49m\u001b[43m(\u001b[49m\u001b[38;5;241;43m*\u001b[39;49m\u001b[43margs\u001b[49m\u001b[43m,\u001b[49m\u001b[43m \u001b[49m\u001b[38;5;241;43m*\u001b[39;49m\u001b[38;5;241;43m*\u001b[39;49m\u001b[43mkwargs\u001b[49m\u001b[43m)\u001b[49m\n\u001b[1;32m   1529\u001b[0m \u001b[38;5;28;01mtry\u001b[39;00m:\n\u001b[1;32m   1530\u001b[0m     result \u001b[38;5;241m=\u001b[39m \u001b[38;5;28;01mNone\u001b[39;00m\n",
      "File \u001b[0;32m~/drive/miniconda3/envs/myenv/lib/python3.10/site-packages/accelerate/hooks.py:165\u001b[0m, in \u001b[0;36madd_hook_to_module.<locals>.new_forward\u001b[0;34m(module, *args, **kwargs)\u001b[0m\n\u001b[1;32m    163\u001b[0m         output \u001b[38;5;241m=\u001b[39m module\u001b[38;5;241m.\u001b[39m_old_forward(\u001b[38;5;241m*\u001b[39margs, \u001b[38;5;241m*\u001b[39m\u001b[38;5;241m*\u001b[39mkwargs)\n\u001b[1;32m    164\u001b[0m \u001b[38;5;28;01melse\u001b[39;00m:\n\u001b[0;32m--> 165\u001b[0m     output \u001b[38;5;241m=\u001b[39m \u001b[43mmodule\u001b[49m\u001b[38;5;241;43m.\u001b[39;49m\u001b[43m_old_forward\u001b[49m\u001b[43m(\u001b[49m\u001b[38;5;241;43m*\u001b[39;49m\u001b[43margs\u001b[49m\u001b[43m,\u001b[49m\u001b[43m \u001b[49m\u001b[38;5;241;43m*\u001b[39;49m\u001b[38;5;241;43m*\u001b[39;49m\u001b[43mkwargs\u001b[49m\u001b[43m)\u001b[49m\n\u001b[1;32m    166\u001b[0m \u001b[38;5;28;01mreturn\u001b[39;00m module\u001b[38;5;241m.\u001b[39m_hf_hook\u001b[38;5;241m.\u001b[39mpost_forward(module, output)\n",
      "File \u001b[0;32m~/drive/miniconda3/envs/myenv/lib/python3.10/site-packages/transformers/models/t5/modeling_t5.py:601\u001b[0m, in \u001b[0;36mT5LayerSelfAttention.forward\u001b[0;34m(self, hidden_states, attention_mask, position_bias, layer_head_mask, past_key_value, use_cache, output_attentions)\u001b[0m\n\u001b[1;32m    590\u001b[0m \u001b[38;5;28;01mdef\u001b[39;00m \u001b[38;5;21mforward\u001b[39m(\n\u001b[1;32m    591\u001b[0m     \u001b[38;5;28mself\u001b[39m,\n\u001b[1;32m    592\u001b[0m     hidden_states,\n\u001b[0;32m   (...)\u001b[0m\n\u001b[1;32m    598\u001b[0m     output_attentions\u001b[38;5;241m=\u001b[39m\u001b[38;5;28;01mFalse\u001b[39;00m,\n\u001b[1;32m    599\u001b[0m ):\n\u001b[1;32m    600\u001b[0m     normed_hidden_states \u001b[38;5;241m=\u001b[39m \u001b[38;5;28mself\u001b[39m\u001b[38;5;241m.\u001b[39mlayer_norm(hidden_states)\n\u001b[0;32m--> 601\u001b[0m     attention_output \u001b[38;5;241m=\u001b[39m \u001b[38;5;28;43mself\u001b[39;49m\u001b[38;5;241;43m.\u001b[39;49m\u001b[43mSelfAttention\u001b[49m\u001b[43m(\u001b[49m\n\u001b[1;32m    602\u001b[0m \u001b[43m        \u001b[49m\u001b[43mnormed_hidden_states\u001b[49m\u001b[43m,\u001b[49m\n\u001b[1;32m    603\u001b[0m \u001b[43m        \u001b[49m\u001b[43mmask\u001b[49m\u001b[38;5;241;43m=\u001b[39;49m\u001b[43mattention_mask\u001b[49m\u001b[43m,\u001b[49m\n\u001b[1;32m    604\u001b[0m \u001b[43m        \u001b[49m\u001b[43mposition_bias\u001b[49m\u001b[38;5;241;43m=\u001b[39;49m\u001b[43mposition_bias\u001b[49m\u001b[43m,\u001b[49m\n\u001b[1;32m    605\u001b[0m \u001b[43m        \u001b[49m\u001b[43mlayer_head_mask\u001b[49m\u001b[38;5;241;43m=\u001b[39;49m\u001b[43mlayer_head_mask\u001b[49m\u001b[43m,\u001b[49m\n\u001b[1;32m    606\u001b[0m \u001b[43m        \u001b[49m\u001b[43mpast_key_value\u001b[49m\u001b[38;5;241;43m=\u001b[39;49m\u001b[43mpast_key_value\u001b[49m\u001b[43m,\u001b[49m\n\u001b[1;32m    607\u001b[0m \u001b[43m        \u001b[49m\u001b[43muse_cache\u001b[49m\u001b[38;5;241;43m=\u001b[39;49m\u001b[43muse_cache\u001b[49m\u001b[43m,\u001b[49m\n\u001b[1;32m    608\u001b[0m \u001b[43m        \u001b[49m\u001b[43moutput_attentions\u001b[49m\u001b[38;5;241;43m=\u001b[39;49m\u001b[43moutput_attentions\u001b[49m\u001b[43m,\u001b[49m\n\u001b[1;32m    609\u001b[0m \u001b[43m    \u001b[49m\u001b[43m)\u001b[49m\n\u001b[1;32m    610\u001b[0m     hidden_states \u001b[38;5;241m=\u001b[39m hidden_states \u001b[38;5;241m+\u001b[39m \u001b[38;5;28mself\u001b[39m\u001b[38;5;241m.\u001b[39mdropout(attention_output[\u001b[38;5;241m0\u001b[39m])\n\u001b[1;32m    611\u001b[0m     outputs \u001b[38;5;241m=\u001b[39m (hidden_states,) \u001b[38;5;241m+\u001b[39m attention_output[\u001b[38;5;241m1\u001b[39m:]  \u001b[38;5;66;03m# add attentions if we output them\u001b[39;00m\n",
      "File \u001b[0;32m~/drive/miniconda3/envs/myenv/lib/python3.10/site-packages/torch/nn/modules/module.py:1518\u001b[0m, in \u001b[0;36mModule._wrapped_call_impl\u001b[0;34m(self, *args, **kwargs)\u001b[0m\n\u001b[1;32m   1516\u001b[0m     \u001b[38;5;28;01mreturn\u001b[39;00m \u001b[38;5;28mself\u001b[39m\u001b[38;5;241m.\u001b[39m_compiled_call_impl(\u001b[38;5;241m*\u001b[39margs, \u001b[38;5;241m*\u001b[39m\u001b[38;5;241m*\u001b[39mkwargs)  \u001b[38;5;66;03m# type: ignore[misc]\u001b[39;00m\n\u001b[1;32m   1517\u001b[0m \u001b[38;5;28;01melse\u001b[39;00m:\n\u001b[0;32m-> 1518\u001b[0m     \u001b[38;5;28;01mreturn\u001b[39;00m \u001b[38;5;28;43mself\u001b[39;49m\u001b[38;5;241;43m.\u001b[39;49m\u001b[43m_call_impl\u001b[49m\u001b[43m(\u001b[49m\u001b[38;5;241;43m*\u001b[39;49m\u001b[43margs\u001b[49m\u001b[43m,\u001b[49m\u001b[43m \u001b[49m\u001b[38;5;241;43m*\u001b[39;49m\u001b[38;5;241;43m*\u001b[39;49m\u001b[43mkwargs\u001b[49m\u001b[43m)\u001b[49m\n",
      "File \u001b[0;32m~/drive/miniconda3/envs/myenv/lib/python3.10/site-packages/torch/nn/modules/module.py:1527\u001b[0m, in \u001b[0;36mModule._call_impl\u001b[0;34m(self, *args, **kwargs)\u001b[0m\n\u001b[1;32m   1522\u001b[0m \u001b[38;5;66;03m# If we don't have any hooks, we want to skip the rest of the logic in\u001b[39;00m\n\u001b[1;32m   1523\u001b[0m \u001b[38;5;66;03m# this function, and just call forward.\u001b[39;00m\n\u001b[1;32m   1524\u001b[0m \u001b[38;5;28;01mif\u001b[39;00m \u001b[38;5;129;01mnot\u001b[39;00m (\u001b[38;5;28mself\u001b[39m\u001b[38;5;241m.\u001b[39m_backward_hooks \u001b[38;5;129;01mor\u001b[39;00m \u001b[38;5;28mself\u001b[39m\u001b[38;5;241m.\u001b[39m_backward_pre_hooks \u001b[38;5;129;01mor\u001b[39;00m \u001b[38;5;28mself\u001b[39m\u001b[38;5;241m.\u001b[39m_forward_hooks \u001b[38;5;129;01mor\u001b[39;00m \u001b[38;5;28mself\u001b[39m\u001b[38;5;241m.\u001b[39m_forward_pre_hooks\n\u001b[1;32m   1525\u001b[0m         \u001b[38;5;129;01mor\u001b[39;00m _global_backward_pre_hooks \u001b[38;5;129;01mor\u001b[39;00m _global_backward_hooks\n\u001b[1;32m   1526\u001b[0m         \u001b[38;5;129;01mor\u001b[39;00m _global_forward_hooks \u001b[38;5;129;01mor\u001b[39;00m _global_forward_pre_hooks):\n\u001b[0;32m-> 1527\u001b[0m     \u001b[38;5;28;01mreturn\u001b[39;00m \u001b[43mforward_call\u001b[49m\u001b[43m(\u001b[49m\u001b[38;5;241;43m*\u001b[39;49m\u001b[43margs\u001b[49m\u001b[43m,\u001b[49m\u001b[43m \u001b[49m\u001b[38;5;241;43m*\u001b[39;49m\u001b[38;5;241;43m*\u001b[39;49m\u001b[43mkwargs\u001b[49m\u001b[43m)\u001b[49m\n\u001b[1;32m   1529\u001b[0m \u001b[38;5;28;01mtry\u001b[39;00m:\n\u001b[1;32m   1530\u001b[0m     result \u001b[38;5;241m=\u001b[39m \u001b[38;5;28;01mNone\u001b[39;00m\n",
      "File \u001b[0;32m~/drive/miniconda3/envs/myenv/lib/python3.10/site-packages/accelerate/hooks.py:165\u001b[0m, in \u001b[0;36madd_hook_to_module.<locals>.new_forward\u001b[0;34m(module, *args, **kwargs)\u001b[0m\n\u001b[1;32m    163\u001b[0m         output \u001b[38;5;241m=\u001b[39m module\u001b[38;5;241m.\u001b[39m_old_forward(\u001b[38;5;241m*\u001b[39margs, \u001b[38;5;241m*\u001b[39m\u001b[38;5;241m*\u001b[39mkwargs)\n\u001b[1;32m    164\u001b[0m \u001b[38;5;28;01melse\u001b[39;00m:\n\u001b[0;32m--> 165\u001b[0m     output \u001b[38;5;241m=\u001b[39m \u001b[43mmodule\u001b[49m\u001b[38;5;241;43m.\u001b[39;49m\u001b[43m_old_forward\u001b[49m\u001b[43m(\u001b[49m\u001b[38;5;241;43m*\u001b[39;49m\u001b[43margs\u001b[49m\u001b[43m,\u001b[49m\u001b[43m \u001b[49m\u001b[38;5;241;43m*\u001b[39;49m\u001b[38;5;241;43m*\u001b[39;49m\u001b[43mkwargs\u001b[49m\u001b[43m)\u001b[49m\n\u001b[1;32m    166\u001b[0m \u001b[38;5;28;01mreturn\u001b[39;00m module\u001b[38;5;241m.\u001b[39m_hf_hook\u001b[38;5;241m.\u001b[39mpost_forward(module, output)\n",
      "File \u001b[0;32m~/drive/miniconda3/envs/myenv/lib/python3.10/site-packages/transformers/models/t5/modeling_t5.py:573\u001b[0m, in \u001b[0;36mT5Attention.forward\u001b[0;34m(self, hidden_states, mask, key_value_states, position_bias, past_key_value, layer_head_mask, query_length, use_cache, output_attentions)\u001b[0m\n\u001b[1;32m    570\u001b[0m     attn_weights \u001b[38;5;241m=\u001b[39m attn_weights \u001b[38;5;241m*\u001b[39m layer_head_mask\n\u001b[1;32m    572\u001b[0m attn_output \u001b[38;5;241m=\u001b[39m unshape(torch\u001b[38;5;241m.\u001b[39mmatmul(attn_weights, value_states))  \u001b[38;5;66;03m# (batch_size, seq_length, dim)\u001b[39;00m\n\u001b[0;32m--> 573\u001b[0m attn_output \u001b[38;5;241m=\u001b[39m \u001b[38;5;28;43mself\u001b[39;49m\u001b[38;5;241;43m.\u001b[39;49m\u001b[43mo\u001b[49m\u001b[43m(\u001b[49m\u001b[43mattn_output\u001b[49m\u001b[43m)\u001b[49m\n\u001b[1;32m    575\u001b[0m present_key_value_state \u001b[38;5;241m=\u001b[39m (key_states, value_states) \u001b[38;5;28;01mif\u001b[39;00m (\u001b[38;5;28mself\u001b[39m\u001b[38;5;241m.\u001b[39mis_decoder \u001b[38;5;129;01mand\u001b[39;00m use_cache) \u001b[38;5;28;01melse\u001b[39;00m \u001b[38;5;28;01mNone\u001b[39;00m\n\u001b[1;32m    576\u001b[0m outputs \u001b[38;5;241m=\u001b[39m (attn_output,) \u001b[38;5;241m+\u001b[39m (present_key_value_state,) \u001b[38;5;241m+\u001b[39m (position_bias,)\n",
      "File \u001b[0;32m~/drive/miniconda3/envs/myenv/lib/python3.10/site-packages/torch/nn/modules/module.py:1518\u001b[0m, in \u001b[0;36mModule._wrapped_call_impl\u001b[0;34m(self, *args, **kwargs)\u001b[0m\n\u001b[1;32m   1516\u001b[0m     \u001b[38;5;28;01mreturn\u001b[39;00m \u001b[38;5;28mself\u001b[39m\u001b[38;5;241m.\u001b[39m_compiled_call_impl(\u001b[38;5;241m*\u001b[39margs, \u001b[38;5;241m*\u001b[39m\u001b[38;5;241m*\u001b[39mkwargs)  \u001b[38;5;66;03m# type: ignore[misc]\u001b[39;00m\n\u001b[1;32m   1517\u001b[0m \u001b[38;5;28;01melse\u001b[39;00m:\n\u001b[0;32m-> 1518\u001b[0m     \u001b[38;5;28;01mreturn\u001b[39;00m \u001b[38;5;28;43mself\u001b[39;49m\u001b[38;5;241;43m.\u001b[39;49m\u001b[43m_call_impl\u001b[49m\u001b[43m(\u001b[49m\u001b[38;5;241;43m*\u001b[39;49m\u001b[43margs\u001b[49m\u001b[43m,\u001b[49m\u001b[43m \u001b[49m\u001b[38;5;241;43m*\u001b[39;49m\u001b[38;5;241;43m*\u001b[39;49m\u001b[43mkwargs\u001b[49m\u001b[43m)\u001b[49m\n",
      "File \u001b[0;32m~/drive/miniconda3/envs/myenv/lib/python3.10/site-packages/torch/nn/modules/module.py:1527\u001b[0m, in \u001b[0;36mModule._call_impl\u001b[0;34m(self, *args, **kwargs)\u001b[0m\n\u001b[1;32m   1522\u001b[0m \u001b[38;5;66;03m# If we don't have any hooks, we want to skip the rest of the logic in\u001b[39;00m\n\u001b[1;32m   1523\u001b[0m \u001b[38;5;66;03m# this function, and just call forward.\u001b[39;00m\n\u001b[1;32m   1524\u001b[0m \u001b[38;5;28;01mif\u001b[39;00m \u001b[38;5;129;01mnot\u001b[39;00m (\u001b[38;5;28mself\u001b[39m\u001b[38;5;241m.\u001b[39m_backward_hooks \u001b[38;5;129;01mor\u001b[39;00m \u001b[38;5;28mself\u001b[39m\u001b[38;5;241m.\u001b[39m_backward_pre_hooks \u001b[38;5;129;01mor\u001b[39;00m \u001b[38;5;28mself\u001b[39m\u001b[38;5;241m.\u001b[39m_forward_hooks \u001b[38;5;129;01mor\u001b[39;00m \u001b[38;5;28mself\u001b[39m\u001b[38;5;241m.\u001b[39m_forward_pre_hooks\n\u001b[1;32m   1525\u001b[0m         \u001b[38;5;129;01mor\u001b[39;00m _global_backward_pre_hooks \u001b[38;5;129;01mor\u001b[39;00m _global_backward_hooks\n\u001b[1;32m   1526\u001b[0m         \u001b[38;5;129;01mor\u001b[39;00m _global_forward_hooks \u001b[38;5;129;01mor\u001b[39;00m _global_forward_pre_hooks):\n\u001b[0;32m-> 1527\u001b[0m     \u001b[38;5;28;01mreturn\u001b[39;00m \u001b[43mforward_call\u001b[49m\u001b[43m(\u001b[49m\u001b[38;5;241;43m*\u001b[39;49m\u001b[43margs\u001b[49m\u001b[43m,\u001b[49m\u001b[43m \u001b[49m\u001b[38;5;241;43m*\u001b[39;49m\u001b[38;5;241;43m*\u001b[39;49m\u001b[43mkwargs\u001b[49m\u001b[43m)\u001b[49m\n\u001b[1;32m   1529\u001b[0m \u001b[38;5;28;01mtry\u001b[39;00m:\n\u001b[1;32m   1530\u001b[0m     result \u001b[38;5;241m=\u001b[39m \u001b[38;5;28;01mNone\u001b[39;00m\n",
      "File \u001b[0;32m~/drive/miniconda3/envs/myenv/lib/python3.10/site-packages/accelerate/hooks.py:165\u001b[0m, in \u001b[0;36madd_hook_to_module.<locals>.new_forward\u001b[0;34m(module, *args, **kwargs)\u001b[0m\n\u001b[1;32m    163\u001b[0m         output \u001b[38;5;241m=\u001b[39m module\u001b[38;5;241m.\u001b[39m_old_forward(\u001b[38;5;241m*\u001b[39margs, \u001b[38;5;241m*\u001b[39m\u001b[38;5;241m*\u001b[39mkwargs)\n\u001b[1;32m    164\u001b[0m \u001b[38;5;28;01melse\u001b[39;00m:\n\u001b[0;32m--> 165\u001b[0m     output \u001b[38;5;241m=\u001b[39m \u001b[43mmodule\u001b[49m\u001b[38;5;241;43m.\u001b[39;49m\u001b[43m_old_forward\u001b[49m\u001b[43m(\u001b[49m\u001b[38;5;241;43m*\u001b[39;49m\u001b[43margs\u001b[49m\u001b[43m,\u001b[49m\u001b[43m \u001b[49m\u001b[38;5;241;43m*\u001b[39;49m\u001b[38;5;241;43m*\u001b[39;49m\u001b[43mkwargs\u001b[49m\u001b[43m)\u001b[49m\n\u001b[1;32m    166\u001b[0m \u001b[38;5;28;01mreturn\u001b[39;00m module\u001b[38;5;241m.\u001b[39m_hf_hook\u001b[38;5;241m.\u001b[39mpost_forward(module, output)\n",
      "File \u001b[0;32m~/drive/miniconda3/envs/myenv/lib/python3.10/site-packages/bitsandbytes/nn/modules.py:450\u001b[0m, in \u001b[0;36mLinear8bitLt.forward\u001b[0;34m(self, x)\u001b[0m\n\u001b[1;32m    447\u001b[0m \u001b[38;5;28;01mif\u001b[39;00m \u001b[38;5;28mself\u001b[39m\u001b[38;5;241m.\u001b[39mbias \u001b[38;5;129;01mis\u001b[39;00m \u001b[38;5;129;01mnot\u001b[39;00m \u001b[38;5;28;01mNone\u001b[39;00m \u001b[38;5;129;01mand\u001b[39;00m \u001b[38;5;28mself\u001b[39m\u001b[38;5;241m.\u001b[39mbias\u001b[38;5;241m.\u001b[39mdtype \u001b[38;5;241m!=\u001b[39m x\u001b[38;5;241m.\u001b[39mdtype:\n\u001b[1;32m    448\u001b[0m     \u001b[38;5;28mself\u001b[39m\u001b[38;5;241m.\u001b[39mbias\u001b[38;5;241m.\u001b[39mdata \u001b[38;5;241m=\u001b[39m \u001b[38;5;28mself\u001b[39m\u001b[38;5;241m.\u001b[39mbias\u001b[38;5;241m.\u001b[39mdata\u001b[38;5;241m.\u001b[39mto(x\u001b[38;5;241m.\u001b[39mdtype)\n\u001b[0;32m--> 450\u001b[0m out \u001b[38;5;241m=\u001b[39m \u001b[43mbnb\u001b[49m\u001b[38;5;241;43m.\u001b[39;49m\u001b[43mmatmul\u001b[49m\u001b[43m(\u001b[49m\u001b[43mx\u001b[49m\u001b[43m,\u001b[49m\u001b[43m \u001b[49m\u001b[38;5;28;43mself\u001b[39;49m\u001b[38;5;241;43m.\u001b[39;49m\u001b[43mweight\u001b[49m\u001b[43m,\u001b[49m\u001b[43m \u001b[49m\u001b[43mbias\u001b[49m\u001b[38;5;241;43m=\u001b[39;49m\u001b[38;5;28;43mself\u001b[39;49m\u001b[38;5;241;43m.\u001b[39;49m\u001b[43mbias\u001b[49m\u001b[43m,\u001b[49m\u001b[43m \u001b[49m\u001b[43mstate\u001b[49m\u001b[38;5;241;43m=\u001b[39;49m\u001b[38;5;28;43mself\u001b[39;49m\u001b[38;5;241;43m.\u001b[39;49m\u001b[43mstate\u001b[49m\u001b[43m)\u001b[49m\n\u001b[1;32m    452\u001b[0m \u001b[38;5;28;01mif\u001b[39;00m \u001b[38;5;129;01mnot\u001b[39;00m \u001b[38;5;28mself\u001b[39m\u001b[38;5;241m.\u001b[39mstate\u001b[38;5;241m.\u001b[39mhas_fp16_weights:\n\u001b[1;32m    453\u001b[0m     \u001b[38;5;28;01mif\u001b[39;00m \u001b[38;5;28mself\u001b[39m\u001b[38;5;241m.\u001b[39mstate\u001b[38;5;241m.\u001b[39mCB \u001b[38;5;129;01mis\u001b[39;00m \u001b[38;5;129;01mnot\u001b[39;00m \u001b[38;5;28;01mNone\u001b[39;00m \u001b[38;5;129;01mand\u001b[39;00m \u001b[38;5;28mself\u001b[39m\u001b[38;5;241m.\u001b[39mstate\u001b[38;5;241m.\u001b[39mCxB \u001b[38;5;129;01mis\u001b[39;00m \u001b[38;5;129;01mnot\u001b[39;00m \u001b[38;5;28;01mNone\u001b[39;00m:\n\u001b[1;32m    454\u001b[0m         \u001b[38;5;66;03m# we converted 8-bit row major to turing/ampere format in the first inference pass\u001b[39;00m\n\u001b[1;32m    455\u001b[0m         \u001b[38;5;66;03m# we no longer need the row-major weight\u001b[39;00m\n",
      "File \u001b[0;32m~/drive/miniconda3/envs/myenv/lib/python3.10/site-packages/bitsandbytes/autograd/_functions.py:562\u001b[0m, in \u001b[0;36mmatmul\u001b[0;34m(A, B, out, state, threshold, bias)\u001b[0m\n\u001b[1;32m    560\u001b[0m \u001b[38;5;28;01mif\u001b[39;00m threshold \u001b[38;5;241m>\u001b[39m \u001b[38;5;241m0.0\u001b[39m:\n\u001b[1;32m    561\u001b[0m     state\u001b[38;5;241m.\u001b[39mthreshold \u001b[38;5;241m=\u001b[39m threshold\n\u001b[0;32m--> 562\u001b[0m \u001b[38;5;28;01mreturn\u001b[39;00m \u001b[43mMatMul8bitLt\u001b[49m\u001b[38;5;241;43m.\u001b[39;49m\u001b[43mapply\u001b[49m\u001b[43m(\u001b[49m\u001b[43mA\u001b[49m\u001b[43m,\u001b[49m\u001b[43m \u001b[49m\u001b[43mB\u001b[49m\u001b[43m,\u001b[49m\u001b[43m \u001b[49m\u001b[43mout\u001b[49m\u001b[43m,\u001b[49m\u001b[43m \u001b[49m\u001b[43mbias\u001b[49m\u001b[43m,\u001b[49m\u001b[43m \u001b[49m\u001b[43mstate\u001b[49m\u001b[43m)\u001b[49m\n",
      "File \u001b[0;32m~/drive/miniconda3/envs/myenv/lib/python3.10/site-packages/torch/autograd/function.py:539\u001b[0m, in \u001b[0;36mFunction.apply\u001b[0;34m(cls, *args, **kwargs)\u001b[0m\n\u001b[1;32m    536\u001b[0m \u001b[38;5;28;01mif\u001b[39;00m \u001b[38;5;129;01mnot\u001b[39;00m torch\u001b[38;5;241m.\u001b[39m_C\u001b[38;5;241m.\u001b[39m_are_functorch_transforms_active():\n\u001b[1;32m    537\u001b[0m     \u001b[38;5;66;03m# See NOTE: [functorch vjp and autograd interaction]\u001b[39;00m\n\u001b[1;32m    538\u001b[0m     args \u001b[38;5;241m=\u001b[39m _functorch\u001b[38;5;241m.\u001b[39mutils\u001b[38;5;241m.\u001b[39munwrap_dead_wrappers(args)\n\u001b[0;32m--> 539\u001b[0m     \u001b[38;5;28;01mreturn\u001b[39;00m \u001b[38;5;28;43msuper\u001b[39;49m\u001b[43m(\u001b[49m\u001b[43m)\u001b[49m\u001b[38;5;241;43m.\u001b[39;49m\u001b[43mapply\u001b[49m\u001b[43m(\u001b[49m\u001b[38;5;241;43m*\u001b[39;49m\u001b[43margs\u001b[49m\u001b[43m,\u001b[49m\u001b[43m \u001b[49m\u001b[38;5;241;43m*\u001b[39;49m\u001b[38;5;241;43m*\u001b[39;49m\u001b[43mkwargs\u001b[49m\u001b[43m)\u001b[49m  \u001b[38;5;66;03m# type: ignore[misc]\u001b[39;00m\n\u001b[1;32m    541\u001b[0m \u001b[38;5;28;01mif\u001b[39;00m \u001b[38;5;28mcls\u001b[39m\u001b[38;5;241m.\u001b[39msetup_context \u001b[38;5;241m==\u001b[39m _SingleLevelFunction\u001b[38;5;241m.\u001b[39msetup_context:\n\u001b[1;32m    542\u001b[0m     \u001b[38;5;28;01mraise\u001b[39;00m \u001b[38;5;167;01mRuntimeError\u001b[39;00m(\n\u001b[1;32m    543\u001b[0m         \u001b[38;5;124m\"\u001b[39m\u001b[38;5;124mIn order to use an autograd.Function with functorch transforms \u001b[39m\u001b[38;5;124m\"\u001b[39m\n\u001b[1;32m    544\u001b[0m         \u001b[38;5;124m\"\u001b[39m\u001b[38;5;124m(vmap, grad, jvp, jacrev, ...), it must override the setup_context \u001b[39m\u001b[38;5;124m\"\u001b[39m\n\u001b[1;32m    545\u001b[0m         \u001b[38;5;124m\"\u001b[39m\u001b[38;5;124mstaticmethod. For more details, please see \u001b[39m\u001b[38;5;124m\"\u001b[39m\n\u001b[1;32m    546\u001b[0m         \u001b[38;5;124m\"\u001b[39m\u001b[38;5;124mhttps://pytorch.org/docs/master/notes/extending.func.html\u001b[39m\u001b[38;5;124m\"\u001b[39m\n\u001b[1;32m    547\u001b[0m     )\n",
      "File \u001b[0;32m~/drive/miniconda3/envs/myenv/lib/python3.10/site-packages/bitsandbytes/autograd/_functions.py:327\u001b[0m, in \u001b[0;36mMatMul8bitLt.forward\u001b[0;34m(ctx, A, B, out, bias, state)\u001b[0m\n\u001b[1;32m    325\u001b[0m \u001b[38;5;28;01mif\u001b[39;00m \u001b[38;5;28mlen\u001b[39m(A\u001b[38;5;241m.\u001b[39mshape) \u001b[38;5;241m==\u001b[39m \u001b[38;5;241m3\u001b[39m:\n\u001b[1;32m    326\u001b[0m     A \u001b[38;5;241m=\u001b[39m A\u001b[38;5;241m.\u001b[39mreshape(\u001b[38;5;241m-\u001b[39m\u001b[38;5;241m1\u001b[39m, A\u001b[38;5;241m.\u001b[39mshape[\u001b[38;5;241m-\u001b[39m\u001b[38;5;241m1\u001b[39m])\n\u001b[0;32m--> 327\u001b[0m CA, CAt, SCA, SCAt, coo_tensorA \u001b[38;5;241m=\u001b[39m \u001b[43mF\u001b[49m\u001b[38;5;241;43m.\u001b[39;49m\u001b[43mdouble_quant\u001b[49m\u001b[43m(\u001b[49m\u001b[43mA\u001b[49m\u001b[38;5;241;43m.\u001b[39;49m\u001b[43mto\u001b[49m\u001b[43m(\u001b[49m\u001b[43mtorch\u001b[49m\u001b[38;5;241;43m.\u001b[39;49m\u001b[43mfloat16\u001b[49m\u001b[43m)\u001b[49m\u001b[43m,\u001b[49m\u001b[43m \u001b[49m\u001b[43mthreshold\u001b[49m\u001b[38;5;241;43m=\u001b[39;49m\u001b[43mstate\u001b[49m\u001b[38;5;241;43m.\u001b[39;49m\u001b[43mthreshold\u001b[49m\u001b[43m)\u001b[49m\n\u001b[1;32m    329\u001b[0m \u001b[38;5;28;01mif\u001b[39;00m state\u001b[38;5;241m.\u001b[39mthreshold \u001b[38;5;241m>\u001b[39m \u001b[38;5;241m0.0\u001b[39m \u001b[38;5;129;01mand\u001b[39;00m coo_tensorA \u001b[38;5;129;01mis\u001b[39;00m \u001b[38;5;129;01mnot\u001b[39;00m \u001b[38;5;28;01mNone\u001b[39;00m:\n\u001b[1;32m    330\u001b[0m     \u001b[38;5;28;01mif\u001b[39;00m state\u001b[38;5;241m.\u001b[39mhas_fp16_weights:\n",
      "File \u001b[0;32m~/drive/miniconda3/envs/myenv/lib/python3.10/site-packages/bitsandbytes/functional.py:2132\u001b[0m, in \u001b[0;36mdouble_quant\u001b[0;34m(A, col_stats, row_stats, out_col, out_row, threshold)\u001b[0m\n\u001b[1;32m   2130\u001b[0m is_on_gpu([A, col_stats, row_stats, out_col, out_row])\n\u001b[1;32m   2131\u001b[0m \u001b[38;5;28;01mif\u001b[39;00m threshold \u001b[38;5;241m>\u001b[39m \u001b[38;5;241m0.0\u001b[39m:\n\u001b[0;32m-> 2132\u001b[0m     nnz \u001b[38;5;241m=\u001b[39m \u001b[43mnnz_row_ptr\u001b[49m\u001b[43m[\u001b[49m\u001b[38;5;241;43m-\u001b[39;49m\u001b[38;5;241;43m1\u001b[39;49m\u001b[43m]\u001b[49m\u001b[38;5;241;43m.\u001b[39;49m\u001b[43mitem\u001b[49m\u001b[43m(\u001b[49m\u001b[43m)\u001b[49m\n\u001b[1;32m   2133\u001b[0m     \u001b[38;5;28;01mif\u001b[39;00m nnz \u001b[38;5;241m>\u001b[39m \u001b[38;5;241m0\u001b[39m:\n\u001b[1;32m   2134\u001b[0m         coo_tensor \u001b[38;5;241m=\u001b[39m coo_zeros(\n\u001b[1;32m   2135\u001b[0m             A\u001b[38;5;241m.\u001b[39mshape[\u001b[38;5;241m0\u001b[39m], A\u001b[38;5;241m.\u001b[39mshape[\u001b[38;5;241m1\u001b[39m], nnz_row_ptr[\u001b[38;5;241m-\u001b[39m\u001b[38;5;241m1\u001b[39m]\u001b[38;5;241m.\u001b[39mitem(), device\n\u001b[1;32m   2136\u001b[0m         )\n",
      "\u001b[0;31mKeyboardInterrupt\u001b[0m: "
     ]
    }
   ],
   "source": [
    "count = 0\n",
    "for item in tqdm(data):\n",
    "    label = item[\"label\"].strip()\n",
    "    retrival = item[\"result\"].strip()\n",
    "    query = item[\"content\"].strip()\n",
    "    text = \"\"\n",
    "    id = item[\"index\"]\n",
    "    text = \"\"\n",
    "    #Important: You must use dot-product, not cosine_similarity\n",
    "    query_embedding = query_encoder.encode(retrival)\n",
    "    scores = util.dot_score(query_embedding, retrival_passage_embeddings)\n",
    "    indexes = torch.topk(scores, 3).indices[0]\n",
    "    text = few_shot_prompting(indexes, corpus, content, labels, prompt_template)\n",
    "    \n",
    "    text += final_template.replace(\"{{premise}}\", retrival).replace('{{hypothesis}}', query)\n",
    "    inputs = tokenizer(text, return_tensors=\"pt\")[\"input_ids\"].cuda()\n",
    "    outputs = model.generate(inputs, max_new_tokens=5)\n",
    "    output_text = format_output(tokenizer.decode(outputs[0]).replace(text, \"\").split(\"\\n\")[-1])\n",
    "\n",
    "    ##########################\n",
    "    # output = []\n",
    "    # query = query.split(\".\")\n",
    "    # if len(query) > 1:\n",
    "    #     for i in range(0, len(query)-1):\n",
    "    #         text = final_template.replace(\"{{premise}}\", retrival).replace('{{hypothesis}}', query[i])\n",
    "    #         # text = text.replace(\"\\n\", \" \")\n",
    "    #         inputs = tokenizer(text, return_tensors=\"pt\")[\"input_ids\"].cuda()\n",
    "    #         outputs = model.generate(inputs, max_new_tokens=5)\n",
    "    #         output_text = format_output(tokenizer.decode(outputs[0]).replace(text, \"\").split(\"\\n\")[-1])\n",
    "    #         print(text)\n",
    "    #         output.append(output_text)\n",
    "    # else:\n",
    "    #     text += final_template.replace(\"{{premise}}\", retrival).replace('{{hypothesis}}', query)\n",
    "    #     # text = text.replace(\"\\n\", \" \")\n",
    "    #     inputs = tokenizer(text, return_tensors=\"pt\")[\"input_ids\"].cuda()\n",
    "    #     outputs = model.generate(inputs, max_new_tokens=5)\n",
    "    #     output_text = format_output(tokenizer.decode(outputs[0]).replace(text, \"\").split(\"\\n\")[-1])\n",
    "    #     output.append(output_text)\n",
    "\n",
    "    # output_text = output[0]\n",
    "    # for k in output:\n",
    "    #     if output_text != k:\n",
    "    #         output_text = \"false\"\n",
    "    # print(output, output_text, label)\n",
    "    #############################\n",
    "    \n",
    "    ### Write\n",
    "    if count < 1:\n",
    "        print(text)\n",
    "        \n",
    "    if \"yes\" in output_text or \"true\" in output_text:\n",
    "        output_text = \"Y\"\n",
    "    else:\n",
    "        output_text = \"N\"\n",
    "    if output_text == label:\n",
    "        count+=1\n",
    "    # else:\n",
    "    #     print(text)\n",
    "    #     output = []\n",
    "    #     query = query.split(\".\")\n",
    "    #     if len(query) > 1:\n",
    "    #         for i in range(0, len(query)-1):\n",
    "    #             text = final_template.replace(\"{{premise}}\", retrival).replace('{{hypothesis}}', query[i])\n",
    "    #             # text = text.replace(\"\\n\", \" \")\n",
    "    #             inputs = tokenizer(text, return_tensors=\"pt\")[\"input_ids\"].cuda()\n",
    "    #             outputs = model.generate(inputs, max_new_tokens=5)\n",
    "    #             output_text = format_output(tokenizer.decode(outputs[0]).replace(text, \"\").split(\"\\n\")[-1])\n",
    "    #             print(text)\n",
    "    #             output.append(output_text)\n",
    "    #     print(output)  \n",
    "    #     print(\"==========================================\")"
   ]
  },
  {
   "cell_type": "code",
   "execution_count": 14,
   "id": "fdb04050-75aa-45c9-a627-0d35f8d1204e",
   "metadata": {},
   "outputs": [],
   "source": [
    "def write_test(data, output_file):\n",
    "    f = open(output_file, \"w\", encoding=\"utf-8\")\n",
    "    for k in data:\n",
    "        f.write(k.strip()+\" \"+data[k]+\" \"+\"CAPTAIN\\n\")"
   ]
  },
  {
   "cell_type": "code",
   "execution_count": 1,
   "id": "57851a2c-741a-47a9-aa60-c29e3e7a0fbb",
   "metadata": {
    "scrolled": true
   },
   "outputs": [
    {
     "name": "stderr",
     "output_type": "stream",
     "text": [
      "/home/congnguyen/drive/miniconda3/envs/myenv/lib/python3.10/site-packages/tqdm/auto.py:21: TqdmWarning: IProgress not found. Please update jupyter and ipywidgets. See https://ipywidgets.readthedocs.io/en/stable/user_install.html\n",
      "  from .autonotebook import tqdm as notebook_tqdm\n"
     ]
    },
    {
     "ename": "NameError",
     "evalue": "name 'load_samples' is not defined",
     "output_type": "error",
     "traceback": [
      "\u001b[0;31m---------------------------------------------------------------------------\u001b[0m",
      "\u001b[0;31mNameError\u001b[0m                                 Traceback (most recent call last)",
      "Cell \u001b[0;32mIn[1], line 16\u001b[0m\n\u001b[1;32m     14\u001b[0m count \u001b[38;5;241m=\u001b[39m \u001b[38;5;241m0\u001b[39m\n\u001b[1;32m     15\u001b[0m test_file \u001b[38;5;241m=\u001b[39m input_file\u001b[38;5;241m+\u001b[39mfile\u001b[38;5;241m+\u001b[39m\u001b[38;5;124m\"\u001b[39m\u001b[38;5;124m.xml\u001b[39m\u001b[38;5;124m\"\u001b[39m\n\u001b[0;32m---> 16\u001b[0m data \u001b[38;5;241m=\u001b[39m \u001b[43mload_samples\u001b[49m(test_file)\n\u001b[1;32m     17\u001b[0m result \u001b[38;5;241m=\u001b[39m {}\n\u001b[1;32m     18\u001b[0m corpus, content, labels, retrival_passage_embeddings, content_passage_embeddings \u001b[38;5;241m=\u001b[39m dpr(file)\n",
      "\u001b[0;31mNameError\u001b[0m: name 'load_samples' is not defined"
     ]
    }
   ],
   "source": [
    "from datasets import load_dataset\n",
    "from random import randrange\n",
    "import os\n",
    "\n",
    "# for i in range(len(test_dataset[\"content\"])):\n",
    "output_folder = \"../output/final/fewshot_cot/R02.task4.CAPTAIN3_riteval_R02_en.xml\"\n",
    "if not os.path.exists(output_folder):\n",
    "\tos.makedirs(output_folder)\n",
    "\n",
    "files = [\"riteval_H30_en\", \"riteval_R01_en\", \"riteval_R02_en\", \"riteval_R04_en\", \"riteval_R05_en\"]\n",
    "acc = {}\n",
    "input_file = \"../data/COLIEE2024statute_data-English/test/\"\n",
    "for file in files:\n",
    "    count = 0\n",
    "    test_file = input_file+file+\".xml\"\n",
    "    data = load_samples(test_file)\n",
    "    result = {}\n",
    "    corpus, content, labels, retrival_passage_embeddings, content_passage_embeddings = dpr(file)\n",
    "    for item in tqdm(data):\n",
    "        id = item[\"index\"]\n",
    "        label = item[\"label\"]\n",
    "        retrival = item[\"result\"]\n",
    "        query = item[\"content\"]\n",
    "        #Important: You must use dot-product, not cosine_similarity\n",
    "        query_embedding = query_encoder.encode(retrival)\n",
    "        scores = util.dot_score(query_embedding, retrival_passage_embeddings)\n",
    "        indexes = torch.topk(scores, 3).indices[0]\n",
    "        text = few_shot_prompting(indexes, corpus, content, labels, prompt_template)\n",
    "        \n",
    "        text += final_template.replace(\"{{premise}}\", retrival).replace('{{hypothesis}}', query)\n",
    "        inputs = tokenizer(text, return_tensors=\"pt\")[\"input_ids\"].cuda()\n",
    "        outputs = model.generate(inputs, max_new_tokens=5)\n",
    "        output_text = format_output(tokenizer.decode(outputs[0]).replace(text, \"\").split(\"\\n\")[-1])\n",
    "        print(output_text)\n",
    "        output_text = format_output(output_text)\n",
    "        answer = \"N\"\n",
    "        if  \"true\" in output_text or \"yes\" in output_text:\n",
    "            answer = \"Y\"\n",
    "        if answer == label:\n",
    "            count += 1\n",
    "        result.update({id: answer})\n",
    "    key = file.split(\"_\")[1]\n",
    "    outfile_path = f\"{output_folder}/{key}.task4.CAPTAIN3_{file}.xml\"\n",
    "    write_test(result, outfile_path)\n",
    "    acc.update({file: count/len(data)})\n",
    "write_json(outfile_path.replace(\".xml\", \".json\"),acc)\n",
    "    "
   ]
  },
  {
   "cell_type": "code",
   "execution_count": 25,
   "id": "abac408c-fb2c-4fda-a08a-01eec0978e3c",
   "metadata": {},
   "outputs": [
    {
     "data": {
      "text/plain": [
       "{'riteval_H30_en': 0.6428571428571429,\n",
       " 'riteval_R01_en': 0.6396396396396397,\n",
       " 'riteval_R02_en': 0.7160493827160493,\n",
       " 'riteval_R04_en': 0.8415841584158416,\n",
       " 'riteval_R05_en': 0.6972477064220184}"
      ]
     },
     "execution_count": 25,
     "metadata": {},
     "output_type": "execute_result"
    }
   ],
   "source": [
    "acc"
   ]
  },
  {
   "cell_type": "code",
   "execution_count": 27,
   "id": "e9da6c0f-f266-4d5b-8e74-dbd1a30e596d",
   "metadata": {},
   "outputs": [
    {
     "data": {
      "text/plain": [
       "['Claim X, the claim of the payment of the sales price of A against B, has a special agreement prohibiting the assignment, but C acquired Claim X while knowing the existence of the special agreement prohibiting the assignment',\n",
       " ' C made a demand to B for the performance to C by specifying a reasonable period of time, but B did not perform the obligation within that period',\n",
       " ' In this case, B may not refuse to perform the obligation to C based on the special agreement prohibiting the assignment',\n",
       " '?']"
      ]
     },
     "execution_count": 27,
     "metadata": {},
     "output_type": "execute_result"
    }
   ],
   "source": [
    "text = \"Claim X, the claim of the payment of the sales price of A against B, has a special agreement prohibiting the assignment, but C acquired Claim X while knowing the existence of the special agreement prohibiting the assignment. C made a demand to B for the performance to C by specifying a reasonable period of time, but B did not perform the obligation within that period. In this case, B may not refuse to perform the obligation to C based on the special agreement prohibiting the assignment.?\"\n",
    "text.split(\".\")"
   ]
  },
  {
   "cell_type": "code",
   "execution_count": 22,
   "id": "2fd67096-ab32-40c1-a161-25814437a3e0",
   "metadata": {},
   "outputs": [],
   "source": [
    "def predict(model, tokenizer, path_file, files=[\"riteval_R01_en\",\"riteval_R02_en\",\"riteval_R03_en\",\"riteval_R04_en\"], output=\"../output/fewshot_detail/newpromt_\"):\n",
    "    for file in files:\n",
    "        test_file = path_file+file+\".xml\"\n",
    "        data = load_samples(test_file)\n",
    "        result = []\n",
    "        count = 0\n",
    "        n_shot = 3\n",
    "        f = open(output+file+\"_fewshot_full.txt\", \"w\", encoding=\"utf-8\")\n",
    "        f_prompt = open(output+file+\"_prompt_full.txt\", \"w\", encoding=\"utf-8\")\n",
    "        corpus, content, labels, retrival_passage_embeddings, content_passage_embeddings, query_encoder = dpr(file)\n",
    "        for item in tqdm(data):\n",
    "            label = item[\"label\"].replace(\"\\n\", \" \").strip()\n",
    "            retrival = item[\"result\"].replace(\"\\n\", \" \").strip()\n",
    "            query = item[\"content\"].replace(\"\\n\", \" \").strip()\n",
    "            text = \"\"\n",
    "            id = item[\"index\"]\n",
    "            #Important: You must use dot-product, not cosine_similarity\n",
    "            query_embedding = query_encoder.encode(retrival)\n",
    "            scores = util.dot_score(query_embedding, retrival_passage_embeddings)\n",
    "            indexes = torch.topk(scores, 3).indices[0]\n",
    "            # text = few_shot_prompting(query, indexes, corpus, content, labels, prompt_template, n_shot)\n",
    "            text = few_shot_prompting2(indexes, corpus, content, labels, prompt_template)\n",
    "            # query_embedding = query_encoder.encode(query)\n",
    "            # scores = util.dot_score(query_embedding, content_passage_embeddings)\n",
    "            # indexes = torch.topk(scores, 1).indices[0]\n",
    "            # text += few_shot_prompting(indexes, corpus, content, labels, prompt_template)\n",
    "            \n",
    "            text = text+final_prompt.replace(\"{{premise}}\", retrival).replace('{{hypothesis}}', query)\n",
    "            ##########################\n",
    "            ## Zeroshot\n",
    "            # text = zeroShot.replace(\"{{premise}}\", item[\"result\"]).replace('{{hypothesis}}', item[\"content\"])\n",
    "            ###########################\n",
    "            # if count < 1:\n",
    "            #     print(\"------------------------------\")\n",
    "            #     # print(prompt_template)\n",
    "            #     print(text)\n",
    "                # print(final_prompt)\n",
    "            # print(text)\n",
    "            inputs = tokenizer(text, return_tensors=\"pt\")[\"input_ids\"].cuda()\n",
    "            outputs = model.generate(inputs, max_new_tokens=10)\n",
    "            output_text = format_output(tokenizer.decode(outputs[0]).replace(text, \"\").split(\"\\n\")[-1])\n",
    "            print(output_text)\n",
    "            ### Write\n",
    "            if \"yes\" in output_text or \"true\" in output_text:\n",
    "                output_text = \"Y\"\n",
    "            else:\n",
    "                output_text = \"N\"\n",
    "            if output_text == label:\n",
    "                count+=1\n",
    "            ###########\n",
    "            f.write(id+\"\\t\"+output_text+\"\\t\"+label+\"\\n\")\n",
    "            f_prompt.write(id+\"\\t\"+text+\"=====================================\\n\")\n",
    "        print(count/len(data))\n"
   ]
  },
  {
   "cell_type": "markdown",
   "id": "e42adf6f-ef0f-4eae-9ceb-50d7405f01d9",
   "metadata": {},
   "source": [
    "# Evaluate R0-R4"
   ]
  },
  {
   "cell_type": "code",
   "execution_count": 73,
   "id": "2897bec8-67ff-48d3-8ce2-23c24e0cfc9d",
   "metadata": {},
   "outputs": [],
   "source": [
    "path_file = \"../data/COLIEE2024statute_data-English/fewshot/\""
   ]
  },
  {
   "cell_type": "code",
   "execution_count": 76,
   "id": "8804af4d-8128-4428-b60f-e0981171edf0",
   "metadata": {
    "scrolled": true
   },
   "outputs": [],
   "source": [
    "list_prompt = readfile(\"../data/prompt.json\")\n",
    "# list_prompt"
   ]
  },
  {
   "cell_type": "code",
   "execution_count": 77,
   "id": "7fbbe5d6-621a-4bd9-9406-6e209e7315fd",
   "metadata": {},
   "outputs": [],
   "source": [
    "def prompting(premise, hypothesis, template=None):\n",
    "    text = template.replace(\"{{premise}}\", premise).replace(\"{{hypothesis}}\", hypothesis)\n",
    "    return text\n",
    "\n",
    "def writefile(data, filename):\n",
    "    # Serializing json\n",
    "    json_object = json.dumps(data, indent=1)\n",
    "    # Writing to sample.json\n",
    "    with open(filename, \"w\") as outfile:\n",
    "        outfile.write(json_object)\n",
    "        \n",
    "def few_shot_prompting(indexes, corpus, content, labels, prompt_template):\n",
    "    result = \"\"\n",
    "    for i in indexes:\n",
    "        if \"true or false\" in prompt_template.lower():\n",
    "            answer = \"True\"\n",
    "            if \"N\" == labels[i]:\n",
    "                answer = \"False\"\n",
    "        else:\n",
    "            answer = \"Yes\"\n",
    "            if \"N\" == labels[i]:\n",
    "                answer = \"No\"\n",
    "        prompt = prompt_template.replace(\"{{premise}}\", corpus[i]).replace('{{hypothesis}}', content[i]).replace('{{answer}}', answer)\n",
    "        result += prompt\n",
    "    return result"
   ]
  },
  {
   "cell_type": "code",
   "execution_count": null,
   "id": "3be94de7-95dd-4b5a-91d0-bac846f4e419",
   "metadata": {
    "scrolled": true
   },
   "outputs": [
    {
     "name": "stderr",
     "output_type": "stream",
     "text": [
      "  1%|██                                                                                                                                                                                                                                        | 1/111 [00:00<01:10,  1.55it/s]"
     ]
    },
    {
     "name": "stdout",
     "output_type": "stream",
     "text": [
      "Article 5\n",
      "(1) A minor must obtain the consent of the minor's legal representative to perform a juridical act;provided, however, that this does not apply to a juridical act for merely acquiring a right or being released from an obligation.\n",
      "(2) A juridical act in contravention of the provisions of the preceding paragraph is voidable.\n",
      "(3) Notwithstanding the provisions of paragraph (1), a minor may freely dispose of property that the legal representative has permitted the minor to dispose of for a specified purpose, to an extent that falls within the scope of that purpose. The same applies if the minor disposes of property that the legal representative has permitted the minor to dispose of without specifying a purpose.\n",
      "Question: A minor can freely dispose of assets the statutory agent permits the disposition without specifying the purpose. True or False?\n",
      "Answer: True\n",
      "\n",
      "Article 5\n",
      "(1) A minor must obtain the consent of the minor's legal representative to perform a juridical act;provided, however, that this does not apply to a juridical act for merely acquiring a right or being released from an obligation.\n",
      "(2) A juridical act in contravention of the provisions of the preceding paragraph is voidable.\n",
      "(3) Notwithstanding the provisions of paragraph (1), a minor may freely dispose of property that the legal representative has permitted the minor to dispose of for a specified purpose, to an extent that falls within the scope of that purpose. The same applies if the minor disposes of property that the legal representative has permitted the minor to dispose of without specifying a purpose.\n",
      "Question: A is a nineteen-year-old male and subject to the parental authority of his parents.\n",
      "In the case where the person who had parental authority in relation to A permitted A to dispose of the money which A acquired by a part-time job of delivering newspapers, and A purchased a bicycle by the money which he acquired by the part-time job, even if A did not obtain the consent of the person who had parental authority in relation to him when he concluded the contract for sale, A may not rescind the contract for sale. True or False?\n",
      "Answer: True\n",
      "\n",
      "Article 5\n",
      "(1) A minor must obtain the consent of the minor's legal representative to perform a juridical act;provided, however, that this does not apply to a juridical act for merely acquiring a right or being released from an obligation.\n",
      "(2) A juridical act in contravention of the provisions of the preceding paragraph is voidable.\n",
      "(3) Notwithstanding the provisions of paragraph (1), a minor may freely dispose of property that the legal representative has permitted the minor to dispose of for a specified purpose, to an extent that falls within the scope of that purpose. The same applies if the minor disposes of property that the legal representative has permitted the minor to dispose of without specifying a purpose.\n",
      "Question: A is a nineteen-year-old male and subject to the parental authority of his parents.\n",
      "In the case where A concluded a contract not in writing to the effect that A would make B a gift of 1,000,000 yen from the property which A had obtained by inheritance, even if A revoked the gift on the ground that it was a gift not in writing, if A did not obtain the consent of the person who had parental authority in relation to him with respect to the revocation of the gift, A may rescind the revocation of the gift. True or False?\n",
      "Answer: False\n",
      "\n",
      "Article 5\n",
      "(1) A minor must obtain the consent of the minor's legal representative to perform a juridical act;provided, however, that this does not apply to a juridical act for merely acquiring a right or being released from an obligation.\n",
      "(2) A juridical act in contravention of the provisions of the preceding paragraph is voidable.\n",
      "(3) Notwithstanding the provisions of paragraph (1), a minor may freely dispose of property that the legal representative has permitted the minor to dispose of for a specified purpose, to an extent that falls within the scope of that purpose. The same applies if the minor disposes of property that the legal representative has permitted the minor to dispose of without specifying a purpose.\n",
      "Question: A contract of sales concluded by a minor may not be rescinded if it relates to daily life, even in cases the consent of the parental authority is not obtained. True or False?\n",
      "Answer: \n"
     ]
    },
    {
     "name": "stderr",
     "output_type": "stream",
     "text": [
      "  2%|████▏                                                                                                                                                                                                                                     | 2/111 [00:01<01:06,  1.63it/s]"
     ]
    },
    {
     "name": "stdout",
     "output_type": "stream",
     "text": [
      "Article 9 A juridical act performed by an adult ward is voidable;provided, however, that this does not apply to the purchase of daily necessities or to any other act involved in day-to-day life.\n",
      "Question: If an adult ward acquires land by gift, the guardian of the adult ward may not rescind the gift. True or False?\n",
      "Answer: False\n",
      "\n",
      "Article 9\n",
      "A juridical act performed by an adult ward is voidable;provided, however, that this does not apply to the purchase of daily necessities or to any other act involved in day-to-day life.\n",
      "Question: The purchase of daily household items may not be rescinded, even if an adult ward performed the act. True or False?\n",
      "Answer: True\n",
      "\n",
      "Article 9\n",
      "A juridical act performed by an adult ward is voidable;provided, however, that this does not apply to the purchase of daily necessities or to any other act involved in day-to-day life.\n",
      "Question: In cases where an adult ward receives the gift of a building, the adult ward cannot rescindthe relevant gift contract. True or False?\n",
      "Answer: False\n",
      "\n",
      "Article 9\n",
      "A juridical act performed by an adult ward is voidable;provided, however, that this does not apply to the purchase of daily necessities or to any other act involved in day-to-day life.\n",
      "Question: A contract of sales concluded by an adult ward may be rescinded except relating to daily life, even in cases the consent of the adult guardian has been obtained, the contract True or False?\n",
      "Answer: \n"
     ]
    },
    {
     "name": "stderr",
     "output_type": "stream",
     "text": [
      "  3%|██████▎                                                                                                                                                                                                                                   | 3/111 [00:03<02:38,  1.47s/it]"
     ]
    },
    {
     "name": "stdout",
     "output_type": "stream",
     "text": [
      "Article 13\n",
      "(1) A person under curatorship must obtain the consent of the curator in order to perform any of the following acts;provided, however, that this does not apply to an act provided for in the proviso of Article 9:\n",
      "(i) receiving or using any property producing civil fruit;\n",
      "(ii) borrowing money or guaranteeing an obligation;\n",
      "(iii) performing an act with the purpose of acquiring or losing any right regarding immovables or other significant property;\n",
      "(iv) suing any procedural act;\n",
      "(v) giving a gift, reaching a settlement, or entering into an arbitration agreement (meaning an arbitration agreement as provided in Article 2, paragraph (1) of the Arbitration Act (Act No. 138 of 2003));\n",
      "(vi) accepting or renouncing a succession or dividing an estate;\n",
      "(vii) refusing an offer of a gift, renouncing a legacy, accepting an offer of gift with burden, or accepting a legacy with burden;\n",
      "(viii) constructing a new building, renovating, expanding, or undertaking major repairs;\n",
      "(ix) granting a lease for a term that exceeds the period set forth in Article 602; or\n",
      "(x) performing any of the acts set forth in the preceding items as a legal representative of a person with qualified legal capacity (meaning a minor, adult ward, or person under curatorship or a person under assistance who is subject to a decision as referred to in Article 17, paragraph (1); the same applies hereinafter).\n",
      "(2) At the request of a person as referred to in the main clause of Article 11\n",
      "or the curator or curator's supervisor, the family court may decide that the person under curatorship must also obtain the consent of the curator before performing an act other than those set forth in each of the items of the preceding paragraph;provided, however, that this does not apply to an act provided for in the proviso to Article 9.\n",
      "(3) If the curator does not consent to an act for which the person under curatorship must obtain the curator's consent even though it is unlikely to prejudice the interests of the person under curatorship, the family court may grant permission that operates in lieu of the curator's consent at the request of the person under curatorship.\n",
      "(4) An act for which the person under curatorship must obtain the curator's consent is voidable if the person performs it without obtaining the curator's consent or a permission that operates in lieu of it.\n",
      "Question: With respect to any act which requires the consent of the curator, if the curator does not give consent in cases where the interest of the person under curatorship is unlikely to be prejudiced, the person under curatorship may make a claim to the family court for a permission in lieu of the consent of the curator. True or False?\n",
      "Answer: True\n",
      "\n",
      "Article 13\n",
      "(1) A person under curatorship must obtain the consent of the curator in order to perform any of the following acts;provided, however, that this does not apply to an act provided for in the proviso of Article 9:\n",
      "(i) receiving or using any property producing civil fruit;\n",
      "(ii) borrowing money or guaranteeing an obligation;\n",
      "(iii) performing an act with the purpose of acquiring or losing any right regarding immovables or other significant property;\n",
      "(iv) suing any procedural act;\n",
      "(v) giving a gift, reaching a settlement, or entering into an arbitration agreement (meaning an arbitration agreement as provided in Article 2, paragraph (1) of the Arbitration Act (Act No. 138 of 2003));\n",
      "(vi) accepting or renouncing a succession or dividing an estate;\n",
      "(vii) refusing an offer of a gift, renouncing a legacy, accepting an offer of gift with burden, or accepting a legacy with burden;\n",
      "(viii) constructing a new building, renovating, expanding, or undertaking major repairs;\n",
      "(ix) granting a lease for a term that exceeds the period set forth in Article 602; or\n",
      "(x) performing any of the acts set forth in the preceding items as a legal representative of a person with qualified legal capacity (meaning a minor, adult ward, or person under curatorship or a person under assistance who is subject to a decision as referred to in Article 17, paragraph (1); the same applies hereinafter).\n",
      "(2) At the request of a person as referred to in the main clause of Article 11\n",
      "or the curator or curator's supervisor, the family court may decide that the person under curatorship must also obtain the consent of the curator before performing an act other than those set forth in each of the items of the preceding paragraph;provided, however, that this does not apply to an act provided for in the proviso to Article 9.\n",
      "(3) If the curator does not consent to an act for which the person under curatorship must obtain the curator's consent even though it is unlikely to prejudice the interests of the person under curatorship, the family court may grant permission that operates in lieu of the curator's consent at the request of the person under curatorship.\n",
      "(4) An act for which the person under curatorship must obtain the curator's consent is voidable if the person performs it without obtaining the curator's consent or a permission that operates in lieu of it.\n",
      "Article 120\n",
      "(1) An act that is voidable on the grounds of the qualified legal capacity to act of the person who did the act may be rescinded only by the person with qualified legal capacity (in the case of an act performed by the person as a legal representative of another person with limited capacity, including that other person with limited capacity), or an agent or successor thereof, or a person who has the authority to give consent thereto.\n",
      "(2) An act that is voidable on the grounds of a mistake, fraud or duress may be rescinded only by the person who made the defective manifestation of intention, or an agent or successor thereof.\n",
      "Question: In the case where a person under curatorship obtains the consent of his/her curator to conclude the contract of guarantee before concluding such contract, he/she may not cancel concluding such contract by self-determination. True or False?\n",
      "Answer: False\n",
      "\n",
      "Article 13\n",
      "(1) A person under curatorship must obtain the consent of the curator in order to perform any of the following acts;provided, however, that this does not apply to an act provided for in the proviso of Article 9:\n",
      "(i) receiving or using any property producing civil fruit;\n",
      "(ii) borrowing money or guaranteeing an obligation;\n",
      "(iii) performing an act with the purpose of acquiring or losing any right regarding immovables or other significant property;\n",
      "(iv) suing any procedural act;\n",
      "(v) giving a gift, reaching a settlement, or entering into an arbitration agreement (meaning an arbitration agreement as provided in Article 2, paragraph (1) of the Arbitration Act (Act No. 138 of 2003));\n",
      "(vi) accepting or renouncing a succession or dividing an estate;\n",
      "(vii) refusing an offer of a gift, renouncing a legacy, accepting an offer of gift with burden, or accepting a legacy with burden;\n",
      "(viii) constructing a new building, renovating, expanding, or undertaking major repairs;\n",
      "(ix) granting a lease for a term that exceeds the period set forth in Article 602; or\n",
      "(x) performing any of the acts set forth in the preceding items as a legal representative of a person with qualified legal capacity (meaning a minor, adult ward, or person under curatorship or a person under assistance who is subject to a decision as referred to in Article 17, paragraph (1); the same applies hereinafter).\n",
      "(2) At the request of a person as referred to in the main clause of Article 11\n",
      "or the curator or curator's supervisor, the family court may decide that the person under curatorship must also obtain the consent of the curator before performing an act other than those set forth in each of the items of the preceding paragraph;provided, however, that this does not apply to an act provided for in the proviso to Article 9.\n",
      "(3) If the curator does not consent to an act for which the person under curatorship must obtain the curator's consent even though it is unlikely to prejudice the interests of the person under curatorship, the family court may grant permission that operates in lieu of the curator's consent at the request of the person under curatorship.\n",
      "(4) An act for which the person under curatorship must obtain the curator's consent is voidable if the person performs it without obtaining the curator's consent or a permission that operates in lieu of it.\n",
      "Article 120\n",
      "(1) An act that is voidable on the grounds of the qualified legal capacity to act of the person who did the act may be rescinded only by the person with qualified legal capacity (in the case of an act performed by the person as a legal representative of another person with limited capacity, including that other person with limited capacity), or an agent or successor thereof, or a person who has the authority to give consent thereto.\n",
      "(2) An act that is voidable on the grounds of a mistake, fraud or duress may be rescinded only by the person who made the defective manifestation of intention, or an agent or successor thereof.\n",
      "Article 122\n",
      "A voidable act may not be rescinded after the person prescribed in Article 120\n",
      "ratifies it.\n",
      "Question: If a person under curatorship performs, without getting the consent, an act that requires  getting consent from his/her curator, the curator may ratify that act, but may not rescind that act. True or False?\n",
      "Answer: False\n",
      "\n",
      "Article 13\n",
      "(1) A person under curatorship must obtain the consent of the curator in order to perform any of the following acts;provided, however, that this does not apply to an act provided for in the proviso of Article 9:\n",
      "(i) receiving or using any property producing civil fruit;\n",
      "(ii) borrowing money or guaranteeing an obligation;\n",
      "(iii) performing an act with the purpose of acquiring or losing any right regarding immovables or other significant property;\n",
      "(iv) suing any procedural act;\n",
      "(v) giving a gift, reaching a settlement, or entering into an arbitration agreement (meaning an arbitration agreement as provided in Article 2, paragraph (1) of the Arbitration Act (Act No. 138 of 2003));\n",
      "(vi) accepting or renouncing a succession or dividing an estate;\n",
      "(vii) refusing an offer of a gift, renouncing a legacy, accepting an offer of gift with burden, or accepting a legacy with burden;\n",
      "(viii) constructing a new building, renovating, expanding, or undertaking major repairs;\n",
      "(ix) granting a lease for a term that exceeds the period set forth in Article 602; or\n",
      "(x) performing any of the acts set forth in the preceding items as a legal representative of a person with qualified legal capacity (meaning a minor, adult ward, or person under curatorship or a person under assistance who is subject to a decision as referred to in Article 17, paragraph (1); the same applies hereinafter).\n",
      "(2) At the request of a person as referred to in the main clause of Article 11\n",
      "or the curator or curator's supervisor, the family court may decide that the person under curatorship must also obtain the consent of the curator before performing an act other than those set forth in each of the items of the preceding paragraph;provided, however, that this does not apply to an act provided for in the proviso to Article 9.\n",
      "(3) If the curator does not consent to an act for which the person under curatorship must obtain the curator's consent even though it is unlikely to prejudice the interests of the person under curatorship, the family court may grant permission that operates in lieu of the curator's consent at the request of the person under curatorship.\n",
      "(4) An act for which the person under curatorship must obtain the curator's consent is voidable if the person performs it without obtaining the curator's consent or a permission that operates in lieu of it.\n",
      "Question: A contract of guarantee concluded by a person under curatorship may not be rescinded in cases the consent of the curator is obtained. True or False?\n",
      "Answer: \n"
     ]
    },
    {
     "name": "stderr",
     "output_type": "stream",
     "text": [
      "  4%|████████▍                                                                                                                                                                                                                                 | 4/111 [00:04<02:04,  1.16s/it]"
     ]
    },
    {
     "name": "stdout",
     "output_type": "stream",
     "text": [
      "Article 15 (1) The family court may decide to commence an assistance in respect of a person whose capacity to appreciate their own situation is inadequate due to a mental disorder, at the request of the person in question, that person's spouse, that person's relative within the fourth degree of kinship, the guardian, the guardian's supervisor, the curator, the curator's supervisor, or a public prosecutor; provided, however, that this does not apply to a person with respect to whom there are grounds as prescribed in Article 7 or the main clause of Article 11.\n",
      "(2) The issuance of a decision for commencement of assistance at the request of a person other than the person in question requires the consent of the person in question.\n",
      "Question: The issuance of a decision for commencement of assistance at the request of a person other than the person in question requires the consent of the person in question unless the family court finds it to be suitable. True or False?\n",
      "Answer: False\n",
      "\n",
      "Article 17 (1) At the request of the person referred to in the main clause of Article 15, paragraph (1) or the assistant or assistant's supervisor, the family court may decide that the person under assistance must obtain the consent of the person's assistant in order to perform a specific juridical act; provided, however, that the acts that such a decision may establish as those for which the person must obtain the consent of the assistant are restricted to a part of the acts provided for in Article 13, paragraph (1).\n",
      "(2) In order to decide as referred to in the preceding paragraph at the request of a person other than the person in question requires the consent of the person in question.\n",
      "(3) If the assistant does not consent to an act for which the person under assistance must obtain the assistant's consent even though it is unlikely to prejudice the interests of the person under assistance, the family court may grant permission that operates in lieu of the assistant's consent, at the request of the person under assistance.\n",
      "Question: If the assistant does not consent to an act for which the person under assistance must obtain the assistant's consent even though it is unlikely to prejudice the interests of the person under assistance, the family court may grant permission that operates in lieu of the assistant's consent, at the request of the person under assistance. True or False?\n",
      "Answer: True\n",
      "\n",
      "Article 15\n",
      "(1) The family court may decide to commence an assistance in respect of a person whose capacity to appreciate their own situation is inadequate due to a mental disorder, at the request of the person in question, that person's spouse, that person's relative within the fourth degree of kinship, the guardian, the guardian's supervisor, the curator, the curator's supervisor, or a public prosecutor;provided, however, that this does not apply to a person with respect to whom there are grounds as prescribed in Article 7\n",
      "or the main clause of Article 11.\n",
      "(2) The issuance of a decision for commencement of assistance at the request of a person other than the person in question requires the consent of the person in question.\n",
      "(3) A decision for commencement of assistance must be made concurrent with a decision as referred to in Article 17, paragraph (1) or a decision as referred to in Article 876-9, paragraph (1).\n",
      "Question: Any person who has insufficient capacity to appreciate right or wrong due to any mental disability may not request a ruling of commencement of assistance in person. True or False?\n",
      "Answer: False\n",
      "\n",
      "Article 17\n",
      "(1) At the request of the person referred to in the main clause of Article 15, paragraph (1) or the assistant or assistant's supervisor, the family court may decide that the person under assistance must obtain the consent of the person's assistant in order to perform a specific juridical act;provided, however, that the acts that such a decision may establish as those for which the person must obtain the consent of the assistant are restricted to a part of the acts provided for in Article 13, paragraph (1).\n",
      "(2) In order to decide as referred to in the preceding paragraph at the request of a person other than the person in question requires the consent of the person in question.\n",
      "(3) If the assistant does not consent to an act for which the person under assistance must obtain the assistant's consent even though it is unlikely to prejudice the interests of the person under assistance, the family court may grant permission that operates in lieu of the assistant's consent, at the request of the person under assistance.\n",
      "(4) An act for which the person under assistance must obtain the assistant's consent is voidable if the person performs it without obtaining the assistance's consent or a permission that operates in lieu of it.\n",
      "Question: An act which requires the consent of the assistant may be rescinded if the person under assistance performed it without such consent or the permission of family court in lieu thereof. True or False?\n",
      "Answer: \n"
     ]
    },
    {
     "name": "stderr",
     "output_type": "stream",
     "text": [
      "100%|████████████████████████████████████████████████████████████████████████████████████████████████████████████████████████████████████████████████████████████████████████████████████████████████████████████████████████████████████████| 111/111 [01:10<00:00,  1.58it/s]\n"
     ]
    },
    {
     "name": "stdout",
     "output_type": "stream",
     "text": [
      "{'{{premise}}\\nQuestion: {{hypothesis}} True or False?': 0.8468468468468469}\n"
     ]
    },
    {
     "name": "stderr",
     "output_type": "stream",
     "text": [
      "  1%|██                                                                                                                                                                                                                                        | 1/111 [00:00<01:10,  1.57it/s]"
     ]
    },
    {
     "name": "stdout",
     "output_type": "stream",
     "text": [
      "Article 5\n",
      "(1) A minor must obtain the consent of the minor's legal representative to perform a juridical act;provided, however, that this does not apply to a juridical act for merely acquiring a right or being released from an obligation.\n",
      "(2) A juridical act in contravention of the provisions of the preceding paragraph is voidable.\n",
      "(3) Notwithstanding the provisions of paragraph (1), a minor may freely dispose of property that the legal representative has permitted the minor to dispose of for a specified purpose, to an extent that falls within the scope of that purpose. The same applies if the minor disposes of property that the legal representative has permitted the minor to dispose of without specifying a purpose.\n",
      "Question: A minor can freely dispose of assets the statutory agent permits the disposition without specifying the purpose. True or False? \n",
      "Answer: True\n",
      "\n",
      "Article 5\n",
      "(1) A minor must obtain the consent of the minor's legal representative to perform a juridical act;provided, however, that this does not apply to a juridical act for merely acquiring a right or being released from an obligation.\n",
      "(2) A juridical act in contravention of the provisions of the preceding paragraph is voidable.\n",
      "(3) Notwithstanding the provisions of paragraph (1), a minor may freely dispose of property that the legal representative has permitted the minor to dispose of for a specified purpose, to an extent that falls within the scope of that purpose. The same applies if the minor disposes of property that the legal representative has permitted the minor to dispose of without specifying a purpose.\n",
      "Question: A is a nineteen-year-old male and subject to the parental authority of his parents.\n",
      "In the case where the person who had parental authority in relation to A permitted A to dispose of the money which A acquired by a part-time job of delivering newspapers, and A purchased a bicycle by the money which he acquired by the part-time job, even if A did not obtain the consent of the person who had parental authority in relation to him when he concluded the contract for sale, A may not rescind the contract for sale. True or False? \n",
      "Answer: True\n",
      "\n",
      "Article 5\n",
      "(1) A minor must obtain the consent of the minor's legal representative to perform a juridical act;provided, however, that this does not apply to a juridical act for merely acquiring a right or being released from an obligation.\n",
      "(2) A juridical act in contravention of the provisions of the preceding paragraph is voidable.\n",
      "(3) Notwithstanding the provisions of paragraph (1), a minor may freely dispose of property that the legal representative has permitted the minor to dispose of for a specified purpose, to an extent that falls within the scope of that purpose. The same applies if the minor disposes of property that the legal representative has permitted the minor to dispose of without specifying a purpose.\n",
      "Question: A is a nineteen-year-old male and subject to the parental authority of his parents.\n",
      "In the case where A concluded a contract not in writing to the effect that A would make B a gift of 1,000,000 yen from the property which A had obtained by inheritance, even if A revoked the gift on the ground that it was a gift not in writing, if A did not obtain the consent of the person who had parental authority in relation to him with respect to the revocation of the gift, A may rescind the revocation of the gift. True or False? \n",
      "Answer: False\n",
      "\n",
      "Article 5\n",
      "(1) A minor must obtain the consent of the minor's legal representative to perform a juridical act;provided, however, that this does not apply to a juridical act for merely acquiring a right or being released from an obligation.\n",
      "(2) A juridical act in contravention of the provisions of the preceding paragraph is voidable.\n",
      "(3) Notwithstanding the provisions of paragraph (1), a minor may freely dispose of property that the legal representative has permitted the minor to dispose of for a specified purpose, to an extent that falls within the scope of that purpose. The same applies if the minor disposes of property that the legal representative has permitted the minor to dispose of without specifying a purpose.\n",
      "Question: A contract of sales concluded by a minor may not be rescinded if it relates to daily life, even in cases the consent of the parental authority is not obtained. True or False? \n",
      "Answer: \n"
     ]
    },
    {
     "name": "stderr",
     "output_type": "stream",
     "text": [
      "  2%|████▏                                                                                                                                                                                                                                     | 2/111 [00:01<01:06,  1.65it/s]"
     ]
    },
    {
     "name": "stdout",
     "output_type": "stream",
     "text": [
      "Article 9 A juridical act performed by an adult ward is voidable;provided, however, that this does not apply to the purchase of daily necessities or to any other act involved in day-to-day life.\n",
      "Question: If an adult ward acquires land by gift, the guardian of the adult ward may not rescind the gift. True or False? \n",
      "Answer: False\n",
      "\n",
      "Article 9\n",
      "A juridical act performed by an adult ward is voidable;provided, however, that this does not apply to the purchase of daily necessities or to any other act involved in day-to-day life.\n",
      "Question: The purchase of daily household items may not be rescinded, even if an adult ward performed the act. True or False? \n",
      "Answer: True\n",
      "\n",
      "Article 9\n",
      "A juridical act performed by an adult ward is voidable;provided, however, that this does not apply to the purchase of daily necessities or to any other act involved in day-to-day life.\n",
      "Question: In cases where an adult ward receives the gift of a building, the adult ward cannot rescindthe relevant gift contract. True or False? \n",
      "Answer: False\n",
      "\n",
      "Article 9\n",
      "A juridical act performed by an adult ward is voidable;provided, however, that this does not apply to the purchase of daily necessities or to any other act involved in day-to-day life.\n",
      "Question: A contract of sales concluded by an adult ward may be rescinded except relating to daily life, even in cases the consent of the adult guardian has been obtained, the contract True or False? \n",
      "Answer: \n"
     ]
    },
    {
     "name": "stderr",
     "output_type": "stream",
     "text": [
      "  3%|██████▎                                                                                                                                                                                                                                   | 3/111 [00:03<02:38,  1.46s/it]"
     ]
    },
    {
     "name": "stdout",
     "output_type": "stream",
     "text": [
      "Article 13\n",
      "(1) A person under curatorship must obtain the consent of the curator in order to perform any of the following acts;provided, however, that this does not apply to an act provided for in the proviso of Article 9:\n",
      "(i) receiving or using any property producing civil fruit;\n",
      "(ii) borrowing money or guaranteeing an obligation;\n",
      "(iii) performing an act with the purpose of acquiring or losing any right regarding immovables or other significant property;\n",
      "(iv) suing any procedural act;\n",
      "(v) giving a gift, reaching a settlement, or entering into an arbitration agreement (meaning an arbitration agreement as provided in Article 2, paragraph (1) of the Arbitration Act (Act No. 138 of 2003));\n",
      "(vi) accepting or renouncing a succession or dividing an estate;\n",
      "(vii) refusing an offer of a gift, renouncing a legacy, accepting an offer of gift with burden, or accepting a legacy with burden;\n",
      "(viii) constructing a new building, renovating, expanding, or undertaking major repairs;\n",
      "(ix) granting a lease for a term that exceeds the period set forth in Article 602; or\n",
      "(x) performing any of the acts set forth in the preceding items as a legal representative of a person with qualified legal capacity (meaning a minor, adult ward, or person under curatorship or a person under assistance who is subject to a decision as referred to in Article 17, paragraph (1); the same applies hereinafter).\n",
      "(2) At the request of a person as referred to in the main clause of Article 11\n",
      "or the curator or curator's supervisor, the family court may decide that the person under curatorship must also obtain the consent of the curator before performing an act other than those set forth in each of the items of the preceding paragraph;provided, however, that this does not apply to an act provided for in the proviso to Article 9.\n",
      "(3) If the curator does not consent to an act for which the person under curatorship must obtain the curator's consent even though it is unlikely to prejudice the interests of the person under curatorship, the family court may grant permission that operates in lieu of the curator's consent at the request of the person under curatorship.\n",
      "(4) An act for which the person under curatorship must obtain the curator's consent is voidable if the person performs it without obtaining the curator's consent or a permission that operates in lieu of it.\n",
      "Question: With respect to any act which requires the consent of the curator, if the curator does not give consent in cases where the interest of the person under curatorship is unlikely to be prejudiced, the person under curatorship may make a claim to the family court for a permission in lieu of the consent of the curator. True or False? \n",
      "Answer: True\n",
      "\n",
      "Article 13\n",
      "(1) A person under curatorship must obtain the consent of the curator in order to perform any of the following acts;provided, however, that this does not apply to an act provided for in the proviso of Article 9:\n",
      "(i) receiving or using any property producing civil fruit;\n",
      "(ii) borrowing money or guaranteeing an obligation;\n",
      "(iii) performing an act with the purpose of acquiring or losing any right regarding immovables or other significant property;\n",
      "(iv) suing any procedural act;\n",
      "(v) giving a gift, reaching a settlement, or entering into an arbitration agreement (meaning an arbitration agreement as provided in Article 2, paragraph (1) of the Arbitration Act (Act No. 138 of 2003));\n",
      "(vi) accepting or renouncing a succession or dividing an estate;\n",
      "(vii) refusing an offer of a gift, renouncing a legacy, accepting an offer of gift with burden, or accepting a legacy with burden;\n",
      "(viii) constructing a new building, renovating, expanding, or undertaking major repairs;\n",
      "(ix) granting a lease for a term that exceeds the period set forth in Article 602; or\n",
      "(x) performing any of the acts set forth in the preceding items as a legal representative of a person with qualified legal capacity (meaning a minor, adult ward, or person under curatorship or a person under assistance who is subject to a decision as referred to in Article 17, paragraph (1); the same applies hereinafter).\n",
      "(2) At the request of a person as referred to in the main clause of Article 11\n",
      "or the curator or curator's supervisor, the family court may decide that the person under curatorship must also obtain the consent of the curator before performing an act other than those set forth in each of the items of the preceding paragraph;provided, however, that this does not apply to an act provided for in the proviso to Article 9.\n",
      "(3) If the curator does not consent to an act for which the person under curatorship must obtain the curator's consent even though it is unlikely to prejudice the interests of the person under curatorship, the family court may grant permission that operates in lieu of the curator's consent at the request of the person under curatorship.\n",
      "(4) An act for which the person under curatorship must obtain the curator's consent is voidable if the person performs it without obtaining the curator's consent or a permission that operates in lieu of it.\n",
      "Article 120\n",
      "(1) An act that is voidable on the grounds of the qualified legal capacity to act of the person who did the act may be rescinded only by the person with qualified legal capacity (in the case of an act performed by the person as a legal representative of another person with limited capacity, including that other person with limited capacity), or an agent or successor thereof, or a person who has the authority to give consent thereto.\n",
      "(2) An act that is voidable on the grounds of a mistake, fraud or duress may be rescinded only by the person who made the defective manifestation of intention, or an agent or successor thereof.\n",
      "Question: In the case where a person under curatorship obtains the consent of his/her curator to conclude the contract of guarantee before concluding such contract, he/she may not cancel concluding such contract by self-determination. True or False? \n",
      "Answer: False\n",
      "\n",
      "Article 13\n",
      "(1) A person under curatorship must obtain the consent of the curator in order to perform any of the following acts;provided, however, that this does not apply to an act provided for in the proviso of Article 9:\n",
      "(i) receiving or using any property producing civil fruit;\n",
      "(ii) borrowing money or guaranteeing an obligation;\n",
      "(iii) performing an act with the purpose of acquiring or losing any right regarding immovables or other significant property;\n",
      "(iv) suing any procedural act;\n",
      "(v) giving a gift, reaching a settlement, or entering into an arbitration agreement (meaning an arbitration agreement as provided in Article 2, paragraph (1) of the Arbitration Act (Act No. 138 of 2003));\n",
      "(vi) accepting or renouncing a succession or dividing an estate;\n",
      "(vii) refusing an offer of a gift, renouncing a legacy, accepting an offer of gift with burden, or accepting a legacy with burden;\n",
      "(viii) constructing a new building, renovating, expanding, or undertaking major repairs;\n",
      "(ix) granting a lease for a term that exceeds the period set forth in Article 602; or\n",
      "(x) performing any of the acts set forth in the preceding items as a legal representative of a person with qualified legal capacity (meaning a minor, adult ward, or person under curatorship or a person under assistance who is subject to a decision as referred to in Article 17, paragraph (1); the same applies hereinafter).\n",
      "(2) At the request of a person as referred to in the main clause of Article 11\n",
      "or the curator or curator's supervisor, the family court may decide that the person under curatorship must also obtain the consent of the curator before performing an act other than those set forth in each of the items of the preceding paragraph;provided, however, that this does not apply to an act provided for in the proviso to Article 9.\n",
      "(3) If the curator does not consent to an act for which the person under curatorship must obtain the curator's consent even though it is unlikely to prejudice the interests of the person under curatorship, the family court may grant permission that operates in lieu of the curator's consent at the request of the person under curatorship.\n",
      "(4) An act for which the person under curatorship must obtain the curator's consent is voidable if the person performs it without obtaining the curator's consent or a permission that operates in lieu of it.\n",
      "Article 120\n",
      "(1) An act that is voidable on the grounds of the qualified legal capacity to act of the person who did the act may be rescinded only by the person with qualified legal capacity (in the case of an act performed by the person as a legal representative of another person with limited capacity, including that other person with limited capacity), or an agent or successor thereof, or a person who has the authority to give consent thereto.\n",
      "(2) An act that is voidable on the grounds of a mistake, fraud or duress may be rescinded only by the person who made the defective manifestation of intention, or an agent or successor thereof.\n",
      "Article 122\n",
      "A voidable act may not be rescinded after the person prescribed in Article 120\n",
      "ratifies it.\n",
      "Question: If a person under curatorship performs, without getting the consent, an act that requires  getting consent from his/her curator, the curator may ratify that act, but may not rescind that act. True or False? \n",
      "Answer: False\n",
      "\n",
      "Article 13\n",
      "(1) A person under curatorship must obtain the consent of the curator in order to perform any of the following acts;provided, however, that this does not apply to an act provided for in the proviso of Article 9:\n",
      "(i) receiving or using any property producing civil fruit;\n",
      "(ii) borrowing money or guaranteeing an obligation;\n",
      "(iii) performing an act with the purpose of acquiring or losing any right regarding immovables or other significant property;\n",
      "(iv) suing any procedural act;\n",
      "(v) giving a gift, reaching a settlement, or entering into an arbitration agreement (meaning an arbitration agreement as provided in Article 2, paragraph (1) of the Arbitration Act (Act No. 138 of 2003));\n",
      "(vi) accepting or renouncing a succession or dividing an estate;\n",
      "(vii) refusing an offer of a gift, renouncing a legacy, accepting an offer of gift with burden, or accepting a legacy with burden;\n",
      "(viii) constructing a new building, renovating, expanding, or undertaking major repairs;\n",
      "(ix) granting a lease for a term that exceeds the period set forth in Article 602; or\n",
      "(x) performing any of the acts set forth in the preceding items as a legal representative of a person with qualified legal capacity (meaning a minor, adult ward, or person under curatorship or a person under assistance who is subject to a decision as referred to in Article 17, paragraph (1); the same applies hereinafter).\n",
      "(2) At the request of a person as referred to in the main clause of Article 11\n",
      "or the curator or curator's supervisor, the family court may decide that the person under curatorship must also obtain the consent of the curator before performing an act other than those set forth in each of the items of the preceding paragraph;provided, however, that this does not apply to an act provided for in the proviso to Article 9.\n",
      "(3) If the curator does not consent to an act for which the person under curatorship must obtain the curator's consent even though it is unlikely to prejudice the interests of the person under curatorship, the family court may grant permission that operates in lieu of the curator's consent at the request of the person under curatorship.\n",
      "(4) An act for which the person under curatorship must obtain the curator's consent is voidable if the person performs it without obtaining the curator's consent or a permission that operates in lieu of it.\n",
      "Question: A contract of guarantee concluded by a person under curatorship may not be rescinded in cases the consent of the curator is obtained. True or False? \n",
      "Answer: \n"
     ]
    },
    {
     "name": "stderr",
     "output_type": "stream",
     "text": [
      "  4%|████████▍                                                                                                                                                                                                                                 | 4/111 [00:04<02:04,  1.16s/it]"
     ]
    },
    {
     "name": "stdout",
     "output_type": "stream",
     "text": [
      "Article 15 (1) The family court may decide to commence an assistance in respect of a person whose capacity to appreciate their own situation is inadequate due to a mental disorder, at the request of the person in question, that person's spouse, that person's relative within the fourth degree of kinship, the guardian, the guardian's supervisor, the curator, the curator's supervisor, or a public prosecutor; provided, however, that this does not apply to a person with respect to whom there are grounds as prescribed in Article 7 or the main clause of Article 11.\n",
      "(2) The issuance of a decision for commencement of assistance at the request of a person other than the person in question requires the consent of the person in question.\n",
      "Question: The issuance of a decision for commencement of assistance at the request of a person other than the person in question requires the consent of the person in question unless the family court finds it to be suitable. True or False? \n",
      "Answer: False\n",
      "\n",
      "Article 17 (1) At the request of the person referred to in the main clause of Article 15, paragraph (1) or the assistant or assistant's supervisor, the family court may decide that the person under assistance must obtain the consent of the person's assistant in order to perform a specific juridical act; provided, however, that the acts that such a decision may establish as those for which the person must obtain the consent of the assistant are restricted to a part of the acts provided for in Article 13, paragraph (1).\n",
      "(2) In order to decide as referred to in the preceding paragraph at the request of a person other than the person in question requires the consent of the person in question.\n",
      "(3) If the assistant does not consent to an act for which the person under assistance must obtain the assistant's consent even though it is unlikely to prejudice the interests of the person under assistance, the family court may grant permission that operates in lieu of the assistant's consent, at the request of the person under assistance.\n",
      "Question: If the assistant does not consent to an act for which the person under assistance must obtain the assistant's consent even though it is unlikely to prejudice the interests of the person under assistance, the family court may grant permission that operates in lieu of the assistant's consent, at the request of the person under assistance. True or False? \n",
      "Answer: True\n",
      "\n",
      "Article 15\n",
      "(1) The family court may decide to commence an assistance in respect of a person whose capacity to appreciate their own situation is inadequate due to a mental disorder, at the request of the person in question, that person's spouse, that person's relative within the fourth degree of kinship, the guardian, the guardian's supervisor, the curator, the curator's supervisor, or a public prosecutor;provided, however, that this does not apply to a person with respect to whom there are grounds as prescribed in Article 7\n",
      "or the main clause of Article 11.\n",
      "(2) The issuance of a decision for commencement of assistance at the request of a person other than the person in question requires the consent of the person in question.\n",
      "(3) A decision for commencement of assistance must be made concurrent with a decision as referred to in Article 17, paragraph (1) or a decision as referred to in Article 876-9, paragraph (1).\n",
      "Question: Any person who has insufficient capacity to appreciate right or wrong due to any mental disability may not request a ruling of commencement of assistance in person. True or False? \n",
      "Answer: False\n",
      "\n",
      "Article 17\n",
      "(1) At the request of the person referred to in the main clause of Article 15, paragraph (1) or the assistant or assistant's supervisor, the family court may decide that the person under assistance must obtain the consent of the person's assistant in order to perform a specific juridical act;provided, however, that the acts that such a decision may establish as those for which the person must obtain the consent of the assistant are restricted to a part of the acts provided for in Article 13, paragraph (1).\n",
      "(2) In order to decide as referred to in the preceding paragraph at the request of a person other than the person in question requires the consent of the person in question.\n",
      "(3) If the assistant does not consent to an act for which the person under assistance must obtain the assistant's consent even though it is unlikely to prejudice the interests of the person under assistance, the family court may grant permission that operates in lieu of the assistant's consent, at the request of the person under assistance.\n",
      "(4) An act for which the person under assistance must obtain the assistant's consent is voidable if the person performs it without obtaining the assistance's consent or a permission that operates in lieu of it.\n",
      "Question: An act which requires the consent of the assistant may be rescinded if the person under assistance performed it without such consent or the permission of family court in lieu thereof. True or False? \n",
      "Answer: \n"
     ]
    },
    {
     "name": "stderr",
     "output_type": "stream",
     "text": [
      "100%|████████████████████████████████████████████████████████████████████████████████████████████████████████████████████████████████████████████████████████████████████████████████████████████████████████████████████████████████████████| 111/111 [01:09<00:00,  1.59it/s]\n"
     ]
    },
    {
     "name": "stdout",
     "output_type": "stream",
     "text": [
      "{'{{premise}}\\nQuestion: {{hypothesis}} True or False?': 0.8468468468468469, '{{premise}}\\nQuestion: {{hypothesis}} True or False? ': 0.8468468468468469}\n"
     ]
    },
    {
     "name": "stderr",
     "output_type": "stream",
     "text": [
      "  1%|██                                                                                                                                                                                                                                        | 1/111 [00:00<01:11,  1.53it/s]"
     ]
    },
    {
     "name": "stdout",
     "output_type": "stream",
     "text": [
      "Article 5\n",
      "(1) A minor must obtain the consent of the minor's legal representative to perform a juridical act;provided, however, that this does not apply to a juridical act for merely acquiring a right or being released from an obligation.\n",
      "(2) A juridical act in contravention of the provisions of the preceding paragraph is voidable.\n",
      "(3) Notwithstanding the provisions of paragraph (1), a minor may freely dispose of property that the legal representative has permitted the minor to dispose of for a specified purpose, to an extent that falls within the scope of that purpose. The same applies if the minor disposes of property that the legal representative has permitted the minor to dispose of without specifying a purpose. Based on that information, is the claim: \"A minor can freely dispose of assets the statutory agent permits the disposition without specifying the purpose.\" true or false?\n",
      "Answer: True\n",
      "\n",
      "Article 5\n",
      "(1) A minor must obtain the consent of the minor's legal representative to perform a juridical act;provided, however, that this does not apply to a juridical act for merely acquiring a right or being released from an obligation.\n",
      "(2) A juridical act in contravention of the provisions of the preceding paragraph is voidable.\n",
      "(3) Notwithstanding the provisions of paragraph (1), a minor may freely dispose of property that the legal representative has permitted the minor to dispose of for a specified purpose, to an extent that falls within the scope of that purpose. The same applies if the minor disposes of property that the legal representative has permitted the minor to dispose of without specifying a purpose. Based on that information, is the claim: \"A is a nineteen-year-old male and subject to the parental authority of his parents.\n",
      "In the case where the person who had parental authority in relation to A permitted A to dispose of the money which A acquired by a part-time job of delivering newspapers, and A purchased a bicycle by the money which he acquired by the part-time job, even if A did not obtain the consent of the person who had parental authority in relation to him when he concluded the contract for sale, A may not rescind the contract for sale.\" true or false?\n",
      "Answer: True\n",
      "\n",
      "Article 5\n",
      "(1) A minor must obtain the consent of the minor's legal representative to perform a juridical act;provided, however, that this does not apply to a juridical act for merely acquiring a right or being released from an obligation.\n",
      "(2) A juridical act in contravention of the provisions of the preceding paragraph is voidable.\n",
      "(3) Notwithstanding the provisions of paragraph (1), a minor may freely dispose of property that the legal representative has permitted the minor to dispose of for a specified purpose, to an extent that falls within the scope of that purpose. The same applies if the minor disposes of property that the legal representative has permitted the minor to dispose of without specifying a purpose. Based on that information, is the claim: \"A is a nineteen-year-old male and subject to the parental authority of his parents.\n",
      "In the case where A concluded a contract not in writing to the effect that A would make B a gift of 1,000,000 yen from the property which A had obtained by inheritance, even if A revoked the gift on the ground that it was a gift not in writing, if A did not obtain the consent of the person who had parental authority in relation to him with respect to the revocation of the gift, A may rescind the revocation of the gift.\" true or false?\n",
      "Answer: False\n",
      "\n",
      "Article 5\n",
      "(1) A minor must obtain the consent of the minor's legal representative to perform a juridical act;provided, however, that this does not apply to a juridical act for merely acquiring a right or being released from an obligation.\n",
      "(2) A juridical act in contravention of the provisions of the preceding paragraph is voidable.\n",
      "(3) Notwithstanding the provisions of paragraph (1), a minor may freely dispose of property that the legal representative has permitted the minor to dispose of for a specified purpose, to an extent that falls within the scope of that purpose. The same applies if the minor disposes of property that the legal representative has permitted the minor to dispose of without specifying a purpose. Based on that information, is the claim: \"A contract of sales concluded by a minor may not be rescinded if it relates to daily life, even in cases the consent of the parental authority is not obtained.\" true or false?\n",
      "Answer: \n"
     ]
    },
    {
     "name": "stderr",
     "output_type": "stream",
     "text": [
      "  2%|████▏                                                                                                                                                                                                                                     | 2/111 [00:01<01:07,  1.61it/s]"
     ]
    },
    {
     "name": "stdout",
     "output_type": "stream",
     "text": [
      "Article 9 A juridical act performed by an adult ward is voidable;provided, however, that this does not apply to the purchase of daily necessities or to any other act involved in day-to-day life. Based on that information, is the claim: \"If an adult ward acquires land by gift, the guardian of the adult ward may not rescind the gift.\" true or false?\n",
      "Answer: False\n",
      "\n",
      "Article 9\n",
      "A juridical act performed by an adult ward is voidable;provided, however, that this does not apply to the purchase of daily necessities or to any other act involved in day-to-day life. Based on that information, is the claim: \"The purchase of daily household items may not be rescinded, even if an adult ward performed the act.\" true or false?\n",
      "Answer: True\n",
      "\n",
      "Article 9\n",
      "A juridical act performed by an adult ward is voidable;provided, however, that this does not apply to the purchase of daily necessities or to any other act involved in day-to-day life. Based on that information, is the claim: \"In cases where an adult ward receives the gift of a building, the adult ward cannot rescindthe relevant gift contract.\" true or false?\n",
      "Answer: False\n",
      "\n",
      "Article 9\n",
      "A juridical act performed by an adult ward is voidable;provided, however, that this does not apply to the purchase of daily necessities or to any other act involved in day-to-day life. Based on that information, is the claim: \"A contract of sales concluded by an adult ward may be rescinded except relating to daily life, even in cases the consent of the adult guardian has been obtained, the contract\" true or false?\n",
      "Answer: \n"
     ]
    },
    {
     "name": "stderr",
     "output_type": "stream",
     "text": [
      "  3%|██████▎                                                                                                                                                                                                                                   | 3/111 [00:03<02:40,  1.48s/it]"
     ]
    },
    {
     "name": "stdout",
     "output_type": "stream",
     "text": [
      "Article 13\n",
      "(1) A person under curatorship must obtain the consent of the curator in order to perform any of the following acts;provided, however, that this does not apply to an act provided for in the proviso of Article 9:\n",
      "(i) receiving or using any property producing civil fruit;\n",
      "(ii) borrowing money or guaranteeing an obligation;\n",
      "(iii) performing an act with the purpose of acquiring or losing any right regarding immovables or other significant property;\n",
      "(iv) suing any procedural act;\n",
      "(v) giving a gift, reaching a settlement, or entering into an arbitration agreement (meaning an arbitration agreement as provided in Article 2, paragraph (1) of the Arbitration Act (Act No. 138 of 2003));\n",
      "(vi) accepting or renouncing a succession or dividing an estate;\n",
      "(vii) refusing an offer of a gift, renouncing a legacy, accepting an offer of gift with burden, or accepting a legacy with burden;\n",
      "(viii) constructing a new building, renovating, expanding, or undertaking major repairs;\n",
      "(ix) granting a lease for a term that exceeds the period set forth in Article 602; or\n",
      "(x) performing any of the acts set forth in the preceding items as a legal representative of a person with qualified legal capacity (meaning a minor, adult ward, or person under curatorship or a person under assistance who is subject to a decision as referred to in Article 17, paragraph (1); the same applies hereinafter).\n",
      "(2) At the request of a person as referred to in the main clause of Article 11\n",
      "or the curator or curator's supervisor, the family court may decide that the person under curatorship must also obtain the consent of the curator before performing an act other than those set forth in each of the items of the preceding paragraph;provided, however, that this does not apply to an act provided for in the proviso to Article 9.\n",
      "(3) If the curator does not consent to an act for which the person under curatorship must obtain the curator's consent even though it is unlikely to prejudice the interests of the person under curatorship, the family court may grant permission that operates in lieu of the curator's consent at the request of the person under curatorship.\n",
      "(4) An act for which the person under curatorship must obtain the curator's consent is voidable if the person performs it without obtaining the curator's consent or a permission that operates in lieu of it. Based on that information, is the claim: \"With respect to any act which requires the consent of the curator, if the curator does not give consent in cases where the interest of the person under curatorship is unlikely to be prejudiced, the person under curatorship may make a claim to the family court for a permission in lieu of the consent of the curator.\" true or false?\n",
      "Answer: True\n",
      "\n",
      "Article 13\n",
      "(1) A person under curatorship must obtain the consent of the curator in order to perform any of the following acts;provided, however, that this does not apply to an act provided for in the proviso of Article 9:\n",
      "(i) receiving or using any property producing civil fruit;\n",
      "(ii) borrowing money or guaranteeing an obligation;\n",
      "(iii) performing an act with the purpose of acquiring or losing any right regarding immovables or other significant property;\n",
      "(iv) suing any procedural act;\n",
      "(v) giving a gift, reaching a settlement, or entering into an arbitration agreement (meaning an arbitration agreement as provided in Article 2, paragraph (1) of the Arbitration Act (Act No. 138 of 2003));\n",
      "(vi) accepting or renouncing a succession or dividing an estate;\n",
      "(vii) refusing an offer of a gift, renouncing a legacy, accepting an offer of gift with burden, or accepting a legacy with burden;\n",
      "(viii) constructing a new building, renovating, expanding, or undertaking major repairs;\n",
      "(ix) granting a lease for a term that exceeds the period set forth in Article 602; or\n",
      "(x) performing any of the acts set forth in the preceding items as a legal representative of a person with qualified legal capacity (meaning a minor, adult ward, or person under curatorship or a person under assistance who is subject to a decision as referred to in Article 17, paragraph (1); the same applies hereinafter).\n",
      "(2) At the request of a person as referred to in the main clause of Article 11\n",
      "or the curator or curator's supervisor, the family court may decide that the person under curatorship must also obtain the consent of the curator before performing an act other than those set forth in each of the items of the preceding paragraph;provided, however, that this does not apply to an act provided for in the proviso to Article 9.\n",
      "(3) If the curator does not consent to an act for which the person under curatorship must obtain the curator's consent even though it is unlikely to prejudice the interests of the person under curatorship, the family court may grant permission that operates in lieu of the curator's consent at the request of the person under curatorship.\n",
      "(4) An act for which the person under curatorship must obtain the curator's consent is voidable if the person performs it without obtaining the curator's consent or a permission that operates in lieu of it.\n",
      "Article 120\n",
      "(1) An act that is voidable on the grounds of the qualified legal capacity to act of the person who did the act may be rescinded only by the person with qualified legal capacity (in the case of an act performed by the person as a legal representative of another person with limited capacity, including that other person with limited capacity), or an agent or successor thereof, or a person who has the authority to give consent thereto.\n",
      "(2) An act that is voidable on the grounds of a mistake, fraud or duress may be rescinded only by the person who made the defective manifestation of intention, or an agent or successor thereof. Based on that information, is the claim: \"In the case where a person under curatorship obtains the consent of his/her curator to conclude the contract of guarantee before concluding such contract, he/she may not cancel concluding such contract by self-determination.\" true or false?\n",
      "Answer: False\n",
      "\n",
      "Article 13\n",
      "(1) A person under curatorship must obtain the consent of the curator in order to perform any of the following acts;provided, however, that this does not apply to an act provided for in the proviso of Article 9:\n",
      "(i) receiving or using any property producing civil fruit;\n",
      "(ii) borrowing money or guaranteeing an obligation;\n",
      "(iii) performing an act with the purpose of acquiring or losing any right regarding immovables or other significant property;\n",
      "(iv) suing any procedural act;\n",
      "(v) giving a gift, reaching a settlement, or entering into an arbitration agreement (meaning an arbitration agreement as provided in Article 2, paragraph (1) of the Arbitration Act (Act No. 138 of 2003));\n",
      "(vi) accepting or renouncing a succession or dividing an estate;\n",
      "(vii) refusing an offer of a gift, renouncing a legacy, accepting an offer of gift with burden, or accepting a legacy with burden;\n",
      "(viii) constructing a new building, renovating, expanding, or undertaking major repairs;\n",
      "(ix) granting a lease for a term that exceeds the period set forth in Article 602; or\n",
      "(x) performing any of the acts set forth in the preceding items as a legal representative of a person with qualified legal capacity (meaning a minor, adult ward, or person under curatorship or a person under assistance who is subject to a decision as referred to in Article 17, paragraph (1); the same applies hereinafter).\n",
      "(2) At the request of a person as referred to in the main clause of Article 11\n",
      "or the curator or curator's supervisor, the family court may decide that the person under curatorship must also obtain the consent of the curator before performing an act other than those set forth in each of the items of the preceding paragraph;provided, however, that this does not apply to an act provided for in the proviso to Article 9.\n",
      "(3) If the curator does not consent to an act for which the person under curatorship must obtain the curator's consent even though it is unlikely to prejudice the interests of the person under curatorship, the family court may grant permission that operates in lieu of the curator's consent at the request of the person under curatorship.\n",
      "(4) An act for which the person under curatorship must obtain the curator's consent is voidable if the person performs it without obtaining the curator's consent or a permission that operates in lieu of it.\n",
      "Article 120\n",
      "(1) An act that is voidable on the grounds of the qualified legal capacity to act of the person who did the act may be rescinded only by the person with qualified legal capacity (in the case of an act performed by the person as a legal representative of another person with limited capacity, including that other person with limited capacity), or an agent or successor thereof, or a person who has the authority to give consent thereto.\n",
      "(2) An act that is voidable on the grounds of a mistake, fraud or duress may be rescinded only by the person who made the defective manifestation of intention, or an agent or successor thereof.\n",
      "Article 122\n",
      "A voidable act may not be rescinded after the person prescribed in Article 120\n",
      "ratifies it. Based on that information, is the claim: \"If a person under curatorship performs, without getting the consent, an act that requires  getting consent from his/her curator, the curator may ratify that act, but may not rescind that act.\" true or false?\n",
      "Answer: False\n",
      "\n",
      "Article 13\n",
      "(1) A person under curatorship must obtain the consent of the curator in order to perform any of the following acts;provided, however, that this does not apply to an act provided for in the proviso of Article 9:\n",
      "(i) receiving or using any property producing civil fruit;\n",
      "(ii) borrowing money or guaranteeing an obligation;\n",
      "(iii) performing an act with the purpose of acquiring or losing any right regarding immovables or other significant property;\n",
      "(iv) suing any procedural act;\n",
      "(v) giving a gift, reaching a settlement, or entering into an arbitration agreement (meaning an arbitration agreement as provided in Article 2, paragraph (1) of the Arbitration Act (Act No. 138 of 2003));\n",
      "(vi) accepting or renouncing a succession or dividing an estate;\n",
      "(vii) refusing an offer of a gift, renouncing a legacy, accepting an offer of gift with burden, or accepting a legacy with burden;\n",
      "(viii) constructing a new building, renovating, expanding, or undertaking major repairs;\n",
      "(ix) granting a lease for a term that exceeds the period set forth in Article 602; or\n",
      "(x) performing any of the acts set forth in the preceding items as a legal representative of a person with qualified legal capacity (meaning a minor, adult ward, or person under curatorship or a person under assistance who is subject to a decision as referred to in Article 17, paragraph (1); the same applies hereinafter).\n",
      "(2) At the request of a person as referred to in the main clause of Article 11\n",
      "or the curator or curator's supervisor, the family court may decide that the person under curatorship must also obtain the consent of the curator before performing an act other than those set forth in each of the items of the preceding paragraph;provided, however, that this does not apply to an act provided for in the proviso to Article 9.\n",
      "(3) If the curator does not consent to an act for which the person under curatorship must obtain the curator's consent even though it is unlikely to prejudice the interests of the person under curatorship, the family court may grant permission that operates in lieu of the curator's consent at the request of the person under curatorship.\n",
      "(4) An act for which the person under curatorship must obtain the curator's consent is voidable if the person performs it without obtaining the curator's consent or a permission that operates in lieu of it. Based on that information, is the claim: \"A contract of guarantee concluded by a person under curatorship may not be rescinded in cases the consent of the curator is obtained.\" true or false?\n",
      "Answer: \n"
     ]
    },
    {
     "name": "stderr",
     "output_type": "stream",
     "text": [
      "  4%|████████▍                                                                                                                                                                                                                                 | 4/111 [00:04<02:06,  1.18s/it]"
     ]
    },
    {
     "name": "stdout",
     "output_type": "stream",
     "text": [
      "Article 15 (1) The family court may decide to commence an assistance in respect of a person whose capacity to appreciate their own situation is inadequate due to a mental disorder, at the request of the person in question, that person's spouse, that person's relative within the fourth degree of kinship, the guardian, the guardian's supervisor, the curator, the curator's supervisor, or a public prosecutor; provided, however, that this does not apply to a person with respect to whom there are grounds as prescribed in Article 7 or the main clause of Article 11.\n",
      "(2) The issuance of a decision for commencement of assistance at the request of a person other than the person in question requires the consent of the person in question. Based on that information, is the claim: \"The issuance of a decision for commencement of assistance at the request of a person other than the person in question requires the consent of the person in question unless the family court finds it to be suitable.\" true or false?\n",
      "Answer: False\n",
      "\n",
      "Article 17 (1) At the request of the person referred to in the main clause of Article 15, paragraph (1) or the assistant or assistant's supervisor, the family court may decide that the person under assistance must obtain the consent of the person's assistant in order to perform a specific juridical act; provided, however, that the acts that such a decision may establish as those for which the person must obtain the consent of the assistant are restricted to a part of the acts provided for in Article 13, paragraph (1).\n",
      "(2) In order to decide as referred to in the preceding paragraph at the request of a person other than the person in question requires the consent of the person in question.\n",
      "(3) If the assistant does not consent to an act for which the person under assistance must obtain the assistant's consent even though it is unlikely to prejudice the interests of the person under assistance, the family court may grant permission that operates in lieu of the assistant's consent, at the request of the person under assistance. Based on that information, is the claim: \"If the assistant does not consent to an act for which the person under assistance must obtain the assistant's consent even though it is unlikely to prejudice the interests of the person under assistance, the family court may grant permission that operates in lieu of the assistant's consent, at the request of the person under assistance.\" true or false?\n",
      "Answer: True\n",
      "\n",
      "Article 15\n",
      "(1) The family court may decide to commence an assistance in respect of a person whose capacity to appreciate their own situation is inadequate due to a mental disorder, at the request of the person in question, that person's spouse, that person's relative within the fourth degree of kinship, the guardian, the guardian's supervisor, the curator, the curator's supervisor, or a public prosecutor;provided, however, that this does not apply to a person with respect to whom there are grounds as prescribed in Article 7\n",
      "or the main clause of Article 11.\n",
      "(2) The issuance of a decision for commencement of assistance at the request of a person other than the person in question requires the consent of the person in question.\n",
      "(3) A decision for commencement of assistance must be made concurrent with a decision as referred to in Article 17, paragraph (1) or a decision as referred to in Article 876-9, paragraph (1). Based on that information, is the claim: \"Any person who has insufficient capacity to appreciate right or wrong due to any mental disability may not request a ruling of commencement of assistance in person.\" true or false?\n",
      "Answer: False\n",
      "\n",
      "Article 17\n",
      "(1) At the request of the person referred to in the main clause of Article 15, paragraph (1) or the assistant or assistant's supervisor, the family court may decide that the person under assistance must obtain the consent of the person's assistant in order to perform a specific juridical act;provided, however, that the acts that such a decision may establish as those for which the person must obtain the consent of the assistant are restricted to a part of the acts provided for in Article 13, paragraph (1).\n",
      "(2) In order to decide as referred to in the preceding paragraph at the request of a person other than the person in question requires the consent of the person in question.\n",
      "(3) If the assistant does not consent to an act for which the person under assistance must obtain the assistant's consent even though it is unlikely to prejudice the interests of the person under assistance, the family court may grant permission that operates in lieu of the assistant's consent, at the request of the person under assistance.\n",
      "(4) An act for which the person under assistance must obtain the assistant's consent is voidable if the person performs it without obtaining the assistance's consent or a permission that operates in lieu of it. Based on that information, is the claim: \"An act which requires the consent of the assistant may be rescinded if the person under assistance performed it without such consent or the permission of family court in lieu thereof.\" true or false?\n",
      "Answer: \n"
     ]
    },
    {
     "name": "stderr",
     "output_type": "stream",
     "text": [
      "100%|████████████████████████████████████████████████████████████████████████████████████████████████████████████████████████████████████████████████████████████████████████████████████████████████████████████████████████████████████████| 111/111 [01:11<00:00,  1.56it/s]\n"
     ]
    },
    {
     "name": "stdout",
     "output_type": "stream",
     "text": [
      "{'{{premise}}\\nQuestion: {{hypothesis}} True or False?': 0.8468468468468469, '{{premise}}\\nQuestion: {{hypothesis}} True or False? ': 0.8468468468468469, '{{premise}} Based on that information, is the claim: \"{{hypothesis}}\" true or false?': 0.8288288288288288}\n"
     ]
    },
    {
     "name": "stderr",
     "output_type": "stream",
     "text": [
      "  1%|██                                                                                                                                                                                                                                        | 1/111 [00:00<01:12,  1.52it/s]"
     ]
    },
    {
     "name": "stdout",
     "output_type": "stream",
     "text": [
      "EXAM\n",
      "1. Answer by yes or no.\n",
      "\n",
      "Document: Article 5\n",
      "(1) A minor must obtain the consent of the minor's legal representative to perform a juridical act;provided, however, that this does not apply to a juridical act for merely acquiring a right or being released from an obligation.\n",
      "(2) A juridical act in contravention of the provisions of the preceding paragraph is voidable.\n",
      "(3) Notwithstanding the provisions of paragraph (1), a minor may freely dispose of property that the legal representative has permitted the minor to dispose of for a specified purpose, to an extent that falls within the scope of that purpose. The same applies if the minor disposes of property that the legal representative has permitted the minor to dispose of without specifying a purpose.\n",
      "Question: A minor can freely dispose of assets the statutory agent permits the disposition without specifying the purpose.? \n",
      "Answer: Yes\n",
      "\n",
      "EXAM\n",
      "1. Answer by yes or no.\n",
      "\n",
      "Document: Article 5\n",
      "(1) A minor must obtain the consent of the minor's legal representative to perform a juridical act;provided, however, that this does not apply to a juridical act for merely acquiring a right or being released from an obligation.\n",
      "(2) A juridical act in contravention of the provisions of the preceding paragraph is voidable.\n",
      "(3) Notwithstanding the provisions of paragraph (1), a minor may freely dispose of property that the legal representative has permitted the minor to dispose of for a specified purpose, to an extent that falls within the scope of that purpose. The same applies if the minor disposes of property that the legal representative has permitted the minor to dispose of without specifying a purpose.\n",
      "Question: A is a nineteen-year-old male and subject to the parental authority of his parents.\n",
      "In the case where the person who had parental authority in relation to A permitted A to dispose of the money which A acquired by a part-time job of delivering newspapers, and A purchased a bicycle by the money which he acquired by the part-time job, even if A did not obtain the consent of the person who had parental authority in relation to him when he concluded the contract for sale, A may not rescind the contract for sale.? \n",
      "Answer: Yes\n",
      "\n",
      "EXAM\n",
      "1. Answer by yes or no.\n",
      "\n",
      "Document: Article 5\n",
      "(1) A minor must obtain the consent of the minor's legal representative to perform a juridical act;provided, however, that this does not apply to a juridical act for merely acquiring a right or being released from an obligation.\n",
      "(2) A juridical act in contravention of the provisions of the preceding paragraph is voidable.\n",
      "(3) Notwithstanding the provisions of paragraph (1), a minor may freely dispose of property that the legal representative has permitted the minor to dispose of for a specified purpose, to an extent that falls within the scope of that purpose. The same applies if the minor disposes of property that the legal representative has permitted the minor to dispose of without specifying a purpose.\n",
      "Question: A is a nineteen-year-old male and subject to the parental authority of his parents.\n",
      "In the case where A concluded a contract not in writing to the effect that A would make B a gift of 1,000,000 yen from the property which A had obtained by inheritance, even if A revoked the gift on the ground that it was a gift not in writing, if A did not obtain the consent of the person who had parental authority in relation to him with respect to the revocation of the gift, A may rescind the revocation of the gift.? \n",
      "Answer: No\n",
      "\n",
      "EXAM\n",
      "1. Answer by yes or no.\n",
      "\n",
      "Document: Article 5\n",
      "(1) A minor must obtain the consent of the minor's legal representative to perform a juridical act;provided, however, that this does not apply to a juridical act for merely acquiring a right or being released from an obligation.\n",
      "(2) A juridical act in contravention of the provisions of the preceding paragraph is voidable.\n",
      "(3) Notwithstanding the provisions of paragraph (1), a minor may freely dispose of property that the legal representative has permitted the minor to dispose of for a specified purpose, to an extent that falls within the scope of that purpose. The same applies if the minor disposes of property that the legal representative has permitted the minor to dispose of without specifying a purpose.\n",
      "Question: A contract of sales concluded by a minor may not be rescinded if it relates to daily life, even in cases the consent of the parental authority is not obtained.? \n",
      "Answer: \n"
     ]
    },
    {
     "name": "stderr",
     "output_type": "stream",
     "text": [
      "  2%|████▏                                                                                                                                                                                                                                     | 2/111 [00:01<00:54,  1.99it/s]"
     ]
    },
    {
     "name": "stdout",
     "output_type": "stream",
     "text": [
      "EXAM\n",
      "1. Answer by yes or no.\n",
      "\n",
      "Document: Article 9 A juridical act performed by an adult ward is voidable;provided, however, that this does not apply to the purchase of daily necessities or to any other act involved in day-to-day life.\n",
      "Question: If an adult ward acquires land by gift, the guardian of the adult ward may not rescind the gift.? \n",
      "Answer: No\n",
      "\n",
      "EXAM\n",
      "1. Answer by yes or no.\n",
      "\n",
      "Document: Article 9\n",
      "A juridical act performed by an adult ward is voidable;provided, however, that this does not apply to the purchase of daily necessities or to any other act involved in day-to-day life.\n",
      "Question: The purchase of daily household items may not be rescinded, even if an adult ward performed the act.? \n",
      "Answer: Yes\n",
      "\n",
      "EXAM\n",
      "1. Answer by yes or no.\n",
      "\n",
      "Document: Article 9\n",
      "A juridical act performed by an adult ward is voidable;provided, however, that this does not apply to the purchase of daily necessities or to any other act involved in day-to-day life.\n",
      "Question: In cases where an adult ward receives the gift of a building, the adult ward cannot rescindthe relevant gift contract.? \n",
      "Answer: No\n",
      "\n",
      "EXAM\n",
      "1. Answer by yes or no.\n",
      "\n",
      "Document: Article 9\n",
      "A juridical act performed by an adult ward is voidable;provided, however, that this does not apply to the purchase of daily necessities or to any other act involved in day-to-day life.\n",
      "Question: A contract of sales concluded by an adult ward may be rescinded except relating to daily life, even in cases the consent of the adult guardian has been obtained, the contract? \n",
      "Answer: \n"
     ]
    },
    {
     "name": "stderr",
     "output_type": "stream",
     "text": [
      "  3%|██████▎                                                                                                                                                                                                                                   | 3/111 [00:03<02:23,  1.33s/it]"
     ]
    },
    {
     "name": "stdout",
     "output_type": "stream",
     "text": [
      "EXAM\n",
      "1. Answer by yes or no.\n",
      "\n",
      "Document: Article 13\n",
      "(1) A person under curatorship must obtain the consent of the curator in order to perform any of the following acts;provided, however, that this does not apply to an act provided for in the proviso of Article 9:\n",
      "(i) receiving or using any property producing civil fruit;\n",
      "(ii) borrowing money or guaranteeing an obligation;\n",
      "(iii) performing an act with the purpose of acquiring or losing any right regarding immovables or other significant property;\n",
      "(iv) suing any procedural act;\n",
      "(v) giving a gift, reaching a settlement, or entering into an arbitration agreement (meaning an arbitration agreement as provided in Article 2, paragraph (1) of the Arbitration Act (Act No. 138 of 2003));\n",
      "(vi) accepting or renouncing a succession or dividing an estate;\n",
      "(vii) refusing an offer of a gift, renouncing a legacy, accepting an offer of gift with burden, or accepting a legacy with burden;\n",
      "(viii) constructing a new building, renovating, expanding, or undertaking major repairs;\n",
      "(ix) granting a lease for a term that exceeds the period set forth in Article 602; or\n",
      "(x) performing any of the acts set forth in the preceding items as a legal representative of a person with qualified legal capacity (meaning a minor, adult ward, or person under curatorship or a person under assistance who is subject to a decision as referred to in Article 17, paragraph (1); the same applies hereinafter).\n",
      "(2) At the request of a person as referred to in the main clause of Article 11\n",
      "or the curator or curator's supervisor, the family court may decide that the person under curatorship must also obtain the consent of the curator before performing an act other than those set forth in each of the items of the preceding paragraph;provided, however, that this does not apply to an act provided for in the proviso to Article 9.\n",
      "(3) If the curator does not consent to an act for which the person under curatorship must obtain the curator's consent even though it is unlikely to prejudice the interests of the person under curatorship, the family court may grant permission that operates in lieu of the curator's consent at the request of the person under curatorship.\n",
      "(4) An act for which the person under curatorship must obtain the curator's consent is voidable if the person performs it without obtaining the curator's consent or a permission that operates in lieu of it.\n",
      "Question: With respect to any act which requires the consent of the curator, if the curator does not give consent in cases where the interest of the person under curatorship is unlikely to be prejudiced, the person under curatorship may make a claim to the family court for a permission in lieu of the consent of the curator.? \n",
      "Answer: Yes\n",
      "\n",
      "EXAM\n",
      "1. Answer by yes or no.\n",
      "\n",
      "Document: Article 13\n",
      "(1) A person under curatorship must obtain the consent of the curator in order to perform any of the following acts;provided, however, that this does not apply to an act provided for in the proviso of Article 9:\n",
      "(i) receiving or using any property producing civil fruit;\n",
      "(ii) borrowing money or guaranteeing an obligation;\n",
      "(iii) performing an act with the purpose of acquiring or losing any right regarding immovables or other significant property;\n",
      "(iv) suing any procedural act;\n",
      "(v) giving a gift, reaching a settlement, or entering into an arbitration agreement (meaning an arbitration agreement as provided in Article 2, paragraph (1) of the Arbitration Act (Act No. 138 of 2003));\n",
      "(vi) accepting or renouncing a succession or dividing an estate;\n",
      "(vii) refusing an offer of a gift, renouncing a legacy, accepting an offer of gift with burden, or accepting a legacy with burden;\n",
      "(viii) constructing a new building, renovating, expanding, or undertaking major repairs;\n",
      "(ix) granting a lease for a term that exceeds the period set forth in Article 602; or\n",
      "(x) performing any of the acts set forth in the preceding items as a legal representative of a person with qualified legal capacity (meaning a minor, adult ward, or person under curatorship or a person under assistance who is subject to a decision as referred to in Article 17, paragraph (1); the same applies hereinafter).\n",
      "(2) At the request of a person as referred to in the main clause of Article 11\n",
      "or the curator or curator's supervisor, the family court may decide that the person under curatorship must also obtain the consent of the curator before performing an act other than those set forth in each of the items of the preceding paragraph;provided, however, that this does not apply to an act provided for in the proviso to Article 9.\n",
      "(3) If the curator does not consent to an act for which the person under curatorship must obtain the curator's consent even though it is unlikely to prejudice the interests of the person under curatorship, the family court may grant permission that operates in lieu of the curator's consent at the request of the person under curatorship.\n",
      "(4) An act for which the person under curatorship must obtain the curator's consent is voidable if the person performs it without obtaining the curator's consent or a permission that operates in lieu of it.\n",
      "Article 120\n",
      "(1) An act that is voidable on the grounds of the qualified legal capacity to act of the person who did the act may be rescinded only by the person with qualified legal capacity (in the case of an act performed by the person as a legal representative of another person with limited capacity, including that other person with limited capacity), or an agent or successor thereof, or a person who has the authority to give consent thereto.\n",
      "(2) An act that is voidable on the grounds of a mistake, fraud or duress may be rescinded only by the person who made the defective manifestation of intention, or an agent or successor thereof.\n",
      "Question: In the case where a person under curatorship obtains the consent of his/her curator to conclude the contract of guarantee before concluding such contract, he/she may not cancel concluding such contract by self-determination.? \n",
      "Answer: No\n",
      "\n",
      "EXAM\n",
      "1. Answer by yes or no.\n",
      "\n",
      "Document: Article 13\n",
      "(1) A person under curatorship must obtain the consent of the curator in order to perform any of the following acts;provided, however, that this does not apply to an act provided for in the proviso of Article 9:\n",
      "(i) receiving or using any property producing civil fruit;\n",
      "(ii) borrowing money or guaranteeing an obligation;\n",
      "(iii) performing an act with the purpose of acquiring or losing any right regarding immovables or other significant property;\n",
      "(iv) suing any procedural act;\n",
      "(v) giving a gift, reaching a settlement, or entering into an arbitration agreement (meaning an arbitration agreement as provided in Article 2, paragraph (1) of the Arbitration Act (Act No. 138 of 2003));\n",
      "(vi) accepting or renouncing a succession or dividing an estate;\n",
      "(vii) refusing an offer of a gift, renouncing a legacy, accepting an offer of gift with burden, or accepting a legacy with burden;\n",
      "(viii) constructing a new building, renovating, expanding, or undertaking major repairs;\n",
      "(ix) granting a lease for a term that exceeds the period set forth in Article 602; or\n",
      "(x) performing any of the acts set forth in the preceding items as a legal representative of a person with qualified legal capacity (meaning a minor, adult ward, or person under curatorship or a person under assistance who is subject to a decision as referred to in Article 17, paragraph (1); the same applies hereinafter).\n",
      "(2) At the request of a person as referred to in the main clause of Article 11\n",
      "or the curator or curator's supervisor, the family court may decide that the person under curatorship must also obtain the consent of the curator before performing an act other than those set forth in each of the items of the preceding paragraph;provided, however, that this does not apply to an act provided for in the proviso to Article 9.\n",
      "(3) If the curator does not consent to an act for which the person under curatorship must obtain the curator's consent even though it is unlikely to prejudice the interests of the person under curatorship, the family court may grant permission that operates in lieu of the curator's consent at the request of the person under curatorship.\n",
      "(4) An act for which the person under curatorship must obtain the curator's consent is voidable if the person performs it without obtaining the curator's consent or a permission that operates in lieu of it.\n",
      "Article 120\n",
      "(1) An act that is voidable on the grounds of the qualified legal capacity to act of the person who did the act may be rescinded only by the person with qualified legal capacity (in the case of an act performed by the person as a legal representative of another person with limited capacity, including that other person with limited capacity), or an agent or successor thereof, or a person who has the authority to give consent thereto.\n",
      "(2) An act that is voidable on the grounds of a mistake, fraud or duress may be rescinded only by the person who made the defective manifestation of intention, or an agent or successor thereof.\n",
      "Article 122\n",
      "A voidable act may not be rescinded after the person prescribed in Article 120\n",
      "ratifies it.\n",
      "Question: If a person under curatorship performs, without getting the consent, an act that requires  getting consent from his/her curator, the curator may ratify that act, but may not rescind that act.? \n",
      "Answer: No\n",
      "\n",
      "EXAM\n",
      "1. Answer by yes or no.\n",
      "\n",
      "Document: Article 13\n",
      "(1) A person under curatorship must obtain the consent of the curator in order to perform any of the following acts;provided, however, that this does not apply to an act provided for in the proviso of Article 9:\n",
      "(i) receiving or using any property producing civil fruit;\n",
      "(ii) borrowing money or guaranteeing an obligation;\n",
      "(iii) performing an act with the purpose of acquiring or losing any right regarding immovables or other significant property;\n",
      "(iv) suing any procedural act;\n",
      "(v) giving a gift, reaching a settlement, or entering into an arbitration agreement (meaning an arbitration agreement as provided in Article 2, paragraph (1) of the Arbitration Act (Act No. 138 of 2003));\n",
      "(vi) accepting or renouncing a succession or dividing an estate;\n",
      "(vii) refusing an offer of a gift, renouncing a legacy, accepting an offer of gift with burden, or accepting a legacy with burden;\n",
      "(viii) constructing a new building, renovating, expanding, or undertaking major repairs;\n",
      "(ix) granting a lease for a term that exceeds the period set forth in Article 602; or\n",
      "(x) performing any of the acts set forth in the preceding items as a legal representative of a person with qualified legal capacity (meaning a minor, adult ward, or person under curatorship or a person under assistance who is subject to a decision as referred to in Article 17, paragraph (1); the same applies hereinafter).\n",
      "(2) At the request of a person as referred to in the main clause of Article 11\n",
      "or the curator or curator's supervisor, the family court may decide that the person under curatorship must also obtain the consent of the curator before performing an act other than those set forth in each of the items of the preceding paragraph;provided, however, that this does not apply to an act provided for in the proviso to Article 9.\n",
      "(3) If the curator does not consent to an act for which the person under curatorship must obtain the curator's consent even though it is unlikely to prejudice the interests of the person under curatorship, the family court may grant permission that operates in lieu of the curator's consent at the request of the person under curatorship.\n",
      "(4) An act for which the person under curatorship must obtain the curator's consent is voidable if the person performs it without obtaining the curator's consent or a permission that operates in lieu of it.\n",
      "Question: A contract of guarantee concluded by a person under curatorship may not be rescinded in cases the consent of the curator is obtained.? \n",
      "Answer: \n"
     ]
    },
    {
     "name": "stderr",
     "output_type": "stream",
     "text": [
      "  4%|████████▍                                                                                                                                                                                                                                 | 4/111 [00:04<01:56,  1.08s/it]"
     ]
    },
    {
     "name": "stdout",
     "output_type": "stream",
     "text": [
      "EXAM\n",
      "1. Answer by yes or no.\n",
      "\n",
      "Document: Article 15 (1) The family court may decide to commence an assistance in respect of a person whose capacity to appreciate their own situation is inadequate due to a mental disorder, at the request of the person in question, that person's spouse, that person's relative within the fourth degree of kinship, the guardian, the guardian's supervisor, the curator, the curator's supervisor, or a public prosecutor; provided, however, that this does not apply to a person with respect to whom there are grounds as prescribed in Article 7 or the main clause of Article 11.\n",
      "(2) The issuance of a decision for commencement of assistance at the request of a person other than the person in question requires the consent of the person in question.\n",
      "Question: The issuance of a decision for commencement of assistance at the request of a person other than the person in question requires the consent of the person in question unless the family court finds it to be suitable.? \n",
      "Answer: No\n",
      "\n",
      "EXAM\n",
      "1. Answer by yes or no.\n",
      "\n",
      "Document: Article 17 (1) At the request of the person referred to in the main clause of Article 15, paragraph (1) or the assistant or assistant's supervisor, the family court may decide that the person under assistance must obtain the consent of the person's assistant in order to perform a specific juridical act; provided, however, that the acts that such a decision may establish as those for which the person must obtain the consent of the assistant are restricted to a part of the acts provided for in Article 13, paragraph (1).\n",
      "(2) In order to decide as referred to in the preceding paragraph at the request of a person other than the person in question requires the consent of the person in question.\n",
      "(3) If the assistant does not consent to an act for which the person under assistance must obtain the assistant's consent even though it is unlikely to prejudice the interests of the person under assistance, the family court may grant permission that operates in lieu of the assistant's consent, at the request of the person under assistance.\n",
      "Question: If the assistant does not consent to an act for which the person under assistance must obtain the assistant's consent even though it is unlikely to prejudice the interests of the person under assistance, the family court may grant permission that operates in lieu of the assistant's consent, at the request of the person under assistance.? \n",
      "Answer: Yes\n",
      "\n",
      "EXAM\n",
      "1. Answer by yes or no.\n",
      "\n",
      "Document: Article 15\n",
      "(1) The family court may decide to commence an assistance in respect of a person whose capacity to appreciate their own situation is inadequate due to a mental disorder, at the request of the person in question, that person's spouse, that person's relative within the fourth degree of kinship, the guardian, the guardian's supervisor, the curator, the curator's supervisor, or a public prosecutor;provided, however, that this does not apply to a person with respect to whom there are grounds as prescribed in Article 7\n",
      "or the main clause of Article 11.\n",
      "(2) The issuance of a decision for commencement of assistance at the request of a person other than the person in question requires the consent of the person in question.\n",
      "(3) A decision for commencement of assistance must be made concurrent with a decision as referred to in Article 17, paragraph (1) or a decision as referred to in Article 876-9, paragraph (1).\n",
      "Question: Any person who has insufficient capacity to appreciate right or wrong due to any mental disability may not request a ruling of commencement of assistance in person.? \n",
      "Answer: No\n",
      "\n",
      "EXAM\n",
      "1. Answer by yes or no.\n",
      "\n",
      "Document: Article 17\n",
      "(1) At the request of the person referred to in the main clause of Article 15, paragraph (1) or the assistant or assistant's supervisor, the family court may decide that the person under assistance must obtain the consent of the person's assistant in order to perform a specific juridical act;provided, however, that the acts that such a decision may establish as those for which the person must obtain the consent of the assistant are restricted to a part of the acts provided for in Article 13, paragraph (1).\n",
      "(2) In order to decide as referred to in the preceding paragraph at the request of a person other than the person in question requires the consent of the person in question.\n",
      "(3) If the assistant does not consent to an act for which the person under assistance must obtain the assistant's consent even though it is unlikely to prejudice the interests of the person under assistance, the family court may grant permission that operates in lieu of the assistant's consent, at the request of the person under assistance.\n",
      "(4) An act for which the person under assistance must obtain the assistant's consent is voidable if the person performs it without obtaining the assistance's consent or a permission that operates in lieu of it.\n",
      "Question: An act which requires the consent of the assistant may be rescinded if the person under assistance performed it without such consent or the permission of family court in lieu thereof.? \n",
      "Answer: \n"
     ]
    },
    {
     "name": "stderr",
     "output_type": "stream",
     "text": [
      "100%|████████████████████████████████████████████████████████████████████████████████████████████████████████████████████████████████████████████████████████████████████████████████████████████████████████████████████████████████████████| 111/111 [01:01<00:00,  1.82it/s]\n"
     ]
    },
    {
     "name": "stdout",
     "output_type": "stream",
     "text": [
      "{'{{premise}}\\nQuestion: {{hypothesis}} True or False?': 0.8468468468468469, '{{premise}}\\nQuestion: {{hypothesis}} True or False? ': 0.8468468468468469, '{{premise}} Based on that information, is the claim: \"{{hypothesis}}\" true or false?': 0.8288288288288288, 'EXAM\\n1. Answer by yes or no.\\n\\nDocument: {{premise}}\\nQuestion: {{hypothesis}}? ': 0.8468468468468469}\n"
     ]
    },
    {
     "name": "stderr",
     "output_type": "stream",
     "text": [
      "  1%|██                                                                                                                                                                                                                                        | 1/111 [00:00<01:10,  1.55it/s]"
     ]
    },
    {
     "name": "stdout",
     "output_type": "stream",
     "text": [
      "Article 5\n",
      "(1) A minor must obtain the consent of the minor's legal representative to perform a juridical act;provided, however, that this does not apply to a juridical act for merely acquiring a right or being released from an obligation.\n",
      "(2) A juridical act in contravention of the provisions of the preceding paragraph is voidable.\n",
      "(3) Notwithstanding the provisions of paragraph (1), a minor may freely dispose of property that the legal representative has permitted the minor to dispose of for a specified purpose, to an extent that falls within the scope of that purpose. The same applies if the minor disposes of property that the legal representative has permitted the minor to dispose of without specifying a purpose.\n",
      "Based on the previous passage, A minor can freely dispose of assets the statutory agent permits the disposition without specifying the purpose.? \n",
      "Answer: Yes\n",
      "\n",
      "Article 5\n",
      "(1) A minor must obtain the consent of the minor's legal representative to perform a juridical act;provided, however, that this does not apply to a juridical act for merely acquiring a right or being released from an obligation.\n",
      "(2) A juridical act in contravention of the provisions of the preceding paragraph is voidable.\n",
      "(3) Notwithstanding the provisions of paragraph (1), a minor may freely dispose of property that the legal representative has permitted the minor to dispose of for a specified purpose, to an extent that falls within the scope of that purpose. The same applies if the minor disposes of property that the legal representative has permitted the minor to dispose of without specifying a purpose.\n",
      "Based on the previous passage, A is a nineteen-year-old male and subject to the parental authority of his parents.\n",
      "In the case where the person who had parental authority in relation to A permitted A to dispose of the money which A acquired by a part-time job of delivering newspapers, and A purchased a bicycle by the money which he acquired by the part-time job, even if A did not obtain the consent of the person who had parental authority in relation to him when he concluded the contract for sale, A may not rescind the contract for sale.? \n",
      "Answer: Yes\n",
      "\n",
      "Article 5\n",
      "(1) A minor must obtain the consent of the minor's legal representative to perform a juridical act;provided, however, that this does not apply to a juridical act for merely acquiring a right or being released from an obligation.\n",
      "(2) A juridical act in contravention of the provisions of the preceding paragraph is voidable.\n",
      "(3) Notwithstanding the provisions of paragraph (1), a minor may freely dispose of property that the legal representative has permitted the minor to dispose of for a specified purpose, to an extent that falls within the scope of that purpose. The same applies if the minor disposes of property that the legal representative has permitted the minor to dispose of without specifying a purpose.\n",
      "Based on the previous passage, A is a nineteen-year-old male and subject to the parental authority of his parents.\n",
      "In the case where A concluded a contract not in writing to the effect that A would make B a gift of 1,000,000 yen from the property which A had obtained by inheritance, even if A revoked the gift on the ground that it was a gift not in writing, if A did not obtain the consent of the person who had parental authority in relation to him with respect to the revocation of the gift, A may rescind the revocation of the gift.? \n",
      "Answer: No\n",
      "\n",
      "Article 5\n",
      "(1) A minor must obtain the consent of the minor's legal representative to perform a juridical act;provided, however, that this does not apply to a juridical act for merely acquiring a right or being released from an obligation.\n",
      "(2) A juridical act in contravention of the provisions of the preceding paragraph is voidable.\n",
      "(3) Notwithstanding the provisions of paragraph (1), a minor may freely dispose of property that the legal representative has permitted the minor to dispose of for a specified purpose, to an extent that falls within the scope of that purpose. The same applies if the minor disposes of property that the legal representative has permitted the minor to dispose of without specifying a purpose.\n",
      "Based on the previous passage, A contract of sales concluded by a minor may not be rescinded if it relates to daily life, even in cases the consent of the parental authority is not obtained.? \n",
      "Answer: \n"
     ]
    },
    {
     "name": "stderr",
     "output_type": "stream",
     "text": [
      "  2%|████▏                                                                                                                                                                                                                                     | 2/111 [00:01<00:53,  2.05it/s]"
     ]
    },
    {
     "name": "stdout",
     "output_type": "stream",
     "text": [
      "Article 9 A juridical act performed by an adult ward is voidable;provided, however, that this does not apply to the purchase of daily necessities or to any other act involved in day-to-day life.\n",
      "Based on the previous passage, If an adult ward acquires land by gift, the guardian of the adult ward may not rescind the gift.? \n",
      "Answer: No\n",
      "\n",
      "Article 9\n",
      "A juridical act performed by an adult ward is voidable;provided, however, that this does not apply to the purchase of daily necessities or to any other act involved in day-to-day life.\n",
      "Based on the previous passage, The purchase of daily household items may not be rescinded, even if an adult ward performed the act.? \n",
      "Answer: Yes\n",
      "\n",
      "Article 9\n",
      "A juridical act performed by an adult ward is voidable;provided, however, that this does not apply to the purchase of daily necessities or to any other act involved in day-to-day life.\n",
      "Based on the previous passage, In cases where an adult ward receives the gift of a building, the adult ward cannot rescindthe relevant gift contract.? \n",
      "Answer: No\n",
      "\n",
      "Article 9\n",
      "A juridical act performed by an adult ward is voidable;provided, however, that this does not apply to the purchase of daily necessities or to any other act involved in day-to-day life.\n",
      "Based on the previous passage, A contract of sales concluded by an adult ward may be rescinded except relating to daily life, even in cases the consent of the adult guardian has been obtained, the contract? \n",
      "Answer: \n"
     ]
    },
    {
     "name": "stderr",
     "output_type": "stream",
     "text": [
      "100%|████████████████████████████████████████████████████████████████████████████████████████████████████████████████████████████████████████████████████████████████████████████████████████████████████████████████████████████████████████| 111/111 [00:59<00:00,  1.87it/s]\n"
     ]
    },
    {
     "name": "stdout",
     "output_type": "stream",
     "text": [
      "{'{{premise}}\\nQuestion: {{hypothesis}} True or False?': 0.8468468468468469, '{{premise}}\\nQuestion: {{hypothesis}} True or False? ': 0.8468468468468469, '{{premise}} Based on that information, is the claim: \"{{hypothesis}}\" true or false?': 0.8288288288288288, 'EXAM\\n1. Answer by yes or no.\\n\\nDocument: {{premise}}\\nQuestion: {{hypothesis}}? ': 0.8468468468468469, '{{premise}}\\nBased on the previous passage, {{hypothesis}}? ': 0.8468468468468469}\n"
     ]
    },
    {
     "name": "stderr",
     "output_type": "stream",
     "text": [
      "  1%|██                                                                                                                                                                                                                                        | 1/111 [00:00<01:13,  1.50it/s]"
     ]
    },
    {
     "name": "stdout",
     "output_type": "stream",
     "text": [
      "Premise: Article 5\n",
      "(1) A minor must obtain the consent of the minor's legal representative to perform a juridical act;provided, however, that this does not apply to a juridical act for merely acquiring a right or being released from an obligation.\n",
      "(2) A juridical act in contravention of the provisions of the preceding paragraph is voidable.\n",
      "(3) Notwithstanding the provisions of paragraph (1), a minor may freely dispose of property that the legal representative has permitted the minor to dispose of for a specified purpose, to an extent that falls within the scope of that purpose. The same applies if the minor disposes of property that the legal representative has permitted the minor to dispose of without specifying a purpose.\n",
      "\n",
      "Hypothesis: A minor can freely dispose of assets the statutory agent permits the disposition without specifying the purpose.\n",
      "\n",
      "Does the premise entail the hypothesis? Yes or no \n",
      "Answer: Yes\n",
      "\n",
      "Premise: Article 5\n",
      "(1) A minor must obtain the consent of the minor's legal representative to perform a juridical act;provided, however, that this does not apply to a juridical act for merely acquiring a right or being released from an obligation.\n",
      "(2) A juridical act in contravention of the provisions of the preceding paragraph is voidable.\n",
      "(3) Notwithstanding the provisions of paragraph (1), a minor may freely dispose of property that the legal representative has permitted the minor to dispose of for a specified purpose, to an extent that falls within the scope of that purpose. The same applies if the minor disposes of property that the legal representative has permitted the minor to dispose of without specifying a purpose.\n",
      "\n",
      "Hypothesis: A is a nineteen-year-old male and subject to the parental authority of his parents.\n",
      "In the case where the person who had parental authority in relation to A permitted A to dispose of the money which A acquired by a part-time job of delivering newspapers, and A purchased a bicycle by the money which he acquired by the part-time job, even if A did not obtain the consent of the person who had parental authority in relation to him when he concluded the contract for sale, A may not rescind the contract for sale.\n",
      "\n",
      "Does the premise entail the hypothesis? Yes or no \n",
      "Answer: Yes\n",
      "\n",
      "Premise: Article 5\n",
      "(1) A minor must obtain the consent of the minor's legal representative to perform a juridical act;provided, however, that this does not apply to a juridical act for merely acquiring a right or being released from an obligation.\n",
      "(2) A juridical act in contravention of the provisions of the preceding paragraph is voidable.\n",
      "(3) Notwithstanding the provisions of paragraph (1), a minor may freely dispose of property that the legal representative has permitted the minor to dispose of for a specified purpose, to an extent that falls within the scope of that purpose. The same applies if the minor disposes of property that the legal representative has permitted the minor to dispose of without specifying a purpose.\n",
      "\n",
      "Hypothesis: A is a nineteen-year-old male and subject to the parental authority of his parents.\n",
      "In the case where A concluded a contract not in writing to the effect that A would make B a gift of 1,000,000 yen from the property which A had obtained by inheritance, even if A revoked the gift on the ground that it was a gift not in writing, if A did not obtain the consent of the person who had parental authority in relation to him with respect to the revocation of the gift, A may rescind the revocation of the gift.\n",
      "\n",
      "Does the premise entail the hypothesis? Yes or no \n",
      "Answer: No\n",
      "\n",
      "Premise: Article 5\n",
      "(1) A minor must obtain the consent of the minor's legal representative to perform a juridical act;provided, however, that this does not apply to a juridical act for merely acquiring a right or being released from an obligation.\n",
      "(2) A juridical act in contravention of the provisions of the preceding paragraph is voidable.\n",
      "(3) Notwithstanding the provisions of paragraph (1), a minor may freely dispose of property that the legal representative has permitted the minor to dispose of for a specified purpose, to an extent that falls within the scope of that purpose. The same applies if the minor disposes of property that the legal representative has permitted the minor to dispose of without specifying a purpose.\n",
      "\n",
      "Hypothesis: A contract of sales concluded by a minor may not be rescinded if it relates to daily life, even in cases the consent of the parental authority is not obtained.\n",
      "\n",
      "Does the premise entail the hypothesis? Yes or no \n",
      "Answer: \n"
     ]
    },
    {
     "name": "stderr",
     "output_type": "stream",
     "text": [
      "100%|████████████████████████████████████████████████████████████████████████████████████████████████████████████████████████████████████████████████████████████████████████████████████████████████████████████████████████████████████████| 111/111 [01:01<00:00,  1.79it/s]\n"
     ]
    },
    {
     "name": "stdout",
     "output_type": "stream",
     "text": [
      "{'{{premise}}\\nQuestion: {{hypothesis}} True or False?': 0.8468468468468469, '{{premise}}\\nQuestion: {{hypothesis}} True or False? ': 0.8468468468468469, '{{premise}} Based on that information, is the claim: \"{{hypothesis}}\" true or false?': 0.8288288288288288, 'EXAM\\n1. Answer by yes or no.\\n\\nDocument: {{premise}}\\nQuestion: {{hypothesis}}? ': 0.8468468468468469, '{{premise}}\\nBased on the previous passage, {{hypothesis}}? ': 0.8468468468468469, 'Premise: {{premise}}\\n\\nHypothesis: {{hypothesis}}\\n\\nDoes the premise entail the hypothesis? Yes or no ': 0.7567567567567568}\n"
     ]
    },
    {
     "name": "stderr",
     "output_type": "stream",
     "text": [
      "  1%|██                                                                                                                                                                                                                                        | 1/111 [00:00<01:14,  1.47it/s]"
     ]
    },
    {
     "name": "stdout",
     "output_type": "stream",
     "text": [
      "Premise: Article 5\n",
      "(1) A minor must obtain the consent of the minor's legal representative to perform a juridical act;provided, however, that this does not apply to a juridical act for merely acquiring a right or being released from an obligation.\n",
      "(2) A juridical act in contravention of the provisions of the preceding paragraph is voidable.\n",
      "(3) Notwithstanding the provisions of paragraph (1), a minor may freely dispose of property that the legal representative has permitted the minor to dispose of for a specified purpose, to an extent that falls within the scope of that purpose. The same applies if the minor disposes of property that the legal representative has permitted the minor to dispose of without specifying a purpose.\n",
      "Hypothesis: A minor can freely dispose of assets the statutory agent permits the disposition without specifying the purpose.\n",
      "Is the hypothesis entailed by the premise? Yes or no \n",
      "Answer: Yes\n",
      "\n",
      "Premise: Article 5\n",
      "(1) A minor must obtain the consent of the minor's legal representative to perform a juridical act;provided, however, that this does not apply to a juridical act for merely acquiring a right or being released from an obligation.\n",
      "(2) A juridical act in contravention of the provisions of the preceding paragraph is voidable.\n",
      "(3) Notwithstanding the provisions of paragraph (1), a minor may freely dispose of property that the legal representative has permitted the minor to dispose of for a specified purpose, to an extent that falls within the scope of that purpose. The same applies if the minor disposes of property that the legal representative has permitted the minor to dispose of without specifying a purpose.\n",
      "Hypothesis: A is a nineteen-year-old male and subject to the parental authority of his parents.\n",
      "In the case where the person who had parental authority in relation to A permitted A to dispose of the money which A acquired by a part-time job of delivering newspapers, and A purchased a bicycle by the money which he acquired by the part-time job, even if A did not obtain the consent of the person who had parental authority in relation to him when he concluded the contract for sale, A may not rescind the contract for sale.\n",
      "Is the hypothesis entailed by the premise? Yes or no \n",
      "Answer: Yes\n",
      "\n",
      "Premise: Article 5\n",
      "(1) A minor must obtain the consent of the minor's legal representative to perform a juridical act;provided, however, that this does not apply to a juridical act for merely acquiring a right or being released from an obligation.\n",
      "(2) A juridical act in contravention of the provisions of the preceding paragraph is voidable.\n",
      "(3) Notwithstanding the provisions of paragraph (1), a minor may freely dispose of property that the legal representative has permitted the minor to dispose of for a specified purpose, to an extent that falls within the scope of that purpose. The same applies if the minor disposes of property that the legal representative has permitted the minor to dispose of without specifying a purpose.\n",
      "Hypothesis: A is a nineteen-year-old male and subject to the parental authority of his parents.\n",
      "In the case where A concluded a contract not in writing to the effect that A would make B a gift of 1,000,000 yen from the property which A had obtained by inheritance, even if A revoked the gift on the ground that it was a gift not in writing, if A did not obtain the consent of the person who had parental authority in relation to him with respect to the revocation of the gift, A may rescind the revocation of the gift.\n",
      "Is the hypothesis entailed by the premise? Yes or no \n",
      "Answer: No\n",
      "\n",
      "Premise: Article 5\n",
      "(1) A minor must obtain the consent of the minor's legal representative to perform a juridical act;provided, however, that this does not apply to a juridical act for merely acquiring a right or being released from an obligation.\n",
      "(2) A juridical act in contravention of the provisions of the preceding paragraph is voidable.\n",
      "(3) Notwithstanding the provisions of paragraph (1), a minor may freely dispose of property that the legal representative has permitted the minor to dispose of for a specified purpose, to an extent that falls within the scope of that purpose. The same applies if the minor disposes of property that the legal representative has permitted the minor to dispose of without specifying a purpose.\n",
      "Hypothesis: A contract of sales concluded by a minor may not be rescinded if it relates to daily life, even in cases the consent of the parental authority is not obtained.\n",
      "Is the hypothesis entailed by the premise? Yes or no \n",
      "Answer: \n"
     ]
    },
    {
     "name": "stderr",
     "output_type": "stream",
     "text": [
      "  2%|████▏                                                                                                                                                                                                                                     | 2/111 [00:01<00:57,  1.89it/s]"
     ]
    },
    {
     "name": "stdout",
     "output_type": "stream",
     "text": [
      "Premise: Article 9 A juridical act performed by an adult ward is voidable;provided, however, that this does not apply to the purchase of daily necessities or to any other act involved in day-to-day life.\n",
      "Hypothesis: If an adult ward acquires land by gift, the guardian of the adult ward may not rescind the gift.\n",
      "Is the hypothesis entailed by the premise? Yes or no \n",
      "Answer: No\n",
      "\n",
      "Premise: Article 9\n",
      "A juridical act performed by an adult ward is voidable;provided, however, that this does not apply to the purchase of daily necessities or to any other act involved in day-to-day life.\n",
      "Hypothesis: The purchase of daily household items may not be rescinded, even if an adult ward performed the act.\n",
      "Is the hypothesis entailed by the premise? Yes or no \n",
      "Answer: Yes\n",
      "\n",
      "Premise: Article 9\n",
      "A juridical act performed by an adult ward is voidable;provided, however, that this does not apply to the purchase of daily necessities or to any other act involved in day-to-day life.\n",
      "Hypothesis: In cases where an adult ward receives the gift of a building, the adult ward cannot rescindthe relevant gift contract.\n",
      "Is the hypothesis entailed by the premise? Yes or no \n",
      "Answer: No\n",
      "\n",
      "Premise: Article 9\n",
      "A juridical act performed by an adult ward is voidable;provided, however, that this does not apply to the purchase of daily necessities or to any other act involved in day-to-day life.\n",
      "Hypothesis: A contract of sales concluded by an adult ward may be rescinded except relating to daily life, even in cases the consent of the adult guardian has been obtained, the contract\n",
      "Is the hypothesis entailed by the premise? Yes or no \n",
      "Answer: \n"
     ]
    },
    {
     "name": "stderr",
     "output_type": "stream",
     "text": [
      "  3%|██████▎                                                                                                                                                                                                                                   | 3/111 [00:03<02:26,  1.36s/it]"
     ]
    },
    {
     "name": "stdout",
     "output_type": "stream",
     "text": [
      "Premise: Article 13\n",
      "(1) A person under curatorship must obtain the consent of the curator in order to perform any of the following acts;provided, however, that this does not apply to an act provided for in the proviso of Article 9:\n",
      "(i) receiving or using any property producing civil fruit;\n",
      "(ii) borrowing money or guaranteeing an obligation;\n",
      "(iii) performing an act with the purpose of acquiring or losing any right regarding immovables or other significant property;\n",
      "(iv) suing any procedural act;\n",
      "(v) giving a gift, reaching a settlement, or entering into an arbitration agreement (meaning an arbitration agreement as provided in Article 2, paragraph (1) of the Arbitration Act (Act No. 138 of 2003));\n",
      "(vi) accepting or renouncing a succession or dividing an estate;\n",
      "(vii) refusing an offer of a gift, renouncing a legacy, accepting an offer of gift with burden, or accepting a legacy with burden;\n",
      "(viii) constructing a new building, renovating, expanding, or undertaking major repairs;\n",
      "(ix) granting a lease for a term that exceeds the period set forth in Article 602; or\n",
      "(x) performing any of the acts set forth in the preceding items as a legal representative of a person with qualified legal capacity (meaning a minor, adult ward, or person under curatorship or a person under assistance who is subject to a decision as referred to in Article 17, paragraph (1); the same applies hereinafter).\n",
      "(2) At the request of a person as referred to in the main clause of Article 11\n",
      "or the curator or curator's supervisor, the family court may decide that the person under curatorship must also obtain the consent of the curator before performing an act other than those set forth in each of the items of the preceding paragraph;provided, however, that this does not apply to an act provided for in the proviso to Article 9.\n",
      "(3) If the curator does not consent to an act for which the person under curatorship must obtain the curator's consent even though it is unlikely to prejudice the interests of the person under curatorship, the family court may grant permission that operates in lieu of the curator's consent at the request of the person under curatorship.\n",
      "(4) An act for which the person under curatorship must obtain the curator's consent is voidable if the person performs it without obtaining the curator's consent or a permission that operates in lieu of it.\n",
      "Hypothesis: With respect to any act which requires the consent of the curator, if the curator does not give consent in cases where the interest of the person under curatorship is unlikely to be prejudiced, the person under curatorship may make a claim to the family court for a permission in lieu of the consent of the curator.\n",
      "Is the hypothesis entailed by the premise? Yes or no \n",
      "Answer: Yes\n",
      "\n",
      "Premise: Article 13\n",
      "(1) A person under curatorship must obtain the consent of the curator in order to perform any of the following acts;provided, however, that this does not apply to an act provided for in the proviso of Article 9:\n",
      "(i) receiving or using any property producing civil fruit;\n",
      "(ii) borrowing money or guaranteeing an obligation;\n",
      "(iii) performing an act with the purpose of acquiring or losing any right regarding immovables or other significant property;\n",
      "(iv) suing any procedural act;\n",
      "(v) giving a gift, reaching a settlement, or entering into an arbitration agreement (meaning an arbitration agreement as provided in Article 2, paragraph (1) of the Arbitration Act (Act No. 138 of 2003));\n",
      "(vi) accepting or renouncing a succession or dividing an estate;\n",
      "(vii) refusing an offer of a gift, renouncing a legacy, accepting an offer of gift with burden, or accepting a legacy with burden;\n",
      "(viii) constructing a new building, renovating, expanding, or undertaking major repairs;\n",
      "(ix) granting a lease for a term that exceeds the period set forth in Article 602; or\n",
      "(x) performing any of the acts set forth in the preceding items as a legal representative of a person with qualified legal capacity (meaning a minor, adult ward, or person under curatorship or a person under assistance who is subject to a decision as referred to in Article 17, paragraph (1); the same applies hereinafter).\n",
      "(2) At the request of a person as referred to in the main clause of Article 11\n",
      "or the curator or curator's supervisor, the family court may decide that the person under curatorship must also obtain the consent of the curator before performing an act other than those set forth in each of the items of the preceding paragraph;provided, however, that this does not apply to an act provided for in the proviso to Article 9.\n",
      "(3) If the curator does not consent to an act for which the person under curatorship must obtain the curator's consent even though it is unlikely to prejudice the interests of the person under curatorship, the family court may grant permission that operates in lieu of the curator's consent at the request of the person under curatorship.\n",
      "(4) An act for which the person under curatorship must obtain the curator's consent is voidable if the person performs it without obtaining the curator's consent or a permission that operates in lieu of it.\n",
      "Article 120\n",
      "(1) An act that is voidable on the grounds of the qualified legal capacity to act of the person who did the act may be rescinded only by the person with qualified legal capacity (in the case of an act performed by the person as a legal representative of another person with limited capacity, including that other person with limited capacity), or an agent or successor thereof, or a person who has the authority to give consent thereto.\n",
      "(2) An act that is voidable on the grounds of a mistake, fraud or duress may be rescinded only by the person who made the defective manifestation of intention, or an agent or successor thereof.\n",
      "Hypothesis: In the case where a person under curatorship obtains the consent of his/her curator to conclude the contract of guarantee before concluding such contract, he/she may not cancel concluding such contract by self-determination.\n",
      "Is the hypothesis entailed by the premise? Yes or no \n",
      "Answer: No\n",
      "\n",
      "Premise: Article 13\n",
      "(1) A person under curatorship must obtain the consent of the curator in order to perform any of the following acts;provided, however, that this does not apply to an act provided for in the proviso of Article 9:\n",
      "(i) receiving or using any property producing civil fruit;\n",
      "(ii) borrowing money or guaranteeing an obligation;\n",
      "(iii) performing an act with the purpose of acquiring or losing any right regarding immovables or other significant property;\n",
      "(iv) suing any procedural act;\n",
      "(v) giving a gift, reaching a settlement, or entering into an arbitration agreement (meaning an arbitration agreement as provided in Article 2, paragraph (1) of the Arbitration Act (Act No. 138 of 2003));\n",
      "(vi) accepting or renouncing a succession or dividing an estate;\n",
      "(vii) refusing an offer of a gift, renouncing a legacy, accepting an offer of gift with burden, or accepting a legacy with burden;\n",
      "(viii) constructing a new building, renovating, expanding, or undertaking major repairs;\n",
      "(ix) granting a lease for a term that exceeds the period set forth in Article 602; or\n",
      "(x) performing any of the acts set forth in the preceding items as a legal representative of a person with qualified legal capacity (meaning a minor, adult ward, or person under curatorship or a person under assistance who is subject to a decision as referred to in Article 17, paragraph (1); the same applies hereinafter).\n",
      "(2) At the request of a person as referred to in the main clause of Article 11\n",
      "or the curator or curator's supervisor, the family court may decide that the person under curatorship must also obtain the consent of the curator before performing an act other than those set forth in each of the items of the preceding paragraph;provided, however, that this does not apply to an act provided for in the proviso to Article 9.\n",
      "(3) If the curator does not consent to an act for which the person under curatorship must obtain the curator's consent even though it is unlikely to prejudice the interests of the person under curatorship, the family court may grant permission that operates in lieu of the curator's consent at the request of the person under curatorship.\n",
      "(4) An act for which the person under curatorship must obtain the curator's consent is voidable if the person performs it without obtaining the curator's consent or a permission that operates in lieu of it.\n",
      "Article 120\n",
      "(1) An act that is voidable on the grounds of the qualified legal capacity to act of the person who did the act may be rescinded only by the person with qualified legal capacity (in the case of an act performed by the person as a legal representative of another person with limited capacity, including that other person with limited capacity), or an agent or successor thereof, or a person who has the authority to give consent thereto.\n",
      "(2) An act that is voidable on the grounds of a mistake, fraud or duress may be rescinded only by the person who made the defective manifestation of intention, or an agent or successor thereof.\n",
      "Article 122\n",
      "A voidable act may not be rescinded after the person prescribed in Article 120\n",
      "ratifies it.\n",
      "Hypothesis: If a person under curatorship performs, without getting the consent, an act that requires  getting consent from his/her curator, the curator may ratify that act, but may not rescind that act.\n",
      "Is the hypothesis entailed by the premise? Yes or no \n",
      "Answer: No\n",
      "\n",
      "Premise: Article 13\n",
      "(1) A person under curatorship must obtain the consent of the curator in order to perform any of the following acts;provided, however, that this does not apply to an act provided for in the proviso of Article 9:\n",
      "(i) receiving or using any property producing civil fruit;\n",
      "(ii) borrowing money or guaranteeing an obligation;\n",
      "(iii) performing an act with the purpose of acquiring or losing any right regarding immovables or other significant property;\n",
      "(iv) suing any procedural act;\n",
      "(v) giving a gift, reaching a settlement, or entering into an arbitration agreement (meaning an arbitration agreement as provided in Article 2, paragraph (1) of the Arbitration Act (Act No. 138 of 2003));\n",
      "(vi) accepting or renouncing a succession or dividing an estate;\n",
      "(vii) refusing an offer of a gift, renouncing a legacy, accepting an offer of gift with burden, or accepting a legacy with burden;\n",
      "(viii) constructing a new building, renovating, expanding, or undertaking major repairs;\n",
      "(ix) granting a lease for a term that exceeds the period set forth in Article 602; or\n",
      "(x) performing any of the acts set forth in the preceding items as a legal representative of a person with qualified legal capacity (meaning a minor, adult ward, or person under curatorship or a person under assistance who is subject to a decision as referred to in Article 17, paragraph (1); the same applies hereinafter).\n",
      "(2) At the request of a person as referred to in the main clause of Article 11\n",
      "or the curator or curator's supervisor, the family court may decide that the person under curatorship must also obtain the consent of the curator before performing an act other than those set forth in each of the items of the preceding paragraph;provided, however, that this does not apply to an act provided for in the proviso to Article 9.\n",
      "(3) If the curator does not consent to an act for which the person under curatorship must obtain the curator's consent even though it is unlikely to prejudice the interests of the person under curatorship, the family court may grant permission that operates in lieu of the curator's consent at the request of the person under curatorship.\n",
      "(4) An act for which the person under curatorship must obtain the curator's consent is voidable if the person performs it without obtaining the curator's consent or a permission that operates in lieu of it.\n",
      "Hypothesis: A contract of guarantee concluded by a person under curatorship may not be rescinded in cases the consent of the curator is obtained.\n",
      "Is the hypothesis entailed by the premise? Yes or no \n",
      "Answer: \n"
     ]
    },
    {
     "name": "stderr",
     "output_type": "stream",
     "text": [
      "  4%|████████▍                                                                                                                                                                                                                                 | 4/111 [00:04<01:58,  1.11s/it]"
     ]
    },
    {
     "name": "stdout",
     "output_type": "stream",
     "text": [
      "Premise: Article 15 (1) The family court may decide to commence an assistance in respect of a person whose capacity to appreciate their own situation is inadequate due to a mental disorder, at the request of the person in question, that person's spouse, that person's relative within the fourth degree of kinship, the guardian, the guardian's supervisor, the curator, the curator's supervisor, or a public prosecutor; provided, however, that this does not apply to a person with respect to whom there are grounds as prescribed in Article 7 or the main clause of Article 11.\n",
      "(2) The issuance of a decision for commencement of assistance at the request of a person other than the person in question requires the consent of the person in question.\n",
      "Hypothesis: The issuance of a decision for commencement of assistance at the request of a person other than the person in question requires the consent of the person in question unless the family court finds it to be suitable.\n",
      "Is the hypothesis entailed by the premise? Yes or no \n",
      "Answer: No\n",
      "\n",
      "Premise: Article 17 (1) At the request of the person referred to in the main clause of Article 15, paragraph (1) or the assistant or assistant's supervisor, the family court may decide that the person under assistance must obtain the consent of the person's assistant in order to perform a specific juridical act; provided, however, that the acts that such a decision may establish as those for which the person must obtain the consent of the assistant are restricted to a part of the acts provided for in Article 13, paragraph (1).\n",
      "(2) In order to decide as referred to in the preceding paragraph at the request of a person other than the person in question requires the consent of the person in question.\n",
      "(3) If the assistant does not consent to an act for which the person under assistance must obtain the assistant's consent even though it is unlikely to prejudice the interests of the person under assistance, the family court may grant permission that operates in lieu of the assistant's consent, at the request of the person under assistance.\n",
      "Hypothesis: If the assistant does not consent to an act for which the person under assistance must obtain the assistant's consent even though it is unlikely to prejudice the interests of the person under assistance, the family court may grant permission that operates in lieu of the assistant's consent, at the request of the person under assistance.\n",
      "Is the hypothesis entailed by the premise? Yes or no \n",
      "Answer: Yes\n",
      "\n",
      "Premise: Article 15\n",
      "(1) The family court may decide to commence an assistance in respect of a person whose capacity to appreciate their own situation is inadequate due to a mental disorder, at the request of the person in question, that person's spouse, that person's relative within the fourth degree of kinship, the guardian, the guardian's supervisor, the curator, the curator's supervisor, or a public prosecutor;provided, however, that this does not apply to a person with respect to whom there are grounds as prescribed in Article 7\n",
      "or the main clause of Article 11.\n",
      "(2) The issuance of a decision for commencement of assistance at the request of a person other than the person in question requires the consent of the person in question.\n",
      "(3) A decision for commencement of assistance must be made concurrent with a decision as referred to in Article 17, paragraph (1) or a decision as referred to in Article 876-9, paragraph (1).\n",
      "Hypothesis: Any person who has insufficient capacity to appreciate right or wrong due to any mental disability may not request a ruling of commencement of assistance in person.\n",
      "Is the hypothesis entailed by the premise? Yes or no \n",
      "Answer: No\n",
      "\n",
      "Premise: Article 17\n",
      "(1) At the request of the person referred to in the main clause of Article 15, paragraph (1) or the assistant or assistant's supervisor, the family court may decide that the person under assistance must obtain the consent of the person's assistant in order to perform a specific juridical act;provided, however, that the acts that such a decision may establish as those for which the person must obtain the consent of the assistant are restricted to a part of the acts provided for in Article 13, paragraph (1).\n",
      "(2) In order to decide as referred to in the preceding paragraph at the request of a person other than the person in question requires the consent of the person in question.\n",
      "(3) If the assistant does not consent to an act for which the person under assistance must obtain the assistant's consent even though it is unlikely to prejudice the interests of the person under assistance, the family court may grant permission that operates in lieu of the assistant's consent, at the request of the person under assistance.\n",
      "(4) An act for which the person under assistance must obtain the assistant's consent is voidable if the person performs it without obtaining the assistance's consent or a permission that operates in lieu of it.\n",
      "Hypothesis: An act which requires the consent of the assistant may be rescinded if the person under assistance performed it without such consent or the permission of family court in lieu thereof.\n",
      "Is the hypothesis entailed by the premise? Yes or no \n",
      "Answer: \n"
     ]
    },
    {
     "name": "stderr",
     "output_type": "stream",
     "text": [
      "100%|████████████████████████████████████████████████████████████████████████████████████████████████████████████████████████████████████████████████████████████████████████████████████████████████████████████████████████████████████████| 111/111 [01:02<00:00,  1.77it/s]\n"
     ]
    },
    {
     "name": "stdout",
     "output_type": "stream",
     "text": [
      "{'{{premise}}\\nQuestion: {{hypothesis}} True or False?': 0.8468468468468469, '{{premise}}\\nQuestion: {{hypothesis}} True or False? ': 0.8468468468468469, '{{premise}} Based on that information, is the claim: \"{{hypothesis}}\" true or false?': 0.8288288288288288, 'EXAM\\n1. Answer by yes or no.\\n\\nDocument: {{premise}}\\nQuestion: {{hypothesis}}? ': 0.8468468468468469, '{{premise}}\\nBased on the previous passage, {{hypothesis}}? ': 0.8468468468468469, 'Premise: {{premise}}\\n\\nHypothesis: {{hypothesis}}\\n\\nDoes the premise entail the hypothesis? Yes or no ': 0.7567567567567568, 'Premise: {{premise}}\\nHypothesis: {{hypothesis}}\\nIs the hypothesis entailed by the premise? Yes or no ': 0.7657657657657657}\n"
     ]
    },
    {
     "name": "stderr",
     "output_type": "stream",
     "text": [
      "  1%|██                                                                                                                                                                                                                                        | 1/111 [00:00<01:17,  1.43it/s]"
     ]
    },
    {
     "name": "stdout",
     "output_type": "stream",
     "text": [
      "Sentence 1: Article 5\n",
      "(1) A minor must obtain the consent of the minor's legal representative to perform a juridical act;provided, however, that this does not apply to a juridical act for merely acquiring a right or being released from an obligation.\n",
      "(2) A juridical act in contravention of the provisions of the preceding paragraph is voidable.\n",
      "(3) Notwithstanding the provisions of paragraph (1), a minor may freely dispose of property that the legal representative has permitted the minor to dispose of for a specified purpose, to an extent that falls within the scope of that purpose. The same applies if the minor disposes of property that the legal representative has permitted the minor to dispose of without specifying a purpose.\n",
      "\n",
      "Sentence 2: A minor can freely dispose of assets the statutory agent permits the disposition without specifying the purpose.\n",
      "Is this second sentence entailed by the first sentence? Yes or No \n",
      "Answer: Yes\n",
      "\n",
      "Sentence 1: Article 5\n",
      "(1) A minor must obtain the consent of the minor's legal representative to perform a juridical act;provided, however, that this does not apply to a juridical act for merely acquiring a right or being released from an obligation.\n",
      "(2) A juridical act in contravention of the provisions of the preceding paragraph is voidable.\n",
      "(3) Notwithstanding the provisions of paragraph (1), a minor may freely dispose of property that the legal representative has permitted the minor to dispose of for a specified purpose, to an extent that falls within the scope of that purpose. The same applies if the minor disposes of property that the legal representative has permitted the minor to dispose of without specifying a purpose.\n",
      "\n",
      "Sentence 2: A is a nineteen-year-old male and subject to the parental authority of his parents.\n",
      "In the case where the person who had parental authority in relation to A permitted A to dispose of the money which A acquired by a part-time job of delivering newspapers, and A purchased a bicycle by the money which he acquired by the part-time job, even if A did not obtain the consent of the person who had parental authority in relation to him when he concluded the contract for sale, A may not rescind the contract for sale.\n",
      "Is this second sentence entailed by the first sentence? Yes or No \n",
      "Answer: Yes\n",
      "\n",
      "Sentence 1: Article 5\n",
      "(1) A minor must obtain the consent of the minor's legal representative to perform a juridical act;provided, however, that this does not apply to a juridical act for merely acquiring a right or being released from an obligation.\n",
      "(2) A juridical act in contravention of the provisions of the preceding paragraph is voidable.\n",
      "(3) Notwithstanding the provisions of paragraph (1), a minor may freely dispose of property that the legal representative has permitted the minor to dispose of for a specified purpose, to an extent that falls within the scope of that purpose. The same applies if the minor disposes of property that the legal representative has permitted the minor to dispose of without specifying a purpose.\n",
      "\n",
      "Sentence 2: A is a nineteen-year-old male and subject to the parental authority of his parents.\n",
      "In the case where A concluded a contract not in writing to the effect that A would make B a gift of 1,000,000 yen from the property which A had obtained by inheritance, even if A revoked the gift on the ground that it was a gift not in writing, if A did not obtain the consent of the person who had parental authority in relation to him with respect to the revocation of the gift, A may rescind the revocation of the gift.\n",
      "Is this second sentence entailed by the first sentence? Yes or No \n",
      "Answer: No\n",
      "\n",
      "Sentence 1: Article 5\n",
      "(1) A minor must obtain the consent of the minor's legal representative to perform a juridical act;provided, however, that this does not apply to a juridical act for merely acquiring a right or being released from an obligation.\n",
      "(2) A juridical act in contravention of the provisions of the preceding paragraph is voidable.\n",
      "(3) Notwithstanding the provisions of paragraph (1), a minor may freely dispose of property that the legal representative has permitted the minor to dispose of for a specified purpose, to an extent that falls within the scope of that purpose. The same applies if the minor disposes of property that the legal representative has permitted the minor to dispose of without specifying a purpose.\n",
      "\n",
      "Sentence 2: A contract of sales concluded by a minor may not be rescinded if it relates to daily life, even in cases the consent of the parental authority is not obtained.\n",
      "Is this second sentence entailed by the first sentence? Yes or No \n",
      "Answer: \n"
     ]
    },
    {
     "name": "stderr",
     "output_type": "stream",
     "text": [
      "100%|████████████████████████████████████████████████████████████████████████████████████████████████████████████████████████████████████████████████████████████████████████████████████████████████████████████████████████████████████████| 111/111 [01:03<00:00,  1.74it/s]\n"
     ]
    },
    {
     "name": "stdout",
     "output_type": "stream",
     "text": [
      "{'{{premise}}\\nQuestion: {{hypothesis}} True or False?': 0.8468468468468469, '{{premise}}\\nQuestion: {{hypothesis}} True or False? ': 0.8468468468468469, '{{premise}} Based on that information, is the claim: \"{{hypothesis}}\" true or false?': 0.8288288288288288, 'EXAM\\n1. Answer by yes or no.\\n\\nDocument: {{premise}}\\nQuestion: {{hypothesis}}? ': 0.8468468468468469, '{{premise}}\\nBased on the previous passage, {{hypothesis}}? ': 0.8468468468468469, 'Premise: {{premise}}\\n\\nHypothesis: {{hypothesis}}\\n\\nDoes the premise entail the hypothesis? Yes or no ': 0.7567567567567568, 'Premise: {{premise}}\\nHypothesis: {{hypothesis}}\\nIs the hypothesis entailed by the premise? Yes or no ': 0.7657657657657657, 'Sentence 1: {{premise}}\\n\\nSentence 2: {{hypothesis}}\\nIs this second sentence entailed by the first sentence? Yes or No ': 0.8018018018018018}\n"
     ]
    },
    {
     "name": "stderr",
     "output_type": "stream",
     "text": [
      "  1%|██                                                                                                                                                                                                                                        | 1/111 [00:00<01:17,  1.42it/s]"
     ]
    },
    {
     "name": "stdout",
     "output_type": "stream",
     "text": [
      "Sentence 1: Article 5\n",
      "(1) A minor must obtain the consent of the minor's legal representative to perform a juridical act;provided, however, that this does not apply to a juridical act for merely acquiring a right or being released from an obligation.\n",
      "(2) A juridical act in contravention of the provisions of the preceding paragraph is voidable.\n",
      "(3) Notwithstanding the provisions of paragraph (1), a minor may freely dispose of property that the legal representative has permitted the minor to dispose of for a specified purpose, to an extent that falls within the scope of that purpose. The same applies if the minor disposes of property that the legal representative has permitted the minor to dispose of without specifying a purpose.\n",
      "\n",
      "Sentence 2: A minor can freely dispose of assets the statutory agent permits the disposition without specifying the purpose.\n",
      "\n",
      "If the first sentence is true, then is the second sentence true? True or False \n",
      "Answer: True\n",
      "\n",
      "Sentence 1: Article 5\n",
      "(1) A minor must obtain the consent of the minor's legal representative to perform a juridical act;provided, however, that this does not apply to a juridical act for merely acquiring a right or being released from an obligation.\n",
      "(2) A juridical act in contravention of the provisions of the preceding paragraph is voidable.\n",
      "(3) Notwithstanding the provisions of paragraph (1), a minor may freely dispose of property that the legal representative has permitted the minor to dispose of for a specified purpose, to an extent that falls within the scope of that purpose. The same applies if the minor disposes of property that the legal representative has permitted the minor to dispose of without specifying a purpose.\n",
      "\n",
      "Sentence 2: A is a nineteen-year-old male and subject to the parental authority of his parents.\n",
      "In the case where the person who had parental authority in relation to A permitted A to dispose of the money which A acquired by a part-time job of delivering newspapers, and A purchased a bicycle by the money which he acquired by the part-time job, even if A did not obtain the consent of the person who had parental authority in relation to him when he concluded the contract for sale, A may not rescind the contract for sale.\n",
      "\n",
      "If the first sentence is true, then is the second sentence true? True or False \n",
      "Answer: True\n",
      "\n",
      "Sentence 1: Article 5\n",
      "(1) A minor must obtain the consent of the minor's legal representative to perform a juridical act;provided, however, that this does not apply to a juridical act for merely acquiring a right or being released from an obligation.\n",
      "(2) A juridical act in contravention of the provisions of the preceding paragraph is voidable.\n",
      "(3) Notwithstanding the provisions of paragraph (1), a minor may freely dispose of property that the legal representative has permitted the minor to dispose of for a specified purpose, to an extent that falls within the scope of that purpose. The same applies if the minor disposes of property that the legal representative has permitted the minor to dispose of without specifying a purpose.\n",
      "\n",
      "Sentence 2: A is a nineteen-year-old male and subject to the parental authority of his parents.\n",
      "In the case where A concluded a contract not in writing to the effect that A would make B a gift of 1,000,000 yen from the property which A had obtained by inheritance, even if A revoked the gift on the ground that it was a gift not in writing, if A did not obtain the consent of the person who had parental authority in relation to him with respect to the revocation of the gift, A may rescind the revocation of the gift.\n",
      "\n",
      "If the first sentence is true, then is the second sentence true? True or False \n",
      "Answer: False\n",
      "\n",
      "Sentence 1: Article 5\n",
      "(1) A minor must obtain the consent of the minor's legal representative to perform a juridical act;provided, however, that this does not apply to a juridical act for merely acquiring a right or being released from an obligation.\n",
      "(2) A juridical act in contravention of the provisions of the preceding paragraph is voidable.\n",
      "(3) Notwithstanding the provisions of paragraph (1), a minor may freely dispose of property that the legal representative has permitted the minor to dispose of for a specified purpose, to an extent that falls within the scope of that purpose. The same applies if the minor disposes of property that the legal representative has permitted the minor to dispose of without specifying a purpose.\n",
      "\n",
      "Sentence 2: A contract of sales concluded by a minor may not be rescinded if it relates to daily life, even in cases the consent of the parental authority is not obtained.\n",
      "\n",
      "If the first sentence is true, then is the second sentence true? True or False \n",
      "Answer: \n"
     ]
    },
    {
     "name": "stderr",
     "output_type": "stream",
     "text": [
      "  2%|████▏                                                                                                                                                                                                                                     | 2/111 [00:01<01:11,  1.53it/s]"
     ]
    },
    {
     "name": "stdout",
     "output_type": "stream",
     "text": [
      "Sentence 1: Article 9 A juridical act performed by an adult ward is voidable;provided, however, that this does not apply to the purchase of daily necessities or to any other act involved in day-to-day life.\n",
      "\n",
      "Sentence 2: If an adult ward acquires land by gift, the guardian of the adult ward may not rescind the gift.\n",
      "\n",
      "If the first sentence is true, then is the second sentence true? True or False \n",
      "Answer: False\n",
      "\n",
      "Sentence 1: Article 9\n",
      "A juridical act performed by an adult ward is voidable;provided, however, that this does not apply to the purchase of daily necessities or to any other act involved in day-to-day life.\n",
      "\n",
      "Sentence 2: The purchase of daily household items may not be rescinded, even if an adult ward performed the act.\n",
      "\n",
      "If the first sentence is true, then is the second sentence true? True or False \n",
      "Answer: True\n",
      "\n",
      "Sentence 1: Article 9\n",
      "A juridical act performed by an adult ward is voidable;provided, however, that this does not apply to the purchase of daily necessities or to any other act involved in day-to-day life.\n",
      "\n",
      "Sentence 2: In cases where an adult ward receives the gift of a building, the adult ward cannot rescindthe relevant gift contract.\n",
      "\n",
      "If the first sentence is true, then is the second sentence true? True or False \n",
      "Answer: False\n",
      "\n",
      "Sentence 1: Article 9\n",
      "A juridical act performed by an adult ward is voidable;provided, however, that this does not apply to the purchase of daily necessities or to any other act involved in day-to-day life.\n",
      "\n",
      "Sentence 2: A contract of sales concluded by an adult ward may be rescinded except relating to daily life, even in cases the consent of the adult guardian has been obtained, the contract\n",
      "\n",
      "If the first sentence is true, then is the second sentence true? True or False \n",
      "Answer: \n"
     ]
    },
    {
     "name": "stderr",
     "output_type": "stream",
     "text": [
      "  3%|██████▎                                                                                                                                                                                                                                   | 3/111 [00:03<02:46,  1.54s/it]"
     ]
    },
    {
     "name": "stdout",
     "output_type": "stream",
     "text": [
      "Sentence 1: Article 13\n",
      "(1) A person under curatorship must obtain the consent of the curator in order to perform any of the following acts;provided, however, that this does not apply to an act provided for in the proviso of Article 9:\n",
      "(i) receiving or using any property producing civil fruit;\n",
      "(ii) borrowing money or guaranteeing an obligation;\n",
      "(iii) performing an act with the purpose of acquiring or losing any right regarding immovables or other significant property;\n",
      "(iv) suing any procedural act;\n",
      "(v) giving a gift, reaching a settlement, or entering into an arbitration agreement (meaning an arbitration agreement as provided in Article 2, paragraph (1) of the Arbitration Act (Act No. 138 of 2003));\n",
      "(vi) accepting or renouncing a succession or dividing an estate;\n",
      "(vii) refusing an offer of a gift, renouncing a legacy, accepting an offer of gift with burden, or accepting a legacy with burden;\n",
      "(viii) constructing a new building, renovating, expanding, or undertaking major repairs;\n",
      "(ix) granting a lease for a term that exceeds the period set forth in Article 602; or\n",
      "(x) performing any of the acts set forth in the preceding items as a legal representative of a person with qualified legal capacity (meaning a minor, adult ward, or person under curatorship or a person under assistance who is subject to a decision as referred to in Article 17, paragraph (1); the same applies hereinafter).\n",
      "(2) At the request of a person as referred to in the main clause of Article 11\n",
      "or the curator or curator's supervisor, the family court may decide that the person under curatorship must also obtain the consent of the curator before performing an act other than those set forth in each of the items of the preceding paragraph;provided, however, that this does not apply to an act provided for in the proviso to Article 9.\n",
      "(3) If the curator does not consent to an act for which the person under curatorship must obtain the curator's consent even though it is unlikely to prejudice the interests of the person under curatorship, the family court may grant permission that operates in lieu of the curator's consent at the request of the person under curatorship.\n",
      "(4) An act for which the person under curatorship must obtain the curator's consent is voidable if the person performs it without obtaining the curator's consent or a permission that operates in lieu of it.\n",
      "\n",
      "Sentence 2: With respect to any act which requires the consent of the curator, if the curator does not give consent in cases where the interest of the person under curatorship is unlikely to be prejudiced, the person under curatorship may make a claim to the family court for a permission in lieu of the consent of the curator.\n",
      "\n",
      "If the first sentence is true, then is the second sentence true? True or False \n",
      "Answer: True\n",
      "\n",
      "Sentence 1: Article 13\n",
      "(1) A person under curatorship must obtain the consent of the curator in order to perform any of the following acts;provided, however, that this does not apply to an act provided for in the proviso of Article 9:\n",
      "(i) receiving or using any property producing civil fruit;\n",
      "(ii) borrowing money or guaranteeing an obligation;\n",
      "(iii) performing an act with the purpose of acquiring or losing any right regarding immovables or other significant property;\n",
      "(iv) suing any procedural act;\n",
      "(v) giving a gift, reaching a settlement, or entering into an arbitration agreement (meaning an arbitration agreement as provided in Article 2, paragraph (1) of the Arbitration Act (Act No. 138 of 2003));\n",
      "(vi) accepting or renouncing a succession or dividing an estate;\n",
      "(vii) refusing an offer of a gift, renouncing a legacy, accepting an offer of gift with burden, or accepting a legacy with burden;\n",
      "(viii) constructing a new building, renovating, expanding, or undertaking major repairs;\n",
      "(ix) granting a lease for a term that exceeds the period set forth in Article 602; or\n",
      "(x) performing any of the acts set forth in the preceding items as a legal representative of a person with qualified legal capacity (meaning a minor, adult ward, or person under curatorship or a person under assistance who is subject to a decision as referred to in Article 17, paragraph (1); the same applies hereinafter).\n",
      "(2) At the request of a person as referred to in the main clause of Article 11\n",
      "or the curator or curator's supervisor, the family court may decide that the person under curatorship must also obtain the consent of the curator before performing an act other than those set forth in each of the items of the preceding paragraph;provided, however, that this does not apply to an act provided for in the proviso to Article 9.\n",
      "(3) If the curator does not consent to an act for which the person under curatorship must obtain the curator's consent even though it is unlikely to prejudice the interests of the person under curatorship, the family court may grant permission that operates in lieu of the curator's consent at the request of the person under curatorship.\n",
      "(4) An act for which the person under curatorship must obtain the curator's consent is voidable if the person performs it without obtaining the curator's consent or a permission that operates in lieu of it.\n",
      "Article 120\n",
      "(1) An act that is voidable on the grounds of the qualified legal capacity to act of the person who did the act may be rescinded only by the person with qualified legal capacity (in the case of an act performed by the person as a legal representative of another person with limited capacity, including that other person with limited capacity), or an agent or successor thereof, or a person who has the authority to give consent thereto.\n",
      "(2) An act that is voidable on the grounds of a mistake, fraud or duress may be rescinded only by the person who made the defective manifestation of intention, or an agent or successor thereof.\n",
      "\n",
      "Sentence 2: In the case where a person under curatorship obtains the consent of his/her curator to conclude the contract of guarantee before concluding such contract, he/she may not cancel concluding such contract by self-determination.\n",
      "\n",
      "If the first sentence is true, then is the second sentence true? True or False \n",
      "Answer: False\n",
      "\n",
      "Sentence 1: Article 13\n",
      "(1) A person under curatorship must obtain the consent of the curator in order to perform any of the following acts;provided, however, that this does not apply to an act provided for in the proviso of Article 9:\n",
      "(i) receiving or using any property producing civil fruit;\n",
      "(ii) borrowing money or guaranteeing an obligation;\n",
      "(iii) performing an act with the purpose of acquiring or losing any right regarding immovables or other significant property;\n",
      "(iv) suing any procedural act;\n",
      "(v) giving a gift, reaching a settlement, or entering into an arbitration agreement (meaning an arbitration agreement as provided in Article 2, paragraph (1) of the Arbitration Act (Act No. 138 of 2003));\n",
      "(vi) accepting or renouncing a succession or dividing an estate;\n",
      "(vii) refusing an offer of a gift, renouncing a legacy, accepting an offer of gift with burden, or accepting a legacy with burden;\n",
      "(viii) constructing a new building, renovating, expanding, or undertaking major repairs;\n",
      "(ix) granting a lease for a term that exceeds the period set forth in Article 602; or\n",
      "(x) performing any of the acts set forth in the preceding items as a legal representative of a person with qualified legal capacity (meaning a minor, adult ward, or person under curatorship or a person under assistance who is subject to a decision as referred to in Article 17, paragraph (1); the same applies hereinafter).\n",
      "(2) At the request of a person as referred to in the main clause of Article 11\n",
      "or the curator or curator's supervisor, the family court may decide that the person under curatorship must also obtain the consent of the curator before performing an act other than those set forth in each of the items of the preceding paragraph;provided, however, that this does not apply to an act provided for in the proviso to Article 9.\n",
      "(3) If the curator does not consent to an act for which the person under curatorship must obtain the curator's consent even though it is unlikely to prejudice the interests of the person under curatorship, the family court may grant permission that operates in lieu of the curator's consent at the request of the person under curatorship.\n",
      "(4) An act for which the person under curatorship must obtain the curator's consent is voidable if the person performs it without obtaining the curator's consent or a permission that operates in lieu of it.\n",
      "Article 120\n",
      "(1) An act that is voidable on the grounds of the qualified legal capacity to act of the person who did the act may be rescinded only by the person with qualified legal capacity (in the case of an act performed by the person as a legal representative of another person with limited capacity, including that other person with limited capacity), or an agent or successor thereof, or a person who has the authority to give consent thereto.\n",
      "(2) An act that is voidable on the grounds of a mistake, fraud or duress may be rescinded only by the person who made the defective manifestation of intention, or an agent or successor thereof.\n",
      "Article 122\n",
      "A voidable act may not be rescinded after the person prescribed in Article 120\n",
      "ratifies it.\n",
      "\n",
      "Sentence 2: If a person under curatorship performs, without getting the consent, an act that requires  getting consent from his/her curator, the curator may ratify that act, but may not rescind that act.\n",
      "\n",
      "If the first sentence is true, then is the second sentence true? True or False \n",
      "Answer: False\n",
      "\n",
      "Sentence 1: Article 13\n",
      "(1) A person under curatorship must obtain the consent of the curator in order to perform any of the following acts;provided, however, that this does not apply to an act provided for in the proviso of Article 9:\n",
      "(i) receiving or using any property producing civil fruit;\n",
      "(ii) borrowing money or guaranteeing an obligation;\n",
      "(iii) performing an act with the purpose of acquiring or losing any right regarding immovables or other significant property;\n",
      "(iv) suing any procedural act;\n",
      "(v) giving a gift, reaching a settlement, or entering into an arbitration agreement (meaning an arbitration agreement as provided in Article 2, paragraph (1) of the Arbitration Act (Act No. 138 of 2003));\n",
      "(vi) accepting or renouncing a succession or dividing an estate;\n",
      "(vii) refusing an offer of a gift, renouncing a legacy, accepting an offer of gift with burden, or accepting a legacy with burden;\n",
      "(viii) constructing a new building, renovating, expanding, or undertaking major repairs;\n",
      "(ix) granting a lease for a term that exceeds the period set forth in Article 602; or\n",
      "(x) performing any of the acts set forth in the preceding items as a legal representative of a person with qualified legal capacity (meaning a minor, adult ward, or person under curatorship or a person under assistance who is subject to a decision as referred to in Article 17, paragraph (1); the same applies hereinafter).\n",
      "(2) At the request of a person as referred to in the main clause of Article 11\n",
      "or the curator or curator's supervisor, the family court may decide that the person under curatorship must also obtain the consent of the curator before performing an act other than those set forth in each of the items of the preceding paragraph;provided, however, that this does not apply to an act provided for in the proviso to Article 9.\n",
      "(3) If the curator does not consent to an act for which the person under curatorship must obtain the curator's consent even though it is unlikely to prejudice the interests of the person under curatorship, the family court may grant permission that operates in lieu of the curator's consent at the request of the person under curatorship.\n",
      "(4) An act for which the person under curatorship must obtain the curator's consent is voidable if the person performs it without obtaining the curator's consent or a permission that operates in lieu of it.\n",
      "\n",
      "Sentence 2: A contract of guarantee concluded by a person under curatorship may not be rescinded in cases the consent of the curator is obtained.\n",
      "\n",
      "If the first sentence is true, then is the second sentence true? True or False \n",
      "Answer: \n"
     ]
    },
    {
     "name": "stderr",
     "output_type": "stream",
     "text": [
      "  4%|████████▍                                                                                                                                                                                                                                 | 4/111 [00:04<02:11,  1.23s/it]"
     ]
    },
    {
     "name": "stdout",
     "output_type": "stream",
     "text": [
      "Sentence 1: Article 15 (1) The family court may decide to commence an assistance in respect of a person whose capacity to appreciate their own situation is inadequate due to a mental disorder, at the request of the person in question, that person's spouse, that person's relative within the fourth degree of kinship, the guardian, the guardian's supervisor, the curator, the curator's supervisor, or a public prosecutor; provided, however, that this does not apply to a person with respect to whom there are grounds as prescribed in Article 7 or the main clause of Article 11.\n",
      "(2) The issuance of a decision for commencement of assistance at the request of a person other than the person in question requires the consent of the person in question.\n",
      "\n",
      "Sentence 2: The issuance of a decision for commencement of assistance at the request of a person other than the person in question requires the consent of the person in question unless the family court finds it to be suitable.\n",
      "\n",
      "If the first sentence is true, then is the second sentence true? True or False \n",
      "Answer: False\n",
      "\n",
      "Sentence 1: Article 17 (1) At the request of the person referred to in the main clause of Article 15, paragraph (1) or the assistant or assistant's supervisor, the family court may decide that the person under assistance must obtain the consent of the person's assistant in order to perform a specific juridical act; provided, however, that the acts that such a decision may establish as those for which the person must obtain the consent of the assistant are restricted to a part of the acts provided for in Article 13, paragraph (1).\n",
      "(2) In order to decide as referred to in the preceding paragraph at the request of a person other than the person in question requires the consent of the person in question.\n",
      "(3) If the assistant does not consent to an act for which the person under assistance must obtain the assistant's consent even though it is unlikely to prejudice the interests of the person under assistance, the family court may grant permission that operates in lieu of the assistant's consent, at the request of the person under assistance.\n",
      "\n",
      "Sentence 2: If the assistant does not consent to an act for which the person under assistance must obtain the assistant's consent even though it is unlikely to prejudice the interests of the person under assistance, the family court may grant permission that operates in lieu of the assistant's consent, at the request of the person under assistance.\n",
      "\n",
      "If the first sentence is true, then is the second sentence true? True or False \n",
      "Answer: True\n",
      "\n",
      "Sentence 1: Article 15\n",
      "(1) The family court may decide to commence an assistance in respect of a person whose capacity to appreciate their own situation is inadequate due to a mental disorder, at the request of the person in question, that person's spouse, that person's relative within the fourth degree of kinship, the guardian, the guardian's supervisor, the curator, the curator's supervisor, or a public prosecutor;provided, however, that this does not apply to a person with respect to whom there are grounds as prescribed in Article 7\n",
      "or the main clause of Article 11.\n",
      "(2) The issuance of a decision for commencement of assistance at the request of a person other than the person in question requires the consent of the person in question.\n",
      "(3) A decision for commencement of assistance must be made concurrent with a decision as referred to in Article 17, paragraph (1) or a decision as referred to in Article 876-9, paragraph (1).\n",
      "\n",
      "Sentence 2: Any person who has insufficient capacity to appreciate right or wrong due to any mental disability may not request a ruling of commencement of assistance in person.\n",
      "\n",
      "If the first sentence is true, then is the second sentence true? True or False \n",
      "Answer: False\n",
      "\n",
      "Sentence 1: Article 17\n",
      "(1) At the request of the person referred to in the main clause of Article 15, paragraph (1) or the assistant or assistant's supervisor, the family court may decide that the person under assistance must obtain the consent of the person's assistant in order to perform a specific juridical act;provided, however, that the acts that such a decision may establish as those for which the person must obtain the consent of the assistant are restricted to a part of the acts provided for in Article 13, paragraph (1).\n",
      "(2) In order to decide as referred to in the preceding paragraph at the request of a person other than the person in question requires the consent of the person in question.\n",
      "(3) If the assistant does not consent to an act for which the person under assistance must obtain the assistant's consent even though it is unlikely to prejudice the interests of the person under assistance, the family court may grant permission that operates in lieu of the assistant's consent, at the request of the person under assistance.\n",
      "(4) An act for which the person under assistance must obtain the assistant's consent is voidable if the person performs it without obtaining the assistance's consent or a permission that operates in lieu of it.\n",
      "\n",
      "Sentence 2: An act which requires the consent of the assistant may be rescinded if the person under assistance performed it without such consent or the permission of family court in lieu thereof.\n",
      "\n",
      "If the first sentence is true, then is the second sentence true? True or False \n",
      "Answer: \n"
     ]
    },
    {
     "name": "stderr",
     "output_type": "stream",
     "text": [
      "100%|████████████████████████████████████████████████████████████████████████████████████████████████████████████████████████████████████████████████████████████████████████████████████████████████████████████████████████████████████████| 111/111 [01:17<00:00,  1.43it/s]\n"
     ]
    },
    {
     "name": "stdout",
     "output_type": "stream",
     "text": [
      "{'{{premise}}\\nQuestion: {{hypothesis}} True or False?': 0.8468468468468469, '{{premise}}\\nQuestion: {{hypothesis}} True or False? ': 0.8468468468468469, '{{premise}} Based on that information, is the claim: \"{{hypothesis}}\" true or false?': 0.8288288288288288, 'EXAM\\n1. Answer by yes or no.\\n\\nDocument: {{premise}}\\nQuestion: {{hypothesis}}? ': 0.8468468468468469, '{{premise}}\\nBased on the previous passage, {{hypothesis}}? ': 0.8468468468468469, 'Premise: {{premise}}\\n\\nHypothesis: {{hypothesis}}\\n\\nDoes the premise entail the hypothesis? Yes or no ': 0.7567567567567568, 'Premise: {{premise}}\\nHypothesis: {{hypothesis}}\\nIs the hypothesis entailed by the premise? Yes or no ': 0.7657657657657657, 'Sentence 1: {{premise}}\\n\\nSentence 2: {{hypothesis}}\\nIs this second sentence entailed by the first sentence? Yes or No ': 0.8018018018018018, 'Sentence 1: {{premise}}\\n\\nSentence 2: {{hypothesis}}\\n\\nIf the first sentence is true, then is the second sentence true? True or False ': 0.8108108108108109}\n"
     ]
    },
    {
     "name": "stderr",
     "output_type": "stream",
     "text": [
      "  0%|                                                                                                                                                                                                                                                  | 0/111 [00:00<?, ?it/s]"
     ]
    }
   ],
   "source": [
    "def predict(model, tokenizer, path_file, passage_embeddings, files=[\"riteval_R01_en\",\"riteval_R02_en\",\"riteval_R03_en\",\"riteval_R04_en\"], output=\"../output/accuracy2/newpromt_\"):\n",
    "    for file in files:\n",
    "        test_file = path_file+file+\".xml\"\n",
    "        f = open(output+file+\".txt\", \"w\", encoding=\"utf-8\")\n",
    "        data = load_samples(test_file)\n",
    "        \n",
    "        acc = {}\n",
    "        for template_prompt in list_prompt:\n",
    "            template_prompt = template_prompt[\"prompt\"]\n",
    "            query_prompt = template_prompt+\"\\nAnswer: \"\n",
    "            prompt_template = template_prompt+\"\\nAnswer: {{answer}}\\n\\n\"\n",
    "            \n",
    "            result = []\n",
    "            count = 0\n",
    "            for item in tqdm(data):\n",
    "                label = item[\"label\"]\n",
    "                hypothesis = item[\"content\"]\n",
    "                premise = item[\"result\"]\n",
    "                #Important: You must use dot-product, not cosine_similarity\n",
    "                query_embedding = query_encoder.encode(premise)\n",
    "                scores = util.dot_score(query_embedding, passage_embeddings)\n",
    "                indexes = torch.topk(scores, 3).indices[0]\n",
    "                few_shot = few_shot_prompting(indexes, corpus, content, labels, prompt_template)\n",
    "                text = few_shot + prompting(premise, hypothesis, query_prompt)\n",
    "                #############################################\n",
    "                inputs = tokenizer(text, return_tensors=\"pt\")[\"input_ids\"].cuda()\n",
    "                outputs = model.generate(inputs, max_new_tokens=10)\n",
    "                output_text = format_output(tokenizer.decode(outputs[0]).replace(text, \"\").split(\"\\n\")[-1])\n",
    "                f.write(text)\n",
    "                f.write(\"\\n3-shot answer:\"+output_text+\"\\n\")\n",
    "                f.write(\"=========================================\\n\")\n",
    "                if count < 1:\n",
    "                    print(text)\n",
    "                # if count < 3:\n",
    "                #     print(output_text)\n",
    "                if \"yes\" in output_text or \"true\" in output_text:\n",
    "                    output_text = \"Y\"\n",
    "                else:\n",
    "                    output_text = \"N\"\n",
    "                if output_text == label:\n",
    "                    count+=1\n",
    "                # print(\"predict label: \", output_text, \"label: \", label)\n",
    "            # print(\"=======================================\")\n",
    "            # print(template_prompt)\n",
    "            # print(count, \"/\", len(data))\n",
    "            acc.update({template_prompt: count/len(data)})\n",
    "            print(acc)\n",
    "        writefile(acc, output+file+\".json\")\n",
    "        f.close()\n",
    "predict(model, tokenizer, path_file, passage_embeddings, [\"riteval_R01_en\",\"riteval_R02_en\",\"riteval_R03_en\",\"riteval_R04_en\"], \"../output/fewshot_detail/\")"
   ]
  },
  {
   "cell_type": "code",
   "execution_count": null,
   "id": "41a473ed-64dd-4b26-a75a-23cb40e2b8e2",
   "metadata": {},
   "outputs": [],
   "source": []
  }
 ],
 "metadata": {
  "kernelspec": {
   "display_name": "Python 3 (ipykernel)",
   "language": "python",
   "name": "python3"
  },
  "language_info": {
   "codemirror_mode": {
    "name": "ipython",
    "version": 3
   },
   "file_extension": ".py",
   "mimetype": "text/x-python",
   "name": "python",
   "nbconvert_exporter": "python",
   "pygments_lexer": "ipython3",
   "version": "3.10.13"
  }
 },
 "nbformat": 4,
 "nbformat_minor": 5
}
