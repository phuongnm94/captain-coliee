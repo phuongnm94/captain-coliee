{
 "cells": [
  {
   "cell_type": "code",
   "execution_count": 13,
   "id": "e078093c-3e5c-4f68-b487-24db956db42f",
   "metadata": {},
   "outputs": [],
   "source": [
    "test_file = \"../data/COLIEE2024statute_data-English/train/riteval_R04_en.xml\"\n",
    "dev_file = \"../data/COLIEE2024statute_data-English/train/riteval_R03_en.xml\""
   ]
  },
  {
   "cell_type": "code",
   "execution_count": 3,
   "id": "0d334bc7-c6cd-460e-af6a-e553480011a5",
   "metadata": {},
   "outputs": [
    {
     "name": "stdout",
     "output_type": "stream",
     "text": [
      "\u001b[0m\u001b[01;32mriteval_H18_en.xml\u001b[0m*  \u001b[01;32mriteval_H24_en.xml\u001b[0m*  \u001b[01;32mriteval_H30_en.xml\u001b[0m*\n",
      "\u001b[01;32mriteval_H19_en.xml\u001b[0m*  \u001b[01;32mriteval_H25_en.xml\u001b[0m*  \u001b[01;32mriteval_R01_en.xml\u001b[0m*\n",
      "\u001b[01;32mriteval_H20_en.xml\u001b[0m*  \u001b[01;32mriteval_H26_en.xml\u001b[0m*  \u001b[01;32mriteval_R02_en.xml\u001b[0m*\n",
      "\u001b[01;32mriteval_H21_en.xml\u001b[0m*  \u001b[01;32mriteval_H27_en.xml\u001b[0m*  \u001b[01;32mriteval_R03_en.xml\u001b[0m*\n",
      "\u001b[01;32mriteval_H22_en.xml\u001b[0m*  \u001b[01;32mriteval_H28_en.xml\u001b[0m*  \u001b[01;32mriteval_R04_en.xml\u001b[0m*\n",
      "\u001b[01;32mriteval_H23_en.xml\u001b[0m*  \u001b[01;32mriteval_H29_en.xml\u001b[0m*\n"
     ]
    }
   ],
   "source": [
    "ls ../data/COLIEE2024statute_data-English/train"
   ]
  },
  {
   "cell_type": "code",
   "execution_count": 4,
   "id": "33769468-80d5-41d3-9f4d-e60d97d5df92",
   "metadata": {},
   "outputs": [],
   "source": [
    "from os import listdir\n",
    "from os.path import isfile, join\n",
    "\n",
    "def get_all_files_from_path(mypath):\n",
    "    filenames = [join(mypath, f) for f in listdir(mypath) if isfile(join(mypath, f))]\n",
    "    return filenames"
   ]
  },
  {
   "cell_type": "code",
   "execution_count": 5,
   "id": "ef8b1369-cf1a-48cb-83b8-ae2271685852",
   "metadata": {},
   "outputs": [],
   "source": [
    "from bs4 import BeautifulSoup\n",
    "import re\n",
    "import json\n",
    "\n",
    "def get_article(articles):\n",
    "    result = {}\n",
    "    current_statue = \"(non-statute)\"\n",
    "    for i in re.split(r\"(.*)\", articles.strip()):\n",
    "        if len(i) == 0 or i == \"\\n\":\n",
    "            continue\n",
    "        if re.search(r\"^\\(.*\\)$\", i):\n",
    "            current_statue = i.strip()\n",
    "            if current_statue not in result:\n",
    "                result.update({current_statue: []})\n",
    "        else:\n",
    "            if current_statue not in result:\n",
    "                result.update({current_statue: []})\n",
    "            result[current_statue].append(i)\n",
    "    return result\n",
    "\n",
    "def build_test(filename):\n",
    "    result = {}\n",
    "    with open(filename, 'r') as f:\n",
    "        data = f.read()\n",
    "\n",
    "    data = BeautifulSoup(data, \"xml\").find_all('pair')\n",
    "    for i in data:\n",
    "        id = i.get('id')\n",
    "        result.update({id: {}})\n",
    "        result[id].update({\"label\": i.get('label')})\n",
    "        articles = i.find('t1').text.strip()\n",
    "        # articles = get_article(articles)\n",
    "        result[id].update({\"result\": articles})\n",
    "        result[id].update({\"content\": i.find('t2').text.strip()})\n",
    "    return result\n",
    "\n",
    "def write_json(filename, data):\n",
    "    with open(filename, 'w', encoding='utf-8') as f:\n",
    "        json.dump(data, f, ensure_ascii=False, indent=4)"
   ]
  },
  {
   "cell_type": "code",
   "execution_count": 6,
   "id": "aa9d6a49-6a59-46cf-a422-92e17bba8f72",
   "metadata": {},
   "outputs": [],
   "source": [
    "import xml.etree.ElementTree as Et\n",
    "import glob\n",
    "\n",
    "def format_first_line(text):\n",
    "    lines = text.split(\"\\n\")\n",
    "    results = []\n",
    "    for line in lines:\n",
    "        if line[0] == \"\":\n",
    "            continue\n",
    "        if line[0] == \"(\" and line[-1] == \")\":\n",
    "            continue\n",
    "        results.append(line)\n",
    "    return \"\\n\".join(results)\n",
    "\n",
    "def load_samples(filexml):\n",
    "    # try:\n",
    "        tree = Et.parse(filexml)\n",
    "        root = tree.getroot()\n",
    "        samples = []\n",
    "        for i in range(0, len(root)):\n",
    "            sample = {'result': []}\n",
    "            for j, e in enumerate(root[i]):\n",
    "                if e.tag == \"t1\":\n",
    "                    sample['result'] = format_first_line(e.text.strip())\n",
    "                elif e.tag == \"t2\":\n",
    "                    question = e.text.strip()\n",
    "                    sample['content'] = question if len(question) > 0 else None\n",
    "            sample.update(\n",
    "                {'index': root[i].attrib['id'], 'label': root[i].attrib.get('label', \"N\")})\n",
    "            # filter the noise samples\n",
    "            if sample['content'] is not None:\n",
    "                samples.append(sample)\n",
    "            else:\n",
    "                print(\"[Important warning] samples {} is ignored\".format(sample))\n",
    "        return samples\n",
    "\n",
    "def load_test_data_samples(path_folder_base, test_id):\n",
    "    data = []\n",
    "    test = load_samples(f\"{path_folder_base}/riteval_{test_id}.xml\")\n",
    "    for file_path in glob.glob(f\"{path_folder_base}/riteval_{test_id}.xml\"):\n",
    "        data = data + load_samples(file_path)\n",
    "    return data\n",
    "\n",
    "\n",
    "def load_all_data_samples(path_folder_base):\n",
    "    data = []\n",
    "    for file_path in glob.glob(\"{}/*.xml\".format(path_folder_base)):\n",
    "        data = data + load_samples(file_path)\n",
    "    return data\n",
    "\n",
    "def check_false_labels(pred, false_labels):\n",
    "\tfor label in false_labels:\n",
    "\t\tif label in pred:\n",
    "\t\t\treturn True\n",
    "\treturn False\n",
    "\n",
    "def prompting(prompt=\"{{premise}}\\nBased on the previous passage, {{hypothesis}}? \", data=None):\n",
    "    return prompt.replace(\"{{premise}}\", data['result']).replace('{{hypothesis}}', data['content'])"
   ]
  },
  {
   "cell_type": "code",
   "execution_count": 7,
   "id": "13c6d86d-44c0-420a-8514-e001ae4d3417",
   "metadata": {},
   "outputs": [],
   "source": [
    "filenames = get_all_files_from_path(\"../data/COLIEE2024statute_data-English/train\")\n",
    "\n",
    "for file in filenames:\n",
    "    data = build_test(file)\n",
    "    saved_file = file.split(\"/\")[-1][:-3]+\"json\"\n",
    "    write_json(\"../data/json/train/\"+saved_file, data)"
   ]
  },
  {
   "cell_type": "markdown",
   "id": "b8914aba-d1d0-4758-b7db-7c683bc2c627",
   "metadata": {},
   "source": [
    "# Evaluate"
   ]
  },
  {
   "cell_type": "code",
   "execution_count": 8,
   "id": "3ece315c-94a9-46e5-8ceb-251b28d62b72",
   "metadata": {
    "scrolled": true
   },
   "outputs": [
    {
     "data": {
      "text/plain": [
       "[{'result': \"Article 5 (1) A minor must obtain the consent of the minor's legal representative to perform a juridical act;provided, however, that this does not apply to a juridical act for merely acquiring a right or being released from an obligation.\\n(2) A juridical act in contravention of the provisions of the preceding paragraph is voidable.\\nArticle 6 (1) A minor who is permitted to conduct one or multiple types of business has the same capacity to act as an adult as far as that business is concerned.\",\n",
       "  'content': 'A juridical act by a minor who is permitted to conduct business may not be rescinded even if the judicial act does not concern the business.',\n",
       "  'index': 'R04-01-I',\n",
       "  'label': 'N'},\n",
       " {'result': \"Article 5 (1) A minor must obtain the consent of the minor's legal representative to perform a juridical act;provided, however, that this does not apply to a juridical act for merely acquiring a right or being released from an obligation.\\n(2) A juridical act in contravention of the provisions of the preceding paragraph is voidable.\\nArticle 120 (1) An act that is voidable on the grounds of the qualified legal capacity to act of the person who did the act may be rescinded only by the person with qualified legal capacity (in the case of an act performed by the person as a legal representative of another person with limited capacity, including that other person with limited capacity), or an agent or successor thereof, or a person who has the authority to give consent thereto.\",\n",
       "  'content': 'When a minor concludes a contract without obtaining the consent of the person who has the parental authority, the minor may not personally rescind the contract without the consent of the person who has the parental authority until the minor has attained the age of majority.',\n",
       "  'index': 'R04-01-U',\n",
       "  'label': 'N'},\n",
       " {'result': \"Article 5 (1) A minor must obtain the consent of the minor's legal representative to perform a juridical act;provided, however, that this does not apply to a juridical act for merely acquiring a right or being released from an obligation.\\n(2) A juridical act in contravention of the provisions of the preceding paragraph is voidable.\\nArticle 124 (1) The ratification of a voidable act does not become effective unless it is made after the circumstances that made the act voidable cease to exist and the person ratifying the act becomes aware of the right to rescind it.\\n(2) In the following cases, the ratification referred to in the preceding paragraph is not required to be made after the circumstances that made the act voidable cease to exist:\\n(ii) if a person with qualified legal capacity (excluding an adult ward) makes the ratification with the consent of a legal representative, curator or assistant.\",\n",
       "  'content': 'When a minor concludes a contract without obtaining the consent of the person who has the parental authority, the minor may not personally ratify the contract without the consent of the person who has the parental authority until the minor has attained the age of majority.',\n",
       "  'index': 'R04-01-E',\n",
       "  'label': 'Y'},\n",
       " {'result': 'Article 9 A juridical act performed by an adult ward is voidable;provided, however, that this does not apply to the purchase of daily necessities or to any other act involved in day-to-day life.',\n",
       "  'content': 'If an adult ward acquires land by gift, the guardian of the adult ward may not rescind the gift.',\n",
       "  'index': 'R04-02-A',\n",
       "  'label': 'N'},\n",
       " {'result': 'Article 9 A juridical act performed by an adult ward is voidable;provided, however, that this does not apply to the purchase of daily necessities or to any other act involved in day-to-day life.\\nArticle 102 An act that a person with qualified legal capacity performs as an agent of another person may not be rescinded on the grounds of qualified legal capacity;provided, however, that this does not apply to an act performed by a person with qualified legal capacity as a legal representative of another person with qualified legal capacity.',\n",
       "  'content': 'An act that A, an adult ward, performs as legal representative of B, a minor, may not be rescinded on the grounds of qualified legal capacity of A.',\n",
       "  'index': 'R04-02-U',\n",
       "  'label': 'N'},\n",
       " {'result': \"Article 158 (2) If a minor or an adult ward has a right vis-a-vis the minor's or the adult ward's father, mother, or guardian who manages the property, the prescription period does not expire with respect to that right until six months have passed from the time when that minor or adult ward becomes a person with capacity to act, or a succeeding legal representative assumes the position.\",\n",
       "  'content': \"If A, an adult ward, has a right vis-a-vis the adult ward's guardian who manages the property, the prescription period will not expire with respect to that right until the statutory period has passed from the time when A becomes a person with capacity to act, or a succeeding legal representative assumes the position.\",\n",
       "  'index': 'R04-02-E',\n",
       "  'label': 'Y'},\n",
       " {'result': 'Article 97 (1) A manifestation of intention becomes effective at the time notice thereof reaches the other party.',\n",
       "  'content': 'A manifestation of intention to a person at a distance will not be effective until the other party recognizes it.',\n",
       "  'index': 'R04-03-A',\n",
       "  'label': 'N'},\n",
       " {'result': \"Article 5 (1) A minor must obtain the consent of the minor's legal representative to perform a juridical act;provided, however, that this does not apply to a juridical act for merely acquiring a right or being released from an obligation.\\n(2) A juridical act in contravention of the provisions of the preceding paragraph is voidable.\\nArticle 20 (1) After a person with qualified legal capacity who is involved in dealings with another party becomes a person with the legal capacity to act (meaning a person whose legal capacity to act is not subject to restrictions; the same applies hereinafter), the other party to those dealings may fix a period of one month or longer and demand that the person give a definite answer within that period of time as to whether the person will ratify an act that the person may rescind. In such a case, if the person fails to send a definite answer within that period of time, the person is deemed to have ratified that act.\\n(2) The second sentence of the preceding paragraph also applies if, before the person with qualified legal capacity becomes a person with the legal capacity to act, the other party to dealings involving the person with qualified legal capacity lodges the demand prescribed in the preceding paragraph with the legal representative, curator, or assistant of that person with respect to an act within the scope of their authority, and they fail to send a definite answer within the fixed period of time referred to in that paragraph.\",\n",
       "  'content': 'B, who concluded a contract with A, a minor, demanded that C, the legal representative of A, give a definite answer whether C will ratify the contract. In this case, if C fails to send a definite answer within the period of time fixed by B, C is deemed to have rescinded that act.',\n",
       "  'index': 'R04-03-I',\n",
       "  'label': 'N'},\n",
       " {'result': \"Article 93 (1) The validity of a manifestation of intention is not impaired even if the person making it does so while knowing that it does not reflect that person's true intention;provided, however, that if the other party knew or could have known that the manifestation was not the true intention of the person who made it, that manifestation of intention is void.\\n(2) The nullity of a manifestation of intention under the provisions of the proviso to the preceding paragraph may not be duly asserted against a third party in good faith.\",\n",
       "  'content': 'The nullity of a manifestation of intention based on the mental reservation may not be duly asserted against a third party in good faith with negligence.',\n",
       "  'index': 'R04-03-U',\n",
       "  'label': 'Y'},\n",
       " {'result': 'Article 95 (3) If a mistake is due to gross negligence on the part of the person making the manifestation of intention, that person may not rescind a manifestation of intention as under paragraph (1), except in the following cases:\\n(ii) if the other party was under the same mistake as the person making the manifestation of intention.',\n",
       "  'content': 'The manifestation of intention based on the mistake may not be rescinded if the mistake is due to gross negligence on the part of the person making the manifestation of intention, and the other party is under the same mistake as the person making the manifestation of intention.',\n",
       "  'index': 'R04-03-E',\n",
       "  'label': 'N'},\n",
       " {'result': 'Article 96 (1) A manifestation of intention based on fraud or duress is voidable.\\n(2) If a third party commits a fraud inducing a first party to make a manifestation of intention to a second party, that manifestation of intention is voidable only if the second party knew or could have known that fact.',\n",
       "  'content': 'If a third party commits duress forcing a first party to make a manifestation of intention to a second party, that manifestation of intention is voidable even if the second party could not have known that fact.',\n",
       "  'index': 'R04-03-O',\n",
       "  'label': 'Y'},\n",
       " {'result': 'Article 120 (1) An act that is voidable on the grounds of the qualified legal capacity to act of the person who did the act may be rescinded only by the person with qualified legal capacity (in the case of an act performed by the person as a legal representative of another person with limited capacity, including that other person with limited capacity), or an agent or successor thereof, or a person who has the authority to give consent thereto.\\n(2) An act that is voidable on the grounds of a mistake, fraud or duress may be rescinded only by the person who made the defective manifestation of intention, or an agent or successor thereof.',\n",
       "  'content': 'A guarantor of an obligation arising from a judicial act which may be voidable may not rescind the judicial act.',\n",
       "  'index': 'R04-04-A',\n",
       "  'label': 'Y'},\n",
       " {'result': 'Article 120 (1) An act that is voidable on the grounds of the qualified legal capacity to act of the person who did the act may be rescinded only by the person with qualified legal capacity (in the case of an act performed by the person as a legal representative of another person with limited capacity, including that other person with limited capacity), or an agent or successor thereof, or a person who has the authority to give consent thereto.\\nArticle 122 A voidable act may not be rescinded after the person prescribed in Article 120 ratifies it.',\n",
       "  'content': 'A, a person under curatorship, may not rescind a judicial act by A after the legal representative ratifies the judicial act.',\n",
       "  'index': 'R04-04-I',\n",
       "  'label': 'Y'},\n",
       " {'result': 'Article 96 (1) A manifestation of intention based on fraud or duress is voidable.\\n(2) If a third party commits a fraud inducing a first party to make a manifestation of intention to a second party, that manifestation of intention is voidable only if the second party knew or could have known that fact.\\nArticle 123 If the counterparty to a voidable act is identified, the voidance or ratification of that act is made by the manifestation of intention to the counterparty.',\n",
       "  'content': 'If A makes a manifestation of intention of selling an immovable to C because of the fraud by B, the third party, the rescission of that act is made by the manifestation of intention to both B and C.',\n",
       "  'index': 'R04-04-U',\n",
       "  'label': 'N'},\n",
       " {'result': 'Article 121 An act that has been rescinded is deemed void ab initio.\\nArticle 121-2 (1) A person that has received payment or delivery as the performance of an obligation based on a void act has an obligation to restore the other party to the original state.\\n(3) Notwithstanding the provisions of paragraph (1), a person who has no mental capacity at the time of performing an act has an obligation to return to the extent currently enriched by the act. The same applies to a person who is a person with qualified legal capacity at the time of performing an act.',\n",
       "  'content': 'If a loan of money made by A, a person under curatorship, is cancelled, A has the obligation to return the entire amount of the loan to the lender, even if the loan has been spent gambling until then.',\n",
       "  'index': 'R04-04-E',\n",
       "  'label': 'N'},\n",
       " {'result': 'Article 126 The right to rescind an act is extinguished by the operation of the prescription if it is not exercised within five years from the time when it becomes possible to ratify the act. The same applies if 20 years have passed from the time of the act.',\n",
       "  'content': 'The right to rescind an act is extinguished by the operation of the prescription if it is not exercised within five years from the voidable act.',\n",
       "  'index': 'R04-04-O',\n",
       "  'label': 'N'},\n",
       " {'result': 'Article 145 The court may not make a judicial decision relying on prescription unless a party (in the case of extinctive prescription, including a guarantor, third-party collateral provider, third party acquirer, or any other person with a legitimate interest in the extinction of a right) invokes it.',\n",
       "  'content': 'The one who acquired Land X after the mortgage had been created on Land X and the creation had been registered may invoke the extinctive prescription of the secured claim under the mortgage.',\n",
       "  'index': 'R04-05-U',\n",
       "  'label': 'Y'},\n",
       " {'result': 'Article 177 Acquisitions of, losses of and changes in real rights on immovables may not be duly asserted against any third parties, unless the same are registered pursuant to the applicable provisions of the Real Property Registration Act (Act No. 123 of 2004) and other laws regarding registration.',\n",
       "  'content': 'A sold Building X, owned by A, to B, but the registration of preservation of ownership of Building X has not been made. In this case, B may duly assert the acquisition of ownership against the third party without the registration in the name of B.',\n",
       "  'index': 'R04-06-A',\n",
       "  'label': 'N'},\n",
       " {'result': 'Article 179 (1) If ownership and another real right on the same thing are acquired by the same person, the other real right is extinguished;provided, however, that this does not apply if that thing or the other real right is the object of the right of a third party.',\n",
       "  'content': 'A created the first-ranked mortgage for the benefit of B and the second-ranked mortgage for the benefit of C on Land X, owned by A. In this case, if B purchases Land X from A, the mortgage for B shall be extinguished.',\n",
       "  'index': 'R04-07-A',\n",
       "  'label': 'N'},\n",
       " {'result': 'Article 179 (1) If ownership and another real right on the same thing are acquired by the same person, the other real right is extinguished;provided, however, that this does not apply if that thing or the other real right is the object of the right of a third party.',\n",
       "  'content': 'A created the superficies on Land X, owned by A, for the benefit of B, and B created the mortgage on the superficies for the benefit of C. In this case, if A dies and B is the only heir, the superficies for B shall be extinguished.',\n",
       "  'index': 'R04-07-I',\n",
       "  'label': 'N'},\n",
       " {'result': 'Article 179 (1) If ownership and another real right on the same thing are acquired by the same person, the other real right is extinguished;provided, however, that this does not apply if that thing or the other real right is the object of the right of a third party.',\n",
       "  'content': 'A created the superficies on Land X, owned by A, for the benefit of B, and B leased Building Y, built on Land X, to C. In this case, if A dies and B is the only heir, the superficies for B shall be extinguished.',\n",
       "  'index': 'R04-07-O',\n",
       "  'label': 'Y'},\n",
       " {'result': 'Article 178 The transfer of a real right on movables may not be duly asserted against a third party, unless the movables are delivered.\\nArticle 184 If a thing is possessed through an agent, the principal orders that agent to thenceforward possess that thing on behalf of a third party, and that third party consents thereto, the third party acquires the possessory rights.',\n",
       "  'content': 'A sold Painting X, owned by A, to C while depositing it with B and ordered B to thenceforward possess X on behalf of C, and B consented thereto. In this case, C may duly assert the acquisition of the ownership of X against any third parties.',\n",
       "  'index': 'R04-08-A',\n",
       "  'label': 'N'},\n",
       " {'result': \"Article 182\\n(2) If a transferee or the agent of a transferee is actually holding the thing under possession, the transfer of possessory rights may be effected by the parties' manifestations of intention alone.\\nArticle 178 The transfer of a real right on movables may not be duly asserted against a third party, unless the movables are delivered.\",\n",
       "  'content': 'B kept Painting X, owned by A, from A and possessed it. Thereafter B purchased X from A, and A and B manifested an intention to transfer the possession to B. In this case, B may duly assert the acquisition of the ownership of X against any third parties.',\n",
       "  'index': 'R04-08-O',\n",
       "  'label': 'Y'},\n",
       " {'result': 'Article 211 (1) In the cases referred to in the preceding Article, the location and method of passage must be chosen so as to meet the needs of the person that is entitled to the right-of-way under the provisions of that Article and cause the least damage to the other land.',\n",
       "  'content': 'Land X, owned by A, is surrounded by other land and has no access to a public road, and Land Y, owned by B, surrounds Land X. A has a right to pass through Land Y in order to reach a public road. In this case, the location and method of passage must be chosen so as to meet the needs of A and cause the least damage to Land Y.',\n",
       "  'index': 'R04-09-A',\n",
       "  'label': 'Y'},\n",
       " {'result': 'Article 211\\n(2) A person that holds the right-of-way under the provisions of the preceding Article may construct a road if necessary.',\n",
       "  'content': 'Land X, owned by A, is surrounded by other land and has no access to a public road, and Land Y, owned by B, surrounds Land X. A has a right to pass through Land Y in order to reach a public road. In this case, A must obtain the consent of B to construct a road on Land Y.',\n",
       "  'index': 'R04-09-I',\n",
       "  'label': 'N'},\n",
       " {'result': \"Article 267 The provisions of Section 1, Subsection 2 of the preceding Chapter (Neighboring Relationships) apply mutatis mutandis between superficiaries or between a superficiary and a landowner;provided, however, that the mutatis mutandis application of the provisions of Article 229 to superficiaries is limited to when structures on the boundary line are installed after the establishment of the superficies.\\nArticle 210 (1) An owner of land that is surrounded by other land and has no access to a public road may pass through the other land that surrounds that owner's land to reach a public road.\",\n",
       "  'content': 'Land X, owned by A, is surrounded by other land and has no access to a public road, and Land Y, owned by B, surrounds Land X. A has a right to pass through Land Y in order to reach a public road. In this case, C, the superficiary of Land X, may pass through Land Y without the consent of B.',\n",
       "  'index': 'R04-09-U',\n",
       "  'label': 'Y'},\n",
       " {'result': \"Article 253\\n(2) If a co-owner does not perform the obligations referred to in the preceding paragraph within one year, other co-owners may acquire that co-owner's interest by paying a reasonable compensation.\",\n",
       "  'content': 'A, B, and C co-own Land X with one-third interest each. If one year has passed without A performing the obligation to pay B the expenses of management of Land X, B may acquire the interest of A by paying a reasonable compensation.',\n",
       "  'index': 'R04-10-U',\n",
       "  'label': 'Y'},\n",
       " {'result': 'Article 259 (1) If one of the co-owners holds a claim regarding co-ownership against other co-owners, upon partition, the portion of the property in co-ownership that belongs to the obligor may be appropriated for the payment of the same.',\n",
       "  'content': 'A, B, and C co-own Land X with one-third interest each. In this case, if A holds a claim for the expenses of management of Land X against B, upon the partition of Land X in kind, the portion that is to belong to B may be appropriated for the payment of the same.',\n",
       "  'index': 'R04-10-O',\n",
       "  'label': 'Y'},\n",
       " {'result': 'Article 295\\n(2) The provisions of the preceding paragraph do not apply if possession commenced by means of a tortious act.',\n",
       "  'content': 'A commenced possession of Building X, owned by B, while knowing there is no title, and thereafter A obtained a claim that has arisen in relation to X. In this case, A may retain X until that claim is satisfied.',\n",
       "  'index': 'R04-11-A',\n",
       "  'label': 'N'},\n",
       " {'result': 'Article 304 (1) A statutory lien may also be exercised against things including monies that the obligor is to receive as a result of the sale, lease or loss of, or damage to, the subject matter of the statutory lien;provided, however, that the holder of the statutory lien must attach the same before the payment or delivery of the monies or other thing.',\n",
       "  'content': 'The holder of the right of retention may also exercise the right of the retention over the insurance claim which the obligor should receive because of the loss of the thing retained, by attaching the same.',\n",
       "  'index': 'R04-11-U',\n",
       "  'label': 'N'},\n",
       " {'result': 'Article 298\\n(2) The holder of the right of retention may not use, lease or provide as a security the thing retained unless that holder obtains the consent of the obligor;provided, however, that this does not apply to uses necessary for the preservation of that thing.\\n(3) If the holder of a right of retention violates the provisions of the preceding two paragraphs, the obligor may demand that the right of retention be terminated.',\n",
       "  'content': 'The holder of the right of retention leased the thing retained without obtaining the consent of the obligor. In this case, if the lease is terminated and the thing retained is returned to the holder, the obligor may not demand that the right of retention be terminated.',\n",
       "  'index': 'R04-11-E',\n",
       "  'label': 'N'},\n",
       " {'result': \"Article 303 The holder of a statutory lien has the rights to have that holder's own claim satisfied prior to other obligees out of the assets of the relevant obligor in accordance with the provisions of laws including this Act.\",\n",
       "  'content': 'A sold Mechanical Tool X, owned by A, to B and delivered X to B. In this case, if B does not perform the payment obligation even after the due date arrives, A may claim for the delivery of X against B based on statutory liens.',\n",
       "  'index': 'R04-12-A',\n",
       "  'label': 'N'},\n",
       " {'result': 'Article 334 If there is conflict between a statutory lien and a pledge on movables, the pledgee of those movables has the same rights as those of the holder of a statutory lien of the first rank under Article 330.\\nArticle 330 (1) If there are competing special statutory liens against the same movables, the order of priority follows the order set forth below.In this case, if there are two or more preservers with respect to the statutory liens for preservation of movables set forth in item (ii), a new preserver has priority over previous preservers:\\n(i) statutory liens for leases of immovables, lodging at hotels and transportation;\\n(ii) statutory liens for the preservation of movables; and\\n(iii) statutory liens for the sale of movables, the supply of seeds and seedlings or fertilizer, agricultural labor and industrial labor.\\n(2) In the cases referred to in the preceding paragraph, if a holder of a statutory lien ranked first knew at the time of acquiring the relevant claim of the existence of a holder of a statutory lien of the second or third rank, that holder may not exercise the relevant rights of priority against those persons. The same applies to the exercise against persons that have preserved things on behalf of the holder of a statutory lien of the first rank.',\n",
       "  'content': 'A sold Mechanical Tool X, owned by A, to B and delivered X to B. Then B created a pledge on X for the benefit of C and completed the delivery, and as of the time when C acquired the pledge, C did not know that A had a statutory lien. In this case, the pledge for C shall have priority over the statutory lien for A.',\n",
       "  'index': 'R04-12-U',\n",
       "  'label': 'Y'},\n",
       " {'result': \"Article 366 (2) If monies are the subject matter of a pledged claim, the pledgee may collect the same to the extent of the portion that corresponds to the amount of the pledgee's own claim.\",\n",
       "  'content': 'B created a pledge over Loan Claim Y of B against C in order to secure Loan Claim X of A against B, and B orally notified C to that effect. In this case, if both Claim X and Claim Y are due, A may directly collect Claim Y from C to the extent of the portion that corresponds to the amount of Claim X.',\n",
       "  'index': 'R04-13-U',\n",
       "  'label': 'Y'},\n",
       " {'result': 'Article 366\\n(3) If the due date of the pledged claim referred to in the preceding paragraph arrives prior to the due date of the claim of the pledgee, the pledgee may have the third party obligor deposit with official depository that amount to be paid to the pledgee. In this case, the pledge exists over the amount so deposited.',\n",
       "  'content': 'B created a pledge over Loan Claim Y of B against C in order to secure Loan Claim X of A against B, and B orally notified C to that effect. In this case, if the due date of Claim Y arrives prior to the due date of Claim X, A may have C deposit with official depository that amount to be paid.',\n",
       "  'index': 'R04-13-E',\n",
       "  'label': 'Y'},\n",
       " {'result': \"Article 350 The provisions of Articles 296 through 300 and those of Article 304 apply mutatis mutandis to pledges.\\nArticle 297 (1) A holder of a right of retention may collect fruits derived from the thing retained, and appropriate the same to the satisfaction of that holder's own claim before other obligees.\",\n",
       "  'content': 'B created a pledge over Loan Claim Y of B against C in order to secure Loan Claim X of A against B, and B orally notified C to that effect. In this case, the scope of effect of the pledge of the claim shall not extend to the interest arising from Claim Y.',\n",
       "  'index': 'R04-13-O',\n",
       "  'label': 'N'},\n",
       " {'result': 'Article 377 (1) In the cases in the preceding Article, the mortgagee may not duly assert the disposition of mortgages against principal obligors, guarantors, mortgagors or their respective successors unless the disposition is notified to the principal obligors or the principal obligors consent to that disposition in accordance with the provisions of Article 467.\\nArticle 376 (1) A mortgagee may apply the mortgage to secure other claims, or assign or waive that mortgage, or its order of priority, for the benefit of other obligees of the same obligor.',\n",
       "  'content': 'A created a mortgage on Land X, owned by A, in order to secure the obligation against B, and B assigned the mortgage to C, who was a general creditor of A. In this case, C may not duly assert the assignment of the mortgage against A unless B notifies A of this or A consents to this.',\n",
       "  'index': 'R04-14-A',\n",
       "  'label': 'Y'},\n",
       " {'result': 'Article 374 (1) The order of priority of mortgages may be changed with the agreement of all mortgagees;provided, however, that if there are interested persons, the consent of the same must be obtained.',\n",
       "  'content': 'A created the first-ranked mortgage for the benefit of B, the second-ranked mortgage for the benefit of C, and the third-ranked mortgage for the benefit of D on Land X, owned by A. In this case, the consent of C shall not be required in order to change the order of priority of the mortgage in the order of D, C, and B.',\n",
       "  'index': 'R04-14-U',\n",
       "  'label': 'N'},\n",
       " {'result': 'Article 389 (1) If a building is constructed on a mortgaged land after the creation of a mortgage, the mortgagee may auction the building together with the land;provided, however, that the right of priority of that mortgagee may be exercised solely against the proceeds of the land.',\n",
       "  'content': 'A created a mortgage on Land X, which was vacant land and owned by A, for the benefit of B, and thereafter built Building Y on Land X. In this case, if B enforces the mortgage and auctions Land X and Building Y at once, B may receive preferential payment from proceeds of the sale of Building Y.',\n",
       "  'index': 'R04-14-E',\n",
       "  'label': 'N'},\n",
       " {'result': 'Article 378 If a third party that purchases the ownership or superficies of a mortgaged immovables pays the price of the same to a mortgagee at the request of the same mortgagee, that mortgage is terminated for the benefit of that third party.',\n",
       "  'content': 'A created a mortgage on Land X, owned by A, for the benefit of B and thereafter sold Land X to C. In this case, if C pays the price of the same to B at the request of B, the mortgage shall be terminated.',\n",
       "  'index': 'R04-14-O',\n",
       "  'label': 'Y'},\n",
       " {'result': \"Article 413 (1) If the obligee refuses, or is unable, to accept the tender of the performance of an obligation, and the subject matter of the obligation is the delivery of a specific thing, it is sufficient for the obligor to retain the thing by exercising care identical to that the obligor exercises for the obligor's own property, during the period from the time of the tender of the performance until the delivery of the thing.\",\n",
       "  'content': 'A seller of a specific thing tendered the performance of the obligation of the delivery of the subject matter. In this case, if the buyer is not able to accept the subject matter, the seller must retain the thing with the due care of a prudent manager, which is determined in light of the contract and the common sense in the transaction, from the time of the tender of the performance until the completion of the delivery.',\n",
       "  'index': 'R04-16-I',\n",
       "  'label': 'N'},\n",
       " {'result': \"Article 413 (2) If the obligee's refusal or inability to accept the performance of an obligation results in increasing the expenses for the performance, the amount of increase is borne by the obligee.\",\n",
       "  'content': 'A seller of a specific thing tendered the performance of the obligation of the delivery of the subject matter. In this case, if the buyer is not able to accept the subject matter, the buyer must bear the cost required for the seller to continue to keep the subject matter in custody.',\n",
       "  'index': 'R04-16-U',\n",
       "  'label': 'Y'},\n",
       " {'result': 'Article 492 Upon tendering the performance, the obligor is relieved from any and all responsibilities which may arise from the non-performance of the obligation.',\n",
       "  'content': 'A seller of a specific thing tendered the performance of the obligation of the delivery of the subject matter. In this case, if the buyer is not able to accept the subject matter, the seller shall be relieved from the responsibilities for the delay from the time when the seller tendered the performance.',\n",
       "  'index': 'R04-16-E',\n",
       "  'label': 'Y'},\n",
       " {'result': 'Article 567 (2) The preceding paragraph also applies if the seller tenders the performance of the obligation of delivery by delivering the subject matter that conforms to the terms of the contract, but the buyer refuses to accept or is unable to accept the performance, and the subject matter is lost or damaged after the time of the tender of the performance due to any grounds not attributable to either party.',\n",
       "  'content': 'A seller of a specific thing tendered the performance of the obligation of the delivery of the subject matter. The buyer refused to accept the subject matter, and thereafter the subject matter was lost due to grounds attributable to neither the seller nor the buyer. In this case, the buyer may cancel the contract.',\n",
       "  'index': 'R04-16-O',\n",
       "  'label': 'N'},\n",
       " {'result': \"Article 473 If the obligor performs an obligation to the obligee, the claim is extinguished.\\nArticle 423-4 If the obligee exercises the subrogor's right, the other party may duly assert against the obligee any defense that can be asserted against the obligor.\",\n",
       "  'content': 'A requested the performance of the monitory claim of B against C based on the obligee’s right of subrogation to preserve the claim of A against B, but C had already performed the monitory obligation against B before the due date. In this case, C may not duly assert the extinguish of the claim by the performance against A.',\n",
       "  'index': 'R04-18-A',\n",
       "  'label': 'N'},\n",
       " {'result': \"Article 423-2 If the obligee exercises the subrogor's right, and the subject matter of the subrogor's right is divisible, the obligee may exercise the subrogor's right only to the extent of the amount of the obligee's own claim.\",\n",
       "  'content': 'If A holds a monitory claim against B, and B holds a monitory claim against C, A may not exercise the claim of B against C beyond the amount of A’s claim, based on the obligee’s right of subrogation to preserve the claim of A against B.',\n",
       "  'index': 'R04-18-U',\n",
       "  'label': 'Y'},\n",
       " {'result': \"Article 423-7 A person that has acquired by assignment from another person a property for which the acquisition or loss of rights and the change to rights cannot be duly asserted against a third party unless registered may exercise the assignor's right to request a third party to complete the registration procedure if the assignor does not exercise that right. In such a case, the provisions of the preceding three Articles apply mutatis mutandis.\",\n",
       "  'content': 'B purchased the land from its owner C and resold it to A. In this case, if B does not exercise the right to request the registration of the transfer of the ownership against C, A may request C directly transfer the registration to A based on the obligee’s right of subrogation to preserve the claim of A against B.',\n",
       "  'index': 'R04-18-O',\n",
       "  'label': 'N'},\n",
       " {'result': \"Article 449 If a guarantor that guarantees an obligation which may be voidable due to the principal obligor's limited capacity to act, is aware, at the time of entering into a guarantee contract, of the cause for its voidability, that guarantor is presumed to have assumed an independent obligation of the same subject matter in the event of non-performance by the principal obligor or rescission of the obligation.\",\n",
       "  'content': 'If a guarantor that guarantees an obligation which may be voidable due to the limited capacity to act, is aware, at the time of conclusion of the guarantee contract, of the cause for its voidability, that guarantor is presumed to have assumed an independent obligation of the same subject matter in the event of non-performance by the principal obligor or rescission of the obligation.',\n",
       "  'index': 'R04-19-A',\n",
       "  'label': 'Y'},\n",
       " {'result': 'Article 462 (1) The provisions of Article 459-2, paragraph (1) apply mutatis mutandis if a person, that has given guarantee without the request of the principal obligor, performs an act for extinguishment of obligation.\\n(2) A person that has become a guarantor against the will of the principal obligor has the right to reimbursement only to the extent currently enriched.In this case, if the principal obligor asserts to have grounds for set-off against the obligee prior to the day of the demand for reimbursement, the guarantor may demand that the obligee perform the obligation which would have been extinguished by that set-off.\\nArticle 459-2(1) If a guarantor gives a guarantee as requested by the principal obligor and performs an act for extinguishment of obligation before the due date of the principal obligation, the guarantor has the right to reimbursement from the principal obligor to the extent that the principal obligor was enriched at the time of the act. In such a case, if the principal obligor alleges to have had grounds for set-off prior to the day of the act for extinguishment of obligation, the guarantor may request the obligee to perform the obligation which should have been extinguished due to the set-off.',\n",
       "  'content': 'In the case where the guarantee was given against the will of the principal obligor, the guarantor who performed the guarantee obligation has the right to reimbursement to the extent that the principal obligor was enriched at the time of the performance.',\n",
       "  'index': 'R04-19-I',\n",
       "  'label': 'N'},\n",
       " {'result': \"Article 463 (2) If a guarantor gives a guarantee as requested by the principal obligor and performs an act for extinguishment of obligation in good faith because of the principal obligor's failure to notify the guarantor of the principal obligor's performance of an act for extinguishment of obligation, the guarantor may deem that the guarantor's own act for extinguishment of obligation is valid.\",\n",
       "  'content': 'In the case where the guarantee was given without the request of the principal obligor, the principal obligor performed the obligation but did not notify the guarantor of the fact. In this case, if the guarantor performed the obligation of the guarantee without knowing the performance by the principal obligor, the guarantor may deem that the performance is valid.',\n",
       "  'index': 'R04-19-U',\n",
       "  'label': 'N'},\n",
       " {'result': 'Article 446(1) A guarantor has the responsibility to perform the obligation of the principal obligor when the latter fails to perform that obligation.\\nArticle 505(1) If two persons bear an obligation to each other that has the same kind of purpose and if both obligations are due, each obligor may be relieved from the obligation by setting off the value of that obligation against the corresponding amount of the obligation of the other obligor;provided, however, that this does not apply if the nature of the obligation does not permit such a set-off.',\n",
       "  'content': 'If a guarantor who was requested by the obligee the performance of the guarantee obligation invokes a set-off with the guarantor’s claim against the obligee, the principal obligation shall be extinguished at the corresponding amount.',\n",
       "  'index': 'R04-19-E',\n",
       "  'label': 'Y'},\n",
       " {'result': \"Article 465(1) If there are multiple guarantors, and one guarantor has paid the entire amount of the obligation or any amount exceeding that guarantor's share because the principal obligation is indivisible, or because there is a special provision to the effect that each guarantor should pay the entire amount, the provisions of Articles 442 through 444 apply mutatis mutandis.\\nArticle 442(1) If one of the joint and several obligors performs the obligation or otherwise obtain a common discharge in exchange for that obligor's own property, the joint and several obligor has the right to reimbursement from other joint and several obligors for the amounts in proportion to their respective shares of the obligation of the amount of the property expended by the joint and several obligor in order to obtain the discharge (if the amount of property exceeds the amount after the common discharge, the amount thus discharged), regardless of whether the amount discharged exceeds the amount of the joint and several obligor's own share.\",\n",
       "  'content': 'In the case where one of the multiple jointly and severally liable guarantors performed the guarantee obligation, the guarantor may claim the reimbursement against the other jointly and severally liable guarantors regardless of whether the amount exceeded the guarantor’s own share.',\n",
       "  'index': 'R04-19-O',\n",
       "  'label': 'N'},\n",
       " {'result': 'Article 466-6 (2) If a claim is assigned, and the claim is yet to arise by the time of the manifestation of intention to assign it, the assignee by operation of law acquires the claim when it arises.\\n(3) In the case prescribed in the preceding paragraph, if the assignor makes the manifestation of intention to restrict assignment by the time when the assignor gives notice under the provisions of the following Article or the obligor gives consent under the provisions of that Article (hereinafter referred to as the \"time of completion of perfection\"), a third party such as the assignee is deemed to have known this, and the provisions of Article 466, paragraph (3) (or paragraph (1) of the preceding Article if the claim subject to the manifestation of intention to restrict assignment is a claim for deposits) apply thereto.\\nArticle 466 (3) In the case prescribed in the preceding paragraph, the obligor may refuse to perform the obligation to a third party such as the assignee that knew or did not know due to gross negligence that the manifestation of intention to restrict assignment was made, and may duly assert against such third party any event that results in extinguishment of the obligation such as payment to the assignor.',\n",
       "  'content': 'A assigned Claim X, the claim of the payment of the sales price against B, which should be arisen in the future, to C and notified B of the assignment. Then A and B made a special agreement prohibiting the assignment of Claim X, and thereafter Claim X arose. In this case, B may deem that C knew the existence of the special agreement and may refuse to perform the obligation.',\n",
       "  'index': 'R04-20-A',\n",
       "  'label': 'N'},\n",
       " {'result': 'Article 466 (2) Even if a party to a claim manifests the intention to prohibit or restrict the assignment of the claim (hereinafter referred to as the \"manifestation of intention to restrict assignment\"), the validity of the assignment of the claim is not impaired.\\n(3) In the case prescribed in the preceding paragraph, the obligor may refuse to perform the obligation to a third party such as the assignee that knew or did not know due to gross negligence that the manifestation of intention to restrict assignment was made, and may duly assert against such third party any event that results in extinguishment of the obligation such as payment to the assignor.\\n(4) The provisions of the preceding paragraph do not apply if the obligor does not perform the obligation, and the third party prescribed in that paragraph makes a demand to the obligor for the performance to the assignor by specifying a reasonable period of time, but the obligor does not perform the obligation within that period.',\n",
       "  'content': 'Claim X, the claim of the payment of the sales price of A against B, has a special agreement prohibiting the assignment, but C acquired Claim X while knowing the existence of the special agreement prohibiting the assignment. C made a demand to B for the performance to C by specifying a reasonable period of time, but B did not perform the obligation within that period. In this case, B may not refuse to perform the obligation to C based on the special agreement prohibiting the assignment.',\n",
       "  'index': 'R04-20-I',\n",
       "  'label': 'N'},\n",
       " {'result': 'Article 466 (2) Even if a party to a claim manifests the intention to prohibit or restrict the assignment of the claim (hereinafter referred to as the \"manifestation of intention to restrict assignment\"), the validity of the assignment of the claim is not impaired.\\n(3) In the case prescribed in the preceding paragraph, the obligor may refuse to perform the obligation to a third party such as the assignee that knew or did not know due to gross negligence that the manifestation of intention to restrict assignment was made, and may duly assert against such third party any event that results in extinguishment of the obligation such as payment to the assignor.',\n",
       "  'content': 'Claim X, the claim of the payment of the sales price of A against B, has a special agreement prohibiting the assignment, but C acquired Claim X and assigned it to D while knowing the existence of the special agreement prohibiting the assignment. In this case, if D does not know the existence of the special agreement without gross negligence, B may not refuse to perform the obligation to D based on the special agreement prohibiting the assignment.',\n",
       "  'index': 'R04-20-U',\n",
       "  'label': 'Y'},\n",
       " {'result': 'Article 466-2 (1) If a claim for payment of money subject to the manifestation of intention to restrict assignment is assigned to a third party, the obligor may deposit the amount of money equivalent to the full amount of the claim with an official depository having jurisdiction over the place of performance of the obligation (including the current domicile of the assignor if the place of performance of the obligation is determined on the basis of the current domicile of the obligee; the same applies in the following Article).',\n",
       "  'content': 'Claim X, the claim of the payment of the sales price of A against B, has a special agreement prohibiting the assignment, but Claim X was assigned. In this case, B may deposit the amount of money equivalent to the full amount of the claim with an official depository.',\n",
       "  'index': 'R04-20-E',\n",
       "  'label': 'Y'},\n",
       " {'result': 'Article 466 (2) Even if a party to a claim manifests the intention to prohibit or restrict the assignment of the claim (hereinafter referred to as the \"manifestation of intention to restrict assignment\"), the validity of the assignment of the claim is not impaired.\\n(3) In the case prescribed in the preceding paragraph, the obligor may refuse to perform the obligation to a third party such as the assignee that knew or did not know due to gross negligence that the manifestation of intention to restrict assignment was made, and may duly assert against such third party any event that results in extinguishment of the obligation such as payment to the assignor.\\nArticle 466-4 (1) The provisions of Article 466, paragraph (3) do not apply to an attaching obligee that has enforced compulsory execution against a claim that is subject to the manifestation of intention to restrict assignment.\\n(2) Notwithstanding the provisions of the preceding paragraph, if a third party such as the assignee knew or did not know due to gross negligence that the manifestation of intention to restrict assignment was made, and the obligee of the assignee or other third party enforces compulsory execution against the claim referred to in that paragraph, the obligor may refuse to perform the obligation and duly assert against an attaching obligee any event that results in extinguishing the obligation such as payment to the assignor.',\n",
       "  'content': 'Claim X, the claim of the payment of the sales price of A against B, has a special agreement prohibiting the assignment, but C acquired Claim X while knowing the existence of the special agreement prohibiting the assignment. Then D, the obligee of C, enforced compulsory execution against Claim X. In this case, B may not refuse to perform the obligation to D based on the special agreement prohibiting the assignment.',\n",
       "  'index': 'R04-20-O',\n",
       "  'label': 'N'},\n",
       " {'result': 'Article 494 (2) The preceding paragraph also applies if the performer is unable to ascertain the obligee;provided, however, that this does not apply if the performer is negligent in this respect.',\n",
       "  'content': 'If a performer is unable to ascertain the obligee without negligence, the performer may deposit the subject matter of the performance with an official depository.',\n",
       "  'index': 'R04-21-I',\n",
       "  'label': 'Y'},\n",
       " {'result': 'Article 496 (1) As long as the obligee does not accept the deposit, or the judgment which pronounces that the deposit is effective does not become final and binding, the performer may recover the deposited thingy. In such case, it is deemed that no deposit has been effected.',\n",
       "  'content': 'If a performer lawfully deposits the subject matter of the performance with an official depository, the performer may not recover the deposited thing.',\n",
       "  'index': 'R04-21-U',\n",
       "  'label': 'N'},\n",
       " {'result': 'Article 495 (3) A person that has effected a deposit pursuant to the provisions of the preceding Article must notify the obligee of the deposit without delay.',\n",
       "  'content': 'If a performer deposits the subject matter of the performance with an official depository for the benefit of the obligee, the performer must notify the obligee of the deposit without delay.',\n",
       "  'index': 'R04-21-E',\n",
       "  'label': 'Y'},\n",
       " {'result': 'Article 494 (1) In the following cases, a performer may deposit the subject matter of the performance with an official depository for the benefit of the obligee. In such a case, the claim is extinguished when the performer makes the deposit:',\n",
       "  'content': 'If a performer deposits the subject matter of the performance with an official depository for the benefit of the obligee, the claim shall be extinguished at the time when the deposited thing is returned to the obligee.',\n",
       "  'index': 'R04-21-O',\n",
       "  'label': 'N'},\n",
       " {'result': 'Article 509 The obligor of either of the following obligations may not duly assert a set-off against the obligee;provided, however, that this does not apply if the obligee acquires a claim corresponding to the relevant obligation from another person:\\n(i) an obligation for compensation for loss or damage based on a tort committed in bad faith; or\\n(ii) an obligation for compensation for loss or damage for death or injury to person (excluding the one set forth in the preceding item).',\n",
       "  'content': 'Victim A, who was injured by the tort, may not use the claim for compensation for the damage against Perpetrator B to assert set-off, against the loan claim of B against A.',\n",
       "  'index': 'R04-22-A',\n",
       "  'label': 'N'},\n",
       " {'result': 'Article 505 (1) If two persons bear an obligation to each other that has the same kind of purpose and if both obligations are due, each obligor may be relieved from the obligation by setting off the value of that obligation against the corresponding amount of the obligation of the other obligor;provided, however, that this does not apply if the nature of the obligation does not permit such a set-off.\\nArticle 136 (2) The benefit of time stipulation may be waived;provided, however, that the waiver may not prejudice the interest of the counterparty.',\n",
       "  'content': 'The obligor of the claim not yet due may not set off the claim.',\n",
       "  'index': 'R04-22-I',\n",
       "  'label': 'N'},\n",
       " {'result': 'Article 511 (1) A third party obligor of a claim which has been attached may not assert sett-off as defense with any claim acquired after the attachment against the attaching obligee, but may duly assert against the same a set-off based using a claim acquired before the attachment.',\n",
       "  'content': 'A third party obligor of a claim which has been attached may assert, against the attaching obligee, set-off using the claim against the attached obligor held prior to the attachment.',\n",
       "  'index': 'R04-22-O',\n",
       "  'label': 'Y'},\n",
       " {'result': 'Article 598 (2) If the parties do not specify a period of a loan for use or a purpose of using and making profit from the borrowed thing, the lender may cancel the contract at any time.',\n",
       "  'content': 'The loan for use without specification of the period of the loan was concluded. In this case, if there is no specification of a purpose of using and making profit from the borrowed thing, the lender may cancel the contract at any time.',\n",
       "  'index': 'R04-23-A',\n",
       "  'label': 'Y'},\n",
       " {'result': 'Article 617 (1) If the parties do not specify the term of a lease, either party may give a notice of termination at any time. In such cases, a lease as set forth in one of the following items terminates when the term prescribed in that item has passed after the day of the notice of termination:',\n",
       "  'content': 'In the case of a lease of movables with an indefinite term, the lessor may give a notice of termination at any time.',\n",
       "  'index': 'R04-23-I',\n",
       "  'label': 'Y'},\n",
       " {'result': 'Article 641 The party ordering work may cancel the contract at any time whilst the contractor has not completed the work by paying compensation for loss or damage.\\nArticle 642 (1) If the party ordering work receives an order commencing bankruptcy proceeding, the contractor or the bankruptcy trustee may cancel the contract;provided, however, that this does not apply to the cancellation of the contract by the contractor after the work is completed.',\n",
       "  'content': 'The contractor may cancel the contract for work at any time whilst the contractor has not completed the work by paying compensation for loss or damage.',\n",
       "  'index': 'R04-23-U',\n",
       "  'label': 'N'},\n",
       " {'result': 'Article 651 (1) A mandate may be cancelled by either party at any time.',\n",
       "  'content': 'In the case of a mandate with definite terms and which is for value, the mandatary may cancel the contract prior to the expiration of the term.',\n",
       "  'index': 'R04-23-E',\n",
       "  'label': 'Y'},\n",
       " {'result': 'Article 657-2 (2) A gratuitous bailee may cancel the contract up until the bailee receives the bailed thing;provided, however, that this does not apply to a bailment made in writing.',\n",
       "  'content': 'If the gratuitous bailment has been made in writing, the bailor may cancel the contract up until the bailee receives the bailed thing.',\n",
       "  'index': 'R04-23-O',\n",
       "  'label': 'N'},\n",
       " {'result': 'Article 557 (1) If the buyer pays earnest money to the seller, the buyer may cancel the contract by waiving the earnest money, or the seller may cancel the contract by actually providing the buyer with twice its amount;provided, however, that this does not apply after the counterparty commences performance of the contract.',\n",
       "  'content': 'The buyer may cancel the contract by the earnest money for cancellation until the buyer commences performance of the contract even if the seller has already commenced performance of the contract.',\n",
       "  'index': 'R04-24-I',\n",
       "  'label': 'N'},\n",
       " {'result': 'Article 557 (1) If the buyer pays earnest money to the seller, the buyer may cancel the contract by waiving the earnest money, or the seller may cancel the contract by actually providing the buyer with twice its amount;provided, however, that this does not apply after the counterparty commences performance of the contract.',\n",
       "  'content': 'The buyer may cancel the contract by an earnest money for cancellation until the seller commences performance of the contract even if the buyer commences performance of the contract.',\n",
       "  'index': 'R04-24-U',\n",
       "  'label': 'Y'},\n",
       " {'result': 'Article 557 (1) If the buyer pays earnest money to the seller, the buyer may cancel the contract by waiving the earnest money, or the seller may cancel the contract by actually providing the buyer with twice its amount;provided, however, that this does not apply after the counterparty commences performance of the contract.',\n",
       "  'content': 'The seller may cancel the contract by an earnest money for cancellation when the seller notifies the buyer orally that the seller reimburses twice the amount of the earnest money.',\n",
       "  'index': 'R04-24-E',\n",
       "  'label': 'N'},\n",
       " {'result': 'Article 557 (2) The provisions of Article 545, paragraph (4) do not apply to the cases referred to in the preceding paragraph.\\nArticle 545 (4) The exercise of the right to cancel does not preclude claims for compensation for loss or damage.',\n",
       "  'content': 'When the buyer cancels the contract by the earnest money for cancellation, the buyer is not liable to compensate for damage even if the damage in excess of the amount of the earnest money has been sustained by the seller.',\n",
       "  'index': 'R04-24-O',\n",
       "  'label': 'Y'},\n",
       " {'result': 'Article 587 A loan for consumption becomes effective when a first party receives money or any other thing from a second party, having promised to return a thing of the same type, quality, and quantity.',\n",
       "  'content': 'A loan for consumption not made in writing becomes effective when a first party receives money or any other thing from a second party, having promised to return a thing of the same type, quality, and quantity.',\n",
       "  'index': 'R04-25-A',\n",
       "  'label': 'Y'},\n",
       " {'result': 'Article 587-2 (2) The borrower of a loan for consumption made in writing may cancel the contract until the borrower receives the money or other thing from the lender. In such a case, if the lender sustains any damage from the cancellation of the contract, the lender may claim compensation therefor.',\n",
       "  'content': 'A loan for consumption made in writing may be cancelled by either party until the borrower receives the subject matter from the lender.',\n",
       "  'index': 'R04-25-I',\n",
       "  'label': 'N'},\n",
       " {'result': 'Article 589 (1) In the absence of any special agreement, the lender may not demand interest from the borrower.',\n",
       "  'content': 'With respect to a loan for consumption under Civil code, in the absence of any special agreement, the lender may not demand interest from the borrower.',\n",
       "  'index': 'R04-25-U',\n",
       "  'label': 'Y'},\n",
       " {'result': 'Article 591 (2) The borrower may return the borrowed thing at any time, irrespective of whether the parties have defined the time of return of the thing.',\n",
       "  'content': 'With respect to a loan for consumption under Civil code, if the parties defined the time of return of the borrowed thing, the borrower may not return the thing prior to the time of return.',\n",
       "  'index': 'R04-25-E',\n",
       "  'label': 'N'},\n",
       " {'result': 'Article 590 (2) Irrespective of whether there is any special agreement referred to in paragraph (1) of the preceding Article, if the thing delivered from the lender does not conform to the terms of the contract with respect to the kind or quality, the borrower may return the value of the delivered thing.',\n",
       "  'content': 'With respect to a loan for consumption under Civil code, if the thing delivered from the lender does not conform to the terms of the contract with respect to the kind or quality, the borrower may return the value of the delivered thing.',\n",
       "  'index': 'R04-25-O',\n",
       "  'label': 'Y'},\n",
       " {'result': \"Article 313 (2) The statutory lien of a lessor of a building exists against movables furnished to that building by the lessee.\\nArticle 316 If a lessor has received a security deposit prescribed in Article 622-2, paragraph (1), the lessor has a statutory lien solely against the portion of the lessor's claim that will not be satisfied by that security deposit.\",\n",
       "  'content': 'A leased Building X, which B owns, from B and delivered security deposit to B, and A failed to pay the rent. In this case, B may exercise the statutory lien against the movables furnished to that building by A even if the amount of unpaid rent is within the amount of security deposit.',\n",
       "  'index': 'R04-26-A',\n",
       "  'label': 'N'},\n",
       " {'result': 'Article 622-2 (2) If the lessee fails to perform an obligation to pay money based on the lease, the lessor may appropriate the security deposit to the payment of the obligation. In such a case, the lessee may not demand that the lessor appropriate the security deposit to the payment of the obligation.',\n",
       "  'content': 'A leased Building X, which B owns, from B and delivered security deposit to B. In this case, A may demand that B appropriate the security deposit to the payment of rent while the lease continues.',\n",
       "  'index': 'R04-26-I',\n",
       "  'label': 'N'},\n",
       " {'result': 'Article 295 (1) If a possessor of a thing belonging to another person has a claim that has arisen in relation to that thing, that possessor may retain that thing until that claim is satisfied;provided, however, that this does not apply if the relevant claim has not yet fallen due.\\nArticle 622-2 (1) If a lessor receives a security deposit (meaning money to be delivered by the lessee to the lessor under any name, for the purpose of securing an obligation to pay money that is owed by the lessee to the lessor based on a lease, such as an obligation to pay rent; hereinafter the same applies in this Article), the lessor must return to the lessee the amount that remains after deducting the amount of the obligation to pay money that is owed by the lessee to the lessor based on the lease, from the amount of security deposit received, in the following cases:\\n(i) if the lease is terminated, and the lessor receives the return of the leased thing; or',\n",
       "  'content': 'A leased Building X from B owned by B and delivered security deposit to B, and the lease was terminated. In this case, A may retain Building X until the security deposit is returned.',\n",
       "  'index': 'R04-26-U',\n",
       "  'label': 'N'},\n",
       " {'result': 'Article 622-2 (1) If a lessor receives a security deposit (meaning money to be delivered by the lessee to the lessor under any name, for the purpose of securing an obligation to pay money that is owed by the lessee to the lessor based on a lease, such as an obligation to pay rent; hereinafter the same applies in this Article), the lessor must return to the lessee the amount that remains after deducting the amount of the obligation to pay money that is owed by the lessee to the lessor based on the lease, from the amount of security deposit received, in the following cases:\\n(ii) if the lessee assigns the lease lawfully.',\n",
       "  'content': 'A leased Building X, which B owns, from B and delivered security deposit to B, and A lawfully assigned the lease to C. In this case, A may demand the return of the security deposit from B.',\n",
       "  'index': 'R04-26-E',\n",
       "  'label': 'Y'},\n",
       " {'result': 'Article 648-2 (1) If the parties agree that remuneration will be paid for any result that may be obtained through the performance of the mandated business, and the result is required to be delivered, remuneration must be paid simultaneously upon the delivery of the result.',\n",
       "  'content': 'If the parties agree that remuneration will be paid for any result that may be obtained through the performance of the mandated business, and the result is required to be delivered, the mandator must pay the remuneration simultaneously upon the delivery of the result.',\n",
       "  'index': 'R04-27-A',\n",
       "  'label': 'Y'},\n",
       " {'result': 'Article 644-2 (1) A mandatary may not appoint a sub-mandatary unless the mandatary obtains the permission of the mandator or there is a compelling reason to do so.',\n",
       "  'content': 'A mandatary may appoint a sub-mandatary without obtaining the permission of the mandator even if there is no compelling reason to do so.',\n",
       "  'index': 'R04-27-I',\n",
       "  'label': 'N'},\n",
       " {'result': 'Article 651 (1) A mandate may be cancelled by either party at any time.',\n",
       "  'content': 'The mandator may not cancel the mandate at a time that is detrimental to the mandatary.',\n",
       "  'index': 'R04-27-U',\n",
       "  'label': 'N'},\n",
       " {'result': 'Article 650 (1) If the mandatary has expended costs found to be necessary for the administration of the mandated business, the mandatary may claim reimbursement of those costs from the mandator and any interest on the same from the day the costs were expended.',\n",
       "  'content': 'If the mandatary has expended costs found to be necessary for the administration of the mandated business, the mandatary may claim reimbursement of those costs from the mandator and any interest on the same from the day the costs were expended.',\n",
       "  'index': 'R04-27-E',\n",
       "  'label': 'Y'},\n",
       " {'result': 'Article 652 The provisions of Article 620 apply mutatis mutandis to mandates.\\nArticle 620 If a lease is cancelled, the cancellation becomes effective solely toward the future. In such a case, the cancellation does not preclude a claim for compensation for loss or damage.',\n",
       "  'content': 'A cancellation of a mandate becomes effective solely toward the future.',\n",
       "  'index': 'R04-27-O',\n",
       "  'label': 'Y'},\n",
       " {'result': \"Article 701 The provisions of Article 645 through Article 647 apply mutatis mutandis to the benevolent intervention in another's business.\\nArticle 650 (3) If a mandatary incurs loss or damage that is not due to the negligence of the mandatary in order to administer the mandated business, the mandatary may claim compensation for this from the mandator.\",\n",
       "  'content': \"Even if a manager incurs loss or damage that is not due to the negligence of the manager in order to engage in the benevolent intervention in another's business, the manager may not claim compensation for this from the principal.\",\n",
       "  'index': 'R04-28-A',\n",
       "  'label': 'Y'},\n",
       " {'result': \"Article 702 (1) If a manager has incurred beneficial expenses for a principal, the manager may claim reimbursement of those costs from the principal.\\n(3) If a manager has engaged in the benevolent intervention in another's business against the will of the principal, the provisions of the preceding two paragraphs apply mutatis mutandis, solely to the extent currently enriched.\",\n",
       "  'content': \"If it becomes evident after starting the benevolent intervention in another's business that the benevolent intervention in another's business is the contrary to the will of the principal, the manager may not claim reimbursement of the costs that the manager has already paid for from the principal.\",\n",
       "  'index': 'R04-28-I',\n",
       "  'label': 'N'},\n",
       " {'result': \"Article 701 The provisions of Article 645 through Article 647 apply mutatis mutandis to the benevolent intervention in another's business.\\nArticle 645 A mandatary must, if so requested by the mandator, report the current status of the administration of the mandated business at any time, and must report the process and results without delay upon termination of the mandate.\",\n",
       "  'content': \"The manager must report the process and results without delay upon termination of the benevolent intervention in another's business.\",\n",
       "  'index': 'R04-28-E',\n",
       "  'label': 'Y'},\n",
       " {'result': \"Article 698 If a manager engages in benevolent intervention in another's business in order to allow a principal to escape imminent danger to the principal's person, reputation, or property, the manager is not liable to compensate for damage resulting from this unless the manager has acted in bad faith or with gross negligence.\",\n",
       "  'content': \"If a manager engages in benevolent intervention in another's business in order to allow a principal to escape imminent danger to the principal's property, the manager is not liable to compensate for damage resulting from this unless the manager has acted in bad faith or with gross negligence.\",\n",
       "  'index': 'R04-28-O',\n",
       "  'label': 'Y'},\n",
       " {'result': 'Article 724 In the following cases, the claim for compensation for loss or damage caused by tort is extinguished by prescription:\\n(ii) the right is not exercised within 20 years from the time of the tortious act.',\n",
       "  'content': 'The claim for compensation for loss or damage caused by tort is extinguished by prescription when the right is not exercised within 20 years from the time of the tortious act.',\n",
       "  'index': 'R04-29-I',\n",
       "  'label': 'Y'},\n",
       " {'result': 'Article 720 (1) A person that, in response to the tortious act of another, is compelled to commit a harmful act to protect rights or legally protected interests of the person or of a third party, is not liable for compensation for loss or damage;provided, however, that this does not preclude a victim from filing a claim of compensation for loss or damage against the person that committed the tortious act.',\n",
       "  'content': 'B, who, in response to the tortious act of A, committed a harmful act to protect rights of a third party C, is liable for compensation for loss or damage even if the harmful act is compelling.',\n",
       "  'index': 'R04-29-O',\n",
       "  'label': 'N'},\n",
       " {'result': 'Article 597\\n(3) A loan for use is terminated upon the death of the borrower.',\n",
       "  'content': 'If a borrower of a loan for use of land dies, an heir of the borrower may not keep using the land by succeeding the right of the loan for use.',\n",
       "  'index': 'R04-33-I',\n",
       "  'label': 'Y'},\n",
       " {'result': 'Article 467(1) The assignment of a claim (including the assignment of a claim that is yet to arise) may not be duly asserted against the applicable obligor or any other third party, unless the assignor gives notice thereof to the obligor or the obligor has consented to the same.',\n",
       "  'content': 'If an obligor consents to the assignment of the claim against either the assignor or the assignee, the assignee may duly assert the assignment of the claim against the obligor.',\n",
       "  'index': 'R04-36-A',\n",
       "  'label': 'Y'},\n",
       " {'result': 'Article 525(1) An offer made without specifying a period for acceptance may not be revoked until the passage of a reasonable period of time for the offeror to receive a notice of acceptance;provided, however, that this does not apply if the offeror reserves the right to revoke.',\n",
       "  'content': 'An offer to a person at a distance made without specifying a period for acceptance may not be revoked until the passage of a reasonable period of time for the offeror to receive a notice of acceptance unless the offeror reserves the right to revoke.',\n",
       "  'index': 'R04-36-I',\n",
       "  'label': 'Y'},\n",
       " {'result': 'Article 470\\n(3) The assumption of obligation not releasing an obligor may also be effected by a contract between the initial obligor and the person that becomes the additional obligor. In such a case, the assumption of obligation not releasing an obligor becomes effective when the obligee gives consent to the person that becomes the additional obligor.',\n",
       "  'content': 'The assumption of obligation not releasing an obligor by a contract between the initial obligor and the person that becomes the additional obligor becomes effective when the obligee gives consent to the person that becomes the additional obligor.',\n",
       "  'index': 'R04-36-U',\n",
       "  'label': 'Y'},\n",
       " {'result': 'Article 658(1) A bailee may not use the bailed thing without obtaining the consent of the bailor.',\n",
       "  'content': 'A gratuitous bailee may use the bailed thing in compliance with the method of use without obtaining the consent of the bailor.',\n",
       "  'index': 'R04-36-E',\n",
       "  'label': 'N'},\n",
       " {'result': 'Article 196\\n(2) With respect to the costs paid for by a possessor to improve the thing in the possession thereof and other beneficial expenses, the possessor may have the person recovering the thing reimburse the possessor for either the costs the possessor has paid or the amount of the increased value, whichever the person recovering the thing chooses, but only if there is a current increase in value;provided, however, that with regard to a possessor in bad faith, the court may, at the request of the person recovering the thing, grant a reasonable period of time for the same.',\n",
       "  'content': 'A possessor claimed the reimbursement of beneficial expenses against the owner when the possessor returned the thing in possession. In this case, the court may, at the request of the owner, grant a reasonable period of time for the reimbursement even if the possessor was in good faith.',\n",
       "  'index': 'R04-37-A',\n",
       "  'label': 'N'},\n",
       " {'result': 'Article 354 If the claim of a pledgee of movables is not satisfied, the pledgee may make a request to the court seeking the immediate appropriation of the thing pledged for the satisfaction of that claim in accordance with the evaluation of an appraiser only when there are reasonable grounds.In this case, the pledgee of movables must notify the obligor in advance of the request.',\n",
       "  'content': 'If the claim of a pledgee of movables is not satisfied, the pledgee may immediately appropriate the thing pledged for the satisfaction of that claim by getting the permission of the court, instead of getting the evaluation of an appraiser, only when there are reasonable grounds for not getting the evaluation of an appraiser.',\n",
       "  'index': 'R04-37-I',\n",
       "  'label': 'N'},\n",
       " {'result': 'Article 494(1) In the following cases, a performer may deposit the subject matter of the performance with an official depository for the benefit of the obligee. In such a case, the claim is extinguished when the performer makes the deposit:\\n(i) the performer tenders the performance, and the obligee refuses to accept it; \\nArticle 497 In the following cases, the performer may, with the permission of the court, sell the thing that is the subject matter of performance at public auction and deposit the proceeds of such sales with an official depository:\\n(iii) excessive expenses are required for the preservation of the thing; or',\n",
       "  'content': 'A performer tendered the performance, and the obligee refused to accept it. In this case, if excessive expenses are required for the preservation of the thing, the performer may, with the permission of the court, sell the thing that is the subject matter of performance at a public auction and deposit the proceeds of such sales with an official depository.',\n",
       "  'index': 'R04-37-U',\n",
       "  'label': 'Y'}]"
      ]
     },
     "execution_count": 8,
     "metadata": {},
     "output_type": "execute_result"
    }
   ],
   "source": [
    "data = load_samples(test_file)\n",
    "# data = build_test(test_file)\n",
    "# result = []\n",
    "# for k in data:\n",
    "#     result.append(data[k])\n",
    "\n",
    "# data = result\n",
    "data"
   ]
  },
  {
   "cell_type": "markdown",
   "id": "e453d92b-4028-459c-8eae-aa6a80328275",
   "metadata": {},
   "source": [
    "## Load Model"
   ]
  },
  {
   "cell_type": "code",
   "execution_count": 9,
   "id": "23d93f6b-b959-41b1-aa58-90940d1802a8",
   "metadata": {},
   "outputs": [
    {
     "name": "stderr",
     "output_type": "stream",
     "text": [
      "/home/congnguyen/drive/miniconda3/envs/myenv/lib/python3.10/site-packages/tqdm/auto.py:21: TqdmWarning: IProgress not found. Please update jupyter and ipywidgets. See https://ipywidgets.readthedocs.io/en/stable/user_install.html\n",
      "  from .autonotebook import tqdm as notebook_tqdm\n",
      "Loading checkpoint shards: 100%|████████████████████████████████████████████████████████████| 5/5 [02:55<00:00, 35.14s/it]\n"
     ]
    }
   ],
   "source": [
    "from transformers import AutoTokenizer, BloomForCausalLM, AutoTokenizer, AutoModelForSeq2SeqLM\n",
    "import torch\n",
    "\n",
    "model_name = \"declare-lab/flan-alpaca-xxl\"\n",
    "cache_dir = \"/home/congnguyen/drive/.cache\"\n",
    "tokenizer = AutoTokenizer.from_pretrained(model_name, cache_dir=cache_dir)\n",
    "model = AutoModelForSeq2SeqLM.from_pretrained(\n",
    "\t\tmodel_name, device_map=\"auto\", cache_dir=cache_dir, torch_dtype=torch.float16, load_in_8bit=True\n",
    "\t)"
   ]
  },
  {
   "cell_type": "markdown",
   "id": "9819ed0f-3492-4232-ad85-b64b530cc0c9",
   "metadata": {},
   "source": [
    "## Inference"
   ]
  },
  {
   "cell_type": "code",
   "execution_count": 10,
   "id": "43512cb0-5650-4884-9b76-1ab18e67e52b",
   "metadata": {
    "scrolled": true
   },
   "outputs": [
    {
     "name": "stderr",
     "output_type": "stream",
     "text": [
      "  0%|                                                                                             | 0/101 [00:00<?, ?it/s]"
     ]
    },
    {
     "name": "stdout",
     "output_type": "stream",
     "text": [
      "Article 5 (1) A minor must obtain the consent of the minor's legal representative to perform a juridical act;provided, however, that this does not apply to a juridical act for merely acquiring a right or being released from an obligation.\n",
      "(2) A juridical act in contravention of the provisions of the preceding paragraph is voidable.\n",
      "Article 6 (1) A minor who is permitted to conduct one or multiple types of business has the same capacity to act as an adult as far as that business is concerned.\n",
      "Based on the previous passage, A juridical act by a minor who is permitted to conduct business may not be rescinded even if the judicial act does not concern the business.? \n"
     ]
    },
    {
     "name": "stderr",
     "output_type": "stream",
     "text": [
      "  1%|▊                                                                                    | 1/101 [00:05<08:40,  5.20s/it]"
     ]
    },
    {
     "name": "stdout",
     "output_type": "stream",
     "text": [
      "no, the judicial act by a minor who is permitted to conduct business may not be rescinded even if the judicial act does not concern the business.\n",
      "Article 5 (1) A minor must obtain the consent of the minor's legal representative to perform a juridical act;provided, however, that this does not apply to a juridical act for merely acquiring a right or being released from an obligation.\n",
      "(2) A juridical act in contravention of the provisions of the preceding paragraph is voidable.\n",
      "Article 120 (1) An act that is voidable on the grounds of the qualified legal capacity to act of the person who did the act may be rescinded only by the person with qualified legal capacity (in the case of an act performed by the person as a legal representative of another person with limited capacity, including that other person with limited capacity), or an agent or successor thereof, or a person who has the authority to give consent thereto.\n",
      "Based on the previous passage, When a minor concludes a contract without obtaining the consent of the person who has the parental authority, the minor may not personally rescind the contract without the consent of the person who has the parental authority until the minor has attained the age of majority.? \n"
     ]
    },
    {
     "name": "stderr",
     "output_type": "stream",
     "text": [
      "  2%|█▋                                                                                   | 2/101 [00:05<03:53,  2.36s/it]"
     ]
    },
    {
     "name": "stdout",
     "output_type": "stream",
     "text": [
      "yes\n",
      "Article 5 (1) A minor must obtain the consent of the minor's legal representative to perform a juridical act;provided, however, that this does not apply to a juridical act for merely acquiring a right or being released from an obligation.\n",
      "(2) A juridical act in contravention of the provisions of the preceding paragraph is voidable.\n",
      "Article 124 (1) The ratification of a voidable act does not become effective unless it is made after the circumstances that made the act voidable cease to exist and the person ratifying the act becomes aware of the right to rescind it.\n",
      "(2) In the following cases, the ratification referred to in the preceding paragraph is not required to be made after the circumstances that made the act voidable cease to exist:\n",
      "(ii) if a person with qualified legal capacity (excluding an adult ward) makes the ratification with the consent of a legal representative, curator or assistant.\n",
      "Based on the previous passage, When a minor concludes a contract without obtaining the consent of the person who has the parental authority, the minor may not personally ratify the contract without the consent of the person who has the parental authority until the minor has attained the age of majority.? \n"
     ]
    },
    {
     "name": "stderr",
     "output_type": "stream",
     "text": [
      "  3%|██▌                                                                                  | 3/101 [00:05<02:22,  1.45s/it]"
     ]
    },
    {
     "name": "stdout",
     "output_type": "stream",
     "text": [
      "yes\n",
      "Article 9 A juridical act performed by an adult ward is voidable;provided, however, that this does not apply to the purchase of daily necessities or to any other act involved in day-to-day life.\n",
      "Based on the previous passage, If an adult ward acquires land by gift, the guardian of the adult ward may not rescind the gift.? \n"
     ]
    },
    {
     "name": "stderr",
     "output_type": "stream",
     "text": [
      "  4%|███▎                                                                                 | 4/101 [00:08<02:57,  1.83s/it]"
     ]
    },
    {
     "name": "stdout",
     "output_type": "stream",
     "text": [
      "no, the guardian of the adult ward may not rescind the gift.\n",
      "Article 9 A juridical act performed by an adult ward is voidable;provided, however, that this does not apply to the purchase of daily necessities or to any other act involved in day-to-day life.\n",
      "Article 102 An act that a person with qualified legal capacity performs as an agent of another person may not be rescinded on the grounds of qualified legal capacity;provided, however, that this does not apply to an act performed by a person with qualified legal capacity as a legal representative of another person with qualified legal capacity.\n",
      "Based on the previous passage, An act that A, an adult ward, performs as legal representative of B, a minor, may not be rescinded on the grounds of qualified legal capacity of A.? \n"
     ]
    },
    {
     "name": "stderr",
     "output_type": "stream",
     "text": [
      "  5%|████▏                                                                                | 5/101 [00:10<03:22,  2.11s/it]"
     ]
    },
    {
     "name": "stdout",
     "output_type": "stream",
     "text": [
      "no, it may not be rescinded on the grounds of qualified legal capacity of a.\n",
      "Article 158 (2) If a minor or an adult ward has a right vis-a-vis the minor's or the adult ward's father, mother, or guardian who manages the property, the prescription period does not expire with respect to that right until six months have passed from the time when that minor or adult ward becomes a person with capacity to act, or a succeeding legal representative assumes the position.\n",
      "Based on the previous passage, If A, an adult ward, has a right vis-a-vis the adult ward's guardian who manages the property, the prescription period will not expire with respect to that right until the statutory period has passed from the time when A becomes a person with capacity to act, or a succeeding legal representative assumes the position.? \n"
     ]
    },
    {
     "name": "stderr",
     "output_type": "stream",
     "text": [
      "  6%|█████                                                                                | 6/101 [00:11<02:25,  1.53s/it]"
     ]
    },
    {
     "name": "stdout",
     "output_type": "stream",
     "text": [
      "yes\n",
      "Article 97 (1) A manifestation of intention becomes effective at the time notice thereof reaches the other party.\n",
      "Based on the previous passage, A manifestation of intention to a person at a distance will not be effective until the other party recognizes it.? \n"
     ]
    },
    {
     "name": "stderr",
     "output_type": "stream",
     "text": [
      "  7%|█████▉                                                                               | 7/101 [00:13<02:33,  1.63s/it]"
     ]
    },
    {
     "name": "stdout",
     "output_type": "stream",
     "text": [
      "no, it will not be effective until the other party recognizes it.\n",
      "Article 5 (1) A minor must obtain the consent of the minor's legal representative to perform a juridical act;provided, however, that this does not apply to a juridical act for merely acquiring a right or being released from an obligation.\n",
      "(2) A juridical act in contravention of the provisions of the preceding paragraph is voidable.\n",
      "Article 20 (1) After a person with qualified legal capacity who is involved in dealings with another party becomes a person with the legal capacity to act (meaning a person whose legal capacity to act is not subject to restrictions; the same applies hereinafter), the other party to those dealings may fix a period of one month or longer and demand that the person give a definite answer within that period of time as to whether the person will ratify an act that the person may rescind. In such a case, if the person fails to send a definite answer within that period of time, the person is deemed to have ratified that act.\n",
      "(2) The second sentence of the preceding paragraph also applies if, before the person with qualified legal capacity becomes a person with the legal capacity to act, the other party to dealings involving the person with qualified legal capacity lodges the demand prescribed in the preceding paragraph with the legal representative, curator, or assistant of that person with respect to an act within the scope of their authority, and they fail to send a definite answer within the fixed period of time referred to in that paragraph.\n",
      "Based on the previous passage, B, who concluded a contract with A, a minor, demanded that C, the legal representative of A, give a definite answer whether C will ratify the contract. In this case, if C fails to send a definite answer within the period of time fixed by B, C is deemed to have rescinded that act.? \n"
     ]
    },
    {
     "name": "stderr",
     "output_type": "stream",
     "text": [
      "  8%|██████▋                                                                              | 8/101 [00:13<01:57,  1.26s/it]"
     ]
    },
    {
     "name": "stdout",
     "output_type": "stream",
     "text": [
      "yes\n",
      "Article 93 (1) The validity of a manifestation of intention is not impaired even if the person making it does so while knowing that it does not reflect that person's true intention;provided, however, that if the other party knew or could have known that the manifestation was not the true intention of the person who made it, that manifestation of intention is void.\n",
      "(2) The nullity of a manifestation of intention under the provisions of the proviso to the preceding paragraph may not be duly asserted against a third party in good faith.\n",
      "Based on the previous passage, The nullity of a manifestation of intention based on the mental reservation may not be duly asserted against a third party in good faith with negligence.? \n"
     ]
    },
    {
     "name": "stderr",
     "output_type": "stream",
     "text": [
      "  9%|███████▌                                                                             | 9/101 [00:17<03:22,  2.20s/it]"
     ]
    },
    {
     "name": "stdout",
     "output_type": "stream",
     "text": [
      "no, the nullity of a manifestation of intention based on the mental reservation may not be duly asserted against a third party in good faith with negligence.\n",
      "Article 95 (3) If a mistake is due to gross negligence on the part of the person making the manifestation of intention, that person may not rescind a manifestation of intention as under paragraph (1), except in the following cases:\n",
      "(ii) if the other party was under the same mistake as the person making the manifestation of intention.\n",
      "Based on the previous passage, The manifestation of intention based on the mistake may not be rescinded if the mistake is due to gross negligence on the part of the person making the manifestation of intention, and the other party is under the same mistake as the person making the manifestation of intention.? \n"
     ]
    },
    {
     "name": "stderr",
     "output_type": "stream",
     "text": [
      " 10%|████████▎                                                                           | 10/101 [00:18<02:28,  1.63s/it]"
     ]
    },
    {
     "name": "stdout",
     "output_type": "stream",
     "text": [
      "yes\n",
      "Article 96 (1) A manifestation of intention based on fraud or duress is voidable.\n",
      "(2) If a third party commits a fraud inducing a first party to make a manifestation of intention to a second party, that manifestation of intention is voidable only if the second party knew or could have known that fact.\n",
      "Based on the previous passage, If a third party commits duress forcing a first party to make a manifestation of intention to a second party, that manifestation of intention is voidable even if the second party could not have known that fact.? \n"
     ]
    },
    {
     "name": "stderr",
     "output_type": "stream",
     "text": [
      " 11%|█████████▏                                                                          | 11/101 [00:18<01:51,  1.24s/it]"
     ]
    },
    {
     "name": "stdout",
     "output_type": "stream",
     "text": [
      "yes\n",
      "Article 120 (1) An act that is voidable on the grounds of the qualified legal capacity to act of the person who did the act may be rescinded only by the person with qualified legal capacity (in the case of an act performed by the person as a legal representative of another person with limited capacity, including that other person with limited capacity), or an agent or successor thereof, or a person who has the authority to give consent thereto.\n",
      "(2) An act that is voidable on the grounds of a mistake, fraud or duress may be rescinded only by the person who made the defective manifestation of intention, or an agent or successor thereof.\n",
      "Based on the previous passage, A guarantor of an obligation arising from a judicial act which may be voidable may not rescind the judicial act.? \n"
     ]
    },
    {
     "name": "stderr",
     "output_type": "stream",
     "text": [
      " 12%|█████████▉                                                                          | 12/101 [00:22<03:12,  2.17s/it]"
     ]
    },
    {
     "name": "stdout",
     "output_type": "stream",
     "text": [
      "no, a guarantor of an obligation arising from a judicial act which may be voidable may not rescind the judicial act.\n",
      "Article 120 (1) An act that is voidable on the grounds of the qualified legal capacity to act of the person who did the act may be rescinded only by the person with qualified legal capacity (in the case of an act performed by the person as a legal representative of another person with limited capacity, including that other person with limited capacity), or an agent or successor thereof, or a person who has the authority to give consent thereto.\n",
      "Article 122 A voidable act may not be rescinded after the person prescribed in Article 120 ratifies it.\n",
      "Based on the previous passage, A, a person under curatorship, may not rescind a judicial act by A after the legal representative ratifies the judicial act.? \n"
     ]
    },
    {
     "name": "stderr",
     "output_type": "stream",
     "text": [
      " 13%|██████████▊                                                                         | 13/101 [00:23<02:22,  1.62s/it]"
     ]
    },
    {
     "name": "stdout",
     "output_type": "stream",
     "text": [
      "yes\n",
      "Article 96 (1) A manifestation of intention based on fraud or duress is voidable.\n",
      "(2) If a third party commits a fraud inducing a first party to make a manifestation of intention to a second party, that manifestation of intention is voidable only if the second party knew or could have known that fact.\n",
      "Article 123 If the counterparty to a voidable act is identified, the voidance or ratification of that act is made by the manifestation of intention to the counterparty.\n",
      "Based on the previous passage, If A makes a manifestation of intention of selling an immovable to C because of the fraud by B, the third party, the rescission of that act is made by the manifestation of intention to both B and C.? \n"
     ]
    },
    {
     "name": "stderr",
     "output_type": "stream",
     "text": [
      " 14%|███████████▋                                                                        | 14/101 [00:25<02:43,  1.88s/it]"
     ]
    },
    {
     "name": "stdout",
     "output_type": "stream",
     "text": [
      "no, the rescission of that act is made by the manifestation of intention to a.\n",
      "Article 121 An act that has been rescinded is deemed void ab initio.\n",
      "Article 121-2 (1) A person that has received payment or delivery as the performance of an obligation based on a void act has an obligation to restore the other party to the original state.\n",
      "(3) Notwithstanding the provisions of paragraph (1), a person who has no mental capacity at the time of performing an act has an obligation to return to the extent currently enriched by the act. The same applies to a person who is a person with qualified legal capacity at the time of performing an act.\n",
      "Based on the previous passage, If a loan of money made by A, a person under curatorship, is cancelled, A has the obligation to return the entire amount of the loan to the lender, even if the loan has been spent gambling until then.? \n"
     ]
    },
    {
     "name": "stderr",
     "output_type": "stream",
     "text": [
      " 15%|████████████▍                                                                       | 15/101 [00:29<03:23,  2.36s/it]"
     ]
    },
    {
     "name": "stdout",
     "output_type": "stream",
     "text": [
      "no, a has the obligation to return the entire amount of the loan to the lender, even if the loan has been spent gambling until then.\n",
      "Article 126 The right to rescind an act is extinguished by the operation of the prescription if it is not exercised within five years from the time when it becomes possible to ratify the act. The same applies if 20 years have passed from the time of the act.\n",
      "Based on the previous passage, The right to rescind an act is extinguished by the operation of the prescription if it is not exercised within five years from the voidable act.? \n"
     ]
    },
    {
     "name": "stderr",
     "output_type": "stream",
     "text": [
      " 16%|█████████████▎                                                                      | 16/101 [00:34<04:35,  3.24s/it]"
     ]
    },
    {
     "name": "stdout",
     "output_type": "stream",
     "text": [
      "no, the right to rescind an act is extinguished by the operation of the prescription if it is not exercised within five years from the time when it becomes possible to ratify the act.\n",
      "Article 145 The court may not make a judicial decision relying on prescription unless a party (in the case of extinctive prescription, including a guarantor, third-party collateral provider, third party acquirer, or any other person with a legitimate interest in the extinction of a right) invokes it.\n",
      "Based on the previous passage, The one who acquired Land X after the mortgage had been created on Land X and the creation had been registered may invoke the extinctive prescription of the secured claim under the mortgage.? \n"
     ]
    },
    {
     "name": "stderr",
     "output_type": "stream",
     "text": [
      " 17%|██████████████▏                                                                     | 17/101 [00:34<03:18,  2.36s/it]"
     ]
    },
    {
     "name": "stdout",
     "output_type": "stream",
     "text": [
      "yes\n",
      "Article 177 Acquisitions of, losses of and changes in real rights on immovables may not be duly asserted against any third parties, unless the same are registered pursuant to the applicable provisions of the Real Property Registration Act (Act No. 123 of 2004) and other laws regarding registration.\n",
      "Based on the previous passage, A sold Building X, owned by A, to B, but the registration of preservation of ownership of Building X has not been made. In this case, B may duly assert the acquisition of ownership against the third party without the registration in the name of B.? \n"
     ]
    },
    {
     "name": "stderr",
     "output_type": "stream",
     "text": [
      " 18%|██████████████▉                                                                     | 18/101 [00:37<03:24,  2.47s/it]"
     ]
    },
    {
     "name": "stdout",
     "output_type": "stream",
     "text": [
      "no, b may not assert the acquisition of ownership against the third party without the registration in the name of b.\n",
      "Article 179 (1) If ownership and another real right on the same thing are acquired by the same person, the other real right is extinguished;provided, however, that this does not apply if that thing or the other real right is the object of the right of a third party.\n",
      "Based on the previous passage, A created the first-ranked mortgage for the benefit of B and the second-ranked mortgage for the benefit of C on Land X, owned by A. In this case, if B purchases Land X from A, the mortgage for B shall be extinguished.? \n"
     ]
    },
    {
     "name": "stderr",
     "output_type": "stream",
     "text": [
      " 19%|███████████████▊                                                                    | 19/101 [00:37<02:30,  1.83s/it]"
     ]
    },
    {
     "name": "stdout",
     "output_type": "stream",
     "text": [
      "yes\n",
      "Article 179 (1) If ownership and another real right on the same thing are acquired by the same person, the other real right is extinguished;provided, however, that this does not apply if that thing or the other real right is the object of the right of a third party.\n",
      "Based on the previous passage, A created the superficies on Land X, owned by A, for the benefit of B, and B created the mortgage on the superficies for the benefit of C. In this case, if A dies and B is the only heir, the superficies for B shall be extinguished.? \n"
     ]
    },
    {
     "name": "stderr",
     "output_type": "stream",
     "text": [
      " 20%|████████████████▋                                                                   | 20/101 [00:39<02:31,  1.88s/it]"
     ]
    },
    {
     "name": "stdout",
     "output_type": "stream",
     "text": [
      "no, the superficies for b shall not be extinguished.\n",
      "Article 179 (1) If ownership and another real right on the same thing are acquired by the same person, the other real right is extinguished;provided, however, that this does not apply if that thing or the other real right is the object of the right of a third party.\n",
      "Based on the previous passage, A created the superficies on Land X, owned by A, for the benefit of B, and B leased Building Y, built on Land X, to C. In this case, if A dies and B is the only heir, the superficies for B shall be extinguished.? \n"
     ]
    },
    {
     "name": "stderr",
     "output_type": "stream",
     "text": [
      " 21%|█████████████████▍                                                                  | 21/101 [00:40<01:53,  1.42s/it]"
     ]
    },
    {
     "name": "stdout",
     "output_type": "stream",
     "text": [
      "yes\n",
      "Article 178 The transfer of a real right on movables may not be duly asserted against a third party, unless the movables are delivered.\n",
      "Article 184 If a thing is possessed through an agent, the principal orders that agent to thenceforward possess that thing on behalf of a third party, and that third party consents thereto, the third party acquires the possessory rights.\n",
      "Based on the previous passage, A sold Painting X, owned by A, to C while depositing it with B and ordered B to thenceforward possess X on behalf of C, and B consented thereto. In this case, C may duly assert the acquisition of the ownership of X against any third parties.? \n"
     ]
    },
    {
     "name": "stderr",
     "output_type": "stream",
     "text": [
      " 22%|██████████████████▎                                                                 | 22/101 [00:40<01:27,  1.10s/it]"
     ]
    },
    {
     "name": "stdout",
     "output_type": "stream",
     "text": [
      "yes\n",
      "Article 182\n",
      "(2) If a transferee or the agent of a transferee is actually holding the thing under possession, the transfer of possessory rights may be effected by the parties' manifestations of intention alone.\n",
      "Article 178 The transfer of a real right on movables may not be duly asserted against a third party, unless the movables are delivered.\n",
      "Based on the previous passage, B kept Painting X, owned by A, from A and possessed it. Thereafter B purchased X from A, and A and B manifested an intention to transfer the possession to B. In this case, B may duly assert the acquisition of the ownership of X against any third parties.? \n"
     ]
    },
    {
     "name": "stderr",
     "output_type": "stream",
     "text": [
      " 23%|███████████████████▏                                                                | 23/101 [00:42<01:52,  1.44s/it]"
     ]
    },
    {
     "name": "stdout",
     "output_type": "stream",
     "text": [
      "no, b cannot assert the acquisition of the ownership of x against any third parties.\n",
      "Article 211 (1) In the cases referred to in the preceding Article, the location and method of passage must be chosen so as to meet the needs of the person that is entitled to the right-of-way under the provisions of that Article and cause the least damage to the other land.\n",
      "Based on the previous passage, Land X, owned by A, is surrounded by other land and has no access to a public road, and Land Y, owned by B, surrounds Land X. A has a right to pass through Land Y in order to reach a public road. In this case, the location and method of passage must be chosen so as to meet the needs of A and cause the least damage to Land Y.? \n"
     ]
    },
    {
     "name": "stderr",
     "output_type": "stream",
     "text": [
      " 24%|███████████████████▉                                                                | 24/101 [00:46<02:31,  1.97s/it]"
     ]
    },
    {
     "name": "stdout",
     "output_type": "stream",
     "text": [
      "the location and method of passage must be chosen so as to meet the needs of a and cause the least damage to land y.\n",
      "Article 211\n",
      "(2) A person that holds the right-of-way under the provisions of the preceding Article may construct a road if necessary.\n",
      "Based on the previous passage, Land X, owned by A, is surrounded by other land and has no access to a public road, and Land Y, owned by B, surrounds Land X. A has a right to pass through Land Y in order to reach a public road. In this case, A must obtain the consent of B to construct a road on Land Y.? \n"
     ]
    },
    {
     "name": "stderr",
     "output_type": "stream",
     "text": [
      " 25%|████████████████████▊                                                               | 25/101 [00:46<01:52,  1.48s/it]"
     ]
    },
    {
     "name": "stdout",
     "output_type": "stream",
     "text": [
      "yes\n",
      "Article 267 The provisions of Section 1, Subsection 2 of the preceding Chapter (Neighboring Relationships) apply mutatis mutandis between superficiaries or between a superficiary and a landowner;provided, however, that the mutatis mutandis application of the provisions of Article 229 to superficiaries is limited to when structures on the boundary line are installed after the establishment of the superficies.\n",
      "Article 210 (1) An owner of land that is surrounded by other land and has no access to a public road may pass through the other land that surrounds that owner's land to reach a public road.\n",
      "Based on the previous passage, Land X, owned by A, is surrounded by other land and has no access to a public road, and Land Y, owned by B, surrounds Land X. A has a right to pass through Land Y in order to reach a public road. In this case, C, the superficiary of Land X, may pass through Land Y without the consent of B.? \n"
     ]
    },
    {
     "name": "stderr",
     "output_type": "stream",
     "text": [
      " 26%|█████████████████████▌                                                              | 26/101 [00:46<01:25,  1.14s/it]"
     ]
    },
    {
     "name": "stdout",
     "output_type": "stream",
     "text": [
      "yes\n",
      "Article 253\n",
      "(2) If a co-owner does not perform the obligations referred to in the preceding paragraph within one year, other co-owners may acquire that co-owner's interest by paying a reasonable compensation.\n",
      "Based on the previous passage, A, B, and C co-own Land X with one-third interest each. If one year has passed without A performing the obligation to pay B the expenses of management of Land X, B may acquire the interest of A by paying a reasonable compensation.? \n"
     ]
    },
    {
     "name": "stderr",
     "output_type": "stream",
     "text": [
      " 27%|██████████████████████▍                                                             | 27/101 [00:47<01:06,  1.11it/s]"
     ]
    },
    {
     "name": "stdout",
     "output_type": "stream",
     "text": [
      "yes\n",
      "Article 259 (1) If one of the co-owners holds a claim regarding co-ownership against other co-owners, upon partition, the portion of the property in co-ownership that belongs to the obligor may be appropriated for the payment of the same.\n",
      "Based on the previous passage, A, B, and C co-own Land X with one-third interest each. In this case, if A holds a claim for the expenses of management of Land X against B, upon the partition of Land X in kind, the portion that is to belong to B may be appropriated for the payment of the same.? \n"
     ]
    },
    {
     "name": "stderr",
     "output_type": "stream",
     "text": [
      " 28%|███████████████████████▎                                                            | 28/101 [00:47<00:56,  1.30it/s]"
     ]
    },
    {
     "name": "stdout",
     "output_type": "stream",
     "text": [
      "yes.\n",
      "Article 295\n",
      "(2) The provisions of the preceding paragraph do not apply if possession commenced by means of a tortious act.\n",
      "Based on the previous passage, A commenced possession of Building X, owned by B, while knowing there is no title, and thereafter A obtained a claim that has arisen in relation to X. In this case, A may retain X until that claim is satisfied.? \n"
     ]
    },
    {
     "name": "stderr",
     "output_type": "stream",
     "text": [
      " 29%|████████████████████████                                                            | 29/101 [00:49<01:15,  1.05s/it]"
     ]
    },
    {
     "name": "stdout",
     "output_type": "stream",
     "text": [
      "no, a may not retain x until that claim is satisfied.\n",
      "Article 304 (1) A statutory lien may also be exercised against things including monies that the obligor is to receive as a result of the sale, lease or loss of, or damage to, the subject matter of the statutory lien;provided, however, that the holder of the statutory lien must attach the same before the payment or delivery of the monies or other thing.\n",
      "Based on the previous passage, The holder of the right of retention may also exercise the right of the retention over the insurance claim which the obligor should receive because of the loss of the thing retained, by attaching the same.? \n"
     ]
    },
    {
     "name": "stderr",
     "output_type": "stream",
     "text": [
      " 30%|████████████████████████▉                                                           | 30/101 [00:51<01:49,  1.54s/it]"
     ]
    },
    {
     "name": "stdout",
     "output_type": "stream",
     "text": [
      "no, the holder of the right of retention may not exercise the right of the retention over the insurance claim.\n",
      "Article 298\n",
      "(2) The holder of the right of retention may not use, lease or provide as a security the thing retained unless that holder obtains the consent of the obligor;provided, however, that this does not apply to uses necessary for the preservation of that thing.\n",
      "(3) If the holder of a right of retention violates the provisions of the preceding two paragraphs, the obligor may demand that the right of retention be terminated.\n",
      "Based on the previous passage, The holder of the right of retention leased the thing retained without obtaining the consent of the obligor. In this case, if the lease is terminated and the thing retained is returned to the holder, the obligor may not demand that the right of retention be terminated.? \n"
     ]
    },
    {
     "name": "stderr",
     "output_type": "stream",
     "text": [
      " 31%|█████████████████████████▊                                                          | 31/101 [00:54<02:05,  1.79s/it]"
     ]
    },
    {
     "name": "stdout",
     "output_type": "stream",
     "text": [
      "no, the obligor may not demand that the right of retention be terminated.\n",
      "Article 303 The holder of a statutory lien has the rights to have that holder's own claim satisfied prior to other obligees out of the assets of the relevant obligor in accordance with the provisions of laws including this Act.\n",
      "Based on the previous passage, A sold Mechanical Tool X, owned by A, to B and delivered X to B. In this case, if B does not perform the payment obligation even after the due date arrives, A may claim for the delivery of X against B based on statutory liens.? \n"
     ]
    },
    {
     "name": "stderr",
     "output_type": "stream",
     "text": [
      " 32%|██████████████████████████▌                                                         | 32/101 [00:54<01:33,  1.36s/it]"
     ]
    },
    {
     "name": "stdout",
     "output_type": "stream",
     "text": [
      "yes\n",
      "Article 334 If there is conflict between a statutory lien and a pledge on movables, the pledgee of those movables has the same rights as those of the holder of a statutory lien of the first rank under Article 330.\n",
      "Article 330 (1) If there are competing special statutory liens against the same movables, the order of priority follows the order set forth below.In this case, if there are two or more preservers with respect to the statutory liens for preservation of movables set forth in item (ii), a new preserver has priority over previous preservers:\n",
      "(i) statutory liens for leases of immovables, lodging at hotels and transportation;\n",
      "(ii) statutory liens for the preservation of movables; and\n",
      "(iii) statutory liens for the sale of movables, the supply of seeds and seedlings or fertilizer, agricultural labor and industrial labor.\n",
      "(2) In the cases referred to in the preceding paragraph, if a holder of a statutory lien ranked first knew at the time of acquiring the relevant claim of the existence of a holder of a statutory lien of the second or third rank, that holder may not exercise the relevant rights of priority against those persons. The same applies to the exercise against persons that have preserved things on behalf of the holder of a statutory lien of the first rank.\n",
      "Based on the previous passage, A sold Mechanical Tool X, owned by A, to B and delivered X to B. Then B created a pledge on X for the benefit of C and completed the delivery, and as of the time when C acquired the pledge, C did not know that A had a statutory lien. In this case, the pledge for C shall have priority over the statutory lien for A.? \n"
     ]
    },
    {
     "name": "stderr",
     "output_type": "stream",
     "text": [
      " 33%|███████████████████████████▍                                                        | 33/101 [00:55<01:13,  1.09s/it]"
     ]
    },
    {
     "name": "stdout",
     "output_type": "stream",
     "text": [
      "yes\n",
      "Article 366 (2) If monies are the subject matter of a pledged claim, the pledgee may collect the same to the extent of the portion that corresponds to the amount of the pledgee's own claim.\n",
      "Based on the previous passage, B created a pledge over Loan Claim Y of B against C in order to secure Loan Claim X of A against B, and B orally notified C to that effect. In this case, if both Claim X and Claim Y are due, A may directly collect Claim Y from C to the extent of the portion that corresponds to the amount of Claim X.? \n"
     ]
    },
    {
     "name": "stderr",
     "output_type": "stream",
     "text": [
      " 34%|████████████████████████████▎                                                       | 34/101 [00:55<00:58,  1.15it/s]"
     ]
    },
    {
     "name": "stdout",
     "output_type": "stream",
     "text": [
      "yes\n",
      "Article 366\n",
      "(3) If the due date of the pledged claim referred to in the preceding paragraph arrives prior to the due date of the claim of the pledgee, the pledgee may have the third party obligor deposit with official depository that amount to be paid to the pledgee. In this case, the pledge exists over the amount so deposited.\n",
      "Based on the previous passage, B created a pledge over Loan Claim Y of B against C in order to secure Loan Claim X of A against B, and B orally notified C to that effect. In this case, if the due date of Claim Y arrives prior to the due date of Claim X, A may have C deposit with official depository that amount to be paid.? \n"
     ]
    },
    {
     "name": "stderr",
     "output_type": "stream",
     "text": [
      " 35%|█████████████████████████████                                                       | 35/101 [00:55<00:47,  1.40it/s]"
     ]
    },
    {
     "name": "stdout",
     "output_type": "stream",
     "text": [
      "yes\n",
      "Article 350 The provisions of Articles 296 through 300 and those of Article 304 apply mutatis mutandis to pledges.\n",
      "Article 297 (1) A holder of a right of retention may collect fruits derived from the thing retained, and appropriate the same to the satisfaction of that holder's own claim before other obligees.\n",
      "Based on the previous passage, B created a pledge over Loan Claim Y of B against C in order to secure Loan Claim X of A against B, and B orally notified C to that effect. In this case, the scope of effect of the pledge of the claim shall not extend to the interest arising from Claim Y.? \n"
     ]
    },
    {
     "name": "stderr",
     "output_type": "stream",
     "text": [
      " 36%|█████████████████████████████▉                                                      | 36/101 [00:56<00:39,  1.65it/s]"
     ]
    },
    {
     "name": "stdout",
     "output_type": "stream",
     "text": [
      "yes\n",
      "Article 377 (1) In the cases in the preceding Article, the mortgagee may not duly assert the disposition of mortgages against principal obligors, guarantors, mortgagors or their respective successors unless the disposition is notified to the principal obligors or the principal obligors consent to that disposition in accordance with the provisions of Article 467.\n",
      "Article 376 (1) A mortgagee may apply the mortgage to secure other claims, or assign or waive that mortgage, or its order of priority, for the benefit of other obligees of the same obligor.\n",
      "Based on the previous passage, A created a mortgage on Land X, owned by A, in order to secure the obligation against B, and B assigned the mortgage to C, who was a general creditor of A. In this case, C may not duly assert the assignment of the mortgage against A unless B notifies A of this or A consents to this.? \n"
     ]
    },
    {
     "name": "stderr",
     "output_type": "stream",
     "text": [
      " 37%|██████████████████████████████▊                                                     | 37/101 [00:56<00:33,  1.90it/s]"
     ]
    },
    {
     "name": "stdout",
     "output_type": "stream",
     "text": [
      "yes\n",
      "Article 374 (1) The order of priority of mortgages may be changed with the agreement of all mortgagees;provided, however, that if there are interested persons, the consent of the same must be obtained.\n",
      "Based on the previous passage, A created the first-ranked mortgage for the benefit of B, the second-ranked mortgage for the benefit of C, and the third-ranked mortgage for the benefit of D on Land X, owned by A. In this case, the consent of C shall not be required in order to change the order of priority of the mortgage in the order of D, C, and B.? \n"
     ]
    },
    {
     "name": "stderr",
     "output_type": "stream",
     "text": [
      " 38%|███████████████████████████████▌                                                    | 38/101 [00:59<01:28,  1.40s/it]"
     ]
    },
    {
     "name": "stdout",
     "output_type": "stream",
     "text": [
      "no, the consent of c is required in order to change the order of priority of the mortgage in the order of d, c, and b.\n",
      "Article 389 (1) If a building is constructed on a mortgaged land after the creation of a mortgage, the mortgagee may auction the building together with the land;provided, however, that the right of priority of that mortgagee may be exercised solely against the proceeds of the land.\n",
      "Based on the previous passage, A created a mortgage on Land X, which was vacant land and owned by A, for the benefit of B, and thereafter built Building Y on Land X. In this case, if B enforces the mortgage and auctions Land X and Building Y at once, B may receive preferential payment from proceeds of the sale of Building Y.? \n"
     ]
    },
    {
     "name": "stderr",
     "output_type": "stream",
     "text": [
      " 39%|████████████████████████████████▍                                                   | 39/101 [01:02<01:44,  1.69s/it]"
     ]
    },
    {
     "name": "stdout",
     "output_type": "stream",
     "text": [
      "no, b may only receive preferential payment from the proceeds of the sale of land x.\n",
      "Article 378 If a third party that purchases the ownership or superficies of a mortgaged immovables pays the price of the same to a mortgagee at the request of the same mortgagee, that mortgage is terminated for the benefit of that third party.\n",
      "Based on the previous passage, A created a mortgage on Land X, owned by A, for the benefit of B and thereafter sold Land X to C. In this case, if C pays the price of the same to B at the request of B, the mortgage shall be terminated.? \n"
     ]
    },
    {
     "name": "stderr",
     "output_type": "stream",
     "text": [
      " 40%|█████████████████████████████████▎                                                  | 40/101 [01:02<01:18,  1.28s/it]"
     ]
    },
    {
     "name": "stdout",
     "output_type": "stream",
     "text": [
      "yes\n",
      "Article 413 (1) If the obligee refuses, or is unable, to accept the tender of the performance of an obligation, and the subject matter of the obligation is the delivery of a specific thing, it is sufficient for the obligor to retain the thing by exercising care identical to that the obligor exercises for the obligor's own property, during the period from the time of the tender of the performance until the delivery of the thing.\n",
      "Based on the previous passage, A seller of a specific thing tendered the performance of the obligation of the delivery of the subject matter. In this case, if the buyer is not able to accept the subject matter, the seller must retain the thing with the due care of a prudent manager, which is determined in light of the contract and the common sense in the transaction, from the time of the tender of the performance until the completion of the delivery.? \n"
     ]
    },
    {
     "name": "stderr",
     "output_type": "stream",
     "text": [
      " 41%|██████████████████████████████████                                                  | 41/101 [01:08<02:33,  2.56s/it]"
     ]
    },
    {
     "name": "stdout",
     "output_type": "stream",
     "text": [
      "no, the seller must retain the thing with the due care of a prudent manager, which is determined in light of the contract and the common sense in the transaction, from the time of the tender of the performance until the completion of the delivery.\n",
      "Article 413 (2) If the obligee's refusal or inability to accept the performance of an obligation results in increasing the expenses for the performance, the amount of increase is borne by the obligee.\n",
      "Based on the previous passage, A seller of a specific thing tendered the performance of the obligation of the delivery of the subject matter. In this case, if the buyer is not able to accept the subject matter, the buyer must bear the cost required for the seller to continue to keep the subject matter in custody.? \n"
     ]
    },
    {
     "name": "stderr",
     "output_type": "stream",
     "text": [
      " 42%|██████████████████████████████████▉                                                 | 42/101 [01:10<02:20,  2.39s/it]"
     ]
    },
    {
     "name": "stdout",
     "output_type": "stream",
     "text": [
      "no, the buyer must bear the cost of keeping the subject matter in custody.\n",
      "Article 492 Upon tendering the performance, the obligor is relieved from any and all responsibilities which may arise from the non-performance of the obligation.\n",
      "Based on the previous passage, A seller of a specific thing tendered the performance of the obligation of the delivery of the subject matter. In this case, if the buyer is not able to accept the subject matter, the seller shall be relieved from the responsibilities for the delay from the time when the seller tendered the performance.? \n"
     ]
    },
    {
     "name": "stderr",
     "output_type": "stream",
     "text": [
      " 43%|███████████████████████████████████▊                                                | 43/101 [01:10<01:42,  1.77s/it]"
     ]
    },
    {
     "name": "stdout",
     "output_type": "stream",
     "text": [
      "yes\n",
      "Article 567 (2) The preceding paragraph also applies if the seller tenders the performance of the obligation of delivery by delivering the subject matter that conforms to the terms of the contract, but the buyer refuses to accept or is unable to accept the performance, and the subject matter is lost or damaged after the time of the tender of the performance due to any grounds not attributable to either party.\n",
      "Based on the previous passage, A seller of a specific thing tendered the performance of the obligation of the delivery of the subject matter. The buyer refused to accept the subject matter, and thereafter the subject matter was lost due to grounds attributable to neither the seller nor the buyer. In this case, the buyer may cancel the contract.? \n"
     ]
    },
    {
     "name": "stderr",
     "output_type": "stream",
     "text": [
      " 44%|████████████████████████████████████▌                                               | 44/101 [01:10<01:16,  1.35s/it]"
     ]
    },
    {
     "name": "stdout",
     "output_type": "stream",
     "text": [
      "yes\n",
      "Article 473 If the obligor performs an obligation to the obligee, the claim is extinguished.\n",
      "Article 423-4 If the obligee exercises the subrogor's right, the other party may duly assert against the obligee any defense that can be asserted against the obligor.\n",
      "Based on the previous passage, A requested the performance of the monitory claim of B against C based on the obligee’s right of subrogation to preserve the claim of A against B, but C had already performed the monitory obligation against B before the due date. In this case, C may not duly assert the extinguish of the claim by the performance against A.? \n"
     ]
    },
    {
     "name": "stderr",
     "output_type": "stream",
     "text": [
      " 45%|█████████████████████████████████████▍                                              | 45/101 [01:11<00:58,  1.05s/it]"
     ]
    },
    {
     "name": "stdout",
     "output_type": "stream",
     "text": [
      "yes\n",
      "Article 423-2 If the obligee exercises the subrogor's right, and the subject matter of the subrogor's right is divisible, the obligee may exercise the subrogor's right only to the extent of the amount of the obligee's own claim.\n",
      "Based on the previous passage, If A holds a monitory claim against B, and B holds a monitory claim against C, A may not exercise the claim of B against C beyond the amount of A’s claim, based on the obligee’s right of subrogation to preserve the claim of A against B.? \n"
     ]
    },
    {
     "name": "stderr",
     "output_type": "stream",
     "text": [
      " 46%|██████████████████████████████████████▎                                             | 46/101 [01:11<00:46,  1.19it/s]"
     ]
    },
    {
     "name": "stdout",
     "output_type": "stream",
     "text": [
      "yes\n",
      "Article 423-7 A person that has acquired by assignment from another person a property for which the acquisition or loss of rights and the change to rights cannot be duly asserted against a third party unless registered may exercise the assignor's right to request a third party to complete the registration procedure if the assignor does not exercise that right. In such a case, the provisions of the preceding three Articles apply mutatis mutandis.\n",
      "Based on the previous passage, B purchased the land from its owner C and resold it to A. In this case, if B does not exercise the right to request the registration of the transfer of the ownership against C, A may request C directly transfer the registration to A based on the obligee’s right of subrogation to preserve the claim of A against B.? \n"
     ]
    },
    {
     "name": "stderr",
     "output_type": "stream",
     "text": [
      " 47%|███████████████████████████████████████                                             | 47/101 [01:11<00:37,  1.44it/s]"
     ]
    },
    {
     "name": "stdout",
     "output_type": "stream",
     "text": [
      "yes\n",
      "Article 449 If a guarantor that guarantees an obligation which may be voidable due to the principal obligor's limited capacity to act, is aware, at the time of entering into a guarantee contract, of the cause for its voidability, that guarantor is presumed to have assumed an independent obligation of the same subject matter in the event of non-performance by the principal obligor or rescission of the obligation.\n",
      "Based on the previous passage, If a guarantor that guarantees an obligation which may be voidable due to the limited capacity to act, is aware, at the time of conclusion of the guarantee contract, of the cause for its voidability, that guarantor is presumed to have assumed an independent obligation of the same subject matter in the event of non-performance by the principal obligor or rescission of the obligation.? \n"
     ]
    },
    {
     "name": "stderr",
     "output_type": "stream",
     "text": [
      " 48%|███████████████████████████████████████▉                                            | 48/101 [01:12<00:31,  1.69it/s]"
     ]
    },
    {
     "name": "stdout",
     "output_type": "stream",
     "text": [
      "yes\n",
      "Article 462 (1) The provisions of Article 459-2, paragraph (1) apply mutatis mutandis if a person, that has given guarantee without the request of the principal obligor, performs an act for extinguishment of obligation.\n",
      "(2) A person that has become a guarantor against the will of the principal obligor has the right to reimbursement only to the extent currently enriched.In this case, if the principal obligor asserts to have grounds for set-off against the obligee prior to the day of the demand for reimbursement, the guarantor may demand that the obligee perform the obligation which would have been extinguished by that set-off.\n",
      "Article 459-2(1) If a guarantor gives a guarantee as requested by the principal obligor and performs an act for extinguishment of obligation before the due date of the principal obligation, the guarantor has the right to reimbursement from the principal obligor to the extent that the principal obligor was enriched at the time of the act. In such a case, if the principal obligor alleges to have had grounds for set-off prior to the day of the act for extinguishment of obligation, the guarantor may request the obligee to perform the obligation which should have been extinguished due to the set-off.\n",
      "Based on the previous passage, In the case where the guarantee was given against the will of the principal obligor, the guarantor who performed the guarantee obligation has the right to reimbursement to the extent that the principal obligor was enriched at the time of the performance.? \n"
     ]
    },
    {
     "name": "stderr",
     "output_type": "stream",
     "text": [
      " 49%|████████████████████████████████████████▊                                           | 49/101 [01:15<01:11,  1.37s/it]"
     ]
    },
    {
     "name": "stdout",
     "output_type": "stream",
     "text": [
      "no, the guarantor who performed the guarantee obligation has the right to reimbursement only to the extent currently enriched.\n",
      "Article 463 (2) If a guarantor gives a guarantee as requested by the principal obligor and performs an act for extinguishment of obligation in good faith because of the principal obligor's failure to notify the guarantor of the principal obligor's performance of an act for extinguishment of obligation, the guarantor may deem that the guarantor's own act for extinguishment of obligation is valid.\n",
      "Based on the previous passage, In the case where the guarantee was given without the request of the principal obligor, the principal obligor performed the obligation but did not notify the guarantor of the fact. In this case, if the guarantor performed the obligation of the guarantee without knowing the performance by the principal obligor, the guarantor may deem that the performance is valid.? \n"
     ]
    },
    {
     "name": "stderr",
     "output_type": "stream",
     "text": [
      " 50%|█████████████████████████████████████████▌                                          | 50/101 [01:17<01:21,  1.59s/it]"
     ]
    },
    {
     "name": "stdout",
     "output_type": "stream",
     "text": [
      "no, the guarantor cannot deem that the performance is valid.\n",
      "Article 446(1) A guarantor has the responsibility to perform the obligation of the principal obligor when the latter fails to perform that obligation.\n",
      "Article 505(1) If two persons bear an obligation to each other that has the same kind of purpose and if both obligations are due, each obligor may be relieved from the obligation by setting off the value of that obligation against the corresponding amount of the obligation of the other obligor;provided, however, that this does not apply if the nature of the obligation does not permit such a set-off.\n",
      "Based on the previous passage, If a guarantor who was requested by the obligee the performance of the guarantee obligation invokes a set-off with the guarantor’s claim against the obligee, the principal obligation shall be extinguished at the corresponding amount.? \n"
     ]
    },
    {
     "name": "stderr",
     "output_type": "stream",
     "text": [
      " 50%|██████████████████████████████████████████▍                                         | 51/101 [01:17<01:00,  1.22s/it]"
     ]
    },
    {
     "name": "stdout",
     "output_type": "stream",
     "text": [
      "yes\n",
      "Article 465(1) If there are multiple guarantors, and one guarantor has paid the entire amount of the obligation or any amount exceeding that guarantor's share because the principal obligation is indivisible, or because there is a special provision to the effect that each guarantor should pay the entire amount, the provisions of Articles 442 through 444 apply mutatis mutandis.\n",
      "Article 442(1) If one of the joint and several obligors performs the obligation or otherwise obtain a common discharge in exchange for that obligor's own property, the joint and several obligor has the right to reimbursement from other joint and several obligors for the amounts in proportion to their respective shares of the obligation of the amount of the property expended by the joint and several obligor in order to obtain the discharge (if the amount of property exceeds the amount after the common discharge, the amount thus discharged), regardless of whether the amount discharged exceeds the amount of the joint and several obligor's own share.\n",
      "Based on the previous passage, In the case where one of the multiple jointly and severally liable guarantors performed the guarantee obligation, the guarantor may claim the reimbursement against the other jointly and severally liable guarantors regardless of whether the amount exceeded the guarantor’s own share.? \n"
     ]
    },
    {
     "name": "stderr",
     "output_type": "stream",
     "text": [
      " 51%|███████████████████████████████████████████▏                                        | 52/101 [01:18<00:47,  1.03it/s]"
     ]
    },
    {
     "name": "stdout",
     "output_type": "stream",
     "text": [
      "yes\n",
      "Article 466-6 (2) If a claim is assigned, and the claim is yet to arise by the time of the manifestation of intention to assign it, the assignee by operation of law acquires the claim when it arises.\n",
      "(3) In the case prescribed in the preceding paragraph, if the assignor makes the manifestation of intention to restrict assignment by the time when the assignor gives notice under the provisions of the following Article or the obligor gives consent under the provisions of that Article (hereinafter referred to as the \"time of completion of perfection\"), a third party such as the assignee is deemed to have known this, and the provisions of Article 466, paragraph (3) (or paragraph (1) of the preceding Article if the claim subject to the manifestation of intention to restrict assignment is a claim for deposits) apply thereto.\n",
      "Article 466 (3) In the case prescribed in the preceding paragraph, the obligor may refuse to perform the obligation to a third party such as the assignee that knew or did not know due to gross negligence that the manifestation of intention to restrict assignment was made, and may duly assert against such third party any event that results in extinguishment of the obligation such as payment to the assignor.\n",
      "Based on the previous passage, A assigned Claim X, the claim of the payment of the sales price against B, which should be arisen in the future, to C and notified B of the assignment. Then A and B made a special agreement prohibiting the assignment of Claim X, and thereafter Claim X arose. In this case, B may deem that C knew the existence of the special agreement and may refuse to perform the obligation.? \n"
     ]
    },
    {
     "name": "stderr",
     "output_type": "stream",
     "text": [
      " 52%|████████████████████████████████████████████                                        | 53/101 [01:18<00:39,  1.22it/s]"
     ]
    },
    {
     "name": "stdout",
     "output_type": "stream",
     "text": [
      "yes\n",
      "Article 466 (2) Even if a party to a claim manifests the intention to prohibit or restrict the assignment of the claim (hereinafter referred to as the \"manifestation of intention to restrict assignment\"), the validity of the assignment of the claim is not impaired.\n",
      "(3) In the case prescribed in the preceding paragraph, the obligor may refuse to perform the obligation to a third party such as the assignee that knew or did not know due to gross negligence that the manifestation of intention to restrict assignment was made, and may duly assert against such third party any event that results in extinguishment of the obligation such as payment to the assignor.\n",
      "(4) The provisions of the preceding paragraph do not apply if the obligor does not perform the obligation, and the third party prescribed in that paragraph makes a demand to the obligor for the performance to the assignor by specifying a reasonable period of time, but the obligor does not perform the obligation within that period.\n",
      "Based on the previous passage, Claim X, the claim of the payment of the sales price of A against B, has a special agreement prohibiting the assignment, but C acquired Claim X while knowing the existence of the special agreement prohibiting the assignment. C made a demand to B for the performance to C by specifying a reasonable period of time, but B did not perform the obligation within that period. In this case, B may not refuse to perform the obligation to C based on the special agreement prohibiting the assignment.? \n"
     ]
    },
    {
     "name": "stderr",
     "output_type": "stream",
     "text": [
      " 53%|████████████████████████████████████████████▉                                       | 54/101 [01:19<00:32,  1.45it/s]"
     ]
    },
    {
     "name": "stdout",
     "output_type": "stream",
     "text": [
      "yes\n",
      "Article 466 (2) Even if a party to a claim manifests the intention to prohibit or restrict the assignment of the claim (hereinafter referred to as the \"manifestation of intention to restrict assignment\"), the validity of the assignment of the claim is not impaired.\n",
      "(3) In the case prescribed in the preceding paragraph, the obligor may refuse to perform the obligation to a third party such as the assignee that knew or did not know due to gross negligence that the manifestation of intention to restrict assignment was made, and may duly assert against such third party any event that results in extinguishment of the obligation such as payment to the assignor.\n",
      "Based on the previous passage, Claim X, the claim of the payment of the sales price of A against B, has a special agreement prohibiting the assignment, but C acquired Claim X and assigned it to D while knowing the existence of the special agreement prohibiting the assignment. In this case, if D does not know the existence of the special agreement without gross negligence, B may not refuse to perform the obligation to D based on the special agreement prohibiting the assignment.? \n"
     ]
    },
    {
     "name": "stderr",
     "output_type": "stream",
     "text": [
      " 54%|█████████████████████████████████████████████▋                                      | 55/101 [01:19<00:26,  1.70it/s]"
     ]
    },
    {
     "name": "stdout",
     "output_type": "stream",
     "text": [
      "yes\n",
      "Article 466-2 (1) If a claim for payment of money subject to the manifestation of intention to restrict assignment is assigned to a third party, the obligor may deposit the amount of money equivalent to the full amount of the claim with an official depository having jurisdiction over the place of performance of the obligation (including the current domicile of the assignor if the place of performance of the obligation is determined on the basis of the current domicile of the obligee; the same applies in the following Article).\n",
      "Based on the previous passage, Claim X, the claim of the payment of the sales price of A against B, has a special agreement prohibiting the assignment, but Claim X was assigned. In this case, B may deposit the amount of money equivalent to the full amount of the claim with an official depository.? \n"
     ]
    },
    {
     "name": "stderr",
     "output_type": "stream",
     "text": [
      " 55%|██████████████████████████████████████████████▌                                     | 56/101 [01:19<00:23,  1.94it/s]"
     ]
    },
    {
     "name": "stdout",
     "output_type": "stream",
     "text": [
      "yes\n",
      "Article 466 (2) Even if a party to a claim manifests the intention to prohibit or restrict the assignment of the claim (hereinafter referred to as the \"manifestation of intention to restrict assignment\"), the validity of the assignment of the claim is not impaired.\n",
      "(3) In the case prescribed in the preceding paragraph, the obligor may refuse to perform the obligation to a third party such as the assignee that knew or did not know due to gross negligence that the manifestation of intention to restrict assignment was made, and may duly assert against such third party any event that results in extinguishment of the obligation such as payment to the assignor.\n",
      "Article 466-4 (1) The provisions of Article 466, paragraph (3) do not apply to an attaching obligee that has enforced compulsory execution against a claim that is subject to the manifestation of intention to restrict assignment.\n",
      "(2) Notwithstanding the provisions of the preceding paragraph, if a third party such as the assignee knew or did not know due to gross negligence that the manifestation of intention to restrict assignment was made, and the obligee of the assignee or other third party enforces compulsory execution against the claim referred to in that paragraph, the obligor may refuse to perform the obligation and duly assert against an attaching obligee any event that results in extinguishing the obligation such as payment to the assignor.\n",
      "Based on the previous passage, Claim X, the claim of the payment of the sales price of A against B, has a special agreement prohibiting the assignment, but C acquired Claim X while knowing the existence of the special agreement prohibiting the assignment. Then D, the obligee of C, enforced compulsory execution against Claim X. In this case, B may not refuse to perform the obligation to D based on the special agreement prohibiting the assignment.? \n"
     ]
    },
    {
     "name": "stderr",
     "output_type": "stream",
     "text": [
      " 56%|███████████████████████████████████████████████▍                                    | 57/101 [01:20<00:21,  2.00it/s]"
     ]
    },
    {
     "name": "stdout",
     "output_type": "stream",
     "text": [
      "yes\n",
      "Article 494 (2) The preceding paragraph also applies if the performer is unable to ascertain the obligee;provided, however, that this does not apply if the performer is negligent in this respect.\n",
      "Based on the previous passage, If a performer is unable to ascertain the obligee without negligence, the performer may deposit the subject matter of the performance with an official depository.? \n"
     ]
    },
    {
     "name": "stderr",
     "output_type": "stream",
     "text": [
      " 57%|████████████████████████████████████████████████▏                                   | 58/101 [01:20<00:19,  2.18it/s]"
     ]
    },
    {
     "name": "stdout",
     "output_type": "stream",
     "text": [
      "yes\n",
      "Article 496 (1) As long as the obligee does not accept the deposit, or the judgment which pronounces that the deposit is effective does not become final and binding, the performer may recover the deposited thingy. In such case, it is deemed that no deposit has been effected.\n",
      "Based on the previous passage, If a performer lawfully deposits the subject matter of the performance with an official depository, the performer may not recover the deposited thing.? \n"
     ]
    },
    {
     "name": "stderr",
     "output_type": "stream",
     "text": [
      " 58%|█████████████████████████████████████████████████                                   | 59/101 [01:22<00:33,  1.25it/s]"
     ]
    },
    {
     "name": "stdout",
     "output_type": "stream",
     "text": [
      "no, the performer may not recover the deposited thing.\n",
      "Article 495 (3) A person that has effected a deposit pursuant to the provisions of the preceding Article must notify the obligee of the deposit without delay.\n",
      "Based on the previous passage, If a performer deposits the subject matter of the performance with an official depository for the benefit of the obligee, the performer must notify the obligee of the deposit without delay.? \n"
     ]
    },
    {
     "name": "stderr",
     "output_type": "stream",
     "text": [
      " 59%|█████████████████████████████████████████████████▉                                  | 60/101 [01:22<00:26,  1.53it/s]"
     ]
    },
    {
     "name": "stdout",
     "output_type": "stream",
     "text": [
      "yes\n",
      "Article 494 (1) In the following cases, a performer may deposit the subject matter of the performance with an official depository for the benefit of the obligee. In such a case, the claim is extinguished when the performer makes the deposit:\n",
      "Based on the previous passage, If a performer deposits the subject matter of the performance with an official depository for the benefit of the obligee, the claim shall be extinguished at the time when the deposited thing is returned to the obligee.? \n"
     ]
    },
    {
     "name": "stderr",
     "output_type": "stream",
     "text": [
      " 60%|██████████████████████████████████████████████████▋                                 | 61/101 [01:24<00:42,  1.07s/it]"
     ]
    },
    {
     "name": "stdout",
     "output_type": "stream",
     "text": [
      "no, the claim is extinguished when the performer makes the deposit.\n",
      "Article 509 The obligor of either of the following obligations may not duly assert a set-off against the obligee;provided, however, that this does not apply if the obligee acquires a claim corresponding to the relevant obligation from another person:\n",
      "(i) an obligation for compensation for loss or damage based on a tort committed in bad faith; or\n",
      "(ii) an obligation for compensation for loss or damage for death or injury to person (excluding the one set forth in the preceding item).\n",
      "Based on the previous passage, Victim A, who was injured by the tort, may not use the claim for compensation for the damage against Perpetrator B to assert set-off, against the loan claim of B against A.? \n"
     ]
    },
    {
     "name": "stderr",
     "output_type": "stream",
     "text": [
      " 61%|███████████████████████████████████████████████████▌                                | 62/101 [01:28<01:15,  1.95s/it]"
     ]
    },
    {
     "name": "stdout",
     "output_type": "stream",
     "text": [
      "no, victim a may not use the claim for compensation for the damage against perpetrator b to assert set-off, against the loan claim of b against a.\n",
      "Article 505 (1) If two persons bear an obligation to each other that has the same kind of purpose and if both obligations are due, each obligor may be relieved from the obligation by setting off the value of that obligation against the corresponding amount of the obligation of the other obligor;provided, however, that this does not apply if the nature of the obligation does not permit such a set-off.\n",
      "Article 136 (2) The benefit of time stipulation may be waived;provided, however, that the waiver may not prejudice the interest of the counterparty.\n",
      "Based on the previous passage, The obligor of the claim not yet due may not set off the claim.? \n"
     ]
    },
    {
     "name": "stderr",
     "output_type": "stream",
     "text": [
      " 62%|████████████████████████████████████████████████████▍                               | 63/101 [01:31<01:19,  2.09s/it]"
     ]
    },
    {
     "name": "stdout",
     "output_type": "stream",
     "text": [
      "no, the obligor of the claim not yet due may not set off the claim.\n",
      "Article 511 (1) A third party obligor of a claim which has been attached may not assert sett-off as defense with any claim acquired after the attachment against the attaching obligee, but may duly assert against the same a set-off based using a claim acquired before the attachment.\n",
      "Based on the previous passage, A third party obligor of a claim which has been attached may assert, against the attaching obligee, set-off using the claim against the attached obligor held prior to the attachment.? \n"
     ]
    },
    {
     "name": "stderr",
     "output_type": "stream",
     "text": [
      " 63%|█████████████████████████████████████████████████████▏                              | 64/101 [01:31<00:57,  1.56s/it]"
     ]
    },
    {
     "name": "stdout",
     "output_type": "stream",
     "text": [
      "yes\n",
      "Article 598 (2) If the parties do not specify a period of a loan for use or a purpose of using and making profit from the borrowed thing, the lender may cancel the contract at any time.\n",
      "Based on the previous passage, The loan for use without specification of the period of the loan was concluded. In this case, if there is no specification of a purpose of using and making profit from the borrowed thing, the lender may cancel the contract at any time.? \n"
     ]
    },
    {
     "name": "stderr",
     "output_type": "stream",
     "text": [
      " 64%|██████████████████████████████████████████████████████                              | 65/101 [01:31<00:42,  1.19s/it]"
     ]
    },
    {
     "name": "stdout",
     "output_type": "stream",
     "text": [
      "yes\n",
      "Article 617 (1) If the parties do not specify the term of a lease, either party may give a notice of termination at any time. In such cases, a lease as set forth in one of the following items terminates when the term prescribed in that item has passed after the day of the notice of termination:\n",
      "Based on the previous passage, In the case of a lease of movables with an indefinite term, the lessor may give a notice of termination at any time.? \n"
     ]
    },
    {
     "name": "stderr",
     "output_type": "stream",
     "text": [
      " 65%|██████████████████████████████████████████████████████▉                             | 66/101 [01:32<00:32,  1.07it/s]"
     ]
    },
    {
     "name": "stdout",
     "output_type": "stream",
     "text": [
      "yes\n",
      "Article 641 The party ordering work may cancel the contract at any time whilst the contractor has not completed the work by paying compensation for loss or damage.\n",
      "Article 642 (1) If the party ordering work receives an order commencing bankruptcy proceeding, the contractor or the bankruptcy trustee may cancel the contract;provided, however, that this does not apply to the cancellation of the contract by the contractor after the work is completed.\n",
      "Based on the previous passage, The contractor may cancel the contract for work at any time whilst the contractor has not completed the work by paying compensation for loss or damage.? \n"
     ]
    },
    {
     "name": "stderr",
     "output_type": "stream",
     "text": [
      " 66%|███████████████████████████████████████████████████████▋                            | 67/101 [01:35<00:57,  1.68s/it]"
     ]
    },
    {
     "name": "stdout",
     "output_type": "stream",
     "text": [
      "no, the party ordering work may cancel the contract at any time whilst the contractor has not completed the work by paying compensation for loss or damage.\n",
      "Article 651 (1) A mandate may be cancelled by either party at any time.\n",
      "Based on the previous passage, In the case of a mandate with definite terms and which is for value, the mandatary may cancel the contract prior to the expiration of the term.? \n"
     ]
    },
    {
     "name": "stderr",
     "output_type": "stream",
     "text": [
      " 67%|████████████████████████████████████████████████████████▌                           | 68/101 [01:35<00:42,  1.27s/it]"
     ]
    },
    {
     "name": "stdout",
     "output_type": "stream",
     "text": [
      "yes\n",
      "Article 657-2 (2) A gratuitous bailee may cancel the contract up until the bailee receives the bailed thing;provided, however, that this does not apply to a bailment made in writing.\n",
      "Based on the previous passage, If the gratuitous bailment has been made in writing, the bailor may cancel the contract up until the bailee receives the bailed thing.? \n"
     ]
    },
    {
     "name": "stderr",
     "output_type": "stream",
     "text": [
      " 68%|█████████████████████████████████████████████████████████▍                          | 69/101 [01:38<00:54,  1.72s/it]"
     ]
    },
    {
     "name": "stdout",
     "output_type": "stream",
     "text": [
      "no, the bailor may not cancel the contract up until the bailee receives the bailed thing.\n",
      "Article 557 (1) If the buyer pays earnest money to the seller, the buyer may cancel the contract by waiving the earnest money, or the seller may cancel the contract by actually providing the buyer with twice its amount;provided, however, that this does not apply after the counterparty commences performance of the contract.\n",
      "Based on the previous passage, The buyer may cancel the contract by the earnest money for cancellation until the buyer commences performance of the contract even if the seller has already commenced performance of the contract.? \n"
     ]
    },
    {
     "name": "stderr",
     "output_type": "stream",
     "text": [
      " 69%|██████████████████████████████████████████████████████████▏                         | 70/101 [01:41<01:08,  2.22s/it]"
     ]
    },
    {
     "name": "stdout",
     "output_type": "stream",
     "text": [
      "no, the buyer may not cancel the contract by waiving the earnest money if the seller has already commenced performance of the contract.\n",
      "Article 557 (1) If the buyer pays earnest money to the seller, the buyer may cancel the contract by waiving the earnest money, or the seller may cancel the contract by actually providing the buyer with twice its amount;provided, however, that this does not apply after the counterparty commences performance of the contract.\n",
      "Based on the previous passage, The buyer may cancel the contract by an earnest money for cancellation until the seller commences performance of the contract even if the buyer commences performance of the contract.? \n"
     ]
    },
    {
     "name": "stderr",
     "output_type": "stream",
     "text": [
      " 70%|███████████████████████████████████████████████████████████                         | 71/101 [01:46<01:25,  2.86s/it]"
     ]
    },
    {
     "name": "stdout",
     "output_type": "stream",
     "text": [
      "no, the buyer may not cancel the contract by an earnest money for cancellation until the seller commences performance of the contract even if the buyer commences performance of the contract.\n",
      "Article 557 (1) If the buyer pays earnest money to the seller, the buyer may cancel the contract by waiving the earnest money, or the seller may cancel the contract by actually providing the buyer with twice its amount;provided, however, that this does not apply after the counterparty commences performance of the contract.\n",
      "Based on the previous passage, The seller may cancel the contract by an earnest money for cancellation when the seller notifies the buyer orally that the seller reimburses twice the amount of the earnest money.? \n"
     ]
    },
    {
     "name": "stderr",
     "output_type": "stream",
     "text": [
      " 71%|███████████████████████████████████████████████████████████▉                        | 72/101 [01:50<01:35,  3.30s/it]"
     ]
    },
    {
     "name": "stdout",
     "output_type": "stream",
     "text": [
      "no, the seller may not cancel the contract by an earnest money for cancellation when the seller notifies the buyer orally that the seller reimburses twice the amount of the earnest money.\n",
      "Article 557 (2) The provisions of Article 545, paragraph (4) do not apply to the cases referred to in the preceding paragraph.\n",
      "Article 545 (4) The exercise of the right to cancel does not preclude claims for compensation for loss or damage.\n",
      "Based on the previous passage, When the buyer cancels the contract by the earnest money for cancellation, the buyer is not liable to compensate for damage even if the damage in excess of the amount of the earnest money has been sustained by the seller.? \n"
     ]
    },
    {
     "name": "stderr",
     "output_type": "stream",
     "text": [
      " 72%|████████████████████████████████████████████████████████████▋                       | 73/101 [01:54<01:36,  3.45s/it]"
     ]
    },
    {
     "name": "stdout",
     "output_type": "stream",
     "text": [
      "no, the buyer is not liable to compensate for damage even if the damage in excess of the amount of the earnest money has been sustained by the seller.\n",
      "Article 587 A loan for consumption becomes effective when a first party receives money or any other thing from a second party, having promised to return a thing of the same type, quality, and quantity.\n",
      "Based on the previous passage, A loan for consumption not made in writing becomes effective when a first party receives money or any other thing from a second party, having promised to return a thing of the same type, quality, and quantity.? \n"
     ]
    },
    {
     "name": "stderr",
     "output_type": "stream",
     "text": [
      " 73%|█████████████████████████████████████████████████████████████▌                      | 74/101 [01:56<01:18,  2.91s/it]"
     ]
    },
    {
     "name": "stdout",
     "output_type": "stream",
     "text": [
      "no, the loan for consumption must be made in writing.\n",
      "Article 587-2 (2) The borrower of a loan for consumption made in writing may cancel the contract until the borrower receives the money or other thing from the lender. In such a case, if the lender sustains any damage from the cancellation of the contract, the lender may claim compensation therefor.\n",
      "Based on the previous passage, A loan for consumption made in writing may be cancelled by either party until the borrower receives the subject matter from the lender.? \n"
     ]
    },
    {
     "name": "stderr",
     "output_type": "stream",
     "text": [
      " 74%|██████████████████████████████████████████████████████████████▍                     | 75/101 [01:59<01:22,  3.16s/it]"
     ]
    },
    {
     "name": "stdout",
     "output_type": "stream",
     "text": [
      "no, the borrower of a loan for consumption made in writing may cancel the contract until the borrower receives the money or other thing from the lender.\n",
      "Article 589 (1) In the absence of any special agreement, the lender may not demand interest from the borrower.\n",
      "Based on the previous passage, With respect to a loan for consumption under Civil code, in the absence of any special agreement, the lender may not demand interest from the borrower.? \n"
     ]
    },
    {
     "name": "stderr",
     "output_type": "stream",
     "text": [
      " 75%|███████████████████████████████████████████████████████████████▏                    | 76/101 [02:00<00:57,  2.31s/it]"
     ]
    },
    {
     "name": "stdout",
     "output_type": "stream",
     "text": [
      "yes\n",
      "Article 591 (2) The borrower may return the borrowed thing at any time, irrespective of whether the parties have defined the time of return of the thing.\n",
      "Based on the previous passage, With respect to a loan for consumption under Civil code, if the parties defined the time of return of the borrowed thing, the borrower may not return the thing prior to the time of return.? \n"
     ]
    },
    {
     "name": "stderr",
     "output_type": "stream",
     "text": [
      " 76%|████████████████████████████████████████████████████████████████                    | 77/101 [02:01<00:50,  2.12s/it]"
     ]
    },
    {
     "name": "stdout",
     "output_type": "stream",
     "text": [
      "no, the borrower may return the borrowed thing at any time.\n",
      "Article 590 (2) Irrespective of whether there is any special agreement referred to in paragraph (1) of the preceding Article, if the thing delivered from the lender does not conform to the terms of the contract with respect to the kind or quality, the borrower may return the value of the delivered thing.\n",
      "Based on the previous passage, With respect to a loan for consumption under Civil code, if the thing delivered from the lender does not conform to the terms of the contract with respect to the kind or quality, the borrower may return the value of the delivered thing.? \n"
     ]
    },
    {
     "name": "stderr",
     "output_type": "stream",
     "text": [
      " 77%|████████████████████████████████████████████████████████████████▊                   | 78/101 [02:02<00:36,  1.58s/it]"
     ]
    },
    {
     "name": "stdout",
     "output_type": "stream",
     "text": [
      "yes\n",
      "Article 313 (2) The statutory lien of a lessor of a building exists against movables furnished to that building by the lessee.\n",
      "Article 316 If a lessor has received a security deposit prescribed in Article 622-2, paragraph (1), the lessor has a statutory lien solely against the portion of the lessor's claim that will not be satisfied by that security deposit.\n",
      "Based on the previous passage, A leased Building X, which B owns, from B and delivered security deposit to B, and A failed to pay the rent. In this case, B may exercise the statutory lien against the movables furnished to that building by A even if the amount of unpaid rent is within the amount of security deposit.? \n"
     ]
    },
    {
     "name": "stderr",
     "output_type": "stream",
     "text": [
      " 78%|█████████████████████████████████████████████████████████████████▋                  | 79/101 [02:02<00:26,  1.21s/it]"
     ]
    },
    {
     "name": "stdout",
     "output_type": "stream",
     "text": [
      "yes\n",
      "Article 622-2 (2) If the lessee fails to perform an obligation to pay money based on the lease, the lessor may appropriate the security deposit to the payment of the obligation. In such a case, the lessee may not demand that the lessor appropriate the security deposit to the payment of the obligation.\n",
      "Based on the previous passage, A leased Building X, which B owns, from B and delivered security deposit to B. In this case, A may demand that B appropriate the security deposit to the payment of rent while the lease continues.? \n"
     ]
    },
    {
     "name": "stderr",
     "output_type": "stream",
     "text": [
      " 79%|██████████████████████████████████████████████████████████████████▌                 | 80/101 [02:04<00:33,  1.60s/it]"
     ]
    },
    {
     "name": "stdout",
     "output_type": "stream",
     "text": [
      "no, a may not demand that b appropriate the security deposit to the payment of rent while the lease continues.\n",
      "Article 295 (1) If a possessor of a thing belonging to another person has a claim that has arisen in relation to that thing, that possessor may retain that thing until that claim is satisfied;provided, however, that this does not apply if the relevant claim has not yet fallen due.\n",
      "Article 622-2 (1) If a lessor receives a security deposit (meaning money to be delivered by the lessee to the lessor under any name, for the purpose of securing an obligation to pay money that is owed by the lessee to the lessor based on a lease, such as an obligation to pay rent; hereinafter the same applies in this Article), the lessor must return to the lessee the amount that remains after deducting the amount of the obligation to pay money that is owed by the lessee to the lessor based on the lease, from the amount of security deposit received, in the following cases:\n",
      "(i) if the lease is terminated, and the lessor receives the return of the leased thing; or\n",
      "Based on the previous passage, A leased Building X from B owned by B and delivered security deposit to B, and the lease was terminated. In this case, A may retain Building X until the security deposit is returned.? \n"
     ]
    },
    {
     "name": "stderr",
     "output_type": "stream",
     "text": [
      " 80%|███████████████████████████████████████████████████████████████████▎                | 81/101 [02:06<00:34,  1.71s/it]"
     ]
    },
    {
     "name": "stdout",
     "output_type": "stream",
     "text": [
      "no, a may not retain building x until the security deposit is returned.\n",
      "Article 622-2 (1) If a lessor receives a security deposit (meaning money to be delivered by the lessee to the lessor under any name, for the purpose of securing an obligation to pay money that is owed by the lessee to the lessor based on a lease, such as an obligation to pay rent; hereinafter the same applies in this Article), the lessor must return to the lessee the amount that remains after deducting the amount of the obligation to pay money that is owed by the lessee to the lessor based on the lease, from the amount of security deposit received, in the following cases:\n",
      "(ii) if the lessee assigns the lease lawfully.\n",
      "Based on the previous passage, A leased Building X, which B owns, from B and delivered security deposit to B, and A lawfully assigned the lease to C. In this case, A may demand the return of the security deposit from B.? \n"
     ]
    },
    {
     "name": "stderr",
     "output_type": "stream",
     "text": [
      " 81%|████████████████████████████████████████████████████████████████████▏               | 82/101 [02:07<00:24,  1.30s/it]"
     ]
    },
    {
     "name": "stdout",
     "output_type": "stream",
     "text": [
      "yes\n",
      "Article 648-2 (1) If the parties agree that remuneration will be paid for any result that may be obtained through the performance of the mandated business, and the result is required to be delivered, remuneration must be paid simultaneously upon the delivery of the result.\n",
      "Based on the previous passage, If the parties agree that remuneration will be paid for any result that may be obtained through the performance of the mandated business, and the result is required to be delivered, the mandator must pay the remuneration simultaneously upon the delivery of the result.? \n"
     ]
    },
    {
     "name": "stderr",
     "output_type": "stream",
     "text": [
      " 82%|█████████████████████████████████████████████████████████████████████               | 83/101 [02:07<00:18,  1.00s/it]"
     ]
    },
    {
     "name": "stdout",
     "output_type": "stream",
     "text": [
      "yes\n",
      "Article 644-2 (1) A mandatary may not appoint a sub-mandatary unless the mandatary obtains the permission of the mandator or there is a compelling reason to do so.\n",
      "Based on the previous passage, A mandatary may appoint a sub-mandatary without obtaining the permission of the mandator even if there is no compelling reason to do so.? \n"
     ]
    },
    {
     "name": "stderr",
     "output_type": "stream",
     "text": [
      " 83%|█████████████████████████████████████████████████████████████████████▊              | 84/101 [02:12<00:34,  2.03s/it]"
     ]
    },
    {
     "name": "stdout",
     "output_type": "stream",
     "text": [
      "no, the mandatary may not appoint a sub-mandatary without obtaining the permission of the mandator even if there is a compelling reason to do so.\n",
      "Article 651 (1) A mandate may be cancelled by either party at any time.\n",
      "Based on the previous passage, The mandator may not cancel the mandate at a time that is detrimental to the mandatary.? \n"
     ]
    },
    {
     "name": "stderr",
     "output_type": "stream",
     "text": [
      " 84%|██████████████████████████████████████████████████████████████████████▋             | 85/101 [02:14<00:34,  2.17s/it]"
     ]
    },
    {
     "name": "stdout",
     "output_type": "stream",
     "text": [
      "no, the mandator may not cancel the mandate at a time that is detrimental to the mandatary.\n",
      "Article 650 (1) If the mandatary has expended costs found to be necessary for the administration of the mandated business, the mandatary may claim reimbursement of those costs from the mandator and any interest on the same from the day the costs were expended.\n",
      "Based on the previous passage, If the mandatary has expended costs found to be necessary for the administration of the mandated business, the mandatary may claim reimbursement of those costs from the mandator and any interest on the same from the day the costs were expended.? \n"
     ]
    },
    {
     "name": "stderr",
     "output_type": "stream",
     "text": [
      " 85%|███████████████████████████████████████████████████████████████████████▌            | 86/101 [02:14<00:24,  1.62s/it]"
     ]
    },
    {
     "name": "stdout",
     "output_type": "stream",
     "text": [
      "yes\n",
      "Article 652 The provisions of Article 620 apply mutatis mutandis to mandates.\n",
      "Article 620 If a lease is cancelled, the cancellation becomes effective solely toward the future. In such a case, the cancellation does not preclude a claim for compensation for loss or damage.\n",
      "Based on the previous passage, A cancellation of a mandate becomes effective solely toward the future.? \n"
     ]
    },
    {
     "name": "stderr",
     "output_type": "stream",
     "text": [
      " 86%|████████████████████████████████████████████████████████████████████████▎           | 87/101 [02:15<00:17,  1.23s/it]"
     ]
    },
    {
     "name": "stdout",
     "output_type": "stream",
     "text": [
      "yes\n",
      "Article 701 The provisions of Article 645 through Article 647 apply mutatis mutandis to the benevolent intervention in another's business.\n",
      "Article 650 (3) If a mandatary incurs loss or damage that is not due to the negligence of the mandatary in order to administer the mandated business, the mandatary may claim compensation for this from the mandator.\n",
      "Based on the previous passage, Even if a manager incurs loss or damage that is not due to the negligence of the manager in order to engage in the benevolent intervention in another's business, the manager may not claim compensation for this from the principal.? \n"
     ]
    },
    {
     "name": "stderr",
     "output_type": "stream",
     "text": [
      " 87%|█████████████████████████████████████████████████████████████████████████▏          | 88/101 [02:16<00:17,  1.34s/it]"
     ]
    },
    {
     "name": "stdout",
     "output_type": "stream",
     "text": [
      "no, the manager may claim compensation for this from the principal.\n",
      "Article 702 (1) If a manager has incurred beneficial expenses for a principal, the manager may claim reimbursement of those costs from the principal.\n",
      "(3) If a manager has engaged in the benevolent intervention in another's business against the will of the principal, the provisions of the preceding two paragraphs apply mutatis mutandis, solely to the extent currently enriched.\n",
      "Based on the previous passage, If it becomes evident after starting the benevolent intervention in another's business that the benevolent intervention in another's business is the contrary to the will of the principal, the manager may not claim reimbursement of the costs that the manager has already paid for from the principal.? \n"
     ]
    },
    {
     "name": "stderr",
     "output_type": "stream",
     "text": [
      " 88%|██████████████████████████████████████████████████████████████████████████          | 89/101 [02:19<00:20,  1.70s/it]"
     ]
    },
    {
     "name": "stdout",
     "output_type": "stream",
     "text": [
      "no, the manager may not claim reimbursement of the costs that the manager has already paid for from the principal.\n",
      "Article 701 The provisions of Article 645 through Article 647 apply mutatis mutandis to the benevolent intervention in another's business.\n",
      "Article 645 A mandatary must, if so requested by the mandator, report the current status of the administration of the mandated business at any time, and must report the process and results without delay upon termination of the mandate.\n",
      "Based on the previous passage, The manager must report the process and results without delay upon termination of the benevolent intervention in another's business.? \n"
     ]
    },
    {
     "name": "stderr",
     "output_type": "stream",
     "text": [
      " 89%|██████████████████████████████████████████████████████████████████████████▊         | 90/101 [02:19<00:14,  1.29s/it]"
     ]
    },
    {
     "name": "stdout",
     "output_type": "stream",
     "text": [
      "yes\n",
      "Article 698 If a manager engages in benevolent intervention in another's business in order to allow a principal to escape imminent danger to the principal's person, reputation, or property, the manager is not liable to compensate for damage resulting from this unless the manager has acted in bad faith or with gross negligence.\n",
      "Based on the previous passage, If a manager engages in benevolent intervention in another's business in order to allow a principal to escape imminent danger to the principal's property, the manager is not liable to compensate for damage resulting from this unless the manager has acted in bad faith or with gross negligence.? \n"
     ]
    },
    {
     "name": "stderr",
     "output_type": "stream",
     "text": [
      " 90%|███████████████████████████████████████████████████████████████████████████▋        | 91/101 [02:19<00:10,  1.01s/it]"
     ]
    },
    {
     "name": "stdout",
     "output_type": "stream",
     "text": [
      "yes\n",
      "Article 724 In the following cases, the claim for compensation for loss or damage caused by tort is extinguished by prescription:\n",
      "(ii) the right is not exercised within 20 years from the time of the tortious act.\n",
      "Based on the previous passage, The claim for compensation for loss or damage caused by tort is extinguished by prescription when the right is not exercised within 20 years from the time of the tortious act.? \n"
     ]
    },
    {
     "name": "stderr",
     "output_type": "stream",
     "text": [
      " 91%|████████████████████████████████████████████████████████████████████████████▌       | 92/101 [02:20<00:07,  1.25it/s]"
     ]
    },
    {
     "name": "stdout",
     "output_type": "stream",
     "text": [
      "yes\n",
      "Article 720 (1) A person that, in response to the tortious act of another, is compelled to commit a harmful act to protect rights or legally protected interests of the person or of a third party, is not liable for compensation for loss or damage;provided, however, that this does not preclude a victim from filing a claim of compensation for loss or damage against the person that committed the tortious act.\n",
      "Based on the previous passage, B, who, in response to the tortious act of A, committed a harmful act to protect rights of a third party C, is liable for compensation for loss or damage even if the harmful act is compelling.? \n"
     ]
    },
    {
     "name": "stderr",
     "output_type": "stream",
     "text": [
      " 92%|█████████████████████████████████████████████████████████████████████████████▎      | 93/101 [02:22<00:10,  1.32s/it]"
     ]
    },
    {
     "name": "stdout",
     "output_type": "stream",
     "text": [
      "no, b is not liable for compensation for loss or damage even if the harmful act is compelling.\n",
      "Article 597\n",
      "(3) A loan for use is terminated upon the death of the borrower.\n",
      "Based on the previous passage, If a borrower of a loan for use of land dies, an heir of the borrower may not keep using the land by succeeding the right of the loan for use.? \n"
     ]
    },
    {
     "name": "stderr",
     "output_type": "stream",
     "text": [
      " 93%|██████████████████████████████████████████████████████████████████████████████▏     | 94/101 [02:23<00:07,  1.03s/it]"
     ]
    },
    {
     "name": "stdout",
     "output_type": "stream",
     "text": [
      "yes\n",
      "Article 467(1) The assignment of a claim (including the assignment of a claim that is yet to arise) may not be duly asserted against the applicable obligor or any other third party, unless the assignor gives notice thereof to the obligor or the obligor has consented to the same.\n",
      "Based on the previous passage, If an obligor consents to the assignment of the claim against either the assignor or the assignee, the assignee may duly assert the assignment of the claim against the obligor.? \n"
     ]
    },
    {
     "name": "stderr",
     "output_type": "stream",
     "text": [
      " 94%|███████████████████████████████████████████████████████████████████████████████     | 95/101 [02:23<00:04,  1.21it/s]"
     ]
    },
    {
     "name": "stdout",
     "output_type": "stream",
     "text": [
      "yes\n",
      "Article 525(1) An offer made without specifying a period for acceptance may not be revoked until the passage of a reasonable period of time for the offeror to receive a notice of acceptance;provided, however, that this does not apply if the offeror reserves the right to revoke.\n",
      "Based on the previous passage, An offer to a person at a distance made without specifying a period for acceptance may not be revoked until the passage of a reasonable period of time for the offeror to receive a notice of acceptance unless the offeror reserves the right to revoke.? \n"
     ]
    },
    {
     "name": "stderr",
     "output_type": "stream",
     "text": [
      " 95%|███████████████████████████████████████████████████████████████████████████████▊    | 96/101 [02:23<00:03,  1.47it/s]"
     ]
    },
    {
     "name": "stdout",
     "output_type": "stream",
     "text": [
      "yes\n",
      "Article 470\n",
      "(3) The assumption of obligation not releasing an obligor may also be effected by a contract between the initial obligor and the person that becomes the additional obligor. In such a case, the assumption of obligation not releasing an obligor becomes effective when the obligee gives consent to the person that becomes the additional obligor.\n",
      "Based on the previous passage, The assumption of obligation not releasing an obligor by a contract between the initial obligor and the person that becomes the additional obligor becomes effective when the obligee gives consent to the person that becomes the additional obligor.? \n"
     ]
    },
    {
     "name": "stderr",
     "output_type": "stream",
     "text": [
      " 96%|████████████████████████████████████████████████████████████████████████████████▋   | 97/101 [02:24<00:02,  1.72it/s]"
     ]
    },
    {
     "name": "stdout",
     "output_type": "stream",
     "text": [
      "yes\n",
      "Article 658(1) A bailee may not use the bailed thing without obtaining the consent of the bailor.\n",
      "Based on the previous passage, A gratuitous bailee may use the bailed thing in compliance with the method of use without obtaining the consent of the bailor.? \n"
     ]
    },
    {
     "name": "stderr",
     "output_type": "stream",
     "text": [
      " 97%|█████████████████████████████████████████████████████████████████████████████████▌  | 98/101 [02:27<00:03,  1.26s/it]"
     ]
    },
    {
     "name": "stdout",
     "output_type": "stream",
     "text": [
      "no, a bailee may not use the bailed thing without obtaining the consent of the bailor.\n",
      "Article 196\n",
      "(2) With respect to the costs paid for by a possessor to improve the thing in the possession thereof and other beneficial expenses, the possessor may have the person recovering the thing reimburse the possessor for either the costs the possessor has paid or the amount of the increased value, whichever the person recovering the thing chooses, but only if there is a current increase in value;provided, however, that with regard to a possessor in bad faith, the court may, at the request of the person recovering the thing, grant a reasonable period of time for the same.\n",
      "Based on the previous passage, A possessor claimed the reimbursement of beneficial expenses against the owner when the possessor returned the thing in possession. In this case, the court may, at the request of the owner, grant a reasonable period of time for the reimbursement even if the possessor was in good faith.? \n"
     ]
    },
    {
     "name": "stderr",
     "output_type": "stream",
     "text": [
      " 98%|██████████████████████████████████████████████████████████████████████████████████▎ | 99/101 [02:30<00:03,  1.77s/it]"
     ]
    },
    {
     "name": "stdout",
     "output_type": "stream",
     "text": [
      "no, the court may grant a reasonable period of time for the reimbursement only if the possessor was in bad faith.\n",
      "Article 354 If the claim of a pledgee of movables is not satisfied, the pledgee may make a request to the court seeking the immediate appropriation of the thing pledged for the satisfaction of that claim in accordance with the evaluation of an appraiser only when there are reasonable grounds.In this case, the pledgee of movables must notify the obligor in advance of the request.\n",
      "Based on the previous passage, If the claim of a pledgee of movables is not satisfied, the pledgee may immediately appropriate the thing pledged for the satisfaction of that claim by getting the permission of the court, instead of getting the evaluation of an appraiser, only when there are reasonable grounds for not getting the evaluation of an appraiser.? \n"
     ]
    },
    {
     "name": "stderr",
     "output_type": "stream",
     "text": [
      " 99%|██████████████████████████████████████████████████████████████████████████████████▏| 100/101 [02:34<00:02,  2.47s/it]"
     ]
    },
    {
     "name": "stdout",
     "output_type": "stream",
     "text": [
      "no, the pledgee may not immediately appropriate the thing pledged for the satisfaction of that claim by getting the permission of the court, instead of getting the evaluation of an appraiser.\n",
      "Article 494(1) In the following cases, a performer may deposit the subject matter of the performance with an official depository for the benefit of the obligee. In such a case, the claim is extinguished when the performer makes the deposit:\n",
      "(i) the performer tenders the performance, and the obligee refuses to accept it; \n",
      "Article 497 In the following cases, the performer may, with the permission of the court, sell the thing that is the subject matter of performance at public auction and deposit the proceeds of such sales with an official depository:\n",
      "(iii) excessive expenses are required for the preservation of the thing; or\n",
      "Based on the previous passage, A performer tendered the performance, and the obligee refused to accept it. In this case, if excessive expenses are required for the preservation of the thing, the performer may, with the permission of the court, sell the thing that is the subject matter of performance at a public auction and deposit the proceeds of such sales with an official depository.? \n"
     ]
    },
    {
     "name": "stderr",
     "output_type": "stream",
     "text": [
      "100%|███████████████████████████████████████████████████████████████████████████████████| 101/101 [02:34<00:00,  1.53s/it]"
     ]
    },
    {
     "name": "stdout",
     "output_type": "stream",
     "text": [
      "yes\n"
     ]
    },
    {
     "name": "stderr",
     "output_type": "stream",
     "text": [
      "\n"
     ]
    }
   ],
   "source": [
    "import re\n",
    "from tqdm import tqdm\n",
    "\n",
    "def format_output(text):\n",
    "\tCLEANR = re.compile('<.*?>') \n",
    "\tcleantext = re.sub(CLEANR, '', text)\n",
    "\treturn cleantext.strip().lower()\n",
    "    \n",
    "prompt_template = \"{{premise}}\\nBased on the previous passage, {{hypothesis}}? \"\n",
    "\n",
    "result = []\n",
    "count = 0\n",
    "for item in tqdm(data):\n",
    "    label = item[\"label\"]\n",
    "    text = prompting(prompt_template, item)\n",
    "    print(text)\n",
    "    inputs = tokenizer(text, return_tensors=\"pt\")[\"input_ids\"].cuda()\n",
    "    outputs = model.generate(inputs, max_new_tokens=256)\n",
    "    output_text = format_output(tokenizer.decode(outputs[0]).replace(text, \"\").split(\"\\n\")[-1])\n",
    "    print(output_text)\n",
    "    if \"yes\" in output_text:\n",
    "        output_text = \"Y\"\n",
    "    else:\n",
    "        output_text = \"N\"\n",
    "    if output_text == label:\n",
    "        count+=1"
   ]
  },
  {
   "cell_type": "code",
   "execution_count": 11,
   "id": "200726a0-f670-4177-86fd-cd924ffb2377",
   "metadata": {},
   "outputs": [
    {
     "data": {
      "text/plain": [
       "76"
      ]
     },
     "execution_count": 11,
     "metadata": {},
     "output_type": "execute_result"
    }
   ],
   "source": [
    "count"
   ]
  },
  {
   "cell_type": "markdown",
   "id": "1b8cccb3-455c-478e-ad0c-5ef3679ab8ea",
   "metadata": {},
   "source": [
    "# Test"
   ]
  },
  {
   "cell_type": "code",
   "execution_count": 35,
   "id": "5083188d-f13b-43ce-bd05-7130297866a6",
   "metadata": {},
   "outputs": [],
   "source": [
    "test_label = []\n",
    "for item in data:\n",
    "    test_label.append(item['label'])\n",
    "\n",
    "count = 0\n",
    "for r, label in zip(result, test_label):\n",
    "    check = \"N\"\n",
    "    if \"yes\" in r[3:]:\n",
    "        check = \"Y\"\n",
    "    if check == label:\n",
    "        count += 1"
   ]
  },
  {
   "cell_type": "code",
   "execution_count": 36,
   "id": "13664113-07df-4111-888f-40e8151ab839",
   "metadata": {},
   "outputs": [
    {
     "data": {
      "text/plain": [
       "0.5148514851485149"
      ]
     },
     "execution_count": 36,
     "metadata": {},
     "output_type": "execute_result"
    }
   ],
   "source": [
    "count/len(test_label)"
   ]
  },
  {
   "cell_type": "code",
   "execution_count": 40,
   "id": "252abd9c-1454-4a3c-8003-a42f3bb84df6",
   "metadata": {},
   "outputs": [
    {
     "data": {
      "text/plain": [
       "0.801980198019802"
      ]
     },
     "execution_count": 40,
     "metadata": {},
     "output_type": "execute_result"
    }
   ],
   "source": [
    "count / len(test_label)"
   ]
  }
 ],
 "metadata": {
  "kernelspec": {
   "display_name": "Python 3 (ipykernel)",
   "language": "python",
   "name": "python3"
  },
  "language_info": {
   "codemirror_mode": {
    "name": "ipython",
    "version": 3
   },
   "file_extension": ".py",
   "mimetype": "text/x-python",
   "name": "python",
   "nbconvert_exporter": "python",
   "pygments_lexer": "ipython3",
   "version": "3.10.13"
  }
 },
 "nbformat": 4,
 "nbformat_minor": 5
}
