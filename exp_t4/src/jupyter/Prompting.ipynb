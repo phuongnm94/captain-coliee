{
 "cells": [
  {
   "cell_type": "code",
   "execution_count": 1,
   "id": "2916b071-b8d7-4ace-a2ca-395d5dfef537",
   "metadata": {},
   "outputs": [],
   "source": [
    "path_file = \"../data/COLIEE2024statute_data-English/train/\""
   ]
  },
  {
   "cell_type": "code",
   "execution_count": 1,
   "id": "7fcdd19c-648e-44ae-8f6d-29951fa27740",
   "metadata": {},
   "outputs": [],
   "source": [
    "from os import listdir\n",
    "from os.path import isfile, join\n",
    "\n",
    "def get_all_files_from_path(mypath):\n",
    "    filenames = [join(mypath, f) for f in listdir(mypath) if isfile(join(mypath, f))]\n",
    "    return filenames\n",
    "\n",
    "from bs4 import BeautifulSoup\n",
    "import re\n",
    "import json\n",
    "\n",
    "def get_article(articles):\n",
    "    result = {}\n",
    "    current_statue = \"(non-statute)\"\n",
    "    for i in re.split(r\"(.*)\", articles.strip()):\n",
    "        if len(i) == 0 or i == \"\\n\":\n",
    "            continue\n",
    "        if re.search(r\"^\\(.*\\)$\", i):\n",
    "            current_statue = i.strip()\n",
    "            if current_statue not in result:\n",
    "                result.update({current_statue: []})\n",
    "        else:\n",
    "            if current_statue not in result:\n",
    "                result.update({current_statue: []})\n",
    "            result[current_statue].append(i)\n",
    "    return result\n",
    "\n",
    "def build_test(filename):\n",
    "    result = {}\n",
    "    with open(filename, 'r') as f:\n",
    "        data = f.read()\n",
    "\n",
    "    data = BeautifulSoup(data, \"xml\").find_all('pair')\n",
    "    for i in data:\n",
    "        id = i.get('id')\n",
    "        result.update({id: {}})\n",
    "        result[id].update({\"label\": i.get('label')})\n",
    "        articles = i.find('t1').text.strip()\n",
    "        # articles = get_article(articles)\n",
    "        result[id].update({\"result\": articles})\n",
    "        result[id].update({\"content\": i.find('t2').text.strip()})\n",
    "    return result\n",
    "\n",
    "def write_json(filename, data):\n",
    "    with open(filename, 'w', encoding='utf-8') as f:\n",
    "        json.dump(data, f, ensure_ascii=False, indent=4)\n",
    "\n",
    "import xml.etree.ElementTree as Et\n",
    "import glob\n",
    "\n",
    "def format_first_line(text):\n",
    "    lines = text.split(\"\\n\")\n",
    "    results = []\n",
    "    for line in lines:\n",
    "        if line[0] == \"\":\n",
    "            continue\n",
    "        if line[0] == \"(\" and line[-1] == \")\":\n",
    "            continue\n",
    "        results.append(line)\n",
    "    return \"\\n\".join(results)\n",
    "\n",
    "def load_samples(filexml):\n",
    "    # try:\n",
    "        tree = Et.parse(filexml)\n",
    "        root = tree.getroot()\n",
    "        samples = []\n",
    "        for i in range(0, len(root)):\n",
    "            sample = {'result': []}\n",
    "            for j, e in enumerate(root[i]):\n",
    "                if e.tag == \"t1\":\n",
    "                    sample['result'] = format_first_line(e.text.strip())\n",
    "                elif e.tag == \"t2\":\n",
    "                    question = e.text.strip()\n",
    "                    sample['content'] = question if len(question) > 0 else None\n",
    "            sample.update(\n",
    "                {'index': root[i].attrib['id'], 'label': root[i].attrib.get('label', \"N\")})\n",
    "            # filter the noise samples\n",
    "            if sample['content'] is not None:\n",
    "                samples.append(sample)\n",
    "            else:\n",
    "                print(\"[Important warning] samples {} is ignored\".format(sample))\n",
    "        return samples\n",
    "\n",
    "def load_test_data_samples(path_folder_base, test_id):\n",
    "    data = []\n",
    "    test = load_samples(f\"{path_folder_base}/riteval_{test_id}.xml\")\n",
    "    for file_path in glob.glob(f\"{path_folder_base}/riteval_{test_id}.xml\"):\n",
    "        data = data + load_samples(file_path)\n",
    "    return data\n",
    "\n",
    "\n",
    "def load_all_data_samples(path_folder_base):\n",
    "    data = []\n",
    "    for file_path in glob.glob(\"{}/*.xml\".format(path_folder_base)):\n",
    "        data = data + load_samples(file_path)\n",
    "    return data\n",
    "\n",
    "def check_false_labels(pred, false_labels):\n",
    "\tfor label in false_labels:\n",
    "\t\tif label in pred:\n",
    "\t\t\treturn True\n",
    "\treturn False\n",
    "\n",
    "import json\n",
    "def readfile(filename):\n",
    "    f = open(filename)\n",
    "    data = json.load(f)\n",
    "    return data\n",
    "\n",
    "def writefile(data, filename):\n",
    "    # Serializing json\n",
    "    json_object = json.dumps(data, indent=1)\n",
    "    # Writing to sample.json\n",
    "    with open(filename, \"w\") as outfile:\n",
    "        outfile.write(json_object)\n",
    "\n",
    "def load_jsonl(file):\n",
    "    with open(file, encoding=\"utf-8\") as f:\n",
    "        data = [json.loads(line) for line in f]\n",
    "    return data"
   ]
  },
  {
   "cell_type": "code",
   "execution_count": 2,
   "id": "2a121bed-f56d-4134-8df0-8b15a591f79d",
   "metadata": {
    "scrolled": true
   },
   "outputs": [
    {
     "name": "stderr",
     "output_type": "stream",
     "text": [
      "/home/congnguyen/drive/miniconda3/envs/myenv/lib/python3.10/site-packages/tqdm/auto.py:21: TqdmWarning: IProgress not found. Please update jupyter and ipywidgets. See https://ipywidgets.readthedocs.io/en/stable/user_install.html\n",
      "  from .autonotebook import tqdm as notebook_tqdm\n",
      "Loading checkpoint shards: 100%|██████████████████████████████████████████████████████████████████████████████████████████████████████████████████████████████████| 5/5 [00:09<00:00,  1.92s/it]\n"
     ]
    }
   ],
   "source": [
    "from transformers import AutoTokenizer, BloomForCausalLM, AutoTokenizer, AutoModelForSeq2SeqLM\n",
    "import torch\n",
    "\n",
    "model_name = \"google/flan-t5-xxl\"\n",
    "cache_dir = \"/home/congnguyen/drive/.cache\"\n",
    "tokenizer = AutoTokenizer.from_pretrained(model_name, cache_dir=cache_dir)\n",
    "model = AutoModelForSeq2SeqLM.from_pretrained(\n",
    "\t\tmodel_name, device_map=\"auto\", cache_dir=cache_dir, torch_dtype=torch.float16, load_in_8bit=True\n",
    "\t)\n",
    "# model = model.cuda()"
   ]
  },
  {
   "cell_type": "code",
   "execution_count": 3,
   "id": "62cef256-3f1f-4c14-809c-ce91f1d5cd8f",
   "metadata": {},
   "outputs": [],
   "source": [
    "from tqdm import tqdm\n",
    "\n",
    "def format_output(text):\n",
    "\tCLEANR = re.compile('<.*?>') \n",
    "\tcleantext = re.sub(CLEANR, '', text)\n",
    "\treturn cleantext.strip().lower()\n",
    "\n",
    "def prompting(premise, hypothesis, template=None):\n",
    "    text = template.replace(\"{{premise}}\", premise).replace(\"{{hypothesis}}\", hypothesis)\n",
    "    return text"
   ]
  },
  {
   "cell_type": "code",
   "execution_count": 43,
   "id": "40be6bcc-9e08-4b48-a1da-3214c20e1d46",
   "metadata": {},
   "outputs": [
    {
     "data": {
      "text/plain": [
       "[{'result': 'Article 537 (1) If one of the parties promises in a contract to render a certain performance to a third party, the third party has the right to claim that performance directly from the obligor.\\n(2) The validity of the contract referred to in the preceding paragraph is not impaired even if a third party does not exist or a third party is not specified at the time of its formation.\\n(3) In the case referred to in paragraph (1), rights of the third party accrue when the third party has manifested intention of availing of the benefit of the contract under that paragraph to the obligor.',\n",
       "  'content': 'The validity of a third party beneficiary contract made by A with C, the mother of B, to give land X owned by A to B gratuitously, is not impaired even if B is an unborn child as of the time of the formation of the contract.',\n",
       "  'index': 'R05-01-A',\n",
       "  'label': 'Y',\n",
       "  'rewrite': 'Article 537\\nIf one of the parties promises in a contract to render a certain performance to a third party the third party has the right to claim that performance directly from the obligor.\\neven if a third party does not exist or a third party is not specified at the time of its formation The validity of the contract referred to in the preceding paragraph is not impaired\\nThe condition in this sentence is In the case referred to in paragraph (1). The conclusion in this sentence is rights of the third party accrue when the third party has manifested intention of availing of the benefit of the contract under that paragraph to the obligor. There is no addition in this sentence. There is no exception mentioned in this sentence.'},\n",
       " {'result': 'Article 712 If a minor has inflicted damage on another person but did not have sufficient intellectual capacity to appreciate their own liability for that act, that minor is not liable to compensate for that act.',\n",
       "  'content': \"Mental capacity means the capacity to appreciate one's own liability for one's acts.\",\n",
       "  'index': 'R05-02-A',\n",
       "  'label': 'N',\n",
       "  'rewrite': 'Article 712\\nIf a minor has inflicted damage on another person but did not have sufficient intellectual capacity to appreciate their own liability for that act. that minor is not liable to compensate for that act.'},\n",
       " {'result': 'Article 3-2 If the person making a juridical act did not have mental capacity when manifesting the relevant intention, the juridical act is void.',\n",
       "  'content': 'If a party to a contract did not have mental capacity when manifesting the relevant intention, the nullity of the contract may be asserted even against a third party in good faith and acting without negligence.',\n",
       "  'index': 'R05-02-I',\n",
       "  'label': 'Y',\n",
       "  'rewrite': 'Article 3-2\\nIf the person making a juridical act did not have mental capacity when manifesting the relevant intention. the juridical act is void.'},\n",
       " {'result': 'Article 3-2 If the person making a juridical act did not have mental capacity when manifesting the relevant intention, the juridical act is void.\\nArticle 121-2 (1) A person that has received payment or delivery as the performance of an obligation based on a void act has an obligation to restore the other party to the original state.\\n(2) Notwithstanding the provisions of the preceding paragraph, if a person that receives payment or delivery as the performance of an obligation based on a void gratuitous act did not know that the act was void at the time of receiving the payment or delivery (or if the person did not know that the act was voidable at the time of receiving the payment or delivery in the case of an act which is deemed void ab initio pursuant to the provisions of the preceding Article after the receipt of the payment or delivery), has an obligation to return to the extent currently enriched by the act.\\n(3) Notwithstanding the provisions of paragraph (1), a person who has no mental capacity at the time of performing an act has an obligation to return to the extent currently enriched by the act. The same applies to a person who is a person with qualified legal capacity at the time of performing an act.',\n",
       "  'content': 'If a party to a contract did not have mental capacity when manifesting the relevant intention and received payment or delivery as the performance of an obligation based on the contract, the party has an obligation to return to the extent that the party retains a benefit.',\n",
       "  'index': 'R05-02-U',\n",
       "  'label': 'Y',\n",
       "  'rewrite': 'Article 3-2\\nIf the person making a juridical act did not have mental capacity when manifesting the relevant intention. the juridical act is void.\\nArticle 121-2\\nA person that has received payment or delivery as the performance of an obligation based on a void act has an obligation to restore the other party to the original state.\\nif a person that receives payment or delivery as the performance of an obligation based on a void gratuitous act did not know that the act was void at the time of receiving the payment or delivery (or if the person did not know that the act was voidable at the time of receiving the payment or delivery in the case of an act which is deemed void ab initio pursuant to the provisions of the preceding Article after the receipt of the payment or delivery) has an obligation to return to the extent currently enriched by the act. Notwithstanding the provisions of the preceding paragraph\\nNotwithstanding the provisions of paragraph (1) a person who has no mental capacity at the time of performing an act has an obligation to return to the extent currently enriched by the act. The same applies to a person who is a person with qualified legal capacity at the time of performing an act.'},\n",
       " {'result': 'Article 526 If an offeror dies, comes to be in a constant state wherein the offeror lacks mental capacity, or becomes subject to restrictions on legal capacity to act after issuing notice of the offer, and the offeror has manifested the intention not to make the offer effective should any of these facts occur, or the other party comes to know that any of these facts has occurred before issuing a notice of acceptance, that offer is not effective.',\n",
       "  'content': 'If an offeror of a contract comes to be in a constant state wherein the offeror lacks mental capacity after issuing notice of the offer, and the other party comes to know such fact has occurred before issuing a notice of acceptance, the offer is not effective.',\n",
       "  'index': 'R05-02-E',\n",
       "  'label': 'Y',\n",
       "  'rewrite': 'Article 526\\nIf an offeror dies, comes to be in a constant state wherein the offeror lacks mental capacity, or becomes subject to restrictions on legal capacity to act after issuing notice of the offer. the offer is not effective. the offeror has manifested the intention not to make the offer effective should any of these facts occur, or the other party comes to know that any of these facts has occurred before issuing a notice of acceptance.'},\n",
       " {'result': 'Article 25 (1) If a person who has taken leave of the domicile or residence up until then (hereinafter referred to as an \"absentee\") has not appointed an administrator for the person\\'s property (hereinafter in this Section referred to simply as an \"administrator\"), the family court, at the request of an interested person or a public prosecutor, may order the necessary dispositions with regard to the administration of that property. The same applies if the administrator\\'s authority is extinguished during the absence of the absentee.\\n(2) If an absentee appoints an administrator after an order under the provisions of the preceding paragraph has been issued, the family court must rescind that order at the request of the person\\'s administrator, an interested person, or a public prosecutor.',\n",
       "  'content': 'Absentee means a person who has taken leave of the domicile or residence up until then and whose whereabouts are unable to ascertain.',\n",
       "  'index': 'R05-03-A',\n",
       "  'label': 'N',\n",
       "  'rewrite': \"Article 25\\nIf a person who has taken leave of the domicile or residence up until then (hereinafter referred to as an absentee) has not appointed an administrator for the person's property (hereinafter in this Section referred to simply as an administrator) the family court, at the request of an interested person or a public prosecutor, may order the necessary dispositions with regard to the administration of that property. The same applies if the administrator's authority is extinguished during the absence of the absentee.\\nIf an absentee appoints an administrator after an order under the provisions of the preceding paragraph has been issued the family court must rescind that order at the request of the person's administrator, an interested person, or a public prosecutor.\"},\n",
       " {'result': 'Article 25 (1) If a person who has taken leave of the domicile or residence up until then (hereinafter referred to as an \"absentee\") has not appointed an administrator for the person\\'s property (hereinafter in this Section referred to simply as an \"administrator\"), the family court, at the request of an interested person or a public prosecutor, may order the necessary dispositions with regard to the administration of that property. The same applies if the administrator\\'s authority is extinguished during the absence of the absentee.\\n(2) If an absentee appoints an administrator after an order under the provisions of the preceding paragraph has been issued, the family court must rescind that order at the request of the person\\'s administrator, an interested person, or a public prosecutor.',\n",
       "  'content': \"If an absentee has not appointed an administrator for the person's property, not only interested persons but also public prosecutors may request the family court to order the necessary dispositions with regard to the administration of that property.\",\n",
       "  'index': 'R05-03-I',\n",
       "  'label': 'Y',\n",
       "  'rewrite': \"Article 25\\nIf a person who has taken leave of the domicile or residence up until then (hereinafter referred to as an absentee) has not appointed an administrator for the person's property (hereinafter in this Section referred to simply as an administrator) the family court, at the request of an interested person or a public prosecutor, may order the necessary dispositions with regard to the administration of that property. The same applies if the administrator's authority is extinguished during the absence of the absentee.\\nIf an absentee appoints an administrator after an order under the provisions of the preceding paragraph has been issued the family court must rescind that order at the request of the person's administrator, an interested person, or a public prosecutor.\"},\n",
       " {'result': 'Article 27 (1) An administrator appointed by the family court pursuant to the provisions of the preceding two Articles must prepare a list of the property that the administrator is to administer. In such a case, the expenses incurred are paid from the property of the absentee.\\n(2) If it is unclear whether an absentee is dead or alive and an interested person or a public prosecutor so requests, the family court may also order the administrator appointed by the absentee to prepare the list referred to in the preceding paragraph.\\n(3) Beyond what is provided for in the preceding two paragraphs, the family court may order the administrator to make the dispositions that the court finds to be necessary to preserve the property of the absentee.',\n",
       "  'content': 'The family court may order the administrator appointed by the absentee to make the dispositions that the court finds to be necessary to preserve the property of the absentee.',\n",
       "  'index': 'R05-03-U',\n",
       "  'label': 'Y',\n",
       "  'rewrite': 'Article 27\\nIn such a case - This introduces the condition that must be met for the following actions to occur. the expenses incurred are paid from the property of the absentee - This is the result or outcome of the condition being met. pursuant to the provisions of the preceding two Articles - This phrase adds additional information about how the administrator is appointed and the specific provisions that apply. There is no explicit exception mentioned in this sentence.\\nIf it is unclear whether an absentee is dead or alive and an interested person or a public prosecutor so requests the family court may also order the administrator appointed by the absentee to prepare the list referred to in the preceding paragraph.\\nBeyond what is provided for in the preceding two paragraphs the family court may order the administrator to make the dispositions that the court finds to be necessary to preserve the property of the absentee.'},\n",
       " {'result': 'Article 28 If an administrator needs to perform an act exceeding the authority provided for in Article 103, the administrator may perform that act after obtaining the permission of the family court. The same applies if it is unclear whether the absentee is dead or alive and the administrator needs to perform an act exceeding the authority established by the absentee.',\n",
       "  'content': 'The administrator appointed by the absentee may perform an act exceeding the authority established by the absentee by obtaining the permission of the family court, even if it is clear that the absentee is alive.',\n",
       "  'index': 'R05-03-E',\n",
       "  'label': 'N',\n",
       "  'rewrite': 'Article 28\\nIf an administrator needs to perform an act exceeding the authority provided for in Article 103 the administrator may perform that act after obtaining the permission of the family court. The same applies if it is unclear whether the absentee is dead or alive and the administrator needs to perform an act exceeding the authority established by the absentee.'},\n",
       " {'result': 'Article 28 If an administrator needs to perform an act exceeding the authority provided for in Article 103, the administrator may perform that act after obtaining the permission of the family court. The same applies if it is unclear whether the absentee is dead or alive and the administrator needs to perform an act exceeding the authority established by the absentee.',\n",
       "  'content': \"An administrator for the absentee's property appointed by the family court must obtain the permission of the family court when dividing the estate by agreement with the other heirs on behalf of the absentee who is the heir.\",\n",
       "  'index': 'R05-03-O',\n",
       "  'label': 'Y',\n",
       "  'rewrite': 'Article 28\\nIf an administrator needs to perform an act exceeding the authority provided for in Article 103 the administrator may perform that act after obtaining the permission of the family court. The same applies if it is unclear whether the absentee is dead or alive and the administrator needs to perform an act exceeding the authority established by the absentee.'},\n",
       " {'result': \"Article 101 (1) If the validity of a manifestation of intention that an agent has made to the other party is to be influenced by the absence of intention; by mistake, fraud, or duress; or by the knowledge of or negligence in not knowing of a particular circumstance; whether or not any such fact was present is decided as it concerns the agent.\\n(2) If the validity of a manifestation of intention that the other party has made to the agent is to be influenced by the recipient's knowledge of or negligence in not knowing of a particular circumstance, whether or not any such fact was present is decided as it concerns the agent.\\n(3) If an agent who has been entrusted with performing a specific juridical act performs that act, the principal may not assert that the agent did not know of any particular circumstance of which the principal knew. The same applies to any circumstance of which the principal did not know due to the principal's own negligence.\",\n",
       "  'content': 'If an agent who has been entrusted with performing a specific judicial act performs that act, the principal may not assert that the agent did not know of any particular circumstance of which the principal knew, only if the agent performed that act in accordance with the instructions of the principal.',\n",
       "  'index': 'R05-04-A',\n",
       "  'label': 'N',\n",
       "  'rewrite': \"Article 101\\nThe validity of a manifestation of intention that an agent has made to the other party is to be influenced by the absence of intention; by mistake, fraud, or duress; or by the knowledge of or negligence in not knowing of a particular circumstance. Whether or not any such fact was present is decided as it concerns the agent.\\nIf the validity of a manifestation of intention that the other party has made to the agent is to be influenced by the recipient's knowledge of or negligence in not knowing of a particular circumstance whether or not any such fact was present is decided as it concerns the agent.\\nIf an agent who has been entrusted with performing a specific juridical act performs that act the principal may not assert that the agent did not know of any particular circumstance of which the principal knew The same applies to any circumstance of which the principal did not know due to the principal's own negligence.\"},\n",
       " {'result': 'Article 105 A legal representative may appoint a subagent on its own responsibility. In such a case, if there is a compelling reason to do so, the legal representative is only liable to the principal for the appointment and supervision of the subagent.',\n",
       "  'content': 'If a legal representative appoints a subagent due to a compelling reason, the legal representative is only liable to the principal for the appointment and supervision of the subagent.',\n",
       "  'index': 'R05-04-I',\n",
       "  'label': 'Y',\n",
       "  'rewrite': 'Article 105\\nif there is a compelling reason to do so the legal representative is only liable to the principal for the appointment and supervision of the subagent In such a case'},\n",
       " {'result': 'Article 102 An act that a person with qualified legal capacity performs as an agent of another person may not be rescinded on the grounds of qualified legal capacity; provided, however, that this does not apply to an act performed by a person with qualified legal capacity as a legal representative of another person with qualified legal capacity.',\n",
       "  'content': 'An act that a person with qualified legal capacity performs as a legal representative of another person with qualified legal capacity may be rescinded on the grounds of qualified legal capacity.',\n",
       "  'index': 'R05-04-U',\n",
       "  'label': 'Y',\n",
       "  'rewrite': 'Article 102\\nAn act that a person with qualified legal capacity performs as an agent of another person may not be rescinded on the grounds of qualified legal capacity However that this does not apply to an act performed by a person with qualified legal capacity as a legal representative of another person with qualified legal capacity. However that this does not apply to an act performed by a person with qualified legal capacity as a legal representative of another person with qualified legal capacity.'},\n",
       " {'result': 'Article 108 (1) An act that a person performs as an agent of the counterparty or as agent of both parties for the same juridical act is deemed to be an act performed by a person without authority to represent; provided, however, that this does not apply to the performance of an obligation or to an act authorized by the principal in advance.\\n(2) Beyond what is provided for in the main clause of the preceding paragraph, an act for which the interest of the agent conflicts with the interest of the principal is deemed to be an act performed by a person without authority to represent; provided, however, that this does not apply to an act authorized by the principal in advance.',\n",
       "  'content': \"If A performs B's obligation to A based on a contract between A and B as B's agent, such performance is deemed to be an act performed by a person without authority to represent.\",\n",
       "  'index': 'R05-04-E',\n",
       "  'label': 'N',\n",
       "  'rewrite': 'Article 108\\nAn act that a person performs as an agent of the counterparty or as agent of both parties for the same juridical act is deemed to be an act performed by a person without authority to represent However that this does not apply to the performance of an obligation or to an act authorized by the principal in advance.\\nBeyond what is provided for in the main clause of the preceding paragraph - This sets the condition for the rest of the sentence. an act for which the interest of the agent conflicts with the interest of the principal is deemed to be an act performed by a person without authority to represent - This is the main conclusion of the sentence. However that this does not apply to an act authorized by the principal in advance - This adds additional information or an exception to the conclusion. However that this does not apply to an act authorized by the principal in advance - This states an exception to the conclusion.'},\n",
       " {'result': 'Article 103 An agent who has no specifically defined authority has the authority to perform the following acts only:\\n(i) acts of preservation; and\\n(ii) acts with the purpose of using or improving a thing or right that is the subject matter of the agency, to the extent that this does not change the nature of that thing or right.',\n",
       "  'content': 'An agent who has no specifically defined authority has the authority to perform acts with the purpose of using or improving a thing or right that is the subject matter of the agency, to the extent that this does not change the nature of that thing or right.',\n",
       "  'index': 'R05-04-O',\n",
       "  'label': 'Y',\n",
       "  'rewrite': 'Article 103\\nAn agent who has no specifically defined authority has the authority to perform the following acts only acts of preservation; and acts with the purpose of using or improving a thing or right that is the subject matter of the agency to the extent that this does not change the nature of that thing or right.'},\n",
       " {'result': 'Article 96 (1) A manifestation of intention based on fraud or duress is voidable.\\n(2) If a third party commits a fraud inducing a first party to make a manifestation of intention to a second party, that manifestation of intention is voidable only if the second party knew or could have known that fact.\\n(3) The rescission of a manifestation of intention induced by fraud under the provisions of the preceding two paragraphs may not be duly asserted against a third party in good faith acting without negligence.\\nArticle 121-2 (1) A person that has received payment or delivery as the performance of an obligation based on a void act has an obligation to restore the other party to the original state.\\n(2) Notwithstanding the provisions of the preceding paragraph, if a person that receives payment or delivery as the performance of an obligation based on a void gratuitous act did not know that the act was void at the time of receiving the payment or delivery (or if the person did not know that the act was voidable at the time of receiving the payment or delivery in the case of an act which is deemed void ab initio pursuant to the provisions of the preceding Article after the receipt of the payment or delivery), has an obligation to return to the extent currently enriched by the act.\\n(3) Notwithstanding the provisions of paragraph (1), a person who has no mental capacity at the time of performing an act has an obligation to return to the extent currently enriched by the act. The same applies to a person who is a person with qualified legal capacity at the time of performing an act.',\n",
       "  'content': \"If B, under duress from A, manifests an intention to give 500,000 yen to C, and C, who does not know about the duress, spends the 500,000 yen received from B for entertainment, C has no obligation to return it to B, even if B cancels the manifestation of intention to give it after C's spending.\",\n",
       "  'index': 'R05-05-A',\n",
       "  'label': 'Y',\n",
       "  'rewrite': 'Article 96\\nA manifestation of intention based on fraud or duress is voidable\\nIf a third party commits a fraud inducing a first party to make a manifestation of intention to a second party. that manifestation of intention is voidable only if the second party knew or could have known that fact.\\nThe rescission of a manifestation of intention induced by fraud under the provisions of the preceding two paragraphs may not be duly asserted against a third party in good faith acting without negligence.\\nArticle 121-2\\nA person that has received payment or delivery as the performance of an obligation based on a void act has an obligation to restore the other party to the original state.\\nif a person that receives payment or delivery as the performance of an obligation based on a void gratuitous act did not know that the act was void at the time of receiving the payment or delivery (or if the person did not know that the act was voidable at the time of receiving the payment or delivery in the case of an act which is deemed void ab initio pursuant to the provisions of the preceding Article after the receipt of the payment or delivery) has an obligation to return to the extent currently enriched by the act. Notwithstanding the provisions of the preceding paragraph\\nNotwithstanding the provisions of paragraph (1) a person who has no mental capacity at the time of performing an act has an obligation to return to the extent currently enriched by the act. The same applies to a person who is a person with qualified legal capacity at the time of performing an act.'},\n",
       " {'result': 'Article 20 (1) After a person with qualified legal capacity who is involved in dealings with another party becomes a person with the legal capacity to act (meaning a person whose legal capacity to act is not subject to restrictions; the same applies hereinafter), the other party to those dealings may fix a period of one month or longer and demand that the person give a definite answer within that period of time as to whether the person will ratify an act that the person may rescind. In such a case, if the person fails to send a definite answer within that period of time, the person is deemed to have ratified that act.\\n(2) The second sentence of the preceding paragraph also applies if, before the person with qualified legal capacity becomes a person with the legal capacity to act, the other party to dealings involving the person with qualified legal capacity lodges the demand prescribed in the preceding paragraph with the legal representative, curator, or assistant of that person with respect to an act within the scope of their authority, and they fail to send a definite answer within the fixed period of time referred to in that paragraph.\\n(3) If a person does not send notice within the period of time set forth in the preceding two paragraphs indicating that the person has completed any special formalities that an act requires, the person is deemed to have rescinded that act.\\n(4) The other party to dealings involving a person with qualified legal capacity may lodge a demand with a person under curatorship or with a person under assistance who is subject to a decision as referred to in Article 17, paragraph (1) to demand that the person get the curator or assistant to ratify an act within the fixed period referred to in paragraph (1). In such a case, if the person under curatorship or person under assistance does not send notice within that period indicating that the person has gotten the curator or assistant to ratify the act in question, the person is deemed to have rescinded that act.',\n",
       "  'content': 'If A defrauds B and causes B to manifest an intention to give the land X owned by B to A, A may demand, by specifying a reasonable period of time, that B give a definite answer on whether or not B will ratify the manifestation of intention within that period of time.',\n",
       "  'index': 'R05-05-I',\n",
       "  'label': 'N',\n",
       "  'rewrite': 'Article 20\\nif the person fails to send a definite answer within that period of time the person is deemed to have ratified that act the same applies hereinafter\\nif, before the person with qualified legal capacity becomes a person with the legal capacity to act, the other party to dealings involving the person with qualified legal capacity lodges the demand prescribed in the preceding paragraph with the legal representative, curator, or assistant of that person with respect to an act within the scope of their authority they fail to send a definite answer within the fixed period of time referred to in that paragraph also applies\\nIf a person does not send notice within the period of time set forth in the preceding two paragraphs indicating that the person has completed any special formalities that an act requires the person is deemed to have rescinded that act.\\nIf the person under curatorship or person under assistance does not send notice within that period indicating that the person has gotten the curator or assistant to ratify the act in question. The person is deemed to have rescinded that act. The other party to dealings involving a person with qualified legal capacity may lodge a demand with a person under curatorship or with a person under assistance who is subject to a decision as referred to in Article 17, paragraph (1) to demand that the person get the curator or assistant to ratify an act within the fixed period referred to in paragraph (1).'},\n",
       " {'result': 'Article 95 (1) A manifestation of intention is voidable if it is based on either of the following mistakes, and the mistake is material in light of the purpose of the juridical act and the common sense in the transaction:\\n(i) a mistake wherein the person lacks the intention that corresponds to the manifestation of intention; or\\n(ii) a mistake wherein the person making the manifestation of intention holds an understandings that does not correspond to the truth with regard to the circumstances which the person has taken as the basis for the juridical act.\\n(2) A manifestation of intention under the provisions of item (ii) of the preceding paragraph may be rescinded only if it has been indicated that the circumstances in question are being taken as the basis for the juridical act.\\n(3) If a mistake is due to gross negligence on the part of the person making the manifestation of intention, that person may not rescind a manifestation of intention as under paragraph (1), except in the following cases:\\n(i) if the other party knew, or did not know due to gross negligence, of the mistake on the part of the person making the manifestation of intention; or\\n(ii) if the other party was under the same mistake as the person making the manifestation of intention.\\n(4) The rescission of a manifestation of intention under the provisions of paragraph (1) may not be duly asserted against a third party in good faith acting without negligence.',\n",
       "  'content': \"If A's manifestation of intention to B is based on a mistake due to A's gross negligence, A may not rescind the manifestation of intention on the ground of the mistake, even if B did not know due to gross negligence that A had the mistake.\",\n",
       "  'index': 'R05-05-U',\n",
       "  'label': 'N',\n",
       "  'rewrite': 'Article 95\\nThe condition in this sentence is if it is based on either of the following mistakes, and the mistake is material in light of the purpose of the juridical act and the common sense in the transaction. The conclusion in this sentence is A manifestation of intention is voidable. The addition in this sentence is either of the following mistakes. There is no exception mentioned in this sentence.\\nA manifestation of intention under the provisions of item (ii) of the preceding paragraph may be rescinded only if it has been indicated that the circumstances in question are being taken as the basis for the juridical act.\\nIf a mistake is due to gross negligence on the part of the person making the manifestation of intention that person may not rescind a manifestation of intention as under paragraph (1) except in the following cases (i) if the other party knew, or did not know due to gross negligence, of the mistake on the part of the person making the manifestation of intention; or (ii) if the other party was under the same mistake as the person making the manifestation of intention.\\nThe rescission of a manifestation of intention under the provisions of paragraph (1) may not be duly asserted against a third party in good faith acting without negligence. The rescission of a manifestation of intention cannot be asserted against a third party in good faith acting without negligence.'},\n",
       " {'result': 'Article 94 (1) A false manifestation of intention that a person makes in collusion with another person is void.\\n(2) The nullity of a manifestation of intention under the provisions of the preceding paragraph may not be duly asserted against a third party in good faith.',\n",
       "  'content': 'In a case where A and B conspired to sell Land X owned by A to B, and after the transfer of ownership to B was registered, B sold Land X to C, and then C sold Land X to D, if C knows of the falsification between A and B, A may assert the invalidity of the manifestation of intent to sell between A and B against D, even if D does not know of the falsification between A and B.',\n",
       "  'index': 'R05-05-E',\n",
       "  'label': 'N',\n",
       "  'rewrite': 'Article 94\\nA false manifestation of intention that a person makes in collusion with another person is void\\nThe nullity of a manifestation of intention under the provisions of the preceding paragraph may not be duly asserted against a third party in good faith.'},\n",
       " {'result': \"Article 93 (1) The validity of a manifestation of intention is not impaired even if the person making it does so while knowing that it does not reflect that person's true intention; provided, however, that if the other party knew or could have known that the manifestation was not the true intention of the person who made it, that manifestation of intention is void.\\n(2) The nullity of a manifestation of intention under the provisions of the proviso to the preceding paragraph may not be duly asserted against a third party in good faith.\",\n",
       "  'content': \"In a case where A manifests his intention to sell land X owned by A to B while knowing that such manifestation of intention does not reflect A's true intention, even if A's manifestation of intention is void because B could have known that A's manifestation of intention was not true, if C in good faith purchases land X from B, A may not assert against C the nullity of such manifestation of intention.\",\n",
       "  'index': 'R05-05-O',\n",
       "  'label': 'Y',\n",
       "  'rewrite': \"Article 93\\nThe condition in this sentence is even if the person making it does so while knowing that it does not reflect that person's true intention. The conclusion in this sentence is the validity of a manifestation of intention is not impaired. The addition in this sentence is However that if the other party knew or could have known that the manifestation was not the true intention of the person who made it. The exception in this sentence is that manifestation of intention is void.\\nThe nullity of a manifestation of intention under the provisions of the proviso to the preceding paragraph may not be duly asserted against a third party in good faith.\"},\n",
       " {'result': 'Article 132 A juridical act subject to an unlawful condition is void. The same applies to a juridical act subject to the condition that an unlawful act not be performed.',\n",
       "  'content': 'If A concludes a gift agreement with B to the effect that A will give B 100,000 yen if B does not commit theft for a certain period of time, and if B, who has not committed theft for that period of time, demands A to pay 100,000 yen, A may refuse to do so.',\n",
       "  'index': 'R05-06-A',\n",
       "  'label': 'Y',\n",
       "  'rewrite': 'Article 132\\nA juridical act subject to an unlawful condition is void. The same applies to a juridical act subject to the condition that an unlawful act not be performed.'},\n",
       " {'result': 'Article 130 (1) If a party that would suffer a detriment as a result of the fulfillment of a condition intentionally prevents the fulfillment of that condition, the counterparty may deem that the condition has been fulfilled.\\n(2) If a party who would enjoy a benefit as a result of the fulfillment of a condition wrongfully has that condition fulfilled, the counterparty may deem that the condition has not been fulfilled.',\n",
       "  'content': 'If a contract of gift of movables with a condition precedent is concluded, and the donor intentionally prevents the fulfillment of the condition in breach of good faith principle, the donee may demand the delivery of the movables.',\n",
       "  'index': 'R05-06-I',\n",
       "  'label': 'Y',\n",
       "  'rewrite': 'Article 130\\nIf a party that would suffer a detriment as a result of the fulfillment of a condition intentionally prevents the fulfillment of that condition the counterparty may deem that the condition has been fulfilled.\\nIf a party who would enjoy a benefit as a result of the fulfillment of a condition wrongfully has that condition fulfilled. the counterparty may deem that the condition has not been fulfilled.'},\n",
       " {'result': \"Article 128 While it is uncertain whether or not a condition will be fulfilled, a party to a juridical act that is subject to a condition may not prejudice the other party's interests that would arise from the juridical act upon fulfillment of the condition.\",\n",
       "  'content': \"If A concludes a gift agreement with B to the effect that A will give movable property Y owned by A to B if B is accepted to University X, and A negligently damages Y while B's acceptance or rejection is uncertain, A is not liable to compensate B for the damage, even if B is accepted to University X.\",\n",
       "  'index': 'R05-06-E',\n",
       "  'label': 'N',\n",
       "  'rewrite': \"Article 128\\nWhile it is uncertain whether or not a condition will be fulfilled a party to a juridical act that is subject to a condition may not prejudice the other party's interests that would arise from the juridical act upon fulfillment of the condition.\"},\n",
       " {'result': 'Article 134 A juridical act subject to a condition precedent is void if the condition is dependent only upon the intention of the obligor.',\n",
       "  'content': 'If A concludes a gift agreement with B to the effect that A will give B 100,000 yen if A feels inclined to do so, and B demands A to pay 100,000 yen, A may not refuse to do so.',\n",
       "  'index': 'R05-06-O',\n",
       "  'label': 'N',\n",
       "  'rewrite': 'Article 134\\nsubject to a condition precedent is void if the condition is dependent only upon the intention of the obligor'},\n",
       " {'result': \"Article 187 (1) A successor to a possessor may, as the successor chooses, assert either the successor's own possession only, or the successor's own possession together with that of the predecessor.\\n(2) If a person asserts the possession of the predecessor together with the person's own, that person also succeeds to defects in the same.\",\n",
       "  'content': \"When claiming acquisition of ownership by prescription, an heir may, as the heir chooses, assert either the heir's own possession only, or the heir's own possession together with that of the decedent.\",\n",
       "  'index': 'R05-07-A',\n",
       "  'label': 'Y',\n",
       "  'rewrite': \"Article 187\\nas the successor chooses may assert either the successor's own possession only, or the successor's own possession together with that of the predecessor\\nIf a person asserts the possession of the predecessor together with the person's own that person also succeeds to defects in the same\"},\n",
       " {'result': \"Article 163 A person that exercises a property right other than ownership peacefully and openly with the intention to do so on the person's own behalf acquires that right after the passage of 20 years or 10 years, according to the distinction provided for in the preceding Article.\\nArticle 162 (1) A person that possesses the property of another for 20 years peacefully and openly with the intention to own it acquires ownership thereof.\\n(2) A person that possesses the property of another for 10 years peacefully and openly with an intention to own it acquires ownership thereof if the person was acting in good faith and was not negligent at the time when the possession started.\",\n",
       "  'content': 'The period required to acquire superficies by prescription is ten years, regardless of the subjective circumstances of the person who claims to acquire it.',\n",
       "  'index': 'R05-07-E',\n",
       "  'label': 'N',\n",
       "  'rewrite': \"Article 163\\nA person exercises a property right other than ownership peacefully and openly with the intention to do so on the person's own behalf. The person acquires that right after the passage of 20 years or 10 years. The distinction provided for in the preceding Article determines whether the passage of 20 years or 10 years is applicable.\\nArticle 162\\nA person possesses the property of another for 20 years peacefully and openly with the intention to own it. The person acquires ownership of the property.\\nif the person was acting in good faith and was not negligent at the time when the possession started. acquires ownership thereof that possesses the property of another for 10 years peacefully and openly with an intention to own it\"},\n",
       " {'result': 'Article 283 A servitude may be acquired by prescription so long as it is continuously exercised and can be externally recognized.',\n",
       "  'content': 'A servitude may be acquired by prescription so long as it is continuously exercised and can be externally recognized.',\n",
       "  'index': 'R05-07-O',\n",
       "  'label': 'Y',\n",
       "  'rewrite': 'Article 283\\nThe condition in the if clause is so long as it is continuously exercised and can be externally recognized. This means that for a servitude to be acquired by prescription, it must meet the condition of being continuously exercised and externally recognized. The conclusion of the if clause is that a servitude may be acquired by prescription. This is the result or outcome that is stated as a possibility if the condition is met. There is no explicit addition in this sentence. The if clause does not introduce any additional information or conditions beyond what is stated. There is no exception mentioned in this sentence. The if clause does not provide any exceptions or limitations to the condition or conclusion.'},\n",
       " {'result': 'Article 177 Acquisitions of, losses of and changes in real rights on immovables may not be duly asserted against any third parties, unless the same are registered pursuant to the applicable provisions of the Real Property Registration Act (Act No. 123 of 2004) and other laws regarding registration.',\n",
       "  'content': 'A person who has acquired superficies in order to own trees or bamboo by prescription may assert the acquisition of superficies against a person who subsequently purchases the land subject to the superficies and registers to that effect, even without registration.',\n",
       "  'index': 'R05-09-A',\n",
       "  'label': 'N',\n",
       "  'rewrite': 'Article 177\\nThe condition in this sentence is unless the same are registered pursuant to the applicable provisions of the Real Property Registration Act (Act No. 123 of 2004) and other laws regarding registration. The conclusion in this sentence is that acquisitions of, losses of and changes in real rights on immovables may not be duly asserted against any third parties. There is no explicit addition in this sentence. There is no explicit exception in this sentence.'},\n",
       " {'result': \"Article 281 (1) Servitudes are transferred together with the ownership in the dominant land (meaning the land of a servitude holder, enjoying benefits from another person's land; the same applies hereinafter) as appurtenances thereof, and are subject of other rights that exist in relation to the dominant land; provided, however, that this does not apply if the act establishing the servitude provides otherwise.\\n(2) Servitudes may neither be transferred nor made the subject of other rights apart from the dominant land.\\nArticle 177 Acquisitions of, losses of and changes in real rights on immovables may not be duly asserted against any third parties, unless the same are registered pursuant to the applicable provisions of the Real Property Registration Act (Act No. 123 of 2004) and other laws regarding registration.\",\n",
       "  'content': 'If the establishment of a servitude has been registered for the servient land, and the dominant land is transferred, the transferee may assert the transfer of the servitude against a third party if the transfer of ownership of the dominant land is registered.',\n",
       "  'index': 'R05-09-I',\n",
       "  'label': 'Y',\n",
       "  'rewrite': \"Article 281\\nHowever that this does not apply if the act establishing the servitude provides otherwise. Servitudes are transferred together with the ownership in the dominant land as appurtenances thereof, and are subject of other rights that exist in relation to the dominant land. meaning the land of a servitude holder, enjoying benefits from another person's land; the same applies hereinafter this does not apply if the act establishing the servitude provides otherwise.\\nThe condition in this sentence is may neither be transferred nor made the subject of other rights apart from the dominant land. The conclusion in this sentence is that servitudes may neither be transferred nor made the subject of other rights apart from the dominant land. There is no addition in this sentence. There is no exception mentioned in this sentence.\\nArticle 177\\nThe condition in this sentence is unless the same are registered pursuant to the applicable provisions of the Real Property Registration Act (Act No. 123 of 2004) and other laws regarding registration. The conclusion in this sentence is that acquisitions of, losses of and changes in real rights on immovables may not be duly asserted against any third parties. There is no explicit addition in this sentence. There is no explicit exception in this sentence.\"},\n",
       " {'result': 'Article 336 General statutory liens may be duly asserted against obligees without special security, even if the liens are not registered with respect to the relevant immovables; provided, however, that this does not apply to registered third parties.',\n",
       "  'content': 'A general statutory lien has priority over a registered mortgage existing on an immovable property even if such general statutory lien is not registered on such property.',\n",
       "  'index': 'R05-09-U',\n",
       "  'label': 'N',\n",
       "  'rewrite': 'Article 336\\neven if the liens are not registered with respect to the relevant immovables General statutory liens may be duly asserted against obligees without special security provided, however that this does not apply to registered third parties'},\n",
       " {'result': 'Article 387 (1) A registered lease may be duly asserted against mortgagees that hold mortgages registered prior to the registration of that lease if all mortgagees that hold those mortgages give their consent and those consents are registered.\\n(2) For a mortgagee to give the consent referred to in the preceding paragraph, the approval of the persons that hold rights for which the mortgage is the subject matter and other persons that will suffer detriment as a result of the consent of the mortgagee must be obtained.',\n",
       "  'content': 'If a lease of a building has been perfected by delivery, and all the holders of the mortgage registered on the building prior to such delivery have consented to the lease, the lessee may assert the creation of the right of lease against those who have purchased such building by enforcement of the mortgage.',\n",
       "  'index': 'R05-09-E',\n",
       "  'label': 'N',\n",
       "  'rewrite': 'Article 387\\nA registered lease may be duly asserted against mortgagees that hold mortgages registered prior to the registration of that lease. if all mortgagees that hold those mortgages give their consent and those consents are registered.\\nFor a mortgagee to give the consent referred to in the preceding paragraph the approval of the persons that hold rights for which the mortgage is the subject matter and other persons that will suffer detriment as a result of the consent of the mortgagee must be obtained.'},\n",
       " {'result': \"Article 398 Even if a holder of superficies or a farming right holder that created mortgage on that holder's superficies or farming right renounces the relevant rights, the renunciation may not be duly asserted against the mortgagee.\",\n",
       "  'content': \"Even if a farming right holder that has created a mortgage on the holder's farming right renounces the right, the renunciation may not be duly asserted against the mortgagee.\",\n",
       "  'index': 'R05-09-O',\n",
       "  'label': 'Y',\n",
       "  'rewrite': \"Article 398\\nEven if a holder of superficies or a farming right holder that created mortgage on that holder's superficies or farming right renounces the relevant rights the renunciation may not be duly asserted against the mortgagee.\"},\n",
       " {'result': 'Article 202 (1) A possessory action does not preclude an action on title that legally supports the possession, and an action on title does not preclude a possessory action.\\n(2) With respect to possessory actions, no judicial decision may be made on grounds relating to title that legally supports the possession.',\n",
       "  'content': 'B has stolen movable X owned and possessed by A. In this case, A may simultaneously demand B to return X based on ownership and to return X by an action for recovery of possession.',\n",
       "  'index': 'R05-10-A',\n",
       "  'label': 'Y',\n",
       "  'rewrite': 'Article 202\\nThe condition in this sentence is A possessory action does not preclude an action on title that legally supports the possession. The conclusion in this sentence is an action on title does not preclude a possessory action. There is no explicit addition in this sentence. There is no explicit exception in this sentence.\\nWith respect to possessory actions no judicial decision may be made on grounds relating to title that legally supports the possession.'},\n",
       " {'result': \"Article 180 Possessory rights are acquired by possessing a thing with the intention to do so on one's own behalf.\\nArticle 200 (1) If a possessor is forcibly dispossessed, the possessor may demand the restitution of the thing and compensation for loss or damage by filing an action for recovery of possession.\\n(2) An action for recovery of possession may not be filed against a specific successor of a person that forcibly takes possession; provided, however, that this does not apply if that successor had knowledge of the fact that the person has unlawfully taken the possession.\",\n",
       "  'content': 'B has defrauded A of Movable X owned and possessed by A. If C has stolen X from B, B may not demand C to return X by an action for recovery of possession.',\n",
       "  'index': 'R05-10-I',\n",
       "  'label': 'N',\n",
       "  'rewrite': \"Article 180\\nPossessory rights are acquired by possessing a thing with the intention to do so on one's own behalf.\\nArticle 200\\nIf a possessor is forcibly dispossessed the possessor may demand the restitution of the thing and compensation for loss or damage by filing an action for recovery of possession.\\nAn action for recovery of possession may not be filed against a specific successor of a person that forcibly takes possession. That does not apply if that successor had knowledge of the fact that the person has unlawfully taken the possession. provided, however.\"},\n",
       " {'result': 'Article 203 Possessory rights are extinguished when the possessor renounces the intention to possess, or loses possession of the possessed thing; provided, however, that this does not apply if the possessor files an action for recovery of possession.',\n",
       "  'content': 'B exercises a right of retention against movable X owned by A. If C steals X from B, B may not demand C to return X by an action for recovery of possession.',\n",
       "  'index': 'R05-10-U',\n",
       "  'label': 'N',\n",
       "  'rewrite': 'Article 203\\nThe condition in this sentence is Possessory rights are extinguished when the possessor renounces the intention to possess, or loses possession of the possessed thing. The conclusion in this sentence is Possessory rights are extinguished. The addition in this sentence is However that this does not apply. The exception in this sentence is if the possessor files an action for recovery of possession.'},\n",
       " {'result': 'Article 200 (1) If a possessor is forcibly dispossessed, the possessor may demand the restitution of the thing and compensation for loss or damage by filing an action for recovery of possession.\\n(2) An action for recovery of possession may not be filed against a specific successor of a person that forcibly takes possession; provided, however, that this does not apply if that successor had knowledge of the fact that the person has unlawfully taken the possession.',\n",
       "  'content': 'B, who has stolen movable X owned and possessed by A, sells and delivers X to C, who is in good faith about the fact. In this case, A may not demand C to return X by an action for recovery of possession.',\n",
       "  'index': 'R05-10-E',\n",
       "  'label': 'Y',\n",
       "  'rewrite': 'Article 200\\nIf a possessor is forcibly dispossessed the possessor may demand the restitution of the thing and compensation for loss or damage by filing an action for recovery of possession.\\nAn action for recovery of possession may not be filed against a specific successor of a person that forcibly takes possession. That does not apply if that successor had knowledge of the fact that the person has unlawfully taken the possession. provided, however.'},\n",
       " {'result': 'Article 181 Possessory rights may be acquired through an agent.',\n",
       "  'content': 'A has leased and delivered movable X owned by A to B. If C steals X from B, A may demand C to return X by an action for recovery of possession.',\n",
       "  'index': 'R05-10-O',\n",
       "  'label': 'Y',\n",
       "  'rewrite': 'Article 181\\nif clause - Possessory rights may be acquired through an agent'},\n",
       " {'result': 'Article 242 The owner of immovables acquires ownership of a thing that has been attached thereto as its appurtenance; provided, however, that the rights of the other person that attached that thing by virtue of a title are not prejudiced.',\n",
       "  'content': \"A has leased building X owned by A to B. If B has made an addition to building X with A's consent, the ownership of the addition belongs to B, even if the addition is not independent in trading practices.\",\n",
       "  'index': 'R05-11-I',\n",
       "  'label': 'N',\n",
       "  'rewrite': 'Article 242\\nHowever that the rights of the other person that attached that thing by virtue of a title are not prejudiced. The owner of immovables acquires ownership of a thing that has been attached thereto as its appurtenance.'},\n",
       " {'result': 'Article 242 The owner of immovables acquires ownership of a thing that has been attached thereto as its appurtenance; provided, however, that the rights of the other person that attached that thing by virtue of a title are not prejudiced.',\n",
       "  'content': 'A has sown seed owned by A on land owned by B without title. If the seed grows to become a seedling, ownership of the seedling belongs to B.',\n",
       "  'index': 'R05-11-U',\n",
       "  'label': 'Y',\n",
       "  'rewrite': 'Article 242\\nHowever that the rights of the other person that attached that thing by virtue of a title are not prejudiced. The owner of immovables acquires ownership of a thing that has been attached thereto as its appurtenance.'},\n",
       " {'result': 'Article 245 The provisions of the preceding two Articles apply mutatis mutandis if the things of different owners are mixed together and can no longer be distinguished.\\nArticle 244 If the distinction of principal and accessory cannot be made between the movables united by accession, the owner of each movable property co-owns the composite thing in proportion to the respective price current at the time of the accession.',\n",
       "  'content': 'Wine X owned by A and wine Y owned by B have been mixed together and can no longer be distinguished. If the distinction of principal and accessory cannot be made between X and Y, the thing formed by the mixture is co-owned by A and B in proportion to the respective price current at the time of the mixture.',\n",
       "  'index': 'R05-11-E',\n",
       "  'label': 'Y',\n",
       "  'rewrite': 'Article 245\\nThe things of different owners are mixed together and can no longer be distinguished. The provisions of the preceding two Articles apply mutatis mutandis.\\nArticle 244\\nIf the distinction of principal and accessory cannot be made between the movables united by accession the owner of each movable property co-owns the composite thing in proportion to the respective price current at the time of the accession.'},\n",
       " {'result': 'Article 246 (1) If a person (hereinafter in this Article referred to as \"processor\") adds labor to another person\\'s movables, the ownership of the processed thing belongs to the owner of the material; provided, however, that if the value derived from the work significantly exceeds the value of the material, the processor acquires ownership of the processed thing.\\n(2) In the cases prescribed in the preceding paragraph, if the processor provides a portion of the materials, the processor acquires ownership of the processed thing only if the value of provided materials added to the value derived from the labor exceeds the value of the other person\\'s materials.',\n",
       "  'content': 'A has added labor to a steel plate X owned by B to produce a work Y. If the value derived from the work significantly exceeds the value of X, ownership of Y belongs to A.',\n",
       "  'index': 'R05-11-O',\n",
       "  'label': 'Y',\n",
       "  'rewrite': \"Article 246\\nIf a person adds labor to another person's movables. The ownership of the processed thing belongs to the owner of the material. If the value derived from the work significantly exceeds the value of the material. The processor acquires ownership of the processed thing.\\nif the processor provides a portion of the materials the processor acquires ownership of the processed thing only if the value of provided materials added to the value derived from the labor exceeds the value of the other person's materials\"},\n",
       " {'result': 'Article 388 If the land and a building on that land belong to the same owner, a mortgage is created with respect to that land or building, and the enforcement of that mortgage causes them to belong to different owners, it is deemed that a superficies has been created with respect to that building. In this case, the rent is fixed by the court at the request of the parties.',\n",
       "  'content': 'A person who has acquired a statutory superficies is not required to pay rent to the owner of the land that is the subject of the superficies.',\n",
       "  'index': 'R05-12-I',\n",
       "  'label': 'N',\n",
       "  'rewrite': 'Article 388\\nIf the land and a building on that land belong to the same owner a mortgage is created with respect to that land or building the enforcement of that mortgage causes them to belong to different owners In this case, the rent is fixed by the court at the request of the parties.'},\n",
       " {'result': 'Article 278 (1) The duration of a farming right is 20 years or more and 50 years or less. Even if an act of establishment provides for a period longer than 50 years, the duration is 50 years.\\n(2) The establishment of farming right may be renewed; provided, however, that the duration of that right may not exceed 50 years from the time of renewal.\\n(3) If an act of establishment does not provide for the duration of the farming right, the duration of that right is 30 years unless there are other customs to the contrary.',\n",
       "  'content': 'A farming right may not be established gratuitously.',\n",
       "  'index': 'R05-12-U',\n",
       "  'label': 'Y',\n",
       "  'rewrite': 'Article 278\\nEven if an act of establishment provides for a period longer than 50 years the duration is 50 years The duration of a farming right is 20 years or more and 50 years or less\\nThe duration of the farming right may not exceed 50 years from the time of renewal. The establishment of farming right may be renewed. The duration of the farming right may be renewed.\\nIf an act of establishment does not provide for the duration of the farming right the duration of that right is 30 years unless there are other customs to the contrary'},\n",
       " {'result': 'Article 263 Rights of common that have the nature of co-ownership are governed by local customs and are otherwise subject to the application of the provisions of this Section.\\nArticle 252-2 (1) Matters regarding the management of property in co-ownership (including the appointment and dismissal of a manager of the property in co-ownership prescribed in paragraph (1) of the following Article, and excluding those that make any changes prescribed in paragraph (1) of the preceding Article to the property in co-ownership; the same applies in the following paragraph) are decided by a majority according to the value of the ownership shares of the co-owners. The same applies when there are co-owners who use the property in co-ownership.\\n(2) In any of the following cases, the court may, upon the request of a co-owner other than another co-owner listed in the respective items, render a judicial decision to the effect that matters regarding the management of property in co-ownership may be decided by a majority according to the value of the ownership shares of the co-owners other than the other co-owner in question :\\n(i) when a co-owner is unable to ascertain the identity of another co-owner or his/her whereabouts;\\n(ii) when a co-owner has given notice to another co-owner requesting him/her to clarify whether he/she is in favor of or against the idea of deciding on matters regarding the management of property in co-ownership within a reasonable period of time, and the other co-owner in question does not clarify whether he/she is in favor of or against within that period of time.\\n(3) If the decision under the preceding two paragraphs should have a special effect on any co-owner who uses the property in co-ownership based on a decision among co-owners, his/her consent must be obtained.\\n(4) Pursuant to the provisions of the preceding three paragraphs, co-owners may establish on the co-owned property the leases or other rights to use or earn profit listed in the following items (hereinafter referred to as \"right of lease, etc.\" in this paragraph) that do not exceed the period of time specified in the relevant item:\\n(i) right of lease, etc. of forest for the purpose of planting or felling trees: 10 years;\\n(ii) right of lease, etc. for land other than the leases set forth in the preceding item: 5 years;\\n(iii) right of lease, etc. of a building: 3 years;\\n(iv) right of lease, etc. of movables: 6 months.\\n(5) Notwithstanding the provisions of the preceding paragraphs, each co-owner may perform acts of preservation.',\n",
       "  'content': 'Unless custom dictates otherwise, the exercise of the right to demand the elimination of obstructions against a person who obstructs the exercise of the right of common shall be made by all the members of the organization of holders of the right of common.',\n",
       "  'index': 'R05-12-O',\n",
       "  'label': 'N',\n",
       "  'rewrite': 'Article 263\\nThe condition in this sentence is Rights of common that have the nature of co-ownership. The conclusion in this sentence is are governed by local customs and are otherwise subject to the application of the provisions of this Section. There is no addition in this sentence. There is no exception in this sentence.\\nArticle 252-2'},\n",
       " {'result': 'Article 330 (1) If there are competing special statutory liens against the same movables, the order of priority follows the order set forth below. In this case, if there are two or more preservers with respect to the statutory liens for preservation of movables set forth in item (ii), a new preserver has priority over previous preservers:\\n(i) statutory liens for leases of immovables, lodging at hotels and transportation;\\n(ii) statutory liens for the preservation of movables; and\\n(iii) statutory liens for the sale of movables, the supply of seeds and seedlings or fertilizer, agricultural labor and industrial labor.\\n(2) In the cases referred to in the preceding paragraph, if a holder of a statutory lien ranked first knew at the time of acquiring the relevant claim of the existence of a holder of a statutory lien of the second or third rank, that holder may not exercise the relevant rights of priority against those persons. The same applies to the exercise against persons that have preserved things on behalf of the holder of a statutory lien of the first rank.\\n(3) Regarding fruits, the first rank belongs to persons who engage in agricultural labor, the second rank belongs to persons that supply seeds and seedlings or fertilizer, and the third rank belongs to lessors of land.',\n",
       "  'content': \"If B acquires a statutory lien for preservation of moveables on movable X, which is the subject of A's statutory lien for leases of immovables, by preserving X to the benefit of A, A may not exercise the right of priority against B.\",\n",
       "  'index': 'R05-13-A',\n",
       "  'label': 'Y',\n",
       "  'rewrite': 'Article 330\\nIf there are competing special statutory liens against the same movables the order of priority follows the order set forth below In this case, if there are two or more preservers with respect to the statutory liens for preservation of movables set forth in item (ii), a new preserver has priority over previous preservers\\nif a holder of a statutory lien ranked first knew at the time of acquiring the relevant claim of the existence of a holder of a statutory lien of the second or third rank that holder may not exercise the relevant rights of priority against those persons The same applies to the exercise against persons that have preserved things on behalf of the holder of a statutory lien of the first rank.\\nThe condition in this sentence is implied and can be understood as if you are talking about fruits. The conclusion is stated in the sentence and is the first rank belongs to persons who engage in agricultural labor, the second rank belongs to persons that supply seeds and seedlings or fertilizer, and the third rank belongs to lessors of land. There is no explicit addition in this sentence. There is no exception mentioned in this sentence.'},\n",
       " {'result': 'Article 330 (1) If there are competing special statutory liens against the same movables, the order of priority follows the order set forth below. In this case, if there are two or more preservers with respect to the statutory liens for preservation of movables set forth in item (ii), a new preserver has priority over previous preservers:\\n(i) statutory liens for leases of immovables, lodging at hotels and transportation;\\n(ii) statutory liens for the preservation of movables; and\\n(iii) statutory liens for the sale of movables, the supply of seeds and seedlings or fertilizer, agricultural labor and industrial labor.\\n(2) In the cases referred to in the preceding paragraph, if a holder of a statutory lien ranked first knew at the time of acquiring the relevant claim of the existence of a holder of a statutory lien of the second or third rank, that holder may not exercise the relevant rights of priority against those persons. The same applies to the exercise against persons that have preserved things on behalf of the holder of a statutory lien of the first rank.\\n(3) Regarding fruits, the first rank belongs to persons who engage in agricultural labor, the second rank belongs to persons that supply seeds and seedlings or fertilizer, and the third rank belongs to lessors of land.',\n",
       "  'content': \"Fruits harvested on land leased by A are the subject of A's statutory lien for leases of immovables. If B has a statutory lien for agricultural labor on such fruits, A may exercise the right of priority against B.\",\n",
       "  'index': 'R05-13-I',\n",
       "  'label': 'N',\n",
       "  'rewrite': 'Article 330\\nIf there are competing special statutory liens against the same movables the order of priority follows the order set forth below In this case, if there are two or more preservers with respect to the statutory liens for preservation of movables set forth in item (ii), a new preserver has priority over previous preservers\\nif a holder of a statutory lien ranked first knew at the time of acquiring the relevant claim of the existence of a holder of a statutory lien of the second or third rank that holder may not exercise the relevant rights of priority against those persons The same applies to the exercise against persons that have preserved things on behalf of the holder of a statutory lien of the first rank.\\nThe condition in this sentence is implied and can be understood as if you are talking about fruits. The conclusion is stated in the sentence and is the first rank belongs to persons who engage in agricultural labor, the second rank belongs to persons that supply seeds and seedlings or fertilizer, and the third rank belongs to lessors of land. There is no explicit addition in this sentence. There is no exception mentioned in this sentence.'},\n",
       " {'result': \"Article 333 Statutory liens may not be exercised against the movables that are the subject matter of the same after the obligors have delivered those movables to third party acquirers.\\nArticle 183 If an agent manifests the intention to thenceforward possess a thing under the agent's own possession on behalf of the principal, the principal thereby acquires the possessory rights.\",\n",
       "  'content': 'If, after A has sold and actually delivered movable X owned by A to B, B has sold X to C, and B and C have agreed that B thenceforward possesses X on behalf of C, then A may not exercise a statutory lien for sale of movables on X.',\n",
       "  'index': 'R05-13-U',\n",
       "  'label': 'Y',\n",
       "  'rewrite': \"Article 333\\nafter the obligors have delivered those movables to third party acquirers Statutory liens may not be exercised against the movables that are the subject matter of the same\\nArticle 183\\nIf an agent manifests the intention to thenceforward possess a thing under the agent's own possession on behalf of the principal. the principal thereby acquires the possessory rights.\"},\n",
       " {'result': 'Article 334 If there is conflict between a statutory lien and a pledge on movables, the pledgee of those movables has the same rights as those of the holder of a statutory lien of the first rank under Article 330.\\nArticle 330 (1) If there are competing special statutory liens against the same movables, the order of priority follows the order set forth below. In this case, if there are two or more preservers with respect to the statutory liens for preservation of movables set forth in item (ii), a new preserver has priority over previous preservers:\\n(i) statutory liens for leases of immovables, lodging at hotels and transportation;\\n(ii) statutory liens for the preservation of movables; and\\n(iii) statutory liens for the sale of movables, the supply of seeds and seedlings or fertilizer, agricultural labor and industrial labor.\\n(2) In the cases referred to in the preceding paragraph, if a holder of a statutory lien ranked first knew at the time of acquiring the relevant claim of the existence of a holder of a statutory lien of the second or third rank, that holder may not exercise the relevant rights of priority against those persons. The same applies to the exercise against persons that have preserved things on behalf of the holder of a statutory lien of the first rank.\\n(3) Regarding fruits, the first rank belongs to persons who engage in agricultural labor, the second rank belongs to persons that supply seeds and seedlings or fertilizer, and the third rank belongs to lessors of land.',\n",
       "  'content': \"A has a statutory lien for sale of moveables as a result that A has sold movable X to B. If B has created a pledge on X in favor of C, A may exercise its statutory lien prior to C's pledge.\",\n",
       "  'index': 'R05-13-E',\n",
       "  'label': 'N',\n",
       "  'rewrite': 'Article 334\\nIf there is conflict between a statutory lien and a pledge on movables the pledgee of those movables has the same rights as those of the holder of a statutory lien of the first rank under Article 330.\\nArticle 330\\nIf there are competing special statutory liens against the same movables the order of priority follows the order set forth below In this case, if there are two or more preservers with respect to the statutory liens for preservation of movables set forth in item (ii), a new preserver has priority over previous preservers\\nif a holder of a statutory lien ranked first knew at the time of acquiring the relevant claim of the existence of a holder of a statutory lien of the second or third rank that holder may not exercise the relevant rights of priority against those persons The same applies to the exercise against persons that have preserved things on behalf of the holder of a statutory lien of the first rank.\\nThe condition in this sentence is implied and can be understood as if you are talking about fruits. The conclusion is stated in the sentence and is the first rank belongs to persons who engage in agricultural labor, the second rank belongs to persons that supply seeds and seedlings or fertilizer, and the third rank belongs to lessors of land. There is no explicit addition in this sentence. There is no exception mentioned in this sentence.'},\n",
       " {'result': 'Article 337 In order to preserve the effectiveness of statutory liens for preservation of immovables, registration must be carried out immediately after the completion of the act of preservation.\\nArticle 339 Statutory liens registered in accordance with the provisions of the preceding two Articles may be exercised prior to mortgages.',\n",
       "  'content': \"If B has a registered statutory lien for preservation of immovables and C has a registered mortgage on a building owned by A, B may exercise its statutory lien prior to C's mortgage, even if B's registration is later than C's registration.\",\n",
       "  'index': 'R05-13-O',\n",
       "  'label': 'Y',\n",
       "  'rewrite': 'Article 337\\nIn order to preserve the effectiveness of statutory liens for preservation of immovables registration must be carried out immediately after the completion of the act of preservation.\\nArticle 339\\nStatutory liens registered in accordance with the provisions of the preceding two Articles may be exercised prior to mortgages'},\n",
       " {'result': 'Article 392 (1) If an obligee holds mortgages on several immovable properties to secure the same claim, and the proceeds of those immovable properties are to be distributed simultaneously, the burden of the claim is divided in proportion to the value of each of the immovable properties.\\n(2) If an obligee holds mortgages on several immovable properties to secure the same claim, and the proceeds from only one of the immovable properties are to be distributed, the mortgagee may receive the payment of the entire claim out of those proceeds. In this case, subordinated mortgagees may exercise their mortgages in subrogation of that mortgagee, up to the amount that that mortgagee that receives payment would otherwise be entitled to receive from the proceeds of other immovable properties, in accordance with the provisions of the preceding paragraph.',\n",
       "  'content': \"Assume that A holds a first ranked mortgage on Land X and Land Y as a joint mortgage to secure claim α held by A against B. Land X and Land Y are owned by B. In this case, if A's mortgage over both lands is executed and the proceeds are to be distributed simultaneously, the burden of claim α is divided in proportion to the value of each land, even if there is no subordinated mortgagee.\",\n",
       "  'index': 'R05-14-A',\n",
       "  'label': 'Y',\n",
       "  'rewrite': 'Article 392\\nIf an obligee holds mortgages on several immovable properties to secure the same claim the burden of the claim is divided in proportion to the value of each of the immovable properties the proceeds of those immovable properties are to be distributed simultaneously\\nIf an obligee holds mortgages on several immovable properties to secure the same claim the mortgagee may receive the payment of the entire claim out of those proceeds subordinated mortgagees may exercise their mortgages in subrogation of that mortgagee up to the amount that that mortgagee that receives payment would otherwise be entitled to receive from the proceeds of other immovable properties, in accordance with the provisions of the preceding paragraph.'},\n",
       " {'result': \"Article 499 A person that has performed the obligation for the benefit of the obligor is subrogated to the claim of the obligee.\\nArticle 501 (1) A person that is subrogated to the claim of the obligee pursuant to the provisions of the preceding two Articles may exercise any and all rights possessed by the obligee as the effect of, and as a security for, the claim held by the obligee.\\n(2) The exercise of rights under the provisions of the preceding paragraph is allowed only to the extent that the person that is subrogated to the claim of the obligee is entitled to seek reimbursement from the obligor based on the person's own rights (if one of the guarantors is subrogated to the claim of the obligee in relation to other guarantors, only to the extent that the guarantor is entitled to seek reimbursement from the other guarantors based on that guarantor's own rights).\\n(3) In the case referred to in paragraph (1), the following provisions apply in addition to the provisions of the preceding paragraph:\\n(i) a third party acquirer (meaning a person that has acquired from the obligor the property that is the subject of security; hereinafter the same applies in this paragraph) is not subrogated to the claim of the obligee in relation to any guarantors or third-party collateral providers;\\n(ii) one of the third party acquirers is subrogated to the claim of the obligee in relation to other third party acquirers in proportion to the price of each property;\\n(iii) the provisions of the preceding item apply mutatis mutandis if one of the third-party collateral providers is subrogated to the claim of the obligee in relation to other third-party collateral providers;\\n(iv) between a guarantor and a third-party collateral provider, the subrogation to the claim of the obligee is effected depending on the number of these persons involved; provided, however, that if there are two or more third-party collateral providers, they are subrogated to the claim of the obligee in proportion to the price of each property with respect to the amount which remains after deduction of the share of the guarantor; and\\n(v) a person that has acquired from a third party acquirer the property that is the subject of security is deemed to be a third party acquirer, and the provisions of items (i) and (ii) apply thereto; and a person that has acquired from a third-party collateral provider the property that is the subject of security is deemed to be a third-party collateral provider, and the provisions of items (i) and (iii) and the preceding item apply thereto.\",\n",
       "  'content': \"Assume that A holds a first ranked mortgage on Land X and Land Y as a joint mortgage to secure claim α held by A against B. Land X is owned by B, Land Y is owned by C, and D is the second ranked mortgagee on Land X. In this case, if A executes a mortgage on Land Y only and receives the payment of the entire claim α out of the proceeds, C may exercise A's mortgage on Land X in subrogation to A.\",\n",
       "  'index': 'R05-14-U',\n",
       "  'label': 'Y',\n",
       "  'rewrite': \"Article 499\\nA person has performed the obligation for the benefit of the obligor. The person is subrogated to the claim of the obligee.\\nArticle 501\\nA person is subrogated to the claim of the obligee pursuant to the provisions of the preceding two Articles. The person may exercise any and all rights possessed by the obligee as the effect of, and as a security for, the claim held by the obligee.\\nThe exercise of rights under the provisions of the preceding paragraph is allowed only to the extent that the person that is subrogated to the claim of the obligee is entitled to seek reimbursement from the obligor based on the person's own rights. The person must be entitled to seek reimbursement from the obligor based on their own rights in order to exercise their rights under the provisions of the preceding paragraph. If one of the guarantors is subrogated to the claim of the obligee in relation to other guarantors, they can exercise their rights under the provisions of the preceding paragraph only to the extent that the guarantor is entitled to seek reimbursement from the other guarantors based on that guarantor's own rights.\\nThe condition is implied in the sentence and is not explicitly stated. The conclusion is not explicitly stated in the sentence. The sentence states that the following provisions apply in addition to the provisions of the preceding paragraph. The sentence does not mention any exceptions.\"},\n",
       " {'result': 'Article 398-6 (1) With respect to the principal secured by a revolving mortgage, the date when the principal is to be crystallized may be specified or changed.\\n(2) The provisions of Article 398-4, paragraph (2) apply mutatis mutandis to the cases referred to in the preceding paragraph.\\n(3) The date under paragraph (1) must be within five years of the day when the date was prescribed or changed.\\n(4) If registration with respect to a change in the date under paragraph (1) is not effected before the old date, the principal secured is crystallized on that old date.',\n",
       "  'content': 'The creation of a revolving mortgage is valid even if the principal crystalization date is not specified.',\n",
       "  'index': 'R05-15-A',\n",
       "  'label': 'Y',\n",
       "  'rewrite': 'Article 398-6\\nWith respect to the principal secured by a revolving mortgage the date when the principal is to be crystallized may be specified or changed\\nThe provisions of Article 398-4, paragraph (2) apply mutatis mutandis to the cases referred to in the preceding paragraph.\\nThe date under paragraph (1) must be within five years of the day when the date was prescribed or changed. The date must be within five years. The date is under paragraph (1).\\nIf registration with respect to a change in the date under paragraph (1) is not effected before the old date. the principal secured is crystallized on that old date.'},\n",
       " {'result': 'Article 398-12 (1) Before the principal is crystallized, a revolving mortgagee may assign a revolving mortgage, with the approval of the mortgagor of the revolving mortgage.\\n(2) A revolving mortgagee may divide the revolving mortgage into two revolving mortgages and assign either of the same pursuant to the provisions of the preceding paragraph. In this case, the rights for which that revolving mortgage is the subject matter is extinguished with respect to the revolving mortgage that was assigned.\\n(3) In order to effect an assignment under the provisions of the preceding paragraph, the approval of the person that holds the rights for which that revolving mortgage is the subject matter must be obtained.',\n",
       "  'content': 'Before the principal is crystallized, a revolving mortgagee may assign a revolving mortgage, with the approval of the mortgagor of the revolving mortgage.',\n",
       "  'index': 'R05-15-I',\n",
       "  'label': 'Y',\n",
       "  'rewrite': 'Article 398-12\\nBefore the principal is crystallized a revolving mortgagee may assign a revolving mortgage with the approval of the mortgagor of the revolving mortgage\\nif clause - if a revolving mortgagee may divide the revolving mortgage into two revolving mortgages and assign either of the same pursuant to the provisions of the preceding paragraph. the rights for which that revolving mortgage is the subject matter is extinguished with respect to the revolving mortgage that was assigned.\\nIn order to effect an assignment under the provisions of the preceding paragraph the approval of the person that holds the rights for which that revolving mortgage is the subject matter must be obtained.'},\n",
       " {'result': 'Article 398-7 (1) A person that acquires a claim from a revolving mortgagee before the principal is crystallized may not exercise the revolving mortgage with respect to that claim. The same applies to a person that made payment for or on behalf of an obligor before the principal was crystallized.\\n(2) If an obligation is assumed before the principal is crystallized, the revolving mortgagee may not exercise the revolving mortgage with respect to the obligation of the person that assumes the obligation.\\n(3) If the assumption of obligation releasing an old obligor is effected before the principal is crystallized, the obligee may not transfer the revolving mortgage to the obligation assumed by the new obligor, notwithstanding the provisions of Article 472-4, paragraph (1).\\n(4) If any novation due to the substitution of the obligee is effected before the principal is crystallized, the obligee before the novation may not transfer the revolving mortgage to the obligations after the novation, notwithstanding the provisions of Article 518, paragraph (1). The same applies to the obligee in the case of novation due to the substitution of the obligor before the principal is crystallized.',\n",
       "  'content': 'A person who has acquired a secured claim from a revolving mortgagee before the principal is crystallized may not exercise the revolving mortgage with respect to that claim.',\n",
       "  'index': 'R05-15-U',\n",
       "  'label': 'Y',\n",
       "  'rewrite': 'Article 398-7\\nA person acquires a claim from a revolving mortgagee before the principal is crystallized. The person may not exercise the revolving mortgage with respect to that claim. The same applies to a person that made payment for or on behalf of an obligor before the principal was crystallized.\\nIf an obligation is assumed before the principal is crystallized the revolving mortgagee may not exercise the revolving mortgage with respect to the obligation of the person that assumes the obligation.\\nIf the assumption of obligation releasing an old obligor is effected before the principal is crystallized the obligee may not transfer the revolving mortgage to the obligation assumed by the new obligor notwithstanding the provisions of Article 472-4, paragraph (1)\\nIf any novation due to the substitution of the obligee is effected before the principal is crystallized and The same applies to the obligee in the case of novation due to the substitution of the obligor before the principal is crystallized. the obligee before the novation may not transfer the revolving mortgage to the obligations after the novation and the obligee in the case of novation due to the substitution of the obligor before the principal is crystallized. notwithstanding the provisions of Article 518, paragraph (1).'},\n",
       " {'result': 'Article 398-4 (1) The scope of the claims to be secured by a revolving mortgage may be changed if the change is effected before the principal is crystallized. The same applies with respect to change of obligors.\\n(2) In order to effect the changes referred to in the preceding paragraph, it is not required that the approval of third parties including subordinated mortgagee be obtained.\\n(3) If the change under paragraph (1) is not registered before the principal is crystallized, it is deemed that the change was not effected.',\n",
       "  'content': 'The scope of the claims to be secured by a revolving mortgage may not be changed before the principal is crystallized without the approval of the subordinated mortgagee.',\n",
       "  'index': 'R05-15-E',\n",
       "  'label': 'N',\n",
       "  'rewrite': 'Article 398-4\\nThe change is effected before the principal is crystallized. The scope of the claims to be secured by a revolving mortgage may be changed. The same applies with respect to change of obligors.\\nIt is not required that the approval of third parties including subordinated mortgagee be obtained. In order to effect the changes referred to in the preceding paragraph.\\nIf the change under paragraph (1) is not registered before the principal is crystallized it is deemed that the change was not effected.'},\n",
       " {'result': 'Article 398-3 (1) A revolving mortgagee may exercise the relevant revolving mortgage up to the maximum amount with respect to all of crystallized principal as well as periodic payments including interest and compensation for loss or damage resulting from failure to perform obligations.\\n(2) If a claim under a negotiable instrument or check or electronically recorded monetary claim acquired from causes other than the transactions with the obligor is agreed to be treated as a claim to be secured by a revolving mortgage, and any of the following grounds exist, that revolving mortgage may be exercised only with respect to claims acquired before those grounds arose; provided, however, that even with respect to claims acquired after the grounds arose, the exercise of the revolving mortgage is not precluded as far as the claims were acquired without knowledge of those grounds:\\n(i) the suspension of payments by the obligor;\\n(ii) a petition to commence bankruptcy proceeding, the commencement of rehabilitation proceeding, the commencement of reorganization proceeding or the commencement for special liquidation with respect to the obligor; or\\n(iii) a petition for commencement of auction procedure in relation to a mortgaged immovables or attachment for disposition of delinquency.',\n",
       "  'content': 'After the principal is crystallized, interest and damages secured by the revolving mortgage are limited to that of the last two years in the aggregate.',\n",
       "  'index': 'R05-15-O',\n",
       "  'label': 'N',\n",
       "  'rewrite': 'Article 398-3\\nA revolving mortgagee may exercise the relevant revolving mortgage up to the maximum amount with respect to all of crystallized principal as well as periodic payments including interest and compensation for loss or damage resulting from failure to perform obligations.\\nThe condition in this sentence is If a claim under a negotiable instrument or check or electronically recorded monetary claim acquired from causes other than the transactions with the obligor is agreed to be treated as a claim to be secured by a revolving mortgage. The conclusion in this sentence is that revolving mortgage may be exercised only with respect to claims acquired before those grounds arose. The addition in this sentence is However that even with respect to claims acquired after the grounds arose, the exercise of the revolving mortgage is not precluded as far as the claims were acquired without knowledge of those grounds. The exception in this sentence is (i) the suspension of payments by the obligor; (ii) a petition to commence bankruptcy proceeding, the commencement of rehabilitation proceeding, the commencement of reorganization proceeding or the commencement for special liquidation with respect to the obligor; or (iii) a petition for commencement of auction procedure in relation to a mortgaged immovables or attachment for disposition of delinquency.'},\n",
       " {'result': 'Article 412 (1) If a fixed due date is assigned to the performance of an obligation, the obligor is liable for delay from the time that due date arrives.\\n(2) If an uncertain due date is assigned to the performance of an obligation, the obligor is liable for delay from the time when the obligor receives the request for performance after the due date arrives or the time when the obligor becomes aware of the arrival of that due date, whichever comes earlier.\\n(3) If no time limit is assigned to the performance of an obligation, the obligor is liable for delay from the time the obligor receives the request for performance.',\n",
       "  'content': 'If an uncertain due date is assigned to the performance of an obligation, the obligor is liable for delay from the time when the obligor receives the request for performance after the due date arrives or the time when the obligor becomes aware of the arrival of that due date, whichever comes earlier.',\n",
       "  'index': 'R05-17-I',\n",
       "  'label': 'Y',\n",
       "  'rewrite': 'Article 412\\nIf a fixed due date is assigned to the performance of an obligation the obligor is liable for delay from the time that due date arrives.\\nIf an uncertain due date is assigned to the performance of an obligation the obligor is liable for delay from the time when the obligor receives the request for performance after the due date arrives or the time when the obligor becomes aware of the arrival of that due date, whichever comes earlier.\\nIf no time limit is assigned to the performance of an obligation the obligor is liable for delay from the time the obligor receives the request for performance.'},\n",
       " {'result': \"Article 424-3 (1) The obligee may make demand for rescission of fraudulent act with respect to an act concerning the provision of a security or extinguishment of an obligation that is committed by the obligor with regard to an existing obligation, only if the act satisfies all of the following requirements:\\n(i) the act is committed while the obligor is unable to pay debts (meaning the condition in which the obligor, due to lack of ability to pay, is generally and continuously unable to pay debts as they become due; the same applies in item (i) of the following paragraph); and\\n(ii) the act is committed by the obligor in collusion with the beneficiary with the intention to prejudice other obligees.\\n(2) If the act prescribed in the preceding paragraph is not within the scope of the obligor's obligation or the time of the act is not such that is required as the obligor's obligation, and it satisfies all of the following requirements, the obligee may make demand for rescission of fraudulent act with respect to that act, notwithstanding the provisions of that paragraph:\\n(i) the act is committed within 30 days before the obligor became unable to pay debts; and\\n(ii) the act is committed by the obligor in collusion with the beneficiary with the intention to prejudice other obligees.\",\n",
       "  'content': 'Assume that A has a claim against B for 20 million yen based on a contract for sale with B, and that B is insolvent and knows that each act would be prejudicial to the obligee. B, who is unable to pay debts, has paid a debt owed to C. In this case, even if C had an intention to prejudice A, A cannot make a demand for rescission of fraudulent act with respect to such payment, unless C was in collusion with B.',\n",
       "  'index': 'R05-18-A',\n",
       "  'label': 'Y',\n",
       "  'rewrite': \"Article 424-3\\nThe obligee may make demand for rescission of fraudulent act with respect to an act concerning the provision of a security or extinguishment of an obligation that is committed by the obligor with regard to an existing obligation. Only if the act satisfies all of the following requirements. (i) the act is committed while the obligor is unable to pay debts (meaning the condition in which the obligor, due to lack of ability to pay, is generally and continuously unable to pay debts as they become due; the same applies in item (i) of the following paragraph); and (ii) the act is committed by the obligor in collusion with the beneficiary with the intention to prejudice other obligees.\\nIf the act prescribed in the preceding paragraph is not within the scope of the obligor's obligation or the time of the act is not such that is required as the obligor's obligation. the obligee may make demand for rescission of fraudulent act with respect to that act. (i) the act is committed within 30 days before the obligor became unable to pay debts; and (ii) the act is committed by the obligor in collusion with the beneficiary with the intention to prejudice other obligees. notwithstanding the provisions of that paragraph.\"},\n",
       " {'result': 'Article 424-4 With respect to an act concerning the extinguishment of an obligation which has been committed by the obligor, if the value of the payment or delivery received by the beneficiary exceeds the amount of the obligation extinguished by that act, and the act satisfies the requirement prescribed in Article 424, the obligee may make demand for rescission of fraudulent act with regard to the part other than the part corresponding to the amount of the obligation extinguished, notwithstanding the provisions of paragraph (1) of the preceding Article.\\nArticle 424 (1) An obligee may demand the court to rescind an act which the obligor commits knowing that it will prejudice the obligee; provided, however, that this does not apply if a person that benefits from that act (hereinafter referred to as the \"beneficiary\" in this Subsection) does not know, at the time of the act, that the obligee will be prejudiced.\\n(2) The provisions of the preceding paragraph do not apply to an act with a subject matter other than property rights.\\n(3) The obligee may make the demand under the provisions of paragraph (1) (hereinafter referred to as \"demand for rescission of fraudulent act\") only if the obligee\\'s claim has arisen from a cause that existed before the act prescribed in paragraph (1).\\n(4) The obligee may not make demand for rescission of fraudulent act if the obligee\\'s claim is not enforceable by compulsory execution.',\n",
       "  'content': 'Assume that A has a claim against B for 20 million yen based on a contract for sale with B and that B is insolvent and knows that each act would be prejudicial to the obligee. B has paid a debt of 5 million yen to D in a substitute performance with land equivalent to 20 million yen owned by B. In this case, if D knew that such substitute performance would be prejudicial to the obligee, A may make a demand for rescission of fraudulent act against D with respect to the portion of such substitute performance other than the portion equivalent to 5 million yen.',\n",
       "  'index': 'R05-18-I',\n",
       "  'label': 'Y',\n",
       "  'rewrite': \"Article 424-4\\nif the value of the payment or delivery received by the beneficiary exceeds the amount of the obligation extinguished by that act, and the act satisfies the requirement prescribed in Article 424 the obligee may make demand for rescission of fraudulent act with regard to the part other than the part corresponding to the amount of the obligation extinguished notwithstanding the provisions of paragraph (1) of the preceding Article\\nArticle 424\\nHowever that this does not apply if a person that benefits from that act does not know, at the time of the act, that the obligee will be prejudiced. An obligee may demand the court to rescind an act which the obligor commits knowing that it will prejudice the obligee. An obligee may demand the court to rescind an act which the obligor commits knowing that it will prejudice the obligee. this does not apply if a person that benefits from that act does not know, at the time of the act, that the obligee will be prejudiced.\\nThe provisions of the preceding paragraph do not apply to an act with a subject matter other than property rights.\\nThe obligee's claim has arisen from a cause that existed before the act prescribed in paragraph (1). The obligee may make the demand under the provisions of paragraph (1) (hereinafter referred to as demand for rescission of fraudulent act). The demand for rescission of fraudulent act is the only condition under which the obligee may make the demand.\\nThe obligee's claim is not enforceable by compulsory execution. The obligee may not make demand for rescission of fraudulent act.\"},\n",
       " {'result': 'Article 424 (1) An obligee may demand the court to rescind an act which the obligor commits knowing that it will prejudice the obligee; provided, however, that this does not apply if a person that benefits from that act (hereinafter referred to as the \"beneficiary\" in this Subsection) does not know, at the time of the act, that the obligee will be prejudiced.\\n(2) The provisions of the preceding paragraph do not apply to an act with a subject matter other than property rights.\\n(3) The obligee may make the demand under the provisions of paragraph (1) (hereinafter referred to as \"demand for rescission of fraudulent act\") only if the obligee\\'s claim has arisen from a cause that existed before the act prescribed in paragraph (1).\\n(4) The obligee may not make demand for rescission of fraudulent act if the obligee\\'s claim is not enforceable by compulsory execution.',\n",
       "  'content': \"Assume that A has a claim against B for 20 million yen based on a contract for sale with B and that B is insolvent and knew that each act would prejudice the creditor. B had assigned its claim against E to F prior to the conclusion of the contract for sale with A, but the notice to E using an instrument bearing a certified date on the assignment was given after A's claim against B had arisen. In this case, A may make a demand for rescission of fraudulent act with respect to such notice.\",\n",
       "  'index': 'R05-18-U',\n",
       "  'label': 'N',\n",
       "  'rewrite': \"Article 424\\nHowever that this does not apply if a person that benefits from that act does not know, at the time of the act, that the obligee will be prejudiced. An obligee may demand the court to rescind an act which the obligor commits knowing that it will prejudice the obligee. An obligee may demand the court to rescind an act which the obligor commits knowing that it will prejudice the obligee. this does not apply if a person that benefits from that act does not know, at the time of the act, that the obligee will be prejudiced.\\nThe provisions of the preceding paragraph do not apply to an act with a subject matter other than property rights.\\nThe obligee's claim has arisen from a cause that existed before the act prescribed in paragraph (1). The obligee may make the demand under the provisions of paragraph (1) (hereinafter referred to as demand for rescission of fraudulent act). The demand for rescission of fraudulent act is the only condition under which the obligee may make the demand.\\nThe obligee's claim is not enforceable by compulsory execution. The obligee may not make demand for rescission of fraudulent act.\"},\n",
       " {'result': 'Article 424 (1) An obligee may demand the court to rescind an act which the obligor commits knowing that it will prejudice the obligee; provided, however, that this does not apply if a person that benefits from that act (hereinafter referred to as the \"beneficiary\" in this Subsection) does not know, at the time of the act, that the obligee will be prejudiced.\\n(2) The provisions of the preceding paragraph do not apply to an act with a subject matter other than property rights.\\n(3) The obligee may make the demand under the provisions of paragraph (1) (hereinafter referred to as \"demand for rescission of fraudulent act\") only if the obligee\\'s claim has arisen from a cause that existed before the act prescribed in paragraph (1).\\n(4) The obligee may not make demand for rescission of fraudulent act if the obligee\\'s claim is not enforceable by compulsory execution.',\n",
       "  'content': 'Assume that A has a claim against B for 20 million yen based on a contract for sale with B and that B is insolvent and knows that each act is prejudicial to the obligee. A and B has agreed not to carry out compulsory execution regarding said claim. In this case, even if B has given land owned by B to G and G knew that such gift was prejudicial to the obligee, A cannot make a demand for rescission of the fraudulent act with respect to such gift.',\n",
       "  'index': 'R05-18-E',\n",
       "  'label': 'Y',\n",
       "  'rewrite': \"Article 424\\nHowever that this does not apply if a person that benefits from that act does not know, at the time of the act, that the obligee will be prejudiced. An obligee may demand the court to rescind an act which the obligor commits knowing that it will prejudice the obligee. An obligee may demand the court to rescind an act which the obligor commits knowing that it will prejudice the obligee. this does not apply if a person that benefits from that act does not know, at the time of the act, that the obligee will be prejudiced.\\nThe provisions of the preceding paragraph do not apply to an act with a subject matter other than property rights.\\nThe obligee's claim has arisen from a cause that existed before the act prescribed in paragraph (1). The obligee may make the demand under the provisions of paragraph (1) (hereinafter referred to as demand for rescission of fraudulent act). The demand for rescission of fraudulent act is the only condition under which the obligee may make the demand.\\nThe obligee's claim is not enforceable by compulsory execution. The obligee may not make demand for rescission of fraudulent act.\"},\n",
       " {'result': 'Article 424-6 (1) In making demand for rescission of fraudulent act against the beneficiary, the obligee may demand the rescission of the act committed by the obligor and also demand the return of the property which has been transferred to the beneficiary as a result of that act. If it is difficult for the beneficiary to return the property, the obligee may demand the reimbursement of its value.\\n(2) In making demand for rescission of fraudulent act against the subsequent acquirer, the obligee may demand the rescission of the act committed by the obligor and also demand the return of the property which has been acquired by the subsequent acquirer. If it is difficult for the subsequent acquirer to return the property, the obligee may demand the reimbursement of its value.',\n",
       "  'content': 'Assume that A has a claim against B for 20 million yen based on a contract for sale with B, and that B is insolvent and knew that each act would prejudice the obligee. B has given movable X owned by B to H, and H has further given X to I, and each delivery has been made. In this case, if A can demand the return of the property in a demand for rescission of fraudulent act against I, A cannot demand the reimbursement of its value in a demand for rescission of fraudulent act against H.',\n",
       "  'index': 'R05-18-O',\n",
       "  'label': 'N',\n",
       "  'rewrite': 'Article 424-6\\nIf it is difficult for the beneficiary to return the property the obligee may demand the reimbursement of its value. the obligee may demand the rescission of the act committed by the obligor and also demand the return of the property which has been transferred to the beneficiary as a result of that act.\\nIf it is difficult for the subsequent acquirer to return the property the obligee may demand the reimbursement of its value. the obligee may demand the rescission of the act committed by the obligor and also demand the return of the property which has been acquired by the subsequent acquirer.'},\n",
       " {'result': 'Article 465-2 (1) A guarantor to a guarantee contract under which the principal obligation is one or more unidentified obligations within a certain specified scope (hereinafter referred to as a \"contract for revolving guarantee\") and the guarantor is not a corporation (hereinafter referred to as a \"contract for revolving guarantee by an individual\") is liable to perform the obligation in terms of the amounts of the principal of the principal obligation, any interest, penalty and compensation for loss or damage in connection with the principal obligation, and all the other charges secondary to the obligation, as well as the amount of any penalty or compensation for loss or damage which is agreed- upon on with regard to the guarantee obligation, up to a certain maximum amount which pertains to all of these amounts.\\n(2) A contract for revolving guarantee by an individual does not become effective unless it provides for the maximum amount prescribed in the preceding paragraph.\\n(3) The provisions of Article 446, paragraphs (2) and (3) apply mutatis mutandis to the provisions concerning a maximum amount prescribed in paragraph (1) in a contract for revolving guarantee by an individual.\\nArticle 446 (1) A guarantor has the responsibility to perform the obligation of the principal obligor when the latter fails to perform that obligation.\\n(2) No guarantee contract becomes effective unless it is made in writing.\\n(3) If a guarantee contract is concluded by electronic or magnetic record which records the terms thereof, the guarantee contract is deemed to be made in writing, and the provisions of the preceding paragraph apply.',\n",
       "  'content': 'A contract for revolving guarantee by an individual does not become effective unless it provides for the maximum amount in writing or by means of an electronic or magnetic record.',\n",
       "  'index': 'R05-19-A',\n",
       "  'label': 'Y',\n",
       "  'rewrite': 'Article 465-2\\nThe condition stated in the sentence is that the guarantor is not a corporation. The conclusion of the sentence is that the guarantor is liable to perform the obligation in terms of various amounts related to the principal obligation and the guarantee obligation. The addition in the sentence is the specification of two types of guarantee contracts - a contract for revolving guarantee and a contract for revolving guarantee by an individual. There is no exception mentioned in the sentence.\\nA contract for revolving guarantee by an individual does not become effective unless it provides for the maximum amount prescribed in the preceding paragraph.\\nThe provisions of Article 446, paragraphs (2) and (3) apply mutatis mutandis to the provisions concerning a maximum amount prescribed in paragraph (1) in a contract for revolving guarantee by an individual. The provisions of Article 446, paragraphs (2) and (3) apply mutatis mutandis to the provisions concerning a maximum amount prescribed in paragraph (1) in a contract for revolving guarantee by an individual.\\nArticle 446\\nwhen the latter fails to perform that obligation A guarantor has the responsibility to perform the obligation of the principal obligor\\nNo guarantee contract becomes effective unless it is made in writing.\\nIf a guarantee contract is concluded by electronic or magnetic record which records the terms thereof the guarantee contract is deemed to be made in writing the provisions of the preceding paragraph apply'},\n",
       " {'result': 'Article 465-3 (1) If a contract for revolving guarantee by an individual under which the scope of the principal obligation includes an obligation to be borne as a result of loans or receiving a discount of a negotiable instrument (hereinafter referred to as a \"loan obligation\"; and this contract is hereinafter referred to as a \"contract for revolving guarantee by an individual for loans\") provides for the date on which the principal of the principal obligation should be crystallized (hereinafter referred to as the \"principal crystallization date\"), and it also provides that the principal crystallization date is to fall on or after the day on which five years have passed after the day of the conclusion of the contract for the revolving guarantee by an individual for loans, the provisions concerning the principal crystallization date do not become effective.\\n(2) If a contract for revolving guarantee by an individual for loans does not provide for a principal crystallization date (or if the provisions concerning the principal crystallization date do not become effective pursuant to the provisions of the preceding paragraph), the principal crystallization date is to fall on the day on which three years have passed from the day of the conclusion of the contract for revolving guarantee by an individual for loans.\\n(3) If a change of the principal crystallization date provided for in a contract for revolving guarantee by an individual for loans is to be effected, and the principal crystallization date as changed falls on a day later than the day on which five years have passed after the day of the change, that change of the principal crystallization date does not become effective; provided, however, that this does not apply if the change of the principal crystallization date is effected within two months immediately preceding the principal crystallization date, and the principal crystallization date as changed falls on a day within five years from the original principal crystallization date.\\n(4) The provisions of Article 446, paragraphs (2) and (3) apply mutatis mutandis to the provisions concerning a principal crystallization date in a contract for revolving guarantee by an individual for loans and a change thereof (excluding provisions to the effect that the principal crystallization date is to fall on a day within three years from the day of the conclusion of that contract for revolving guarantee by an individual for loans, and any change which is intended to change the principal crystallization date to a day preceding the original principal crystallization date).\\nArticle 465-4 (1) The principal of the principal obligation under a contract for revolving guarantee by an individual is crystallized in the following cases; provided, however, that in the case set forth in item (i), it is crystallized only if the procedure for compulsory execution or enforcement procedure of a security right is commenced:\\n(i) if an obligee files a petition for compulsory execution or enforcement of any security right for a claim for payment of money with regard to any property of the guarantor;\\n(ii) if the guarantor receives an order commencing bankruptcy proceeding; or\\n(iii) the relevant principal obligor or guarantor has died.\\n(2) Beyond the case prescribed in the preceding paragraph, the principal of the principal obligation under a contract for revolving guarantee by an individual for loans is crystallized in the following cases; provided, however, that in the case set forth in item (i), it is crystallized only if the procedure for compulsory execution or enforcement procedure of a security right is commenced:\\n(i) if the obligee files a petition for compulsory execution or enforcement of a security right for a claim for payment of money with regard to property of the principal obligor; or\\n(ii) if the principal obligor receives an order commencing bankruptcy proceeding.',\n",
       "  'content': 'In a case of a contract for revolving guarantee by an individual in which the principal obligation is a rent debt arising from a lease contract, if no principal crystalization date is provided, the principal of the principal obligation is crystalized after the statutory period from the date of conclusion of the contract for revolving guarantee by an individual has passed.',\n",
       "  'index': 'R05-19-I',\n",
       "  'label': 'N',\n",
       "  'rewrite': 'Article 465-3\\nThe condition in this sentence is If a contract for revolving guarantee by an individual under which the scope of the principal obligation includes an obligation to be borne as a result of loans or receiving a discount of a negotiable instrument provides for the date on which the principal of the principal obligation should be crystallized. The conclusion in this sentence is the provisions concerning the principal crystallization date do not become effective. The addition in this sentence is and it also provides that the principal crystallization date is to fall on or after the day on which five years have passed after the day of the conclusion of the contract for the revolving guarantee by an individual for loans. There is no exception mentioned in this sentence.\\nIf a contract for revolving guarantee by an individual for loans does not provide for a principal crystallization date (or if the provisions concerning the principal crystallization date do not become effective pursuant to the provisions of the preceding paragraph) the principal crystallization date is to fall on the day on which three years have passed from the day of the conclusion of the contract for revolving guarantee by an individual for loans.\\nIf a change of the principal crystallization date provided for in a contract for revolving guarantee by an individual for loans is to be effected, and the principal crystallization date as changed falls on a day later than the day on which five years have passed after the day of the change. that change of the principal crystallization date does not become effective. However that this does not apply if the change of the principal crystallization date is effected within two months immediately preceding the principal crystallization date, and the principal crystallization date as changed falls on a day within five years from the original principal crystallization date.\\nThe provisions of Article 446, paragraphs (2) and (3) apply mutatis mutandis to the provisions concerning a principal crystallization date in a contract for revolving guarantee by an individual for loans and a change thereof. The provisions of Article 446, paragraphs (2) and (3) apply mutatis mutandis to the provisions concerning a principal crystallization date in a contract for revolving guarantee by an individual for loans and a change thereof. excluding provisions to the effect that the principal crystallization date is to fall on a day within three years from the day of the conclusion of that contract for revolving guarantee by an individual for loans, and any change which is intended to change the principal crystallization date to a day preceding the original principal crystallization date.\\nArticle 465-4\\n(i) if an obligee files a petition for compulsory execution or enforcement of any security right for a claim for payment of money with regard to any property of the guarantor; (ii) if the guarantor receives an order commencing bankruptcy proceeding; or (iii) the relevant principal obligor or guarantor has died. The conclusion is implied in the main clause, which states that the principal obligation under a contract for revolving guarantee by an individual is crystallized in the following cases. The addition is indicated by the phrase However that which introduces additional information or conditions that must be met for the conclusion to be valid. There is no explicit exception mentioned in this sentence.\\n(i) if the obligee files a petition for compulsory execution or enforcement of a security right for a claim for payment of money with regard to property of the principal obligor; or (ii) if the principal obligor receives an order commencing bankruptcy proceeding. The conclusion is implied in the main clause, which states that the principal of the principal obligation under a contract for revolving guarantee by an individual for loans is crystallized in the following cases. The addition is indicated by the phrase However that in the case set forth in item (i), which introduces an additional condition that applies only to the first condition stated in the if clause. There is no explicit exception mentioned in this sentence.'},\n",
       " {'result': 'Article 465-4 (1) The principal of the principal obligation under a contract for revolving guarantee by an individual is crystallized in the following cases; provided, however, that in the case set forth in item (i), it is crystallized only if the procedure for compulsory execution or enforcement procedure of a security right is commenced:\\n(i) if an obligee files a petition for compulsory execution or enforcement of any security right for a claim for payment of money with regard to any property of the guarantor;\\n(ii) if the guarantor receives an order commencing bankruptcy proceeding; or\\n(iii) the relevant principal obligor or guarantor has died.\\n(2) Beyond the case prescribed in the preceding paragraph, the principal of the principal obligation under a contract for revolving guarantee by an individual for loans is crystallized in the following cases; provided, however, that in the case set forth in item (i), it is crystallized only if the procedure for compulsory execution or enforcement procedure of a security right is commenced:\\n(i) if the obligee files a petition for compulsory execution or enforcement of a security right for a claim for payment of money with regard to property of the principal obligor; or\\n(ii) if the principal obligor receives an order commencing bankruptcy proceeding.',\n",
       "  'content': 'When the guarantor of a contract for revolving guarantee by an individual dies, the principal of the principal obligation is crystallized.',\n",
       "  'index': 'R05-19-U',\n",
       "  'label': 'Y',\n",
       "  'rewrite': 'Article 465-4\\n(i) if an obligee files a petition for compulsory execution or enforcement of any security right for a claim for payment of money with regard to any property of the guarantor; (ii) if the guarantor receives an order commencing bankruptcy proceeding; or (iii) the relevant principal obligor or guarantor has died. The conclusion is implied in the main clause, which states that the principal obligation under a contract for revolving guarantee by an individual is crystallized in the following cases. The addition is indicated by the phrase However that which introduces additional information or conditions that must be met for the conclusion to be valid. There is no explicit exception mentioned in this sentence.\\n(i) if the obligee files a petition for compulsory execution or enforcement of a security right for a claim for payment of money with regard to property of the principal obligor; or (ii) if the principal obligor receives an order commencing bankruptcy proceeding. The conclusion is implied in the main clause, which states that the principal of the principal obligation under a contract for revolving guarantee by an individual for loans is crystallized in the following cases. The addition is indicated by the phrase However that in the case set forth in item (i), which introduces an additional condition that applies only to the first condition stated in the if clause. There is no explicit exception mentioned in this sentence.'},\n",
       " {'result': 'Article 465-2 (1) A guarantor to a guarantee contract under which the principal obligation is one or more unidentified obligations within a certain specified scope (hereinafter referred to as a \"contract for revolving guarantee\") and the guarantor is not a corporation (hereinafter referred to as a \"contract for revolving guarantee by an individual\") is liable to perform the obligation in terms of the amounts of the principal of the principal obligation, any interest, penalty and compensation for loss or damage in connection with the principal obligation, and all the other charges secondary to the obligation, as well as the amount of any penalty or compensation for loss or damage which is agreed- upon on with regard to the guarantee obligation, up to a certain maximum amount which pertains to all of these amounts.\\n(2) A contract for revolving guarantee by an individual does not become effective unless it provides for the maximum amount prescribed in the preceding paragraph.\\n(3) The provisions of Article 446, paragraphs (2) and (3) apply mutatis mutandis to the provisions concerning a maximum amount prescribed in paragraph (1) in a contract for revolving guarantee by an individual.',\n",
       "  'content': 'When the principal of the principal obligation has been crystallized, the guarantor is not liable to pay any interest accrued after the crystallization of such principal.',\n",
       "  'index': 'R05-19-O',\n",
       "  'label': 'N',\n",
       "  'rewrite': 'Article 465-2\\nThe condition stated in the sentence is that the guarantor is not a corporation. The conclusion of the sentence is that the guarantor is liable to perform the obligation in terms of various amounts related to the principal obligation and the guarantee obligation. The addition in the sentence is the specification of two types of guarantee contracts - a contract for revolving guarantee and a contract for revolving guarantee by an individual. There is no exception mentioned in the sentence.\\nA contract for revolving guarantee by an individual does not become effective unless it provides for the maximum amount prescribed in the preceding paragraph.\\nThe provisions of Article 446, paragraphs (2) and (3) apply mutatis mutandis to the provisions concerning a maximum amount prescribed in paragraph (1) in a contract for revolving guarantee by an individual. The provisions of Article 446, paragraphs (2) and (3) apply mutatis mutandis to the provisions concerning a maximum amount prescribed in paragraph (1) in a contract for revolving guarantee by an individual.'},\n",
       " {'result': 'Article 484 (1) Unless a particular intention is manifested with respect to the place where the performance should take place, the delivery of a specific thing must be effected at the place where that thing was located when the relevant claim accrued, and the discharge of any other obligation must be effected at the current domicile of the obligee.\\n(2) If the trading hours are specified by laws and regulations or customs, performance may be made or demanded only within the trading hours.',\n",
       "  'content': 'If the subject matter of a claim is delivery of a specified thing, the delivery must be effected at the current domicile of the obligee unless a particular intention is manifested with respect to the place where the performance should take place.',\n",
       "  'index': 'R05-20-A',\n",
       "  'label': 'N',\n",
       "  'rewrite': 'Article 484\\nUnless a particular intention is manifested with respect to the place where the performance should take place the delivery of a specific thing must be effected at the place where that thing was located when the relevant claim accrued, and the discharge of any other obligation must be effected at the current domicile of the obligee.\\nIf the trading hours are specified by laws and regulations or customs performance may be made or demanded only within the trading hours.'},\n",
       " {'result': 'Article 176 The creation and transfer of a real right becomes effective solely by the manifestations of intention of the parties.',\n",
       "  'content': 'If the obligor of a monetary claim concludes a contract with the obligee to the effect that the obligor is to have the obligation extinguished by transferring a specific thing in lieu of payment of money, ownership of the subject matter transfers to the obligee at the time the contract is made, unless the obligee manifests an intention to do otherwise.',\n",
       "  'index': 'R05-20-E',\n",
       "  'label': 'Y',\n",
       "  'rewrite': 'Article 176\\nThe creation and transfer of a real right becomes effective solely by the manifestations of intention of the parties. The creation and transfer of a real right becomes effective solely by the manifestations of intention of the parties.'},\n",
       " {'result': 'Article 478 Performance made to a person that does not constitute a person authorized to accept the performance (meaning the obligee or a third party authorized to accept performance based on the provisions of laws and regulations or the manifestation of intention of the parties; the same applies hereinafter) but that appears to be the person authorized to accept the performance in light of common sense in the transaction is effective only if the person effecting performance was acting in good faith and without negligence.',\n",
       "  'content': \"If B, who is not authorized to accept performance from the obligee A, has exercised the claim by purporting to be A's agent and has received performance from the obligor C, such performance is not effective, even if C was in good faith and acting without negligence.\",\n",
       "  'index': 'R05-20-O',\n",
       "  'label': 'N',\n",
       "  'rewrite': 'Article 478\\nThe condition in this sentence is Performance made to a person that does not constitute a person authorized to accept the performance. The conclusion in this sentence is the performance is effective only if the person effecting performance was acting in good faith and without negligence. There is no explicit addition in this sentence. There is no explicit exception mentioned in this sentence.'},\n",
       " {'result': 'Article 509 The obligor of either of the following obligations may not duly assert a set-off against the obligee; provided, however, that this does not apply if the obligee acquires a claim corresponding to the relevant obligation from another person:\\n(i) an obligation for compensation for loss or damage based on a tort committed in bad faith; or\\n(ii) an obligation for compensation for loss or damage for death or injury to person (excluding the one set forth in the preceding item).',\n",
       "  'content': 'Assume that A has a monetary claim against B (hereinafter referred to as \" Claim X \") and that B has a monetary claim against A (hereinafter referred to as \" Claim Y \"). If Claim X is a claim for the sale price and Claim Y is a claim for compensation for damages based on a tort due to A\\'s negligence in damaging a personal computer owned by B, A may duly assert against B a set-off.',\n",
       "  'index': 'R05-21-A',\n",
       "  'label': 'Y',\n",
       "  'rewrite': 'Article 509\\nThe condition in this sentence is The obligor of either of the following obligations may not duly assert a set-off against the obligee. The conclusion in this sentence is this does not apply if the obligee acquires a claim corresponding to the relevant obligation from another person. There is no explicit addition in this sentence. The exception in this sentence is However that.'},\n",
       " {'result': 'Article 511 (1) A third party obligor of a claim which has been attached may not assert sett-off as defense with any claim acquired after the attachment against the attaching obligee, but may duly assert against the same a set-off based using a claim acquired before the attachment.\\n(2) Notwithstanding the provisions of the preceding paragraph, if a claim acquired after the attachment has arisen from a cause that existed before the attachment, the third party obligor may use that claim for a set-off against the attaching obligee; provided, however, that this does not apply if the third party obligor acquires the claim of another person after the attachment.',\n",
       "  'content': 'Assume that A has a monetary claim against B (hereinafter referred to as \" Claim X \") and that B has a monetary claim against A (hereinafter referred to as \" Claim Y \"). If A had guaranteed B\\'s debt to C as requested by B, and after B\\'s obligee D seized Claim Y, which is a claim for sale price, A performed its guarantee obligation to C and acquired Claim X, which is a right of reimbursement, then A may duly assert against D a set-off.',\n",
       "  'index': 'R05-21-I',\n",
       "  'label': 'Y',\n",
       "  'rewrite': 'Article 511\\nThe condition in this sentence is A third party obligor of a claim which has been attached. The conclusion in this sentence is may not assert set-off as defense with any claim acquired after the attachment against the attaching obligee. The addition in this sentence is but may duly assert against the same a set-off based using a claim acquired before the attachment. There is no explicit exception mentioned in this sentence.\\nif a claim acquired after the attachment has arisen from a cause that existed before the attachment the third party obligor may use that claim for a set-off against the attaching obligee Notwithstanding the provisions of the preceding paragraph this does not apply if the third party obligor acquires the claim of another person after the attachment.'},\n",
       " {'result': 'Article 508 If a claim extinguished by prescription was eligible for set-off prior to its extinguishment, the obligee may use that claim for the set-off.',\n",
       "  'content': 'Assume that A has a monetary claim against B (hereinafter referred to as \"Claim X\") and that B has a monetary claim against A (hereinafter referred to as \"Claim Y\"). If, after Claim X and Claim Y have become eligible for set-off, Claim X has been extinguished due to prescription, and B subsequently demands A to perform Claim Y, A may assert against B a set-off.',\n",
       "  'index': 'R05-21-E',\n",
       "  'label': 'Y',\n",
       "  'rewrite': 'Article 508\\nIf a claim extinguished by prescription was eligible for set-off prior to its extinguishment the obligee may use that claim for the set-off.'},\n",
       " {'result': 'Article 505 (1) If two persons bear an obligation to each other that has the same kind of purpose and if both obligations are due, each obligor may be relieved from the obligation by setting off the value of that obligation against the corresponding amount of the obligation of the other obligor; provided, however, that this does not apply if the nature of the obligation does not permit such a set-off.\\n(2) Notwithstanding the provisions of the preceding paragraph, if a party manifests the intention to prohibit or restrict a set-off, that manifestation of the intention may be duly asserted against a third party only if the third party knew or did not know due to gross negligence it.',\n",
       "  'content': 'Assume that A has a monetary claim against B (hereinafter referred to as \"Claim X\") and that B has a monetary claim against A (hereinafter referred to as \"Claim Y\"). Even if the claim X has not become due, if the claim Y has become due, A may assert against B a set-off.',\n",
       "  'index': 'R05-21-O',\n",
       "  'label': 'N',\n",
       "  'rewrite': 'Article 505\\nIf two persons bear an obligation to each other that has the same kind of purpose and if both obligations are due. Each obligor may be relieved from the obligation by setting off the value of that obligation against the corresponding amount of the obligation of the other obligor. Provided, however, that this does not apply if the nature of the obligation does not permit such a set-off.\\nif a party manifests the intention to prohibit or restrict a set-off that manifestation of the intention may be duly asserted against a third party only if the third party knew or did not know due to gross negligence it Notwithstanding the provisions of the preceding paragraph'},\n",
       " {'result': 'Article 514 (1) A novation by substitution of obligor may be effected by a contract concluded between the obligee and a person that becomes the obligor after the novation. In such a case, the novation becomes effective when the obligee notifies the obligor prior to the novation of the conclusion of the contract.\\n(2) The obligor after the novation by substitution of obligor does not acquire a right to reimbursement from the obligor prior to the novation.',\n",
       "  'content': 'A novation by substitution of obligor may be effected by a contract concluded between the obligee and a person that becomes the obligor after the novation, even against the will of the obligor prior to the novation.',\n",
       "  'index': 'R05-22-A',\n",
       "  'label': 'Y',\n",
       "  'rewrite': 'Article 514\\nThe condition in this sentence is A novation by substitution of obligor may be effected by a contract concluded between the obligee and a person that becomes the obligor after the novation. The conclusion in this sentence is In such a case, the novation becomes effective when the obligee notifies the obligor prior to the novation of the conclusion of the contract. There is no specific addition mentioned in this sentence. There is no exception mentioned in this sentence.\\nThe obligor after the novation by substitution of obligor does not acquire a right to reimbursement from the obligor prior to the novation.'},\n",
       " {'result': 'Article 514 (1) A novation by substitution of obligor may be effected by a contract concluded between the obligee and a person that becomes the obligor after the novation. In such a case, the novation becomes effective when the obligee notifies the obligor prior to the novation of the conclusion of the contract.\\n(2) The obligor after the novation by substitution of obligor does not acquire a right to reimbursement from the obligor prior to the novation.',\n",
       "  'content': 'The debtor after a novation by substitution of debtor does not acquire the right of reimbursement against the debtor before the novation.',\n",
       "  'index': 'R05-22-I',\n",
       "  'label': 'Y',\n",
       "  'rewrite': 'Article 514\\nThe condition in this sentence is A novation by substitution of obligor may be effected by a contract concluded between the obligee and a person that becomes the obligor after the novation. The conclusion in this sentence is In such a case, the novation becomes effective when the obligee notifies the obligor prior to the novation of the conclusion of the contract. There is no specific addition mentioned in this sentence. There is no exception mentioned in this sentence.\\nThe obligor after the novation by substitution of obligor does not acquire a right to reimbursement from the obligor prior to the novation.'},\n",
       " {'result': 'Article 518 (1) To the extent of the amount of the obligation prior to the novation, the obligee (in the case of a novation by substitution of obligee, the obligee prior to the novation) may transfer the pledge or mortgage created as the security of that obligation to the obligation in effect after the novation; provided, however, that if any third party created that security, the consent of the third party must be obtained.\\n(2) The transfer of the pledge or mortgage referred to in the preceding paragraph must be effected by manifesting the intention to the other party to the novation (in the case of a novation by substitution of obligee, the obligor) in advance or upon the transfer.',\n",
       "  'content': 'In a case of a novation by substitution of obligee, the obligee before the novation may not transfer the pledge which the obligor had created as security for their obligation before the novation to the obligation after the novation, without the consent of the obligor.',\n",
       "  'index': 'R05-22-U',\n",
       "  'label': 'N',\n",
       "  'rewrite': 'Article 518\\nHowever that if any third party created that security the obligee may transfer the pledge or mortgage created as the security of that obligation to the obligation in effect after the novation in the case of a novation by substitution of obligee, the obligee prior to the novation\\nThe transfer of the pledge or mortgage referred to in the preceding paragraph must be effected by manifesting the intention to the other party to the novation. The transfer must be effected in advance or upon the transfer. In the case of a novation by substitution of obligee, the obligor.'},\n",
       " {'result': 'Article 347 The pledgee may retain the thing pledged until the claims provided for in the preceding Article are satisfied; provided, however, that this right cannot be duly asserted against an obligee that has priority over the pledgee.',\n",
       "  'content': 'The obligation for the secured claim of a pledge and the obligation to return the thing pledged are to be performed simultaneously.',\n",
       "  'index': 'R05-23-A',\n",
       "  'label': 'N',\n",
       "  'rewrite': 'Article 347\\nHowever that this right cannot be duly asserted against an obligee that has priority over the pledgee. The pledgee may retain the thing pledged until the claims provided for in the preceding Article are satisfied.'},\n",
       " {'result': 'Article 622-2 (1) If a lessor receives a security deposit (meaning money to be delivered by the lessee to the lessor under any name, for the purpose of securing an obligation to pay money that is owed by the lessee to the lessor based on a lease, such as an obligation to pay rent; hereinafter the same applies in this Article), the lessor must return to the lessee the amount that remains after deducting the amount of the obligation to pay money that is owed by the lessee to the lessor based on the lease, from the amount of security deposit received, in the following cases:\\n(i) if the lease is terminated, and the lessor receives the return of the leased thing; or\\n(ii) if the lessee assigns the lease lawfully.\\n(2) If the lessee fails to perform an obligation to pay money based on the lease, the lessor may appropriate the security deposit to the payment of the obligation. In such a case, the lessee may not demand that the lessor appropriate the security deposit to the payment of the obligation.',\n",
       "  'content': 'The obligation to return a security deposit and the obligation to return a leased thing in the case of the termination of a lease are to be performed simultaneously.',\n",
       "  'index': 'R05-23-I',\n",
       "  'label': 'N',\n",
       "  'rewrite': 'Article 622-2\\nIf a lessor receives a security deposit the lessor must return to the lessee the amount that remains after deducting the amount of the obligation to pay money (i) if the lease is terminated, and the lessor receives the return of the leased thing; or (ii) if the lessee assigns the lease lawfully.\\nIf the lessee fails to perform an obligation to pay money based on the lease the lessor may appropriate the security deposit to the payment of the obligation. In such a case the lessee may not demand that the lessor appropriate the security deposit to the payment of the obligation.'},\n",
       " {'result': 'Article 487 If there is an instrument evidencing a claim and the person making the performance has made full performance, that person may demand the return of the instrument.',\n",
       "  'content': 'If there is an instrument evidencing a claim, the obligation with respect to the claim and the obligation to return the instrument are to be performed simultaneously.',\n",
       "  'index': 'R05-23-O',\n",
       "  'label': 'N',\n",
       "  'rewrite': 'Article 487\\nIf there is an instrument evidencing a claim and the person making the performance has made full performance that person may demand the return of the instrument.'},\n",
       " {'result': \"Article 541 If one of the parties does not perform that party's obligation, and the other party demands performance of that obligation, specifying a reasonable period of time, but no performance is completed during that period, the other party may cancel the contract; provided, however, that this does not apply if the non-performance of the obligations upon the passage of the period is minor in light of the contract and the common sense in the transaction.\\nArticle 543 If non-performance of an obligation is due to grounds attributable to the obligee, the obligee may not cancel the contract under the preceding two Articles.\",\n",
       "  'content': 'If the obligor fails to perform the obligation and such default is due to grounds not attributable to the obligor, the obligee may not cancel the contract.',\n",
       "  'index': 'R05-24-I',\n",
       "  'label': 'N',\n",
       "  'rewrite': \"Article 541\\nIf one of the parties does not perform that party's obligation, and the other party demands performance of that obligation, specifying a reasonable period of time, but no performance is completed during that period. the other party may cancel the contract. this does not apply if the non-performance of the obligations upon the passage of the period is minor in light of the contract and the common sense in the transaction.\\nArticle 543\\nIf non-performance of an obligation is due to grounds attributable to the obligee the obligee may not cancel the contract under the preceding two Articles.\"},\n",
       " {'result': 'Article 542 (1) In the following cases, the obligee may immediately cancel the contract without making the demand referred to in the preceding Article:\\n(i) if the performance of the whole of the obligation is impossible;\\n(ii) if the obligor unequivocally manifests the intention to refuse to perform the obligation in whole;\\n(iii) if the performance of part of the obligation is impossible, or if the obligor clearly manifests the intention to refuse to perform part of the obligation and the purpose of the contract cannot be achieved by the performance of the remaining part of the obligation;\\n(iv) if, due to the nature of the contract or a manifestation of intention by the parties, the purpose of the contract cannot be achieved unless the obligation is performed at a specific time on a specific date or within a certain period of time, and the obligor fails to perform the obligation at that time or before that period of time expires; or\\n(v) beyond the cases set forth in the preceding items, if the obligor does not perform the obligation and it is obvious that the obligor is unlikely to perform the obligation to the extent necessary to achieve the purpose of the contract even if the obligee makes the demand referred to in the preceding Article.\\n(2) In the following cases, the obligee may immediately cancel a part of the contract without making the demand referred to in the preceding Article:\\n(i) the performance of the part of the obligation is impossible; or\\n(ii) the obligor clearly manifests the intention to refuse to perform the part of the obligation.',\n",
       "  'content': 'If the obligor fails to perform the obligation and it is clear that the obligor is unlikely to perform the obligation in a manner to achieve the purpose of the contract even after the obligee gave notice, the obligee may immediately cancel the contract without making a demand.',\n",
       "  'index': 'R05-24-U',\n",
       "  'label': 'Y',\n",
       "  'rewrite': 'Article 542\\nThe condition is expressed through the use of if clauses in the sentence. Each clause presents a specific condition that, if met, allows the obligee to cancel the contract without making a demand. The conclusion is implied in each clause and is that the obligee may immediately cancel the contract without making the demand referred to in the preceding Article. The addition is used to provide additional conditions under which the obligee may cancel the contract. Each additional condition is introduced by or and adds to the list of conditions that allow for cancellation.\\nThe condition is stated in the if clause the performance of the part of the obligation is impossible and the obligor clearly manifests the intention to refuse to perform the part of the obligation. The conclusion is implied in the main clause the obligee may immediately cancel a part of the contract without making the demand referred to in the preceding Article. There is no addition in this sentence. There is no exception mentioned in this sentence.'},\n",
       " {'result': 'Article 544 (1) If one party to a contract is comprised of two or more persons, the cancellation of the contract may be effected only by, or against, all of those persons.\\n(2) In the case referred to in the preceding paragraph, if the right to cancel is extinguished with respect to one of the persons that constitute a party to the contract, it is also extinguished with respect to the other persons.',\n",
       "  'content': 'If a lessee dies and several heirs jointly succeed to the right of lease, in order for the lessor to cancel the lease contract, the lessor must make a manifestation of an intention to cancel it to all of the heirs.',\n",
       "  'index': 'R05-24-O',\n",
       "  'label': 'Y',\n",
       "  'rewrite': 'Article 544\\nIf one party to a contract is comprised of two or more persons the cancellation of the contract may be effected only by, or against, all of those persons.\\nif the right to cancel is extinguished with respect to one of the persons that constitute a party to the contract it is also extinguished with respect to the other persons'},\n",
       " {'result': 'Article 562 (1) If the subject matter delivered to the buyer does not conform to the terms of the contract with respect to the kind, quality or quantity, the buyer may demand that the seller cure the non-conformity of performance by repairing the subject matter, delivering the substitute or delivering the replenishment; provided, however, that the seller may cure the non-conformity of performance by a method that is different from the method demanded by the buyer if it does not impose any undue burden on the buyer.\\n(2) If the non-conformity referred to in the preceding paragraph is due to grounds attributable to the buyer, the buyer may not demand that the seller cure the non-conformity of performance under the provisions of that paragraph.',\n",
       "  'content': 'Assume that the quality of movable X, which was delivered by the seller B to the buyer A based on a contract for sale, does not conform to the terms of the contract. Even if B receives a demand from A to repair X, B may cure the non-conformity of performance by delivering a substitute, if it does not impose any undue burden on A.',\n",
       "  'index': 'R05-25-A',\n",
       "  'label': 'Y',\n",
       "  'rewrite': 'Article 562\\nIf the subject matter delivered to the buyer does not conform to the terms of the contract with respect to the kind, quality or quantity, the buyer may demand that the seller cure the non-conformity of performance by repairing the subject matter, delivering the substitute or delivering the replenishment; However that the seller may cure the non-conformity of performance by a method that is different from the method demanded by the buyer if it does not impose any undue burden on the buyer.\\nIf the non-conformity referred to in the preceding paragraph is due to grounds attributable to the buyer the buyer may not demand that the seller cure the non-conformity of performance under the provisions of that paragraph.'},\n",
       " {'result': 'Article 563 (1) In the case prescribed in the main clause of paragraph (1) of the preceding Article, if the buyer demands that the seller cure the non-conformity of performance by specifying a reasonable period of time but the non-conformity of performance is not cured within that period, the buyer may request a reduction of the price in proportion to the degree of non-conformity.\\n(2) Notwithstanding the provisions of the preceding paragraph, in the following cases, a buyer in good faith may request a reduction of the price immediately without making demand referred to in that paragraph:\\n(i) if it is impossible to cure the non-conformity of performance;\\n(ii) if the seller unequivocally manifests the intention to refuse to cure the non-conformity of performance;\\n(iii) if, due to the nature of the contract or a manifestation of intention by the parties, the purpose of the contract is unable to be achieved unless the performance is carried out at a specific time on a specific date or within a certain period of time, and the seller fails to cure the non-conformity of the performance at the time or before the period expires; or\\n(iv) beyond the cases set forth in the preceding items, it is obvious that the seller is unlikely to cure the non-conformity of the performance even if the buyer makes the demand referred to in the preceding paragraph.\\n(3)If the non-conformity referred to in paragraph (1) is due to grounds attributable to the buyer, the buyer may not request a reduction of the price under the provisions of the preceding two paragraphs.\\nArticle 562 (1) If the subject matter delivered to the buyer does not conform to the terms of the contract with respect to the kind, quality or quantity, the buyer may demand that the seller cure the non-conformity of performance by repairing the subject matter, delivering the substitute or delivering the replenishment; provided, however, that the seller may cure the non-conformity of performance by a method that is different from the method demanded by the buyer if it does not impose any undue burden on the buyer.\\n(2) If the non-conformity referred to in the preceding paragraph is due to grounds attributable to the buyer, the buyer may not demand that the seller cure the non-conformity of performance under the provisions of that paragraph.',\n",
       "  'content': \"Assume that the quality of movable X, which was delivered from the seller B to the buyer A based on a contract for sale, does not conform to the terms of the contract. If A's demand that B cure the non-conformity of performance is precluded because the non-conformity is impossible to cure, A may not demand that B reduce the price.\",\n",
       "  'index': 'R05-25-I',\n",
       "  'label': 'N',\n",
       "  'rewrite': 'Article 563\\nif the buyer demands that the seller cure the non-conformity of performance by specifying a reasonable period of time but the non-conformity of performance is not cured within that period the buyer may request a reduction of the price in proportion to the degree of non-conformity\\nThe if clause in this sentence introduces conditions that must be met in order for the buyer to request a reduction of the price immediately without making a demand referred to in the preceding paragraph. The conclusion is the result or action that can be taken if the conditions stated in the if clause are met. In this sentence, the conclusion is that the buyer may request a reduction of the price immediately without making a demand. The addition in this sentence is the inclusion of multiple cases or conditions that qualify for the conclusion to be valid. These cases are listed as (i), (ii), (iii), and (iv) and provide additional circumstances under which the buyer can request a reduction of the price. The exception in this sentence is the inclusion of the phrase beyond the cases set forth in the preceding items. This indicates that there may be additional cases or circumstances not mentioned in (i), (ii), (iii), and (iv) where the buyer can also request a reduction of the price without making a demand.\\nIf the non-conformity referred to in paragraph (1) is due to grounds attributable to the buyer the buyer may not request a reduction of the price under the provisions of the preceding two paragraphs.\\nArticle 562\\nIf the subject matter delivered to the buyer does not conform to the terms of the contract with respect to the kind, quality or quantity, the buyer may demand that the seller cure the non-conformity of performance by repairing the subject matter, delivering the substitute or delivering the replenishment; However that the seller may cure the non-conformity of performance by a method that is different from the method demanded by the buyer if it does not impose any undue burden on the buyer.\\nIf the non-conformity referred to in the preceding paragraph is due to grounds attributable to the buyer the buyer may not demand that the seller cure the non-conformity of performance under the provisions of that paragraph.'},\n",
       " {'result': 'Article 562 (1) If the subject matter delivered to the buyer does not conform to the terms of the contract with respect to the kind, quality or quantity, the buyer may demand that the seller cure the non-conformity of performance by repairing the subject matter, delivering the substitute or delivering the replenishment; provided, however, that the seller may cure the non-conformity of performance by a method that is different from the method demanded by the buyer if it does not impose any undue burden on the buyer.\\n(2) If the non-conformity referred to in the preceding paragraph is due to grounds attributable to the buyer, the buyer may not demand that the seller cure the non-conformity of performance under the provisions of that paragraph.',\n",
       "  'content': 'Assume that the quality of movable X, which was delivered by the seller B to the buyer A based on a contract for sale, does not conform to the terms of the contract. If the non-conformity is due to grounds attributable to A, A may not request B to either repair X or reduce the price.',\n",
       "  'index': 'R05-25-U',\n",
       "  'label': 'Y',\n",
       "  'rewrite': 'Article 562\\nIf the subject matter delivered to the buyer does not conform to the terms of the contract with respect to the kind, quality or quantity, the buyer may demand that the seller cure the non-conformity of performance by repairing the subject matter, delivering the substitute or delivering the replenishment; However that the seller may cure the non-conformity of performance by a method that is different from the method demanded by the buyer if it does not impose any undue burden on the buyer.\\nIf the non-conformity referred to in the preceding paragraph is due to grounds attributable to the buyer the buyer may not demand that the seller cure the non-conformity of performance under the provisions of that paragraph.'},\n",
       " {'result': 'Article 563 (1) In the case prescribed in the main clause of paragraph (1) of the preceding Article, if the buyer demands that the seller cure the non-conformity of performance by specifying a reasonable period of time but the non-conformity of performance is not cured within that period, the buyer may request a reduction of the price in proportion to the degree of non-conformity.\\n(2) Notwithstanding the provisions of the preceding paragraph, in the following cases, a buyer in good faith may request a reduction of the price immediately without making demand referred to in that paragraph:\\n(i) if it is impossible to cure the non-conformity of performance;\\n(ii) if the seller unequivocally manifests the intention to refuse to cure the non-conformity of performance;\\n(iii) if, due to the nature of the contract or a manifestation of intention by the parties, the purpose of the contract is unable to be achieved unless the performance is carried out at a specific time on a specific date or within a certain period of time, and the seller fails to cure the non-conformity of the performance at the time or before the period expires; or\\n(iv) beyond the cases set forth in the preceding items, it is obvious that the seller is unlikely to cure the non-conformity of the performance even if the buyer makes the demand referred to in the preceding paragraph.\\n(3)If the non-conformity referred to in paragraph (1) is due to grounds attributable to the buyer, the buyer may not request a reduction of the price under the provisions of the preceding two paragraphs.\\nArticle 562 (1) If the subject matter delivered to the buyer does not conform to the terms of the contract with respect to the kind, quality or quantity, the buyer may demand that the seller cure the non-conformity of performance by repairing the subject matter, delivering the substitute or delivering the replenishment; provided, however, that the seller may cure the non-conformity of performance by a method that is different from the method demanded by the buyer if it does not impose any undue burden on the buyer.\\n(2) If the non-conformity referred to in the preceding paragraph is due to grounds attributable to the buyer, the buyer may not demand that the seller cure the non-conformity of performance under the provisions of that paragraph.',\n",
       "  'content': 'Assume that the quality of movable X, which was delivered from the seller B to the buyer A based on a contract for sale, does not conform to the terms of the contract. If the non-conformity is due to grounds not attributable to either of A or B, A may not request B to reduce the price.',\n",
       "  'index': 'R05-25-E',\n",
       "  'label': 'N',\n",
       "  'rewrite': 'Article 563\\nif the buyer demands that the seller cure the non-conformity of performance by specifying a reasonable period of time but the non-conformity of performance is not cured within that period the buyer may request a reduction of the price in proportion to the degree of non-conformity\\nThe if clause in this sentence introduces conditions that must be met in order for the buyer to request a reduction of the price immediately without making a demand referred to in the preceding paragraph. The conclusion is the result or action that can be taken if the conditions stated in the if clause are met. In this sentence, the conclusion is that the buyer may request a reduction of the price immediately without making a demand. The addition in this sentence is the inclusion of multiple cases or conditions that qualify for the conclusion to be valid. These cases are listed as (i), (ii), (iii), and (iv) and provide additional circumstances under which the buyer can request a reduction of the price. The exception in this sentence is the inclusion of the phrase beyond the cases set forth in the preceding items. This indicates that there may be additional cases or circumstances not mentioned in (i), (ii), (iii), and (iv) where the buyer can also request a reduction of the price without making a demand.\\nIf the non-conformity referred to in paragraph (1) is due to grounds attributable to the buyer the buyer may not request a reduction of the price under the provisions of the preceding two paragraphs.\\nArticle 562\\nIf the subject matter delivered to the buyer does not conform to the terms of the contract with respect to the kind, quality or quantity, the buyer may demand that the seller cure the non-conformity of performance by repairing the subject matter, delivering the substitute or delivering the replenishment; However that the seller may cure the non-conformity of performance by a method that is different from the method demanded by the buyer if it does not impose any undue burden on the buyer.\\nIf the non-conformity referred to in the preceding paragraph is due to grounds attributable to the buyer the buyer may not demand that the seller cure the non-conformity of performance under the provisions of that paragraph.'},\n",
       " {'result': 'Article 566 If the subject matter delivered by the seller to the buyer does not conform to the terms of the contract with respect to the kind or quality, and the buyer fails to notify the seller of the non-conformity within one year from the time when the buyer becomes aware of it, the buyer may not demand cure of the non-conformity of performance, demand a reduction of the price, claim compensation for loss or damage, or cancel the contract, on the grounds of the non-conformity; provided, however, that this does not apply if the seller knew or did not know due to gross negligence the non-conformity at the time of the delivery.',\n",
       "  'content': 'Assume that the quality of movable X delivered from the seller B to the buyer A based on a contract for sale does not conform to the terms of the contract. If B did not know of the non-conformity without negligence at the time of delivery and A failed to notify B of the non-conformity within the statutory period from the time when A became aware of it, then A may not demand B to compensate for damages.',\n",
       "  'index': 'R05-25-O',\n",
       "  'label': 'Y',\n",
       "  'rewrite': 'Article 566\\nIf the subject matter delivered by the seller to the buyer does not conform to the terms of the contract with respect to the kind or quality, and the buyer fails to notify the seller of the non-conformity within one year from the time when the buyer becomes aware of it. the buyer may not demand cure of the non-conformity of performance, demand a reduction of the price, claim compensation for loss or damage, or cancel the contract, on the grounds of the non-conformity. However that this does not apply if the seller knew or did not know due to gross negligence the non-conformity at the time of the delivery.'},\n",
       " {'result': 'Article 633 Remuneration must be paid simultaneously with delivery of the subject matter of work performed; provided, however, that if no delivery of a thing is required, the provisions of Article 624, paragraph (1) apply mutatis mutandis.',\n",
       "  'content': 'A contractor who is contracted to construct a building may not demand remuneration until after the completed building has been delivered to the party ordering the work.',\n",
       "  'index': 'R05-26-A',\n",
       "  'label': 'N',\n",
       "  'rewrite': 'Article 633\\nif no delivery of a thing is required the provisions of Article 624, paragraph (1) apply mutatis mutandis provided, however'},\n",
       " {'result': 'Article 634 In the following cases, if the party ordering work receives any benefit from the performance of any divisible portion of the outcome of the work that the contractor has already completed, that portion is deemed to be the completed work; in this case, the contractor may demand remuneration in proportion to the benefit to be received by the party ordering work:\\n(i) if the contractor is no longer able to complete the work due to any grounds not attributable to the party ordering work; or\\n(ii) if the contract for work is cancelled before the completion of work.',\n",
       "  'content': 'If the contractor has become unable to complete the work for grounds attributable to the party ordering the work, the party ordering the work may not refuse to pay the remuneration.',\n",
       "  'index': 'R05-26-I',\n",
       "  'label': 'Y',\n",
       "  'rewrite': 'Article 634\\n(i) if the contractor is no longer able to complete the work due to any grounds not attributable to the party ordering work; or (ii) if the contract for work is cancelled before the completion of work. the contractor may demand remuneration in proportion to the benefit to be received by the party ordering work. In the following cases, if the party ordering work receives any benefit from the performance of any divisible portion of the outcome of the work that the contractor has already completed, that portion is deemed to be the completed work.'},\n",
       " {'result': 'Article 648 (1) In the absence of any special agreements, the mandatary may not claim remuneration from the mandator.\\n(2) If a mandatary is to receive remuneration, the mandatary may not claim this until after having performed the mandated business; provided, however, that if the remuneration is specified with reference to period, the provisions of Article 624, paragraph (2) apply mutatis mutandis.\\n(3) In the following cases, the mandatary may demand remuneration in proportion to the performance already completed:\\n(i) if the mandatary is no longer able to perform the mandated business due to any grounds not attributable to the mandator; or\\n(ii) if the mandate is terminated during the course of performance.',\n",
       "  'content': 'If the mandatary is to receive remuneration after the performance of the mandated business, and the mandate is terminated in the middle of the performance, the mandatary may claim remuneration in proportion to the obligation already performed.',\n",
       "  'index': 'R05-26-U',\n",
       "  'label': 'Y',\n",
       "  'rewrite': 'Article 648\\nIn the absence of any special agreements the mandatary may not claim remuneration from the mandator.\\nIf a mandatary is to receive remuneration the mandatary may not claim this until after having performed the mandated business However that if the remuneration is specified with reference to period the provisions of Article 624, paragraph (2) apply mutatis mutandis\\n(i) if the mandatary is no longer able to perform the mandated business due to any grounds not attributable to the mandator; or (ii) if the mandate is terminated during the course of performance. the mandatary may demand remuneration in proportion to the performance already completed. In the following cases'},\n",
       " {'result': 'Article 665 The provisions of Articles 646 through 648, Article 649, and Article 650, paragraphs (1) and (2) apply mutatis mutandis to bailments.\\nArticle 648 (1) In the absence of any special agreements, the mandatary may not claim remuneration from the mandator.\\n(2) If a mandatary is to receive remuneration, the mandatary may not claim this until after having performed the mandated business; provided, however, that if the remuneration is specified with reference to period, the provisions of Article 624, paragraph (2) apply mutatis mutandis.\\n(3) In the following cases, the mandatary may demand remuneration in proportion to the performance already completed:\\n(i) if the mandatary is no longer able to perform the mandated business due to any grounds not attributable to the mandator; or\\n(ii) if the mandate is terminated during the course of performance.',\n",
       "  'content': 'The bailee may demand remuneration without a special agreement.',\n",
       "  'index': 'R05-26-E',\n",
       "  'label': 'N',\n",
       "  'rewrite': 'Article 665\\nThe provisions of Articles 646 through 648, Article 649, and Article 650, paragraphs (1) and (2) apply mutatis mutandis to bailments.\\nArticle 648\\nIn the absence of any special agreements the mandatary may not claim remuneration from the mandator.\\nIf a mandatary is to receive remuneration the mandatary may not claim this until after having performed the mandated business However that if the remuneration is specified with reference to period the provisions of Article 624, paragraph (2) apply mutatis mutandis\\n(i) if the mandatary is no longer able to perform the mandated business due to any grounds not attributable to the mandator; or (ii) if the mandate is terminated during the course of performance. the mandatary may demand remuneration in proportion to the performance already completed. In the following cases'},\n",
       " {'result': 'Article 671 The provisions of Articles 646 through 650 apply mutatis mutandis to partners who decide or execute the business of a partnership.\\nArticle 648 (1) In the absence of any special agreements, the mandatary may not claim remuneration from the mandator.\\n(2) If a mandatary is to receive remuneration, the mandatary may not claim this until after having performed the mandated business; provided, however, that if the remuneration is specified with reference to period, the provisions of Article 624, paragraph (2) apply mutatis mutandis.\\n(3) In the following cases, the mandatary may demand remuneration in proportion to the performance already completed:\\n(i) if the mandatary is no longer able to perform the mandated business due to any grounds not attributable to the mandator; or\\n(ii) if the mandate is terminated during the course of performance.',\n",
       "  'content': 'The partners who execute business in a partnership under the Civil Code may not demand remuneration, unless there is a special agreement.',\n",
       "  'index': 'R05-26-O',\n",
       "  'label': 'Y',\n",
       "  'rewrite': 'Article 671\\nThe provisions of Articles 646 through 650 apply mutatis mutandis to partners who decide or execute the business of a partnership.\\nArticle 648\\nIn the absence of any special agreements the mandatary may not claim remuneration from the mandator.\\nIf a mandatary is to receive remuneration the mandatary may not claim this until after having performed the mandated business However that if the remuneration is specified with reference to period the provisions of Article 624, paragraph (2) apply mutatis mutandis\\n(i) if the mandatary is no longer able to perform the mandated business due to any grounds not attributable to the mandator; or (ii) if the mandate is terminated during the course of performance. the mandatary may demand remuneration in proportion to the performance already completed. In the following cases'},\n",
       " {'result': 'Article 587-2 (1) Notwithstanding the provisions of the preceding Article, a loan for consumption made in writing becomes effective when a first party promises to deliver money or any other thing and a second party promises to return a thing of the same type, quality, and quantity as the thing delivered.\\n(2) The borrower of a loan for consumption made in writing may cancel the contract until the borrower receives the money or other thing from the lender. In such a case, if the lender sustains any damage from the cancellation of the contract, the lender may claim compensation therefor.\\n(3) A loan for consumption made in writing ceases to be effective if either of the parties receives an order commencing bankruptcy proceedings before the borrower receives the thing such as money from the lender.\\n(4) If a loan for consumption is made by means of an electronic or magnetic record in which its content is recorded, the loan for consumption is deemed to have been made in writing, and the provisions of the preceding three paragraphs apply thereto.',\n",
       "  'content': 'Assume that A leases movable X owned by A to B. If the lease is not in writing, A may cancel the contract until B receives delivery of X.',\n",
       "  'index': 'R05-27-A',\n",
       "  'label': 'N',\n",
       "  'rewrite': 'Article 587-2\\nNotwithstanding the provisions of the preceding Article - This phrase sets the condition for the following clause, indicating that the information that follows will override or go against what was stated in the previous article. a loan for consumption made in writing becomes effective - This is the main conclusion of the sentence, stating that a written loan for consumption becomes effective. when a first party promises to deliver money or any other thing and a second party promises to return a thing of the same type, quality, and quantity as the thing delivered - This part adds additional information to explain when the loan becomes effective. It states that the loan becomes effective when the first party promises to deliver money or any other thing, and the second party promises to return a thing of the same type, quality, and quantity as the thing delivered. There is no explicit exception mentioned in this sentence.\\nif the lender sustains any damage from the cancellation of the contract the lender may claim compensation therefor\\nif either of the parties receives an order commencing bankruptcy proceedings before the borrower receives the thing such as money from the lender. A loan for consumption made in writing ceases to be effective.\\nIf a loan for consumption is made by means of an electronic or magnetic record in which its content is recorded the loan for consumption is deemed to have been made in writing the provisions of the preceding three paragraphs apply thereto'},\n",
       " {'result': 'Article 617 (1) If the parties do not specify the term of a lease, either party may give a notice of termination at any time. In such cases, a lease as set forth in one of the following items terminates when the term prescribed in that item has passed after the day of the notice of termination:\\n(i) leases of land: one year;\\n(ii) leases of buildings: three months; and\\n(iii) leases of movables and party room: one day.\\n(2) With respect to leases of land with harvest seasons, the notice of termination must be given after the end of that season and before the next start of cultivation.',\n",
       "  'content': 'Assume that A has leased movable X owned by A to B. If the term of the lease was not specified, the lease terminates immediately when A gives a notice of termination.',\n",
       "  'index': 'R05-27-I',\n",
       "  'label': 'N',\n",
       "  'rewrite': 'Article 617\\nIf the parties do not specify the term of a lease either party may give a notice of termination at any time In such cases, a lease as set forth in one of the following items terminates when the term prescribed in that item has passed after the day of the notice of termination\\nThe condition in this sentence is With respect to leases of land with harvest seasons. This sets the context for the rest of the sentence and indicates that the following information applies specifically to leases of land with harvest seasons. The conclusion in this sentence is the notice of termination must be given after the end of that season and before the next start of cultivation. This is the main point or action that is being stated as a result of the condition. It specifies when the notice of termination should be given for leases of land with harvest seasons. There is no explicit addition in this sentence. It is a straightforward statement of the condition and conclusion. There is no exception mentioned in this sentence. It simply states the general rule for giving notice of termination for leases of land with harvest seasons.'},\n",
       " {'result': 'Article 618 Even if the parties specify the term of a lease, the provisions of the preceding Article apply mutatis mutandis if one party reserves, or both parties reserve, the right to terminate during that period.\\nArticle 617 (1) If the parties do not specify the term of a lease, either party may give a notice of termination at any time. In such cases, a lease as set forth in one of the following items terminates when the term prescribed in that item has passed after the day of the notice of termination:\\n(i) leases of land: one year;\\n(ii) leases of buildings: three months; and\\n(iii) leases of movables and party room: one day.\\n(2) With respect to leases of land with harvest seasons, the notice of termination must be given after the end of that season and before the next start of cultivation.',\n",
       "  'content': 'Assume that A has leased movable X owned by A to B. If the term of the lease is specified and it is agreed that A reserves the right to terminate during the term, A may give a notice of termination at any time.',\n",
       "  'index': 'R05-27-U',\n",
       "  'label': 'Y',\n",
       "  'rewrite': 'Article 618\\nEven if the parties specify the term of a lease the provisions of the preceding Article apply mutatis mutandis if one party reserves, or both parties reserve, the right to terminate during that period.\\nArticle 617\\nIf the parties do not specify the term of a lease either party may give a notice of termination at any time In such cases, a lease as set forth in one of the following items terminates when the term prescribed in that item has passed after the day of the notice of termination\\nThe condition in this sentence is With respect to leases of land with harvest seasons. This sets the context for the rest of the sentence and indicates that the following information applies specifically to leases of land with harvest seasons. The conclusion in this sentence is the notice of termination must be given after the end of that season and before the next start of cultivation. This is the main point or action that is being stated as a result of the condition. It specifies when the notice of termination should be given for leases of land with harvest seasons. There is no explicit addition in this sentence. It is a straightforward statement of the condition and conclusion. There is no exception mentioned in this sentence. It simply states the general rule for giving notice of termination for leases of land with harvest seasons.'},\n",
       " {'result': 'Article 619 (1) If a lessee continues to make use or take the profits of the thing after the expiration of the term of the lease and a lessor that knows of the same raises no objection, it is presumed that a further lease is entered into under conditions identical to those of the previous lease. In such cases, each party may give a notice of termination pursuant to the provisions of Article 617.\\n(2) If one of the parties has provided security for the previous lease, the security is extinguished upon expiration of the term; provided, however, that this does not apply to a security deposit prescribed in Article 622-2, paragraph (1).',\n",
       "  'content': 'Assume that A leases movable X owned by A to B. If B continues to make use of X after the expiration of the term of the lease, it is presumed that the lease has been renewed.',\n",
       "  'index': 'R05-27-E',\n",
       "  'label': 'N',\n",
       "  'rewrite': 'Article 619\\nIf a lessee continues to make use or take the profits of the thing after the expiration of the term of the lease and a lessor that knows of the same raises no objection, it is presumed that a further lease is entered into under conditions identical to those of the previous lease. In such cases, each party may give a notice of termination pursuant to the provisions of Article 617.\\nIf one of the parties has provided security for the previous lease the security is extinguished upon expiration of the term However that this does not apply to a security deposit prescribed in Article 622-2, paragraph (1)'},\n",
       " {'result': 'Article 645 A mandatary must, if so requested by the mandator, report the current status of the administration of the mandated business at any time, and must report the process and results without delay upon termination of the mandate.',\n",
       "  'content': 'A mandatary must report the process and results of the administration of the mandated business without delay upon termination of the mandate.',\n",
       "  'index': 'R05-28-A',\n",
       "  'label': 'Y',\n",
       "  'rewrite': 'Article 645\\nif so requested by the mandator report the current status of the administration of the mandated business at any time and must report the process and results without delay upon termination of the mandate'},\n",
       " {'result': \"Article 646 (1) A mandatary must deliver to the mandator monies and other things received during the course of administering the mandated business. The same applies to fruits the mandatary has reaped.\\n(2) A mandatary must transfer to the mandator rights that the mandatary has acquired in the mandatary's own name on behalf of the mandator.\",\n",
       "  'content': 'The mandatary is not obligated to deliver to the mandator civil fruits reaped during the course of administering the mandated business.',\n",
       "  'index': 'R05-28-I',\n",
       "  'label': 'N',\n",
       "  'rewrite': \"Article 646\\nThe condition in this sentence is if clause which is implied. It can be understood as if a mandatary has received monies and other things during the course of administering the mandated business. The conclusion is A mandatary must deliver to the mandator monies and other things received during the course of administering the mandated business. The addition in this sentence is The same applies to fruits the mandatary has reaped. It adds to the previous statement and states that the same rule applies to any fruits that the mandatary has obtained. There is no exception mentioned in this sentence.\\nA mandatary must transfer to the mandator rights that the mandatary has acquired in the mandatary's own name on behalf of the mandator.\"},\n",
       " {'result': 'Article 644 A mandatary bears a duty to administer the mandated business with the due care of a prudent manager in compliance with the main purport of the mandate.',\n",
       "  'content': 'Even under a gratuitous mandate contract, the mandatary must administer the mandated business with the due care of a prudent manager in compliance with the main purport of the mandate.',\n",
       "  'index': 'R05-28-U',\n",
       "  'label': 'Y',\n",
       "  'rewrite': 'Article 644\\nThe condition in this sentence is implied and can be understood as if someone is a mandatary. The conclusion is bears a duty to administer the mandated business with the due care of a prudent manager in compliance with the main purport of the mandate. There is no explicit addition in this sentence. There is no explicit exception in this sentence.'},\n",
       " {'result': 'Article 654 If a mandate has terminated but there are pressing circumstances, the mandatary or the heir or legal representative thereof must effect the necessary actions until the time when the mandator or the heir or legal representative of the mandatary is able to take charge of the mandated business.',\n",
       "  'content': 'Even if the mandate contract has terminated due to the death of the mandator, if there are pressing circumstances, the mandatary must effect the necessary actions until the time when the heir of the mandator is able to take charge of the mandated business.',\n",
       "  'index': 'R05-28-E',\n",
       "  'label': 'Y',\n",
       "  'rewrite': 'Article 654\\nIf a mandate has terminated but there are pressing circumstances the mandatary or the heir or legal representative thereof must effect the necessary actions until the time when the mandator or the heir or legal representative of the mandatary is able to take charge of the mandated business.'},\n",
       " {'result': 'Article 651 (1) A mandate may be cancelled by either party at any time.\\n(2) In the following cases, a party that has cancelled a mandate pursuant to the provisions of the preceding paragraph must compensate for damage suffered by the other party; provided, however, that this does not apply if there was a compelling reason for the cancellation:\\n(i) if the party cancels the mandate at a time that is detrimental to the other party; or\\n(ii) if the mandator cancels the mandate for which the purpose includes the interests for the mandatary (excluding the profit to be obtained exclusively by receiving remuneration).',\n",
       "  'content': 'In a mandate contract for which the purpose is not only the benefit of the mandator but also that of the mandatary, the mandator may not cancel the contract without a compelling reason.',\n",
       "  'index': 'R05-28-O',\n",
       "  'label': 'N',\n",
       "  'rewrite': 'Article 651\\nA mandate may be cancelled by either party at any time\\nif there was a compelling reason for the cancellation a party that has cancelled a mandate must compensate for damage suffered by the other party (i) if the party cancels the mandate at a time that is detrimental to the other party; or (ii) if the mandator cancels the mandate for which the purpose includes the interests for the mandatary (excluding the profit to be obtained exclusively by receiving remuneration) this does not apply if there was a compelling reason for the cancellation'},\n",
       " {'result': 'Article 708 A person that has paid money or delivered thing for an obligation for an illegal cause may not demand the return of the money paid or thing delivered; provided, however, that this does not apply if the illegal cause existed solely in relation to the Beneficiary.',\n",
       "  'content': 'A person that has paid money or delivered thing for an obligation for an illegal cause may not demand the return of the money paid or thing delivered, even if the illegal cause existed solely in relation to the beneficiary.',\n",
       "  'index': 'R05-29-E',\n",
       "  'label': 'N',\n",
       "  'rewrite': 'Article 708\\nA person that has paid money or delivered thing for an obligation for an illegal cause may not demand the return of the money paid or thing delivered However that this does not apply if the illegal cause existed solely in relation to the Beneficiary. However that this does not apply if the illegal cause existed solely in relation to the Beneficiary.'},\n",
       " {'result': \"Article 715 (1) A person that employs another person for a business undertaking is liable to compensate for damage inflicted on a third party by that person's employees with respect to the execution of that business; provided, however, that this does not apply if the employer exercised reasonable care in appointing the employee or in supervising the business, or if the damage could not have been avoided even if the employer had exercised reasonable care.\\n(2) A person that supervises a business on behalf of the employer also has the liability referred to in the preceding paragraph.\\n(3) The provisions of the preceding two paragraphs do not preclude the employer or supervisor from exercising their right to reimbursement against the employee.\",\n",
       "  'content': \"If an employee has inflicted damage to a third party with respect to the execution of the employer's business, and the employee has compensated the third party for such damage, the employee may not exercise the right of reimbursement against the employer.\",\n",
       "  'index': 'R05-30-U',\n",
       "  'label': 'N',\n",
       "  'rewrite': \"Article 715\\nHowever that this does not apply if the employer exercised reasonable care in appointing the employee or in supervising the business, or if the damage could not have been avoided even if the employer had exercised reasonable care. A person that employs another person for a business undertaking is liable to compensate for damage inflicted on a third party by that person's employees with respect to the execution of that business.\\nA person that supervises a business on behalf of the employer also has the liability referred to in the preceding paragraph.\\nThe provisions of the preceding two paragraphs do not preclude the employer or supervisor from exercising their right to reimbursement against the employee. The employer or supervisor can exercise their right to reimbursement against the employee. The provisions of the preceding two paragraphs do not prevent the employer or supervisor from exercising their right to reimbursement against the employee.\"},\n",
       " {'result': 'Article 717 (1) If a defect in the installation or preservation of a structure on land causes damage to another person, the possessor of that structure is liable to the person incurring damage to compensate for the damage; provided, however, that if the possessor has exercised the necessary care to prevent the damage, the owner must compensate for the damage.\\n(2) The provisions of the preceding paragraph apply mutatis mutandis if there is a defect in the planting or supporting of bamboo or trees.\\n(3) In the cases referred to in the preceding two paragraphs, if there is another person that is liable for the cause of the damage, the possessor or owner may exercise their right to reimbursement against that person.',\n",
       "  'content': 'In the case where damage is caused to another due to a defect in the installation or preservation of a structure on land, if the possessor of the structure has exercised the necessary care to prevent the damage, the owner of the structure is liable to compensate for the damage.',\n",
       "  'index': 'R05-30-E',\n",
       "  'label': 'Y',\n",
       "  'rewrite': 'Article 717\\nIf a defect in the installation or preservation of a structure on land causes damage to another person. the possessor of that structure is liable to the person incurring damage to compensate for the damage. However that if the possessor has exercised the necessary care to prevent the damage. the owner must compensate for the damage.\\nif there is a defect in the planting or supporting of bamboo or trees. The provisions of the preceding paragraph apply mutatis mutandis.\\nif there is another person that is liable for the cause of the damage the possessor or owner may exercise their right to reimbursement against that person'},\n",
       " {'result': \"Article 107 If an agent performs an act that falls within the scope of that agent's authority to represent for the purpose of benefiting the agent's own interests or the interests of a third party, and the other party knew of or could have ascertained that purpose, that act is deemed to be an act performed by a person without authority to represent.\",\n",
       "  'content': \"In the case where an agent performs an act that falls within the scope of such agent's authority to represent for the purpose of benefiting the agent’s own interest, such act is deemed to be an act performed by a person without authority to represent, only if the other party knew, or did not know due to gross negligence, of the purpose.\",\n",
       "  'index': 'R05-36-A',\n",
       "  'label': 'N',\n",
       "  'rewrite': \"Article 107\\nIf an agent performs an act that falls within the scope of that agent's authority to represent for the purpose of benefiting the agent's own interests or the interests of a third party. That act is deemed to be an act performed by a person without authority to represent. and the other party knew of or could have ascertained that purpose.\"},\n",
       " {'result': 'Article 466-4 (1) The provisions of Article 466, paragraph (3) do not apply to an attaching obligee that has enforced compulsory execution against a claim that is subject to the manifestation of intention to restrict assignment.\\n(2)Notwithstanding the provisions of the preceding paragraph, if a third party such as the assignee knew or did not know due to gross negligence that the manifestation of intention to restrict assignment was made, and the obligee of the assignee or other third party enforces compulsory execution against the claim referred to in that paragraph, the obligor may refuse to perform the obligation and duly assert against an attaching obligee any event that results in extinguishing the obligation such as payment to the assignor.\\nArticle 466 (1) A claim may be assigned; provided, however, that this does not apply if its nature does not permit the assignment.\\n(2) Even if a party to a claim manifests the intention to prohibit or restrict the assignment of the claim (hereinafter referred to as the \"manifestation of intention to restrict assignment\"), the validity of the assignment of the claim is not impaired.\\n(3) In the case prescribed in the preceding paragraph, the obligor may refuse to perform the obligation to a third party such as the assignee that knew or did not know due to gross negligence that the manifestation of intention to restrict assignment was made, and may duly assert against such third party any event that results in extinguishment of the obligation such as payment to the assignor.\\n(4) The provisions of the preceding paragraph do not apply if the obligor does not perform the obligation, and the third party prescribed in that paragraph makes a demand to the obligor for the performance to the assignor by specifying a reasonable period of time, but the obligor does not perform the obligation within that period.',\n",
       "  'content': 'A special agreement to restrict assignment made by the parties with respect to a claim for deposits may not be duly asserted against an attaching obligee that has commenced compulsory execution against such claim, even if the obligee knew, or did not know due to gross negligence, of the existence of such special agreement.',\n",
       "  'index': 'R05-36-I',\n",
       "  'label': 'Y',\n",
       "  'rewrite': 'Article 466-4\\nThe provisions of Article 466, paragraph (3) do not apply to an attaching obligee that has enforced compulsory execution against a claim that is subject to the manifestation of intention to restrict assignment. The provisions of Article 466, paragraph (3) do not apply to the attaching obligee. The claim that the attaching obligee has enforced compulsory execution against is subject to the manifestation of intention to restrict assignment.\\nif a third party such as the assignee knew or did not know due to gross negligence that the manifestation of intention to restrict assignment was made the obligor may refuse to perform the obligation and duly assert against an attaching obligee any event that results in extinguishing the obligation such as payment to the assignor Notwithstanding the provisions of the preceding paragraph\\nArticle 466\\nif its nature does not permit the assignment this does not apply may be assigned\\nEven if a party to a claim manifests the intention to prohibit or restrict the assignment of the claim (hereinafter referred to as the manifestation of intention to restrict assignment) the validity of the assignment of the claim is not impaired.\\nsuch as the assignee that knew or did not know due to gross negligence that the manifestation of intention to restrict assignment was made the obligor may refuse to perform the obligation to a third party and may duly assert against such third party any event that results in extinguishment of the obligation such as payment to the assignor\\nThe provisions of the preceding paragraph do not apply if the obligor does not perform the obligation and the third party prescribed in that paragraph makes a demand to the obligor for the performance to the assignor by specifying a reasonable period of time but the obligor does not perform the obligation within that period.'},\n",
       " {'result': 'Article 505 (1) If two persons bear an obligation to each other that has the same kind of purpose and if both obligations are due, each obligor may be relieved from the obligation by setting off the value of that obligation against the corresponding amount of the obligation of the other obligor; provided, however, that this does not apply if the nature of the obligation does not permit such a set-off.\\n(2) Notwithstanding the provisions of the preceding paragraph, if a party manifests the intention to prohibit or restrict a set-off, that manifestation of the intention may be duly asserted against a third party only if the third party knew or did not know due to gross negligence it.',\n",
       "  'content': 'A special agreement to prohibit a set-off made by the parties with respect to a claim may be duly asserted against the assignee of the claim if the assignee knew, or did not know due to gross negligence, of the existence of such special agreement.',\n",
       "  'index': 'R05-36-U',\n",
       "  'label': 'Y',\n",
       "  'rewrite': 'Article 505\\nIf two persons bear an obligation to each other that has the same kind of purpose and if both obligations are due. Each obligor may be relieved from the obligation by setting off the value of that obligation against the corresponding amount of the obligation of the other obligor. Provided, however, that this does not apply if the nature of the obligation does not permit such a set-off.\\nif a party manifests the intention to prohibit or restrict a set-off that manifestation of the intention may be duly asserted against a third party only if the third party knew or did not know due to gross negligence it Notwithstanding the provisions of the preceding paragraph'},\n",
       " {'result': 'Article 705 A person that has paid money or delivered anything as performance of an obligation may not demand the return of the money paid or thing delivered if the person knew, at the time, that the obligation did not exist.',\n",
       "  'content': 'A person that has paid money or delivered anything as performance of an obligation may not demand the return of the money paid or thing delivered if the person knew, or did not know due to gross negligence, that the obligation did not exist at the time the payment or the delivery was made.',\n",
       "  'index': 'R05-36-E',\n",
       "  'label': 'N',\n",
       "  'rewrite': 'Article 705\\nif the person knew, at the time, that the obligation did not exist. may not demand the return of the money paid or thing delivered A person that has paid money or delivered anything as performance of an obligation'},\n",
       " {'result': \"Article 415 (1) If an obligor fails to perform consistent with the purpose of the obligation or the performance of an obligation is impossible, the obligee may claim compensation for loss or damage arising from the failure; provided, however, that this does not apply if the failure to perform the obligation is due to grounds not attributable to the obligor in light of the contract or other sources of obligation and the common sense in the transaction.\\n(2) If the obligee is entitled to claim compensation for loss or damage pursuant to the provisions of the preceding paragraph, and any of the following cases applies, the obligee may claim compensation for loss or damage in lieu of the performance of the obligation:\\n(i) the performance of the obligation is impossible;\\n(ii) the obligor manifests the intention to refuse to perform the obligation; or\\n(iii) the obligation has arisen from a contract, and the contract is cancelled or the obligee acquires the right to cancel the contract on the ground of the obligor's failure to perform the obligation.\",\n",
       "  'content': 'If the lessee has lost the leased thing due to fire caused through negligence, the lessor may not demand compensation for damages unless the lessee has been with gross negligence.',\n",
       "  'index': 'R05-36-O',\n",
       "  'label': 'N',\n",
       "  'rewrite': 'Article 415\\nIf an obligor fails to perform consistent with the purpose of the obligation or the performance of an obligation is impossible the obligee may claim compensation for loss or damage arising from the failure However that this does not apply if the failure to perform the obligation is due to grounds not attributable to the obligor in light of the contract or other sources of obligation and the common sense in the transaction.\\nIf the obligee is entitled to claim compensation for loss or damage pursuant to the provisions of the preceding paragraph the obligee may claim compensation for loss or damage in lieu of the performance of the obligation and any of the following cases applies'}]"
      ]
     },
     "execution_count": 43,
     "metadata": {},
     "output_type": "execute_result"
    }
   ],
   "source": [
    "test_file = \"../data/COLIEE2024statute_data-English/fewshot.json/rewrite/riteval_R05_en.jsonl\"\n",
    "data = load_jsonl(test_file)\n",
    "data"
   ]
  },
  {
   "cell_type": "code",
   "execution_count": 44,
   "id": "949d49b7-db9e-47a0-af61-0bed2cb1030d",
   "metadata": {},
   "outputs": [],
   "source": [
    "template_prompt = \"Document:{{premise}}\\nQuestion: {{hypothesis}}? No or Yes\"\n",
    "# template_prompt = \"{{premise}}\\nQuestion: {{hypothesis}}? \""
   ]
  },
  {
   "cell_type": "code",
   "execution_count": 45,
   "id": "d6108484-c8a1-44d9-9c7b-cca65230d72c",
   "metadata": {},
   "outputs": [],
   "source": [
    "def write_test(data, output_file):\n",
    "    f = open(output_file, \"w\", encoding=\"utf-8\")\n",
    "    for k in data:\n",
    "        f.write(k.strip()+\" \"+data[k]+\" \"+\"CAPTAIN\\n\")"
   ]
  },
  {
   "cell_type": "code",
   "execution_count": 46,
   "id": "25e2d42e-fc5c-4e64-8fcd-6d8295474425",
   "metadata": {
    "scrolled": true
   },
   "outputs": [
    {
     "name": "stderr",
     "output_type": "stream",
     "text": [
      "  2%|██▊                                                                                                                                                        | 2/109 [00:00<00:38,  2.78it/s]"
     ]
    },
    {
     "name": "stdout",
     "output_type": "stream",
     "text": [
      "R05-02-A :  Y  -  N\n",
      "Document:Article 712\n",
      "If a minor has inflicted damage on another person but did not have sufficient intellectual capacity to appreciate their own liability for that act. that minor is not liable to compensate for that act.\n",
      "Question: Mental capacity means the capacity to appreciate one's own liability for one's acts.? No or Yes\n"
     ]
    },
    {
     "name": "stderr",
     "output_type": "stream",
     "text": [
      "  3%|████▎                                                                                                                                                      | 3/109 [00:01<00:36,  2.92it/s]"
     ]
    },
    {
     "name": "stdout",
     "output_type": "stream",
     "text": [
      "R05-02-I :  N  -  Y\n",
      "Document:Article 3-2\n",
      "If the person making a juridical act did not have mental capacity when manifesting the relevant intention. the juridical act is void.\n",
      "Question: If a party to a contract did not have mental capacity when manifesting the relevant intention, the nullity of the contract may be asserted even against a third party in good faith and acting without negligence.? No or Yes\n"
     ]
    },
    {
     "name": "stderr",
     "output_type": "stream",
     "text": [
      "  9%|██████████████▏                                                                                                                                           | 10/109 [00:03<00:33,  2.93it/s]"
     ]
    },
    {
     "name": "stdout",
     "output_type": "stream",
     "text": [
      "R05-03-O :  N  -  Y\n",
      "Document:Article 28\n",
      "If an administrator needs to perform an act exceeding the authority provided for in Article 103 the administrator may perform that act after obtaining the permission of the family court. The same applies if it is unclear whether the absentee is dead or alive and the administrator needs to perform an act exceeding the authority established by the absentee.\n",
      "Question: An administrator for the absentee's property appointed by the family court must obtain the permission of the family court when dividing the estate by agreement with the other heirs on behalf of the absentee who is the heir.? No or Yes\n"
     ]
    },
    {
     "name": "stderr",
     "output_type": "stream",
     "text": [
      " 12%|██████████████████▎                                                                                                                                       | 13/109 [00:04<00:33,  2.89it/s]"
     ]
    },
    {
     "name": "stdout",
     "output_type": "stream",
     "text": [
      "R05-04-U :  N  -  Y\n",
      "Document:Article 102\n",
      "An act that a person with qualified legal capacity performs as an agent of another person may not be rescinded on the grounds of qualified legal capacity However that this does not apply to an act performed by a person with qualified legal capacity as a legal representative of another person with qualified legal capacity. However that this does not apply to an act performed by a person with qualified legal capacity as a legal representative of another person with qualified legal capacity.\n",
      "Question: An act that a person with qualified legal capacity performs as a legal representative of another person with qualified legal capacity may be rescinded on the grounds of qualified legal capacity.? No or Yes\n"
     ]
    },
    {
     "name": "stderr",
     "output_type": "stream",
     "text": [
      " 15%|██████████████████████▌                                                                                                                                   | 16/109 [00:05<00:35,  2.64it/s]"
     ]
    },
    {
     "name": "stdout",
     "output_type": "stream",
     "text": [
      "R05-05-A :  N  -  Y\n",
      "Document:Article 96\n",
      "A manifestation of intention based on fraud or duress is voidable\n",
      "If a third party commits a fraud inducing a first party to make a manifestation of intention to a second party. that manifestation of intention is voidable only if the second party knew or could have known that fact.\n",
      "The rescission of a manifestation of intention induced by fraud under the provisions of the preceding two paragraphs may not be duly asserted against a third party in good faith acting without negligence.\n",
      "Article 121-2\n",
      "A person that has received payment or delivery as the performance of an obligation based on a void act has an obligation to restore the other party to the original state.\n",
      "if a person that receives payment or delivery as the performance of an obligation based on a void gratuitous act did not know that the act was void at the time of receiving the payment or delivery (or if the person did not know that the act was voidable at the time of receiving the payment or delivery in the case of an act which is deemed void ab initio pursuant to the provisions of the preceding Article after the receipt of the payment or delivery) has an obligation to return to the extent currently enriched by the act. Notwithstanding the provisions of the preceding paragraph\n",
      "Notwithstanding the provisions of paragraph (1) a person who has no mental capacity at the time of performing an act has an obligation to return to the extent currently enriched by the act. The same applies to a person who is a person with qualified legal capacity at the time of performing an act.\n",
      "Question: If B, under duress from A, manifests an intention to give 500,000 yen to C, and C, who does not know about the duress, spends the 500,000 yen received from B for entertainment, C has no obligation to return it to B, even if B cancels the manifestation of intention to give it after C's spending.? No or Yes\n"
     ]
    },
    {
     "name": "stderr",
     "output_type": "stream",
     "text": [
      " 16%|████████████████████████                                                                                                                                  | 17/109 [00:06<00:37,  2.47it/s]"
     ]
    },
    {
     "name": "stdout",
     "output_type": "stream",
     "text": [
      "R05-05-I :  Y  -  N\n",
      "Document:Article 20\n",
      "if the person fails to send a definite answer within that period of time the person is deemed to have ratified that act the same applies hereinafter\n",
      "if, before the person with qualified legal capacity becomes a person with the legal capacity to act, the other party to dealings involving the person with qualified legal capacity lodges the demand prescribed in the preceding paragraph with the legal representative, curator, or assistant of that person with respect to an act within the scope of their authority they fail to send a definite answer within the fixed period of time referred to in that paragraph also applies\n",
      "If a person does not send notice within the period of time set forth in the preceding two paragraphs indicating that the person has completed any special formalities that an act requires the person is deemed to have rescinded that act.\n",
      "If the person under curatorship or person under assistance does not send notice within that period indicating that the person has gotten the curator or assistant to ratify the act in question. The person is deemed to have rescinded that act. The other party to dealings involving a person with qualified legal capacity may lodge a demand with a person under curatorship or with a person under assistance who is subject to a decision as referred to in Article 17, paragraph (1) to demand that the person get the curator or assistant to ratify an act within the fixed period referred to in paragraph (1).\n",
      "Question: If A defrauds B and causes B to manifest an intention to give the land X owned by B to A, A may demand, by specifying a reasonable period of time, that B give a definite answer on whether or not B will ratify the manifestation of intention within that period of time.? No or Yes\n"
     ]
    },
    {
     "name": "stderr",
     "output_type": "stream",
     "text": [
      " 20%|███████████████████████████████                                                                                                                           | 22/109 [00:07<00:30,  2.82it/s]"
     ]
    },
    {
     "name": "stdout",
     "output_type": "stream",
     "text": [
      "R05-06-I :  N  -  Y\n",
      "Document:Article 130\n",
      "If a party that would suffer a detriment as a result of the fulfillment of a condition intentionally prevents the fulfillment of that condition the counterparty may deem that the condition has been fulfilled.\n",
      "If a party who would enjoy a benefit as a result of the fulfillment of a condition wrongfully has that condition fulfilled. the counterparty may deem that the condition has not been fulfilled.\n",
      "Question: If a contract of gift of movables with a condition precedent is concluded, and the donor intentionally prevents the fulfillment of the condition in breach of good faith principle, the donee may demand the delivery of the movables.? No or Yes\n"
     ]
    },
    {
     "name": "stderr",
     "output_type": "stream",
     "text": [
      " 21%|████████████████████████████████▍                                                                                                                         | 23/109 [00:08<00:30,  2.84it/s]"
     ]
    },
    {
     "name": "stdout",
     "output_type": "stream",
     "text": [
      "R05-06-E :  Y  -  N\n",
      "Document:Article 128\n",
      "While it is uncertain whether or not a condition will be fulfilled a party to a juridical act that is subject to a condition may not prejudice the other party's interests that would arise from the juridical act upon fulfillment of the condition.\n",
      "Question: If A concludes a gift agreement with B to the effect that A will give movable property Y owned by A to B if B is accepted to University X, and A negligently damages Y while B's acceptance or rejection is uncertain, A is not liable to compensate B for the damage, even if B is accepted to University X.? No or Yes\n"
     ]
    },
    {
     "name": "stderr",
     "output_type": "stream",
     "text": [
      " 28%|███████████████████████████████████████████▊                                                                                                              | 31/109 [00:11<00:27,  2.87it/s]"
     ]
    },
    {
     "name": "stdout",
     "output_type": "stream",
     "text": [
      "R05-09-E :  Y  -  N\n",
      "Document:Article 387\n",
      "A registered lease may be duly asserted against mortgagees that hold mortgages registered prior to the registration of that lease. if all mortgagees that hold those mortgages give their consent and those consents are registered.\n",
      "For a mortgagee to give the consent referred to in the preceding paragraph the approval of the persons that hold rights for which the mortgage is the subject matter and other persons that will suffer detriment as a result of the consent of the mortgagee must be obtained.\n",
      "Question: If a lease of a building has been perfected by delivery, and all the holders of the mortgage registered on the building prior to such delivery have consented to the lease, the lessee may assert the creation of the right of lease against those who have purchased such building by enforcement of the mortgage.? No or Yes\n"
     ]
    },
    {
     "name": "stderr",
     "output_type": "stream",
     "text": [
      " 33%|██████████████████████████████████████████████████▊                                                                                                       | 36/109 [00:12<00:25,  2.90it/s]"
     ]
    },
    {
     "name": "stdout",
     "output_type": "stream",
     "text": [
      "R05-10-E :  N  -  Y\n",
      "Document:Article 200\n",
      "If a possessor is forcibly dispossessed the possessor may demand the restitution of the thing and compensation for loss or damage by filing an action for recovery of possession.\n",
      "An action for recovery of possession may not be filed against a specific successor of a person that forcibly takes possession. That does not apply if that successor had knowledge of the fact that the person has unlawfully taken the possession. provided, however.\n",
      "Question: B, who has stolen movable X owned and possessed by A, sells and delivers X to C, who is in good faith about the fact. In this case, A may not demand C to return X by an action for recovery of possession.? No or Yes\n"
     ]
    },
    {
     "name": "stderr",
     "output_type": "stream",
     "text": [
      " 36%|███████████████████████████████████████████████████████                                                                                                   | 39/109 [00:13<00:23,  3.02it/s]"
     ]
    },
    {
     "name": "stdout",
     "output_type": "stream",
     "text": [
      "R05-11-U :  N  -  Y\n",
      "Document:Article 242\n",
      "However that the rights of the other person that attached that thing by virtue of a title are not prejudiced. The owner of immovables acquires ownership of a thing that has been attached thereto as its appurtenance.\n",
      "Question: A has sown seed owned by A on land owned by B without title. If the seed grows to become a seedling, ownership of the seedling belongs to B.? No or Yes\n"
     ]
    },
    {
     "name": "stderr",
     "output_type": "stream",
     "text": [
      " 39%|████████████████████████████████████████████████████████████▊                                                                                             | 43/109 [00:15<00:22,  2.96it/s]"
     ]
    },
    {
     "name": "stdout",
     "output_type": "stream",
     "text": [
      "R05-12-U :  N  -  Y\n",
      "Document:Article 278\n",
      "Even if an act of establishment provides for a period longer than 50 years the duration is 50 years The duration of a farming right is 20 years or more and 50 years or less\n",
      "The duration of the farming right may not exceed 50 years from the time of renewal. The establishment of farming right may be renewed. The duration of the farming right may be renewed.\n",
      "If an act of establishment does not provide for the duration of the farming right the duration of that right is 30 years unless there are other customs to the contrary\n",
      "Question: A farming right may not be established gratuitously.? No or Yes\n"
     ]
    },
    {
     "name": "stderr",
     "output_type": "stream",
     "text": [
      " 40%|██████████████████████████████████████████████████████████████▏                                                                                           | 44/109 [00:15<00:22,  2.93it/s]"
     ]
    },
    {
     "name": "stdout",
     "output_type": "stream",
     "text": [
      "R05-12-O :  Y  -  N\n",
      "Document:Article 263\n",
      "The condition in this sentence is Rights of common that have the nature of co-ownership. The conclusion in this sentence is are governed by local customs and are otherwise subject to the application of the provisions of this Section. There is no addition in this sentence. There is no exception in this sentence.\n",
      "Article 252-2\n",
      "Question: Unless custom dictates otherwise, the exercise of the right to demand the elimination of obstructions against a person who obstructs the exercise of the right of common shall be made by all the members of the organization of holders of the right of common.? No or Yes\n"
     ]
    },
    {
     "name": "stderr",
     "output_type": "stream",
     "text": [
      " 47%|████████████████████████████████████████████████████████████████████████                                                                                  | 51/109 [00:18<00:23,  2.51it/s]"
     ]
    },
    {
     "name": "stdout",
     "output_type": "stream",
     "text": [
      "R05-14-U :  N  -  Y\n",
      "Document:Article 499\n",
      "A person has performed the obligation for the benefit of the obligor. The person is subrogated to the claim of the obligee.\n",
      "Article 501\n",
      "A person is subrogated to the claim of the obligee pursuant to the provisions of the preceding two Articles. The person may exercise any and all rights possessed by the obligee as the effect of, and as a security for, the claim held by the obligee.\n",
      "The exercise of rights under the provisions of the preceding paragraph is allowed only to the extent that the person that is subrogated to the claim of the obligee is entitled to seek reimbursement from the obligor based on the person's own rights. The person must be entitled to seek reimbursement from the obligor based on their own rights in order to exercise their rights under the provisions of the preceding paragraph. If one of the guarantors is subrogated to the claim of the obligee in relation to other guarantors, they can exercise their rights under the provisions of the preceding paragraph only to the extent that the guarantor is entitled to seek reimbursement from the other guarantors based on that guarantor's own rights.\n",
      "The condition is implied in the sentence and is not explicitly stated. The conclusion is not explicitly stated in the sentence. The sentence states that the following provisions apply in addition to the provisions of the preceding paragraph. The sentence does not mention any exceptions.\n",
      "Question: Assume that A holds a first ranked mortgage on Land X and Land Y as a joint mortgage to secure claim α held by A against B. Land X is owned by B, Land Y is owned by C, and D is the second ranked mortgagee on Land X. In this case, if A executes a mortgage on Land Y only and receives the payment of the entire claim α out of the proceeds, C may exercise A's mortgage on Land X in subrogation to A.? No or Yes\n"
     ]
    },
    {
     "name": "stderr",
     "output_type": "stream",
     "text": [
      " 48%|█████████████████████████████████████████████████████████████████████████▍                                                                                | 52/109 [00:18<00:21,  2.61it/s]"
     ]
    },
    {
     "name": "stdout",
     "output_type": "stream",
     "text": [
      "R05-15-A :  N  -  Y\n",
      "Document:Article 398-6\n",
      "With respect to the principal secured by a revolving mortgage the date when the principal is to be crystallized may be specified or changed\n",
      "The provisions of Article 398-4, paragraph (2) apply mutatis mutandis to the cases referred to in the preceding paragraph.\n",
      "The date under paragraph (1) must be within five years of the day when the date was prescribed or changed. The date must be within five years. The date is under paragraph (1).\n",
      "If registration with respect to a change in the date under paragraph (1) is not effected before the old date. the principal secured is crystallized on that old date.\n",
      "Question: The creation of a revolving mortgage is valid even if the principal crystalization date is not specified.? No or Yes\n"
     ]
    },
    {
     "name": "stderr",
     "output_type": "stream",
     "text": [
      " 53%|█████████████████████████████████████████████████████████████████████████████████▉                                                                        | 58/109 [00:20<00:20,  2.54it/s]"
     ]
    },
    {
     "name": "stdout",
     "output_type": "stream",
     "text": [
      "R05-18-A :  N  -  Y\n",
      "Document:Article 424-3\n",
      "The obligee may make demand for rescission of fraudulent act with respect to an act concerning the provision of a security or extinguishment of an obligation that is committed by the obligor with regard to an existing obligation. Only if the act satisfies all of the following requirements. (i) the act is committed while the obligor is unable to pay debts (meaning the condition in which the obligor, due to lack of ability to pay, is generally and continuously unable to pay debts as they become due; the same applies in item (i) of the following paragraph); and (ii) the act is committed by the obligor in collusion with the beneficiary with the intention to prejudice other obligees.\n",
      "If the act prescribed in the preceding paragraph is not within the scope of the obligor's obligation or the time of the act is not such that is required as the obligor's obligation. the obligee may make demand for rescission of fraudulent act with respect to that act. (i) the act is committed within 30 days before the obligor became unable to pay debts; and (ii) the act is committed by the obligor in collusion with the beneficiary with the intention to prejudice other obligees. notwithstanding the provisions of that paragraph.\n",
      "Question: Assume that A has a claim against B for 20 million yen based on a contract for sale with B, and that B is insolvent and knows that each act would be prejudicial to the obligee. B, who is unable to pay debts, has paid a debt owed to C. In this case, even if C had an intention to prejudice A, A cannot make a demand for rescission of fraudulent act with respect to such payment, unless C was in collusion with B.? No or Yes\n"
     ]
    },
    {
     "name": "stderr",
     "output_type": "stream",
     "text": [
      " 55%|████████████████████████████████████████████████████████████████████████████████████▊                                                                     | 60/109 [00:21<00:21,  2.32it/s]"
     ]
    },
    {
     "name": "stdout",
     "output_type": "stream",
     "text": [
      "R05-18-U :  Y  -  N\n",
      "Document:Article 424\n",
      "However that this does not apply if a person that benefits from that act does not know, at the time of the act, that the obligee will be prejudiced. An obligee may demand the court to rescind an act which the obligor commits knowing that it will prejudice the obligee. An obligee may demand the court to rescind an act which the obligor commits knowing that it will prejudice the obligee. this does not apply if a person that benefits from that act does not know, at the time of the act, that the obligee will be prejudiced.\n",
      "The provisions of the preceding paragraph do not apply to an act with a subject matter other than property rights.\n",
      "The obligee's claim has arisen from a cause that existed before the act prescribed in paragraph (1). The obligee may make the demand under the provisions of paragraph (1) (hereinafter referred to as demand for rescission of fraudulent act). The demand for rescission of fraudulent act is the only condition under which the obligee may make the demand.\n",
      "The obligee's claim is not enforceable by compulsory execution. The obligee may not make demand for rescission of fraudulent act.\n",
      "Question: Assume that A has a claim against B for 20 million yen based on a contract for sale with B and that B is insolvent and knew that each act would prejudice the creditor. B had assigned its claim against E to F prior to the conclusion of the contract for sale with A, but the notice to E using an instrument bearing a certified date on the assignment was given after A's claim against B had arisen. In this case, A may make a demand for rescission of fraudulent act with respect to such notice.? No or Yes\n"
     ]
    },
    {
     "name": "stderr",
     "output_type": "stream",
     "text": [
      " 56%|██████████████████████████████████████████████████████████████████████████████████████▏                                                                   | 61/109 [00:22<00:21,  2.27it/s]"
     ]
    },
    {
     "name": "stdout",
     "output_type": "stream",
     "text": [
      "R05-18-E :  N  -  Y\n",
      "Document:Article 424\n",
      "However that this does not apply if a person that benefits from that act does not know, at the time of the act, that the obligee will be prejudiced. An obligee may demand the court to rescind an act which the obligor commits knowing that it will prejudice the obligee. An obligee may demand the court to rescind an act which the obligor commits knowing that it will prejudice the obligee. this does not apply if a person that benefits from that act does not know, at the time of the act, that the obligee will be prejudiced.\n",
      "The provisions of the preceding paragraph do not apply to an act with a subject matter other than property rights.\n",
      "The obligee's claim has arisen from a cause that existed before the act prescribed in paragraph (1). The obligee may make the demand under the provisions of paragraph (1) (hereinafter referred to as demand for rescission of fraudulent act). The demand for rescission of fraudulent act is the only condition under which the obligee may make the demand.\n",
      "The obligee's claim is not enforceable by compulsory execution. The obligee may not make demand for rescission of fraudulent act.\n",
      "Question: Assume that A has a claim against B for 20 million yen based on a contract for sale with B and that B is insolvent and knows that each act is prejudicial to the obligee. A and B has agreed not to carry out compulsory execution regarding said claim. In this case, even if B has given land owned by B to G and G knew that such gift was prejudicial to the obligee, A cannot make a demand for rescission of the fraudulent act with respect to such gift.? No or Yes\n"
     ]
    },
    {
     "name": "stderr",
     "output_type": "stream",
     "text": [
      " 64%|██████████████████████████████████████████████████████████████████████████████████████████████████▉                                                       | 70/109 [00:25<00:14,  2.72it/s]"
     ]
    },
    {
     "name": "stdout",
     "output_type": "stream",
     "text": [
      "R05-21-A :  N  -  Y\n",
      "Document:Article 509\n",
      "The condition in this sentence is The obligor of either of the following obligations may not duly assert a set-off against the obligee. The conclusion in this sentence is this does not apply if the obligee acquires a claim corresponding to the relevant obligation from another person. There is no explicit addition in this sentence. The exception in this sentence is However that.\n",
      "Question: Assume that A has a monetary claim against B (hereinafter referred to as \" Claim X \") and that B has a monetary claim against A (hereinafter referred to as \" Claim Y \"). If Claim X is a claim for the sale price and Claim Y is a claim for compensation for damages based on a tort due to A's negligence in damaging a personal computer owned by B, A may duly assert against B a set-off.? No or Yes\n"
     ]
    },
    {
     "name": "stderr",
     "output_type": "stream",
     "text": [
      " 65%|████████████████████████████████████████████████████████████████████████████████████████████████████▎                                                     | 71/109 [00:26<00:14,  2.66it/s]"
     ]
    },
    {
     "name": "stdout",
     "output_type": "stream",
     "text": [
      "R05-21-I :  N  -  Y\n",
      "Document:Article 511\n",
      "The condition in this sentence is A third party obligor of a claim which has been attached. The conclusion in this sentence is may not assert set-off as defense with any claim acquired after the attachment against the attaching obligee. The addition in this sentence is but may duly assert against the same a set-off based using a claim acquired before the attachment. There is no explicit exception mentioned in this sentence.\n",
      "if a claim acquired after the attachment has arisen from a cause that existed before the attachment the third party obligor may use that claim for a set-off against the attaching obligee Notwithstanding the provisions of the preceding paragraph this does not apply if the third party obligor acquires the claim of another person after the attachment.\n",
      "Question: Assume that A has a monetary claim against B (hereinafter referred to as \" Claim X \") and that B has a monetary claim against A (hereinafter referred to as \" Claim Y \"). If A had guaranteed B's debt to C as requested by B, and after B's obligee D seized Claim Y, which is a claim for sale price, A performed its guarantee obligation to C and acquired Claim X, which is a right of reimbursement, then A may duly assert against D a set-off.? No or Yes\n"
     ]
    },
    {
     "name": "stderr",
     "output_type": "stream",
     "text": [
      " 67%|███████████████████████████████████████████████████████████████████████████████████████████████████████▏                                                  | 73/109 [00:26<00:12,  2.77it/s]"
     ]
    },
    {
     "name": "stdout",
     "output_type": "stream",
     "text": [
      "R05-21-O :  Y  -  N\n",
      "Document:Article 505\n",
      "If two persons bear an obligation to each other that has the same kind of purpose and if both obligations are due. Each obligor may be relieved from the obligation by setting off the value of that obligation against the corresponding amount of the obligation of the other obligor. Provided, however, that this does not apply if the nature of the obligation does not permit such a set-off.\n",
      "if a party manifests the intention to prohibit or restrict a set-off that manifestation of the intention may be duly asserted against a third party only if the third party knew or did not know due to gross negligence it Notwithstanding the provisions of the preceding paragraph\n",
      "Question: Assume that A has a monetary claim against B (hereinafter referred to as \"Claim X\") and that B has a monetary claim against A (hereinafter referred to as \"Claim Y\"). Even if the claim X has not become due, if the claim Y has become due, A may assert against B a set-off.? No or Yes\n"
     ]
    },
    {
     "name": "stderr",
     "output_type": "stream",
     "text": [
      " 68%|████████████████████████████████████████████████████████████████████████████████████████████████████████▌                                                 | 74/109 [00:27<00:12,  2.82it/s]"
     ]
    },
    {
     "name": "stdout",
     "output_type": "stream",
     "text": [
      "R05-22-A :  N  -  Y\n",
      "Document:Article 514\n",
      "The condition in this sentence is A novation by substitution of obligor may be effected by a contract concluded between the obligee and a person that becomes the obligor after the novation. The conclusion in this sentence is In such a case, the novation becomes effective when the obligee notifies the obligor prior to the novation of the conclusion of the contract. There is no specific addition mentioned in this sentence. There is no exception mentioned in this sentence.\n",
      "The obligor after the novation by substitution of obligor does not acquire a right to reimbursement from the obligor prior to the novation.\n",
      "Question: A novation by substitution of obligor may be effected by a contract concluded between the obligee and a person that becomes the obligor after the novation, even against the will of the obligor prior to the novation.? No or Yes\n"
     ]
    },
    {
     "name": "stderr",
     "output_type": "stream",
     "text": [
      " 69%|█████████████████████████████████████████████████████████████████████████████████████████████████████████▉                                                | 75/109 [00:27<00:11,  2.86it/s]"
     ]
    },
    {
     "name": "stdout",
     "output_type": "stream",
     "text": [
      "R05-22-I :  N  -  Y\n",
      "Document:Article 514\n",
      "The condition in this sentence is A novation by substitution of obligor may be effected by a contract concluded between the obligee and a person that becomes the obligor after the novation. The conclusion in this sentence is In such a case, the novation becomes effective when the obligee notifies the obligor prior to the novation of the conclusion of the contract. There is no specific addition mentioned in this sentence. There is no exception mentioned in this sentence.\n",
      "The obligor after the novation by substitution of obligor does not acquire a right to reimbursement from the obligor prior to the novation.\n",
      "Question: The debtor after a novation by substitution of debtor does not acquire the right of reimbursement against the debtor before the novation.? No or Yes\n"
     ]
    },
    {
     "name": "stderr",
     "output_type": "stream",
     "text": [
      " 82%|█████████████████████████████████████████████████████████████████████████████████████████████████████████████████████████████▋                            | 89/109 [00:32<00:07,  2.76it/s]"
     ]
    },
    {
     "name": "stdout",
     "output_type": "stream",
     "text": [
      "R05-26-I :  N  -  Y\n",
      "Document:Article 634\n",
      "(i) if the contractor is no longer able to complete the work due to any grounds not attributable to the party ordering work; or (ii) if the contract for work is cancelled before the completion of work. the contractor may demand remuneration in proportion to the benefit to be received by the party ordering work. In the following cases, if the party ordering work receives any benefit from the performance of any divisible portion of the outcome of the work that the contractor has already completed, that portion is deemed to be the completed work.\n",
      "Question: If the contractor has become unable to complete the work for grounds attributable to the party ordering the work, the party ordering the work may not refuse to pay the remuneration.? No or Yes\n"
     ]
    },
    {
     "name": "stderr",
     "output_type": "stream",
     "text": [
      " 85%|███████████████████████████████████████████████████████████████████████████████████████████████████████████████████████████████████▍                      | 93/109 [00:34<00:05,  2.80it/s]"
     ]
    },
    {
     "name": "stdout",
     "output_type": "stream",
     "text": [
      "R05-27-A :  Y  -  N\n",
      "Document:Article 587-2\n",
      "Notwithstanding the provisions of the preceding Article - This phrase sets the condition for the following clause, indicating that the information that follows will override or go against what was stated in the previous article. a loan for consumption made in writing becomes effective - This is the main conclusion of the sentence, stating that a written loan for consumption becomes effective. when a first party promises to deliver money or any other thing and a second party promises to return a thing of the same type, quality, and quantity as the thing delivered - This part adds additional information to explain when the loan becomes effective. It states that the loan becomes effective when the first party promises to deliver money or any other thing, and the second party promises to return a thing of the same type, quality, and quantity as the thing delivered. There is no explicit exception mentioned in this sentence.\n",
      "if the lender sustains any damage from the cancellation of the contract the lender may claim compensation therefor\n",
      "if either of the parties receives an order commencing bankruptcy proceedings before the borrower receives the thing such as money from the lender. A loan for consumption made in writing ceases to be effective.\n",
      "If a loan for consumption is made by means of an electronic or magnetic record in which its content is recorded the loan for consumption is deemed to have been made in writing the provisions of the preceding three paragraphs apply thereto\n",
      "Question: Assume that A leases movable X owned by A to B. If the lease is not in writing, A may cancel the contract until B receives delivery of X.? No or Yes\n"
     ]
    },
    {
     "name": "stderr",
     "output_type": "stream",
     "text": [
      " 88%|███████████████████████████████████████████████████████████████████████████████████████████████████████████████████████████████████████▋                  | 96/109 [00:35<00:04,  2.81it/s]"
     ]
    },
    {
     "name": "stdout",
     "output_type": "stream",
     "text": [
      "R05-27-E :  Y  -  N\n",
      "Document:Article 619\n",
      "If a lessee continues to make use or take the profits of the thing after the expiration of the term of the lease and a lessor that knows of the same raises no objection, it is presumed that a further lease is entered into under conditions identical to those of the previous lease. In such cases, each party may give a notice of termination pursuant to the provisions of Article 617.\n",
      "If one of the parties has provided security for the previous lease the security is extinguished upon expiration of the term However that this does not apply to a security deposit prescribed in Article 622-2, paragraph (1)\n",
      "Question: Assume that A leases movable X owned by A to B. If B continues to make use of X after the expiration of the term of the lease, it is presumed that the lease has been renewed.? No or Yes\n"
     ]
    },
    {
     "name": "stderr",
     "output_type": "stream",
     "text": [
      " 96%|███████████████████████████████████████████████████████████████████████████████████████████████████████████████████████████████████████████████████▍     | 105/109 [00:38<00:01,  2.96it/s]"
     ]
    },
    {
     "name": "stdout",
     "output_type": "stream",
     "text": [
      "R05-36-A :  Y  -  N\n",
      "Document:Article 107\n",
      "If an agent performs an act that falls within the scope of that agent's authority to represent for the purpose of benefiting the agent's own interests or the interests of a third party. That act is deemed to be an act performed by a person without authority to represent. and the other party knew of or could have ascertained that purpose.\n",
      "Question: In the case where an agent performs an act that falls within the scope of such agent's authority to represent for the purpose of benefiting the agent’s own interest, such act is deemed to be an act performed by a person without authority to represent, only if the other party knew, or did not know due to gross negligence, of the purpose.? No or Yes\n"
     ]
    },
    {
     "name": "stderr",
     "output_type": "stream",
     "text": [
      " 97%|████████████████████████████████████████████████████████████████████████████████████████████████████████████████████████████████████████████████████▊    | 106/109 [00:38<00:01,  2.70it/s]"
     ]
    },
    {
     "name": "stdout",
     "output_type": "stream",
     "text": [
      "R05-36-I :  N  -  Y\n",
      "Document:Article 466-4\n",
      "The provisions of Article 466, paragraph (3) do not apply to an attaching obligee that has enforced compulsory execution against a claim that is subject to the manifestation of intention to restrict assignment. The provisions of Article 466, paragraph (3) do not apply to the attaching obligee. The claim that the attaching obligee has enforced compulsory execution against is subject to the manifestation of intention to restrict assignment.\n",
      "if a third party such as the assignee knew or did not know due to gross negligence that the manifestation of intention to restrict assignment was made the obligor may refuse to perform the obligation and duly assert against an attaching obligee any event that results in extinguishing the obligation such as payment to the assignor Notwithstanding the provisions of the preceding paragraph\n",
      "Article 466\n",
      "if its nature does not permit the assignment this does not apply may be assigned\n",
      "Even if a party to a claim manifests the intention to prohibit or restrict the assignment of the claim (hereinafter referred to as the manifestation of intention to restrict assignment) the validity of the assignment of the claim is not impaired.\n",
      "such as the assignee that knew or did not know due to gross negligence that the manifestation of intention to restrict assignment was made the obligor may refuse to perform the obligation to a third party and may duly assert against such third party any event that results in extinguishment of the obligation such as payment to the assignor\n",
      "The provisions of the preceding paragraph do not apply if the obligor does not perform the obligation and the third party prescribed in that paragraph makes a demand to the obligor for the performance to the assignor by specifying a reasonable period of time but the obligor does not perform the obligation within that period.\n",
      "Question: A special agreement to restrict assignment made by the parties with respect to a claim for deposits may not be duly asserted against an attaching obligee that has commenced compulsory execution against such claim, even if the obligee knew, or did not know due to gross negligence, of the existence of such special agreement.? No or Yes\n"
     ]
    },
    {
     "name": "stderr",
     "output_type": "stream",
     "text": [
      " 99%|███████████████████████████████████████████████████████████████████████████████████████████████████████████████████████████████████████████████████████▌ | 108/109 [00:39<00:00,  2.87it/s]"
     ]
    },
    {
     "name": "stdout",
     "output_type": "stream",
     "text": [
      "R05-36-E :  Y  -  N\n",
      "Document:Article 705\n",
      "if the person knew, at the time, that the obligation did not exist. may not demand the return of the money paid or thing delivered A person that has paid money or delivered anything as performance of an obligation\n",
      "Question: A person that has paid money or delivered anything as performance of an obligation may not demand the return of the money paid or thing delivered if the person knew, or did not know due to gross negligence, that the obligation did not exist at the time the payment or the delivery was made.? No or Yes\n"
     ]
    },
    {
     "name": "stderr",
     "output_type": "stream",
     "text": [
      "100%|█████████████████████████████████████████████████████████████████████████████████████████████████████████████████████████████████████████████████████████| 109/109 [00:39<00:00,  2.75it/s]\n"
     ]
    }
   ],
   "source": [
    "import os\n",
    "count = 0\n",
    "count2 = 0\n",
    "result = {}\n",
    "# output_folder = \"../output/R05.task4.CAPTAIN3_riteval_R05_en.xml\"\n",
    "for item in tqdm(data):\n",
    "    label = item[\"label\"]\n",
    "    hypothesis = item[\"content\"].strip()\n",
    "    # premise = item[\"result\"].strip()\n",
    "    if \"rewrite\" in test_file:\n",
    "        premise = item[\"rewrite\"].strip()\n",
    "    else: premise = item[\"result\"].strip()\n",
    "    #Important: You must use dot-product, not cosine_similarity\n",
    "    text = prompting(premise, hypothesis, template_prompt)\n",
    "    inputs = tokenizer(text, return_tensors=\"pt\")[\"input_ids\"].cuda()\n",
    "    outputs = model.generate(inputs, max_new_tokens=10)\n",
    "    output_text = format_output(tokenizer.decode(outputs[0]).replace(text, \"\").split(\"\\n\")[-1])\n",
    "    \n",
    "    if \"yes\" in output_text or \"true\" in output_text:\n",
    "        output_text = \"Y\"\n",
    "    else:\n",
    "        output_text = \"N\"\n",
    "        \n",
    "    if output_text == label:\n",
    "        count += 1\n",
    "    else:\n",
    "        print(item[\"index\"], \": \", output_text, \" - \", label)\n",
    "        print(text)\n",
    "    # result.update({item[\"index\"]: output_text})\n",
    "    # write_test(result, output_folder)\n",
    "    ####################################\n",
    "    # result = split_hypo(hypothesis)\n",
    "    # if result == None: \n",
    "    #     if output_text == label:\n",
    "    #         count2 += 1\n",
    "    #     continue\n",
    "        \n",
    "    # check = []\n",
    "    # text_check = []\n",
    "    # for t in result:\n",
    "    #     text = prompting(premise, t.strip(), template_prompt)\n",
    "    #     inputs = tokenizer(text, return_tensors=\"pt\")[\"input_ids\"].cuda()\n",
    "    #     outputs = model.generate(inputs, max_new_tokens=10)\n",
    "    #     output_text = format_output(tokenizer.decode(outputs[0]).replace(text, \"\").split(\"\\n\")[-1])\n",
    "    #     # print(item[\"index\"], \": \", output_text, \" - \", label)\n",
    "    #     check.append(output_text)\n",
    "    #     text_check.append(t.strip())\n",
    "    # # print(check)\n",
    "    # # print(text_check)\n",
    "    # flag = check[0]\n",
    "    # for k in check:\n",
    "    #     if flag!=k:\n",
    "    #         flag = \"false\"\n",
    "    # if \"yes\" in flag or \"true\" in flag:\n",
    "    #     output_text = \"Y\"\n",
    "    # else:\n",
    "    #     output_text = \"N\"\n",
    "    # if output_text == label:\n",
    "    #     count2 += 1\n",
    "    # print(item[\"index\"], \": \", output_text, \" - \", label)\n",
    "    # print(\"=========================\")\n"
   ]
  },
  {
   "cell_type": "code",
   "execution_count": 47,
   "id": "0757c686-b0a1-431b-9a5b-66737af72496",
   "metadata": {},
   "outputs": [
    {
     "name": "stdout",
     "output_type": "stream",
     "text": [
      "0.7339449541284404\n"
     ]
    }
   ],
   "source": [
    "print(count/len(data))"
   ]
  },
  {
   "cell_type": "code",
   "execution_count": 20,
   "id": "95eccb0a-0917-4b9a-ac3e-1e7b824689a4",
   "metadata": {
    "scrolled": true
   },
   "outputs": [],
   "source": [
    "def predict(model, tokenizer, files=[\"riteval_R01_en\",\"riteval_R02_en\",\"riteval_R03_en\",\"riteval_R04_en\"], output=\"../output/accuracy2/newpromt_\"):\n",
    "    for file in files:\n",
    "        test_file = path_file+file+\".xml\"\n",
    "        data = load_samples(test_file)\n",
    "        \n",
    "        acc = {}\n",
    "        for template_prompt in list_prompt:\n",
    "            template_prompt = template_prompt[\"prompt\"]\n",
    "            print(template_prompt)\n",
    "            result = []\n",
    "            count = 0\n",
    "            for item in tqdm(data):\n",
    "                label = item[\"label\"]\n",
    "                hypothesis = item[\"content\"]\n",
    "                premise = item[\"result\"]\n",
    "                #Important: You must use dot-product, not cosine_similarity\n",
    "                text = prompting(premise, hypothesis, template_prompt)\n",
    "                inputs = tokenizer(text, return_tensors=\"pt\")[\"input_ids\"].cuda()\n",
    "                outputs = model.generate(inputs, max_new_tokens=10)\n",
    "                output_text = format_output(tokenizer.decode(outputs[0]).replace(text, \"\").split(\"\\n\")[-1])\n",
    "                if count < 1:\n",
    "                    print(text)\n",
    "                # if count < 3:\n",
    "                #     print(output_text)\n",
    "                if \"yes\" in output_text or \"true\" in output_text:\n",
    "                    output_text = \"Y\"\n",
    "                else:\n",
    "                    output_text = \"N\"\n",
    "                if output_text == label:\n",
    "                    count+=1\n",
    "                # print(\"predict label: \", output_text, \"label: \", label)\n",
    "            print(\"=======================================\")\n",
    "            print(template_prompt)\n",
    "            print(count, \"/\", len(data))\n",
    "            acc.update({template_prompt: count/len(data)})\n",
    "        writefile(acc, output+file+\".json\")"
   ]
  },
  {
   "cell_type": "code",
   "execution_count": 8,
   "id": "0eaf3369-eb72-41c1-8c0a-0b0ffe006e4f",
   "metadata": {
    "scrolled": true
   },
   "outputs": [
    {
     "name": "stdout",
     "output_type": "stream",
     "text": [
      "{{premise}}\n",
      "Question: {{hypothesis}} True or False?\n"
     ]
    },
    {
     "name": "stderr",
     "output_type": "stream",
     "text": [
      "  2%|██▊                                                                                                                                                        | 2/111 [00:00<00:46,  2.36it/s]Token indices sequence length is longer than the specified maximum sequence length for this model (575 > 512). Running this sequence through the model will result in indexing errors\n"
     ]
    },
    {
     "name": "stdout",
     "output_type": "stream",
     "text": [
      "Article 5\n",
      "(1) A minor must obtain the consent of the minor's legal representative to perform a juridical act;provided, however, that this does not apply to a juridical act for merely acquiring a right or being released from an obligation.\n",
      "(2) A juridical act in contravention of the provisions of the preceding paragraph is voidable.\n",
      "(3) Notwithstanding the provisions of paragraph (1), a minor may freely dispose of property that the legal representative has permitted the minor to dispose of for a specified purpose, to an extent that falls within the scope of that purpose. The same applies if the minor disposes of property that the legal representative has permitted the minor to dispose of without specifying a purpose.\n",
      "Question: A contract of sales concluded by a minor may not be rescinded if it relates to daily life, even in cases the consent of the parental authority is not obtained. True or False?\n"
     ]
    },
    {
     "name": "stderr",
     "output_type": "stream",
     "text": [
      "100%|█████████████████████████████████████████████████████████████████████████████████████████████████████████████████████████████████████████████████████████| 111/111 [00:21<00:00,  5.25it/s]\n"
     ]
    },
    {
     "name": "stdout",
     "output_type": "stream",
     "text": [
      "=======================================\n",
      "{{premise}}\n",
      "Question: {{hypothesis}} True or False?\n",
      "75 / 111\n",
      "{{premise}}\n",
      "Question: {{hypothesis}} True or False? \n"
     ]
    },
    {
     "name": "stderr",
     "output_type": "stream",
     "text": [
      "  2%|██▊                                                                                                                                                        | 2/111 [00:00<00:16,  6.80it/s]"
     ]
    },
    {
     "name": "stdout",
     "output_type": "stream",
     "text": [
      "Article 5\n",
      "(1) A minor must obtain the consent of the minor's legal representative to perform a juridical act;provided, however, that this does not apply to a juridical act for merely acquiring a right or being released from an obligation.\n",
      "(2) A juridical act in contravention of the provisions of the preceding paragraph is voidable.\n",
      "(3) Notwithstanding the provisions of paragraph (1), a minor may freely dispose of property that the legal representative has permitted the minor to dispose of for a specified purpose, to an extent that falls within the scope of that purpose. The same applies if the minor disposes of property that the legal representative has permitted the minor to dispose of without specifying a purpose.\n",
      "Question: A contract of sales concluded by a minor may not be rescinded if it relates to daily life, even in cases the consent of the parental authority is not obtained. True or False? \n"
     ]
    },
    {
     "name": "stderr",
     "output_type": "stream",
     "text": [
      "100%|█████████████████████████████████████████████████████████████████████████████████████████████████████████████████████████████████████████████████████████| 111/111 [00:20<00:00,  5.39it/s]\n"
     ]
    },
    {
     "name": "stdout",
     "output_type": "stream",
     "text": [
      "=======================================\n",
      "{{premise}}\n",
      "Question: {{hypothesis}} True or False? \n",
      "74 / 111\n",
      "{{premise}} Based on that information, is the claim: \"{{hypothesis}}\" true or false?\n"
     ]
    },
    {
     "name": "stderr",
     "output_type": "stream",
     "text": [
      "  1%|█▍                                                                                                                                                         | 1/111 [00:00<00:16,  6.67it/s]"
     ]
    },
    {
     "name": "stdout",
     "output_type": "stream",
     "text": [
      "Article 5\n",
      "(1) A minor must obtain the consent of the minor's legal representative to perform a juridical act;provided, however, that this does not apply to a juridical act for merely acquiring a right or being released from an obligation.\n",
      "(2) A juridical act in contravention of the provisions of the preceding paragraph is voidable.\n",
      "(3) Notwithstanding the provisions of paragraph (1), a minor may freely dispose of property that the legal representative has permitted the minor to dispose of for a specified purpose, to an extent that falls within the scope of that purpose. The same applies if the minor disposes of property that the legal representative has permitted the minor to dispose of without specifying a purpose. Based on that information, is the claim: \"A contract of sales concluded by a minor may not be rescinded if it relates to daily life, even in cases the consent of the parental authority is not obtained.\" true or false?\n"
     ]
    },
    {
     "name": "stderr",
     "output_type": "stream",
     "text": [
      "100%|█████████████████████████████████████████████████████████████████████████████████████████████████████████████████████████████████████████████████████████| 111/111 [00:17<00:00,  6.33it/s]\n"
     ]
    },
    {
     "name": "stdout",
     "output_type": "stream",
     "text": [
      "=======================================\n",
      "{{premise}} Based on that information, is the claim: \"{{hypothesis}}\" true or false?\n",
      "69 / 111\n",
      "EXAM\n",
      "1. Answer by yes or no.\n",
      "\n",
      "Document: {{premise}}\n",
      "Question: {{hypothesis}}? \n"
     ]
    },
    {
     "name": "stderr",
     "output_type": "stream",
     "text": [
      "  1%|█▍                                                                                                                                                         | 1/111 [00:00<00:18,  6.02it/s]"
     ]
    },
    {
     "name": "stdout",
     "output_type": "stream",
     "text": [
      "EXAM\n",
      "1. Answer by yes or no.\n",
      "\n",
      "Document: Article 5\n",
      "(1) A minor must obtain the consent of the minor's legal representative to perform a juridical act;provided, however, that this does not apply to a juridical act for merely acquiring a right or being released from an obligation.\n",
      "(2) A juridical act in contravention of the provisions of the preceding paragraph is voidable.\n",
      "(3) Notwithstanding the provisions of paragraph (1), a minor may freely dispose of property that the legal representative has permitted the minor to dispose of for a specified purpose, to an extent that falls within the scope of that purpose. The same applies if the minor disposes of property that the legal representative has permitted the minor to dispose of without specifying a purpose.\n",
      "Question: A contract of sales concluded by a minor may not be rescinded if it relates to daily life, even in cases the consent of the parental authority is not obtained.? \n"
     ]
    },
    {
     "name": "stderr",
     "output_type": "stream",
     "text": [
      "100%|█████████████████████████████████████████████████████████████████████████████████████████████████████████████████████████████████████████████████████████| 111/111 [00:18<00:00,  6.02it/s]\n"
     ]
    },
    {
     "name": "stdout",
     "output_type": "stream",
     "text": [
      "=======================================\n",
      "EXAM\n",
      "1. Answer by yes or no.\n",
      "\n",
      "Document: {{premise}}\n",
      "Question: {{hypothesis}}? \n",
      "75 / 111\n",
      "{{premise}}\n",
      "Based on the previous passage, {{hypothesis}}? \n"
     ]
    },
    {
     "name": "stderr",
     "output_type": "stream",
     "text": [
      "  1%|█▍                                                                                                                                                         | 1/111 [00:00<00:20,  5.47it/s]"
     ]
    },
    {
     "name": "stdout",
     "output_type": "stream",
     "text": [
      "Article 5\n",
      "(1) A minor must obtain the consent of the minor's legal representative to perform a juridical act;provided, however, that this does not apply to a juridical act for merely acquiring a right or being released from an obligation.\n",
      "(2) A juridical act in contravention of the provisions of the preceding paragraph is voidable.\n",
      "(3) Notwithstanding the provisions of paragraph (1), a minor may freely dispose of property that the legal representative has permitted the minor to dispose of for a specified purpose, to an extent that falls within the scope of that purpose. The same applies if the minor disposes of property that the legal representative has permitted the minor to dispose of without specifying a purpose.\n",
      "Based on the previous passage, A contract of sales concluded by a minor may not be rescinded if it relates to daily life, even in cases the consent of the parental authority is not obtained.? \n"
     ]
    },
    {
     "name": "stderr",
     "output_type": "stream",
     "text": [
      "100%|█████████████████████████████████████████████████████████████████████████████████████████████████████████████████████████████████████████████████████████| 111/111 [00:18<00:00,  5.99it/s]\n"
     ]
    },
    {
     "name": "stdout",
     "output_type": "stream",
     "text": [
      "=======================================\n",
      "{{premise}}\n",
      "Based on the previous passage, {{hypothesis}}? \n",
      "72 / 111\n",
      "Premise: {{premise}}\n",
      "\n",
      "Hypothesis: {{hypothesis}}\n",
      "\n",
      "Does the premise entail the hypothesis? Yes or no \n"
     ]
    },
    {
     "name": "stderr",
     "output_type": "stream",
     "text": [
      "  1%|█▍                                                                                                                                                         | 1/111 [00:00<00:18,  5.90it/s]"
     ]
    },
    {
     "name": "stdout",
     "output_type": "stream",
     "text": [
      "Premise: Article 5\n",
      "(1) A minor must obtain the consent of the minor's legal representative to perform a juridical act;provided, however, that this does not apply to a juridical act for merely acquiring a right or being released from an obligation.\n",
      "(2) A juridical act in contravention of the provisions of the preceding paragraph is voidable.\n",
      "(3) Notwithstanding the provisions of paragraph (1), a minor may freely dispose of property that the legal representative has permitted the minor to dispose of for a specified purpose, to an extent that falls within the scope of that purpose. The same applies if the minor disposes of property that the legal representative has permitted the minor to dispose of without specifying a purpose.\n",
      "\n",
      "Hypothesis: A contract of sales concluded by a minor may not be rescinded if it relates to daily life, even in cases the consent of the parental authority is not obtained.\n",
      "\n",
      "Does the premise entail the hypothesis? Yes or no \n"
     ]
    },
    {
     "name": "stderr",
     "output_type": "stream",
     "text": [
      "100%|█████████████████████████████████████████████████████████████████████████████████████████████████████████████████████████████████████████████████████████| 111/111 [00:17<00:00,  6.30it/s]\n"
     ]
    },
    {
     "name": "stdout",
     "output_type": "stream",
     "text": [
      "=======================================\n",
      "Premise: {{premise}}\n",
      "\n",
      "Hypothesis: {{hypothesis}}\n",
      "\n",
      "Does the premise entail the hypothesis? Yes or no \n",
      "71 / 111\n",
      "Premise: {{premise}}\n",
      "Hypothesis: {{hypothesis}}\n",
      "Is the hypothesis entailed by the premise? Yes or no \n"
     ]
    },
    {
     "name": "stderr",
     "output_type": "stream",
     "text": [
      "  1%|█▍                                                                                                                                                         | 1/111 [00:00<00:17,  6.45it/s]"
     ]
    },
    {
     "name": "stdout",
     "output_type": "stream",
     "text": [
      "Premise: Article 5\n",
      "(1) A minor must obtain the consent of the minor's legal representative to perform a juridical act;provided, however, that this does not apply to a juridical act for merely acquiring a right or being released from an obligation.\n",
      "(2) A juridical act in contravention of the provisions of the preceding paragraph is voidable.\n",
      "(3) Notwithstanding the provisions of paragraph (1), a minor may freely dispose of property that the legal representative has permitted the minor to dispose of for a specified purpose, to an extent that falls within the scope of that purpose. The same applies if the minor disposes of property that the legal representative has permitted the minor to dispose of without specifying a purpose.\n",
      "Hypothesis: A contract of sales concluded by a minor may not be rescinded if it relates to daily life, even in cases the consent of the parental authority is not obtained.\n",
      "Is the hypothesis entailed by the premise? Yes or no \n"
     ]
    },
    {
     "name": "stderr",
     "output_type": "stream",
     "text": [
      "100%|█████████████████████████████████████████████████████████████████████████████████████████████████████████████████████████████████████████████████████████| 111/111 [00:17<00:00,  6.32it/s]\n"
     ]
    },
    {
     "name": "stdout",
     "output_type": "stream",
     "text": [
      "=======================================\n",
      "Premise: {{premise}}\n",
      "Hypothesis: {{hypothesis}}\n",
      "Is the hypothesis entailed by the premise? Yes or no \n",
      "71 / 111\n",
      "Sentence 1: {{premise}}\n",
      "\n",
      "Sentence 2: {{hypothesis}}\n",
      "Is this second sentence entailed by the first sentence? Yes or No \n"
     ]
    },
    {
     "name": "stderr",
     "output_type": "stream",
     "text": [
      "  1%|█▍                                                                                                                                                         | 1/111 [00:00<00:17,  6.46it/s]"
     ]
    },
    {
     "name": "stdout",
     "output_type": "stream",
     "text": [
      "Sentence 1: Article 5\n",
      "(1) A minor must obtain the consent of the minor's legal representative to perform a juridical act;provided, however, that this does not apply to a juridical act for merely acquiring a right or being released from an obligation.\n",
      "(2) A juridical act in contravention of the provisions of the preceding paragraph is voidable.\n",
      "(3) Notwithstanding the provisions of paragraph (1), a minor may freely dispose of property that the legal representative has permitted the minor to dispose of for a specified purpose, to an extent that falls within the scope of that purpose. The same applies if the minor disposes of property that the legal representative has permitted the minor to dispose of without specifying a purpose.\n",
      "\n",
      "Sentence 2: A contract of sales concluded by a minor may not be rescinded if it relates to daily life, even in cases the consent of the parental authority is not obtained.\n",
      "Is this second sentence entailed by the first sentence? Yes or No \n"
     ]
    },
    {
     "name": "stderr",
     "output_type": "stream",
     "text": [
      "100%|█████████████████████████████████████████████████████████████████████████████████████████████████████████████████████████████████████████████████████████| 111/111 [00:18<00:00,  6.17it/s]\n"
     ]
    },
    {
     "name": "stdout",
     "output_type": "stream",
     "text": [
      "=======================================\n",
      "Sentence 1: {{premise}}\n",
      "\n",
      "Sentence 2: {{hypothesis}}\n",
      "Is this second sentence entailed by the first sentence? Yes or No \n",
      "73 / 111\n",
      "Sentence 1: {{premise}}\n",
      "\n",
      "Sentence 2: {{hypothesis}}\n",
      "\n",
      "If the first sentence is true, then is the second sentence true? True or False \n"
     ]
    },
    {
     "name": "stderr",
     "output_type": "stream",
     "text": [
      "  1%|█▍                                                                                                                                                         | 1/111 [00:00<00:27,  3.99it/s]"
     ]
    },
    {
     "name": "stdout",
     "output_type": "stream",
     "text": [
      "Sentence 1: Article 5\n",
      "(1) A minor must obtain the consent of the minor's legal representative to perform a juridical act;provided, however, that this does not apply to a juridical act for merely acquiring a right or being released from an obligation.\n",
      "(2) A juridical act in contravention of the provisions of the preceding paragraph is voidable.\n",
      "(3) Notwithstanding the provisions of paragraph (1), a minor may freely dispose of property that the legal representative has permitted the minor to dispose of for a specified purpose, to an extent that falls within the scope of that purpose. The same applies if the minor disposes of property that the legal representative has permitted the minor to dispose of without specifying a purpose.\n",
      "\n",
      "Sentence 2: A contract of sales concluded by a minor may not be rescinded if it relates to daily life, even in cases the consent of the parental authority is not obtained.\n",
      "\n",
      "If the first sentence is true, then is the second sentence true? True or False \n"
     ]
    },
    {
     "name": "stderr",
     "output_type": "stream",
     "text": [
      "100%|█████████████████████████████████████████████████████████████████████████████████████████████████████████████████████████████████████████████████████████| 111/111 [00:23<00:00,  4.76it/s]\n"
     ]
    },
    {
     "name": "stdout",
     "output_type": "stream",
     "text": [
      "=======================================\n",
      "Sentence 1: {{premise}}\n",
      "\n",
      "Sentence 2: {{hypothesis}}\n",
      "\n",
      "If the first sentence is true, then is the second sentence true? True or False \n",
      "71 / 111\n",
      "If {{premise}}, can we conclude that \"{{hypothesis}}\"? Yes or No \n"
     ]
    },
    {
     "name": "stderr",
     "output_type": "stream",
     "text": [
      "  1%|█▍                                                                                                                                                         | 1/111 [00:00<00:16,  6.60it/s]"
     ]
    },
    {
     "name": "stdout",
     "output_type": "stream",
     "text": [
      "If Article 5\n",
      "(1) A minor must obtain the consent of the minor's legal representative to perform a juridical act;provided, however, that this does not apply to a juridical act for merely acquiring a right or being released from an obligation.\n",
      "(2) A juridical act in contravention of the provisions of the preceding paragraph is voidable.\n",
      "(3) Notwithstanding the provisions of paragraph (1), a minor may freely dispose of property that the legal representative has permitted the minor to dispose of for a specified purpose, to an extent that falls within the scope of that purpose. The same applies if the minor disposes of property that the legal representative has permitted the minor to dispose of without specifying a purpose., can we conclude that \"A contract of sales concluded by a minor may not be rescinded if it relates to daily life, even in cases the consent of the parental authority is not obtained.\"? Yes or No \n"
     ]
    },
    {
     "name": "stderr",
     "output_type": "stream",
     "text": [
      "100%|█████████████████████████████████████████████████████████████████████████████████████████████████████████████████████████████████████████████████████████| 111/111 [00:18<00:00,  6.14it/s]\n"
     ]
    },
    {
     "name": "stdout",
     "output_type": "stream",
     "text": [
      "=======================================\n",
      "If {{premise}}, can we conclude that \"{{hypothesis}}\"? Yes or No \n",
      "71 / 111\n",
      "Premise: \"{{premise}}\" If this premise is true, what does that tell us about whether it entails the hypothesis \"{{hypothesis}}\"?\n",
      "\n",
      "Yes or No \n"
     ]
    },
    {
     "name": "stderr",
     "output_type": "stream",
     "text": [
      "  1%|█▍                                                                                                                                                         | 1/111 [00:00<00:20,  5.48it/s]"
     ]
    },
    {
     "name": "stdout",
     "output_type": "stream",
     "text": [
      "Premise: \"Article 5\n",
      "(1) A minor must obtain the consent of the minor's legal representative to perform a juridical act;provided, however, that this does not apply to a juridical act for merely acquiring a right or being released from an obligation.\n",
      "(2) A juridical act in contravention of the provisions of the preceding paragraph is voidable.\n",
      "(3) Notwithstanding the provisions of paragraph (1), a minor may freely dispose of property that the legal representative has permitted the minor to dispose of for a specified purpose, to an extent that falls within the scope of that purpose. The same applies if the minor disposes of property that the legal representative has permitted the minor to dispose of without specifying a purpose.\" If this premise is true, what does that tell us about whether it entails the hypothesis \"A contract of sales concluded by a minor may not be rescinded if it relates to daily life, even in cases the consent of the parental authority is not obtained.\"?\n",
      "\n",
      "Yes or No \n"
     ]
    },
    {
     "name": "stderr",
     "output_type": "stream",
     "text": [
      "100%|█████████████████████████████████████████████████████████████████████████████████████████████████████████████████████████████████████████████████████████| 111/111 [00:20<00:00,  5.52it/s]\n"
     ]
    },
    {
     "name": "stdout",
     "output_type": "stream",
     "text": [
      "=======================================\n",
      "Premise: \"{{premise}}\" If this premise is true, what does that tell us about whether it entails the hypothesis \"{{hypothesis}}\"?\n",
      "\n",
      "Yes or No \n",
      "72 / 111\n",
      "{{premise}}\n",
      "Question: {{hypothesis}} True or False?\n"
     ]
    },
    {
     "name": "stderr",
     "output_type": "stream",
     "text": [
      "  1%|█▉                                                                                                                                                          | 1/81 [00:00<00:23,  3.38it/s]"
     ]
    },
    {
     "name": "stdout",
     "output_type": "stream",
     "text": [
      "Article 15 (1) The family court may decide to commence an assistance in respect of a person whose capacity to appreciate their own situation is inadequate due to a mental disorder, at the request of the person in question, that person's spouse, that person's relative within the fourth degree of kinship, the guardian, the guardian's supervisor, the curator, the curator's supervisor, or a public prosecutor; provided, however, that this does not apply to a person with respect to whom there are grounds as prescribed in Article 7 or the main clause of Article 11.\n",
      "Article 11 The family court may decide to commence a curatorship in respect of a person whose capacity to appreciate their own situation is extremely inadequate due to a mental disorder, at the request of the person in question, the person's spouse, the person's relative within the fourth degree of kinship, the guardian, the guardian's supervisor, the assistant, the assistant's supervisor, or a public prosecutor; provided, however, that this does not apply to a person in respect of whom a cause set forth in Article 7 exists.\n",
      "Question: The family court may decide to commence an assistance also in respect of a person whose capacity to appreciate their own situation is extremely inadequate due to a mental disorder. True or False?\n"
     ]
    },
    {
     "name": "stderr",
     "output_type": "stream",
     "text": [
      "100%|███████████████████████████████████████████████████████████████████████████████████████████████████████████████████████████████████████████████████████████| 81/81 [00:16<00:00,  4.78it/s]\n"
     ]
    },
    {
     "name": "stdout",
     "output_type": "stream",
     "text": [
      "=======================================\n",
      "{{premise}}\n",
      "Question: {{hypothesis}} True or False?\n",
      "65 / 81\n",
      "{{premise}}\n",
      "Question: {{hypothesis}} True or False? \n"
     ]
    },
    {
     "name": "stderr",
     "output_type": "stream",
     "text": [
      "  1%|█▉                                                                                                                                                          | 1/81 [00:00<00:24,  3.32it/s]"
     ]
    },
    {
     "name": "stdout",
     "output_type": "stream",
     "text": [
      "Article 15 (1) The family court may decide to commence an assistance in respect of a person whose capacity to appreciate their own situation is inadequate due to a mental disorder, at the request of the person in question, that person's spouse, that person's relative within the fourth degree of kinship, the guardian, the guardian's supervisor, the curator, the curator's supervisor, or a public prosecutor; provided, however, that this does not apply to a person with respect to whom there are grounds as prescribed in Article 7 or the main clause of Article 11.\n",
      "Article 11 The family court may decide to commence a curatorship in respect of a person whose capacity to appreciate their own situation is extremely inadequate due to a mental disorder, at the request of the person in question, the person's spouse, the person's relative within the fourth degree of kinship, the guardian, the guardian's supervisor, the assistant, the assistant's supervisor, or a public prosecutor; provided, however, that this does not apply to a person in respect of whom a cause set forth in Article 7 exists.\n",
      "Question: The family court may decide to commence an assistance also in respect of a person whose capacity to appreciate their own situation is extremely inadequate due to a mental disorder. True or False? \n"
     ]
    },
    {
     "name": "stderr",
     "output_type": "stream",
     "text": [
      "100%|███████████████████████████████████████████████████████████████████████████████████████████████████████████████████████████████████████████████████████████| 81/81 [00:17<00:00,  4.72it/s]\n"
     ]
    },
    {
     "name": "stdout",
     "output_type": "stream",
     "text": [
      "=======================================\n",
      "{{premise}}\n",
      "Question: {{hypothesis}} True or False? \n",
      "65 / 81\n",
      "{{premise}} Based on that information, is the claim: \"{{hypothesis}}\" true or false?\n"
     ]
    },
    {
     "name": "stderr",
     "output_type": "stream",
     "text": [
      "  2%|███▊                                                                                                                                                        | 2/81 [00:00<00:15,  4.97it/s]"
     ]
    },
    {
     "name": "stdout",
     "output_type": "stream",
     "text": [
      "Article 15 (1) The family court may decide to commence an assistance in respect of a person whose capacity to appreciate their own situation is inadequate due to a mental disorder, at the request of the person in question, that person's spouse, that person's relative within the fourth degree of kinship, the guardian, the guardian's supervisor, the curator, the curator's supervisor, or a public prosecutor; provided, however, that this does not apply to a person with respect to whom there are grounds as prescribed in Article 7 or the main clause of Article 11.\n",
      "Article 11 The family court may decide to commence a curatorship in respect of a person whose capacity to appreciate their own situation is extremely inadequate due to a mental disorder, at the request of the person in question, the person's spouse, the person's relative within the fourth degree of kinship, the guardian, the guardian's supervisor, the assistant, the assistant's supervisor, or a public prosecutor; provided, however, that this does not apply to a person in respect of whom a cause set forth in Article 7 exists. Based on that information, is the claim: \"The family court may decide to commence an assistance also in respect of a person whose capacity to appreciate their own situation is extremely inadequate due to a mental disorder.\" true or false?\n"
     ]
    },
    {
     "name": "stderr",
     "output_type": "stream",
     "text": [
      "100%|███████████████████████████████████████████████████████████████████████████████████████████████████████████████████████████████████████████████████████████| 81/81 [00:14<00:00,  5.52it/s]\n"
     ]
    },
    {
     "name": "stdout",
     "output_type": "stream",
     "text": [
      "=======================================\n",
      "{{premise}} Based on that information, is the claim: \"{{hypothesis}}\" true or false?\n",
      "66 / 81\n",
      "EXAM\n",
      "1. Answer by yes or no.\n",
      "\n",
      "Document: {{premise}}\n",
      "Question: {{hypothesis}}? \n"
     ]
    },
    {
     "name": "stderr",
     "output_type": "stream",
     "text": [
      "  2%|███▊                                                                                                                                                        | 2/81 [00:00<00:15,  5.01it/s]"
     ]
    },
    {
     "name": "stdout",
     "output_type": "stream",
     "text": [
      "EXAM\n",
      "1. Answer by yes or no.\n",
      "\n",
      "Document: Article 15 (1) The family court may decide to commence an assistance in respect of a person whose capacity to appreciate their own situation is inadequate due to a mental disorder, at the request of the person in question, that person's spouse, that person's relative within the fourth degree of kinship, the guardian, the guardian's supervisor, the curator, the curator's supervisor, or a public prosecutor; provided, however, that this does not apply to a person with respect to whom there are grounds as prescribed in Article 7 or the main clause of Article 11.\n",
      "Article 11 The family court may decide to commence a curatorship in respect of a person whose capacity to appreciate their own situation is extremely inadequate due to a mental disorder, at the request of the person in question, the person's spouse, the person's relative within the fourth degree of kinship, the guardian, the guardian's supervisor, the assistant, the assistant's supervisor, or a public prosecutor; provided, however, that this does not apply to a person in respect of whom a cause set forth in Article 7 exists.\n",
      "Question: The family court may decide to commence an assistance also in respect of a person whose capacity to appreciate their own situation is extremely inadequate due to a mental disorder.? \n"
     ]
    },
    {
     "name": "stderr",
     "output_type": "stream",
     "text": [
      "100%|███████████████████████████████████████████████████████████████████████████████████████████████████████████████████████████████████████████████████████████| 81/81 [00:14<00:00,  5.47it/s]\n"
     ]
    },
    {
     "name": "stdout",
     "output_type": "stream",
     "text": [
      "=======================================\n",
      "EXAM\n",
      "1. Answer by yes or no.\n",
      "\n",
      "Document: {{premise}}\n",
      "Question: {{hypothesis}}? \n",
      "66 / 81\n",
      "{{premise}}\n",
      "Based on the previous passage, {{hypothesis}}? \n"
     ]
    },
    {
     "name": "stderr",
     "output_type": "stream",
     "text": [
      "  1%|█▉                                                                                                                                                          | 1/81 [00:00<00:21,  3.65it/s]"
     ]
    },
    {
     "name": "stdout",
     "output_type": "stream",
     "text": [
      "Article 15 (1) The family court may decide to commence an assistance in respect of a person whose capacity to appreciate their own situation is inadequate due to a mental disorder, at the request of the person in question, that person's spouse, that person's relative within the fourth degree of kinship, the guardian, the guardian's supervisor, the curator, the curator's supervisor, or a public prosecutor; provided, however, that this does not apply to a person with respect to whom there are grounds as prescribed in Article 7 or the main clause of Article 11.\n",
      "Article 11 The family court may decide to commence a curatorship in respect of a person whose capacity to appreciate their own situation is extremely inadequate due to a mental disorder, at the request of the person in question, the person's spouse, the person's relative within the fourth degree of kinship, the guardian, the guardian's supervisor, the assistant, the assistant's supervisor, or a public prosecutor; provided, however, that this does not apply to a person in respect of whom a cause set forth in Article 7 exists.\n",
      "Based on the previous passage, The family court may decide to commence an assistance also in respect of a person whose capacity to appreciate their own situation is extremely inadequate due to a mental disorder.? \n"
     ]
    },
    {
     "name": "stderr",
     "output_type": "stream",
     "text": [
      "  4%|█████▊                                                                                                                                                      | 3/81 [00:00<00:16,  4.71it/s]"
     ]
    },
    {
     "name": "stdout",
     "output_type": "stream",
     "text": [
      "Article 15 (1) The family court may decide to commence an assistance in respect of a person whose capacity to appreciate their own situation is inadequate due to a mental disorder, at the request of the person in question, that person's spouse, that person's relative within the fourth degree of kinship, the guardian, the guardian's supervisor, the curator, the curator's supervisor, or a public prosecutor; provided, however, that this does not apply to a person with respect to whom there are grounds as prescribed in Article 7 or the main clause of Article 11.\n",
      "(2) The issuance of a decision for commencement of assistance at the request of a person other than the person in question requires the consent of the person in question.\n",
      "Based on the previous passage, The issuance of a decision for commencement of assistance at the request of a person other than the person in question requires the consent of the person in question unless the family court finds it to be suitable.? \n"
     ]
    },
    {
     "name": "stderr",
     "output_type": "stream",
     "text": [
      "100%|███████████████████████████████████████████████████████████████████████████████████████████████████████████████████████████████████████████████████████████| 81/81 [00:15<00:00,  5.31it/s]\n"
     ]
    },
    {
     "name": "stdout",
     "output_type": "stream",
     "text": [
      "=======================================\n",
      "{{premise}}\n",
      "Based on the previous passage, {{hypothesis}}? \n",
      "60 / 81\n",
      "Premise: {{premise}}\n",
      "\n",
      "Hypothesis: {{hypothesis}}\n",
      "\n",
      "Does the premise entail the hypothesis? Yes or no \n"
     ]
    },
    {
     "name": "stderr",
     "output_type": "stream",
     "text": [
      "  1%|█▉                                                                                                                                                          | 1/81 [00:00<00:18,  4.43it/s]"
     ]
    },
    {
     "name": "stdout",
     "output_type": "stream",
     "text": [
      "Premise: Article 15 (1) The family court may decide to commence an assistance in respect of a person whose capacity to appreciate their own situation is inadequate due to a mental disorder, at the request of the person in question, that person's spouse, that person's relative within the fourth degree of kinship, the guardian, the guardian's supervisor, the curator, the curator's supervisor, or a public prosecutor; provided, however, that this does not apply to a person with respect to whom there are grounds as prescribed in Article 7 or the main clause of Article 11.\n",
      "Article 11 The family court may decide to commence a curatorship in respect of a person whose capacity to appreciate their own situation is extremely inadequate due to a mental disorder, at the request of the person in question, the person's spouse, the person's relative within the fourth degree of kinship, the guardian, the guardian's supervisor, the assistant, the assistant's supervisor, or a public prosecutor; provided, however, that this does not apply to a person in respect of whom a cause set forth in Article 7 exists.\n",
      "\n",
      "Hypothesis: The family court may decide to commence an assistance also in respect of a person whose capacity to appreciate their own situation is extremely inadequate due to a mental disorder.\n",
      "\n",
      "Does the premise entail the hypothesis? Yes or no \n"
     ]
    },
    {
     "name": "stderr",
     "output_type": "stream",
     "text": [
      "  2%|███▊                                                                                                                                                        | 2/81 [00:00<00:23,  3.42it/s]"
     ]
    },
    {
     "name": "stdout",
     "output_type": "stream",
     "text": [
      "Premise: Article 15 (1) The family court may decide to commence an assistance in respect of a person whose capacity to appreciate their own situation is inadequate due to a mental disorder, at the request of the person in question, that person's spouse, that person's relative within the fourth degree of kinship, the guardian, the guardian's supervisor, the curator, the curator's supervisor, or a public prosecutor; provided, however, that this does not apply to a person with respect to whom there are grounds as prescribed in Article 7 or the main clause of Article 11.\n",
      "(2) The issuance of a decision for commencement of assistance at the request of a person other than the person in question requires the consent of the person in question.\n",
      "\n",
      "Hypothesis: The issuance of a decision for commencement of assistance at the request of a person other than the person in question requires the consent of the person in question unless the family court finds it to be suitable.\n",
      "\n",
      "Does the premise entail the hypothesis? Yes or no \n"
     ]
    },
    {
     "name": "stderr",
     "output_type": "stream",
     "text": [
      "100%|███████████████████████████████████████████████████████████████████████████████████████████████████████████████████████████████████████████████████████████| 81/81 [00:15<00:00,  5.36it/s]\n"
     ]
    },
    {
     "name": "stdout",
     "output_type": "stream",
     "text": [
      "=======================================\n",
      "Premise: {{premise}}\n",
      "\n",
      "Hypothesis: {{hypothesis}}\n",
      "\n",
      "Does the premise entail the hypothesis? Yes or no \n",
      "64 / 81\n",
      "Premise: {{premise}}\n",
      "Hypothesis: {{hypothesis}}\n",
      "Is the hypothesis entailed by the premise? Yes or no \n"
     ]
    },
    {
     "name": "stderr",
     "output_type": "stream",
     "text": [
      "  1%|█▉                                                                                                                                                          | 1/81 [00:00<00:24,  3.31it/s]"
     ]
    },
    {
     "name": "stdout",
     "output_type": "stream",
     "text": [
      "Premise: Article 15 (1) The family court may decide to commence an assistance in respect of a person whose capacity to appreciate their own situation is inadequate due to a mental disorder, at the request of the person in question, that person's spouse, that person's relative within the fourth degree of kinship, the guardian, the guardian's supervisor, the curator, the curator's supervisor, or a public prosecutor; provided, however, that this does not apply to a person with respect to whom there are grounds as prescribed in Article 7 or the main clause of Article 11.\n",
      "Article 11 The family court may decide to commence a curatorship in respect of a person whose capacity to appreciate their own situation is extremely inadequate due to a mental disorder, at the request of the person in question, the person's spouse, the person's relative within the fourth degree of kinship, the guardian, the guardian's supervisor, the assistant, the assistant's supervisor, or a public prosecutor; provided, however, that this does not apply to a person in respect of whom a cause set forth in Article 7 exists.\n",
      "Hypothesis: The family court may decide to commence an assistance also in respect of a person whose capacity to appreciate their own situation is extremely inadequate due to a mental disorder.\n",
      "Is the hypothesis entailed by the premise? Yes or no \n"
     ]
    },
    {
     "name": "stderr",
     "output_type": "stream",
     "text": [
      "  2%|███▊                                                                                                                                                        | 2/81 [00:00<00:28,  2.75it/s]"
     ]
    },
    {
     "name": "stdout",
     "output_type": "stream",
     "text": [
      "Premise: Article 15 (1) The family court may decide to commence an assistance in respect of a person whose capacity to appreciate their own situation is inadequate due to a mental disorder, at the request of the person in question, that person's spouse, that person's relative within the fourth degree of kinship, the guardian, the guardian's supervisor, the curator, the curator's supervisor, or a public prosecutor; provided, however, that this does not apply to a person with respect to whom there are grounds as prescribed in Article 7 or the main clause of Article 11.\n",
      "(2) The issuance of a decision for commencement of assistance at the request of a person other than the person in question requires the consent of the person in question.\n",
      "Hypothesis: The issuance of a decision for commencement of assistance at the request of a person other than the person in question requires the consent of the person in question unless the family court finds it to be suitable.\n",
      "Is the hypothesis entailed by the premise? Yes or no \n"
     ]
    },
    {
     "name": "stderr",
     "output_type": "stream",
     "text": [
      "100%|███████████████████████████████████████████████████████████████████████████████████████████████████████████████████████████████████████████████████████████| 81/81 [00:15<00:00,  5.28it/s]\n"
     ]
    },
    {
     "name": "stdout",
     "output_type": "stream",
     "text": [
      "=======================================\n",
      "Premise: {{premise}}\n",
      "Hypothesis: {{hypothesis}}\n",
      "Is the hypothesis entailed by the premise? Yes or no \n",
      "65 / 81\n",
      "Sentence 1: {{premise}}\n",
      "\n",
      "Sentence 2: {{hypothesis}}\n",
      "Is this second sentence entailed by the first sentence? Yes or No \n"
     ]
    },
    {
     "name": "stderr",
     "output_type": "stream",
     "text": [
      "  1%|█▉                                                                                                                                                          | 1/81 [00:00<00:23,  3.34it/s]"
     ]
    },
    {
     "name": "stdout",
     "output_type": "stream",
     "text": [
      "Sentence 1: Article 15 (1) The family court may decide to commence an assistance in respect of a person whose capacity to appreciate their own situation is inadequate due to a mental disorder, at the request of the person in question, that person's spouse, that person's relative within the fourth degree of kinship, the guardian, the guardian's supervisor, the curator, the curator's supervisor, or a public prosecutor; provided, however, that this does not apply to a person with respect to whom there are grounds as prescribed in Article 7 or the main clause of Article 11.\n",
      "Article 11 The family court may decide to commence a curatorship in respect of a person whose capacity to appreciate their own situation is extremely inadequate due to a mental disorder, at the request of the person in question, the person's spouse, the person's relative within the fourth degree of kinship, the guardian, the guardian's supervisor, the assistant, the assistant's supervisor, or a public prosecutor; provided, however, that this does not apply to a person in respect of whom a cause set forth in Article 7 exists.\n",
      "\n",
      "Sentence 2: The family court may decide to commence an assistance also in respect of a person whose capacity to appreciate their own situation is extremely inadequate due to a mental disorder.\n",
      "Is this second sentence entailed by the first sentence? Yes or No \n"
     ]
    },
    {
     "name": "stderr",
     "output_type": "stream",
     "text": [
      "100%|███████████████████████████████████████████████████████████████████████████████████████████████████████████████████████████████████████████████████████████| 81/81 [00:15<00:00,  5.24it/s]\n"
     ]
    },
    {
     "name": "stdout",
     "output_type": "stream",
     "text": [
      "=======================================\n",
      "Sentence 1: {{premise}}\n",
      "\n",
      "Sentence 2: {{hypothesis}}\n",
      "Is this second sentence entailed by the first sentence? Yes or No \n",
      "66 / 81\n",
      "Sentence 1: {{premise}}\n",
      "\n",
      "Sentence 2: {{hypothesis}}\n",
      "\n",
      "If the first sentence is true, then is the second sentence true? True or False \n"
     ]
    },
    {
     "name": "stderr",
     "output_type": "stream",
     "text": [
      "  1%|█▉                                                                                                                                                          | 1/81 [00:00<00:36,  2.20it/s]"
     ]
    },
    {
     "name": "stdout",
     "output_type": "stream",
     "text": [
      "Sentence 1: Article 15 (1) The family court may decide to commence an assistance in respect of a person whose capacity to appreciate their own situation is inadequate due to a mental disorder, at the request of the person in question, that person's spouse, that person's relative within the fourth degree of kinship, the guardian, the guardian's supervisor, the curator, the curator's supervisor, or a public prosecutor; provided, however, that this does not apply to a person with respect to whom there are grounds as prescribed in Article 7 or the main clause of Article 11.\n",
      "Article 11 The family court may decide to commence a curatorship in respect of a person whose capacity to appreciate their own situation is extremely inadequate due to a mental disorder, at the request of the person in question, the person's spouse, the person's relative within the fourth degree of kinship, the guardian, the guardian's supervisor, the assistant, the assistant's supervisor, or a public prosecutor; provided, however, that this does not apply to a person in respect of whom a cause set forth in Article 7 exists.\n",
      "\n",
      "Sentence 2: The family court may decide to commence an assistance also in respect of a person whose capacity to appreciate their own situation is extremely inadequate due to a mental disorder.\n",
      "\n",
      "If the first sentence is true, then is the second sentence true? True or False \n"
     ]
    },
    {
     "name": "stderr",
     "output_type": "stream",
     "text": [
      "100%|███████████████████████████████████████████████████████████████████████████████████████████████████████████████████████████████████████████████████████████| 81/81 [00:19<00:00,  4.11it/s]\n"
     ]
    },
    {
     "name": "stdout",
     "output_type": "stream",
     "text": [
      "=======================================\n",
      "Sentence 1: {{premise}}\n",
      "\n",
      "Sentence 2: {{hypothesis}}\n",
      "\n",
      "If the first sentence is true, then is the second sentence true? True or False \n",
      "65 / 81\n",
      "If {{premise}}, can we conclude that \"{{hypothesis}}\"? Yes or No \n"
     ]
    },
    {
     "name": "stderr",
     "output_type": "stream",
     "text": [
      "  1%|█▉                                                                                                                                                          | 1/81 [00:00<00:24,  3.30it/s]"
     ]
    },
    {
     "name": "stdout",
     "output_type": "stream",
     "text": [
      "If Article 15 (1) The family court may decide to commence an assistance in respect of a person whose capacity to appreciate their own situation is inadequate due to a mental disorder, at the request of the person in question, that person's spouse, that person's relative within the fourth degree of kinship, the guardian, the guardian's supervisor, the curator, the curator's supervisor, or a public prosecutor; provided, however, that this does not apply to a person with respect to whom there are grounds as prescribed in Article 7 or the main clause of Article 11.\n",
      "Article 11 The family court may decide to commence a curatorship in respect of a person whose capacity to appreciate their own situation is extremely inadequate due to a mental disorder, at the request of the person in question, the person's spouse, the person's relative within the fourth degree of kinship, the guardian, the guardian's supervisor, the assistant, the assistant's supervisor, or a public prosecutor; provided, however, that this does not apply to a person in respect of whom a cause set forth in Article 7 exists., can we conclude that \"The family court may decide to commence an assistance also in respect of a person whose capacity to appreciate their own situation is extremely inadequate due to a mental disorder.\"? Yes or No \n"
     ]
    },
    {
     "name": "stderr",
     "output_type": "stream",
     "text": [
      "  4%|█████▊                                                                                                                                                      | 3/81 [00:00<00:17,  4.50it/s]"
     ]
    },
    {
     "name": "stdout",
     "output_type": "stream",
     "text": [
      "If Article 15 (1) The family court may decide to commence an assistance in respect of a person whose capacity to appreciate their own situation is inadequate due to a mental disorder, at the request of the person in question, that person's spouse, that person's relative within the fourth degree of kinship, the guardian, the guardian's supervisor, the curator, the curator's supervisor, or a public prosecutor; provided, however, that this does not apply to a person with respect to whom there are grounds as prescribed in Article 7 or the main clause of Article 11.\n",
      "(2) The issuance of a decision for commencement of assistance at the request of a person other than the person in question requires the consent of the person in question., can we conclude that \"The issuance of a decision for commencement of assistance at the request of a person other than the person in question requires the consent of the person in question unless the family court finds it to be suitable.\"? Yes or No \n"
     ]
    },
    {
     "name": "stderr",
     "output_type": "stream",
     "text": [
      "100%|███████████████████████████████████████████████████████████████████████████████████████████████████████████████████████████████████████████████████████████| 81/81 [00:15<00:00,  5.27it/s]\n"
     ]
    },
    {
     "name": "stdout",
     "output_type": "stream",
     "text": [
      "=======================================\n",
      "If {{premise}}, can we conclude that \"{{hypothesis}}\"? Yes or No \n",
      "63 / 81\n",
      "Premise: \"{{premise}}\" If this premise is true, what does that tell us about whether it entails the hypothesis \"{{hypothesis}}\"?\n",
      "\n",
      "Yes or No \n"
     ]
    },
    {
     "name": "stderr",
     "output_type": "stream",
     "text": [
      "  1%|█▉                                                                                                                                                          | 1/81 [00:00<00:19,  4.13it/s]"
     ]
    },
    {
     "name": "stdout",
     "output_type": "stream",
     "text": [
      "Premise: \"Article 15 (1) The family court may decide to commence an assistance in respect of a person whose capacity to appreciate their own situation is inadequate due to a mental disorder, at the request of the person in question, that person's spouse, that person's relative within the fourth degree of kinship, the guardian, the guardian's supervisor, the curator, the curator's supervisor, or a public prosecutor; provided, however, that this does not apply to a person with respect to whom there are grounds as prescribed in Article 7 or the main clause of Article 11.\n",
      "Article 11 The family court may decide to commence a curatorship in respect of a person whose capacity to appreciate their own situation is extremely inadequate due to a mental disorder, at the request of the person in question, the person's spouse, the person's relative within the fourth degree of kinship, the guardian, the guardian's supervisor, the assistant, the assistant's supervisor, or a public prosecutor; provided, however, that this does not apply to a person in respect of whom a cause set forth in Article 7 exists.\" If this premise is true, what does that tell us about whether it entails the hypothesis \"The family court may decide to commence an assistance also in respect of a person whose capacity to appreciate their own situation is extremely inadequate due to a mental disorder.\"?\n",
      "\n",
      "Yes or No \n"
     ]
    },
    {
     "name": "stderr",
     "output_type": "stream",
     "text": [
      "  4%|█████▊                                                                                                                                                      | 3/81 [00:00<00:19,  4.05it/s]"
     ]
    },
    {
     "name": "stdout",
     "output_type": "stream",
     "text": [
      "Premise: \"Article 15 (1) The family court may decide to commence an assistance in respect of a person whose capacity to appreciate their own situation is inadequate due to a mental disorder, at the request of the person in question, that person's spouse, that person's relative within the fourth degree of kinship, the guardian, the guardian's supervisor, the curator, the curator's supervisor, or a public prosecutor; provided, however, that this does not apply to a person with respect to whom there are grounds as prescribed in Article 7 or the main clause of Article 11.\n",
      "(2) The issuance of a decision for commencement of assistance at the request of a person other than the person in question requires the consent of the person in question.\" If this premise is true, what does that tell us about whether it entails the hypothesis \"The issuance of a decision for commencement of assistance at the request of a person other than the person in question requires the consent of the person in question unless the family court finds it to be suitable.\"?\n",
      "\n",
      "Yes or No \n"
     ]
    },
    {
     "name": "stderr",
     "output_type": "stream",
     "text": [
      "100%|███████████████████████████████████████████████████████████████████████████████████████████████████████████████████████████████████████████████████████████| 81/81 [00:15<00:00,  5.13it/s]\n"
     ]
    },
    {
     "name": "stdout",
     "output_type": "stream",
     "text": [
      "=======================================\n",
      "Premise: \"{{premise}}\" If this premise is true, what does that tell us about whether it entails the hypothesis \"{{hypothesis}}\"?\n",
      "\n",
      "Yes or No \n",
      "63 / 81\n",
      "{{premise}}\n",
      "Question: {{hypothesis}} True or False?\n"
     ]
    },
    {
     "name": "stderr",
     "output_type": "stream",
     "text": [
      "  1%|█▍                                                                                                                                                         | 1/109 [00:00<00:28,  3.82it/s]"
     ]
    },
    {
     "name": "stdout",
     "output_type": "stream",
     "text": [
      "Article 32 (1) Having received proof that a missing person is alive or that a missing person died at a time different from the time set forth in the preceding Article, the family court, at the request of the missing person or an interested person, must rescind the declaration of that person's disappearance. In this case, the rescission does not affect the validity of any act performed in good faith after the declaration of disappearance but before the rescission thereof.\n",
      "(2) A person who has acquired property due to a declaration of disappearance loses the rights in question due to its rescission; provided, however, that the person has the obligation to return that property only to the extent currently enriched.\n",
      "Question: In the event that a declaration of disappearance is rescinded, a person who has acquired property due to the declaration of disappearance must return to the missing person the full amount of the benefits received from the acquisition of the property, even if the person acted in good faith regarding the survival of the missing person. True or False?\n"
     ]
    },
    {
     "name": "stderr",
     "output_type": "stream",
     "text": [
      "100%|█████████████████████████████████████████████████████████████████████████████████████████████████████████████████████████████████████████████████████████| 109/109 [00:26<00:00,  4.09it/s]\n"
     ]
    },
    {
     "name": "stdout",
     "output_type": "stream",
     "text": [
      "=======================================\n",
      "{{premise}}\n",
      "Question: {{hypothesis}} True or False?\n",
      "81 / 109\n",
      "{{premise}}\n",
      "Question: {{hypothesis}} True or False? \n"
     ]
    },
    {
     "name": "stderr",
     "output_type": "stream",
     "text": [
      "  1%|█▍                                                                                                                                                         | 1/109 [00:00<00:27,  3.95it/s]"
     ]
    },
    {
     "name": "stdout",
     "output_type": "stream",
     "text": [
      "Article 32 (1) Having received proof that a missing person is alive or that a missing person died at a time different from the time set forth in the preceding Article, the family court, at the request of the missing person or an interested person, must rescind the declaration of that person's disappearance. In this case, the rescission does not affect the validity of any act performed in good faith after the declaration of disappearance but before the rescission thereof.\n",
      "(2) A person who has acquired property due to a declaration of disappearance loses the rights in question due to its rescission; provided, however, that the person has the obligation to return that property only to the extent currently enriched.\n",
      "Question: In the event that a declaration of disappearance is rescinded, a person who has acquired property due to the declaration of disappearance must return to the missing person the full amount of the benefits received from the acquisition of the property, even if the person acted in good faith regarding the survival of the missing person. True or False? \n"
     ]
    },
    {
     "name": "stderr",
     "output_type": "stream",
     "text": [
      "100%|█████████████████████████████████████████████████████████████████████████████████████████████████████████████████████████████████████████████████████████| 109/109 [00:26<00:00,  4.04it/s]\n"
     ]
    },
    {
     "name": "stdout",
     "output_type": "stream",
     "text": [
      "=======================================\n",
      "{{premise}}\n",
      "Question: {{hypothesis}} True or False? \n",
      "82 / 109\n",
      "{{premise}} Based on that information, is the claim: \"{{hypothesis}}\" true or false?\n"
     ]
    },
    {
     "name": "stderr",
     "output_type": "stream",
     "text": [
      "  1%|█▍                                                                                                                                                         | 1/109 [00:00<00:22,  4.73it/s]"
     ]
    },
    {
     "name": "stdout",
     "output_type": "stream",
     "text": [
      "Article 32 (1) Having received proof that a missing person is alive or that a missing person died at a time different from the time set forth in the preceding Article, the family court, at the request of the missing person or an interested person, must rescind the declaration of that person's disappearance. In this case, the rescission does not affect the validity of any act performed in good faith after the declaration of disappearance but before the rescission thereof.\n",
      "(2) A person who has acquired property due to a declaration of disappearance loses the rights in question due to its rescission; provided, however, that the person has the obligation to return that property only to the extent currently enriched. Based on that information, is the claim: \"In the event that a declaration of disappearance is rescinded, a person who has acquired property due to the declaration of disappearance must return to the missing person the full amount of the benefits received from the acquisition of the property, even if the person acted in good faith regarding the survival of the missing person.\" true or false?\n"
     ]
    },
    {
     "name": "stderr",
     "output_type": "stream",
     "text": [
      "100%|█████████████████████████████████████████████████████████████████████████████████████████████████████████████████████████████████████████████████████████| 109/109 [00:23<00:00,  4.57it/s]\n"
     ]
    },
    {
     "name": "stdout",
     "output_type": "stream",
     "text": [
      "=======================================\n",
      "{{premise}} Based on that information, is the claim: \"{{hypothesis}}\" true or false?\n",
      "81 / 109\n",
      "EXAM\n",
      "1. Answer by yes or no.\n",
      "\n",
      "Document: {{premise}}\n",
      "Question: {{hypothesis}}? \n"
     ]
    },
    {
     "name": "stderr",
     "output_type": "stream",
     "text": [
      "  1%|█▍                                                                                                                                                         | 1/109 [00:00<00:20,  5.21it/s]"
     ]
    },
    {
     "name": "stdout",
     "output_type": "stream",
     "text": [
      "EXAM\n",
      "1. Answer by yes or no.\n",
      "\n",
      "Document: Article 32 (1) Having received proof that a missing person is alive or that a missing person died at a time different from the time set forth in the preceding Article, the family court, at the request of the missing person or an interested person, must rescind the declaration of that person's disappearance. In this case, the rescission does not affect the validity of any act performed in good faith after the declaration of disappearance but before the rescission thereof.\n",
      "(2) A person who has acquired property due to a declaration of disappearance loses the rights in question due to its rescission; provided, however, that the person has the obligation to return that property only to the extent currently enriched.\n",
      "Question: In the event that a declaration of disappearance is rescinded, a person who has acquired property due to the declaration of disappearance must return to the missing person the full amount of the benefits received from the acquisition of the property, even if the person acted in good faith regarding the survival of the missing person.? \n"
     ]
    },
    {
     "name": "stderr",
     "output_type": "stream",
     "text": [
      "100%|█████████████████████████████████████████████████████████████████████████████████████████████████████████████████████████████████████████████████████████| 109/109 [00:23<00:00,  4.56it/s]\n"
     ]
    },
    {
     "name": "stdout",
     "output_type": "stream",
     "text": [
      "=======================================\n",
      "EXAM\n",
      "1. Answer by yes or no.\n",
      "\n",
      "Document: {{premise}}\n",
      "Question: {{hypothesis}}? \n",
      "82 / 109\n",
      "{{premise}}\n",
      "Based on the previous passage, {{hypothesis}}? \n"
     ]
    },
    {
     "name": "stderr",
     "output_type": "stream",
     "text": [
      "  1%|█▍                                                                                                                                                         | 1/109 [00:00<00:19,  5.40it/s]"
     ]
    },
    {
     "name": "stdout",
     "output_type": "stream",
     "text": [
      "Article 32 (1) Having received proof that a missing person is alive or that a missing person died at a time different from the time set forth in the preceding Article, the family court, at the request of the missing person or an interested person, must rescind the declaration of that person's disappearance. In this case, the rescission does not affect the validity of any act performed in good faith after the declaration of disappearance but before the rescission thereof.\n",
      "(2) A person who has acquired property due to a declaration of disappearance loses the rights in question due to its rescission; provided, however, that the person has the obligation to return that property only to the extent currently enriched.\n",
      "Based on the previous passage, In the event that a declaration of disappearance is rescinded, a person who has acquired property due to the declaration of disappearance must return to the missing person the full amount of the benefits received from the acquisition of the property, even if the person acted in good faith regarding the survival of the missing person.? \n"
     ]
    },
    {
     "name": "stderr",
     "output_type": "stream",
     "text": [
      "100%|█████████████████████████████████████████████████████████████████████████████████████████████████████████████████████████████████████████████████████████| 109/109 [00:24<00:00,  4.50it/s]\n"
     ]
    },
    {
     "name": "stdout",
     "output_type": "stream",
     "text": [
      "=======================================\n",
      "{{premise}}\n",
      "Based on the previous passage, {{hypothesis}}? \n",
      "77 / 109\n",
      "Premise: {{premise}}\n",
      "\n",
      "Hypothesis: {{hypothesis}}\n",
      "\n",
      "Does the premise entail the hypothesis? Yes or no \n"
     ]
    },
    {
     "name": "stderr",
     "output_type": "stream",
     "text": [
      "  1%|█▍                                                                                                                                                         | 1/109 [00:00<00:20,  5.37it/s]"
     ]
    },
    {
     "name": "stdout",
     "output_type": "stream",
     "text": [
      "Premise: Article 32 (1) Having received proof that a missing person is alive or that a missing person died at a time different from the time set forth in the preceding Article, the family court, at the request of the missing person or an interested person, must rescind the declaration of that person's disappearance. In this case, the rescission does not affect the validity of any act performed in good faith after the declaration of disappearance but before the rescission thereof.\n",
      "(2) A person who has acquired property due to a declaration of disappearance loses the rights in question due to its rescission; provided, however, that the person has the obligation to return that property only to the extent currently enriched.\n",
      "\n",
      "Hypothesis: In the event that a declaration of disappearance is rescinded, a person who has acquired property due to the declaration of disappearance must return to the missing person the full amount of the benefits received from the acquisition of the property, even if the person acted in good faith regarding the survival of the missing person.\n",
      "\n",
      "Does the premise entail the hypothesis? Yes or no \n"
     ]
    },
    {
     "name": "stderr",
     "output_type": "stream",
     "text": [
      "100%|█████████████████████████████████████████████████████████████████████████████████████████████████████████████████████████████████████████████████████████| 109/109 [00:24<00:00,  4.40it/s]\n"
     ]
    },
    {
     "name": "stdout",
     "output_type": "stream",
     "text": [
      "=======================================\n",
      "Premise: {{premise}}\n",
      "\n",
      "Hypothesis: {{hypothesis}}\n",
      "\n",
      "Does the premise entail the hypothesis? Yes or no \n",
      "78 / 109\n",
      "Premise: {{premise}}\n",
      "Hypothesis: {{hypothesis}}\n",
      "Is the hypothesis entailed by the premise? Yes or no \n"
     ]
    },
    {
     "name": "stderr",
     "output_type": "stream",
     "text": [
      "  1%|█▍                                                                                                                                                         | 1/109 [00:00<00:20,  5.26it/s]"
     ]
    },
    {
     "name": "stdout",
     "output_type": "stream",
     "text": [
      "Premise: Article 32 (1) Having received proof that a missing person is alive or that a missing person died at a time different from the time set forth in the preceding Article, the family court, at the request of the missing person or an interested person, must rescind the declaration of that person's disappearance. In this case, the rescission does not affect the validity of any act performed in good faith after the declaration of disappearance but before the rescission thereof.\n",
      "(2) A person who has acquired property due to a declaration of disappearance loses the rights in question due to its rescission; provided, however, that the person has the obligation to return that property only to the extent currently enriched.\n",
      "Hypothesis: In the event that a declaration of disappearance is rescinded, a person who has acquired property due to the declaration of disappearance must return to the missing person the full amount of the benefits received from the acquisition of the property, even if the person acted in good faith regarding the survival of the missing person.\n",
      "Is the hypothesis entailed by the premise? Yes or no \n"
     ]
    },
    {
     "name": "stderr",
     "output_type": "stream",
     "text": [
      "100%|█████████████████████████████████████████████████████████████████████████████████████████████████████████████████████████████████████████████████████████| 109/109 [00:24<00:00,  4.40it/s]\n"
     ]
    },
    {
     "name": "stdout",
     "output_type": "stream",
     "text": [
      "=======================================\n",
      "Premise: {{premise}}\n",
      "Hypothesis: {{hypothesis}}\n",
      "Is the hypothesis entailed by the premise? Yes or no \n",
      "79 / 109\n",
      "Sentence 1: {{premise}}\n",
      "\n",
      "Sentence 2: {{hypothesis}}\n",
      "Is this second sentence entailed by the first sentence? Yes or No \n"
     ]
    },
    {
     "name": "stderr",
     "output_type": "stream",
     "text": [
      "  1%|█▍                                                                                                                                                         | 1/109 [00:00<00:21,  5.08it/s]"
     ]
    },
    {
     "name": "stdout",
     "output_type": "stream",
     "text": [
      "Sentence 1: Article 32 (1) Having received proof that a missing person is alive or that a missing person died at a time different from the time set forth in the preceding Article, the family court, at the request of the missing person or an interested person, must rescind the declaration of that person's disappearance. In this case, the rescission does not affect the validity of any act performed in good faith after the declaration of disappearance but before the rescission thereof.\n",
      "(2) A person who has acquired property due to a declaration of disappearance loses the rights in question due to its rescission; provided, however, that the person has the obligation to return that property only to the extent currently enriched.\n",
      "\n",
      "Sentence 2: In the event that a declaration of disappearance is rescinded, a person who has acquired property due to the declaration of disappearance must return to the missing person the full amount of the benefits received from the acquisition of the property, even if the person acted in good faith regarding the survival of the missing person.\n",
      "Is this second sentence entailed by the first sentence? Yes or No \n"
     ]
    },
    {
     "name": "stderr",
     "output_type": "stream",
     "text": [
      "100%|█████████████████████████████████████████████████████████████████████████████████████████████████████████████████████████████████████████████████████████| 109/109 [00:25<00:00,  4.32it/s]\n"
     ]
    },
    {
     "name": "stdout",
     "output_type": "stream",
     "text": [
      "=======================================\n",
      "Sentence 1: {{premise}}\n",
      "\n",
      "Sentence 2: {{hypothesis}}\n",
      "Is this second sentence entailed by the first sentence? Yes or No \n",
      "79 / 109\n",
      "Sentence 1: {{premise}}\n",
      "\n",
      "Sentence 2: {{hypothesis}}\n",
      "\n",
      "If the first sentence is true, then is the second sentence true? True or False \n"
     ]
    },
    {
     "name": "stderr",
     "output_type": "stream",
     "text": [
      "  1%|█▍                                                                                                                                                         | 1/109 [00:00<00:32,  3.33it/s]"
     ]
    },
    {
     "name": "stdout",
     "output_type": "stream",
     "text": [
      "Sentence 1: Article 32 (1) Having received proof that a missing person is alive or that a missing person died at a time different from the time set forth in the preceding Article, the family court, at the request of the missing person or an interested person, must rescind the declaration of that person's disappearance. In this case, the rescission does not affect the validity of any act performed in good faith after the declaration of disappearance but before the rescission thereof.\n",
      "(2) A person who has acquired property due to a declaration of disappearance loses the rights in question due to its rescission; provided, however, that the person has the obligation to return that property only to the extent currently enriched.\n",
      "\n",
      "Sentence 2: In the event that a declaration of disappearance is rescinded, a person who has acquired property due to the declaration of disappearance must return to the missing person the full amount of the benefits received from the acquisition of the property, even if the person acted in good faith regarding the survival of the missing person.\n",
      "\n",
      "If the first sentence is true, then is the second sentence true? True or False \n"
     ]
    },
    {
     "name": "stderr",
     "output_type": "stream",
     "text": [
      "100%|█████████████████████████████████████████████████████████████████████████████████████████████████████████████████████████████████████████████████████████| 109/109 [00:31<00:00,  3.49it/s]\n"
     ]
    },
    {
     "name": "stdout",
     "output_type": "stream",
     "text": [
      "=======================================\n",
      "Sentence 1: {{premise}}\n",
      "\n",
      "Sentence 2: {{hypothesis}}\n",
      "\n",
      "If the first sentence is true, then is the second sentence true? True or False \n",
      "74 / 109\n",
      "If {{premise}}, can we conclude that \"{{hypothesis}}\"? Yes or No \n"
     ]
    },
    {
     "name": "stderr",
     "output_type": "stream",
     "text": [
      "  1%|█▍                                                                                                                                                         | 1/109 [00:00<00:26,  4.01it/s]"
     ]
    },
    {
     "name": "stdout",
     "output_type": "stream",
     "text": [
      "If Article 32 (1) Having received proof that a missing person is alive or that a missing person died at a time different from the time set forth in the preceding Article, the family court, at the request of the missing person or an interested person, must rescind the declaration of that person's disappearance. In this case, the rescission does not affect the validity of any act performed in good faith after the declaration of disappearance but before the rescission thereof.\n",
      "(2) A person who has acquired property due to a declaration of disappearance loses the rights in question due to its rescission; provided, however, that the person has the obligation to return that property only to the extent currently enriched., can we conclude that \"In the event that a declaration of disappearance is rescinded, a person who has acquired property due to the declaration of disappearance must return to the missing person the full amount of the benefits received from the acquisition of the property, even if the person acted in good faith regarding the survival of the missing person.\"? Yes or No \n"
     ]
    },
    {
     "name": "stderr",
     "output_type": "stream",
     "text": [
      "100%|█████████████████████████████████████████████████████████████████████████████████████████████████████████████████████████████████████████████████████████| 109/109 [00:24<00:00,  4.49it/s]\n"
     ]
    },
    {
     "name": "stdout",
     "output_type": "stream",
     "text": [
      "=======================================\n",
      "If {{premise}}, can we conclude that \"{{hypothesis}}\"? Yes or No \n",
      "82 / 109\n",
      "Premise: \"{{premise}}\" If this premise is true, what does that tell us about whether it entails the hypothesis \"{{hypothesis}}\"?\n",
      "\n",
      "Yes or No \n"
     ]
    },
    {
     "name": "stderr",
     "output_type": "stream",
     "text": [
      "  1%|█▍                                                                                                                                                         | 1/109 [00:00<00:27,  3.99it/s]"
     ]
    },
    {
     "name": "stdout",
     "output_type": "stream",
     "text": [
      "Premise: \"Article 32 (1) Having received proof that a missing person is alive or that a missing person died at a time different from the time set forth in the preceding Article, the family court, at the request of the missing person or an interested person, must rescind the declaration of that person's disappearance. In this case, the rescission does not affect the validity of any act performed in good faith after the declaration of disappearance but before the rescission thereof.\n",
      "(2) A person who has acquired property due to a declaration of disappearance loses the rights in question due to its rescission; provided, however, that the person has the obligation to return that property only to the extent currently enriched.\" If this premise is true, what does that tell us about whether it entails the hypothesis \"In the event that a declaration of disappearance is rescinded, a person who has acquired property due to the declaration of disappearance must return to the missing person the full amount of the benefits received from the acquisition of the property, even if the person acted in good faith regarding the survival of the missing person.\"?\n",
      "\n",
      "Yes or No \n"
     ]
    },
    {
     "name": "stderr",
     "output_type": "stream",
     "text": [
      "100%|█████████████████████████████████████████████████████████████████████████████████████████████████████████████████████████████████████████████████████████| 109/109 [00:25<00:00,  4.20it/s]\n"
     ]
    },
    {
     "name": "stdout",
     "output_type": "stream",
     "text": [
      "=======================================\n",
      "Premise: \"{{premise}}\" If this premise is true, what does that tell us about whether it entails the hypothesis \"{{hypothesis}}\"?\n",
      "\n",
      "Yes or No \n",
      "81 / 109\n",
      "{{premise}}\n",
      "Question: {{hypothesis}} True or False?\n"
     ]
    },
    {
     "name": "stderr",
     "output_type": "stream",
     "text": [
      "  2%|███                                                                                                                                                        | 2/101 [00:00<00:22,  4.40it/s]"
     ]
    },
    {
     "name": "stdout",
     "output_type": "stream",
     "text": [
      "Article 5 (1) A minor must obtain the consent of the minor's legal representative to perform a juridical act;provided, however, that this does not apply to a juridical act for merely acquiring a right or being released from an obligation.\n",
      "(2) A juridical act in contravention of the provisions of the preceding paragraph is voidable.\n",
      "Article 6 (1) A minor who is permitted to conduct one or multiple types of business has the same capacity to act as an adult as far as that business is concerned.\n",
      "Question: A juridical act by a minor who is permitted to conduct business may not be rescinded even if the judicial act does not concern the business. True or False?\n"
     ]
    },
    {
     "name": "stderr",
     "output_type": "stream",
     "text": [
      "100%|█████████████████████████████████████████████████████████████████████████████████████████████████████████████████████████████████████████████████████████| 101/101 [00:22<00:00,  4.51it/s]\n"
     ]
    },
    {
     "name": "stdout",
     "output_type": "stream",
     "text": [
      "=======================================\n",
      "{{premise}}\n",
      "Question: {{hypothesis}} True or False?\n",
      "79 / 101\n",
      "{{premise}}\n",
      "Question: {{hypothesis}} True or False? \n"
     ]
    },
    {
     "name": "stderr",
     "output_type": "stream",
     "text": [
      "  1%|█▌                                                                                                                                                         | 1/101 [00:00<00:31,  3.18it/s]"
     ]
    },
    {
     "name": "stdout",
     "output_type": "stream",
     "text": [
      "Article 5 (1) A minor must obtain the consent of the minor's legal representative to perform a juridical act;provided, however, that this does not apply to a juridical act for merely acquiring a right or being released from an obligation.\n",
      "(2) A juridical act in contravention of the provisions of the preceding paragraph is voidable.\n",
      "Article 6 (1) A minor who is permitted to conduct one or multiple types of business has the same capacity to act as an adult as far as that business is concerned.\n",
      "Question: A juridical act by a minor who is permitted to conduct business may not be rescinded even if the judicial act does not concern the business. True or False? \n"
     ]
    },
    {
     "name": "stderr",
     "output_type": "stream",
     "text": [
      "100%|█████████████████████████████████████████████████████████████████████████████████████████████████████████████████████████████████████████████████████████| 101/101 [00:23<00:00,  4.38it/s]\n"
     ]
    },
    {
     "name": "stdout",
     "output_type": "stream",
     "text": [
      "=======================================\n",
      "{{premise}}\n",
      "Question: {{hypothesis}} True or False? \n",
      "79 / 101\n",
      "{{premise}} Based on that information, is the claim: \"{{hypothesis}}\" true or false?\n"
     ]
    },
    {
     "name": "stderr",
     "output_type": "stream",
     "text": [
      "  1%|█▌                                                                                                                                                         | 1/101 [00:00<00:16,  5.96it/s]"
     ]
    },
    {
     "name": "stdout",
     "output_type": "stream",
     "text": [
      "Article 5 (1) A minor must obtain the consent of the minor's legal representative to perform a juridical act;provided, however, that this does not apply to a juridical act for merely acquiring a right or being released from an obligation.\n",
      "(2) A juridical act in contravention of the provisions of the preceding paragraph is voidable.\n",
      "Article 6 (1) A minor who is permitted to conduct one or multiple types of business has the same capacity to act as an adult as far as that business is concerned. Based on that information, is the claim: \"A juridical act by a minor who is permitted to conduct business may not be rescinded even if the judicial act does not concern the business.\" true or false?\n"
     ]
    },
    {
     "name": "stderr",
     "output_type": "stream",
     "text": [
      "100%|█████████████████████████████████████████████████████████████████████████████████████████████████████████████████████████████████████████████████████████| 101/101 [00:20<00:00,  4.99it/s]\n"
     ]
    },
    {
     "name": "stdout",
     "output_type": "stream",
     "text": [
      "=======================================\n",
      "{{premise}} Based on that information, is the claim: \"{{hypothesis}}\" true or false?\n",
      "79 / 101\n",
      "EXAM\n",
      "1. Answer by yes or no.\n",
      "\n",
      "Document: {{premise}}\n",
      "Question: {{hypothesis}}? \n"
     ]
    },
    {
     "name": "stderr",
     "output_type": "stream",
     "text": [
      "  1%|█▌                                                                                                                                                         | 1/101 [00:00<00:16,  6.03it/s]"
     ]
    },
    {
     "name": "stdout",
     "output_type": "stream",
     "text": [
      "EXAM\n",
      "1. Answer by yes or no.\n",
      "\n",
      "Document: Article 5 (1) A minor must obtain the consent of the minor's legal representative to perform a juridical act;provided, however, that this does not apply to a juridical act for merely acquiring a right or being released from an obligation.\n",
      "(2) A juridical act in contravention of the provisions of the preceding paragraph is voidable.\n",
      "Article 6 (1) A minor who is permitted to conduct one or multiple types of business has the same capacity to act as an adult as far as that business is concerned.\n",
      "Question: A juridical act by a minor who is permitted to conduct business may not be rescinded even if the judicial act does not concern the business.? \n"
     ]
    },
    {
     "name": "stderr",
     "output_type": "stream",
     "text": [
      "100%|█████████████████████████████████████████████████████████████████████████████████████████████████████████████████████████████████████████████████████████| 101/101 [00:18<00:00,  5.36it/s]\n"
     ]
    },
    {
     "name": "stdout",
     "output_type": "stream",
     "text": [
      "=======================================\n",
      "EXAM\n",
      "1. Answer by yes or no.\n",
      "\n",
      "Document: {{premise}}\n",
      "Question: {{hypothesis}}? \n",
      "76 / 101\n",
      "{{premise}}\n",
      "Based on the previous passage, {{hypothesis}}? \n"
     ]
    },
    {
     "name": "stderr",
     "output_type": "stream",
     "text": [
      "  1%|█▌                                                                                                                                                         | 1/101 [00:00<00:18,  5.29it/s]"
     ]
    },
    {
     "name": "stdout",
     "output_type": "stream",
     "text": [
      "Article 5 (1) A minor must obtain the consent of the minor's legal representative to perform a juridical act;provided, however, that this does not apply to a juridical act for merely acquiring a right or being released from an obligation.\n",
      "(2) A juridical act in contravention of the provisions of the preceding paragraph is voidable.\n",
      "Article 6 (1) A minor who is permitted to conduct one or multiple types of business has the same capacity to act as an adult as far as that business is concerned.\n",
      "Based on the previous passage, A juridical act by a minor who is permitted to conduct business may not be rescinded even if the judicial act does not concern the business.? \n"
     ]
    },
    {
     "name": "stderr",
     "output_type": "stream",
     "text": [
      "100%|█████████████████████████████████████████████████████████████████████████████████████████████████████████████████████████████████████████████████████████| 101/101 [00:19<00:00,  5.24it/s]\n"
     ]
    },
    {
     "name": "stdout",
     "output_type": "stream",
     "text": [
      "=======================================\n",
      "{{premise}}\n",
      "Based on the previous passage, {{hypothesis}}? \n",
      "80 / 101\n",
      "Premise: {{premise}}\n",
      "\n",
      "Hypothesis: {{hypothesis}}\n",
      "\n",
      "Does the premise entail the hypothesis? Yes or no \n"
     ]
    },
    {
     "name": "stderr",
     "output_type": "stream",
     "text": [
      "  1%|█▌                                                                                                                                                         | 1/101 [00:00<00:17,  5.56it/s]"
     ]
    },
    {
     "name": "stdout",
     "output_type": "stream",
     "text": [
      "Premise: Article 5 (1) A minor must obtain the consent of the minor's legal representative to perform a juridical act;provided, however, that this does not apply to a juridical act for merely acquiring a right or being released from an obligation.\n",
      "(2) A juridical act in contravention of the provisions of the preceding paragraph is voidable.\n",
      "Article 6 (1) A minor who is permitted to conduct one or multiple types of business has the same capacity to act as an adult as far as that business is concerned.\n",
      "\n",
      "Hypothesis: A juridical act by a minor who is permitted to conduct business may not be rescinded even if the judicial act does not concern the business.\n",
      "\n",
      "Does the premise entail the hypothesis? Yes or no \n"
     ]
    },
    {
     "name": "stderr",
     "output_type": "stream",
     "text": [
      "100%|█████████████████████████████████████████████████████████████████████████████████████████████████████████████████████████████████████████████████████████| 101/101 [00:20<00:00,  5.02it/s]\n"
     ]
    },
    {
     "name": "stdout",
     "output_type": "stream",
     "text": [
      "=======================================\n",
      "Premise: {{premise}}\n",
      "\n",
      "Hypothesis: {{hypothesis}}\n",
      "\n",
      "Does the premise entail the hypothesis? Yes or no \n",
      "79 / 101\n",
      "Premise: {{premise}}\n",
      "Hypothesis: {{hypothesis}}\n",
      "Is the hypothesis entailed by the premise? Yes or no \n"
     ]
    },
    {
     "name": "stderr",
     "output_type": "stream",
     "text": [
      "  1%|█▌                                                                                                                                                         | 1/101 [00:00<00:23,  4.20it/s]"
     ]
    },
    {
     "name": "stdout",
     "output_type": "stream",
     "text": [
      "Premise: Article 5 (1) A minor must obtain the consent of the minor's legal representative to perform a juridical act;provided, however, that this does not apply to a juridical act for merely acquiring a right or being released from an obligation.\n",
      "(2) A juridical act in contravention of the provisions of the preceding paragraph is voidable.\n",
      "Article 6 (1) A minor who is permitted to conduct one or multiple types of business has the same capacity to act as an adult as far as that business is concerned.\n",
      "Hypothesis: A juridical act by a minor who is permitted to conduct business may not be rescinded even if the judicial act does not concern the business.\n",
      "Is the hypothesis entailed by the premise? Yes or no \n"
     ]
    },
    {
     "name": "stderr",
     "output_type": "stream",
     "text": [
      "100%|█████████████████████████████████████████████████████████████████████████████████████████████████████████████████████████████████████████████████████████| 101/101 [00:20<00:00,  4.96it/s]\n"
     ]
    },
    {
     "name": "stdout",
     "output_type": "stream",
     "text": [
      "=======================================\n",
      "Premise: {{premise}}\n",
      "Hypothesis: {{hypothesis}}\n",
      "Is the hypothesis entailed by the premise? Yes or no \n",
      "79 / 101\n",
      "Sentence 1: {{premise}}\n",
      "\n",
      "Sentence 2: {{hypothesis}}\n",
      "Is this second sentence entailed by the first sentence? Yes or No \n"
     ]
    },
    {
     "name": "stderr",
     "output_type": "stream",
     "text": [
      "  1%|█▌                                                                                                                                                         | 1/101 [00:00<00:16,  6.12it/s]"
     ]
    },
    {
     "name": "stdout",
     "output_type": "stream",
     "text": [
      "Sentence 1: Article 5 (1) A minor must obtain the consent of the minor's legal representative to perform a juridical act;provided, however, that this does not apply to a juridical act for merely acquiring a right or being released from an obligation.\n",
      "(2) A juridical act in contravention of the provisions of the preceding paragraph is voidable.\n",
      "Article 6 (1) A minor who is permitted to conduct one or multiple types of business has the same capacity to act as an adult as far as that business is concerned.\n",
      "\n",
      "Sentence 2: A juridical act by a minor who is permitted to conduct business may not be rescinded even if the judicial act does not concern the business.\n",
      "Is this second sentence entailed by the first sentence? Yes or No \n"
     ]
    },
    {
     "name": "stderr",
     "output_type": "stream",
     "text": [
      "100%|█████████████████████████████████████████████████████████████████████████████████████████████████████████████████████████████████████████████████████████| 101/101 [00:20<00:00,  5.05it/s]\n"
     ]
    },
    {
     "name": "stdout",
     "output_type": "stream",
     "text": [
      "=======================================\n",
      "Sentence 1: {{premise}}\n",
      "\n",
      "Sentence 2: {{hypothesis}}\n",
      "Is this second sentence entailed by the first sentence? Yes or No \n",
      "78 / 101\n",
      "Sentence 1: {{premise}}\n",
      "\n",
      "Sentence 2: {{hypothesis}}\n",
      "\n",
      "If the first sentence is true, then is the second sentence true? True or False \n"
     ]
    },
    {
     "name": "stderr",
     "output_type": "stream",
     "text": [
      "  1%|█▌                                                                                                                                                         | 1/101 [00:00<00:31,  3.22it/s]"
     ]
    },
    {
     "name": "stdout",
     "output_type": "stream",
     "text": [
      "Sentence 1: Article 5 (1) A minor must obtain the consent of the minor's legal representative to perform a juridical act;provided, however, that this does not apply to a juridical act for merely acquiring a right or being released from an obligation.\n",
      "(2) A juridical act in contravention of the provisions of the preceding paragraph is voidable.\n",
      "Article 6 (1) A minor who is permitted to conduct one or multiple types of business has the same capacity to act as an adult as far as that business is concerned.\n",
      "\n",
      "Sentence 2: A juridical act by a minor who is permitted to conduct business may not be rescinded even if the judicial act does not concern the business.\n",
      "\n",
      "If the first sentence is true, then is the second sentence true? True or False \n"
     ]
    },
    {
     "name": "stderr",
     "output_type": "stream",
     "text": [
      "100%|█████████████████████████████████████████████████████████████████████████████████████████████████████████████████████████████████████████████████████████| 101/101 [00:28<00:00,  3.58it/s]\n"
     ]
    },
    {
     "name": "stdout",
     "output_type": "stream",
     "text": [
      "=======================================\n",
      "Sentence 1: {{premise}}\n",
      "\n",
      "Sentence 2: {{hypothesis}}\n",
      "\n",
      "If the first sentence is true, then is the second sentence true? True or False \n",
      "68 / 101\n",
      "If {{premise}}, can we conclude that \"{{hypothesis}}\"? Yes or No \n"
     ]
    },
    {
     "name": "stderr",
     "output_type": "stream",
     "text": [
      "  1%|█▌                                                                                                                                                         | 1/101 [00:00<00:21,  4.62it/s]"
     ]
    },
    {
     "name": "stdout",
     "output_type": "stream",
     "text": [
      "If Article 5 (1) A minor must obtain the consent of the minor's legal representative to perform a juridical act;provided, however, that this does not apply to a juridical act for merely acquiring a right or being released from an obligation.\n",
      "(2) A juridical act in contravention of the provisions of the preceding paragraph is voidable.\n",
      "Article 6 (1) A minor who is permitted to conduct one or multiple types of business has the same capacity to act as an adult as far as that business is concerned., can we conclude that \"A juridical act by a minor who is permitted to conduct business may not be rescinded even if the judicial act does not concern the business.\"? Yes or No \n"
     ]
    },
    {
     "name": "stderr",
     "output_type": "stream",
     "text": [
      "100%|█████████████████████████████████████████████████████████████████████████████████████████████████████████████████████████████████████████████████████████| 101/101 [00:19<00:00,  5.17it/s]\n"
     ]
    },
    {
     "name": "stdout",
     "output_type": "stream",
     "text": [
      "=======================================\n",
      "If {{premise}}, can we conclude that \"{{hypothesis}}\"? Yes or No \n",
      "81 / 101\n",
      "Premise: \"{{premise}}\" If this premise is true, what does that tell us about whether it entails the hypothesis \"{{hypothesis}}\"?\n",
      "\n",
      "Yes or No \n"
     ]
    },
    {
     "name": "stderr",
     "output_type": "stream",
     "text": [
      "  1%|█▌                                                                                                                                                         | 1/101 [00:00<00:17,  5.85it/s]"
     ]
    },
    {
     "name": "stdout",
     "output_type": "stream",
     "text": [
      "Premise: \"Article 5 (1) A minor must obtain the consent of the minor's legal representative to perform a juridical act;provided, however, that this does not apply to a juridical act for merely acquiring a right or being released from an obligation.\n",
      "(2) A juridical act in contravention of the provisions of the preceding paragraph is voidable.\n",
      "Article 6 (1) A minor who is permitted to conduct one or multiple types of business has the same capacity to act as an adult as far as that business is concerned.\" If this premise is true, what does that tell us about whether it entails the hypothesis \"A juridical act by a minor who is permitted to conduct business may not be rescinded even if the judicial act does not concern the business.\"?\n",
      "\n",
      "Yes or No \n"
     ]
    },
    {
     "name": "stderr",
     "output_type": "stream",
     "text": [
      "100%|█████████████████████████████████████████████████████████████████████████████████████████████████████████████████████████████████████████████████████████| 101/101 [00:21<00:00,  4.67it/s]"
     ]
    },
    {
     "name": "stdout",
     "output_type": "stream",
     "text": [
      "=======================================\n",
      "Premise: \"{{premise}}\" If this premise is true, what does that tell us about whether it entails the hypothesis \"{{hypothesis}}\"?\n",
      "\n",
      "Yes or No \n",
      "81 / 101\n"
     ]
    },
    {
     "name": "stderr",
     "output_type": "stream",
     "text": [
      "\n"
     ]
    }
   ],
   "source": [
    "predict(model, tokenizer, [\"riteval_R01_en\",\"riteval_R02_en\",\"riteval_R03_en\",\"riteval_R04_en\"], \"../output/accuracy2/newpromt_\")"
   ]
  },
  {
   "cell_type": "code",
   "execution_count": 13,
   "id": "3955c392-c3e1-456c-82ce-0571b0145c33",
   "metadata": {
    "scrolled": true
   },
   "outputs": [
    {
     "name": "stdout",
     "output_type": "stream",
     "text": [
      "Premise: Article 537(1) If one of the parties promises in a contract to render a certain performance to a third party, the third party has the right to claim that performance directly from the obligor.\n",
      "(2) The validity of the contract referred to in the preceding paragraph is not impaired even if a third party does not exist or a third party is not specified at the time of its formation.\n",
      "(3) In the case referred to in paragraph (1), rights of the third party accrue when the third party has manifested intention of availing of the benefit of the contract under that paragraph to the obligor.\n",
      "Hypothesis: The validity of a third party beneficiary contract made by A with C, the mother of B, to give land X owned by A to B gratuitously, is not impaired even if B is an unborn child as of the time of the formation of the contract.\n",
      "Is the hypothesis entailed by the premise? Yes or no (No explain)\n",
      "Premise: Article 712 If a minor has inflicted damage on another person but did not have sufficient intellectual capacity to appreciate their own liability for that act, that minor is not liable to compensate for that act.\n",
      "Hypothesis: Mental capacity means the capacity to appreciate one's own liability for one's acts.\n",
      "Is the hypothesis entailed by the premise? Yes or no (No explain)\n",
      "Premise: Article 3-2 If the person making a juridical act did not have mental capacity when manifesting the relevant intention, the juridical act is void.\n",
      "Hypothesis: If a party to a contract did not have mental capacity when manifesting the relevant intention, the nullity of the contract may be asserted even against a third party in good faith and acting without negligence.\n",
      "Is the hypothesis entailed by the premise? Yes or no (No explain)\n",
      "Premise: Article 3-2 If the person making a juridical act did not have mental capacity when manifesting the relevant intention, the juridical act is void.\n",
      "Article 121-2(1) A person that has received payment or delivery as the performance of an obligation based on a void act has an obligation to restore the other party to the original state.\n",
      "(2) Notwithstanding the provisions of the preceding paragraph, if a person that receives payment or delivery as the performance of an obligation based on a void gratuitous act did not know that the act was void at the time of receiving the payment or delivery (or if the person did not know that the act was voidable at the time of receiving the payment or delivery in the case of an act which is deemed void ab initio pursuant to the provisions of the preceding Article after the receipt of the payment or delivery), has an obligation to return to the extent currently enriched by the act.\n",
      "(3) Notwithstanding the provisions of paragraph (1), a person who has no mental capacity at the time of performing an act has an obligation to return to the extent currently enriched by the act. The same applies to a person who is a person with qualified legal capacity at the time of performing an act.\n",
      "Hypothesis: If a party to a contract did not have mental capacity when manifesting the relevant intention and received payment or delivery as the performance of an obligation based on the contract, the party has an obligation to return to the extent that the party retains a benefit.\n",
      "Is the hypothesis entailed by the premise? Yes or no (No explain)\n",
      "Premise: Article 526 If an offeror dies, comes to be in a constant state wherein the offeror lacks mental capacity, or becomes subject to restrictions on legal capacity to act after issuing notice of the offer, and the offeror has manifested the intention not to make the offer effective should any of these facts occur, or the other party comes to know that any of these facts has occurred before issuing a notice of acceptance, that offer is not effective.\n",
      "Hypothesis: If an offeror of a contract comes to be in a constant state wherein the offeror lacks mental capacity after issuing notice of the offer, and the other party comes to know such fact has occurred before issuing a notice of acceptance, the offer is not effective.\n",
      "Is the hypothesis entailed by the premise? Yes or no (No explain)\n",
      "Premise: Article 25(1) If a person who has taken leave of the domicile or residence up until then (hereinafter referred to as an \"absentee\") has not appointed an administrator for the person's property (hereinafter in this Section referred to simply as an \"administrator\"), the family court, at the request of an interested person or a public prosecutor, may order the necessary dispositions with regard to the administration of that property. The same applies if the administrator's authority is extinguished during the absence of the absentee.\n",
      "(2) If an absentee appoints an administrator after an order under the provisions of the preceding paragraph has been issued, the family court must rescind that order at the request of the person's administrator, an interested person, or a public prosecutor.\n",
      "Hypothesis: Absentee means a person who has taken leave of the domicile or residence up until then and whose whereabouts are unable to ascertain.\n",
      "Is the hypothesis entailed by the premise? Yes or no (No explain)\n",
      "Premise: Article 25(1) If a person who has taken leave of the domicile or residence up until then (hereinafter referred to as an \"absentee\") has not appointed an administrator for the person's property (hereinafter in this Section referred to simply as an \"administrator\"), the family court, at the request of an interested person or a public prosecutor, may order the necessary dispositions with regard to the administration of that property. The same applies if the administrator's authority is extinguished during the absence of the absentee.\n",
      "(2) If an absentee appoints an administrator after an order under the provisions of the preceding paragraph has been issued, the family court must rescind that order at the request of the person's administrator, an interested person, or a public prosecutor.\n",
      "Hypothesis: If an absentee has not appointed an administrator for the person's property, not only interested persons but also public prosecutors may request the family court to order the necessary dispositions with regard to the administration of that property.\n",
      "Is the hypothesis entailed by the premise? Yes or no (No explain)\n",
      "Premise: Article 27(1) An administrator appointed by the family court pursuant to the provisions of the preceding two Articles must prepare a list of the property that the administrator is to administer. In such a case, the expenses incurred are paid from the property of the absentee.\n",
      "(2) If it is unclear whether an absentee is dead or alive and an interested person or a public prosecutor so requests, the family court may also order the administrator appointed by the absentee to prepare the list referred to in the preceding paragraph.\n",
      "(3) Beyond what is provided for in the preceding two paragraphs, the family court may order the administrator to make the dispositions that the court finds to be necessary to preserve the property of the absentee.\n",
      "Hypothesis: The family court may order the administrator appointed by the absentee to make the dispositions that the court finds to be necessary to preserve the property of the absentee.\n",
      "Is the hypothesis entailed by the premise? Yes or no (No explain)\n",
      "Premise: Article 28 If an administrator needs to perform an act exceeding the authority provided for in Article 103, the administrator may perform that act after obtaining the permission of the family court. The same applies if it is unclear whether the absentee is dead or alive and the administrator needs to perform an act exceeding the authority established by the absentee.\n",
      "Hypothesis: The administrator appointed by the absentee may perform an act exceeding the authority established by the absentee by obtaining the permission of the family court, even if it is clear that the absentee is alive.\n",
      "Is the hypothesis entailed by the premise? Yes or no (No explain)\n",
      "Premise: Article 28 If an administrator needs to perform an act exceeding the authority provided for in Article 103, the administrator may perform that act after obtaining the permission of the family court. The same applies if it is unclear whether the absentee is dead or alive and the administrator needs to perform an act exceeding the authority established by the absentee.\n",
      "Hypothesis: An administrator for the absentee's property appointed by the family court must obtain the permission of the family court when dividing the estate by agreement with the other heirs on behalf of the absentee who is the heir.\n",
      "Is the hypothesis entailed by the premise? Yes or no (No explain)\n",
      "Premise: Article 101(1) If the validity of a manifestation of intention that an agent has made to the other party is to be influenced by the absence of intention; by mistake, fraud, or duress; or by the knowledge of or negligence in not knowing of a particular circumstance; whether or not any such fact was present is decided as it concerns the agent.\n",
      "(2) If the validity of a manifestation of intention that the other party has made to the agent is to be influenced by the recipient's knowledge of or negligence in not knowing of a particular circumstance, whether or not any such fact was present is decided as it concerns the agent.\n",
      "(3) If an agent who has been entrusted with performing a specific juridical act performs that act, the principal may not assert that the agent did not know of any particular circumstance of which the principal knew. The same applies to any circumstance of which the principal did not know due to the principal's own negligence.\n",
      "Hypothesis: If an agent who has been entrusted with performing a specific judicial act performs that act, the principal may not assert that the agent did not know of any particular circumstance of which the principal knew, only if the agent performed that act in accordance with the instructions of the principal.\n",
      "Is the hypothesis entailed by the premise? Yes or no (No explain)\n",
      "Premise: Article 105 A legal representative may appoint a subagent on its own responsibility. In such a case, if there is a compelling reason to do so, the legal representative is only liable to the principal for the appointment and supervision of the subagent.\n",
      "Hypothesis: If a legal representative appoints a subagent due to a compelling reason, the legal representative is only liable to the principal for the appointment and supervision of the subagent.\n",
      "Is the hypothesis entailed by the premise? Yes or no (No explain)\n",
      "Premise: Article 102 An act that a person with qualified legal capacity performs as an agent of another person may not be rescinded on the grounds of qualified legal capacity; provided, however, that this does not apply to an act performed by a person with qualified legal capacity as a legal representative of another person with qualified legal capacity.\n",
      "Hypothesis: An act that a person with qualified legal capacity performs as a legal representative of another person with qualified legal capacity may be rescinded on the grounds of qualified legal capacity.\n",
      "Is the hypothesis entailed by the premise? Yes or no (No explain)\n",
      "Premise: Article 108(1) An act that a person performs as an agent of the counterparty or as agent of both parties for the same juridical act is deemed to be an act performed by a person without authority to represent; provided, however, that this does not apply to the performance of an obligation or to an act authorized by the principal in advance.\n",
      "(2) Beyond what is provided for in the main clause of the preceding paragraph, an act for which the interest of the agent conflicts with the interest of the principal is deemed to be an act performed by a person without authority to represent; provided, however, that this does not apply to an act authorized by the principal in advance.\n",
      "Hypothesis: If A performs B's obligation to A based on a contract between A and B as B's agent, such performance is deemed to be an act performed by a person without authority to represent.\n",
      "Is the hypothesis entailed by the premise? Yes or no (No explain)\n",
      "Premise: Article 103 An agent who has no specifically defined authority has the authority to perform the following acts only:\n",
      "(i) acts of preservation; and\n",
      "(ii) acts with the purpose of using or improving a thing or right that is the subject matter of the agency, to the extent that this does not change the nature of that thing or right.\n",
      "Hypothesis: An agent who has no specifically defined authority has the authority to perform acts with the purpose of using or improving a thing or right that is the subject matter of the agency, to the extent that this does not change the nature of that thing or right.\n",
      "Is the hypothesis entailed by the premise? Yes or no (No explain)\n",
      "Premise: Article 96(1) A manifestation of intention based on fraud or duress is voidable.\n",
      "(2) If a third party commits a fraud inducing a first party to make a manifestation of intention to a second party, that manifestation of intention is voidable only if the second party knew or could have known that fact.\n",
      "(3) The rescission of a manifestation of intention induced by fraud under the provisions of the preceding two paragraphs may not be duly asserted against a third party in good faith acting without negligence.\n",
      "Article 121-2(1) A person that has received payment or delivery as the performance of an obligation based on a void act has an obligation to restore the other party to the original state.\n",
      "(2) Notwithstanding the provisions of the preceding paragraph, if a person that receives payment or delivery as the performance of an obligation based on a void gratuitous act did not know that the act was void at the time of receiving the payment or delivery (or if the person did not know that the act was voidable at the time of receiving the payment or delivery in the case of an act which is deemed void ab initio pursuant to the provisions of the preceding Article after the receipt of the payment or delivery), has an obligation to return to the extent currently enriched by the act.\n",
      "(3) Notwithstanding the provisions of paragraph (1), a person who has no mental capacity at the time of performing an act has an obligation to return to the extent currently enriched by the act. The same applies to a person who is a person with qualified legal capacity at the time of performing an act.\n",
      "Hypothesis: If B, under duress from A, manifests an intention to give 500,000 yen to C, and C, who does not know about the duress, spends the 500,000 yen received from B for entertainment, C has no obligation to return it to B, even if B cancels the manifestation of intention to give it after C's spending.\n",
      "Is the hypothesis entailed by the premise? Yes or no (No explain)\n",
      "Premise: Article 20(1) After a person with qualified legal capacity who is involved in dealings with another party becomes a person with the legal capacity to act (meaning a person whose legal capacity to act is not subject to restrictions; the same applies hereinafter), the other party to those dealings may fix a period of one month or longer and demand that the person give a definite answer within that period of time as to whether the person will ratify an act that the person may rescind. In such a case, if the person fails to send a definite answer within that period of time, the person is deemed to have ratified that act.\n",
      "(2) The second sentence of the preceding paragraph also applies if, before the person with qualified legal capacity becomes a person with the legal capacity to act, the other party to dealings involving the person with qualified legal capacity lodges the demand prescribed in the preceding paragraph with the legal representative, curator, or assistant of that person with respect to an act within the scope of their authority, and they fail to send a definite answer within the fixed period of time referred to in that paragraph.\n",
      "(3) If a person does not send notice within the period of time set forth in the preceding two paragraphs indicating that the person has completed any special formalities that an act requires, the person is deemed to have rescinded that act.\n",
      "(4) The other party to dealings involving a person with qualified legal capacity may lodge a demand with a person under curatorship or with a person under assistance who is subject to a decision as referred to in Article 17, paragraph (1) to demand that the person get the curator or assistant to ratify an act within the fixed period referred to in paragraph (1). In such a case, if the person under curatorship or person under assistance does not send notice within that period indicating that the person has gotten the curator or assistant to ratify the act in question, the person is deemed to have rescinded that act.\n",
      "Hypothesis: If A defrauds B and causes B to manifest an intention to give the land X owned by B to A, A may demand, by specifying a reasonable period of time, that B give a definite answer on whether or not B will ratify the manifestation of intention within that period of time.\n",
      "Is the hypothesis entailed by the premise? Yes or no (No explain)\n",
      "Premise: Article 95(1) A manifestation of intention is voidable if it is based on either of the following mistakes, and the mistake is material in light of the purpose of the juridical act and the common sense in the transaction:\n",
      "(i) a mistake wherein the person lacks the intention that corresponds to the manifestation of intention; or\n",
      "(ii) a mistake wherein the person making the manifestation of intention holds an understandings that does not correspond to the truth with regard to the circumstances which the person has taken as the basis for the juridical act.\n",
      "(2) A manifestation of intention under the provisions of item (ii) of the preceding paragraph may be rescinded only if it has been indicated that the circumstances in question are being taken as the basis for the juridical act.\n",
      "(3) If a mistake is due to gross negligence on the part of the person making the manifestation of intention, that person may not rescind a manifestation of intention as under paragraph (1), except in the following cases:\n",
      "(i) if the other party knew, or did not know due to gross negligence, of the mistake on the part of the person making the manifestation of intention; or\n",
      "(ii) if the other party was under the same mistake as the person making the manifestation of intention.\n",
      "(4) The rescission of a manifestation of intention under the provisions of paragraph (1) may not be duly asserted against a third party in good faith acting without negligence.\n",
      "Hypothesis: If A's manifestation of intention to B is based on a mistake due to A's gross negligence, A may not rescind the manifestation of intention on the ground of the mistake, even if B did not know due to gross negligence that A had the mistake.\n",
      "Is the hypothesis entailed by the premise? Yes or no (No explain)\n",
      "Premise: Article 94(1) A false manifestation of intention that a person makes in collusion with another person is void.\n",
      "(2) The nullity of a manifestation of intention under the provisions of the preceding paragraph may not be duly asserted against a third party in good faith.\n",
      "Hypothesis: In a case where A and B conspired to sell Land X owned by A to B, and after the transfer of ownership to B was registered, B sold Land X to C, and then C sold Land X to D, if C knows of the falsification between A and B, A may assert the invalidity of the manifestation of intent to sell between A and B against D, even if D does not know of the falsification between A and B.\n",
      "Is the hypothesis entailed by the premise? Yes or no (No explain)\n",
      "Premise: Article 93(1) The validity of a manifestation of intention is not impaired even if the person making it does so while knowing that it does not reflect that person's true intention; provided, however, that if the other party knew or could have known that the manifestation was not the true intention of the person who made it, that manifestation of intention is void.\n",
      "(2) The nullity of a manifestation of intention under the provisions of the proviso to the preceding paragraph may not be duly asserted against a third party in good faith.\n",
      "Hypothesis: In a case where A manifests his intention to sell land X owned by A to B while knowing that such manifestation of intention does not reflect A's true intention, even if A's manifestation of intention is void because B could have known that A's manifestation of intention was not true, if C in good faith purchases land X from B, A may not assert against C the nullity of such manifestation of intention.\n",
      "Is the hypothesis entailed by the premise? Yes or no (No explain)\n",
      "Premise: Article 132 A juridical act subject to an unlawful condition is void. The same applies to a juridical act subject to the condition that an unlawful act not be performed.\n",
      "Hypothesis: If A concludes a gift agreement with B to the effect that A will give B 100,000 yen if B does not commit theft for a certain period of time, and if B, who has not committed theft for that period of time, demands A to pay 100,000 yen, A may refuse to do so.\n",
      "Is the hypothesis entailed by the premise? Yes or no (No explain)\n",
      "Premise: Article 130(1) If a party that would suffer a detriment as a result of the fulfillment of a condition intentionally prevents the fulfillment of that condition, the counterparty may deem that the condition has been fulfilled.\n",
      "(2) If a party who would enjoy a benefit as a result of the fulfillment of a condition wrongfully has that condition fulfilled, the counterparty may deem that the condition has not been fulfilled.\n",
      "Hypothesis: If a contract of gift of movables with a condition precedent is concluded, and the donor intentionally prevents the fulfillment of the condition in breach of good faith principle, the donee may demand the delivery of the movables.\n",
      "Is the hypothesis entailed by the premise? Yes or no (No explain)\n",
      "Premise: Article 128 While it is uncertain whether or not a condition will be fulfilled, a party to a juridical act that is subject to a condition may not prejudice the other party's interests that would arise from the juridical act upon fulfillment of the condition.\n",
      "Hypothesis: If A concludes a gift agreement with B to the effect that A will give movable property Y owned by A to B if B is accepted to University X, and A negligently damages Y while B's acceptance or rejection is uncertain, A is not liable to compensate B for the damage, even if B is accepted to University X.\n",
      "Is the hypothesis entailed by the premise? Yes or no (No explain)\n",
      "Premise: Article 134 A juridical act subject to a condition precedent is void if the condition is dependent only upon the intention of the obligor.\n",
      "Hypothesis: If A concludes a gift agreement with B to the effect that A will give B 100,000 yen if A feels inclined to do so, and B demands A to pay 100,000 yen, A may not refuse to do so.\n",
      "Is the hypothesis entailed by the premise? Yes or no (No explain)\n",
      "Premise: Article 187(1) A successor to a possessor may, as the successor chooses, assert either the successor's own possession only, or the successor's own possession together with that of the predecessor.\n",
      "(2) If a person asserts the possession of the predecessor together with the person's own, that person also succeeds to defects in the same.\n",
      "Hypothesis: When claiming acquisition of ownership by prescription, an heir may, as the heir chooses, assert either the heir's own possession only, or the heir's own possession together with that of the decedent.\n",
      "Is the hypothesis entailed by the premise? Yes or no (No explain)\n",
      "Premise: Article 163 A person that exercises a property right other than ownership peacefully and openly with the intention to do so on the person's own behalf acquires that right after the passage of 20 years or 10 years, according to the distinction provided for in the preceding Article.\n",
      "Article 162(1) A person that possesses the property of another for 20 years peacefully and openly with the intention to own it acquires ownership thereof.\n",
      "(2) A person that possesses the property of another for 10 years peacefully and openly with an intention to own it acquires ownership thereof if the person was acting in good faith and was not negligent at the time when the possession started.\n",
      "Hypothesis: The period required to acquire superficies by prescription is ten years, regardless of the subjective circumstances of the person who claims to acquire it.\n",
      "Is the hypothesis entailed by the premise? Yes or no (No explain)\n",
      "Premise: Article 283 A servitude may be acquired by prescription so long as it is continuously exercised and can be externally recognized.\n",
      "Hypothesis: A servitude may be acquired by prescription so long as it is continuously exercised and can be externally recognized.\n",
      "Is the hypothesis entailed by the premise? Yes or no (No explain)\n",
      "Premise: Article 177 Acquisitions of, losses of and changes in real rights on immovables may not be duly asserted against any third parties, unless the same are registered pursuant to the applicable provisions of the Real Property Registration Act (Act No. 123 of 2004) and other laws regarding registration.\n",
      "Hypothesis: A person who has acquired superficies in order to own trees or bamboo by prescription may assert the acquisition of superficies against a person who subsequently purchases the land subject to the superficies and registers to that effect, even without registration.\n",
      "Is the hypothesis entailed by the premise? Yes or no (No explain)\n",
      "Premise: Article 281(1) Servitudes are transferred together with the ownership in the dominant land (meaning the land of a servitude holder, enjoying benefits from another person's land; the same applies hereinafter) as appurtenances thereof, and are subject of other rights that exist in relation to the dominant land; provided, however, that this does not apply if the act establishing the servitude provides otherwise.\n",
      "(2) Servitudes may neither be transferred nor made the subject of other rights apart from the dominant land.\n",
      "Article 177 Acquisitions of, losses of and changes in real rights on immovables may not be duly asserted against any third parties, unless the same are registered pursuant to the applicable provisions of the Real Property Registration Act (Act No. 123 of 2004) and other laws regarding registration.\n",
      "Hypothesis: If the establishment of a servitude has been registered for the servient land, and the dominant land is transferred, the transferee may assert the transfer of the servitude against a third party if the transfer of ownership of the dominant land is registered.\n",
      "Is the hypothesis entailed by the premise? Yes or no (No explain)\n",
      "Premise: Article 336 General statutory liens may be duly asserted against obligees without special security, even if the liens are not registered with respect to the relevant immovables; provided, however, that this does not apply to registered third parties.\n",
      "Hypothesis: A general statutory lien has priority over a registered mortgage existing on an immovable property even if such general statutory lien is not registered on such property.\n",
      "Is the hypothesis entailed by the premise? Yes or no (No explain)\n",
      "Premise: Article 387(1) A registered lease may be duly asserted against mortgagees that hold mortgages registered prior to the registration of that lease if all mortgagees that hold those mortgages give their consent and those consents are registered.\n",
      "(2) For a mortgagee to give the consent referred to in the preceding paragraph, the approval of the persons that hold rights for which the mortgage is the subject matter and other persons that will suffer detriment as a result of the consent of the mortgagee must be obtained.\n",
      "Hypothesis: If a lease of a building has been perfected by delivery, and all the holders of the mortgage registered on the building prior to such delivery have consented to the lease, the lessee may assert the creation of the right of lease against those who have purchased such building by enforcement of the mortgage.\n",
      "Is the hypothesis entailed by the premise? Yes or no (No explain)\n",
      "Premise: Article 398 Even if a holder of superficies or a farming right holder that created mortgage on that holder's superficies or farming right renounces the relevant rights, the renunciation may not be duly asserted against the mortgagee.\n",
      "Hypothesis: Even if a farming right holder that has created a mortgage on the holder's farming right renounces the right, the renunciation may not be duly asserted against the mortgagee.\n",
      "Is the hypothesis entailed by the premise? Yes or no (No explain)\n",
      "Premise: Article 202(1) A possessory action does not preclude an action on title that legally supports the possession, and an action on title does not preclude a possessory action.\n",
      "(2) With respect to possessory actions, no judicial decision may be made on grounds relating to title that legally supports the possession.\n",
      "Hypothesis: B has stolen movable X owned and possessed by A. In this case, A may simultaneously demand B to return X based on ownership and to return X by an action for recovery of possession.\n",
      "Is the hypothesis entailed by the premise? Yes or no (No explain)\n",
      "Premise: Article 180 Possessory rights are acquired by possessing a thing with the intention to do so on one's own behalf.\n",
      "Article 200(1) If a possessor is forcibly dispossessed, the possessor may demand the restitution of the thing and compensation for loss or damage by filing an action for recovery of possession.\n",
      "(2) An action for recovery of possession may not be filed against a specific successor of a person that forcibly takes possession; provided, however, that this does not apply if that successor had knowledge of the fact that the person has unlawfully taken the possession.\n",
      "Hypothesis: B has defrauded A of Movable X owned and possessed by A. If C has stolen X from B, B may not demand C to return X by an action for recovery of possession.\n",
      "Is the hypothesis entailed by the premise? Yes or no (No explain)\n",
      "Premise: Article 203 Possessory rights are extinguished when the possessor renounces the intention to possess, or loses possession of the possessed thing; provided, however, that this does not apply if the possessor files an action for recovery of possession.\n",
      "Hypothesis: B exercises a right of retention against movable X owned by A. If C steals X from B, B may not demand C to return X by an action for recovery of possession.\n",
      "Is the hypothesis entailed by the premise? Yes or no (No explain)\n",
      "Premise: Article 200(1) If a possessor is forcibly dispossessed, the possessor may demand the restitution of the thing and compensation for loss or damage by filing an action for recovery of possession.\n",
      "(2) An action for recovery of possession may not be filed against a specific successor of a person that forcibly takes possession; provided, however, that this does not apply if that successor had knowledge of the fact that the person has unlawfully taken the possession.\n",
      "Hypothesis: B, who has stolen movable X owned and possessed by A, sells and delivers X to C, who is in good faith about the fact. In this case, A may not demand C to return X by an action for recovery of possession.\n",
      "Is the hypothesis entailed by the premise? Yes or no (No explain)\n",
      "Premise: Article 181 Possessory rights may be acquired through an agent.\n",
      "Hypothesis: A has leased and delivered movable X owned by A to B. If C steals X from B, A may demand C to return X by an action for recovery of possession.\n",
      "Is the hypothesis entailed by the premise? Yes or no (No explain)\n",
      "Premise: Article 242 The owner of immovables acquires ownership of a thing that has been attached thereto as its appurtenance; provided, however, that the rights of the other person that attached that thing by virtue of a title are not prejudiced.\n",
      "Hypothesis: A has leased building X owned by A to B. If B has made an addition to building X with A's consent, the ownership of the addition belongs to B, even if the addition is not independent in trading practices.\n",
      "Is the hypothesis entailed by the premise? Yes or no (No explain)\n",
      "Premise: Article 242 The owner of immovables acquires ownership of a thing that has been attached thereto as its appurtenance; provided, however, that the rights of the other person that attached that thing by virtue of a title are not prejudiced.\n",
      "Hypothesis: A has sown seed owned by A on land owned by B without title. If the seed grows to become a seedling, ownership of the seedling belongs to B.\n",
      "Is the hypothesis entailed by the premise? Yes or no (No explain)\n",
      "Premise: Article 245 The provisions of the preceding two Articles apply mutatis mutandis if the things of different owners are mixed together and can no longer be distinguished.\n",
      "Article 244 If the distinction of principal and accessory cannot be made between the movables united by accession, the owner of each movable property co-owns the composite thing in proportion to the respective price current at the time of the accession.\n",
      "Hypothesis: Wine X owned by A and wine Y owned by B have been mixed together and can no longer be distinguished. If the distinction of principal and accessory cannot be made between X and Y, the thing formed by the mixture is co-owned by A and B in proportion to the respective price current at the time of the mixture.\n",
      "Is the hypothesis entailed by the premise? Yes or no (No explain)\n",
      "Premise: Article 246(1) If a person (hereinafter in this Article referred to as \"processor\") adds labor to another person's movables, the ownership of the processed thing belongs to the owner of the material; provided, however, that if the value derived from the work significantly exceeds the value of the material, the processor acquires ownership of the processed thing.\n",
      "(2) In the cases prescribed in the preceding paragraph, if the processor provides a portion of the materials, the processor acquires ownership of the processed thing only if the value of provided materials added to the value derived from the labor exceeds the value of the other person's materials.\n",
      "Hypothesis: A has added labor to a steel plate X owned by B to produce a work Y. If the value derived from the work significantly exceeds the value of X, ownership of Y belongs to A.\n",
      "Is the hypothesis entailed by the premise? Yes or no (No explain)\n",
      "Premise: Article 388 If the land and a building on that land belong to the same owner, a mortgage is created with respect to that land or building, and the enforcement of that mortgage causes them to belong to different owners, it is deemed that a superficies has been created with respect to that building. In this case, the rent is fixed by the court at the request of the parties.\n",
      "Hypothesis: A person who has acquired a statutory superficies is not required to pay rent to the owner of the land that is the subject of the superficies.\n",
      "Is the hypothesis entailed by the premise? Yes or no (No explain)\n",
      "Premise: Article 278(1) The duration of a farming right is 20 years or more and 50 years or less. Even if an act of establishment provides for a period longer than 50 years, the duration is 50 years.\n",
      "(2) The establishment of farming right may be renewed; provided, however, that the duration of that right may not exceed 50 years from the time of renewal.\n",
      "(3) If an act of establishment does not provide for the duration of the farming right, the duration of that right is 30 years unless there are other customs to the contrary.\n",
      "Hypothesis: A farming right may not be established gratuitously.\n",
      "Is the hypothesis entailed by the premise? Yes or no (No explain)\n",
      "Premise: Article 263 Rights of common that have the nature of co-ownership are governed by local customs and are otherwise subject to the application of the provisions of this Section.\n",
      "Article 252(1) Matters regarding the management of property in co-ownership (including the appointment and dismissal of a manager of the property in co-ownership prescribed in paragraph (1) of the following Article, and excluding those that make any changes prescribed in paragraph (1) of the preceding Article to the property in co-ownership; the same applies in the following paragraph) are decided by a majority according to the value of the ownership shares of the co-owners. The same applies when there are co-owners who use the property in co-ownership.\n",
      "(2) In any of the following cases, the court may, upon the request of a co-owner other than another co-owner listed in the respective items, render a judicial decision to the effect that matters regarding the management of property in co-ownership may be decided by a majority according to the value of the ownership shares of the co-owners other than the other co-owner in question :\n",
      "(i) when a co-owner is unable to ascertain the identity of another co-owner or his/her whereabouts;\n",
      "(ii) when a co-owner has given notice to another co-owner requesting him/her to clarify whether he/she is in favor of or against the idea of deciding on matters regarding the management of property in co-ownership within a reasonable period of time, and the other co-owner in question does not clarify whether he/she is in favor of or against within that period of time.\n",
      "(3) If the decision under the preceding two paragraphs should have a special effect on any co-owner who uses the property in co-ownership based on a decision among co-owners, his/her consent must be obtained.\n",
      "(4) Pursuant to the provisions of the preceding three paragraphs, co-owners may establish on the co-owned property the leases or other rights to use or earn profit listed in the following items (hereinafter referred to as \"right of lease, etc.\" in this paragraph) that do not exceed the period of time specified in the relevant item:\n",
      "(i) right of lease, etc. of forest for the purpose of planting or felling trees: 10 years;\n",
      "(ii) right of lease, etc. for land other than the leases set forth in the preceding item: 5 years;\n",
      "(iii) right of lease, etc. of a building: 3 years;\n",
      "(iv) right of lease, etc. of movables: 6 months.\n",
      "(5) Notwithstanding the provisions of the preceding paragraphs, each co-owner may perform acts of preservation.\n",
      "Hypothesis: Unless custom dictates otherwise, the exercise of the right to demand the elimination of obstructions against a person who obstructs the exercise of the right of common shall be made by all the members of the organization of holders of the right of common.\n",
      "Is the hypothesis entailed by the premise? Yes or no (No explain)\n",
      "Premise: Article 330(1) If there are competing special statutory liens against the same movables, the order of priority follows the order set forth below. In this case, if there are two or more preservers with respect to the statutory liens for preservation of movables set forth in item (ii), a new preserver has priority over previous preservers:\n",
      "(i) statutory liens for leases of immovables, lodging at hotels and transportation;\n",
      "(ii) statutory liens for the preservation of movables; and\n",
      "(iii) statutory liens for the sale of movables, the supply of seeds and seedlings or fertilizer, agricultural labor and industrial labor.\n",
      "(2) In the cases referred to in the preceding paragraph, if a holder of a statutory lien ranked first knew at the time of acquiring the relevant claim of the existence of a holder of a statutory lien of the second or third rank, that holder may not exercise the relevant rights of priority against those persons. The same applies to the exercise against persons that have preserved things on behalf of the holder of a statutory lien of the first rank.\n",
      "(3) Regarding fruits, the first rank belongs to persons who engage in agricultural labor, the second rank belongs to persons that supply seeds and seedlings or fertilizer, and the third rank belongs to lessors of land.\n",
      "Hypothesis: If B acquires a statutory lien for preservation of moveables on movable X, which is the subject of A's statutory lien for leases of immovables, by preserving X to the benefit of A, A may not exercise the right of priority against B.\n",
      "Is the hypothesis entailed by the premise? Yes or no (No explain)\n",
      "Premise: Article 330(1) If there are competing special statutory liens against the same movables, the order of priority follows the order set forth below. In this case, if there are two or more preservers with respect to the statutory liens for preservation of movables set forth in item (ii), a new preserver has priority over previous preservers:\n",
      "(i) statutory liens for leases of immovables, lodging at hotels and transportation;\n",
      "(ii) statutory liens for the preservation of movables; and\n",
      "(iii) statutory liens for the sale of movables, the supply of seeds and seedlings or fertilizer, agricultural labor and industrial labor.\n",
      "(2) In the cases referred to in the preceding paragraph, if a holder of a statutory lien ranked first knew at the time of acquiring the relevant claim of the existence of a holder of a statutory lien of the second or third rank, that holder may not exercise the relevant rights of priority against those persons. The same applies to the exercise against persons that have preserved things on behalf of the holder of a statutory lien of the first rank.\n",
      "(3) Regarding fruits, the first rank belongs to persons who engage in agricultural labor, the second rank belongs to persons that supply seeds and seedlings or fertilizer, and the third rank belongs to lessors of land.\n",
      "Hypothesis: Fruits harvested on land leased by A are the subject of A's statutory lien for leases of immovables. If B has a statutory lien for agricultural labor on such fruits, A may exercise the right of priority against B.\n",
      "Is the hypothesis entailed by the premise? Yes or no (No explain)\n",
      "Premise: Article 333 Statutory liens may not be exercised against the movables that are the subject matter of the same after the obligors have delivered those movables to third party acquirers.\n",
      "Article 183 If an agent manifests the intention to thenceforward possess a thing under the agent's own possession on behalf of the principal, the principal thereby acquires the possessory rights.\n",
      "Hypothesis: If, after A has sold and actually delivered movable X owned by A to B, B has sold X to C, and B and C have agreed that B thenceforward possesses X on behalf of C, then A may not exercise a statutory lien for sale of movables on X.\n",
      "Is the hypothesis entailed by the premise? Yes or no (No explain)\n",
      "Premise: Article 334 If there is conflict between a statutory lien and a pledge on movables, the pledgee of those movables has the same rights as those of the holder of a statutory lien of the first rank under Article 330.\n",
      "Article 330(1) If there are competing special statutory liens against the same movables, the order of priority follows the order set forth below. In this case, if there are two or more preservers with respect to the statutory liens for preservation of movables set forth in item (ii), a new preserver has priority over previous preservers:\n",
      "(i) statutory liens for leases of immovables, lodging at hotels and transportation;\n",
      "(ii) statutory liens for the preservation of movables; and\n",
      "(iii) statutory liens for the sale of movables, the supply of seeds and seedlings or fertilizer, agricultural labor and industrial labor.\n",
      "(2) In the cases referred to in the preceding paragraph, if a holder of a statutory lien ranked first knew at the time of acquiring the relevant claim of the existence of a holder of a statutory lien of the second or third rank, that holder may not exercise the relevant rights of priority against those persons. The same applies to the exercise against persons that have preserved things on behalf of the holder of a statutory lien of the first rank.\n",
      "(3) Regarding fruits, the first rank belongs to persons who engage in agricultural labor, the second rank belongs to persons that supply seeds and seedlings or fertilizer, and the third rank belongs to lessors of land.\n",
      "Hypothesis: A has a statutory lien for sale of moveables as a result that A has sold movable X to B. If B has created a pledge on X in favor of C, A may exercise its statutory lien prior to C's pledge.\n",
      "Is the hypothesis entailed by the premise? Yes or no (No explain)\n",
      "Premise: Article 337 In order to preserve the effectiveness of statutory liens for preservation of immovables, registration must be carried out immediately after the completion of the act of preservation.\n",
      "Article 339 Statutory liens registered in accordance with the provisions of the preceding two Articles may be exercised prior to mortgages.\n",
      "Hypothesis: If B has a registered statutory lien for preservation of immovables and C has a registered mortgage on a building owned by A, B may exercise its statutory lien prior to C's mortgage, even if B's registration is later than C's registration.\n",
      "Is the hypothesis entailed by the premise? Yes or no (No explain)\n",
      "Premise: Article 392(1) If an obligee holds mortgages on several immovable properties to secure the same claim, and the proceeds of those immovable properties are to be distributed simultaneously, the burden of the claim is divided in proportion to the value of each of the immovable properties.\n",
      "(2) If an obligee holds mortgages on several immovable properties to secure the same claim, and the proceeds from only one of the immovable properties are to be distributed, the mortgagee may receive the payment of the entire claim out of those proceeds. In this case, subordinated mortgagees may exercise their mortgages in subrogation of that mortgagee, up to the amount that that mortgagee that receives payment would otherwise be entitled to receive from the proceeds of other immovable properties, in accordance with the provisions of the preceding paragraph.\n",
      "Hypothesis: Assume that A holds a first ranked mortgage on Land X and Land Y as a joint mortgage to secure claim α held by A against B. Land X and Land Y are owned by B. In this case, if A's mortgage over both lands is executed and the proceeds are to be distributed simultaneously, the burden of claim α is divided in proportion to the value of each land, even if there is no subordinated mortgagee.\n",
      "Is the hypothesis entailed by the premise? Yes or no (No explain)\n",
      "Premise: Article 499 A person that has performed the obligation for the benefit of the obligor is subrogated to the claim of the obligee.\n",
      "Article 501(1) A person that is subrogated to the claim of the obligee pursuant to the provisions of the preceding two Articles may exercise any and all rights possessed by the obligee as the effect of, and as a security for, the claim held by the obligee.\n",
      "(2) The exercise of rights under the provisions of the preceding paragraph is allowed only to the extent that the person that is subrogated to the claim of the obligee is entitled to seek reimbursement from the obligor based on the person's own rights (if one of the guarantors is subrogated to the claim of the obligee in relation to other guarantors, only to the extent that the guarantor is entitled to seek reimbursement from the other guarantors based on that guarantor's own rights).\n",
      "(3) In the case referred to in paragraph (1), the following provisions apply in addition to the provisions of the preceding paragraph:\n",
      "(i) a third party acquirer (meaning a person that has acquired from the obligor the property that is the subject of security; hereinafter the same applies in this paragraph) is not subrogated to the claim of the obligee in relation to any guarantors or third-party collateral providers;\n",
      "(ii) one of the third party acquirers is subrogated to the claim of the obligee in relation to other third party acquirers in proportion to the price of each property;\n",
      "(iii) the provisions of the preceding item apply mutatis mutandis if one of the third-party collateral providers is subrogated to the claim of the obligee in relation to other third-party collateral providers;\n",
      "(iv) between a guarantor and a third-party collateral provider, the subrogation to the claim of the obligee is effected depending on the number of these persons involved; provided, however, that if there are two or more third-party collateral providers, they are subrogated to the claim of the obligee in proportion to the price of each property with respect to the amount which remains after deduction of the share of the guarantor; and\n",
      "(v) a person that has acquired from a third party acquirer the property that is the subject of security is deemed to be a third party acquirer, and the provisions of items (i) and (ii) apply thereto; and a person that has acquired from a third-party collateral provider the property that is the subject of security is deemed to be a third-party collateral provider, and the provisions of items (i) and (iii) and the preceding item apply thereto.\n",
      "Hypothesis: Assume that A holds a first ranked mortgage on Land X and Land Y as a joint mortgage to secure claim α held by A against B. Land X is owned by B, Land Y is owned by C, and D is the second ranked mortgagee on Land X. In this case, if A executes a mortgage on Land Y only and receives the payment of the entire claim α out of the proceeds, C may exercise A's mortgage on Land X in subrogation to A.\n",
      "Is the hypothesis entailed by the premise? Yes or no (No explain)\n",
      "Premise: Article 398-6(1) With respect to the principal secured by a revolving mortgage, the date when the principal is to be crystallized may be specified or changed.\n",
      "(2) The provisions of Article 398-4, paragraph (2) apply mutatis mutandis to the cases referred to in the preceding paragraph.\n",
      "(3) The date under paragraph (1) must be within five years of the day when the date was prescribed or changed.\n",
      "(4) If registration with respect to a change in the date under paragraph (1) is not effected before the old date, the principal secured is crystallized on that old date.\n",
      "Hypothesis: The creation of a revolving mortgage is valid even if the principal crystalization date is not specified.\n",
      "Is the hypothesis entailed by the premise? Yes or no (No explain)\n",
      "Premise: Article 398-12(1) Before the principal is crystallized, a revolving mortgagee may assign a revolving mortgage, with the approval of the mortgagor of the revolving mortgage.\n",
      "(2) A revolving mortgagee may divide the revolving mortgage into two revolving mortgages and assign either of the same pursuant to the provisions of the preceding paragraph. In this case, the rights for which that revolving mortgage is the subject matter is extinguished with respect to the revolving mortgage that was assigned.\n",
      "(3) In order to effect an assignment under the provisions of the preceding paragraph, the approval of the person that holds the rights for which that revolving mortgage is the subject matter must be obtained.\n",
      "Hypothesis: Before the principal is crystallized, a revolving mortgagee may assign a revolving mortgage, with the approval of the mortgagor of the revolving mortgage.\n",
      "Is the hypothesis entailed by the premise? Yes or no (No explain)\n",
      "Premise: Article 398-7(1) A person that acquires a claim from a revolving mortgagee before the principal is crystallized may not exercise the revolving mortgage with respect to that claim. The same applies to a person that made payment for or on behalf of an obligor before the principal was crystallized.\n",
      "(2) If an obligation is assumed before the principal is crystallized, the revolving mortgagee may not exercise the revolving mortgage with respect to the obligation of the person that assumes the obligation.\n",
      "(3) If the assumption of obligation releasing an old obligor is effected before the principal is crystallized, the obligee may not transfer the revolving mortgage to the obligation assumed by the new obligor, notwithstanding the provisions of Article 472-4, paragraph (1).\n",
      "(4) If any novation due to the substitution of the obligee is effected before the principal is crystallized, the obligee before the novation may not transfer the revolving mortgage to the obligations after the novation, notwithstanding the provisions of Article 518, paragraph (1). The same applies to the obligee in the case of novation due to the substitution of the obligor before the principal is crystallized.\n",
      "Hypothesis: A person who has acquired a secured claim from a revolving mortgagee before the principal is crystallized may not exercise the revolving mortgage with respect to that claim.\n",
      "Is the hypothesis entailed by the premise? Yes or no (No explain)\n",
      "Premise: Article 398-4(1) The scope of the claims to be secured by a revolving mortgage may be changed if the change is effected before the principal is crystallized. The same applies with respect to change of obligors.\n",
      "(2) In order to effect the changes referred to in the preceding paragraph, it is not required that the approval of third parties including subordinated mortgagee be obtained.\n",
      "(3) If the change under paragraph (1) is not registered before the principal is crystallized, it is deemed that the change was not effected.\n",
      "Hypothesis: The scope of the claims to be secured by a revolving mortgage may not be changed before the principal is crystallized without the approval of the subordinated mortgagee.\n",
      "Is the hypothesis entailed by the premise? Yes or no (No explain)\n",
      "Premise: Article 398-3(1) A revolving mortgagee may exercise the relevant revolving mortgage up to the maximum amount with respect to all of crystallized principal as well as periodic payments including interest and compensation for loss or damage resulting from failure to perform obligations.\n",
      "(2) If a claim under a negotiable instrument or check or electronically recorded monetary claim acquired from causes other than the transactions with the obligor is agreed to be treated as a claim to be secured by a revolving mortgage, and any of the following grounds exist, that revolving mortgage may be exercised only with respect to claims acquired before those grounds arose; provided, however, that even with respect to claims acquired after the grounds arose, the exercise of the revolving mortgage is not precluded as far as the claims were acquired without knowledge of those grounds:\n",
      "(i) the suspension of payments by the obligor;\n",
      "(ii) a petition to commence bankruptcy proceeding, the commencement of rehabilitation proceeding, the commencement of reorganization proceeding or the commencement for special liquidation with respect to the obligor; or\n",
      "(iii) a petition for commencement of auction procedure in relation to a mortgaged immovables or attachment for disposition of delinquency.\n",
      "Hypothesis: After the principal is crystallized, interest and damages secured by the revolving mortgage are limited to that of the last two years in the aggregate.\n",
      "Is the hypothesis entailed by the premise? Yes or no (No explain)\n",
      "Premise: Article 412(1) If a fixed due date is assigned to the performance of an obligation, the obligor is liable for delay from the time that due date arrives.\n",
      "(2) If an uncertain due date is assigned to the performance of an obligation, the obligor is liable for delay from the time when the obligor receives the request for performance after the due date arrives or the time when the obligor becomes aware of the arrival of that due date, whichever comes earlier.\n",
      "(3) If no time limit is assigned to the performance of an obligation, the obligor is liable for delay from the time the obligor receives the request for performance.\n",
      "Hypothesis: If an uncertain due date is assigned to the performance of an obligation, the obligor is liable for delay from the time when the obligor receives the request for performance after the due date arrives or the time when the obligor becomes aware of the arrival of that due date, whichever comes earlier.\n",
      "Is the hypothesis entailed by the premise? Yes or no (No explain)\n",
      "Premise: Article 424-3(1) The obligee may make demand for rescission of fraudulent act with respect to an act concerning the provision of a security or extinguishment of an obligation that is committed by the obligor with regard to an existing obligation, only if the act satisfies all of the following requirements:\n",
      "(i) the act is committed while the obligor is unable to pay debts (meaning the condition in which the obligor, due to lack of ability to pay, is generally and continuously unable to pay debts as they become due; the same applies in item (i) of the following paragraph); and\n",
      "(ii) the act is committed by the obligor in collusion with the beneficiary with the intention to prejudice other obligees.\n",
      "(2) If the act prescribed in the preceding paragraph is not within the scope of the obligor's obligation or the time of the act is not such that is required as the obligor's obligation, and it satisfies all of the following requirements, the obligee may make demand for rescission of fraudulent act with respect to that act, notwithstanding the provisions of that paragraph:\n",
      "(i) the act is committed within 30 days before the obligor became unable to pay debts; and\n",
      "(ii) the act is committed by the obligor in collusion with the beneficiary with the intention to prejudice other obligees.\n",
      "Hypothesis: Assume that A has a claim against B for 20 million yen based on a contract for sale with B, and that B is insolvent and knows that each act would be prejudicial to the obligee. B, who is unable to pay debts, has paid a debt owed to C. In this case, even if C had an intention to prejudice A, A cannot make a demand for rescission of fraudulent act with respect to such payment, unless C was in collusion with B.\n",
      "Is the hypothesis entailed by the premise? Yes or no (No explain)\n",
      "Premise: Article 424-4 With respect to an act concerning the extinguishment of an obligation which has been committed by the obligor, if the value of the payment or delivery received by the beneficiary exceeds the amount of the obligation extinguished by that act, and the act satisfies the requirement prescribed in Article 424, the obligee may make demand for rescission of fraudulent act with regard to the part other than the part corresponding to the amount of the obligation extinguished, notwithstanding the provisions of paragraph (1) of the preceding Article.\n",
      "Article 424(1) An obligee may demand the court to rescind an act which the obligor commits knowing that it will prejudice the obligee; provided, however, that this does not apply if a person that benefits from that act (hereinafter referred to as the \"beneficiary\" in this Subsection) does not know, at the time of the act, that the obligee will be prejudiced.\n",
      "(2) The provisions of the preceding paragraph do not apply to an act with a subject matter other than property rights.\n",
      "(3) The obligee may make the demand under the provisions of paragraph (1) (hereinafter referred to as \"demand for rescission of fraudulent act\") only if the obligee's claim has arisen from a cause that existed before the act prescribed in paragraph (1).\n",
      "(4) The obligee may not make demand for rescission of fraudulent act if the obligee's claim is not enforceable by compulsory execution.\n",
      "Hypothesis: Assume that A has a claim against B for 20 million yen based on a contract for sale with B and that B is insolvent and knows that each act would be prejudicial to the obligee. B has paid a debt of 5 million yen to D in a substitute performance with land equivalent to 20 million yen owned by B. In this case, if D knew that such substitute performance would be prejudicial to the obligee, A may make a demand for rescission of fraudulent act against D with respect to the portion of such substitute performance other than the portion equivalent to 5 million yen.\n",
      "Is the hypothesis entailed by the premise? Yes or no (No explain)\n",
      "Premise: Article 424(1) An obligee may demand the court to rescind an act which the obligor commits knowing that it will prejudice the obligee; provided, however, that this does not apply if a person that benefits from that act (hereinafter referred to as the \"beneficiary\" in this Subsection) does not know, at the time of the act, that the obligee will be prejudiced.\n",
      "(2) The provisions of the preceding paragraph do not apply to an act with a subject matter other than property rights.\n",
      "(3) The obligee may make the demand under the provisions of paragraph (1) (hereinafter referred to as \"demand for rescission of fraudulent act\") only if the obligee's claim has arisen from a cause that existed before the act prescribed in paragraph (1).\n",
      "(4) The obligee may not make demand for rescission of fraudulent act if the obligee's claim is not enforceable by compulsory execution.\n",
      "Hypothesis: Assume that A has a claim against B for 20 million yen based on a contract for sale with B and that B is insolvent and knew that each act would prejudice the creditor. B had assigned its claim against E to F prior to the conclusion of the contract for sale with A, but the notice to E using an instrument bearing a certified date on the assignment was given after A's claim against B had arisen. In this case, A may make a demand for rescission of fraudulent act with respect to such notice.\n",
      "Is the hypothesis entailed by the premise? Yes or no (No explain)\n",
      "Premise: Article 424(1) An obligee may demand the court to rescind an act which the obligor commits knowing that it will prejudice the obligee; provided, however, that this does not apply if a person that benefits from that act (hereinafter referred to as the \"beneficiary\" in this Subsection) does not know, at the time of the act, that the obligee will be prejudiced.\n",
      "(2) The provisions of the preceding paragraph do not apply to an act with a subject matter other than property rights.\n",
      "(3) The obligee may make the demand under the provisions of paragraph (1) (hereinafter referred to as \"demand for rescission of fraudulent act\") only if the obligee's claim has arisen from a cause that existed before the act prescribed in paragraph (1).\n",
      "(4) The obligee may not make demand for rescission of fraudulent act if the obligee's claim is not enforceable by compulsory execution.\n",
      "Hypothesis: Assume that A has a claim against B for 20 million yen based on a contract for sale with B and that B is insolvent and knows that each act is prejudicial to the obligee. A and B has agreed not to carry out compulsory execution regarding said claim. In this case, even if B has given land owned by B to G and G knew that such gift was prejudicial to the obligee, A cannot make a demand for rescission of the fraudulent act with respect to such gift.\n",
      "Is the hypothesis entailed by the premise? Yes or no (No explain)\n",
      "Premise: Article 424-6(1) In making demand for rescission of fraudulent act against the beneficiary, the obligee may demand the rescission of the act committed by the obligor and also demand the return of the property which has been transferred to the beneficiary as a result of that act. If it is difficult for the beneficiary to return the property, the obligee may demand the reimbursement of its value.\n",
      "(2) In making demand for rescission of fraudulent act against the subsequent acquirer, the obligee may demand the rescission of the act committed by the obligor and also demand the return of the property which has been acquired by the subsequent acquirer. If it is difficult for the subsequent acquirer to return the property, the obligee may demand the reimbursement of its value.\n",
      "Hypothesis: Assume that A has a claim against B for 20 million yen based on a contract for sale with B, and that B is insolvent and knew that each act would prejudice the obligee. B has given movable X owned by B to H, and H has further given X to I, and each delivery has been made. In this case, if A can demand the return of the property in a demand for rescission of fraudulent act against I, A cannot demand the reimbursement of its value in a demand for rescission of fraudulent act against H.\n",
      "Is the hypothesis entailed by the premise? Yes or no (No explain)\n",
      "Premise: Article 465-2(1) A guarantor to a guarantee contract under which the principal obligation is one or more unidentified obligations within a certain specified scope (hereinafter referred to as a \"contract for revolving guarantee\") and the guarantor is not a corporation (hereinafter referred to as a \"contract for revolving guarantee by an individual\") is liable to perform the obligation in terms of the amounts of the principal of the principal obligation, any interest, penalty and compensation for loss or damage in connection with the principal obligation, and all the other charges secondary to the obligation, as well as the amount of any penalty or compensation for loss or damage which is agreed- upon on with regard to the guarantee obligation, up to a certain maximum amount which pertains to all of these amounts.\n",
      "(2) A contract for revolving guarantee by an individual does not become effective unless it provides for the maximum amount prescribed in the preceding paragraph.\n",
      "(3) The provisions of Article 446, paragraphs (2) and (3) apply mutatis mutandis to the provisions concerning a maximum amount prescribed in paragraph (1) in a contract for revolving guarantee by an individual.\n",
      "Article 446(1) A guarantor has the responsibility to perform the obligation of the principal obligor when the latter fails to perform that obligation.\n",
      "(2) No guarantee contract becomes effective unless it is made in writing.\n",
      "(3) If a guarantee contract is concluded by electronic or magnetic record which records the terms thereof, the guarantee contract is deemed to be made in writing, and the provisions of the preceding paragraph apply.\n",
      "Hypothesis: A contract for revolving guarantee by an individual does not become effective unless it provides for the maximum amount in writing or by means of an electronic or magnetic record.\n",
      "Is the hypothesis entailed by the premise? Yes or no (No explain)\n",
      "Premise: Article 465-3(1) If a contract for revolving guarantee by an individual under which the scope of the principal obligation includes an obligation to be borne as a result of loans or receiving a discount of a negotiable instrument (hereinafter referred to as a \"loan obligation\"; and this contract is hereinafter referred to as a \"contract for revolving guarantee by an individual for loans\") provides for the date on which the principal of the principal obligation should be crystallized (hereinafter referred to as the \"principal crystallization date\"), and it also provides that the principal crystallization date is to fall on or after the day on which five years have passed after the day of the conclusion of the contract for the revolving guarantee by an individual for loans, the provisions concerning the principal crystallization date do not become effective.\n",
      "(2) If a contract for revolving guarantee by an individual for loans does not provide for a principal crystallization date (or if the provisions concerning the principal crystallization date do not become effective pursuant to the provisions of the preceding paragraph), the principal crystallization date is to fall on the day on which three years have passed from the day of the conclusion of the contract for revolving guarantee by an individual for loans.\n",
      "(3) If a change of the principal crystallization date provided for in a contract for revolving guarantee by an individual for loans is to be effected, and the principal crystallization date as changed falls on a day later than the day on which five years have passed after the day of the change, that change of the principal crystallization date does not become effective; provided, however, that this does not apply if the change of the principal crystallization date is effected within two months immediately preceding the principal crystallization date, and the principal crystallization date as changed falls on a day within five years from the original principal crystallization date.\n",
      "(4) The provisions of Article 446, paragraphs (2) and (3) apply mutatis mutandis to the provisions concerning a principal crystallization date in a contract for revolving guarantee by an individual for loans and a change thereof (excluding provisions to the effect that the principal crystallization date is to fall on a day within three years from the day of the conclusion of that contract for revolving guarantee by an individual for loans, and any change which is intended to change the principal crystallization date to a day preceding the original principal crystallization date).\n",
      "Article 465-4(1) The principal of the principal obligation under a contract for revolving guarantee by an individual is crystallized in the following cases; provided, however, that in the case set forth in item (i), it is crystallized only if the procedure for compulsory execution or enforcement procedure of a security right is commenced:\n",
      "(i) if an obligee files a petition for compulsory execution or enforcement of any security right for a claim for payment of money with regard to any property of the guarantor;\n",
      "(ii) if the guarantor receives an order commencing bankruptcy proceeding; or\n",
      "(iii) the relevant principal obligor or guarantor has died.\n",
      "(2) Beyond the case prescribed in the preceding paragraph, the principal of the principal obligation under a contract for revolving guarantee by an individual for loans is crystallized in the following cases; provided, however, that in the case set forth in item (i), it is crystallized only if the procedure for compulsory execution or enforcement procedure of a security right is commenced:\n",
      "(i) if the obligee files a petition for compulsory execution or enforcement of a security right for a claim for payment of money with regard to property of the principal obligor; or\n",
      "(ii) if the principal obligor receives an order commencing bankruptcy proceeding.\n",
      "Hypothesis: In a case of a contract for revolving guarantee by an individual in which the principal obligation is a rent debt arising from a lease contract, if no principal crystalization date is provided, the principal of the principal obligation is crystalized after the statutory period from the date of conclusion of the contract for revolving guarantee by an individual has passed.\n",
      "Is the hypothesis entailed by the premise? Yes or no (No explain)\n",
      "Premise: Article 465-4(1) The principal of the principal obligation under a contract for revolving guarantee by an individual is crystallized in the following cases; provided, however, that in the case set forth in item (i), it is crystallized only if the procedure for compulsory execution or enforcement procedure of a security right is commenced:\n",
      "(i) if an obligee files a petition for compulsory execution or enforcement of any security right for a claim for payment of money with regard to any property of the guarantor;\n",
      "(ii) if the guarantor receives an order commencing bankruptcy proceeding; or\n",
      "(iii) the relevant principal obligor or guarantor has died.\n",
      "(2) Beyond the case prescribed in the preceding paragraph, the principal of the principal obligation under a contract for revolving guarantee by an individual for loans is crystallized in the following cases; provided, however, that in the case set forth in item (i), it is crystallized only if the procedure for compulsory execution or enforcement procedure of a security right is commenced:\n",
      "(i) if the obligee files a petition for compulsory execution or enforcement of a security right for a claim for payment of money with regard to property of the principal obligor; or\n",
      "(ii) if the principal obligor receives an order commencing bankruptcy proceeding.\n",
      "Hypothesis: When the guarantor of a contract for revolving guarantee by an individual dies, the principal of the principal obligation is crystallized.\n",
      "Is the hypothesis entailed by the premise? Yes or no (No explain)\n",
      "Premise: Article 465-2(1) A guarantor to a guarantee contract under which the principal obligation is one or more unidentified obligations within a certain specified scope (hereinafter referred to as a \"contract for revolving guarantee\") and the guarantor is not a corporation (hereinafter referred to as a \"contract for revolving guarantee by an individual\") is liable to perform the obligation in terms of the amounts of the principal of the principal obligation, any interest, penalty and compensation for loss or damage in connection with the principal obligation, and all the other charges secondary to the obligation, as well as the amount of any penalty or compensation for loss or damage which is agreed- upon on with regard to the guarantee obligation, up to a certain maximum amount which pertains to all of these amounts.\n",
      "(2) A contract for revolving guarantee by an individual does not become effective unless it provides for the maximum amount prescribed in the preceding paragraph.\n",
      "(3) The provisions of Article 446, paragraphs (2) and (3) apply mutatis mutandis to the provisions concerning a maximum amount prescribed in paragraph (1) in a contract for revolving guarantee by an individual.\n",
      "Hypothesis: When the principal of the principal obligation has been crystallized, the guarantor is not liable to pay any interest accrued after the crystallization of such principal.\n",
      "Is the hypothesis entailed by the premise? Yes or no (No explain)\n",
      "Premise: Article 484(1) Unless a particular intention is manifested with respect to the place where the performance should take place, the delivery of a specific thing must be effected at the place where that thing was located when the relevant claim accrued, and the discharge of any other obligation must be effected at the current domicile of the obligee.\n",
      "(2) If the trading hours are specified by laws and regulations or customs, performance may be made or demanded only within the trading hours.\n",
      "Hypothesis: If the subject matter of a claim is delivery of a specified thing, the delivery must be effected at the current domicile of the obligee unless a particular intention is manifested with respect to the place where the performance should take place.\n",
      "Is the hypothesis entailed by the premise? Yes or no (No explain)\n",
      "Premise: Article 176 The creation and transfer of a real right becomes effective solely by the manifestations of intention of the parties.\n",
      "Hypothesis: If the obligor of a monetary claim concludes a contract with the obligee to the effect that the obligor is to have the obligation extinguished by transferring a specific thing in lieu of payment of money, ownership of the subject matter transfers to the obligee at the time the contract is made, unless the obligee manifests an intention to do otherwise.\n",
      "Is the hypothesis entailed by the premise? Yes or no (No explain)\n",
      "Premise: Article 478 Performance made to a person that does not constitute a person authorized to accept the performance (meaning the obligee or a third party authorized to accept performance based on the provisions of laws and regulations or the manifestation of intention of the parties; the same applies hereinafter) but that appears to be the person authorized to accept the performance in light of common sense in the transaction is effective only if the person effecting performance was acting in good faith and without negligence.\n",
      "Hypothesis: If B, who is not authorized to accept performance from the obligee A, has exercised the claim by purporting to be A's agent and has received performance from the obligor C, such performance is not effective, even if C was in good faith and acting without negligence.\n",
      "Is the hypothesis entailed by the premise? Yes or no (No explain)\n",
      "Premise: Article 509 The obligor of either of the following obligations may not duly assert a set-off against the obligee; provided, however, that this does not apply if the obligee acquires a claim corresponding to the relevant obligation from another person:\n",
      "(i) an obligation for compensation for loss or damage based on a tort committed in bad faith; or\n",
      "(ii) an obligation for compensation for loss or damage for death or injury to person (excluding the one set forth in the preceding item).\n",
      "Hypothesis: Assume that A has a monetary claim against B (hereinafter referred to as \" Claim X \") and that B has a monetary claim against A (hereinafter referred to as \" Claim Y \"). If Claim X is a claim for the sale price and Claim Y is a claim for compensation for damages based on a tort due to A's negligence in damaging a personal computer owned by B, A may duly assert against B a set-off.\n",
      "Is the hypothesis entailed by the premise? Yes or no (No explain)\n",
      "Premise: Article 511(1) A third party obligor of a claim which has been attached may not assert sett-off as defense with any claim acquired after the attachment against the attaching obligee, but may duly assert against the same a set-off based using a claim acquired before the attachment.\n",
      "(2) Notwithstanding the provisions of the preceding paragraph, if a claim acquired after the attachment has arisen from a cause that existed before the attachment, the third party obligor may use that claim for a set-off against the attaching obligee; provided, however, that this does not apply if the third party obligor acquires the claim of another person after the attachment.\n",
      "Hypothesis: Assume that A has a monetary claim against B (hereinafter referred to as \" Claim X \") and that B has a monetary claim against A (hereinafter referred to as \" Claim Y \"). If A had guaranteed B's debt to C as requested by B, and after B's obligee D seized Claim Y, which is a claim for sale price, A performed its guarantee obligation to C and acquired Claim X, which is a right of reimbursement, then A may duly assert against D a set-off.\n",
      "Is the hypothesis entailed by the premise? Yes or no (No explain)\n",
      "Premise: Article 508 If a claim extinguished by prescription was eligible for set-off prior to its extinguishment, the obligee may use that claim for the set-off.\n",
      "Hypothesis: Assume that A has a monetary claim against B (hereinafter referred to as \"Claim X\") and that B has a monetary claim against A (hereinafter referred to as \"Claim Y\"). If, after Claim X and Claim Y have become eligible for set-off, Claim X has been extinguished due to prescription, and B subsequently demands A to perform Claim Y, A may assert against B a set-off.\n",
      "Is the hypothesis entailed by the premise? Yes or no (No explain)\n",
      "Premise: Article 505(1) If two persons bear an obligation to each other that has the same kind of purpose and if both obligations are due, each obligor may be relieved from the obligation by setting off the value of that obligation against the corresponding amount of the obligation of the other obligor; provided, however, that this does not apply if the nature of the obligation does not permit such a set-off.\n",
      "(2) Notwithstanding the provisions of the preceding paragraph, if a party manifests the intention to prohibit or restrict a set-off, that manifestation of the intention may be duly asserted against a third party only if the third party knew or did not know due to gross negligence it.\n",
      "Hypothesis: Assume that A has a monetary claim against B (hereinafter referred to as \"Claim X\") and that B has a monetary claim against A (hereinafter referred to as \"Claim Y\"). Even if the claim X has not become due, if the claim Y has become due, A may assert against B a set-off.\n",
      "Is the hypothesis entailed by the premise? Yes or no (No explain)\n",
      "Premise: Article 514(1) A novation by substitution of obligor may be effected by a contract concluded between the obligee and a person that becomes the obligor after the novation. In such a case, the novation becomes effective when the obligee notifies the obligor prior to the novation of the conclusion of the contract.\n",
      "(2) The obligor after the novation by substitution of obligor does not acquire a right to reimbursement from the obligor prior to the novation.\n",
      "Hypothesis: A novation by substitution of obligor may be effected by a contract concluded between the obligee and a person that becomes the obligor after the novation, even against the will of the obligor prior to the novation.\n",
      "Is the hypothesis entailed by the premise? Yes or no (No explain)\n",
      "Premise: Article 514(1) A novation by substitution of obligor may be effected by a contract concluded between the obligee and a person that becomes the obligor after the novation. In such a case, the novation becomes effective when the obligee notifies the obligor prior to the novation of the conclusion of the contract.\n",
      "(2) The obligor after the novation by substitution of obligor does not acquire a right to reimbursement from the obligor prior to the novation.\n",
      "Hypothesis: The debtor after a novation by substitution of debtor does not acquire the right of reimbursement against the debtor before the novation.\n",
      "Is the hypothesis entailed by the premise? Yes or no (No explain)\n",
      "Premise: Article 518(1) To the extent of the amount of the obligation prior to the novation, the obligee (in the case of a novation by substitution of obligee, the obligee prior to the novation) may transfer the pledge or mortgage created as the security of that obligation to the obligation in effect after the novation; provided, however, that if any third party created that security, the consent of the third party must be obtained.\n",
      "(2) The transfer of the pledge or mortgage referred to in the preceding paragraph must be effected by manifesting the intention to the other party to the novation (in the case of a novation by substitution of obligee, the obligor) in advance or upon the transfer.\n",
      "Hypothesis: In a case of a novation by substitution of obligee, the obligee before the novation may not transfer the pledge which the obligor had created as security for their obligation before the novation to the obligation after the novation, without the consent of the obligor.\n",
      "Is the hypothesis entailed by the premise? Yes or no (No explain)\n",
      "Premise: Article 347 The pledgee may retain the thing pledged until the claims provided for in the preceding Article are satisfied; provided, however, that this right cannot be duly asserted against an obligee that has priority over the pledgee.\n",
      "Hypothesis: The obligation for the secured claim of a pledge and the obligation to return the thing pledged are to be performed simultaneously.\n",
      "Is the hypothesis entailed by the premise? Yes or no (No explain)\n",
      "Premise: Article 622-2(1) If a lessor receives a security deposit (meaning money to be delivered by the lessee to the lessor under any name, for the purpose of securing an obligation to pay money that is owed by the lessee to the lessor based on a lease, such as an obligation to pay rent; hereinafter the same applies in this Article), the lessor must return to the lessee the amount that remains after deducting the amount of the obligation to pay money that is owed by the lessee to the lessor based on the lease, from the amount of security deposit received, in the following cases:\n",
      "(i) if the lease is terminated, and the lessor receives the return of the leased thing; or\n",
      "(ii) if the lessee assigns the lease lawfully.\n",
      "(2) If the lessee fails to perform an obligation to pay money based on the lease, the lessor may appropriate the security deposit to the payment of the obligation. In such a case, the lessee may not demand that the lessor appropriate the security deposit to the payment of the obligation.\n",
      "Hypothesis: The obligation to return a security deposit and the obligation to return a leased thing in the case of the termination of a lease are to be performed simultaneously.\n",
      "Is the hypothesis entailed by the premise? Yes or no (No explain)\n",
      "Premise: Article 487 If there is an instrument evidencing a claim and the person making the performance has made full performance, that person may demand the return of the instrument.\n",
      "Hypothesis: If there is an instrument evidencing a claim, the obligation with respect to the claim and the obligation to return the instrument are to be performed simultaneously.\n",
      "Is the hypothesis entailed by the premise? Yes or no (No explain)\n",
      "Premise: Article 541 If one of the parties does not perform that party's obligation, and the other party demands performance of that obligation, specifying a reasonable period of time, but no performance is completed during that period, the other party may cancel the contract; provided, however, that this does not apply if the non-performance of the obligations upon the passage of the period is minor in light of the contract and the common sense in the transaction.\n",
      "Article 543 If non-performance of an obligation is due to grounds attributable to the obligee, the obligee may not cancel the contract under the preceding two Articles.\n",
      "Hypothesis: If the obligor fails to perform the obligation and such default is due to grounds not attributable to the obligor, the obligee may not cancel the contract.\n",
      "Is the hypothesis entailed by the premise? Yes or no (No explain)\n",
      "Premise: Article 542(1) In the following cases, the obligee may immediately cancel the contract without making the demand referred to in the preceding Article:\n",
      "(i) if the performance of the whole of the obligation is impossible;\n",
      "(ii) if the obligor unequivocally manifests the intention to refuse to perform the obligation in whole;\n",
      "(iii) if the performance of part of the obligation is impossible, or if the obligor clearly manifests the intention to refuse to perform part of the obligation and the purpose of the contract cannot be achieved by the performance of the remaining part of the obligation;\n",
      "(iv) if, due to the nature of the contract or a manifestation of intention by the parties, the purpose of the contract cannot be achieved unless the obligation is performed at a specific time on a specific date or within a certain period of time, and the obligor fails to perform the obligation at that time or before that period of time expires; or\n",
      "(v) beyond the cases set forth in the preceding items, if the obligor does not perform the obligation and it is obvious that the obligor is unlikely to perform the obligation to the extent necessary to achieve the purpose of the contract even if the obligee makes the demand referred to in the preceding Article.\n",
      "(2) In the following cases, the obligee may immediately cancel a part of the contract without making the demand referred to in the preceding Article:\n",
      "(i) the performance of the part of the obligation is impossible; or\n",
      "(ii) the obligor clearly manifests the intention to refuse to perform the part of the obligation.\n",
      "Hypothesis: If the obligor fails to perform the obligation and it is clear that the obligor is unlikely to perform the obligation in a manner to achieve the purpose of the contract even after the obligee gave notice, the obligee may immediately cancel the contract without making a demand.\n",
      "Is the hypothesis entailed by the premise? Yes or no (No explain)\n",
      "Premise: Article 544(1) If one party to a contract is comprised of two or more persons, the cancellation of the contract may be effected only by, or against, all of those persons.\n",
      "(2) In the case referred to in the preceding paragraph, if the right to cancel is extinguished with respect to one of the persons that constitute a party to the contract, it is also extinguished with respect to the other persons.\n",
      "Hypothesis: If a lessee dies and several heirs jointly succeed to the right of lease, in order for the lessor to cancel the lease contract, the lessor must make a manifestation of an intention to cancel it to all of the heirs.\n",
      "Is the hypothesis entailed by the premise? Yes or no (No explain)\n",
      "Premise: Article 562(1) If the subject matter delivered to the buyer does not conform to the terms of the contract with respect to the kind, quality or quantity, the buyer may demand that the seller cure the non-conformity of performance by repairing the subject matter, delivering the substitute or delivering the replenishment; provided, however, that the seller may cure the non-conformity of performance by a method that is different from the method demanded by the buyer if it does not impose any undue burden on the buyer.\n",
      "(2) If the non-conformity referred to in the preceding paragraph is due to grounds attributable to the buyer, the buyer may not demand that the seller cure the non-conformity of performance under the provisions of that paragraph.\n",
      "Hypothesis: Assume that the quality of movable X, which was delivered by the seller B to the buyer A based on a contract for sale, does not conform to the terms of the contract. Even if B receives a demand from A to repair X, B may cure the non-conformity of performance by delivering a substitute, if it does not impose any undue burden on A.\n",
      "Is the hypothesis entailed by the premise? Yes or no (No explain)\n",
      "Premise: Article 563(1) In the case prescribed in the main clause of paragraph (1) of the preceding Article, if the buyer demands that the seller cure the non-conformity of performance by specifying a reasonable period of time but the non-conformity of performance is not cured within that period, the buyer may request a reduction of the price in proportion to the degree of non-conformity.\n",
      "(2) Notwithstanding the provisions of the preceding paragraph, in the following cases, a buyer in good faith may request a reduction of the price immediately without making demand referred to in that paragraph:\n",
      "(i) if it is impossible to cure the non-conformity of performance;\n",
      "(ii) if the seller unequivocally manifests the intention to refuse to cure the non-conformity of performance;\n",
      "(iii) if, due to the nature of the contract or a manifestation of intention by the parties, the purpose of the contract is unable to be achieved unless the performance is carried out at a specific time on a specific date or within a certain period of time, and the seller fails to cure the non-conformity of the performance at the time or before the period expires; or\n",
      "(iv) beyond the cases set forth in the preceding items, it is obvious that the seller is unlikely to cure the non-conformity of the performance even if the buyer makes the demand referred to in the preceding paragraph.\n",
      "(3)If the non-conformity referred to in paragraph (1) is due to grounds attributable to the buyer, the buyer may not request a reduction of the price under the provisions of the preceding two paragraphs.\n",
      "Article 562(1) If the subject matter delivered to the buyer does not conform to the terms of the contract with respect to the kind, quality or quantity, the buyer may demand that the seller cure the non-conformity of performance by repairing the subject matter, delivering the substitute or delivering the replenishment; provided, however, that the seller may cure the non-conformity of performance by a method that is different from the method demanded by the buyer if it does not impose any undue burden on the buyer.\n",
      "(2) If the non-conformity referred to in the preceding paragraph is due to grounds attributable to the buyer, the buyer may not demand that the seller cure the non-conformity of performance under the provisions of that paragraph.\n",
      "Hypothesis: Assume that the quality of movable X, which was delivered from the seller B to the buyer A based on a contract for sale, does not conform to the terms of the contract. If A's demand that B cure the non-conformity of performance is precluded because the non-conformity is impossible to cure, A may not demand that B reduce the price.\n",
      "Is the hypothesis entailed by the premise? Yes or no (No explain)\n",
      "Premise: Article 562(1) If the subject matter delivered to the buyer does not conform to the terms of the contract with respect to the kind, quality or quantity, the buyer may demand that the seller cure the non-conformity of performance by repairing the subject matter, delivering the substitute or delivering the replenishment; provided, however, that the seller may cure the non-conformity of performance by a method that is different from the method demanded by the buyer if it does not impose any undue burden on the buyer.\n",
      "(2) If the non-conformity referred to in the preceding paragraph is due to grounds attributable to the buyer, the buyer may not demand that the seller cure the non-conformity of performance under the provisions of that paragraph.\n",
      "Hypothesis: Assume that the quality of movable X, which was delivered by the seller B to the buyer A based on a contract for sale, does not conform to the terms of the contract. If the non-conformity is due to grounds attributable to A, A may not request B to either repair X or reduce the price.\n",
      "Is the hypothesis entailed by the premise? Yes or no (No explain)\n",
      "Premise: Article 563(1) In the case prescribed in the main clause of paragraph (1) of the preceding Article, if the buyer demands that the seller cure the non-conformity of performance by specifying a reasonable period of time but the non-conformity of performance is not cured within that period, the buyer may request a reduction of the price in proportion to the degree of non-conformity.\n",
      "(2) Notwithstanding the provisions of the preceding paragraph, in the following cases, a buyer in good faith may request a reduction of the price immediately without making demand referred to in that paragraph:\n",
      "(i) if it is impossible to cure the non-conformity of performance;\n",
      "(ii) if the seller unequivocally manifests the intention to refuse to cure the non-conformity of performance;\n",
      "(iii) if, due to the nature of the contract or a manifestation of intention by the parties, the purpose of the contract is unable to be achieved unless the performance is carried out at a specific time on a specific date or within a certain period of time, and the seller fails to cure the non-conformity of the performance at the time or before the period expires; or\n",
      "(iv) beyond the cases set forth in the preceding items, it is obvious that the seller is unlikely to cure the non-conformity of the performance even if the buyer makes the demand referred to in the preceding paragraph.\n",
      "(3)If the non-conformity referred to in paragraph (1) is due to grounds attributable to the buyer, the buyer may not request a reduction of the price under the provisions of the preceding two paragraphs.\n",
      "Article 562(1) If the subject matter delivered to the buyer does not conform to the terms of the contract with respect to the kind, quality or quantity, the buyer may demand that the seller cure the non-conformity of performance by repairing the subject matter, delivering the substitute or delivering the replenishment; provided, however, that the seller may cure the non-conformity of performance by a method that is different from the method demanded by the buyer if it does not impose any undue burden on the buyer.\n",
      "(2) If the non-conformity referred to in the preceding paragraph is due to grounds attributable to the buyer, the buyer may not demand that the seller cure the non-conformity of performance under the provisions of that paragraph.\n",
      "Hypothesis: Assume that the quality of movable X, which was delivered from the seller B to the buyer A based on a contract for sale, does not conform to the terms of the contract. If the non-conformity is due to grounds not attributable to either of A or B, A may not request B to reduce the price.\n",
      "Is the hypothesis entailed by the premise? Yes or no (No explain)\n",
      "Premise: Article 566 If the subject matter delivered by the seller to the buyer does not conform to the terms of the contract with respect to the kind or quality, and the buyer fails to notify the seller of the non-conformity within one year from the time when the buyer becomes aware of it, the buyer may not demand cure of the non-conformity of performance, demand a reduction of the price, claim compensation for loss or damage, or cancel the contract, on the grounds of the non-conformity; provided, however, that this does not apply if the seller knew or did not know due to gross negligence the non-conformity at the time of the delivery.\n",
      "Hypothesis: Assume that the quality of movable X delivered from the seller B to the buyer A based on a contract for sale does not conform to the terms of the contract. If B did not know of the non-conformity without negligence at the time of delivery and A failed to notify B of the non-conformity within the statutory period from the time when A became aware of it, then A may not demand B to compensate for damages.\n",
      "Is the hypothesis entailed by the premise? Yes or no (No explain)\n",
      "Premise: Article 633 Remuneration must be paid simultaneously with delivery of the subject matter of work performed; provided, however, that if no delivery of a thing is required, the provisions of Article 624, paragraph (1) apply mutatis mutandis.\n",
      "Hypothesis: A contractor who is contracted to construct a building may not demand remuneration until after the completed building has been delivered to the party ordering the work.\n",
      "Is the hypothesis entailed by the premise? Yes or no (No explain)\n",
      "Premise: Article 634 In the following cases, if the party ordering work receives any benefit from the performance of any divisible portion of the outcome of the work that the contractor has already completed, that portion is deemed to be the completed work; in this case, the contractor may demand remuneration in proportion to the benefit to be received by the party ordering work:\n",
      "(i) if the contractor is no longer able to complete the work due to any grounds not attributable to the party ordering work; or\n",
      "(ii) if the contract for work is cancelled before the completion of work.\n",
      "Hypothesis: If the contractor has become unable to complete the work for grounds attributable to the party ordering the work, the party ordering the work may not refuse to pay the remuneration.\n",
      "Is the hypothesis entailed by the premise? Yes or no (No explain)\n",
      "Premise: Article 648(1) In the absence of any special agreements, the mandatary may not claim remuneration from the mandator.\n",
      "(2) If a mandatary is to receive remuneration, the mandatary may not claim this until after having performed the mandated business; provided, however, that if the remuneration is specified with reference to period, the provisions of Article 624, paragraph (2) apply mutatis mutandis.\n",
      "(3) In the following cases, the mandatary may demand remuneration in proportion to the performance already completed:\n",
      "(i) if the mandatary is no longer able to perform the mandated business due to any grounds not attributable to the mandator; or\n",
      "(ii) if the mandate is terminated during the course of performance.\n",
      "Hypothesis: If the mandatary is to receive remuneration after the performance of the mandated business, and the mandate is terminated in the middle of the performance, the mandatary may claim remuneration in proportion to the obligation already performed.\n",
      "Is the hypothesis entailed by the premise? Yes or no (No explain)\n",
      "Premise: Article 665 The provisions of Articles 646 through 648, Article 649, and Article 650, paragraphs (1) and (2) apply mutatis mutandis to bailments.\n",
      "Article 648(1) In the absence of any special agreements, the mandatary may not claim remuneration from the mandator.\n",
      "(2) If a mandatary is to receive remuneration, the mandatary may not claim this until after having performed the mandated business; provided, however, that if the remuneration is specified with reference to period, the provisions of Article 624, paragraph (2) apply mutatis mutandis.\n",
      "(3) In the following cases, the mandatary may demand remuneration in proportion to the performance already completed:\n",
      "(i) if the mandatary is no longer able to perform the mandated business due to any grounds not attributable to the mandator; or\n",
      "(ii) if the mandate is terminated during the course of performance.\n",
      "Hypothesis: The bailee may demand remuneration without a special agreement.\n",
      "Is the hypothesis entailed by the premise? Yes or no (No explain)\n",
      "Premise: Article 671 The provisions of Articles 646 through 650 apply mutatis mutandis to partners who decide or execute the business of a partnership.\n",
      "Article 648(1) In the absence of any special agreements, the mandatary may not claim remuneration from the mandator.\n",
      "(2) If a mandatary is to receive remuneration, the mandatary may not claim this until after having performed the mandated business; provided, however, that if the remuneration is specified with reference to period, the provisions of Article 624, paragraph (2) apply mutatis mutandis.\n",
      "(3) In the following cases, the mandatary may demand remuneration in proportion to the performance already completed:\n",
      "(i) if the mandatary is no longer able to perform the mandated business due to any grounds not attributable to the mandator; or\n",
      "(ii) if the mandate is terminated during the course of performance.\n",
      "Hypothesis: The partners who execute business in a partnership under the Civil Code may not demand remuneration, unless there is a special agreement.\n",
      "Is the hypothesis entailed by the premise? Yes or no (No explain)\n",
      "Premise: Article 587-2(1) Notwithstanding the provisions of the preceding Article, a loan for consumption made in writing becomes effective when a first party promises to deliver money or any other thing and a second party promises to return a thing of the same type, quality, and quantity as the thing delivered.\n",
      "(2) The borrower of a loan for consumption made in writing may cancel the contract until the borrower receives the money or other thing from the lender. In such a case, if the lender sustains any damage from the cancellation of the contract, the lender may claim compensation therefor.\n",
      "(3) A loan for consumption made in writing ceases to be effective if either of the parties receives an order commencing bankruptcy proceedings before the borrower receives the thing such as money from the lender.\n",
      "(4) If a loan for consumption is made by means of an electronic or magnetic record in which its content is recorded, the loan for consumption is deemed to have been made in writing, and the provisions of the preceding three paragraphs apply thereto.\n",
      "Hypothesis: Assume that A leases movable X owned by A to B. If the lease is not in writing, A may cancel the contract until B receives delivery of X.\n",
      "Is the hypothesis entailed by the premise? Yes or no (No explain)\n",
      "Premise: Article 617(1) If the parties do not specify the term of a lease, either party may give a notice of termination at any time. In such cases, a lease as set forth in one of the following items terminates when the term prescribed in that item has passed after the day of the notice of termination:\n",
      "(i) leases of land: one year;\n",
      "(ii) leases of buildings: three months; and\n",
      "(iii) leases of movables and party room: one day.\n",
      "(2) With respect to leases of land with harvest seasons, the notice of termination must be given after the end of that season and before the next start of cultivation.\n",
      "Hypothesis: Assume that A has leased movable X owned by A to B. If the term of the lease was not specified, the lease terminates immediately when A gives a notice of termination.\n",
      "Is the hypothesis entailed by the premise? Yes or no (No explain)\n",
      "Premise: Article 618 Even if the parties specify the term of a lease, the provisions of the preceding Article apply mutatis mutandis if one party reserves, or both parties reserve, the right to terminate during that period.\n",
      "Article 617(1) If the parties do not specify the term of a lease, either party may give a notice of termination at any time. In such cases, a lease as set forth in one of the following items terminates when the term prescribed in that item has passed after the day of the notice of termination:\n",
      "(i) leases of land: one year;\n",
      "(ii) leases of buildings: three months; and\n",
      "(iii) leases of movables and party room: one day.\n",
      "(2) With respect to leases of land with harvest seasons, the notice of termination must be given after the end of that season and before the next start of cultivation.\n",
      "Hypothesis: Assume that A has leased movable X owned by A to B. If the term of the lease is specified and it is agreed that A reserves the right to terminate during the term, A may give a notice of termination at any time.\n",
      "Is the hypothesis entailed by the premise? Yes or no (No explain)\n",
      "Premise: Article 619(1) If a lessee continues to make use or take the profits of the thing after the expiration of the term of the lease and a lessor that knows of the same raises no objection, it is presumed that a further lease is entered into under conditions identical to those of the previous lease. In such cases, each party may give a notice of termination pursuant to the provisions of Article 617.\n",
      "(2) If one of the parties has provided security for the previous lease, the security is extinguished upon expiration of the term; provided, however, that this does not apply to a security deposit prescribed in Article 622-2, paragraph (1).\n",
      "Hypothesis: Assume that A leases movable X owned by A to B. If B continues to make use of X after the expiration of the term of the lease, it is presumed that the lease has been renewed.\n",
      "Is the hypothesis entailed by the premise? Yes or no (No explain)\n",
      "Premise: Article 645 A mandatary must, if so requested by the mandator, report the current status of the administration of the mandated business at any time, and must report the process and results without delay upon termination of the mandate.\n",
      "Hypothesis: A mandatary must report the process and results of the administration of the mandated business without delay upon termination of the mandate.\n",
      "Is the hypothesis entailed by the premise? Yes or no (No explain)\n",
      "Premise: Article 646(1) A mandatary must deliver to the mandator monies and other things received during the course of administering the mandated business. The same applies to fruits the mandatary has reaped.\n",
      "(2) A mandatary must transfer to the mandator rights that the mandatary has acquired in the mandatary's own name on behalf of the mandator.\n",
      "Hypothesis: The mandatary is not obligated to deliver to the mandator civil fruits reaped during the course of administering the mandated business.\n",
      "Is the hypothesis entailed by the premise? Yes or no (No explain)\n",
      "Premise: Article 644 A mandatary bears a duty to administer the mandated business with the due care of a prudent manager in compliance with the main purport of the mandate.\n",
      "Hypothesis: Even under a gratuitous mandate contract, the mandatary must administer the mandated business with the due care of a prudent manager in compliance with the main purport of the mandate.\n",
      "Is the hypothesis entailed by the premise? Yes or no (No explain)\n",
      "Premise: Article 654 If a mandate has terminated but there are pressing circumstances, the mandatary or the heir or legal representative thereof must effect the necessary actions until the time when the mandator or the heir or legal representative of the mandatary is able to take charge of the mandated business.\n",
      "Hypothesis: Even if the mandate contract has terminated due to the death of the mandator, if there are pressing circumstances, the mandatary must effect the necessary actions until the time when the heir of the mandator is able to take charge of the mandated business.\n",
      "Is the hypothesis entailed by the premise? Yes or no (No explain)\n",
      "Premise: Article 651(1) A mandate may be cancelled by either party at any time.\n",
      "(2) In the following cases, a party that has cancelled a mandate pursuant to the provisions of the preceding paragraph must compensate for damage suffered by the other party; provided, however, that this does not apply if there was a compelling reason for the cancellation:\n",
      "(i) if the party cancels the mandate at a time that is detrimental to the other party; or\n",
      "(ii) if the mandator cancels the mandate for which the purpose includes the interests for the mandatary (excluding the profit to be obtained exclusively by receiving remuneration).\n",
      "Hypothesis: In a mandate contract for which the purpose is not only the benefit of the mandator but also that of the mandatary, the mandator may not cancel the contract without a compelling reason.\n",
      "Is the hypothesis entailed by the premise? Yes or no (No explain)\n",
      "Premise: Article 708 A person that has paid money or delivered thing for an obligation for an illegal cause may not demand the return of the money paid or thing delivered; provided, however, that this does not apply if the illegal cause existed solely in relation to the Beneficiary.\n",
      "Hypothesis: A person that has paid money or delivered thing for an obligation for an illegal cause may not demand the return of the money paid or thing delivered, even if the illegal cause existed solely in relation to the beneficiary.\n",
      "Is the hypothesis entailed by the premise? Yes or no (No explain)\n",
      "Premise: Article 715(1) A person that employs another person for a business undertaking is liable to compensate for damage inflicted on a third party by that person's employees with respect to the execution of that business; provided, however, that this does not apply if the employer exercised reasonable care in appointing the employee or in supervising the business, or if the damage could not have been avoided even if the employer had exercised reasonable care.\n",
      "(2) A person that supervises a business on behalf of the employer also has the liability referred to in the preceding paragraph.\n",
      "(3) The provisions of the preceding two paragraphs do not preclude the employer or supervisor from exercising their right to reimbursement against the employee.\n",
      "Hypothesis: If an employee has inflicted damage to a third party with respect to the execution of the employer's business, and the employee has compensated the third party for such damage, the employee may not exercise the right of reimbursement against the employer.\n",
      "Is the hypothesis entailed by the premise? Yes or no (No explain)\n",
      "Premise: Article 717(1) If a defect in the installation or preservation of a structure on land causes damage to another person, the possessor of that structure is liable to the person incurring damage to compensate for the damage; provided, however, that if the possessor has exercised the necessary care to prevent the damage, the owner must compensate for the damage.\n",
      "(2) The provisions of the preceding paragraph apply mutatis mutandis if there is a defect in the planting or supporting of bamboo or trees.\n",
      "(3) In the cases referred to in the preceding two paragraphs, if there is another person that is liable for the cause of the damage, the possessor or owner may exercise their right to reimbursement against that person.\n",
      "Hypothesis: In the case where damage is caused to another due to a defect in the installation or preservation of a structure on land, if the possessor of the structure has exercised the necessary care to prevent the damage, the owner of the structure is liable to compensate for the damage.\n",
      "Is the hypothesis entailed by the premise? Yes or no (No explain)\n",
      "Premise: Article 107 If an agent performs an act that falls within the scope of that agent's authority to represent for the purpose of benefiting the agent's own interests or the interests of a third party, and the other party knew of or could have ascertained that purpose, that act is deemed to be an act performed by a person without authority to represent.\n",
      "Hypothesis: In the case where an agent performs an act that falls within the scope of such agent's authority to represent for the purpose of benefiting the agent’s own interest, such act is deemed to be an act performed by a person without authority to represent, only if the other party knew, or did not know due to gross negligence, of the purpose.\n",
      "Is the hypothesis entailed by the premise? Yes or no (No explain)\n",
      "Premise: Article 466-4(1) The provisions of Article 466, paragraph (3) do not apply to an attaching obligee that has enforced compulsory execution against a claim that is subject to the manifestation of intention to restrict assignment.\n",
      "(2)Notwithstanding the provisions of the preceding paragraph, if a third party such as the assignee knew or did not know due to gross negligence that the manifestation of intention to restrict assignment was made, and the obligee of the assignee or other third party enforces compulsory execution against the claim referred to in that paragraph, the obligor may refuse to perform the obligation and duly assert against an attaching obligee any event that results in extinguishing the obligation such as payment to the assignor.\n",
      "Article 466(1) A claim may be assigned; provided, however, that this does not apply if its nature does not permit the assignment.\n",
      "(2) Even if a party to a claim manifests the intention to prohibit or restrict the assignment of the claim (hereinafter referred to as the \"manifestation of intention to restrict assignment\"), the validity of the assignment of the claim is not impaired.\n",
      "(3) In the case prescribed in the preceding paragraph, the obligor may refuse to perform the obligation to a third party such as the assignee that knew or did not know due to gross negligence that the manifestation of intention to restrict assignment was made, and may duly assert against such third party any event that results in extinguishment of the obligation such as payment to the assignor.\n",
      "(4) The provisions of the preceding paragraph do not apply if the obligor does not perform the obligation, and the third party prescribed in that paragraph makes a demand to the obligor for the performance to the assignor by specifying a reasonable period of time, but the obligor does not perform the obligation within that period.\n",
      "Hypothesis: A special agreement to restrict assignment made by the parties with respect to a claim for deposits may not be duly asserted against an attaching obligee that has commenced compulsory execution against such claim, even if the obligee knew, or did not know due to gross negligence, of the existence of such special agreement.\n",
      "Is the hypothesis entailed by the premise? Yes or no (No explain)\n",
      "Premise: Article 505(1) If two persons bear an obligation to each other that has the same kind of purpose and if both obligations are due, each obligor may be relieved from the obligation by setting off the value of that obligation against the corresponding amount of the obligation of the other obligor; provided, however, that this does not apply if the nature of the obligation does not permit such a set-off.\n",
      "(2) Notwithstanding the provisions of the preceding paragraph, if a party manifests the intention to prohibit or restrict a set-off, that manifestation of the intention may be duly asserted against a third party only if the third party knew or did not know due to gross negligence it.\n",
      "Hypothesis: A special agreement to prohibit a set-off made by the parties with respect to a claim may be duly asserted against the assignee of the claim if the assignee knew, or did not know due to gross negligence, of the existence of such special agreement.\n",
      "Is the hypothesis entailed by the premise? Yes or no (No explain)\n",
      "Premise: Article 705 A person that has paid money or delivered anything as performance of an obligation may not demand the return of the money paid or thing delivered if the person knew, at the time, that the obligation did not exist.\n",
      "Hypothesis: A person that has paid money or delivered anything as performance of an obligation may not demand the return of the money paid or thing delivered if the person knew, or did not know due to gross negligence, that the obligation did not exist at the time the payment or the delivery was made.\n",
      "Is the hypothesis entailed by the premise? Yes or no (No explain)\n",
      "Premise: Article 415(1) If an obligor fails to perform consistent with the purpose of the obligation or the performance of an obligation is impossible, the obligee may claim compensation for loss or damage arising from the failure; provided, however, that this does not apply if the failure to perform the obligation is due to grounds not attributable to the obligor in light of the contract or other sources of obligation and the common sense in the transaction.\n",
      "(2) If the obligee is entitled to claim compensation for loss or damage pursuant to the provisions of the preceding paragraph, and any of the following cases applies, the obligee may claim compensation for loss or damage in lieu of the performance of the obligation:\n",
      "(i) the performance of the obligation is impossible;\n",
      "(ii) the obligor manifests the intention to refuse to perform the obligation; or\n",
      "(iii) the obligation has arisen from a contract, and the contract is cancelled or the obligee acquires the right to cancel the contract on the ground of the obligor's failure to perform the obligation.\n",
      "Hypothesis: If the lessee has lost the leased thing due to fire caused through negligence, the lessor may not demand compensation for damages unless the lessee has been with gross negligence.\n",
      "Is the hypothesis entailed by the premise? Yes or no (No explain)\n"
     ]
    }
   ],
   "source": [
    "template_prompt = \"Premise: {{premise}}\\nHypothesis: {{hypothesis}}\\nIs the hypothesis entailed by the premise? Yes or No (No explain)\"\n",
    "outpath = \"../output/GPT_Llama2/prompt_6\"\n",
    "import os\n",
    "if not os.path.exists(outpath):\n",
    "\tos.makedirs(outpath)\n",
    "    \n",
    "out_f = open(outpath+\"/riteval_R05_en.txt\", \"w\", encoding=\"utf-8\")\n",
    "\n",
    "for item in data:\n",
    "    text = template_prompt.replace(\"{{premise}}\", item[\"result\"]).replace(\"{{hypothesis}}\", item[\"content\"])\n",
    "    print(text)\n",
    "    out_f.write(text+\"\\n\")"
   ]
  },
  {
   "cell_type": "code",
   "execution_count": 5,
   "id": "ec9451dc-8df6-4fd2-9af8-526d126c0a82",
   "metadata": {},
   "outputs": [],
   "source": [
    "text = \"EXAM\\n\\nAnswer by yes or no.\\nDocument: Article 15 (1) The family court may decide to commence an assistance in respect of a person whose capacity to appreciate their own situation is inadequate due to a mental disorder, at the request of the person in question, that person's spouse, that person's relative within the fourth degree of kinship, the guardian, the guardian's supervisor, the curator, the curator's supervisor, or a public prosecutor; provided, however, that this does not apply to a person with respect to whom there are grounds as prescribed in Article 7 or the main clause of Article 11.\\nArticle 11 The family court may decide to commence a curatorship in respect of a person whose capacity to appreciate their own situation is extremely inadequate due to a mental disorder, at the request of the person in question, the person's spouse, the person's relative within the fourth degree of kinship, the guardian, the guardian's supervisor, the assistant, the assistant's supervisor, or a public prosecutor; provided, however, that this does not apply to a person in respect of whom a cause set forth in Article 7 exists.\\nQuestion: The family court may decide to commence an assistance also in respect of a person whose capacity to appreciate their own situation is extremely inadequate due to a mental disorder.?\""
   ]
  },
  {
   "cell_type": "code",
   "execution_count": 6,
   "id": "2b9f962e-a004-45ee-8882-d8896cc7c4b5",
   "metadata": {},
   "outputs": [
    {
     "data": {
      "text/plain": [
       "\"EXAM\\n\\nAnswer by yes or no.\\nDocument: Article 15 (1) The family court may decide to commence an assistance in respect of a person whose capacity to appreciate their own situation is inadequate due to a mental disorder, at the request of the person in question, that person's spouse, that person's relative within the fourth degree of kinship, the guardian, the guardian's supervisor, the curator, the curator's supervisor, or a public prosecutor; provided, however, that this does not apply to a person with respect to whom there are grounds as prescribed in Article 7 or the main clause of Article 11.\\nArticle 11 The family court may decide to commence a curatorship in respect of a person whose capacity to appreciate their own situation is extremely inadequate due to a mental disorder, at the request of the person in question, the person's spouse, the person's relative within the fourth degree of kinship, the guardian, the guardian's supervisor, the assistant, the assistant's supervisor, or a public prosecutor; provided, however, that this does not apply to a person in respect of whom a cause set forth in Article 7 exists.\\nQuestion: The family court may decide to commence an assistance also in respect of a person whose capacity to appreciate their own situation is extremely inadequate due to a mental disorder.?\""
      ]
     },
     "execution_count": 6,
     "metadata": {},
     "output_type": "execute_result"
    }
   ],
   "source": [
    "text"
   ]
  },
  {
   "cell_type": "code",
   "execution_count": 7,
   "id": "50639778-a655-4758-b057-11e12ccd2595",
   "metadata": {},
   "outputs": [
    {
     "data": {
      "text/plain": [
       "'yes'"
      ]
     },
     "execution_count": 7,
     "metadata": {},
     "output_type": "execute_result"
    }
   ],
   "source": [
    "inputs = tokenizer(text, return_tensors=\"pt\")[\"input_ids\"].cuda()\n",
    "outputs = model.generate(inputs, max_new_tokens=10)\n",
    "output_text = format_output(tokenizer.decode(outputs[0]).replace(text, \"\").split(\"\\n\")[-1])\n",
    "output_text"
   ]
  },
  {
   "cell_type": "code",
   "execution_count": 8,
   "id": "127544dd-ede5-437d-9be7-f2b35d1ff737",
   "metadata": {},
   "outputs": [],
   "source": [
    "text = \"If-Then Statements:\\\n",
    "Article 15(1): If a person's capacity to appreciate their own situation is inadequate due to a mental disorder, and if the person, their spouse, a relative up to the fourth degree of kinship, the guardian, the guardian's supervisor, the curator, the curator's supervisor, or a public prosecutor makes a request, then the family court may decide to commence assistance for that person.\\\n",
    "Article 11: If a person's capacity to appreciate their own situation is extremely inadequate due to a mental disorder, and if the person, their spouse, a relative up to the fourth degree of kinship, the guardian, the guardian's supervisor, the assistant, the assistant's supervisor, or a public prosecutor makes a request, then the family court may decide to commence curatorship for that person.\\\n",
    "Exception:\\\n",
    "Article 15(1): This rule does not apply to a person with respect to whom there are grounds as prescribed in Article 7 or the main clause of Article 11.\\\n",
    "Article 11: This rule does not apply to a person in respect of whom a cause set forth in Article 7 exists.\\\n",
    "Question: The family court may decide to commence an assistance also in respect of a person whose capacity to appreciate their own situation is extremely inadequate due to a mental disorder.?\""
   ]
  },
  {
   "cell_type": "code",
   "execution_count": 9,
   "id": "db789976-e7f3-493b-902d-46e7dfd9180c",
   "metadata": {},
   "outputs": [
    {
     "data": {
      "text/plain": [
       "'no'"
      ]
     },
     "execution_count": 9,
     "metadata": {},
     "output_type": "execute_result"
    }
   ],
   "source": [
    "inputs = tokenizer(text, return_tensors=\"pt\")[\"input_ids\"].cuda()\n",
    "outputs = model.generate(inputs, max_new_tokens=10)\n",
    "output_text = format_output(tokenizer.decode(outputs[0]).replace(text, \"\").split(\"\\n\")[-1])\n",
    "output_text"
   ]
  },
  {
   "cell_type": "code",
   "execution_count": 8,
   "id": "7f666055-7a9a-475a-a2e4-5745cb680f08",
   "metadata": {},
   "outputs": [],
   "source": [
    "f1 = open(\"../output/final/final.submission/R05.task4.CAPTAIN2_riteval_R05_en.xml\", \"r\")\n",
    "f2 = open(\"../data/COLIEE2024statute_data-English/answer-task4\", \"r\")\n",
    "\n",
    "count = 0\n",
    "for l1, l2 in zip(f1, f2):\n",
    "    l1 = l1.strip().split(\" \")[1]\n",
    "    l2 = l2.strip().split(\"\\t\")[1]\n",
    "    if l1 == l2: count += 1\n",
    "    "
   ]
  },
  {
   "cell_type": "code",
   "execution_count": 9,
   "id": "e3a5a7b6-3f66-4f4d-bbb1-5644c5641c59",
   "metadata": {},
   "outputs": [
    {
     "data": {
      "text/plain": [
       "90"
      ]
     },
     "execution_count": 9,
     "metadata": {},
     "output_type": "execute_result"
    }
   ],
   "source": [
    "count"
   ]
  },
  {
   "cell_type": "code",
   "execution_count": 10,
   "id": "9d6d9dd2-35f6-4058-b5e7-dd7fd7929ef9",
   "metadata": {},
   "outputs": [
    {
     "data": {
      "text/plain": [
       "0.8256880733944955"
      ]
     },
     "execution_count": 10,
     "metadata": {},
     "output_type": "execute_result"
    }
   ],
   "source": [
    "count/109"
   ]
  },
  {
   "cell_type": "code",
   "execution_count": null,
   "id": "1cbddf65-306f-4cea-a1b3-c394ed588047",
   "metadata": {},
   "outputs": [],
   "source": []
  }
 ],
 "metadata": {
  "kernelspec": {
   "display_name": "Python 3 (ipykernel)",
   "language": "python",
   "name": "python3"
  },
  "language_info": {
   "codemirror_mode": {
    "name": "ipython",
    "version": 3
   },
   "file_extension": ".py",
   "mimetype": "text/x-python",
   "name": "python",
   "nbconvert_exporter": "python",
   "pygments_lexer": "ipython3",
   "version": "3.10.13"
  }
 },
 "nbformat": 4,
 "nbformat_minor": 5
}
