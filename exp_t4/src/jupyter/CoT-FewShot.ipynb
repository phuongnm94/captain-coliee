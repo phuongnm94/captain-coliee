{
 "cells": [
  {
   "cell_type": "code",
   "execution_count": 1,
   "id": "b285cf41-f10a-4e48-bfab-963c2094abb0",
   "metadata": {},
   "outputs": [],
   "source": [
    "path_file = \"../data/COLIEE2024statute_data-English/train/\""
   ]
  },
  {
   "cell_type": "code",
   "execution_count": 2,
   "id": "56232716-490f-4d64-9db3-5af80ec3e5e0",
   "metadata": {},
   "outputs": [],
   "source": [
    "from os import listdir\n",
    "from os.path import isfile, join\n",
    "\n",
    "def get_all_files_from_path(mypath):\n",
    "    filenames = [join(mypath, f) for f in listdir(mypath) if isfile(join(mypath, f))]\n",
    "    return filenames\n",
    "\n",
    "from bs4 import BeautifulSoup\n",
    "import re\n",
    "import json\n",
    "\n",
    "def get_article(articles):\n",
    "    result = {}\n",
    "    current_statue = \"(non-statute)\"\n",
    "    for i in re.split(r\"(.*)\", articles.strip()):\n",
    "        if len(i) == 0 or i == \"\\n\":\n",
    "            continue\n",
    "        if re.search(r\"^\\(.*\\)$\", i):\n",
    "            current_statue = i.strip()\n",
    "            if current_statue not in result:\n",
    "                result.update({current_statue: []})\n",
    "        else:\n",
    "            if current_statue not in result:\n",
    "                result.update({current_statue: []})\n",
    "            result[current_statue].append(i)\n",
    "    return result\n",
    "\n",
    "def build_test(filename):\n",
    "    result = {}\n",
    "    with open(filename, 'r') as f:\n",
    "        data = f.read()\n",
    "\n",
    "    data = BeautifulSoup(data, \"xml\").find_all('pair')\n",
    "    for i in data:\n",
    "        id = i.get('id')\n",
    "        result.update({id: {}})\n",
    "        result[id].update({\"label\": i.get('label')})\n",
    "        articles = i.find('t1').text.strip()\n",
    "        # articles = get_article(articles)\n",
    "        result[id].update({\"result\": articles})\n",
    "        result[id].update({\"content\": i.find('t2').text.strip()})\n",
    "    return result\n",
    "\n",
    "def write_json(filename, data):\n",
    "    with open(filename, 'w', encoding='utf-8') as f:\n",
    "        json.dump(data, f, ensure_ascii=False, indent=4)\n",
    "\n",
    "import xml.etree.ElementTree as Et\n",
    "import glob\n",
    "\n",
    "def format_first_line(text):\n",
    "    lines = text.split(\"\\n\")\n",
    "    results = []\n",
    "    for line in lines:\n",
    "        if line[0] == \"\":\n",
    "            continue\n",
    "        if line[0] == \"(\" and line[-1] == \")\":\n",
    "            continue\n",
    "        results.append(line)\n",
    "    return \"\\n\".join(results)\n",
    "\n",
    "def load_samples(filexml):\n",
    "    # try:\n",
    "        tree = Et.parse(filexml)\n",
    "        root = tree.getroot()\n",
    "        samples = []\n",
    "        for i in range(0, len(root)):\n",
    "            sample = {'result': []}\n",
    "            for j, e in enumerate(root[i]):\n",
    "                if e.tag == \"t1\":\n",
    "                    sample['result'] = format_first_line(e.text.strip())\n",
    "                elif e.tag == \"t2\":\n",
    "                    question = e.text.strip()\n",
    "                    sample['content'] = question if len(question) > 0 else None\n",
    "            sample.update(\n",
    "                {'index': root[i].attrib['id'], 'label': root[i].attrib.get('label', \"N\")})\n",
    "            # filter the noise samples\n",
    "            if sample['content'] is not None:\n",
    "                samples.append(sample)\n",
    "            else:\n",
    "                print(\"[Important warning] samples {} is ignored\".format(sample))\n",
    "        return samples\n",
    "\n",
    "def load_test_data_samples(path_folder_base, test_id):\n",
    "    data = []\n",
    "    test = load_samples(f\"{path_folder_base}/riteval_{test_id}.xml\")\n",
    "    for file_path in glob.glob(f\"{path_folder_base}/riteval_{test_id}.xml\"):\n",
    "        data = data + load_samples(file_path)\n",
    "    return data\n",
    "\n",
    "\n",
    "def load_all_data_samples(path_folder_base):\n",
    "    data = []\n",
    "    for file_path in glob.glob(\"{}/*.xml\".format(path_folder_base)):\n",
    "        data = data + load_samples(file_path)\n",
    "    return data\n",
    "\n",
    "def check_false_labels(pred, false_labels):\n",
    "\tfor label in false_labels:\n",
    "\t\tif label in pred:\n",
    "\t\t\treturn True\n",
    "\treturn False\n",
    "\n",
    "from tqdm import tqdm\n",
    "\n",
    "def format_output(text):\n",
    "\tCLEANR = re.compile('<.*?>') \n",
    "\tcleantext = re.sub(CLEANR, '', text)\n",
    "\treturn cleantext.strip().lower()\n",
    "\n",
    "def readfile(filename):\n",
    "    f = open(filename)\n",
    "    data = json.load(f)\n",
    "    return data"
   ]
  },
  {
   "cell_type": "markdown",
   "id": "b4487b39-a443-4c55-8e5c-0415fafa3c0e",
   "metadata": {},
   "source": [
    "# ZeroShot_CoT"
   ]
  },
  {
   "cell_type": "code",
   "execution_count": 3,
   "id": "14102062-569a-4d57-b969-46c29847c6e6",
   "metadata": {},
   "outputs": [
    {
     "name": "stderr",
     "output_type": "stream",
     "text": [
      "/home/congnguyen/drive/miniconda3/envs/myenv/lib/python3.10/site-packages/tqdm/auto.py:21: TqdmWarning: IProgress not found. Please update jupyter and ipywidgets. See https://ipywidgets.readthedocs.io/en/stable/user_install.html\n",
      "  from .autonotebook import tqdm as notebook_tqdm\n",
      "Loading checkpoint shards: 100%|████████████████████████████████████████████████████████████████████████████████| 5/5 [00:11<00:00,  2.29s/it]\n"
     ]
    }
   ],
   "source": [
    "from transformers import AutoTokenizer, BloomForCausalLM, AutoTokenizer, AutoModelForSeq2SeqLM\n",
    "import torch\n",
    "\n",
    "model_name = \"google/flan-t5-xxl\"\n",
    "cache_dir = \"/home/congnguyen/drive/.cache\"\n",
    "tokenizer = AutoTokenizer.from_pretrained(model_name, cache_dir=cache_dir)\n",
    "model = AutoModelForSeq2SeqLM.from_pretrained(\n",
    "\t\tmodel_name, device_map=\"auto\", cache_dir=cache_dir, torch_dtype=torch.float16, load_in_8bit=True\n",
    "\t)"
   ]
  },
  {
   "cell_type": "code",
   "execution_count": 4,
   "id": "49d937a1-9249-46b5-a7a5-eaaa4a037d53",
   "metadata": {},
   "outputs": [],
   "source": [
    "from tqdm import tqdm\n",
    "\n",
    "def format_output(text):\n",
    "\tCLEANR = re.compile('<.*?>') \n",
    "\tcleantext = re.sub(CLEANR, '', text)\n",
    "\treturn cleantext.strip().lower()\n",
    "\n",
    "def prompting(premise, hypothesis, template=None):\n",
    "    text = template.replace(\"{{premise}}\", premise).replace(\"{{hypothesis}}\", hypothesis)\n",
    "    return text+\"\\n\\nLet's think step by step\\n\""
   ]
  },
  {
   "cell_type": "code",
   "execution_count": 5,
   "id": "4a55d3f4-f818-4b87-83ac-b8bec1f37d21",
   "metadata": {
    "scrolled": true
   },
   "outputs": [],
   "source": [
    "list_prompt = readfile(\"../data/prompt.json\")\n",
    "# list_prompt"
   ]
  },
  {
   "cell_type": "code",
   "execution_count": 6,
   "id": "d1325ade-371c-4b17-8be0-96a3d0ca9512",
   "metadata": {},
   "outputs": [],
   "source": [
    "# def predict(model, tokenizer, files=[\"riteval_R01_en\",\"riteval_R02_en\",\"riteval_R03_en\",\"riteval_R04_en\"], output=\"../output/cot/newpromt_\"):\n",
    "#     for file in files:\n",
    "#         test_file = path_file+file+\".xml\"\n",
    "#         data = load_samples(test_file)\n",
    "        \n",
    "#         acc = {}\n",
    "#         for template_prompt in list_prompt:\n",
    "#             template_prompt = template_prompt[\"prompt\"]\n",
    "#             print(template_prompt)\n",
    "#             result = []\n",
    "#             count = 0\n",
    "#             for item in tqdm(data):\n",
    "#                 label = item[\"label\"]\n",
    "#                 hypothesis = item[\"content\"]\n",
    "#                 premise = item[\"result\"]\n",
    "#                 #Important: You must use dot-product, not cosine_similarity\n",
    "#                 text = prompting(premise, hypothesis, template_prompt)\n",
    "#                 inputs = tokenizer(text, return_tensors=\"pt\")[\"input_ids\"].cuda()\n",
    "#                 outputs = model.generate(inputs, max_new_tokens=256)\n",
    "#                 output_text = format_output(tokenizer.decode(outputs[0]).replace(text, \"\").split(\"\\n\")[-1])\n",
    "#                 if count < 10:\n",
    "#                     print(text)\n",
    "#                     print(output_text)\n",
    "#                 # if count < 3:\n",
    "#                 #     print(output_text)\n",
    "#                 if \"yes\" in output_text or \"true\" in output_text:\n",
    "#                     output_text = \"Y\"\n",
    "#                 else:\n",
    "#                     output_text = \"N\"\n",
    "#                 if output_text == label:\n",
    "#                     count+=1\n",
    "#                 # print(\"predict label: \", output_text, \"label: \", label)\n",
    "#             print(\"=======================================\")\n",
    "#             print(template_prompt)\n",
    "#             print(count, \"/\", len(data))\n",
    "#             acc.update({template_prompt: count/len(data)})\n",
    "#         writefile(acc, output+file+\".json\")"
   ]
  },
  {
   "cell_type": "code",
   "execution_count": 7,
   "id": "fb1c985b-0bf2-4120-bdfc-a4910ba6fa2e",
   "metadata": {
    "scrolled": true
   },
   "outputs": [],
   "source": [
    "# predict(model, tokenizer, [\"riteval_R01_en\",\"riteval_R02_en\",\"riteval_R03_en\",\"riteval_R04_en\"], \"../output/cot/newpromt_\")"
   ]
  },
  {
   "cell_type": "code",
   "execution_count": null,
   "id": "5995f539-2945-4532-9d44-c4b3bbf30b28",
   "metadata": {},
   "outputs": [],
   "source": []
  },
  {
   "cell_type": "code",
   "execution_count": null,
   "id": "1157de9e-d9ac-454f-bb96-b0dc8fd55f94",
   "metadata": {},
   "outputs": [],
   "source": []
  },
  {
   "cell_type": "markdown",
   "id": "15db1850-8aad-4317-ba78-f4f5709e634e",
   "metadata": {},
   "source": [
    "# Dense Passage Retrieval"
   ]
  },
  {
   "cell_type": "code",
   "execution_count": 8,
   "id": "b2b8b15a-5f09-4ec9-9798-525020e90348",
   "metadata": {},
   "outputs": [],
   "source": [
    "# datas = get_all_files_from_path(\"../data/COLIEE2024statute_data-English/train\")\n",
    "# corpus = []\n",
    "# content = []\n",
    "# labels = []\n",
    "# for data in datas:\n",
    "#     data = load_samples(data)\n",
    "#     for item in data:\n",
    "        # corpus.append(item[\"result\"])\n",
    "        # content.append(item[\"content\"])\n",
    "        # labels.append(item[\"label\"])\n",
    "# print(len(corpus))\n"
   ]
  },
  {
   "cell_type": "code",
   "execution_count": 8,
   "id": "dbc26987-03db-476a-b48b-1df2019fc073",
   "metadata": {},
   "outputs": [],
   "source": [
    "import json\n",
    "\n",
    "def readjsonl(filename=\"../output/generated_cot/prompt_0/riteval_R04_en_cot.jsonl\"):\n",
    "    jsonl_content = open(filename, \"r\", encoding=\"utf-8\")\n",
    "    result = [json.loads(jline) for jline in jsonl_content.read().splitlines()]\n",
    "    return result\n",
    "    \n",
    "def load_cot_sample(path=\"../output/generated_cot/prompt_0\"):\n",
    "    files = get_all_files_from_path(path)\n",
    "    corpus = []\n",
    "    prompts = []\n",
    "    labels = []\n",
    "    contents = []\n",
    "    cots = []\n",
    "    for file in files:\n",
    "        data = readjsonl(file)\n",
    "        for item in data:\n",
    "            corpus.append(item[\"result\"])\n",
    "            contents.append(item[\"content\"])\n",
    "            prompts.append(item[\"prompt\"])\n",
    "            cots.append(item[\"cot\"].split(\".\")[0]+\".\")\n",
    "            labels.append(item[\"label\"])\n",
    "    return corpus, prompts, labels, contents, cots"
   ]
  },
  {
   "cell_type": "code",
   "execution_count": 9,
   "id": "39efc601-4f01-48e4-b206-a4851b34d328",
   "metadata": {},
   "outputs": [],
   "source": [
    "corpus, prompts, labels, contents, cots = load_cot_sample(\"../output/generated_cot/prompt_0\")"
   ]
  },
  {
   "cell_type": "code",
   "execution_count": 10,
   "id": "ddcc0598-0020-4e28-902c-8ff7e026d9e0",
   "metadata": {},
   "outputs": [],
   "source": [
    "from sentence_transformers import SentenceTransformer, util\n",
    "import torch\n",
    "\n",
    "passage_encoder = SentenceTransformer('facebook-dpr-ctx_encoder-single-nq-base')\n",
    "\n",
    "passage_embeddings = passage_encoder.encode(corpus)\n",
    "\n",
    "query_encoder = SentenceTransformer('facebook-dpr-question_encoder-single-nq-base')"
   ]
  },
  {
   "cell_type": "code",
   "execution_count": 20,
   "id": "c62a3082-4101-4c57-b712-5b422ff573bc",
   "metadata": {},
   "outputs": [],
   "source": [
    "\n",
    "def fewshot_cot_prompting(indexes, prompts, labels, cots):\n",
    "    result = \"\"\n",
    "    for i in indexes:\n",
    "        if \"true or false\" in prompts[i].lower():\n",
    "            answer = \"True\"\n",
    "            if \"N\" == labels[i]:\n",
    "                answer = \"False\"\n",
    "        else:\n",
    "            answer = \"Yes\"\n",
    "            if \"N\" == labels[i]:\n",
    "                answer = \"No\"\n",
    "        # prompt = prompt_template.replace(\"{{premise}}\", corpus[i]).replace('{{hypothesis}}', content[i]).replace('{{answer}}', answer)\n",
    "        prompt = prompting(prompts[i], cots[i], answer)\n",
    "        result += prompt\n",
    "    return result\n",
    "    \n",
    "def prompting(text, cot, answer):\n",
    "    return text.split(\"\\nAnswer: \")[0] + \" Let's think step by step \\nAnswer: \"+ cot +\" So the answer is \" + answer+\"\\n\\n\"\n",
    "    # return \"### Instructs: \"+text.split(\"\\nAnswer: \")[0] + \"\\n### Response: \"+ cot"
   ]
  },
  {
   "cell_type": "code",
   "execution_count": 21,
   "id": "7edb990a-bb9f-48e6-aa2b-94380b687f3b",
   "metadata": {},
   "outputs": [],
   "source": [
    "test_file = \"../data/COLIEE2024statute_data-English/train/riteval_R04_en.xml\"\n",
    "data = load_samples(test_file)"
   ]
  },
  {
   "cell_type": "code",
   "execution_count": 22,
   "id": "e4b9bb3a-4c7c-4894-9152-5545d54b71c3",
   "metadata": {
    "scrolled": true
   },
   "outputs": [
    {
     "name": "stderr",
     "output_type": "stream",
     "text": [
      "  0%|                                                                                                                 | 0/101 [00:00<?, ?it/s]"
     ]
    },
    {
     "name": "stdout",
     "output_type": "stream",
     "text": [
      "Article 5 (1) A minor must obtain the consent of the minor's legal representative to perform a juridical act;provided, however, that this does not apply to a juridical act for merely acquiring a right or being released from an obligation.\n",
      "(2) A juridical act in contravention of the provisions of the preceding paragraph is voidable.\n",
      "Article 6 (1) A minor who is permitted to conduct one or multiple types of business has the same capacity to act as an adult as far as that business is concerned.\n",
      "Question: A juridical act by a minor who is permitted to conduct business may not be rescinded even if the judicial act does not concern the business. True or False? Let's think step by step \n",
      "Answer: A juridical act in contravention of the provisions of the preceding paragraph is voidable. So the answer is False\n",
      "\n",
      "Article 6\n",
      "(1) A minor who is permitted to conduct one or multiple types of business has the same capacity to act as an adult as far as that business is concerned.\n",
      "(2) In a case as referred to in the preceding paragraph, if there are grounds that make the minor unable to sustain that business, the legal representative may revoke or limit the permission therefor in accordance with the provisions of Part IV (Relatives).\n",
      "Question: If a minor, after getting permission for carrying a business from his/her statutory agent, performs an act unrelated to the business without getting consent of the statutory agent, that act may not be rescinded. True or False? Let's think step by step \n",
      "Answer: The minor's statutory agent may revoke or limit the permission therefor in accordance with the provisions of Part IV (Relatives). So the answer is False\n",
      "\n",
      "Article 6\n",
      "(1) A minor who is permitted to conduct one or multiple types of business has the same capacity to act as an adult as far as that business is concerned.\n",
      "(2) In a case as referred to in the preceding paragraph, if there are grounds that make the minor unable to sustain that business, the legal representative may revoke or limit the permission therefor in accordance with the provisions of Part IV (Relatives).\n",
      "Question: A minor who is permitted to carry on one or more kinds of business shall have the same capacity to act as a person of the age of majority as far as such business is concerned. True or False? Let's think step by step \n",
      "Answer: Article 6 (1) A minor who is permitted to conduct one or multiple types of business has the same capacity to act as an adult as far as that business is concerned. So the answer is True\n",
      "\n",
      "Article 5 (1) A minor must obtain the consent of the minor's legal representative to perform a juridical act;provided, however, that this does not apply to a juridical act for merely acquiring a right or being released from an obligation.\n",
      "(2) A juridical act in contravention of the provisions of the preceding paragraph is voidable.\n",
      "Article 6 (1) A minor who is permitted to conduct one or multiple types of business has the same capacity to act as an adult as far as that business is concerned.\n",
      "Question: A juridical act by a minor who is permitted to conduct business may not be rescinded even if the judicial act does not concern the business. True or False?\n",
      "Answer: True or False\n",
      "===================================\n"
     ]
    },
    {
     "name": "stderr",
     "output_type": "stream",
     "text": [
      "  1%|█                                                                                                        | 1/101 [00:04<07:55,  4.76s/it]"
     ]
    },
    {
     "name": "stdout",
     "output_type": "stream",
     "text": [
      "let's think step by step answer: a juridical act in contravention of the provisions of the preceding paragraph is voidable. so the answer is false\n",
      "===================================\n",
      "Predict:  N  Label:  N\n",
      "Article 5 (1) A minor must obtain the consent of the minor's legal representative to perform a juridical act;provided, however, that this does not apply to a juridical act for merely acquiring a right or being released from an obligation.\n",
      "(2) A juridical act in contravention of the provisions of the preceding paragraph is voidable.\n",
      "Article 120 (1) An act that is voidable on the grounds of the qualified legal capacity to act of the person who did the act may be rescinded only by the person with qualified legal capacity (in the case of an act performed by the person as a legal representative of another person with limited capacity, including that other person with limited capacity), or an agent or successor thereof, or a person who has the authority to give consent thereto.\n",
      "Question: When a minor concludes a contract without obtaining the consent of the person who has the parental authority, the minor may not personally rescind the contract without the consent of the person who has the parental authority until the minor has attained the age of majority. True or False? Let's think step by step \n",
      "Answer: The minor may rescind the contract only by the person with qualified legal capacity or an agent or successor thereof, or a person who has the authority to give consent thereto. So the answer is False\n",
      "\n",
      "Article 95\n",
      "(1) A manifestation of intention is voidable if it is based on either of the following mistakes, and the mistake is material in light of the purpose of the juridical act and the common sense in the transaction:\n",
      "(i) a mistake wherein the person lacks the intention that corresponds to the manifestation of intention; or\n",
      "(ii) a mistake wherein the person making the manifestation of intention holds an understandings that does not correspond to the truth with regard to the circumstances which the person has taken as the basis for the juridical act.\n",
      "(2) A manifestation of intention under the provisions of item (ii) of the preceding paragraph may be rescinded only if it has been indicated that the circumstances in question are being taken as the basis for the juridical act.\n",
      "(3) If a mistake is due to gross negligence on the part of the person making the manifestation of intention, that person may not rescind a manifestation of intention as under paragraph (1), except in the following cases:\n",
      "(i) if the other party knew, or did not know due to gross negligence, of the mistake on the part of the person making the manifestation of intention; or\n",
      "(ii) if the other party was under the same mistake as the person making the manifestation of intention.\n",
      "(4) The rescission of a manifestation of intention under the provisions of paragraph (1) may not be duly asserted against a third party in good faith acting without negligence.\n",
      "Question: In the case where a person under curatorship concluded contract for sale with a third party with consent of his/her curator, even when there is a mistake in any element of the juristic act in question and he/she was not grossly negligent, he/she may not assert such nullity by himself/herself. True or False? Let's think step by step \n",
      "Answer: The rescission of a manifestation of intention under the provisions of paragraph (1) may not be duly asserted against a third party in good faith acting without negligence. So the answer is False\n",
      "\n",
      "Article 95\n",
      "(1) A manifestation of intention is voidable if it is based on either of the following mistakes, and the mistake is material in light of the purpose of the juridical act and the common sense in the transaction:\n",
      "(i) a mistake wherein the person lacks the intention that corresponds to the manifestation of intention; or\n",
      "(ii) a mistake wherein the person making the manifestation of intention holds an understandings that does not correspond to the truth with regard to the circumstances which the person has taken as the basis for the juridical act.\n",
      "(2) A manifestation of intention under the provisions of item (ii) of the preceding paragraph may be rescinded only if it has been indicated that the circumstances in question are being taken as the basis for the juridical act.\n",
      "(3) If a mistake is due to gross negligence on the part of the person making the manifestation of intention, that person may not rescind a manifestation of intention as under paragraph (1), except in the following cases:\n",
      "(i) if the other party knew, or did not know due to gross negligence, of the mistake on the part of the person making the manifestation of intention; or\n",
      "(ii) if the other party was under the same mistake as the person making the manifestation of intention.\n",
      "(4) The rescission of a manifestation of intention under the provisions of paragraph (1) may not be duly asserted against a third party in good faith acting without negligence.\n",
      "Question: In cases any third party commits any fraud inducing any person to make a manifestation of intention to the other party, and the other party did not know such fact, if such manifestation of intention meets the requirement for invalid by mistake, the person who made such manifestation of intention may assert nullity. True or False? Let's think step by step \n",
      "Answer: The rescission of a manifestation of intention under the provisions of paragraph (1) may not be duly asserted against a third party in good faith acting without negligence. So the answer is True\n",
      "\n",
      "Article 5 (1) A minor must obtain the consent of the minor's legal representative to perform a juridical act;provided, however, that this does not apply to a juridical act for merely acquiring a right or being released from an obligation.\n",
      "(2) A juridical act in contravention of the provisions of the preceding paragraph is voidable.\n",
      "Article 120 (1) An act that is voidable on the grounds of the qualified legal capacity to act of the person who did the act may be rescinded only by the person with qualified legal capacity (in the case of an act performed by the person as a legal representative of another person with limited capacity, including that other person with limited capacity), or an agent or successor thereof, or a person who has the authority to give consent thereto.\n",
      "Question: When a minor concludes a contract without obtaining the consent of the person who has the parental authority, the minor may not personally rescind the contract without the consent of the person who has the parental authority until the minor has attained the age of majority. True or False?\n",
      "Answer: True or False\n",
      "===================================\n"
     ]
    },
    {
     "name": "stderr",
     "output_type": "stream",
     "text": [
      "  2%|██                                                                                                       | 2/101 [00:12<10:38,  6.45s/it]"
     ]
    },
    {
     "name": "stdout",
     "output_type": "stream",
     "text": [
      "let's think step by step answer: the minor may rescind the contract only by the person with qualified legal capacity or an agent or successor thereof, or a person who has the authority to give consent thereto. so the answer is false\n",
      "===================================\n",
      "Predict:  N  Label:  N\n",
      "Article 124\n",
      "(1) The ratification of a voidable act does not become effective unless it is made after the circumstances that made the act voidable cease to exist and the person ratifying the act becomes aware of the right to rescind it.\n",
      "(2) In the following cases, the ratification referred to in the preceding paragraph is not required to be made after the circumstances that made the act voidable cease to exist:\n",
      "(i) if a legal representative or a curator or assistant of a person with qualified legal capacity ratifies the act; or\n",
      "(ii) if a person with qualified legal capacity (excluding an adult ward) makes the ratification with the consent of a legal representative, curator or assistant.\n",
      "Article 126\n",
      "The right to rescind an act is extinguished by the operation of the prescription if it is not exercised within five years from the time when it becomes possible to ratify the act. The same applies if 20 years have passed from the time of the act.\n",
      "Question: The period of the extinctive prescription of the right to rescind about the act performed by an adult ward commences from the time of becoming a person with capacity to act. True or False? Let's think step by step \n",
      "Answer: The period of the extinctive prescription of the right to rescind about the act performed by an adult ward commences from the time when it becomes possible to ratify the act. So the answer is False\n",
      "\n",
      "Article 124\n",
      "(1) The ratification of a voidable act does not become effective unless it is made after the circumstances that made the act voidable cease to exist and the person ratifying the act becomes aware of the right to rescind it.\n",
      "(2) In the following cases, the ratification referred to in the preceding paragraph is not required to be made after the circumstances that made the act voidable cease to exist:\n",
      "(i) if a legal representative or a curator or assistant of a person with qualified legal capacity ratifies the act; or\n",
      "(ii) if a person with qualified legal capacity (excluding an adult ward) makes the ratification with the consent of a legal representative, curator or assistant.\n",
      "Article 125\n",
      "If, at or after the time when it becomes possible to ratify an act, any of the following facts occur with respect to a voidable act, it is deemed that the act has been ratified;provided, however, that this does not apply if an objection is reserved:\n",
      "(i) full or partial performance;\n",
      "(ii) request for the performance;\n",
      "(iii) novation;\n",
      "(iv) provision of a security;\n",
      "(v) assignment of a part of or the whole of a right acquired by the voidable act; or\n",
      "(vi) compulsory execution.\n",
      "Question: The person under curatorship A sold A's land \"X\" to B without the consent of the curator or any permission of the family court in lieu thereof.\n",
      "If, after A has become a person with capacity to act, A assigns the claim for the sale price of the land \"X\" to others, it is deemed that he/she has ratified such contract for sale. True or False? Let's think step by step \n",
      "Answer: A has become a person with capacity to act. So the answer is True\n",
      "\n",
      "Article 5 (1) A minor must obtain the consent of the minor's legal representative to perform a juridical act;provided, however, that this does not apply to a juridical act for merely acquiring a right or being released from an obligation.\n",
      "(2) A juridical act in contravention of the provisions of the preceding paragraph is voidable.\n",
      "Article 124 (1) The ratification of a voidable act does not become effective unless it is made after the circumstances that made the act voidable cease to exist and the person ratifying the act becomes aware of the right to rescind it.\n",
      "(2) In the following cases, the ratification referred to in the preceding paragraph is not required to be made after the circumstances that made the act voidable cease to exist:\n",
      "(ii) if a person with qualified legal capacity (excluding an adult ward) makes the ratification with the consent of a legal representative, curator or assistant.\n",
      "Question: When a minor concludes a contract without obtaining the consent of the person who has the parental authority, the minor may not personally ratify the contract without the consent of the person who has the parental authority until the minor has attained the age of majority. True or False? Let's think step by step \n",
      "Answer: The ratification of a voidable act does not become effective unless it is made after the circumstances that made the act voidable cease to exist and the person ratifying the act becomes aware of the right to rescind it. So the answer is True\n",
      "\n",
      "Article 5 (1) A minor must obtain the consent of the minor's legal representative to perform a juridical act;provided, however, that this does not apply to a juridical act for merely acquiring a right or being released from an obligation.\n",
      "(2) A juridical act in contravention of the provisions of the preceding paragraph is voidable.\n",
      "Article 124 (1) The ratification of a voidable act does not become effective unless it is made after the circumstances that made the act voidable cease to exist and the person ratifying the act becomes aware of the right to rescind it.\n",
      "(2) In the following cases, the ratification referred to in the preceding paragraph is not required to be made after the circumstances that made the act voidable cease to exist:\n",
      "(ii) if a person with qualified legal capacity (excluding an adult ward) makes the ratification with the consent of a legal representative, curator or assistant.\n",
      "Question: When a minor concludes a contract without obtaining the consent of the person who has the parental authority, the minor may not personally ratify the contract without the consent of the person who has the parental authority until the minor has attained the age of majority. True or False?\n",
      "Answer: True or False\n",
      "===================================\n"
     ]
    },
    {
     "name": "stderr",
     "output_type": "stream",
     "text": [
      "  3%|███                                                                                                      | 3/101 [00:30<19:03, 11.67s/it]"
     ]
    },
    {
     "name": "stdout",
     "output_type": "stream",
     "text": [
      "let's think step by step answer: the ratification of a voidable act does not become effective unless it is made after the circumstances that made the act voidable cease to exist and the person ratifying the act becomes aware of the right to rescind it. (2) in the following cases, the ratification referred to in the preceding paragraph is not required to be made after the circumstances that made the act voidable cease to exist: (ii) if a person with qualified legal capacity (excluding an adult ward) makes the ratification with the consent of a legal representative, curator or assistant. so the answer is true\n",
      "===================================\n",
      "Predict:  Y  Label:  Y\n",
      "Article 9\n",
      "A juridical act performed by an adult ward is voidable;provided, however, that this does not apply to the purchase of daily necessities or to any other act involved in day-to-day life.\n",
      "Question: An  act of paying electricity charges by adult ward without obtaining the consent of his/her guardian is not voidable. True or False? Let's think step by step \n",
      "Answer: Article 9 A juridical act performed by an adult ward is voidable;provided, however, that this does not apply to the purchase of daily necessities or to any other act involved in day-to-day life. So the answer is True\n",
      "\n",
      "Article 9\n",
      "A juridical act performed by an adult ward is voidable;provided, however, that this does not apply to the purchase of daily necessities or to any other act involved in day-to-day life.\n",
      "Question: A contract of sales concluded by an adult ward may be rescinded except relating to daily life, even in cases the consent of the adult guardian has been obtained, the contract True or False? Let's think step by step \n",
      "Answer: Article 9 A juridical act performed by an adult ward is voidable;provided, however, that this does not apply to the purchase of daily necessities or to any other act involved in day-to-day life. So the answer is True\n",
      "\n",
      "Article 9\n",
      "A juridical act performed by an adult ward is voidable;provided, however, that this does not apply to the purchase of daily necessities or to any other act involved in day-to-day life.\n",
      "Question: The purchase of daily household items may not be rescinded, even if an adult ward performed the act. True or False? Let's think step by step \n",
      "Answer: Article 9 A juridical act performed by an adult ward is voidable;provided, however, that this does not apply to the purchase of daily necessities or to any other act involved in day-to-day life. So the answer is True\n",
      "\n",
      "Article 9 A juridical act performed by an adult ward is voidable;provided, however, that this does not apply to the purchase of daily necessities or to any other act involved in day-to-day life.\n",
      "Question: If an adult ward acquires land by gift, the guardian of the adult ward may not rescind the gift. True or False?\n",
      "Answer: True or False\n",
      "===================================\n"
     ]
    },
    {
     "name": "stderr",
     "output_type": "stream",
     "text": [
      "  4%|████▏                                                                                                    | 4/101 [00:38<16:22, 10.13s/it]"
     ]
    },
    {
     "name": "stdout",
     "output_type": "stream",
     "text": [
      "let's think step by step answer: article 9 a juridical act performed by an adult ward is voidable;provided, however, that this does not apply to the purchase of daily necessities or to any other act involved in day-to-day life. so the answer is false\n",
      "===================================\n",
      "Predict:  N  Label:  N\n",
      "Article 9 A juridical act performed by an adult ward is voidable;provided, however, that this does not apply to the purchase of daily necessities or to any other act involved in day-to-day life.\n",
      "Article 102 An act that a person with qualified legal capacity performs as an agent of another person may not be rescinded on the grounds of qualified legal capacity;provided, however, that this does not apply to an act performed by a person with qualified legal capacity as a legal representative of another person with qualified legal capacity.\n",
      "Question: An act that A, an adult ward, performs as legal representative of B, a minor, may not be rescinded on the grounds of qualified legal capacity of A. True or False? Let's think step by step \n",
      "Answer: A, an adult ward, performs as legal representative of B, a minor, may not be rescinded on the grounds of qualified legal capacity of A. So the answer is False\n",
      "\n",
      "Article 102\n",
      "An act that a person with qualified legal capacity performs as an agent of another person may not be rescinded on the grounds of qualified legal capacity;provided, however, that this does not apply to an act performed by a person with qualified legal capacity as a legal representative of another person with qualified legal capacity.\n",
      "Question: A minor may not become an agent. True or False? Let's think step by step \n",
      "Answer: A minor is a person who is under the age of 18. So the answer is False\n",
      "\n",
      "Article 102\n",
      "An act that a person with qualified legal capacity performs as an agent of another person may not be rescinded on the grounds of qualified legal capacity;provided, however, that this does not apply to an act performed by a person with qualified legal capacity as a legal representative of another person with qualified legal capacity.\n",
      "Question: A minor may not be an agent. True or False? Let's think step by step \n",
      "Answer: A minor is a person who is under the age of 18. So the answer is False\n",
      "\n",
      "Article 9 A juridical act performed by an adult ward is voidable;provided, however, that this does not apply to the purchase of daily necessities or to any other act involved in day-to-day life.\n",
      "Article 102 An act that a person with qualified legal capacity performs as an agent of another person may not be rescinded on the grounds of qualified legal capacity;provided, however, that this does not apply to an act performed by a person with qualified legal capacity as a legal representative of another person with qualified legal capacity.\n",
      "Question: An act that A, an adult ward, performs as legal representative of B, a minor, may not be rescinded on the grounds of qualified legal capacity of A. True or False?\n",
      "Answer: True or False\n",
      "===================================\n"
     ]
    },
    {
     "name": "stderr",
     "output_type": "stream",
     "text": [
      "  5%|█████▏                                                                                                   | 5/101 [00:44<14:15,  8.91s/it]"
     ]
    },
    {
     "name": "stdout",
     "output_type": "stream",
     "text": [
      "let's think step by step answer: a, an adult ward, performs as legal representative of b, a minor, may not be rescinded on the grounds of qualified legal capacity of a. so the answer is false\n",
      "===================================\n",
      "Predict:  N  Label:  N\n"
     ]
    },
    {
     "name": "stderr",
     "output_type": "stream",
     "text": [
      "  6%|██████▏                                                                                                  | 6/101 [00:58<16:36, 10.49s/it]"
     ]
    },
    {
     "name": "stdout",
     "output_type": "stream",
     "text": [
      "let's think step by step answer: article 158 (2) if a minor or an adult ward has a right vis-a-vis the minor's or the adult ward's father, mother, or guardian who manages the property, the prescription period does not expire with respect to that right until six months have passed from the time when that minor or adult ward becomes a person with capacity to act, or a succeeding legal representative assumes the position. so the answer is true\n",
      "===================================\n",
      "Predict:  Y  Label:  Y\n"
     ]
    },
    {
     "name": "stderr",
     "output_type": "stream",
     "text": [
      "  7%|███████▎                                                                                                 | 7/101 [01:02<13:14,  8.45s/it]"
     ]
    },
    {
     "name": "stdout",
     "output_type": "stream",
     "text": [
      "let's think step by step answer: a manifestation of intention becomes effective at the time notice thereof reaches the other party. so the answer is false\n",
      "===================================\n",
      "Predict:  N  Label:  N\n"
     ]
    },
    {
     "name": "stderr",
     "output_type": "stream",
     "text": [
      "  8%|████████▎                                                                                                | 8/101 [01:33<24:12, 15.62s/it]"
     ]
    },
    {
     "name": "stdout",
     "output_type": "stream",
     "text": [
      "let's think step by step answer: (1) after a person with qualified legal capacity who is involved in dealings with another party becomes a person with the legal capacity to act (meaning a person whose legal capacity to act is not subject to restrictions; the same applies hereinafter), the other party to those dealings may fix a period of one month or longer and demand that the person give a definite answer within that period of time as to whether the person will ratify an act that the person may rescind. in such a case, if the person fails to send a definite answer within that period of time, the person is deemed to have ratified that act. (2) the second sentence of the preceding paragraph also applies if, before the person with qualified legal capacity becomes a person with the legal capacity to act, the other party to dealings involving the person with qualified legal capacity lodges the demand prescribed in the preceding paragraph with the legal representative, curator, or assistant of that person with respect to an act within the scope of their authority, and they fail to send a definite answer within the fixed period of time referred to in that paragraph. so the\n",
      "===================================\n",
      "Predict:  N  Label:  N\n"
     ]
    },
    {
     "name": "stderr",
     "output_type": "stream",
     "text": [
      "  9%|█████████▎                                                                                               | 9/101 [01:40<19:51, 12.95s/it]"
     ]
    },
    {
     "name": "stdout",
     "output_type": "stream",
     "text": [
      "let's think step by step answer: the nullity of a manifestation of intention under the provisions of the proviso to the preceding paragraph may not be duly asserted against a third party in good faith. so the answer is true\n",
      "===================================\n",
      "Predict:  Y  Label:  Y\n"
     ]
    },
    {
     "name": "stderr",
     "output_type": "stream",
     "text": [
      " 10%|██████████▎                                                                                             | 10/101 [01:49<17:56, 11.83s/it]"
     ]
    },
    {
     "name": "stdout",
     "output_type": "stream",
     "text": [
      "let's think step by step answer: the manifestation of intention based on the mistake may not be rescinded if the mistake is due to gross negligence on the part of the person making the manifestation of intention, and the other party was under the same mistake as the person making the manifestation of intention. so the answer is true\n",
      "===================================\n",
      "Predict:  Y  Label:  N\n"
     ]
    },
    {
     "name": "stderr",
     "output_type": "stream",
     "text": [
      " 11%|███████████▎                                                                                            | 11/101 [01:55<14:38,  9.76s/it]"
     ]
    },
    {
     "name": "stdout",
     "output_type": "stream",
     "text": [
      "let's think step by step answer: (1) a manifestation of intention based on fraud or duress is voidable. so the answer is true\n",
      "===================================\n",
      "Predict:  Y  Label:  Y\n"
     ]
    },
    {
     "name": "stderr",
     "output_type": "stream",
     "text": [
      " 12%|████████████▎                                                                                           | 12/101 [02:14<19:00, 12.82s/it]"
     ]
    },
    {
     "name": "stdout",
     "output_type": "stream",
     "text": [
      "let's think step by step answer: article 120 (1) an act that is voidable on the grounds of the qualified legal capacity to act of the person who did the act may be rescinded only by the person with qualified legal capacity (in the case of an act performed by the person as a legal representative of another person with limited capacity, including that other person with limited capacity), or an agent or successor thereof, or a person who has the authority to give consent thereto. (2) an act that is voidable on the grounds of a mistake, fraud or duress may be rescinded only by the person who made the defective manifestation of intention, or an agent or successor thereof. so the answer is false\n",
      "===================================\n",
      "Predict:  N  Label:  Y\n"
     ]
    },
    {
     "name": "stderr",
     "output_type": "stream",
     "text": [
      " 13%|█████████████▍                                                                                          | 13/101 [02:32<21:02, 14.35s/it]"
     ]
    },
    {
     "name": "stdout",
     "output_type": "stream",
     "text": [
      "let's think step by step answer: article 120 (1) an act that is voidable on the grounds of the qualified legal capacity to act of the person who did the act may be rescinded only by the person with qualified legal capacity (in the case of an act performed by the person as a legal representative of another person with limited capacity, including that other person with limited capacity), or an agent or successor thereof, or a person who has the authority to give consent thereto. article 122 a voidable act may not be rescinded after the person prescribed in article 120 ratifies it. so the answer is true\n",
      "===================================\n",
      "Predict:  Y  Label:  Y\n"
     ]
    },
    {
     "name": "stderr",
     "output_type": "stream",
     "text": [
      " 14%|██████████████▍                                                                                         | 14/101 [02:38<17:03, 11.76s/it]"
     ]
    },
    {
     "name": "stdout",
     "output_type": "stream",
     "text": [
      "let's think step by step answer: a can only void the act if c knew or could have known about the fraud. so the answer is false\n",
      "===================================\n",
      "Predict:  N  Label:  N\n"
     ]
    },
    {
     "name": "stderr",
     "output_type": "stream",
     "text": [
      " 15%|███████████████▍                                                                                        | 15/101 [02:43<13:49,  9.64s/it]"
     ]
    },
    {
     "name": "stdout",
     "output_type": "stream",
     "text": [
      "let's think step by step answer: a has the obligation to return to the extent currently enriched by the act. so the answer is false\n",
      "===================================\n",
      "Predict:  N  Label:  N\n"
     ]
    },
    {
     "name": "stderr",
     "output_type": "stream",
     "text": [
      " 16%|████████████████▍                                                                                       | 16/101 [02:50<12:49,  9.05s/it]"
     ]
    },
    {
     "name": "stdout",
     "output_type": "stream",
     "text": [
      "let's think step by step answer: the right to rescind an act is extinguished by the operation of the prescription if it is not exercised within five years from the time when it becomes possible to ratify the act. so the answer is false\n",
      "===================================\n",
      "Predict:  N  Label:  N\n"
     ]
    },
    {
     "name": "stderr",
     "output_type": "stream",
     "text": [
      " 17%|█████████████████▌                                                                                      | 17/101 [02:57<11:48,  8.43s/it]"
     ]
    },
    {
     "name": "stdout",
     "output_type": "stream",
     "text": [
      "let's think step by step true the one who acquired land x after the mortgage had been created on land x and the creation had been registered may invoke the extinctive prescription of the secured claim under the mortgage. so the answer is true\n",
      "===================================\n",
      "Predict:  Y  Label:  Y\n"
     ]
    },
    {
     "name": "stderr",
     "output_type": "stream",
     "text": [
      " 18%|██████████████████▌                                                                                     | 18/101 [03:04<10:48,  7.81s/it]"
     ]
    },
    {
     "name": "stdout",
     "output_type": "stream",
     "text": [
      "let's think step by step answer: b may not assert the acquisition of ownership against the third party unless the registration of preservation of ownership of building x has been made in the name of b. so the answer is false\n",
      "===================================\n",
      "Predict:  N  Label:  N\n"
     ]
    },
    {
     "name": "stderr",
     "output_type": "stream",
     "text": [
      " 19%|███████████████████▌                                                                                    | 19/101 [03:10<09:54,  7.25s/it]"
     ]
    },
    {
     "name": "stdout",
     "output_type": "stream",
     "text": [
      "let's think step by step answer: the first-ranked mortgage for the benefit of b shall not be extinguished if b purchases land x from a. so the answer is false\n",
      "===================================\n",
      "Predict:  N  Label:  N\n"
     ]
    },
    {
     "name": "stderr",
     "output_type": "stream",
     "text": [
      " 20%|████████████████████▌                                                                                   | 20/101 [03:17<09:42,  7.19s/it]"
     ]
    },
    {
     "name": "stdout",
     "output_type": "stream",
     "text": [
      "let's think step by step answer: a created the superficies on land x, owned by a, for the benefit of b, and b created the mortgage on the superficies for the benefit of c. so the answer is false\n",
      "===================================\n",
      "Predict:  N  Label:  N\n"
     ]
    },
    {
     "name": "stderr",
     "output_type": "stream",
     "text": [
      " 21%|█████████████████████▌                                                                                  | 21/101 [03:27<10:48,  8.11s/it]"
     ]
    },
    {
     "name": "stdout",
     "output_type": "stream",
     "text": [
      "let's think step by step answer: article 179 (1) if ownership and another real right on the same thing are acquired by the same person, the other real right is extinguished;provided, however, that this does not apply if that thing or the other real right is the object of the right of a third party. so the answer is true\n",
      "===================================\n",
      "Predict:  Y  Label:  Y\n"
     ]
    },
    {
     "name": "stderr",
     "output_type": "stream",
     "text": [
      " 22%|██████████████████████▋                                                                                 | 22/101 [03:34<10:17,  7.81s/it]"
     ]
    },
    {
     "name": "stdout",
     "output_type": "stream",
     "text": [
      "let's think step by step answer: the transfer of a real right on movables may not be duly asserted against a third party, unless the movables are delivered. so the answer is false\n",
      "===================================\n",
      "Predict:  N  Label:  N\n"
     ]
    },
    {
     "name": "stderr",
     "output_type": "stream",
     "text": [
      " 23%|███████████████████████▋                                                                                | 23/101 [03:41<09:39,  7.42s/it]"
     ]
    },
    {
     "name": "stdout",
     "output_type": "stream",
     "text": [
      "let's think step by step answer: b is the transferee of x and the transfer of possessory rights may be effected by the parties' manifestations of intention alone. so the answer is true\n",
      "===================================\n",
      "Predict:  Y  Label:  Y\n"
     ]
    },
    {
     "name": "stderr",
     "output_type": "stream",
     "text": [
      " 24%|████████████████████████▋                                                                               | 24/101 [03:49<09:43,  7.58s/it]"
     ]
    },
    {
     "name": "stdout",
     "output_type": "stream",
     "text": [
      "let's think step by step answer: the location and method of passage must be chosen so as to meet the needs of the person that is entitled to the right-of-way under the provisions of that article and cause the least damage to the other land. so the answer is true\n",
      "===================================\n",
      "Predict:  Y  Label:  Y\n"
     ]
    },
    {
     "name": "stderr",
     "output_type": "stream",
     "text": [
      " 25%|█████████████████████████▋                                                                              | 25/101 [03:55<09:02,  7.14s/it]"
     ]
    },
    {
     "name": "stdout",
     "output_type": "stream",
     "text": [
      "let's think step by step answer: a person that holds the right-of-way under the provisions of the preceding article may construct a road if necessary. so the answer is false\n",
      "===================================\n",
      "Predict:  N  Label:  N\n"
     ]
    },
    {
     "name": "stderr",
     "output_type": "stream",
     "text": [
      " 26%|██████████████████████████▊                                                                             | 26/101 [04:10<12:05,  9.67s/it]"
     ]
    },
    {
     "name": "stdout",
     "output_type": "stream",
     "text": [
      "let's think step by step answer: article 267 the provisions of section 1, subsection 2 of the preceding chapter (neighboring relationships) apply mutatis mutandis between superficiaries or between a superficiary and a landowner;provided, however, that the mutatis mutandis application of the provisions of article 229 to superficiaries is limited to when structures on the boundary line are installed after the establishment of the superficies. so the answer is false\n",
      "===================================\n",
      "Predict:  N  Label:  Y\n"
     ]
    },
    {
     "name": "stderr",
     "output_type": "stream",
     "text": [
      " 27%|███████████████████████████▊                                                                            | 27/101 [04:19<11:26,  9.28s/it]"
     ]
    },
    {
     "name": "stdout",
     "output_type": "stream",
     "text": [
      "let's think step by step answer: article 253 (2) if a co-owner does not perform the obligations referred to in the preceding paragraph within one year, other co-owners may acquire that co-owner's interest by paying a reasonable compensation. so the answer is true\n",
      "===================================\n",
      "Predict:  Y  Label:  Y\n"
     ]
    },
    {
     "name": "stderr",
     "output_type": "stream",
     "text": [
      " 28%|████████████████████████████▊                                                                           | 28/101 [04:29<11:37,  9.56s/it]"
     ]
    },
    {
     "name": "stdout",
     "output_type": "stream",
     "text": [
      "let's think step by step answer: article 259 (1) if one of the co-owners holds a claim regarding co-ownership against other co-owners, upon partition, the portion of the property in co-ownership that belongs to the obligor may be appropriated for the payment of the same. so the answer is true\n",
      "===================================\n",
      "Predict:  Y  Label:  Y\n"
     ]
    },
    {
     "name": "stderr",
     "output_type": "stream",
     "text": [
      " 29%|█████████████████████████████▊                                                                          | 29/101 [04:36<10:32,  8.78s/it]"
     ]
    },
    {
     "name": "stdout",
     "output_type": "stream",
     "text": [
      "let's think step by step a commenced possession of building x, owned by b, while knowing there is no title, and thereafter a obtained a claim that has arisen in relation to x. so the answer is false\n",
      "===================================\n",
      "Predict:  N  Label:  N\n"
     ]
    },
    {
     "name": "stderr",
     "output_type": "stream",
     "text": [
      " 30%|██████████████████████████████▉                                                                         | 30/101 [04:41<09:10,  7.76s/it]"
     ]
    },
    {
     "name": "stdout",
     "output_type": "stream",
     "text": [
      "let's think step by step answer: the holder of the right of retention may only exercise the right of the retention over the thing retained. so the answer is false\n",
      "===================================\n",
      "Predict:  N  Label:  N\n"
     ]
    },
    {
     "name": "stderr",
     "output_type": "stream",
     "text": [
      " 31%|███████████████████████████████▉                                                                        | 31/101 [04:49<08:55,  7.65s/it]"
     ]
    },
    {
     "name": "stdout",
     "output_type": "stream",
     "text": [
      "let's think step by step answer: the holder of the right of retention violated the provisions of the preceding two paragraphs, the obligor may demand that the right of retention be terminated. so the answer is false\n",
      "===================================\n",
      "Predict:  N  Label:  N\n"
     ]
    },
    {
     "name": "stderr",
     "output_type": "stream",
     "text": [
      " 32%|████████████████████████████████▉                                                                       | 32/101 [04:53<07:39,  6.66s/it]"
     ]
    },
    {
     "name": "stdout",
     "output_type": "stream",
     "text": [
      "let's think step by step answer: a sold x to b and delivered x to b. so the answer is false\n",
      "===================================\n",
      "Predict:  N  Label:  N\n"
     ]
    },
    {
     "name": "stderr",
     "output_type": "stream",
     "text": [
      " 33%|█████████████████████████████████▉                                                                      | 33/101 [05:26<16:41, 14.72s/it]"
     ]
    },
    {
     "name": "stdout",
     "output_type": "stream",
     "text": [
      "let's think step by step answer: article 334 if there is conflict between a statutory lien and a pledge on movables, the pledgee of those movables has the same rights as those of the holder of a statutory lien of the first rank under article 330. article 330 (1) if there are competing special statutory liens against the same movables, the order of priority follows the order set forth below.in this case, if there are two or more preservers with respect to the statutory liens for preservation of movables set forth in item (ii), a new preserver has priority over previous preservers: (i) statutory liens for leases of immovables, lodging at hotels and transportation; (ii) statutory liens for the preservation of movables; and (iii) statutory liens for the sale of movables, the supply of seeds and seedlings or fertilizer, agricultural labor and industrial labor. (2) in the cases referred to in the preceding paragraph, if a holder of a statutory lien ranked first knew at the time\n",
      "===================================\n",
      "Predict:  N  Label:  Y\n"
     ]
    },
    {
     "name": "stderr",
     "output_type": "stream",
     "text": [
      " 34%|███████████████████████████████████                                                                     | 34/101 [05:34<14:08, 12.67s/it]"
     ]
    },
    {
     "name": "stdout",
     "output_type": "stream",
     "text": [
      "let's think step by step article 366 (2) if monies are the subject matter of a pledged claim, the pledgee may collect the same to the extent of the portion that corresponds to the amount of the pledgee's own claim. so the answer is true\n",
      "===================================\n",
      "Predict:  Y  Label:  Y\n"
     ]
    },
    {
     "name": "stderr",
     "output_type": "stream",
     "text": [
      " 35%|████████████████████████████████████                                                                    | 35/101 [05:45<13:06, 11.91s/it]"
     ]
    },
    {
     "name": "stdout",
     "output_type": "stream",
     "text": [
      "let's think step by step answer: article 366 (3) if the due date of the pledged claim referred to in the preceding paragraph arrives prior to the due date of the claim of the pledgee, the pledgee may have the third party obligor deposit with official depository that amount to be paid to the pledgee. so the answer is true\n",
      "===================================\n",
      "Predict:  Y  Label:  Y\n"
     ]
    },
    {
     "name": "stderr",
     "output_type": "stream",
     "text": [
      " 36%|█████████████████████████████████████                                                                   | 36/101 [05:50<10:49,  9.99s/it]"
     ]
    },
    {
     "name": "stdout",
     "output_type": "stream",
     "text": [
      "let's think step by step answer: the scope of effect of the pledge of the claim shall extend to the interest arising from claim y. so the answer is false\n",
      "===================================\n",
      "Predict:  N  Label:  N\n"
     ]
    },
    {
     "name": "stderr",
     "output_type": "stream",
     "text": [
      " 37%|██████████████████████████████████████                                                                  | 37/101 [05:55<09:05,  8.53s/it]"
     ]
    },
    {
     "name": "stdout",
     "output_type": "stream",
     "text": [
      "let's think step by step answer: c is a general creditor of a, and a is the principal obligor. so the answer is true\n",
      "===================================\n",
      "Predict:  Y  Label:  Y\n"
     ]
    },
    {
     "name": "stderr",
     "output_type": "stream",
     "text": [
      " 38%|███████████████████████████████████████▏                                                                | 38/101 [06:00<07:43,  7.36s/it]"
     ]
    },
    {
     "name": "stdout",
     "output_type": "stream",
     "text": [
      "let's think step by step answer: the consent of c is required to change the order of priority of the mortgage. so the answer is false\n",
      "===================================\n",
      "Predict:  N  Label:  N\n"
     ]
    },
    {
     "name": "stderr",
     "output_type": "stream",
     "text": [
      " 39%|████████████████████████████████████████▏                                                               | 39/101 [06:05<07:00,  6.78s/it]"
     ]
    },
    {
     "name": "stdout",
     "output_type": "stream",
     "text": [
      "let's think step by step answer: the right of priority of that mortgagee may be exercised solely against the proceeds of the land. so the answer is false\n",
      "===================================\n",
      "Predict:  N  Label:  N\n"
     ]
    },
    {
     "name": "stderr",
     "output_type": "stream",
     "text": [
      " 40%|█████████████████████████████████████████▏                                                              | 40/101 [06:11<06:26,  6.34s/it]"
     ]
    },
    {
     "name": "stdout",
     "output_type": "stream",
     "text": [
      "let's think step by step answer: c is a third party that purchases the ownership or superficies of a mortgaged immovables. so the answer is true\n",
      "===================================\n",
      "Predict:  Y  Label:  Y\n"
     ]
    },
    {
     "name": "stderr",
     "output_type": "stream",
     "text": [
      " 41%|██████████████████████████████████████████▏                                                             | 41/101 [06:17<06:17,  6.29s/it]"
     ]
    },
    {
     "name": "stdout",
     "output_type": "stream",
     "text": [
      "let's think step by step answer: the seller must exercise care identical to that the obligor exercises for the obligor's own property. so the answer is false\n",
      "===================================\n",
      "Predict:  N  Label:  N\n"
     ]
    },
    {
     "name": "stderr",
     "output_type": "stream",
     "text": [
      " 42%|███████████████████████████████████████████▏                                                            | 42/101 [06:25<06:41,  6.80s/it]"
     ]
    },
    {
     "name": "stdout",
     "output_type": "stream",
     "text": [
      "let's think step by step answer: article 413 (2) if the obligee's refusal or inability to accept the performance of an obligation results in increasing the expenses for the performance, the amount of increase is borne by the obligee. so the answer is false\n",
      "===================================\n",
      "Predict:  N  Label:  Y\n"
     ]
    },
    {
     "name": "stderr",
     "output_type": "stream",
     "text": [
      " 43%|████████████████████████████████████████████▎                                                           | 43/101 [06:29<05:47,  6.00s/it]"
     ]
    },
    {
     "name": "stdout",
     "output_type": "stream",
     "text": [
      "let's think step by step answer: the seller tendered the performance of the delivery of the subject matter. so the answer is true\n",
      "===================================\n",
      "Predict:  Y  Label:  Y\n"
     ]
    },
    {
     "name": "stderr",
     "output_type": "stream",
     "text": [
      " 44%|█████████████████████████████████████████████▎                                                          | 44/101 [06:34<05:28,  5.77s/it]"
     ]
    },
    {
     "name": "stdout",
     "output_type": "stream",
     "text": [
      "let's think step by step answer: the buyer may not cancel the contract if the seller has already performed the obligation of delivery. so the answer is false\n",
      "===================================\n",
      "Predict:  N  Label:  N\n"
     ]
    },
    {
     "name": "stderr",
     "output_type": "stream",
     "text": [
      " 45%|██████████████████████████████████████████████▎                                                         | 45/101 [06:39<05:11,  5.56s/it]"
     ]
    },
    {
     "name": "stdout",
     "output_type": "stream",
     "text": [
      "let's think step by step answer: c may duly assert the extinguish of the claim by the performance against a. so the answer is false\n",
      "===================================\n",
      "Predict:  N  Label:  N\n"
     ]
    },
    {
     "name": "stderr",
     "output_type": "stream",
     "text": [
      " 46%|███████████████████████████████████████████████▎                                                        | 46/101 [06:44<04:56,  5.39s/it]"
     ]
    },
    {
     "name": "stdout",
     "output_type": "stream",
     "text": [
      "let's think step by step a may exercise the claim of b against c only to the extent of the amount of a’s claim. so the answer is true\n",
      "===================================\n",
      "Predict:  Y  Label:  Y\n"
     ]
    },
    {
     "name": "stderr",
     "output_type": "stream",
     "text": [
      " 47%|████████████████████████████████████████████████▍                                                       | 47/101 [06:49<04:39,  5.18s/it]"
     ]
    },
    {
     "name": "stdout",
     "output_type": "stream",
     "text": [
      "let's think step by step answer: a has no right to request c directly transfer the registration to a. so the answer is false\n",
      "===================================\n",
      "Predict:  N  Label:  N\n"
     ]
    },
    {
     "name": "stderr",
     "output_type": "stream",
     "text": [
      " 48%|█████████████████████████████████████████████████▍                                                      | 48/101 [07:04<07:20,  8.30s/it]"
     ]
    },
    {
     "name": "stdout",
     "output_type": "stream",
     "text": [
      "let's think step by step answer: if a guarantor that guarantees an obligation which may be voidable due to the principal obligor's limited capacity to act, is aware, at the time of entering into a guarantee contract, of the cause for its voidability, that guarantor is presumed to have assumed an independent obligation of the same subject matter in the event of non-performance by the principal obligor or rescission of the obligation. so the answer is true\n",
      "===================================\n",
      "Predict:  Y  Label:  Y\n"
     ]
    },
    {
     "name": "stderr",
     "output_type": "stream",
     "text": [
      " 49%|██████████████████████████████████████████████████▍                                                     | 49/101 [07:11<06:40,  7.71s/it]"
     ]
    },
    {
     "name": "stdout",
     "output_type": "stream",
     "text": [
      "let's think step by step answer: the guarantor has the right to reimbursement only to the extent currently enriched. so the answer is false\n",
      "===================================\n",
      "Predict:  N  Label:  N\n"
     ]
    },
    {
     "name": "stderr",
     "output_type": "stream",
     "text": [
      " 50%|███████████████████████████████████████████████████▍                                                    | 50/101 [07:19<06:45,  7.96s/it]"
     ]
    },
    {
     "name": "stdout",
     "output_type": "stream",
     "text": [
      "let's think step by step answer: the guarantor may deem that the performance is valid only if the guarantor gives a guarantee as requested by the principal obligor. so the answer is false\n",
      "===================================\n",
      "Predict:  N  Label:  N\n"
     ]
    },
    {
     "name": "stderr",
     "output_type": "stream",
     "text": [
      " 50%|████████████████████████████████████████████████████▌                                                   | 51/101 [07:26<06:18,  7.56s/it]"
     ]
    },
    {
     "name": "stdout",
     "output_type": "stream",
     "text": [
      "let's think step by step article 446(1) a guarantor has the responsibility to perform the obligation of the principal obligor when the latter fails to perform that obligation. so the answer is true\n",
      "===================================\n",
      "Predict:  Y  Label:  Y\n"
     ]
    },
    {
     "name": "stderr",
     "output_type": "stream",
     "text": [
      " 51%|█████████████████████████████████████████████████████▌                                                  | 52/101 [08:01<12:53, 15.79s/it]"
     ]
    },
    {
     "name": "stdout",
     "output_type": "stream",
     "text": [
      "let's think step by step answer: article 465(1) if there are multiple guarantors, and one guarantor has paid the entire amount of the obligation or any amount exceeding that guarantor's share because the principal obligation is indivisible, or because there is a special provision to the effect that each guarantor should pay the entire amount, the provisions of articles 442 through 444 apply mutatis mutandis. article 442(1) if one of the joint and several obligors performs the obligation or otherwise obtain a common discharge in exchange for that obligor's own property, the joint and several obligor has the right to reimbursement from other joint and several obligors for the amounts in proportion to their respective shares of the obligation of the amount of the property expended by the joint and several obligor in order to obtain the discharge (if the amount of property exceeds the amount after the common discharge, the amount thus discharged), regardless of whether the amount discharged exceeds the amount of the joint and several obligor's own share. so the answer\n",
      "===================================\n",
      "Predict:  N  Label:  N\n"
     ]
    },
    {
     "name": "stderr",
     "output_type": "stream",
     "text": [
      " 52%|██████████████████████████████████████████████████████▌                                                 | 53/101 [08:08<10:39, 13.33s/it]"
     ]
    },
    {
     "name": "stdout",
     "output_type": "stream",
     "text": [
      "let's think step by step answer: b may not refuse to perform the obligation to c because a and b made a special agreement prohibiting the assignment of claim x. so the answer is false\n",
      "===================================\n",
      "Predict:  N  Label:  N\n"
     ]
    },
    {
     "name": "stderr",
     "output_type": "stream",
     "text": [
      " 53%|███████████████████████████████████████████████████████▌                                                | 54/101 [08:17<09:13, 11.77s/it]"
     ]
    },
    {
     "name": "stdout",
     "output_type": "stream",
     "text": [
      "let's think step by step answer: b may refuse to perform the obligation to c based on the special agreement prohibiting the assignment if b does not perform the obligation within a reasonable period of time. so the answer is false\n",
      "===================================\n",
      "Predict:  N  Label:  N\n"
     ]
    },
    {
     "name": "stderr",
     "output_type": "stream",
     "text": [
      " 54%|████████████████████████████████████████████████████████▋                                               | 55/101 [08:24<08:05, 10.55s/it]"
     ]
    },
    {
     "name": "stdout",
     "output_type": "stream",
     "text": [
      "let's think step by step answer: the validity of the assignment of the claim is not impaired even if a party to a claim manifests the intention to prohibit or restrict the assignment of the claim. so the answer is true\n",
      "===================================\n",
      "Predict:  Y  Label:  Y\n"
     ]
    },
    {
     "name": "stderr",
     "output_type": "stream",
     "text": [
      " 55%|█████████████████████████████████████████████████████████▋                                              | 56/101 [08:40<09:07, 12.18s/it]"
     ]
    },
    {
     "name": "stdout",
     "output_type": "stream",
     "text": [
      "let's think step by step article 466-2 (1) if a claim for payment of money subject to the manifestation of intention to restrict assignment is assigned to a third party, the obligor may deposit the amount of money equivalent to the full amount of the claim with an official depository having jurisdiction over the place of performance of the obligation (including the current domicile of the assignor if the place of performance of the obligation is determined on the basis of the current domicile of the obligee; the same applies in the following article). so the answer is true\n",
      "===================================\n",
      "Predict:  Y  Label:  Y\n"
     ]
    },
    {
     "name": "stderr",
     "output_type": "stream",
     "text": [
      " 56%|██████████████████████████████████████████████████████████▋                                             | 57/101 [08:48<08:02, 10.97s/it]"
     ]
    },
    {
     "name": "stdout",
     "output_type": "stream",
     "text": [
      "let's think step by step answer: the validity of the assignment of the claim is not impaired even if a party to a claim manifests the intention to prohibit or restrict the assignment of the claim. so the answer is true\n",
      "===================================\n",
      "Predict:  Y  Label:  N\n"
     ]
    },
    {
     "name": "stderr",
     "output_type": "stream",
     "text": [
      " 57%|███████████████████████████████████████████████████████████▋                                            | 58/101 [08:57<07:18, 10.19s/it]"
     ]
    },
    {
     "name": "stdout",
     "output_type": "stream",
     "text": [
      "let's think step by step answer: article 494 (2) the preceding paragraph also applies if the performer is unable to ascertain the obligee;provided, however, that this does not apply if the performer is negligent in this respect. so the answer is true\n",
      "===================================\n",
      "Predict:  Y  Label:  Y\n"
     ]
    },
    {
     "name": "stderr",
     "output_type": "stream",
     "text": [
      " 58%|████████████████████████████████████████████████████████████▊                                           | 59/101 [09:05<06:39,  9.50s/it]"
     ]
    },
    {
     "name": "stdout",
     "output_type": "stream",
     "text": [
      "let's think step by step answer: the performer may recover the deposited thingy as long as the obligee does not accept the deposit, or the judgment which pronounces that the deposit is effective does not become final and binding. so the answer is false\n",
      "===================================\n",
      "Predict:  N  Label:  N\n"
     ]
    },
    {
     "name": "stderr",
     "output_type": "stream",
     "text": [
      " 59%|█████████████████████████████████████████████████████████████▊                                          | 60/101 [09:11<05:55,  8.67s/it]"
     ]
    },
    {
     "name": "stdout",
     "output_type": "stream",
     "text": [
      "let's think step by step article 495 (3) a person that has effected a deposit pursuant to the provisions of the preceding article must notify the obligee of the deposit without delay. so the answer is true\n",
      "===================================\n",
      "Predict:  Y  Label:  Y\n"
     ]
    },
    {
     "name": "stderr",
     "output_type": "stream",
     "text": [
      " 60%|██████████████████████████████████████████████████████████████▊                                         | 61/101 [09:16<05:02,  7.55s/it]"
     ]
    },
    {
     "name": "stdout",
     "output_type": "stream",
     "text": [
      "let's think step by step answer: the claim is extinguished when the performer makes the deposit. so the answer is false\n",
      "===================================\n",
      "Predict:  N  Label:  N\n"
     ]
    },
    {
     "name": "stderr",
     "output_type": "stream",
     "text": [
      " 61%|███████████████████████████████████████████████████████████████▊                                        | 62/101 [09:34<06:57, 10.70s/it]"
     ]
    },
    {
     "name": "stdout",
     "output_type": "stream",
     "text": [
      "let's think step by step answer: the obligor of either of the following obligations may not duly assert a set-off against the obligee;provided, however, that this does not apply if the obligee acquires a claim corresponding to the relevant obligation from another person: (i) an obligation for compensation for loss or damage based on a tort committed in bad faith; or (ii) an obligation for compensation for loss or damage for death or injury to person (excluding the one set forth in the preceding item). so the answer is false\n",
      "===================================\n",
      "Predict:  N  Label:  N\n"
     ]
    },
    {
     "name": "stderr",
     "output_type": "stream",
     "text": [
      " 62%|████████████████████████████████████████████████████████████████▊                                       | 63/101 [09:40<05:51,  9.26s/it]"
     ]
    },
    {
     "name": "stdout",
     "output_type": "stream",
     "text": [
      "let's think step by step answer: the obligor of the claim not yet due may waive the benefit of time stipulation. so the answer is false\n",
      "===================================\n",
      "Predict:  N  Label:  N\n"
     ]
    },
    {
     "name": "stderr",
     "output_type": "stream",
     "text": [
      " 63%|█████████████████████████████████████████████████████████████████▉                                      | 64/101 [09:48<05:27,  8.85s/it]"
     ]
    },
    {
     "name": "stdout",
     "output_type": "stream",
     "text": [
      "let's think step by step answer: a third party obligor of a claim which has been attached may assert set-off using the claim against the attached obligor held prior to the attachment. so the answer is true\n",
      "===================================\n",
      "Predict:  Y  Label:  Y\n"
     ]
    },
    {
     "name": "stderr",
     "output_type": "stream",
     "text": [
      " 64%|██████████████████████████████████████████████████████████████████▉                                     | 65/101 [09:56<05:06,  8.52s/it]"
     ]
    },
    {
     "name": "stdout",
     "output_type": "stream",
     "text": [
      "let's think step by step article 598 (2) if the parties do not specify a period of a loan for use or a purpose of using and making profit from the borrowed thing, the lender may cancel the contract at any time. so the answer is true\n",
      "===================================\n",
      "Predict:  Y  Label:  Y\n"
     ]
    },
    {
     "name": "stderr",
     "output_type": "stream",
     "text": [
      " 65%|███████████████████████████████████████████████████████████████████▉                                    | 66/101 [10:03<04:39,  7.98s/it]"
     ]
    },
    {
     "name": "stdout",
     "output_type": "stream",
     "text": [
      "let's think step by step answer: article 617 (1) if the parties do not specify the term of a lease, either party may give a notice of termination at any time. so the answer is true\n",
      "===================================\n",
      "Predict:  Y  Label:  Y\n"
     ]
    },
    {
     "name": "stderr",
     "output_type": "stream",
     "text": [
      " 66%|████████████████████████████████████████████████████████████████████▉                                   | 67/101 [10:09<04:16,  7.53s/it]"
     ]
    },
    {
     "name": "stdout",
     "output_type": "stream",
     "text": [
      "let's think step by step answer: the contractor may not cancel the contract for work at any time whilst the contractor has not completed the work by paying compensation for loss or damage. so the answer is false\n",
      "===================================\n",
      "Predict:  N  Label:  N\n"
     ]
    },
    {
     "name": "stderr",
     "output_type": "stream",
     "text": [
      " 67%|██████████████████████████████████████████████████████████████████████                                  | 68/101 [10:13<03:36,  6.55s/it]"
     ]
    },
    {
     "name": "stdout",
     "output_type": "stream",
     "text": [
      "let's think step by step article 651 (1) a mandate may be cancelled by either party at any time. so the answer is true\n",
      "===================================\n",
      "Predict:  Y  Label:  Y\n"
     ]
    },
    {
     "name": "stderr",
     "output_type": "stream",
     "text": [
      " 68%|███████████████████████████████████████████████████████████████████████                                 | 69/101 [10:23<03:54,  7.34s/it]"
     ]
    },
    {
     "name": "stdout",
     "output_type": "stream",
     "text": [
      "let's think step by step answer: article 657-2 (2) a gratuitous bailee may cancel the contract up until the bailee receives the bailed thing;provided, however, that this does not apply to a bailment made in writing. so the answer is false\n",
      "===================================\n",
      "Predict:  N  Label:  N\n"
     ]
    },
    {
     "name": "stderr",
     "output_type": "stream",
     "text": [
      " 69%|████████████████████████████████████████████████████████████████████████                                | 70/101 [10:30<03:50,  7.44s/it]"
     ]
    },
    {
     "name": "stdout",
     "output_type": "stream",
     "text": [
      "let's think step by step answer: the buyer may cancel the contract by the earnest money for cancellation until the buyer commences performance of the contract even if the seller has already commenced performance of the contract. so the answer is false\n",
      "===================================\n",
      "Predict:  N  Label:  N\n"
     ]
    },
    {
     "name": "stderr",
     "output_type": "stream",
     "text": [
      " 70%|█████████████████████████████████████████████████████████████████████████                               | 71/101 [10:42<04:18,  8.62s/it]"
     ]
    },
    {
     "name": "stdout",
     "output_type": "stream",
     "text": [
      "let's think step by step answer: article 557 (1) if the buyer pays earnest money to the seller, the buyer may cancel the contract by waiving the earnest money, or the seller may cancel the contract by actually providing the buyer with twice its amount;provided, however, that this does not apply after the counterparty commences performance of the contract. so the answer is true\n",
      "===================================\n",
      "Predict:  Y  Label:  Y\n"
     ]
    },
    {
     "name": "stderr",
     "output_type": "stream",
     "text": [
      " 71%|██████████████████████████████████████████████████████████████████████████▏                             | 72/101 [10:50<04:03,  8.39s/it]"
     ]
    },
    {
     "name": "stdout",
     "output_type": "stream",
     "text": [
      "let's think step by step answer: the seller may cancel the contract by actually providing the buyer with twice its amount;provided, however, that this does not apply after the counterparty commences performance of the contract. so the answer is false\n",
      "===================================\n",
      "Predict:  N  Label:  N\n"
     ]
    },
    {
     "name": "stderr",
     "output_type": "stream",
     "text": [
      " 72%|███████████████████████████████████████████████████████████████████████████▏                            | 73/101 [10:56<03:35,  7.69s/it]"
     ]
    },
    {
     "name": "stdout",
     "output_type": "stream",
     "text": [
      "let's think step by step article 557 (2) the provisions of article 545, paragraph (4) do not apply to the cases referred to in the preceding paragraph. so the answer is true\n",
      "===================================\n",
      "Predict:  Y  Label:  Y\n"
     ]
    },
    {
     "name": "stderr",
     "output_type": "stream",
     "text": [
      " 73%|████████████████████████████████████████████████████████████████████████████▏                           | 74/101 [11:04<03:32,  7.88s/it]"
     ]
    },
    {
     "name": "stdout",
     "output_type": "stream",
     "text": [
      "let's think step by step answer: article 587 a loan for consumption becomes effective when a first party receives money or any other thing from a second party, having promised to return a thing of the same type, quality, and quantity. so the answer is true\n",
      "===================================\n",
      "Predict:  Y  Label:  Y\n"
     ]
    },
    {
     "name": "stderr",
     "output_type": "stream",
     "text": [
      " 74%|█████████████████████████████████████████████████████████████████████████████▏                          | 75/101 [11:11<03:17,  7.58s/it]"
     ]
    },
    {
     "name": "stdout",
     "output_type": "stream",
     "text": [
      "let's think step by step answer: the borrower of a loan for consumption made in writing may cancel the contract until the borrower receives the money or other thing from the lender. so the answer is false\n",
      "===================================\n",
      "Predict:  N  Label:  N\n"
     ]
    },
    {
     "name": "stderr",
     "output_type": "stream",
     "text": [
      " 75%|██████████████████████████████████████████████████████████████████████████████▎                         | 76/101 [11:16<02:52,  6.89s/it]"
     ]
    },
    {
     "name": "stdout",
     "output_type": "stream",
     "text": [
      "let's think step by step article 589 (1) in the absence of any special agreement, the lender may not demand interest from the borrower. so the answer is true\n",
      "===================================\n",
      "Predict:  Y  Label:  Y\n"
     ]
    },
    {
     "name": "stderr",
     "output_type": "stream",
     "text": [
      " 76%|███████████████████████████████████████████████████████████████████████████████▎                        | 77/101 [11:23<02:46,  6.95s/it]"
     ]
    },
    {
     "name": "stdout",
     "output_type": "stream",
     "text": [
      "let's think step by step answer: the borrower may return the borrowed thing at any time, irrespective of whether the parties have defined the time of return of the thing. so the answer is false\n",
      "===================================\n",
      "Predict:  N  Label:  N\n"
     ]
    },
    {
     "name": "stderr",
     "output_type": "stream",
     "text": [
      " 77%|████████████████████████████████████████████████████████████████████████████████▎                       | 78/101 [11:34<03:07,  8.15s/it]"
     ]
    },
    {
     "name": "stdout",
     "output_type": "stream",
     "text": [
      "let's think step by step article 590 (2) irrespective of whether there is any special agreement referred to in paragraph (1) of the preceding article, if the thing delivered from the lender does not conform to the terms of the contract with respect to the kind or quality, the borrower may return the value of the delivered thing. so the answer is true\n",
      "===================================\n",
      "Predict:  Y  Label:  Y\n"
     ]
    },
    {
     "name": "stderr",
     "output_type": "stream",
     "text": [
      " 78%|█████████████████████████████████████████████████████████████████████████████████▎                      | 79/101 [11:42<02:58,  8.11s/it]"
     ]
    },
    {
     "name": "stdout",
     "output_type": "stream",
     "text": [
      "let's think step by step answer: article 316(1) states that the lessor has a statutory lien solely against the portion of the lessor's claim that will not be satisfied by that security deposit. so the answer is false\n",
      "===================================\n",
      "Predict:  N  Label:  N\n"
     ]
    },
    {
     "name": "stderr",
     "output_type": "stream",
     "text": [
      " 79%|██████████████████████████████████████████████████████████████████████████████████▍                     | 80/101 [11:48<02:33,  7.30s/it]"
     ]
    },
    {
     "name": "stdout",
     "output_type": "stream",
     "text": [
      "let's think step by step answer: a may not demand that the lessor appropriate the security deposit to the payment of the obligation. so the answer is false\n",
      "===================================\n",
      "Predict:  N  Label:  N\n"
     ]
    },
    {
     "name": "stderr",
     "output_type": "stream",
     "text": [
      " 80%|███████████████████████████████████████████████████████████████████████████████████▍                    | 81/101 [11:54<02:19,  6.97s/it]"
     ]
    },
    {
     "name": "stdout",
     "output_type": "stream",
     "text": [
      "let's think step by step answer: a may retain building x until the claim is satisfied, but not until the claim has not yet fallen due. so the answer is false\n",
      "===================================\n",
      "Predict:  N  Label:  N\n"
     ]
    },
    {
     "name": "stderr",
     "output_type": "stream",
     "text": [
      " 81%|████████████████████████████████████████████████████████████████████████████████████▍                   | 82/101 [11:59<02:05,  6.59s/it]"
     ]
    },
    {
     "name": "stdout",
     "output_type": "stream",
     "text": [
      "let's think step by step answer: a may demand the return of the security deposit from b if a lawfully assigned the lease to c. so the answer is true\n",
      "===================================\n",
      "Predict:  Y  Label:  Y\n"
     ]
    },
    {
     "name": "stderr",
     "output_type": "stream",
     "text": [
      " 82%|█████████████████████████████████████████████████████████████████████████████████████▍                  | 83/101 [12:10<02:19,  7.76s/it]"
     ]
    },
    {
     "name": "stdout",
     "output_type": "stream",
     "text": [
      "let's think step by step answer: article 648-2 (1) if the parties agree that remuneration will be paid for any result that may be obtained through the performance of the mandated business, and the result is required to be delivered, remuneration must be paid simultaneously upon the delivery of the result. so the answer is true\n",
      "===================================\n",
      "Predict:  Y  Label:  Y\n"
     ]
    },
    {
     "name": "stderr",
     "output_type": "stream",
     "text": [
      " 83%|██████████████████████████████████████████████████████████████████████████████████████▍                 | 84/101 [12:18<02:13,  7.83s/it]"
     ]
    },
    {
     "name": "stdout",
     "output_type": "stream",
     "text": [
      "let's think step by step answer: a mandatary may not appoint a sub-mandatary unless the mandatary obtains the permission of the mandator or there is a compelling reason to do so. so the answer is false\n",
      "===================================\n",
      "Predict:  N  Label:  N\n"
     ]
    },
    {
     "name": "stderr",
     "output_type": "stream",
     "text": [
      " 84%|███████████████████████████████████████████████████████████████████████████████████████▌                | 85/101 [12:22<01:47,  6.72s/it]"
     ]
    },
    {
     "name": "stdout",
     "output_type": "stream",
     "text": [
      "let's think step by step answer: the mandator may cancel the mandate at any time. so the answer is false\n",
      "===================================\n",
      "Predict:  N  Label:  N\n"
     ]
    },
    {
     "name": "stderr",
     "output_type": "stream",
     "text": [
      " 85%|████████████████████████████████████████████████████████████████████████████████████████▌               | 86/101 [12:32<01:55,  7.68s/it]"
     ]
    },
    {
     "name": "stdout",
     "output_type": "stream",
     "text": [
      "let's think step by step answer: article 650 (1) if the mandatary has expended costs found to be necessary for the administration of the mandated business, the mandatary may claim reimbursement of those costs from the mandator and any interest on the same from the day the costs were expended. so the answer is true\n",
      "===================================\n",
      "Predict:  Y  Label:  Y\n"
     ]
    },
    {
     "name": "stderr",
     "output_type": "stream",
     "text": [
      " 86%|█████████████████████████████████████████████████████████████████████████████████████████▌              | 87/101 [12:37<01:37,  6.96s/it]"
     ]
    },
    {
     "name": "stdout",
     "output_type": "stream",
     "text": [
      "let's think step by step answer: article 652 the provisions of article 620 apply mutatis mutandis to mandates. so the answer is true\n",
      "===================================\n",
      "Predict:  Y  Label:  Y\n"
     ]
    },
    {
     "name": "stderr",
     "output_type": "stream",
     "text": [
      " 87%|██████████████████████████████████████████████████████████████████████████████████████████▌             | 88/101 [12:44<01:30,  7.00s/it]"
     ]
    },
    {
     "name": "stdout",
     "output_type": "stream",
     "text": [
      "let's think step by step answer: article 701 the provisions of article 645 through article 647 apply mutatis mutandis to the benevolent intervention in another's business. so the answer is true\n",
      "===================================\n",
      "Predict:  Y  Label:  Y\n"
     ]
    },
    {
     "name": "stderr",
     "output_type": "stream",
     "text": [
      " 88%|███████████████████████████████████████████████████████████████████████████████████████████▋            | 89/101 [12:50<01:18,  6.53s/it]"
     ]
    },
    {
     "name": "stdout",
     "output_type": "stream",
     "text": [
      "let's think step by step answer: the manager may claim reimbursement of the costs that the manager has already paid for from the principal. so the answer is false\n",
      "===================================\n",
      "Predict:  N  Label:  N\n"
     ]
    },
    {
     "name": "stderr",
     "output_type": "stream",
     "text": [
      " 89%|████████████████████████████████████████████████████████████████████████████████████████████▋           | 90/101 [12:57<01:12,  6.61s/it]"
     ]
    },
    {
     "name": "stdout",
     "output_type": "stream",
     "text": [
      "let's think step by step answer: a mandatary must report the current status of the administration of the mandated business at any time, and must report the process and results without delay upon termination of the mandate. so the answer is true\n",
      "===================================\n",
      "Predict:  Y  Label:  Y\n"
     ]
    },
    {
     "name": "stderr",
     "output_type": "stream",
     "text": [
      " 90%|█████████████████████████████████████████████████████████████████████████████████████████████▋          | 91/101 [13:09<01:24,  8.42s/it]"
     ]
    },
    {
     "name": "stdout",
     "output_type": "stream",
     "text": [
      "let's think step by step answer: article 698 if a manager engages in benevolent intervention in another's business in order to allow a principal to escape imminent danger to the principal's person, reputation, or property, the manager is not liable to compensate for damage resulting from this unless the manager has acted in bad faith or with gross negligence. so the answer is true\n",
      "===================================\n",
      "Predict:  Y  Label:  Y\n"
     ]
    },
    {
     "name": "stderr",
     "output_type": "stream",
     "text": [
      " 91%|██████████████████████████████████████████████████████████████████████████████████████████████▋         | 92/101 [13:18<01:16,  8.53s/it]"
     ]
    },
    {
     "name": "stdout",
     "output_type": "stream",
     "text": [
      "let's think step by step answer: article 724 in the following cases, the claim for compensation for loss or damage caused by tort is extinguished by prescription: (ii) the right is not exercised within 20 years from the time of the tortious act. so the answer is true\n",
      "===================================\n",
      "Predict:  Y  Label:  Y\n"
     ]
    },
    {
     "name": "stderr",
     "output_type": "stream",
     "text": [
      " 92%|███████████████████████████████████████████████████████████████████████████████████████████████▊        | 93/101 [13:32<01:22, 10.26s/it]"
     ]
    },
    {
     "name": "stdout",
     "output_type": "stream",
     "text": [
      "let's think step by step answer: a person that, in response to the tortious act of another, is compelled to commit a harmful act to protect rights or legally protected interests of the person or of a third party, is not liable for compensation for loss or damage;provided, however, that this does not preclude a victim from filing a claim of compensation for loss or damage against the person that committed the tortious act. so the answer is false\n",
      "===================================\n",
      "Predict:  N  Label:  N\n"
     ]
    },
    {
     "name": "stderr",
     "output_type": "stream",
     "text": [
      " 93%|████████████████████████████████████████████████████████████████████████████████████████████████▊       | 94/101 [13:37<00:59,  8.47s/it]"
     ]
    },
    {
     "name": "stdout",
     "output_type": "stream",
     "text": [
      "let's think step by step answer: a loan for use is terminated upon the death of the borrower. so the answer is true\n",
      "===================================\n",
      "Predict:  Y  Label:  Y\n"
     ]
    },
    {
     "name": "stderr",
     "output_type": "stream",
     "text": [
      " 94%|█████████████████████████████████████████████████████████████████████████████████████████████████▊      | 95/101 [13:48<00:57,  9.51s/it]"
     ]
    },
    {
     "name": "stdout",
     "output_type": "stream",
     "text": [
      "let's think step by step answer: the assignment of a claim (including the assignment of a claim that is yet to arise) may not be duly asserted against the applicable obligor or any other third party, unless the assignor gives notice thereof to the obligor or the obligor has consented to the same. so the answer is true\n",
      "===================================\n",
      "Predict:  Y  Label:  Y\n"
     ]
    },
    {
     "name": "stderr",
     "output_type": "stream",
     "text": [
      " 95%|██████████████████████████████████████████████████████████████████████████████████████████████████▊     | 96/101 [14:00<00:50, 10.03s/it]"
     ]
    },
    {
     "name": "stdout",
     "output_type": "stream",
     "text": [
      "let's think step by step article 525(1) an offer made without specifying a period for acceptance may not be revoked until the passage of a reasonable period of time for the offeror to receive a notice of acceptance;provided, however, that this does not apply if the offeror reserves the right to revoke. so the answer is true\n",
      "===================================\n",
      "Predict:  Y  Label:  Y\n"
     ]
    },
    {
     "name": "stderr",
     "output_type": "stream",
     "text": [
      " 96%|███████████████████████████████████████████████████████████████████████████████████████████████████▉    | 97/101 [14:08<00:38,  9.64s/it]"
     ]
    },
    {
     "name": "stdout",
     "output_type": "stream",
     "text": [
      "let's think step by step answer: the assumption of obligation not releasing an obligor may also be effected by a contract between the initial obligor and the person that becomes the additional obligor. so the answer is true\n",
      "===================================\n",
      "Predict:  Y  Label:  Y\n"
     ]
    },
    {
     "name": "stderr",
     "output_type": "stream",
     "text": [
      " 97%|████████████████████████████████████████████████████████████████████████████████████████████████████▉   | 98/101 [14:14<00:25,  8.39s/it]"
     ]
    },
    {
     "name": "stdout",
     "output_type": "stream",
     "text": [
      "let's think step by step answer: a bailee may not use the bailed thing without obtaining the consent of the bailor. so the answer is false\n",
      "===================================\n",
      "Predict:  N  Label:  N\n"
     ]
    },
    {
     "name": "stderr",
     "output_type": "stream",
     "text": [
      " 98%|█████████████████████████████████████████████████████████████████████████████████████████████████████▉  | 99/101 [14:20<00:15,  7.72s/it]"
     ]
    },
    {
     "name": "stdout",
     "output_type": "stream",
     "text": [
      "let's think step by step answer: the possessor must be in bad faith for the court to grant a reasonable period of time for the reimbursement. so the answer is false\n",
      "===================================\n",
      "Predict:  N  Label:  N\n"
     ]
    },
    {
     "name": "stderr",
     "output_type": "stream",
     "text": [
      " 99%|█████████████████████████████████████████████████████████████████████████████████████████████████████▉ | 100/101 [14:29<00:08,  8.18s/it]"
     ]
    },
    {
     "name": "stdout",
     "output_type": "stream",
     "text": [
      "let's think step by step answer: the pledgee may make a request to the court seeking the immediate appropriation of the thing pledged for the satisfaction of that claim in accordance with the evaluation of an appraiser only when there are reasonable grounds. so the answer is false\n",
      "===================================\n",
      "Predict:  N  Label:  N\n"
     ]
    },
    {
     "name": "stderr",
     "output_type": "stream",
     "text": [
      "100%|███████████████████████████████████████████████████████████████████████████████████████████████████████| 101/101 [14:40<00:00,  8.71s/it]"
     ]
    },
    {
     "name": "stdout",
     "output_type": "stream",
     "text": [
      "let's think step by step answer: the performer may, with the permission of the court, sell the thing that is the subject matter of performance at public auction and deposit the proceeds of such sales with an official depository: (iii) excessive expenses are required for the preservation of the thing; or. so the answer is true\n",
      "===================================\n",
      "Predict:  Y  Label:  Y\n"
     ]
    },
    {
     "name": "stderr",
     "output_type": "stream",
     "text": [
      "\n"
     ]
    }
   ],
   "source": [
    "template_prompt = \"{{premise}}\\nQuestion: {{hypothesis}} True or False?\"\n",
    "\n",
    "count = 0\n",
    "for item in tqdm(data):\n",
    "    premise = item[\"result\"]\n",
    "    label = item[\"label\"]\n",
    "    hypothesis = item[\"content\"]\n",
    "    #Important: You must use dot-product, not cosine_similarity\n",
    "    query_embedding = query_encoder.encode(premise)\n",
    "    scores = util.dot_score(query_embedding, passage_embeddings)\n",
    "    indexes = torch.topk(scores, 3).indices[0]\n",
    "    prompt = fewshot_cot_prompting(indexes, prompts, labels, cots)\n",
    "    text = template_prompt.replace(\"{{premise}}\", premise).replace(\"{{hypothesis}}\", hypothesis) +\"\\nAnswer: True or False\"\n",
    "    text = prompt+text\n",
    "    if count < 5:\n",
    "        print(text)\n",
    "        print(\"===================================\")\n",
    "    inputs = tokenizer(text, return_tensors=\"pt\")[\"input_ids\"].cuda()\n",
    "    outputs = model.generate(inputs, max_new_tokens=256)\n",
    "    output_text = format_output(tokenizer.decode(outputs[0]).replace(text, \"\").split(\"\\n\")[-1])\n",
    "    print(output_text)\n",
    "    print(\"===================================\")\n",
    "    if \"yes\" in output_text or \"true\" in output_text:\n",
    "        output_text = \"Y\"\n",
    "    else:\n",
    "        output_text = \"N\"\n",
    "    print(\"Predict: \", output_text, \" Label: \", label)\n",
    "    if output_text == label:\n",
    "        count+=1"
   ]
  },
  {
   "cell_type": "code",
   "execution_count": 27,
   "id": "0ad7677c-65f7-4890-b79e-78db91bf93c3",
   "metadata": {
    "scrolled": true
   },
   "outputs": [],
   "source": [
    "def predict(model, tokenizer, path_file, passage_embeddings, files=[\"riteval_R01_en\",\"riteval_R02_en\",\"riteval_R03_en\",\"riteval_R04_en\"], output=\"../output/accuracy2/newpromt_\"):\n",
    "    for file in files:\n",
    "        test_file = path_file+file+\".xml\"\n",
    "        f = open(path_file+file+\".txt\", \"w\", encoding=\"utf-8\")\n",
    "        data = load_samples(test_file)\n",
    "        \n",
    "        acc = {}\n",
    "        for template_prompt in list_prompt:\n",
    "            idx = template_prompt[\"id\"]\n",
    "            template_prompt = template_prompt[\"prompt\"]\n",
    "            corpus, prompts, labels, contents, cots = load_cot_sample(\"/home/congnguyen/drive/Coliee2024/output/generated_cot/prompt_\"+str(idx))\n",
    "            result = []\n",
    "            count = 0\n",
    "            for item in tqdm(data):\n",
    "                premise = item[\"result\"]\n",
    "                label = item[\"label\"]\n",
    "                hypothesis = item[\"content\"]\n",
    "                #Important: You must use dot-product, not cosine_similarity\n",
    "                query_embedding = query_encoder.encode(premise)\n",
    "                scores = util.dot_score(query_embedding, passage_embeddings)\n",
    "                indexes = torch.topk(scores, 3).indices[0]\n",
    "                prompt = fewshot_cot_prompting(indexes, prompts, labels, cots)\n",
    "                if \"true or false\" in template_prompt.lower():\n",
    "                    text = template_prompt.replace(\"{{premise}}\", premise).replace(\"{{hypothesis}}\", hypothesis) +\"\\nAnswer: True or False\"\n",
    "                else:\n",
    "                    text = template_prompt.replace(\"{{premise}}\", premise).replace(\"{{hypothesis}}\", hypothesis) +\"\\nAnswer: Yes or No\"\n",
    "                text = prompt+text\n",
    "                if count < 5:\n",
    "                    print(text)\n",
    "                    print(\"===================================\")\n",
    "                inputs = tokenizer(text, return_tensors=\"pt\")[\"input_ids\"].cuda()\n",
    "                outputs = model.generate(inputs, max_new_tokens=256)\n",
    "                output_text = format_output(tokenizer.decode(outputs[0]).replace(text, \"\").split(\"\\n\")[-1])\n",
    "                print(output_text)\n",
    "                print(\"===================================\")\n",
    "                if \"yes\" in output_text or \"true\" in output_text:\n",
    "                    output_text = \"Y\"\n",
    "                else:\n",
    "                    output_text = \"N\"\n",
    "                print(\"Predict: \", output_text, \" Label: \", label)\n",
    "                if output_text == label:\n",
    "                    count+=1\n",
    "                # print(\"predict label: \", output_text, \"label: \", label)\n",
    "            # print(\"=======================================\")\n",
    "            # print(template_prompt)\n",
    "            # print(count, \"/\", len(data))\n",
    "            acc.update({template_prompt: count/len(data)})\n",
    "            print(acc)\n",
    "        writefile(acc, output+file+\".json\")\n",
    "        f.close()\n"
   ]
  },
  {
   "cell_type": "code",
   "execution_count": null,
   "id": "c926fcaf-65a2-4638-9f14-c2efd48ae5d0",
   "metadata": {},
   "outputs": [
    {
     "name": "stderr",
     "output_type": "stream",
     "text": [
      "  0%|                                                                                                                 | 0/111 [00:00<?, ?it/s]"
     ]
    },
    {
     "name": "stdout",
     "output_type": "stream",
     "text": [
      "Article 5\n",
      "(1) A minor must obtain the consent of the minor's legal representative to perform a juridical act;provided, however, that this does not apply to a juridical act for merely acquiring a right or being released from an obligation.\n",
      "(2) A juridical act in contravention of the provisions of the preceding paragraph is voidable.\n",
      "(3) Notwithstanding the provisions of paragraph (1), a minor may freely dispose of property that the legal representative has permitted the minor to dispose of for a specified purpose, to an extent that falls within the scope of that purpose. The same applies if the minor disposes of property that the legal representative has permitted the minor to dispose of without specifying a purpose.\n",
      "Question: A contract of sales concluded by a minor may not be rescinded if it relates to daily life, even in cases the consent of the parental authority is not obtained. True or False? Let's think step by step \n",
      "Answer: Article 5 (1) A minor must obtain the consent of the minor's legal representative to perform a juridical act;provided, however, that this does not apply to a juridical act for merely acquiring a right or being released from an obligation. So the answer is False\n",
      "\n",
      "Article 5\n",
      "(1) A minor must obtain the consent of the minor's legal representative to perform a juridical act;provided, however, that this does not apply to a juridical act for merely acquiring a right or being released from an obligation.\n",
      "(2) A juridical act in contravention of the provisions of the preceding paragraph is voidable.\n",
      "(3) Notwithstanding the provisions of paragraph (1), a minor may freely dispose of property that the legal representative has permitted the minor to dispose of for a specified purpose, to an extent that falls within the scope of that purpose. The same applies if the minor disposes of property that the legal representative has permitted the minor to dispose of without specifying a purpose.\n",
      "Question: A is a nineteen-year-old male and subject to the parental authority of his parents.\n",
      "In the case where the person who had parental authority in relation to A permitted A to dispose of the money which A acquired by a part-time job of delivering newspapers, and A purchased a bicycle by the money which he acquired by the part-time job, even if A did not obtain the consent of the person who had parental authority in relation to him when he concluded the contract for sale, A may not rescind the contract for sale. True or False? Let's think step by step \n",
      "Answer: A may freely dispose of property that the legal representative has permitted the minor to dispose of for a specified purpose, to an extent that falls within the scope of that purpose. So the answer is True\n",
      "\n",
      "Article 5\n",
      "(1) A minor must obtain the consent of the minor's legal representative to perform a juridical act;provided, however, that this does not apply to a juridical act for merely acquiring a right or being released from an obligation.\n",
      "(2) A juridical act in contravention of the provisions of the preceding paragraph is voidable.\n",
      "(3) Notwithstanding the provisions of paragraph (1), a minor may freely dispose of property that the legal representative has permitted the minor to dispose of for a specified purpose, to an extent that falls within the scope of that purpose. The same applies if the minor disposes of property that the legal representative has permitted the minor to dispose of without specifying a purpose.\n",
      "Question: A is a nineteen-year-old male and subject to the parental authority of his parents.\n",
      "In the case where A concluded a contract not in writing to the effect that A would make B a gift of 1,000,000 yen from the property which A had obtained by inheritance, even if A revoked the gift on the ground that it was a gift not in writing, if A did not obtain the consent of the person who had parental authority in relation to him with respect to the revocation of the gift, A may rescind the revocation of the gift. True or False? Let's think step by step \n",
      "Answer: A must obtain the consent of the minor's legal representative to perform a juridical act;provided, however, that this does not apply to a juridical act for merely acquiring a right or being released from an obligation. So the answer is False\n",
      "\n",
      "Article 5\n",
      "(1) A minor must obtain the consent of the minor's legal representative to perform a juridical act;provided, however, that this does not apply to a juridical act for merely acquiring a right or being released from an obligation.\n",
      "(2) A juridical act in contravention of the provisions of the preceding paragraph is voidable.\n",
      "(3) Notwithstanding the provisions of paragraph (1), a minor may freely dispose of property that the legal representative has permitted the minor to dispose of for a specified purpose, to an extent that falls within the scope of that purpose. The same applies if the minor disposes of property that the legal representative has permitted the minor to dispose of without specifying a purpose.\n",
      "Question: A contract of sales concluded by a minor may not be rescinded if it relates to daily life, even in cases the consent of the parental authority is not obtained. True or False?\n",
      "Answer: True or False\n",
      "===================================\n"
     ]
    },
    {
     "name": "stderr",
     "output_type": "stream",
     "text": [
      "  1%|▉                                                                                                        | 1/111 [00:20<36:57, 20.16s/it]"
     ]
    },
    {
     "name": "stdout",
     "output_type": "stream",
     "text": [
      "let's think step by step answer: article 5 (1) a minor must obtain the consent of the minor's legal representative to perform a juridical act;provided, however, that this does not apply to a juridical act for merely acquiring a right or being released from an obligation. (2) a juridical act in contravention of the provisions of the preceding paragraph is voidable. (3) notwithstanding the provisions of paragraph (1), a minor may freely dispose of property that the legal representative has permitted the minor to dispose of for a specified purpose, to an extent that falls within the scope of that purpose. the same applies if the minor disposes of property that the legal representative has permitted the minor to dispose of without specifying a purpose.\n",
      "===================================\n",
      "Predict:  N  Label:  N\n",
      "Article 9\n",
      "A juridical act performed by an adult ward is voidable;provided, however, that this does not apply to the purchase of daily necessities or to any other act involved in day-to-day life.\n",
      "Question: An  act of paying electricity charges by adult ward without obtaining the consent of his/her guardian is not voidable. True or False? Let's think step by step \n",
      "Answer: Article 9 A juridical act performed by an adult ward is voidable;provided, however, that this does not apply to the purchase of daily necessities or to any other act involved in day-to-day life. So the answer is True\n",
      "\n",
      "Article 9\n",
      "A juridical act performed by an adult ward is voidable;provided, however, that this does not apply to the purchase of daily necessities or to any other act involved in day-to-day life.\n",
      "Question: A contract of sales concluded by an adult ward may be rescinded except relating to daily life, even in cases the consent of the adult guardian has been obtained, the contract True or False? Let's think step by step \n",
      "Answer: Article 9 A juridical act performed by an adult ward is voidable;provided, however, that this does not apply to the purchase of daily necessities or to any other act involved in day-to-day life. So the answer is True\n",
      "\n",
      "Article 9\n",
      "A juridical act performed by an adult ward is voidable;provided, however, that this does not apply to the purchase of daily necessities or to any other act involved in day-to-day life.\n",
      "Question: The purchase of daily household items may not be rescinded, even if an adult ward performed the act. True or False? Let's think step by step \n",
      "Answer: Article 9 A juridical act performed by an adult ward is voidable;provided, however, that this does not apply to the purchase of daily necessities or to any other act involved in day-to-day life. So the answer is True\n",
      "\n",
      "Article 9\n",
      "A juridical act performed by an adult ward is voidable;provided, however, that this does not apply to the purchase of daily necessities or to any other act involved in day-to-day life.\n",
      "Question: A contract of sales concluded by an adult ward may be rescinded except relating to daily life, even in cases the consent of the adult guardian has been obtained, the contract True or False?\n",
      "Answer: True or False\n",
      "===================================\n"
     ]
    },
    {
     "name": "stderr",
     "output_type": "stream",
     "text": [
      "  2%|█▉                                                                                                       | 2/111 [00:27<23:23, 12.87s/it]"
     ]
    },
    {
     "name": "stdout",
     "output_type": "stream",
     "text": [
      "let's think step by step answer: article 9 a juridical act performed by an adult ward is voidable;provided, however, that this does not apply to the purchase of daily necessities or to any other act involved in day-to-day life. so the answer is true\n",
      "===================================\n",
      "Predict:  Y  Label:  Y\n",
      "Article 13\n",
      "(1) A person under curatorship must obtain the consent of the curator in order to perform any of the following acts;provided, however, that this does not apply to an act provided for in the proviso of Article 9:\n",
      "(i) receiving or using any property producing civil fruit;\n",
      "(ii) borrowing money or guaranteeing an obligation;\n",
      "(iii) performing an act with the purpose of acquiring or losing any right regarding immovables or other significant property;\n",
      "(iv) suing any procedural act;\n",
      "(v) giving a gift, reaching a settlement, or entering into an arbitration agreement (meaning an arbitration agreement as provided in Article 2, paragraph (1) of the Arbitration Act (Act No. 138 of 2003));\n",
      "(vi) accepting or renouncing a succession or dividing an estate;\n",
      "(vii) refusing an offer of a gift, renouncing a legacy, accepting an offer of gift with burden, or accepting a legacy with burden;\n",
      "(viii) constructing a new building, renovating, expanding, or undertaking major repairs;\n",
      "(ix) granting a lease for a term that exceeds the period set forth in Article 602; or\n",
      "(x) performing any of the acts set forth in the preceding items as a legal representative of a person with qualified legal capacity (meaning a minor, adult ward, or person under curatorship or a person under assistance who is subject to a decision as referred to in Article 17, paragraph (1); the same applies hereinafter).\n",
      "(2) At the request of a person as referred to in the main clause of Article 11\n",
      "or the curator or curator's supervisor, the family court may decide that the person under curatorship must also obtain the consent of the curator before performing an act other than those set forth in each of the items of the preceding paragraph;provided, however, that this does not apply to an act provided for in the proviso to Article 9.\n",
      "(3) If the curator does not consent to an act for which the person under curatorship must obtain the curator's consent even though it is unlikely to prejudice the interests of the person under curatorship, the family court may grant permission that operates in lieu of the curator's consent at the request of the person under curatorship.\n",
      "(4) An act for which the person under curatorship must obtain the curator's consent is voidable if the person performs it without obtaining the curator's consent or a permission that operates in lieu of it.\n",
      "Article 120\n",
      "(1) An act that is voidable on the grounds of the qualified legal capacity to act of the person who did the act may be rescinded only by the person with qualified legal capacity (in the case of an act performed by the person as a legal representative of another person with limited capacity, including that other person with limited capacity), or an agent or successor thereof, or a person who has the authority to give consent thereto.\n",
      "(2) An act that is voidable on the grounds of a mistake, fraud or duress may be rescinded only by the person who made the defective manifestation of intention, or an agent or successor thereof.\n",
      "Question: In the case where a person under curatorship obtains the consent of his/her curator to conclude the contract of guarantee before concluding such contract, he/she may not cancel concluding such contract by self-determination. True or False? Let's think step by step \n",
      "Answer: The contract of guarantee is voidable on the grounds of the qualified legal capacity to act of the person who did the act. So the answer is False\n",
      "\n",
      "Article 13\n",
      "(1) A person under curatorship must obtain the consent of the curator in order to perform any of the following acts;provided, however, that this does not apply to an act provided for in the proviso of Article 9:\n",
      "(i) receiving or using any property producing civil fruit;\n",
      "(ii) borrowing money or guaranteeing an obligation;\n",
      "(iii) performing an act with the purpose of acquiring or losing any right regarding immovables or other significant property;\n",
      "(iv) suing any procedural act;\n",
      "(v) giving a gift, reaching a settlement, or entering into an arbitration agreement (meaning an arbitration agreement as provided in Article 2, paragraph (1) of the Arbitration Act (Act No. 138 of 2003));\n",
      "(vi) accepting or renouncing a succession or dividing an estate;\n",
      "(vii) refusing an offer of a gift, renouncing a legacy, accepting an offer of gift with burden, or accepting a legacy with burden;\n",
      "(viii) constructing a new building, renovating, expanding, or undertaking major repairs;\n",
      "(ix) granting a lease for a term that exceeds the period set forth in Article 602; or\n",
      "(x) performing any of the acts set forth in the preceding items as a legal representative of a person with qualified legal capacity (meaning a minor, adult ward, or person under curatorship or a person under assistance who is subject to a decision as referred to in Article 17, paragraph (1); the same applies hereinafter).\n",
      "(2) At the request of a person as referred to in the main clause of Article 11\n",
      "or the curator or curator's supervisor, the family court may decide that the person under curatorship must also obtain the consent of the curator before performing an act other than those set forth in each of the items of the preceding paragraph;provided, however, that this does not apply to an act provided for in the proviso to Article 9.\n",
      "(3) If the curator does not consent to an act for which the person under curatorship must obtain the curator's consent even though it is unlikely to prejudice the interests of the person under curatorship, the family court may grant permission that operates in lieu of the curator's consent at the request of the person under curatorship.\n",
      "(4) An act for which the person under curatorship must obtain the curator's consent is voidable if the person performs it without obtaining the curator's consent or a permission that operates in lieu of it.\n",
      "Article 120\n",
      "(1) An act that is voidable on the grounds of the qualified legal capacity to act of the person who did the act may be rescinded only by the person with qualified legal capacity (in the case of an act performed by the person as a legal representative of another person with limited capacity, including that other person with limited capacity), or an agent or successor thereof, or a person who has the authority to give consent thereto.\n",
      "(2) An act that is voidable on the grounds of a mistake, fraud or duress may be rescinded only by the person who made the defective manifestation of intention, or an agent or successor thereof.\n",
      "Article 122\n",
      "A voidable act may not be rescinded after the person prescribed in Article 120\n",
      "ratifies it.\n",
      "Question: If a person under curatorship performs, without getting the consent, an act that requires  getting consent from his/her curator, the curator may ratify that act, but may not rescind that act. True or False? Let's think step by step \n",
      "Answer: The curator may rescind the act, but only if the act is voidable. So the answer is False\n",
      "\n",
      "Article 13\n",
      "(1) A person under curatorship must obtain the consent of the curator in order to perform any of the following acts;provided, however, that this does not apply to an act provided for in the proviso of Article 9:\n",
      "(i) receiving or using any property producing civil fruit;\n",
      "(ii) borrowing money or guaranteeing an obligation;\n",
      "(iii) performing an act with the purpose of acquiring or losing any right regarding immovables or other significant property;\n",
      "(iv) suing any procedural act;\n",
      "(v) giving a gift, reaching a settlement, or entering into an arbitration agreement (meaning an arbitration agreement as provided in Article 2, paragraph (1) of the Arbitration Act (Act No. 138 of 2003));\n",
      "(vi) accepting or renouncing a succession or dividing an estate;\n",
      "(vii) refusing an offer of a gift, renouncing a legacy, accepting an offer of gift with burden, or accepting a legacy with burden;\n",
      "(viii) constructing a new building, renovating, expanding, or undertaking major repairs;\n",
      "(ix) granting a lease for a term that exceeds the period set forth in Article 602; or\n",
      "(x) performing any of the acts set forth in the preceding items as a legal representative of a person with qualified legal capacity (meaning a minor, adult ward, or person under curatorship or a person under assistance who is subject to a decision as referred to in Article 17, paragraph (1); the same applies hereinafter).\n",
      "(2) At the request of a person as referred to in the main clause of Article 11\n",
      "or the curator or curator's supervisor, the family court may decide that the person under curatorship must also obtain the consent of the curator before performing an act other than those set forth in each of the items of the preceding paragraph;provided, however, that this does not apply to an act provided for in the proviso to Article 9.\n",
      "(3) If the curator does not consent to an act for which the person under curatorship must obtain the curator's consent even though it is unlikely to prejudice the interests of the person under curatorship, the family court may grant permission that operates in lieu of the curator's consent at the request of the person under curatorship.\n",
      "(4) An act for which the person under curatorship must obtain the curator's consent is voidable if the person performs it without obtaining the curator's consent or a permission that operates in lieu of it.\n",
      "Question: A contract of guarantee concluded by a person under curatorship may not be rescinded in cases the consent of the curator is obtained. True or False? Let's think step by step \n",
      "Answer: The contract of guarantee is voidable if the person under curatorship performs it without obtaining the curator's consent. So the answer is True\n",
      "\n",
      "Article 13\n",
      "(1) A person under curatorship must obtain the consent of the curator in order to perform any of the following acts;provided, however, that this does not apply to an act provided for in the proviso of Article 9:\n",
      "(i) receiving or using any property producing civil fruit;\n",
      "(ii) borrowing money or guaranteeing an obligation;\n",
      "(iii) performing an act with the purpose of acquiring or losing any right regarding immovables or other significant property;\n",
      "(iv) suing any procedural act;\n",
      "(v) giving a gift, reaching a settlement, or entering into an arbitration agreement (meaning an arbitration agreement as provided in Article 2, paragraph (1) of the Arbitration Act (Act No. 138 of 2003));\n",
      "(vi) accepting or renouncing a succession or dividing an estate;\n",
      "(vii) refusing an offer of a gift, renouncing a legacy, accepting an offer of gift with burden, or accepting a legacy with burden;\n",
      "(viii) constructing a new building, renovating, expanding, or undertaking major repairs;\n",
      "(ix) granting a lease for a term that exceeds the period set forth in Article 602; or\n",
      "(x) performing any of the acts set forth in the preceding items as a legal representative of a person with qualified legal capacity (meaning a minor, adult ward, or person under curatorship or a person under assistance who is subject to a decision as referred to in Article 17, paragraph (1); the same applies hereinafter).\n",
      "(2) At the request of a person as referred to in the main clause of Article 11\n",
      "or the curator or curator's supervisor, the family court may decide that the person under curatorship must also obtain the consent of the curator before performing an act other than those set forth in each of the items of the preceding paragraph;provided, however, that this does not apply to an act provided for in the proviso to Article 9.\n",
      "(3) If the curator does not consent to an act for which the person under curatorship must obtain the curator's consent even though it is unlikely to prejudice the interests of the person under curatorship, the family court may grant permission that operates in lieu of the curator's consent at the request of the person under curatorship.\n",
      "(4) An act for which the person under curatorship must obtain the curator's consent is voidable if the person performs it without obtaining the curator's consent or a permission that operates in lieu of it.\n",
      "Question: A contract of guarantee concluded by a person under curatorship may not be rescinded in cases the consent of the curator is obtained. True or False?\n",
      "Answer: True or False\n",
      "===================================\n"
     ]
    },
    {
     "name": "stderr",
     "output_type": "stream",
     "text": [
      "  3%|██▊                                                                                                      | 3/111 [00:36<19:48, 11.00s/it]"
     ]
    },
    {
     "name": "stdout",
     "output_type": "stream",
     "text": [
      "let's think step by step answer: the contract of guarantee is voidable if the person under curatorship performs it without obtaining the curator's consent. so the answer is false\n",
      "===================================\n",
      "Predict:  N  Label:  Y\n",
      "Article 15 (1) The family court may decide to commence an assistance in respect of a person whose capacity to appreciate their own situation is inadequate due to a mental disorder, at the request of the person in question, that person's spouse, that person's relative within the fourth degree of kinship, the guardian, the guardian's supervisor, the curator, the curator's supervisor, or a public prosecutor; provided, however, that this does not apply to a person with respect to whom there are grounds as prescribed in Article 7 or the main clause of Article 11.\n",
      "(2) The issuance of a decision for commencement of assistance at the request of a person other than the person in question requires the consent of the person in question.\n",
      "Question: The issuance of a decision for commencement of assistance at the request of a person other than the person in question requires the consent of the person in question unless the family court finds it to be suitable. True or False? Let's think step by step \n",
      "Answer: The issuance of a decision for commencement of assistance at the request of a person other than the person in question requires the consent of the person in question. So the answer is False\n",
      "\n",
      "Article 17 (1) At the request of the person referred to in the main clause of Article 15, paragraph (1) or the assistant or assistant's supervisor, the family court may decide that the person under assistance must obtain the consent of the person's assistant in order to perform a specific juridical act; provided, however, that the acts that such a decision may establish as those for which the person must obtain the consent of the assistant are restricted to a part of the acts provided for in Article 13, paragraph (1).\n",
      "(2) In order to decide as referred to in the preceding paragraph at the request of a person other than the person in question requires the consent of the person in question.\n",
      "(3) If the assistant does not consent to an act for which the person under assistance must obtain the assistant's consent even though it is unlikely to prejudice the interests of the person under assistance, the family court may grant permission that operates in lieu of the assistant's consent, at the request of the person under assistance.\n",
      "Question: If the assistant does not consent to an act for which the person under assistance must obtain the assistant's consent even though it is unlikely to prejudice the interests of the person under assistance, the family court may grant permission that operates in lieu of the assistant's consent, at the request of the person under assistance. True or False? Let's think step by step \n",
      "Answer: The family court may grant permission that operates in lieu of the assistant's consent, at the request of the person under assistance. So the answer is True\n",
      "\n",
      "Article 15\n",
      "(1) The family court may decide to commence an assistance in respect of a person whose capacity to appreciate their own situation is inadequate due to a mental disorder, at the request of the person in question, that person's spouse, that person's relative within the fourth degree of kinship, the guardian, the guardian's supervisor, the curator, the curator's supervisor, or a public prosecutor;provided, however, that this does not apply to a person with respect to whom there are grounds as prescribed in Article 7\n",
      "or the main clause of Article 11.\n",
      "(2) The issuance of a decision for commencement of assistance at the request of a person other than the person in question requires the consent of the person in question.\n",
      "(3) A decision for commencement of assistance must be made concurrent with a decision as referred to in Article 17, paragraph (1) or a decision as referred to in Article 876-9, paragraph (1).\n",
      "Question: Any person who has insufficient capacity to appreciate right or wrong due to any mental disability may not request a ruling of commencement of assistance in person. True or False? Let's think step by step \n",
      "Answer: The family court may decide to commence an assistance in respect of a person whose capacity to appreciate their own situation is inadequate due to a mental disorder, at the request of the person in question, that person's spouse, that person's relative within the fourth degree of kinship, the guardian, the guardian's supervisor, the curator, the curator's supervisor, or a public prosecutor;provided, however, that this does not apply to a person with respect to whom there are grounds as prescribed in Article 7 or the main clause of Article 11. So the answer is False\n",
      "\n",
      "Article 17\n",
      "(1) At the request of the person referred to in the main clause of Article 15, paragraph (1) or the assistant or assistant's supervisor, the family court may decide that the person under assistance must obtain the consent of the person's assistant in order to perform a specific juridical act;provided, however, that the acts that such a decision may establish as those for which the person must obtain the consent of the assistant are restricted to a part of the acts provided for in Article 13, paragraph (1).\n",
      "(2) In order to decide as referred to in the preceding paragraph at the request of a person other than the person in question requires the consent of the person in question.\n",
      "(3) If the assistant does not consent to an act for which the person under assistance must obtain the assistant's consent even though it is unlikely to prejudice the interests of the person under assistance, the family court may grant permission that operates in lieu of the assistant's consent, at the request of the person under assistance.\n",
      "(4) An act for which the person under assistance must obtain the assistant's consent is voidable if the person performs it without obtaining the assistance's consent or a permission that operates in lieu of it.\n",
      "Question: An act which requires the consent of the assistant may be rescinded if the person under assistance performed it without such consent or the permission of family court in lieu thereof. True or False?\n",
      "Answer: True or False\n",
      "===================================\n"
     ]
    },
    {
     "name": "stderr",
     "output_type": "stream",
     "text": [
      "  4%|███▊                                                                                                     | 4/111 [00:39<13:29,  7.57s/it]"
     ]
    },
    {
     "name": "stdout",
     "output_type": "stream",
     "text": [
      "let's think step by step answer: true\n",
      "===================================\n",
      "Predict:  Y  Label:  Y\n",
      "Article 124\n",
      "(1) The ratification of a voidable act does not become effective unless it is made after the circumstances that made the act voidable cease to exist and the person ratifying the act becomes aware of the right to rescind it.\n",
      "(2) In the following cases, the ratification referred to in the preceding paragraph is not required to be made after the circumstances that made the act voidable cease to exist:\n",
      "(i) if a legal representative or a curator or assistant of a person with qualified legal capacity ratifies the act; or\n",
      "(ii) if a person with qualified legal capacity (excluding an adult ward) makes the ratification with the consent of a legal representative, curator or assistant.\n",
      "Article 126\n",
      "The right to rescind an act is extinguished by the operation of the prescription if it is not exercised within five years from the time when it becomes possible to ratify the act. The same applies if 20 years have passed from the time of the act.\n",
      "Question: The period of the extinctive prescription of the right to rescind about the act performed by an adult ward commences from the time of becoming a person with capacity to act. True or False? Let's think step by step \n",
      "Answer: The period of the extinctive prescription of the right to rescind about the act performed by an adult ward commences from the time when it becomes possible to ratify the act. So the answer is False\n",
      "\n",
      "Article 124\n",
      "(1) The ratification of a voidable act does not become effective unless it is made after the circumstances that made the act voidable cease to exist and the person ratifying the act becomes aware of the right to rescind it.\n",
      "(2) In the following cases, the ratification referred to in the preceding paragraph is not required to be made after the circumstances that made the act voidable cease to exist:\n",
      "(i) if a legal representative or a curator or assistant of a person with qualified legal capacity ratifies the act; or\n",
      "(ii) if a person with qualified legal capacity (excluding an adult ward) makes the ratification with the consent of a legal representative, curator or assistant.\n",
      "Article 125\n",
      "If, at or after the time when it becomes possible to ratify an act, any of the following facts occur with respect to a voidable act, it is deemed that the act has been ratified;provided, however, that this does not apply if an objection is reserved:\n",
      "(i) full or partial performance;\n",
      "(ii) request for the performance;\n",
      "(iii) novation;\n",
      "(iv) provision of a security;\n",
      "(v) assignment of a part of or the whole of a right acquired by the voidable act; or\n",
      "(vi) compulsory execution.\n",
      "Question: The person under curatorship A sold A's land \"X\" to B without the consent of the curator or any permission of the family court in lieu thereof.\n",
      "If, after A has become a person with capacity to act, A assigns the claim for the sale price of the land \"X\" to others, it is deemed that he/she has ratified such contract for sale. True or False? Let's think step by step \n",
      "Answer: A has become a person with capacity to act. So the answer is True\n",
      "\n",
      "Article 120 (2) An act that is voidable on the grounds of a mistake, fraud or duress may be rescinded only by the person who made the defective manifestation of intention, or an agent or successor thereof.\n",
      "Question: An act that is voidable on the grounds of a mistake may also be rescinded by the successor of the contractual status of the person who made the manifestation of intention by mistake. True or False? Let's think step by step \n",
      "Answer: An act that is voidable on the grounds of a mistake, fraud or duress may be rescinded only by the person who made the defective manifestation of intention, or an agent or successor thereof. So the answer is True\n",
      "\n",
      "Article 124\n",
      "(1) The ratification of a voidable act does not become effective unless it is made after the circumstances that made the act voidable cease to exist and the person ratifying the act becomes aware of the right to rescind it.\n",
      "(2) In the following cases, the ratification referred to in the preceding paragraph is not required to be made after the circumstances that made the act voidable cease to exist:\n",
      "(i) if a legal representative or a curator or assistant of a person with qualified legal capacity ratifies the act; or\n",
      "(ii) if a person with qualified legal capacity (excluding an adult ward) makes the ratification with the consent of a legal representative, curator or assistant.\n",
      "Article 126\n",
      "The right to rescind an act is extinguished by the operation of the prescription if it is not exercised within five years from the time when it becomes possible to ratify the act. The same applies if 20 years have passed from the time of the act.\n",
      "Question: The period of the extinctive prescription of the right to rescind about the act performed by an adult ward commences from the time of becoming a person with capacity to act. True or False?\n",
      "Answer: True or False\n",
      "===================================\n"
     ]
    },
    {
     "name": "stderr",
     "output_type": "stream",
     "text": [
      "  5%|████▋                                                                                                    | 5/111 [00:46<13:38,  7.72s/it]"
     ]
    },
    {
     "name": "stdout",
     "output_type": "stream",
     "text": [
      "let's think step by step answer: the period of the extinctive prescription of the right to rescind about the act performed by an adult ward commences from the time when it becomes possible to ratify the act. so the answer is false\n",
      "===================================\n",
      "Predict:  N  Label:  N\n",
      "Article 103\n",
      "An agent who has no specifically defined authority has the authority to perform the following acts only:\n",
      "(i) acts of preservation; and\n",
      "(ii) acts with the purpose of using or improving a thing or right that is the subject matter of the agency, to the extent that this does not change the nature of that thing or right.\n",
      "Question: An agent who has no specified authority shall have the authority only to do the acts of preservation. True or False? Let's think step by step \n",
      "Answer: The agent has the authority to perform the following acts only: (i) acts of preservation; and (ii) acts with the purpose of using or improving a thing or right that is the subject matter of the agency, to the extent that this does not change the nature of that thing or right. So the answer is False\n",
      "\n",
      "Article 28\n",
      "If an administrator needs to perform an act exceeding the authority provided for in Article 103, the administrator may perform that act after obtaining the permission of the family court. The same applies if it is unclear whether the absentee is dead or alive and the administrator needs to perform an act exceeding the authority established by the absentee.\n",
      "Article 103\n",
      "An agent who has no specifically defined authority has the authority to perform the following acts only:\n",
      "(i) acts of preservation; and\n",
      "(ii) acts with the purpose of using or improving a thing or right that is the subject matter of the agency, to the extent that this does not change the nature of that thing or right.\n",
      "Question: The family court appointed B as the administrator of the property of absentee A, as A went missing without appointing the one. In cases where A owns land X, B needs to obtains the permission of a family court in order to sell Land X as an agent of A. True or False? Let's think step by step \n",
      "Answer: The family court appointed B as the administrator of the property of absentee A, as A went missing without appointing the one. So the answer is True\n",
      "\n",
      "Article 28\n",
      "If an administrator needs to perform an act exceeding the authority provided for in Article 103, the administrator may perform that act after obtaining the permission of the family court. The same applies if it is unclear whether the absentee is dead or alive and the administrator needs to perform an act exceeding the authority established by the absentee.\n",
      "Article 103\n",
      "An agent who has no specifically defined authority has the authority to perform the following acts only:\n",
      "(i) acts of preservation; and\n",
      "(ii) acts with the purpose of using or improving a thing or right that is the subject matter of the agency, to the extent that this does not change the nature of that thing or right.\n",
      "Question: The family court appointed B as the administrator of the property of absentee A, as A went missing without appointing the one. In cases where A has the debt obligation which is due against E, B doesn't need to obtain the permission of a family court when paying it to E for the benefit of A. True or False? Let's think step by step \n",
      "Answer: The debt obligation which is due against E is not an act exceeding the authority provided for in Article 103. So the answer is True\n",
      "\n",
      "Article 28\n",
      "If an administrator needs to perform an act exceeding the authority provided for in Article 103, the administrator may perform that act after obtaining the permission of the family court. The same applies if it is unclear whether the absentee is dead or alive and the administrator needs to perform an act exceeding the authority established by the absentee.\n",
      "Article 103\n",
      "An agent who has no specifically defined authority has the authority to perform the following acts only:\n",
      "(i) acts of preservation; and\n",
      "(ii) acts with the purpose of using or improving a thing or right that is the subject matter of the agency, to the extent that this does not change the nature of that thing or right.\n",
      "Question: The family court appointed B as the administrator of the property of absentee A, as A went missing without appointing the one. In cases where A owns land X, B needs to obtains the permission of a family court in order to sell Land X as an agent of A. True or False?\n",
      "Answer: True or False\n",
      "===================================\n"
     ]
    },
    {
     "name": "stderr",
     "output_type": "stream",
     "text": [
      "  5%|█████▋                                                                                                   | 6/111 [00:52<12:28,  7.13s/it]"
     ]
    },
    {
     "name": "stdout",
     "output_type": "stream",
     "text": [
      "let's think step by step answer: the family court appointed b as the administrator of the property of absentee a, as a went missing without appointing the one. so the answer is true\n",
      "===================================\n",
      "Predict:  Y  Label:  Y\n"
     ]
    },
    {
     "name": "stderr",
     "output_type": "stream",
     "text": [
      "  6%|██████▌                                                                                                  | 7/111 [00:59<11:45,  6.78s/it]"
     ]
    },
    {
     "name": "stdout",
     "output_type": "stream",
     "text": [
      "let's think step by step answer: the family court appointed b as the administrator of the property of absentee a, as a went missing without appointing the one. so the answer is true\n",
      "===================================\n",
      "Predict:  Y  Label:  Y\n"
     ]
    },
    {
     "name": "stderr",
     "output_type": "stream",
     "text": [
      "  7%|███████▌                                                                                                 | 8/111 [01:04<10:41,  6.23s/it]"
     ]
    },
    {
     "name": "stdout",
     "output_type": "stream",
     "text": [
      "let's think step by step answer: the debt obligation which is due against e is not an act exceeding the authority provided for in article 103. so the answer is true\n",
      "===================================\n",
      "Predict:  Y  Label:  Y\n"
     ]
    },
    {
     "name": "stderr",
     "output_type": "stream",
     "text": [
      "  8%|████████▌                                                                                                | 9/111 [01:10<10:25,  6.13s/it]"
     ]
    },
    {
     "name": "stdout",
     "output_type": "stream",
     "text": [
      "let's think step by step answer: the family court appointed b as the administrator of the property of absentee a, as a went missing without appointing the one. so the answer is true\n",
      "===================================\n",
      "Predict:  Y  Label:  N\n"
     ]
    },
    {
     "name": "stderr",
     "output_type": "stream",
     "text": [
      "  9%|█████████▎                                                                                              | 10/111 [01:15<10:11,  6.06s/it]"
     ]
    },
    {
     "name": "stdout",
     "output_type": "stream",
     "text": [
      "let's think step by step answer: the family court appointed b as the administrator of the property of absentee a, as a went missing without appointing the one. so the answer is true\n",
      "===================================\n",
      "Predict:  Y  Label:  N\n"
     ]
    },
    {
     "name": "stderr",
     "output_type": "stream",
     "text": [
      " 10%|██████████▎                                                                                             | 11/111 [01:28<13:25,  8.06s/it]"
     ]
    },
    {
     "name": "stdout",
     "output_type": "stream",
     "text": [
      "let's think step by step article 100 a manifestation of intention that an agent makes without having indicated that they will be acting on behalf of the principal is deemed to be one that the agent has made on their own account;provided, however, that if the other party knew or could have known that the agent was acting on behalf of the principal, the provisions of paragraph (1) of the preceding article apply mutatis mutandis. so the answer is false\n",
      "===================================\n",
      "Predict:  N  Label:  N\n"
     ]
    },
    {
     "name": "stderr",
     "output_type": "stream",
     "text": [
      " 11%|███████████▏                                                                                            | 12/111 [01:34<12:04,  7.31s/it]"
     ]
    },
    {
     "name": "stdout",
     "output_type": "stream",
     "text": [
      "let's think step by step answer: a obtains the permission from b and c in advance, a will conclude the contract between b and c as the agent of both. so the answer is true\n",
      "===================================\n",
      "Predict:  Y  Label:  Y\n"
     ]
    },
    {
     "name": "stderr",
     "output_type": "stream",
     "text": [
      " 12%|████████████▏                                                                                           | 13/111 [01:43<12:45,  7.81s/it]"
     ]
    },
    {
     "name": "stdout",
     "output_type": "stream",
     "text": [
      "let's think step by step answer: article 106 (1) a subagent represents the principal with respect to acts within the scope of the authority thereof. (2) a subagent has the same rights and obligations as an agent in relation to the principal and third parties within the scope of that subagent's authority. so the answer is true\n",
      "===================================\n",
      "Predict:  Y  Label:  Y\n"
     ]
    },
    {
     "name": "stderr",
     "output_type": "stream",
     "text": [
      " 13%|█████████████                                                                                           | 14/111 [02:03<18:39, 11.54s/it]"
     ]
    },
    {
     "name": "stdout",
     "output_type": "stream",
     "text": [
      "let's think step by step answer: (2) the provisions of the preceding paragraph do not apply in the following cases: (i) if the counterparty knew that the person who concluded the contract as an agent of the other person had no authority to represent; (ii) if the counterparty was negligent in not knowing that the person who concluded the contract as an agent of the other person had no authority to represent;provided, however, that this does not apply if the person who concluded a contract as an agent of the other person knew themselves to have no authority to represent; or (iii) if the legal capacity to act of the person who concluded the contract as an agent of the other person was subject to restrictions. so the answer is false\n",
      "===================================\n",
      "Predict:  N  Label:  N\n"
     ]
    },
    {
     "name": "stderr",
     "output_type": "stream",
     "text": [
      " 14%|██████████████                                                                                          | 15/111 [02:11<17:04, 10.67s/it]"
     ]
    },
    {
     "name": "stdout",
     "output_type": "stream",
     "text": [
      "let's think step by step answer: article 129 while it is uncertain whether or not a condition will be fulfilled, the rights and obligations of the party concerned may be disposed of, inherited or preserved, or a security may be provided therefor, in accordance with the general provisions. so the answer is true\n",
      "===================================\n",
      "Predict:  Y  Label:  Y\n"
     ]
    },
    {
     "name": "stderr",
     "output_type": "stream",
     "text": [
      " 14%|██████████████▉                                                                                         | 16/111 [02:15<13:31,  8.54s/it]"
     ]
    },
    {
     "name": "stdout",
     "output_type": "stream",
     "text": [
      "let's think step by step answer: the condition subsequent is not a condition precedent. so the answer is false\n",
      "===================================\n",
      "Predict:  N  Label:  N\n"
     ]
    },
    {
     "name": "stderr",
     "output_type": "stream",
     "text": [
      " 15%|███████████████▉                                                                                        | 17/111 [02:23<13:03,  8.33s/it]"
     ]
    },
    {
     "name": "stdout",
     "output_type": "stream",
     "text": [
      "let's think step by step answer: article 130 (1) if a party that would suffer a detriment as a result of the fulfillment of a condition intentionally prevents the fulfillment of that condition, the counterparty may deem that the condition has been fulfilled. so the answer is true\n",
      "===================================\n",
      "Predict:  Y  Label:  Y\n"
     ]
    },
    {
     "name": "stderr",
     "output_type": "stream",
     "text": [
      " 16%|████████████████▊                                                                                       | 18/111 [02:29<11:47,  7.60s/it]"
     ]
    },
    {
     "name": "stdout",
     "output_type": "stream",
     "text": [
      "let's think step by step answer: article 134 a juridical act subject to a condition precedent is void if the condition is dependent only upon the intention of the obligor. so the answer is true\n",
      "===================================\n",
      "Predict:  Y  Label:  N\n"
     ]
    },
    {
     "name": "stderr",
     "output_type": "stream",
     "text": [
      " 17%|█████████████████▊                                                                                      | 19/111 [02:35<10:50,  7.07s/it]"
     ]
    },
    {
     "name": "stdout",
     "output_type": "stream",
     "text": [
      "let's think step by step answer: the person who possesses the property of another for 20 years peacefully and openly with the intention to own it acquires ownership thereof. so the answer is false\n",
      "===================================\n",
      "Predict:  N  Label:  N\n"
     ]
    },
    {
     "name": "stderr",
     "output_type": "stream",
     "text": [
      " 18%|██████████████████▋                                                                                     | 20/111 [02:39<09:34,  6.31s/it]"
     ]
    },
    {
     "name": "stdout",
     "output_type": "stream",
     "text": [
      "let's think step by step answer: the first possessor shall judge whether or not the person is in good faith and without negligence. so the answer is true\n",
      "===================================\n",
      "Predict:  Y  Label:  Y\n"
     ]
    },
    {
     "name": "stderr",
     "output_type": "stream",
     "text": [
      " 19%|███████████████████▋                                                                                    | 21/111 [02:49<11:13,  7.48s/it]"
     ]
    },
    {
     "name": "stdout",
     "output_type": "stream",
     "text": [
      "let's think step by step answer: article 177 acquisitions of, losses of and changes in real rights on immovables may not be duly asserted against any third parties, unless the same are registered pursuant to the applicable provisions of the real property registration act (act no. 123 of 2004) and other laws regarding registration. so the answer is false\n",
      "===================================\n",
      "Predict:  N  Label:  Y\n"
     ]
    },
    {
     "name": "stderr",
     "output_type": "stream",
     "text": [
      " 20%|████████████████████▌                                                                                   | 22/111 [02:59<12:18,  8.29s/it]"
     ]
    },
    {
     "name": "stdout",
     "output_type": "stream",
     "text": [
      "let's think step by step answer: article 177 acquisitions of, losses of and changes in real rights on immovables may not be duly asserted against any third parties, unless the same are registered pursuant to the applicable provisions of the real property registration act (act no. 123 of 2004) and other laws regarding registration. so the answer is false\n",
      "===================================\n",
      "Predict:  N  Label:  N\n"
     ]
    },
    {
     "name": "stderr",
     "output_type": "stream",
     "text": [
      " 21%|█████████████████████▌                                                                                  | 23/111 [03:03<10:08,  6.91s/it]"
     ]
    },
    {
     "name": "stdout",
     "output_type": "stream",
     "text": [
      "let's think step by step answer: d possesses x in good faith and without negligence. so the answer is true\n",
      "===================================\n",
      "Predict:  Y  Label:  N\n"
     ]
    },
    {
     "name": "stderr",
     "output_type": "stream",
     "text": [
      " 22%|██████████████████████▍                                                                                 | 24/111 [03:12<10:52,  7.50s/it]"
     ]
    },
    {
     "name": "stdout",
     "output_type": "stream",
     "text": [
      "let's think step by step answer: a person that commences the possession of movables peacefully and openly by a transactional act acquires the rights that are exercised with respect to the movables immediately if the person possesses it in good faith and without negligence. so the answer is true\n",
      "===================================\n",
      "Predict:  Y  Label:  Y\n"
     ]
    },
    {
     "name": "stderr",
     "output_type": "stream",
     "text": [
      " 23%|███████████████████████▍                                                                                | 25/111 [03:16<09:05,  6.34s/it]"
     ]
    },
    {
     "name": "stdout",
     "output_type": "stream",
     "text": [
      "let's think step by step answer: f bought x in good faith and without negligence. so the answer is true\n",
      "===================================\n",
      "Predict:  Y  Label:  Y\n"
     ]
    },
    {
     "name": "stderr",
     "output_type": "stream",
     "text": [
      " 23%|████████████████████████▎                                                                               | 26/111 [03:19<07:48,  5.51s/it]"
     ]
    },
    {
     "name": "stdout",
     "output_type": "stream",
     "text": [
      "let's think step by step answer: a allowed b to retain movable x. so the answer is true\n",
      "===================================\n",
      "Predict:  Y  Label:  Y\n"
     ]
    },
    {
     "name": "stderr",
     "output_type": "stream",
     "text": [
      " 24%|█████████████████████████▎                                                                              | 27/111 [03:28<09:05,  6.49s/it]"
     ]
    },
    {
     "name": "stdout",
     "output_type": "stream",
     "text": [
      "let's think step by step article 242 the owner of immovables acquires ownership of a thing that has been attached thereto as its appurtenance;provided, however, that the rights of the other person that attached that thing by virtue of a title are not prejudiced. so the answer is true\n",
      "===================================\n",
      "Predict:  Y  Label:  Y\n"
     ]
    },
    {
     "name": "stderr",
     "output_type": "stream",
     "text": [
      " 25%|██████████████████████████▏                                                                             | 28/111 [03:40<11:22,  8.22s/it]"
     ]
    },
    {
     "name": "stdout",
     "output_type": "stream",
     "text": [
      "let's think step by step answer: article 246 (1) if a person (hereinafter in this article referred to as \"processor\") adds labor to another person's movables, the ownership of the processed thing belongs to the owner of the material; provided, however, that if the value derived from the work significantly exceeds the value of the material, the processor acquires ownership of the processed thing. so the answer is true\n",
      "===================================\n",
      "Predict:  Y  Label:  Y\n"
     ]
    },
    {
     "name": "stderr",
     "output_type": "stream",
     "text": [
      " 26%|███████████████████████████▏                                                                            | 29/111 [03:45<09:58,  7.29s/it]"
     ]
    },
    {
     "name": "stdout",
     "output_type": "stream",
     "text": [
      "let's think step by step answer: a may pass to the public roads only through the lands owned by another person that participated in the partition. so the answer is false\n",
      "===================================\n",
      "Predict:  N  Label:  N\n"
     ]
    },
    {
     "name": "stderr",
     "output_type": "stream",
     "text": [
      " 27%|████████████████████████████                                                                            | 30/111 [03:57<11:30,  8.52s/it]"
     ]
    },
    {
     "name": "stdout",
     "output_type": "stream",
     "text": [
      "let's think step by step answer: article 216 if a land suffers or is likely to suffer damage due to destruction or blockage of a structure installed on other land to store, discharge or draw water, the owner of that land may have the owner of that other land repair the structure or remove the impediments, or, if necessary, have the same carry out preventive construction work. so the answer is true\n",
      "===================================\n",
      "Predict:  Y  Label:  Y\n"
     ]
    },
    {
     "name": "stderr",
     "output_type": "stream",
     "text": [
      " 28%|█████████████████████████████                                                                           | 31/111 [04:01<09:44,  7.31s/it]"
     ]
    },
    {
     "name": "stdout",
     "output_type": "stream",
     "text": [
      "let's think step by step answer: the landowner may have the owner of that tree or bamboo sever that branch. so the answer is false\n",
      "===================================\n",
      "Predict:  N  Label:  N\n"
     ]
    },
    {
     "name": "stderr",
     "output_type": "stream",
     "text": [
      " 29%|█████████████████████████████▉                                                                          | 32/111 [04:07<09:10,  6.97s/it]"
     ]
    },
    {
     "name": "stdout",
     "output_type": "stream",
     "text": [
      "let's think step by step answer: article 229 boundary markers, fences, walls, channels and moats installed on boundary lines are presumed to be co-owned by the neighbors. so the answer is true\n",
      "===================================\n",
      "Predict:  Y  Label:  Y\n"
     ]
    },
    {
     "name": "stderr",
     "output_type": "stream",
     "text": [
      " 30%|██████████████████████████████▉                                                                         | 33/111 [04:12<08:12,  6.31s/it]"
     ]
    },
    {
     "name": "stdout",
     "output_type": "stream",
     "text": [
      "let's think step by step answer: article 223 a landowner may install boundary markers, sharing the expenses with the owner of the neighboring land. so the answer is true\n",
      "===================================\n",
      "Predict:  Y  Label:  Y\n"
     ]
    },
    {
     "name": "stderr",
     "output_type": "stream",
     "text": [
      " 31%|███████████████████████████████▊                                                                        | 34/111 [04:17<07:34,  5.90s/it]"
     ]
    },
    {
     "name": "stdout",
     "output_type": "stream",
     "text": [
      "let's think step by step answer: a may use the entire property in co-ownership in proportion to each co-owner's interest. so the answer is false\n",
      "===================================\n",
      "Predict:  N  Label:  N\n"
     ]
    },
    {
     "name": "stderr",
     "output_type": "stream",
     "text": [
      " 32%|████████████████████████████████▊                                                                       | 35/111 [04:24<07:47,  6.15s/it]"
     ]
    },
    {
     "name": "stdout",
     "output_type": "stream",
     "text": [
      "let's think step by step answer: a claim that one of the co-owners holds against other co-owners with respect to the property in co-ownership may be exercised against their specific successors. so the answer is true\n",
      "===================================\n",
      "Predict:  Y  Label:  Y\n"
     ]
    },
    {
     "name": "stderr",
     "output_type": "stream",
     "text": [
      " 32%|█████████████████████████████████▋                                                                      | 36/111 [04:34<09:05,  7.27s/it]"
     ]
    },
    {
     "name": "stdout",
     "output_type": "stream",
     "text": [
      "let's think step by step answer: the holder of the right of retention may not use, lease or provide as a security the thing retained unless that holder obtains the consent of the obligor;provided, however, that this does not apply to uses necessary for the preservation of that thing. so the answer is false\n",
      "===================================\n",
      "Predict:  N  Label:  N\n"
     ]
    },
    {
     "name": "stderr",
     "output_type": "stream",
     "text": [
      " 33%|██████████████████████████████████▋                                                                     | 37/111 [04:41<08:50,  7.17s/it]"
     ]
    },
    {
     "name": "stdout",
     "output_type": "stream",
     "text": [
      "let's think step by step answer: article 337 in order to preserve the effectiveness of statutory liens for preservation of immovables, registration must be carried out immediately after the completion of the act of preservation. so the answer is true\n",
      "===================================\n",
      "Predict:  Y  Label:  Y\n"
     ]
    },
    {
     "name": "stderr",
     "output_type": "stream",
     "text": [
      " 34%|███████████████████████████████████▌                                                                    | 38/111 [04:46<07:56,  6.53s/it]"
     ]
    },
    {
     "name": "stdout",
     "output_type": "stream",
     "text": [
      "let's think step by step answer: the provisions of the preceding three articles do not apply if the acts establishing pledges provide otherwise. so the answer is true\n",
      "===================================\n",
      "Predict:  Y  Label:  Y\n"
     ]
    },
    {
     "name": "stderr",
     "output_type": "stream",
     "text": [
      " 35%|████████████████████████████████████▌                                                                   | 39/111 [04:47<05:55,  4.93s/it]"
     ]
    },
    {
     "name": "stdout",
     "output_type": "stream",
     "text": [
      "so the answer is true\n",
      "===================================\n",
      "Predict:  Y  Label:  Y\n"
     ]
    },
    {
     "name": "stderr",
     "output_type": "stream",
     "text": [
      " 36%|█████████████████████████████████████▍                                                                  | 40/111 [04:51<05:36,  4.74s/it]"
     ]
    },
    {
     "name": "stdout",
     "output_type": "stream",
     "text": [
      "let's think step by step answer: the claim must have fallen due before the possessor may retain the thing. so the answer is false\n",
      "===================================\n",
      "Predict:  N  Label:  N\n"
     ]
    },
    {
     "name": "stderr",
     "output_type": "stream",
     "text": [
      " 37%|██████████████████████████████████████▍                                                                 | 41/111 [04:56<05:41,  4.88s/it]"
     ]
    },
    {
     "name": "stdout",
     "output_type": "stream",
     "text": [
      "let's think step by step article 301 an obligor may demand that a right of retention be terminated by providing a reasonable security. so the answer is true\n",
      "===================================\n",
      "Predict:  Y  Label:  Y\n"
     ]
    },
    {
     "name": "stderr",
     "output_type": "stream",
     "text": [
      " 38%|███████████████████████████████████████▎                                                                | 42/111 [05:06<07:12,  6.27s/it]"
     ]
    },
    {
     "name": "stdout",
     "output_type": "stream",
     "text": [
      "let's think step by step answer: a sold c building x he/she owns and registered with respect to it after delivering building x to b, b may may retain building x to secure a claim for damages due to default if c demanded vacation of building x from b. so the answer is false\n",
      "===================================\n",
      "Predict:  N  Label:  N\n"
     ]
    },
    {
     "name": "stderr",
     "output_type": "stream",
     "text": [
      " 39%|████████████████████████████████████████▎                                                               | 43/111 [05:12<06:58,  6.16s/it]"
     ]
    },
    {
     "name": "stdout",
     "output_type": "stream",
     "text": [
      "let's think step by step answer: a pledgee of claim may collect the claim directly, when the subject matter of the pledge of claim is not a monetary claim. so the answer is false\n",
      "===================================\n",
      "Predict:  N  Label:  N\n"
     ]
    },
    {
     "name": "stderr",
     "output_type": "stream",
     "text": [
      " 40%|█████████████████████████████████████████▏                                                              | 44/111 [05:19<07:17,  6.54s/it]"
     ]
    },
    {
     "name": "stdout",
     "output_type": "stream",
     "text": [
      "let's think step by step answer: article 297 (1) a holder of a right of retention may collect fruits derived from the thing retained, and appropriate the same to the satisfaction of that holder's own claim before other obligees. so the answer is true\n",
      "===================================\n",
      "Predict:  Y  Label:  Y\n"
     ]
    },
    {
     "name": "stderr",
     "output_type": "stream",
     "text": [
      " 41%|██████████████████████████████████████████▏                                                             | 45/111 [05:25<07:01,  6.39s/it]"
     ]
    },
    {
     "name": "stdout",
     "output_type": "stream",
     "text": [
      "let's think step by step answer: the pledgee may subpledge the thing pledged within the duration of the pledgee's right, upon the pledgee's own responsibility. so the answer is false\n",
      "===================================\n",
      "Predict:  N  Label:  N\n"
     ]
    },
    {
     "name": "stderr",
     "output_type": "stream",
     "text": [
      " 41%|███████████████████████████████████████████                                                             | 46/111 [05:29<05:59,  5.52s/it]"
     ]
    },
    {
     "name": "stdout",
     "output_type": "stream",
     "text": [
      "let's think step by step answer: the act establishing the pledge provides otherwise. so the answer is false\n",
      "===================================\n",
      "Predict:  N  Label:  N\n"
     ]
    },
    {
     "name": "stderr",
     "output_type": "stream",
     "text": [
      " 42%|████████████████████████████████████████████                                                            | 47/111 [05:33<05:21,  5.03s/it]"
     ]
    },
    {
     "name": "stdout",
     "output_type": "stream",
     "text": [
      "let's think step by step answer: a pledge may have a property right for its subject matter. so the answer is true\n",
      "===================================\n",
      "Predict:  Y  Label:  Y\n"
     ]
    },
    {
     "name": "stderr",
     "output_type": "stream",
     "text": [
      " 43%|████████████████████████████████████████████▉                                                           | 48/111 [05:45<07:33,  7.20s/it]"
     ]
    },
    {
     "name": "stdout",
     "output_type": "stream",
     "text": [
      "let's think step by step answer: a statutory lien may also be exercised against things including monies that the obligor is to receive as a result of the sale, lease or loss of, or damage to, the subject matter of the statutory lien;provided, however, that the holder of the statutory lien must attach the same before the payment or delivery of the monies or other thing. so the answer is false\n",
      "===================================\n",
      "Predict:  N  Label:  Y\n"
     ]
    },
    {
     "name": "stderr",
     "output_type": "stream",
     "text": [
      " 44%|█████████████████████████████████████████████▉                                                          | 49/111 [05:54<07:55,  7.67s/it]"
     ]
    },
    {
     "name": "stdout",
     "output_type": "stream",
     "text": [
      "let's think step by step answer: article 244 if the distinction of principal and accessory cannot be made between the movables united by accession, the owner of each movable property co-owns the composite thing in proportion to the respective price current at the time of the accession. so the answer is true\n",
      "===================================\n",
      "Predict:  Y  Label:  Y\n"
     ]
    },
    {
     "name": "stderr",
     "output_type": "stream",
     "text": [
      " 45%|██████████████████████████████████████████████▊                                                         | 50/111 [05:57<06:34,  6.47s/it]"
     ]
    },
    {
     "name": "stdout",
     "output_type": "stream",
     "text": [
      "let's think step by step answer: the mortgage may be exercised against the right of lease. so the answer is false\n",
      "===================================\n",
      "Predict:  N  Label:  N\n"
     ]
    },
    {
     "name": "stderr",
     "output_type": "stream",
     "text": [
      " 46%|███████████████████████████████████████████████▊                                                        | 51/111 [06:06<06:57,  6.96s/it]"
     ]
    },
    {
     "name": "stdout",
     "output_type": "stream",
     "text": [
      "let's think step by step answer: a mortgagee has the right to have the mortgagee's claim satisfied prior to other obligees out of the immovables that the obligor or a third party provided to secure the obligation without transferring possession. so the answer is false\n",
      "===================================\n",
      "Predict:  N  Label:  N\n"
     ]
    },
    {
     "name": "stderr",
     "output_type": "stream",
     "text": [
      " 47%|████████████████████████████████████████████████▋                                                       | 52/111 [06:18<08:27,  8.61s/it]"
     ]
    },
    {
     "name": "stdout",
     "output_type": "stream",
     "text": [
      "let's think step by step answer: article 369 (1) a mortgagee has the right to have the mortgagee's claim satisfied prior to other obligees out of the immovables that the obligor or a third party provided to secure the obligation without transferring possession. (2) superficies and farming rights may be the subject matter of a mortgage.in this case, the provisions of this chapter apply mutatis mutandis. so the answer is true\n",
      "===================================\n",
      "Predict:  Y  Label:  Y\n"
     ]
    },
    {
     "name": "stderr",
     "output_type": "stream",
     "text": [
      " 48%|█████████████████████████████████████████████████▋                                                      | 53/111 [06:23<07:14,  7.49s/it]"
     ]
    },
    {
     "name": "stdout",
     "output_type": "stream",
     "text": [
      "let's think step by step answer: the mortgage shall not extend to the rent without a default with respect to a claim secured by the mortgage. so the answer is false\n",
      "===================================\n",
      "Predict:  N  Label:  N\n"
     ]
    },
    {
     "name": "stderr",
     "output_type": "stream",
     "text": [
      " 49%|██████████████████████████████████████████████████▌                                                     | 54/111 [06:38<09:13,  9.72s/it]"
     ]
    },
    {
     "name": "stdout",
     "output_type": "stream",
     "text": [
      "let's think step by step answer: a mortgage extends to the things that form an integral part of the immovables that are the subject matter of the mortgage (hereinafter referred to as \"mortgaged immovables\") except for buildings on the mortgaged land; provided, however, that this does not apply if the act establishing the mortgage provides otherwise or the rescission of fraudulent act may be demanded as prescribed in article 424, paragraph (3) with regard to the act of the obligor. so the answer is true\n",
      "===================================\n",
      "Predict:  Y  Label:  Y\n"
     ]
    },
    {
     "name": "stderr",
     "output_type": "stream",
     "text": [
      " 50%|███████████████████████████████████████████████████▌                                                    | 55/111 [06:53<10:38, 11.40s/it]"
     ]
    },
    {
     "name": "stdout",
     "output_type": "stream",
     "text": [
      "let's think step by step answer: the mortgage extends to the things that form an integral part of the immovables that are the subject matter of the mortgage (hereinafter referred to as \"mortgaged immovables\") except for buildings on the mortgaged land; provided, however, that this does not apply if the act establishing the mortgage provides otherwise or the rescission of fraudulent act may be demanded as prescribed in article 424, paragraph (3) with regard to the act of the obligor. so the answer is false\n",
      "===================================\n",
      "Predict:  N  Label:  N\n"
     ]
    },
    {
     "name": "stderr",
     "output_type": "stream",
     "text": [
      " 50%|████████████████████████████████████████████████████▍                                                   | 56/111 [06:57<08:27,  9.23s/it]"
     ]
    },
    {
     "name": "stdout",
     "output_type": "stream",
     "text": [
      "let's think step by step answer: the mortgage does not extend to buildings on the mortgaged land. so the answer is false\n",
      "===================================\n",
      "Predict:  N  Label:  N\n"
     ]
    },
    {
     "name": "stderr",
     "output_type": "stream",
     "text": [
      " 51%|█████████████████████████████████████████████████████▍                                                  | 57/111 [07:13<09:56, 11.05s/it]"
     ]
    },
    {
     "name": "stdout",
     "output_type": "stream",
     "text": [
      "let's think step by step answer: a mortgage extends to the things that form an integral part of the immovables that are the subject matter of the mortgage (hereinafter referred to as \"mortgaged immovables\") except for buildings on the mortgaged land; provided, however, that this does not apply if the act establishing the mortgage provides otherwise or the rescission of fraudulent act may be demanded as prescribed in article 424, paragraph (3) with regard to the act of the obligor. so the answer is true\n",
      "===================================\n",
      "Predict:  Y  Label:  Y\n"
     ]
    },
    {
     "name": "stderr",
     "output_type": "stream",
     "text": [
      " 52%|██████████████████████████████████████████████████████▎                                                 | 58/111 [07:19<08:35,  9.72s/it]"
     ]
    },
    {
     "name": "stdout",
     "output_type": "stream",
     "text": [
      "let's think step by step answer: the mortgagor may assert a right of retention to secure settlement claims against the mortgagee when the third party claims the delivery of the mortgaged real properties. so the answer is false\n",
      "===================================\n",
      "Predict:  N  Label:  N\n"
     ]
    },
    {
     "name": "stderr",
     "output_type": "stream",
     "text": [
      " 53%|███████████████████████████████████████████████████████▎                                                | 59/111 [07:24<07:13,  8.33s/it]"
     ]
    },
    {
     "name": "stdout",
     "output_type": "stream",
     "text": [
      "let's think step by step answer: no contract of guarantee shall be effective unless it is made in writing or concluded by electromagnetic record which records the contents thereof. so the answer is true\n",
      "===================================\n",
      "Predict:  Y  Label:  Y\n"
     ]
    },
    {
     "name": "stderr",
     "output_type": "stream",
     "text": [
      " 54%|████████████████████████████████████████████████████████▏                                               | 60/111 [07:30<06:20,  7.46s/it]"
     ]
    },
    {
     "name": "stdout",
     "output_type": "stream",
     "text": [
      "let's think step by step answer: the provisions of the preceding two paragraphs do not apply if the obligee has designated the guarantor. so the answer is false\n",
      "===================================\n",
      "Predict:  N  Label:  N\n"
     ]
    },
    {
     "name": "stderr",
     "output_type": "stream",
     "text": [
      " 55%|█████████████████████████████████████████████████████████▏                                              | 61/111 [08:01<12:04, 14.50s/it]"
     ]
    },
    {
     "name": "stdout",
     "output_type": "stream",
     "text": [
      "let's think step by step answer: (1) if a contract for revolving guarantee by an individual under which the scope of the principal obligation includes an obligation to be borne as a result of loans or receiving a discount of a negotiable instrument (hereinafter referred to as a \"loan obligation\"; and this contract is hereinafter referred to as a \"contract for revolving guarantee by an individual for loans\") provides for the date on which the principal of the principal obligation should be crystallized (hereinafter referred to as the \"principal crystallization date\"), and it also provides that the principal crystallization date is to fall on or after the day on which five years have passed after the day of the conclusion of the contract for the revolving guarantee by an individual for loans, the provisions concerning the principal crystallization date do not become effective. (2) if a contract for revolving guarantee by an individual for loans does not provide for a principal crystallization date (or if the provisions concerning the principal crystallization date do not become effective pursuant to the provisions of the preceding paragraph), the principal\n",
      "===================================\n",
      "Predict:  N  Label:  N\n"
     ]
    },
    {
     "name": "stderr",
     "output_type": "stream",
     "text": [
      " 56%|██████████████████████████████████████████████████████████                                              | 62/111 [08:15<11:52, 14.54s/it]"
     ]
    },
    {
     "name": "stdout",
     "output_type": "stream",
     "text": [
      "let's think step by step answer: article 455 if after the guarantor makes a request or gives proof pursuant to the provisions of article 452 or article 453, the obligee fails to demand or to levy execution and becomes unable to obtain full performance from the principal obligor as a result of that, the guarantor is released from the obligation to the extent that the obligee would have received payment if the obligee had immediately demanded or levied execution. so the answer is true\n",
      "===================================\n",
      "Predict:  Y  Label:  Y\n"
     ]
    },
    {
     "name": "stderr",
     "output_type": "stream",
     "text": [
      " 57%|███████████████████████████████████████████████████████████                                             | 63/111 [08:46<15:31, 19.40s/it]"
     ]
    },
    {
     "name": "stdout",
     "output_type": "stream",
     "text": [
      "let's think step by step answer: article 468 (1) an obligor may duly assert against the assignee any event that has taken place with regard to the assignor by the time of completion of the perfection. (2) for the purpose of the application of the provisions of the preceding paragraph in the case referred to in article 466, paragraph (4), the phrase \"at the time of the completion of the perfection\" in that paragraph is deemed to be replaced with \"at the time when a reasonable period of time referred to in article 466, paragraph (4) has elapsed\"; and to apply the provisions of that paragraph in the case referred to in article 466-3, the phrase \"at the time of the completion of the perfection\" in that paragraph is deemed to be replaced with \"at the time when the obligor receives a request from the assignee referred to in article 466-3 to make a deposit with an official depository pursuant to the provisions of that article\". so the answer is false\n",
      "===================================\n",
      "Predict:  N  Label:  Y\n"
     ]
    },
    {
     "name": "stderr",
     "output_type": "stream",
     "text": [
      " 58%|███████████████████████████████████████████████████████████▉                                            | 64/111 [08:55<12:47, 16.33s/it]"
     ]
    },
    {
     "name": "stdout",
     "output_type": "stream",
     "text": [
      "let's think step by step answer: the order of priority of the assignment of a claim and the attachment of the same claim shall follow the order of the time when the requirements for the assertion of the assignment against third parties expect the pobligor is met and the time when the attachment order is issued. so the answer is false\n",
      "===================================\n",
      "Predict:  N  Label:  N\n"
     ]
    },
    {
     "name": "stderr",
     "output_type": "stream",
     "text": [
      " 59%|████████████████████████████████████████████████████████████▉                                           | 65/111 [09:02<10:19, 13.47s/it]"
     ]
    },
    {
     "name": "stdout",
     "output_type": "stream",
     "text": [
      "let's think step by step answer: the obligee's claim is extinguished if an obligee manifests the intention to release an obligor from an obligation to that obligor. so the answer is false\n",
      "===================================\n",
      "Predict:  N  Label:  N\n"
     ]
    },
    {
     "name": "stderr",
     "output_type": "stream",
     "text": [
      " 59%|█████████████████████████████████████████████████████████████▊                                          | 66/111 [09:09<08:37, 11.51s/it]"
     ]
    },
    {
     "name": "stdout",
     "output_type": "stream",
     "text": [
      "let's think step by step answer: a person that has become a guarantor against the will of the principal obligor has the right to reimbursement only to the extent currently enriched. so the answer is true\n",
      "===================================\n",
      "Predict:  Y  Label:  Y\n"
     ]
    },
    {
     "name": "stderr",
     "output_type": "stream",
     "text": [
      " 60%|██████████████████████████████████████████████████████████████▊                                         | 67/111 [09:19<08:07, 11.07s/it]"
     ]
    },
    {
     "name": "stdout",
     "output_type": "stream",
     "text": [
      "let's think step by step answer: a third party that has no legitimate interest in performing an obligation may not perform the obligation against the will of the obligor;provided, however, that this does not apply if the obligee did not know that the performance is against the will of the obligor. so the answer is false\n",
      "===================================\n",
      "Predict:  N  Label:  N\n"
     ]
    },
    {
     "name": "stderr",
     "output_type": "stream",
     "text": [
      " 61%|███████████████████████████████████████████████████████████████▋                                        | 68/111 [09:29<07:40, 10.71s/it]"
     ]
    },
    {
     "name": "stdout",
     "output_type": "stream",
     "text": [
      "let's think step by step answer: the obligee(b) and a third party(c) may not replace the obligor(a) who contracts monetary debts with the obligee(b) to the third party(c) for by novation against the will of the obligor(a). so the answer is true\n",
      "===================================\n",
      "Predict:  Y  Label:  Y\n"
     ]
    },
    {
     "name": "stderr",
     "output_type": "stream",
     "text": [
      " 62%|████████████████████████████████████████████████████████████████▋                                       | 69/111 [09:39<07:23, 10.55s/it]"
     ]
    },
    {
     "name": "stdout",
     "output_type": "stream",
     "text": [
      "let's think step by step answer: the obligee(b) may perform the obligation which he/she contracts with a third party by assigning the claim which the obligor(a) contracts with the obligee(b) to the third party as a substitute against the will of the obligor(a). so the answer is false\n",
      "===================================\n",
      "Predict:  N  Label:  N\n"
     ]
    },
    {
     "name": "stderr",
     "output_type": "stream",
     "text": [
      " 63%|█████████████████████████████████████████████████████████████████▌                                      | 70/111 [09:44<06:01,  8.82s/it]"
     ]
    },
    {
     "name": "stdout",
     "output_type": "stream",
     "text": [
      "let's think step by step answer: the assignment of the credit of sale value is not a requirement for assertion of the assignment. so the answer is false\n",
      "===================================\n",
      "Predict:  N  Label:  N\n"
     ]
    },
    {
     "name": "stderr",
     "output_type": "stream",
     "text": [
      " 64%|██████████████████████████████████████████████████████████████████▌                                     | 71/111 [09:57<06:49, 10.23s/it]"
     ]
    },
    {
     "name": "stdout",
     "output_type": "stream",
     "text": [
      "let's think step by step answer: the tender of the performance must be made actually consistent with the main purport of the obligation;provided, however, that if the obligee refuses to accept that performance in advance or if any act is required on the part of the obligee with respect to the performance of the obligation, it is sufficient for the obligor to request the acceptance thereof by giving a notice that the tender of the performance has been prepared. so the answer is true\n",
      "===================================\n",
      "Predict:  Y  Label:  Y\n"
     ]
    }
   ],
   "source": [
    "predict(model, tokenizer, path_file, passage_embeddings, [\"riteval_R01_en\",\"riteval_R02_en\",\"riteval_R03_en\",\"riteval_R04_en\"], \"../output/newpromt_\")\n"
   ]
  },
  {
   "cell_type": "code",
   "execution_count": 75,
   "id": "d1218f1e-8a9c-4648-83c9-767ad1f7fcaa",
   "metadata": {},
   "outputs": [
    {
     "data": {
      "text/plain": [
       "[\"A must obtain the consent of the minor's legal representative to perform a juridical act;provided, however, that this does not apply to a juridical act for merely acquiring a right or being released from an obligation.\",\n",
       " 'A may freely dispose of property that the legal representative has permitted the minor to dispose of for a specified purpose, to an extent that falls within the scope of that purpose.',\n",
       " \"The family court may decide to commence a guardianship in respect of a person who constantly lacks the capacity to appreciate the person's own situation due to a mental disorder, at the request of the person in question, that person's spouse, that person's relative within the fourth degree of kinship, the person's guardian of a minor, the person's supervisor of a minor's guardian, the person's curator, the person's curator's supervisor, the person's assistant, the person's assistant's supervisor, or a public prosecutor.\",\n",
       " \"A must obtain the consent of the minor's legal representative to perform a juridical act;provided, however, that this does not apply to a juridical act for merely acquiring a right or being released from an obligation.\",\n",
       " 'The contract for sale is deemed to have been rescinded if the curator issues a definite answer of the ratification with the consent of the supervisor of the curator within such period.',\n",
       " 'A is a person under curatorship.',\n",
       " 'A has become a person with capacity and B issues a notice to A demanding that A give a definite answer on whether or not A will ratify the contract for sale.',\n",
       " 'A has become a person with capacity to act.',\n",
       " \"The provisions of the preceding paragraph also apply if it has been unclear whether a person who has entered a war zone, was aboard a vessel that has sunk, or was otherwise exposed to a danger likely to result in a person's death is dead or alive, for one year after the war has ended, the vessel sank, or such other danger has passed.\",\n",
       " 'Article 31 A person subject to a declaration of disappearance pursuant to the provisions of paragraph (1) of the preceding Article is deemed to have died when the period of time referred to in that paragraph ended, and a person subject to a declaration of disappearance pursuant to the provisions of paragraph (2) of that Article is deemed to have died when that danger had passed.',\n",
       " 'The adjudication of disappearance may be rescinded even after the person has died.',\n",
       " 'Article 94 (1) A false manifestation of intention that a person makes in collusion with another person is void.',\n",
       " '(1) A person who indicates to a third party that the person granted certain authority to represent to another person is liable for an act performed between that other person and that third party within the scope of the authority to represent;provided, however, that this does not apply if the third party knew or did not know due to negligence that the other person has not been granted the authority to represent.',\n",
       " 'The third party has reasonable grounds for believing that the agent has the authority as an agent.',\n",
       " 'The administrator of the inherited property is appointed, but the prescription shall not be completed until the applicable heir is identified.',\n",
       " 'The postponement of expiry of prescription period and the renewal of prescription period due to grounds such as a request for performance in relation to the principal obligor are also effective in relation to the guarantor.',\n",
       " 'Article 255 If one of co-owners waives interest or dies without an heir, the-waived interest belongs to the other co-owners.',\n",
       " 'The passage to the public roads is not necessary if the land is co-owned by A and B.',\n",
       " 'Article 225 (1) If two buildings are owned by different owners and there is an open lot between them, each owner may install a fence on the boundary, sharing the expenses with the other owner.',\n",
       " 'Article 243 If two or more movable properties with different owners can no longer be separated without damage due to accession, the ownership of the composite thing belongs to the owner of the principal movable property.',\n",
       " \"A has paid for B the expenses of management in proportion to B's share and has demanded B to perform the obligation of the reimbursement but B does not perform the obligation within one year, A may acquire B's share by paying reasonable compensation.\",\n",
       " 'A must bear the expenses of the installation and preservation of the structure in proportion to the benefit that person enjoys.',\n",
       " 'The special statutory lien has priority over the general statutory lien.',\n",
       " 'statutory liens for agricultural labor shall prevail over statutory liens for leases of immovable properties.',\n",
       " 'Statutory liens registered in accordance with the provisions of the preceding two Articles may be exercised prior to mortgages.',\n",
       " 'The order of priority follows the order set forth in the items of Article 325.',\n",
       " 'Article 332 If there are two or more holders of statutory liens with the same priority with respect to the same object, the holders of statutory liens are paid in proportion to the amounts of their claims.',\n",
       " 'The pledgee may have the third party obligor deposit with official depository that amount to be paid to the pledgee.',\n",
       " 'Article 520-2 Assignment of a negotiable instrument payable to order does not become effective unless the instrument is indorsed and delivered to the assignee.',\n",
       " 'Article 545 (2) In the case referred to in the main clause of the preceding paragraph, if any monies are to be refunded, interest must accrue from the time of the receipt of those monies.',\n",
       " 'A shall be liable for the default after that.',\n",
       " \"The obligee may not exercise the subrogor's right unless and until the obligee's claim becomes due; provided, however, that this does not apply to an act of preservation.\",\n",
       " 'Article 438 If novation takes place between one of the joint and several obligors and the obligee, the claim is extinguished for the benefit of all joint and several obligors.',\n",
       " 'Article 440 If there is a merger between one of the joint and several obligors and the obligee, the joint and several obligor is deemed to have performed the obligation.',\n",
       " 'The validity of the assignment of the claim is not impaired even if a party to a claim manifests the intention to prohibit or restrict the assignment of the claim.',\n",
       " 'Article 479 Except as provided in the preceding Article, any performance made to a person other than the person with right to performance is effective only to the extent that the obligee is enriched as a result thereof.',\n",
       " 'A may not recover the thing without effecting valid performance de novo.',\n",
       " 'Article 528 If the offeree has accepted the offer by adding a condition or making other modifications, it is deemed that the offeree has refused the offer and made a new offer.',\n",
       " 'Article 526 If an offeror dies, comes to be in a constant state wherein the offeror lacks mental capacity, or becomes subject to restrictions on legal capacity to act after issuing notice of the offer, and the offeror has manifested the intention not to make the offer effective should any of these facts occur, or the other party comes to know that any of these facts has occurred before issuing a notice of acceptance, that offer is not effective.',\n",
       " 'The contract shall be formed and become effective only if the notice of acceptance was dispatched within the period.',\n",
       " 'The offeror reserves the right to revoke.',\n",
       " 'The offeror reserves the right to revoke.',\n",
       " 'The gift ceases to be effective on the death of the donor or the donee.',\n",
       " 'Article 553 With respect to gifts with burden, beyond what is provided for in this Section, the provisions regarding bilateral contracts apply mutatis mutandis, to the extent those provisions are not inconsistent with the nature of gifts with burden.',\n",
       " 'The seller may allege that there was an agreement that the payment of purchase money would be made prior to the delivery of the subject matter and the procedure for registration of transfer of the ownership, as re-defense.',\n",
       " 'The mortgage must be registered on immovable property that is the subject matter of a sales contract.',\n",
       " 'The seller bears an obligation to acquire the right and transfer it to the buyer.',\n",
       " 'C may immediately cancel the contract without making the demand referred to in the preceding Article.',\n",
       " 'Article 633 Remuneration must be paid simultaneously with delivery of the subject matter of work performed;provided, however, that if no delivery of a thing is required, the provisions of Article 624, paragraph (1) apply mutatis mutandis.',\n",
       " 'Parties to a contract may freely decide the terms of the contract, subject to the restrictions prescribed by laws and regulations.',\n",
       " 'Article 659 A gratuitous bailee bears a duty to keep the bailed thing while exercising the same level of care that the bailee would exercise for their own property.',\n",
       " 'Article 661 The bailor must compensate the bailee for damage that occur due to the nature of or defects in the bailed things;provided, however, that this does not apply if the bailor did not, without negligence, know of such nature or defect, or the bailee knew of the same.',\n",
       " 'The depositary is not a bailee and the thing deposited is not a bailed thing.',\n",
       " 'The depositary may not return the deposited goods prior to the timing of the return unless there is a compelling reason to do so.',\n",
       " 'The timing of the return of the Thing deposited is specified in the contract.',\n",
       " \"The family court may decide to commence a guardianship in respect of a person who constantly lacks the capacity to appreciate the person's own situation due to a mental disorder, at the request of the person in question, that person's spouse, that person's relative within the fourth degree of kinship, the person's guardian of a minor, the person's supervisor of a minor's guardian, the person's curator, the person's curator's supervisor, the person's assistant, the person's assistant's supervisor, or a public prosecutor.\",\n",
       " 'The creditor of a partnership may exercise his/her rights against each partner.',\n",
       " 'Article 106 (1) A subagent represents the principal with respect to acts within the scope of the authority thereof.',\n",
       " \"Article 5 (1) A minor must obtain the consent of the minor's legal representative to perform a juridical act;provided, however, that this does not apply to a juridical act for merely acquiring a right or being released from an obligation.\",\n",
       " 'Article 9 A juridical act performed by an adult ward is voidable;provided, however, that this does not apply to the purchase of daily necessities or to any other act involved in day-to-day life.',\n",
       " \"The contract of guarantee is voidable if the person under curatorship performs it without obtaining the curator's consent.\",\n",
       " \"An act for which the person under assistance must obtain the assistant's consent is voidable if the person performs it without obtaining the assistance's consent or a permission that operates in lieu of it.\",\n",
       " 'The period of the extinctive prescription of the right to rescind about the act performed by an adult ward commences from the time when it becomes possible to ratify the act.',\n",
       " 'The family court appointed B as the administrator of the property of absentee A, as A went missing without appointing the one.',\n",
       " 'The family court appointed B as the administrator of the property of absentee A, as A went missing without appointing the one.',\n",
       " 'The debt obligation which is due against E is not an act exceeding the authority provided for in Article 103.',\n",
       " 'The administrator may perform that act after obtaining the permission of the family court.',\n",
       " 'The administrator needs to perform an act exceeding the authority provided for in Article 103, the administrator may perform that act after obtaining the permission of the family court.',\n",
       " 'The contract is deemed to be one that the agent has made on their own account;provided, however, that if the other party knew or could have known that the agent was acting on behalf of the principal, the provisions of paragraph (1) of the preceding Article apply mutatis mutandis.',\n",
       " 'A obtains the permission from B and C in advance, A will conclude the contract between B and C as the agent of both.',\n",
       " 'Article 106 (1) A subagent represents the principal with respect to acts within the scope of the authority thereof.',\n",
       " '(2) The provisions of the preceding paragraph do not apply in the following cases: (i) if the counterparty knew that the person who concluded the contract as an agent of the other person had no authority to represent; (ii) if the counterparty was negligent in not knowing that the person who concluded the contract as an agent of the other person had no authority to represent;provided, however, that this does not apply if the person who concluded a contract as an agent of the other person knew themselves to have no authority to represent; or (iii) if the legal capacity to act of the person who concluded the contract as an agent of the other person was subject to restrictions.',\n",
       " 'Article 129 While it is uncertain whether or not a condition will be fulfilled, the rights and obligations of the party concerned may be disposed of, inherited or preserved, or a security may be provided therefor, in accordance with the general provisions.',\n",
       " 'The condition subsequent is not a condition precedent.',\n",
       " 'Article 130 (1) If a party that would suffer a detriment as a result of the fulfillment of a condition intentionally prevents the fulfillment of that condition, the counterparty may deem that the condition has been fulfilled.',\n",
       " 'The condition precedent is void if the condition is dependent only upon the intention of the obligor.',\n",
       " 'The person who possesses the property of another for 20 years peacefully and openly with the intention to own it acquires ownership thereof.',\n",
       " 'The first possessor shall judge whether or not the person is in good faith and without negligence.',\n",
       " 'C may asserted against A about ownership of Land X for sales without special security.',\n",
       " \"B may not assert against D about ownership of Land X for bequest without special security when C's obligee D amongst joint heirs attached C's share and registered because of joint succession to Land X.\",\n",
       " 'D may acquire ownership of X immediately if he possesses it in good faith and without negligence.',\n",
       " 'A person that commences the possession of movables peacefully and openly by a transactional act acquires the rights that are exercised with respect to the movables immediately if the person possesses it in good faith and without negligence.',\n",
       " 'F bought X in good faith and without negligence.',\n",
       " 'A allowed B to retain movable X.',\n",
       " 'Article 242 The owner of immovables acquires ownership of a thing that has been attached thereto as its appurtenance;provided, however, that the rights of the other person that attached that thing by virtue of a title are not prejudiced.',\n",
       " 'Article 246 (1) If a person (hereinafter in this Article referred to as \"processor\") adds labor to another person\\'s movables, the ownership of the processed thing belongs to the owner of the material; provided, however, that if the value derived from the work significantly exceeds the value of the material, the processor acquires ownership of the processed thing.',\n",
       " 'A may pass to the public roads only through the lands owned by another person that participated in the partition.',\n",
       " 'Article 216 If a land suffers or is likely to suffer damage due to destruction or blockage of a structure installed on other land to store, discharge or draw water, the owner of that land may have the owner of that other land repair the structure or remove the impediments, or, if necessary, have the same carry out preventive construction work.',\n",
       " 'The landowner may have the owner of that tree or bamboo sever that branch.',\n",
       " 'Article 229 Boundary markers, fences, walls, channels and moats installed on boundary lines are presumed to be co-owned by the neighbors.',\n",
       " 'Article 223 A landowner may install boundary markers, sharing the expenses with the owner of the neighboring land.',\n",
       " \"A may use the entire property in co-ownership in proportion to each co-owner's interest.\",\n",
       " 'A claim that one of the co-owners holds against other co-owners with respect to the property in co-ownership may be exercised against their specific successors.',\n",
       " 'The holder of the right of retention may not use, lease or provide as a security the thing retained unless that holder obtains the consent of the obligor;provided, however, that this does not apply to uses necessary for the preservation of that thing.',\n",
       " 'Article 337 In order to preserve the effectiveness of statutory liens for preservation of immovables, registration must be carried out immediately after the completion of the act of preservation.',\n",
       " 'The provisions of the preceding three Articles do not apply if the acts establishing pledges provide otherwise.',\n",
       " 'Article 302 A right of retention is extinguished if the holder of the right of retention loses possession of the thing retained;provided, however, that this does not apply if the thing retained is leased or it is made the subject of a pledge pursuant to the provisions of Article 298, paragraph (2).',\n",
       " 'The claim must have fallen due before the possessor may retain the thing.',\n",
       " 'Article 301 An obligor may demand that a right of retention be terminated by providing a reasonable security.',\n",
       " 'A sold C Building X he/she owns and registered with respect to it after delivering Building X to B, B may may retain Building X to secure a claim for damages due to default if C demanded vacation of Building X from B.',\n",
       " 'A pledgee of claim may collect the claim directly, when the subject matter of the pledge of claim is not a monetary claim.',\n",
       " \"Article 297 (1) A holder of a right of retention may collect fruits derived from the thing retained, and appropriate the same to the satisfaction of that holder's own claim before other obligees.\",\n",
       " \"The pledgee may subpledge the thing pledged within the duration of the pledgee's right, upon the pledgee's own responsibility.\",\n",
       " 'The act establishing the pledge provides otherwise.',\n",
       " 'A pledge may have a property right for its subject matter.',\n",
       " 'A statutory lien may also be exercised against things including monies that the obligor is to receive as a result of the sale, lease or loss of, or damage to, the subject matter of the statutory lien;provided, however, that the holder of the statutory lien must attach the same before the payment or delivery of the monies or other thing.',\n",
       " 'Article 244 If the distinction of principal and accessory cannot be made between the movables united by accession, the owner of each movable property co-owns the composite thing in proportion to the respective price current at the time of the accession.',\n",
       " 'The mortgage may be exercised against the right of lease.',\n",
       " \"A mortgagee has the right to have the mortgagee's claim satisfied prior to other obligees out of the immovables that the obligor or a third party provided to secure the obligation without transferring possession.\",\n",
       " \"Article 369 (1) A mortgagee has the right to have the mortgagee's claim satisfied prior to other obligees out of the immovables that the obligor or a third party provided to secure the obligation without transferring possession.\",\n",
       " 'The mortgage shall not extend to the rent without a default with respect to a claim secured by the mortgage.',\n",
       " 'A mortgage extends to the things that form an integral part of the immovables that are the subject matter of the mortgage (hereinafter referred to as \"mortgaged immovables\") except for buildings on the mortgaged land; provided, however, that this does not apply if the act establishing the mortgage provides otherwise or the rescission of fraudulent act may be demanded as prescribed in Article 424, paragraph (3) with regard to the act of the obligor.',\n",
       " 'The mortgage extends to the things that form an integral part of the immovables that are the subject matter of the mortgage (hereinafter referred to as \"mortgaged immovables\") except for buildings on the mortgaged land; provided, however, that this does not apply if the act establishing the mortgage provides otherwise or the rescission of fraudulent act may be demanded as prescribed in Article 424, paragraph (3) with regard to the act of the obligor.',\n",
       " 'The mortgage does not extend to buildings on the mortgaged land.',\n",
       " 'Article 370 A mortgage extends to the things that form an integral part of the immovables that are the subject matter of the mortgage (hereinafter referred to as \"mortgaged immovables\") except for buildings on the mortgaged land; provided, however, that this does not apply if the act establishing the mortgage provides otherwise or the rescission of fraudulent act may be demanded as prescribed in Article 424, paragraph (3) with regard to the act of the obligor.',\n",
       " 'The mortgagor may assert a right of retention to secure settlement claims against the mortgagee when the third party claims the delivery of the mortgaged real properties.',\n",
       " 'No contract of guarantee shall be effective unless it is made in writing or concluded by electromagnetic record which records the contents thereof.',\n",
       " 'The provisions of the preceding two paragraphs do not apply if the obligee has designated the guarantor.',\n",
       " 'The contract for revolving guarantee by an individual for loans does not provide for a principal crystallization date (or if the provisions concerning the principal crystallization date do not become effective pursuant to the provisions of the preceding paragraph), the principal crystallization date is to fall on the day on which three years have passed from the day of the conclusion of the contract for revolving guarantee by an individual for loans.',\n",
       " 'Article 455 If after the guarantor makes a request or gives proof pursuant to the provisions of Article 452 or Article 453, the obligee fails to demand or to levy execution and becomes unable to obtain full performance from the principal obligor as a result of that, the guarantor is released from the obligation to the extent that the obligee would have received payment if the obligee had immediately demanded or levied execution.',\n",
       " 'Article 468 (1) An obligor may duly assert against the assignee any event that has taken place with regard to the assignor by the time of completion of the perfection.',\n",
       " 'The order of priority of the assignment of a claim and the attachment of the same claim shall follow the order of the time when the requirements for the assertion of the assignment against third parties expect the pobligor is met and the time when the attachment order is issued.',\n",
       " \"The obligee's claim is extinguished if an obligee manifests the intention to release an obligor from an obligation to that obligor.\",\n",
       " 'A person that has become a guarantor against the will of the principal obligor has the right to reimbursement only to the extent currently enriched.',\n",
       " 'A third party that has no legitimate interest in performing an obligation may not perform the obligation against the will of the obligor;provided, however, that this does not apply if the obligee did not know that the performance is against the will of the obligor.',\n",
       " 'The obligee(B) and a third party(C) may not replace the obligor(A) who contracts monetary debts with the obligee(B) to the third party(C) for by novation against the will of the obligor(A).',\n",
       " 'The obligee(B) may perform the obligation which he/she contracts with a third party by assigning the claim which the obligor(A) contracts with the obligee(B) to the third party as a substitute against the will of the obligor(A).',\n",
       " 'The assignment of the credit of sale value is not a requirement for assertion of the assignment.',\n",
       " 'The tender of the performance must be made actually consistent with the main purport of the obligation;provided, however, that if the obligee refuses to accept that performance in advance or if any act is required on the part of the obligee with respect to the performance of the obligation, it is sufficient for the obligor to request the acceptance thereof by giving a notice that the tender of the performance has been prepared.',\n",
       " 'The third party assumes a monetary debt jointly and severally with a debtor after the debtor has entered into the loans for consumption is a novation.',\n",
       " 'A novation by substitution of obligee may not be asserted against a third party unless it is made using an instrument bearing a certified date.',\n",
       " 'Article 520 If a claim and obligation becomes vested in the same person, such claim is extinguished;provided, however, that this does not apply if such a claim is the subject matter of the right of a third party.',\n",
       " 'The consent of the third party must be obtained if any third party created that security.',\n",
       " 'Article 520 If a claim and obligation becomes vested in the same person, such claim is extinguished;provided, however, that this does not apply if such a claim is the subject matter of the right of a third party.',\n",
       " 'Mandatory may not claim remuneration until after having performed the mandated business.',\n",
       " \"Article 533 A party to a bilateral contract may refuse to perform that party's own obligation until the other party tenders the performance of that other party's obligation (including the performance of an obligation to compensate for loss or damage in lieu of the performance of an obligation);provided, however, that this does not apply if the obligation of the other party is not yet due.\",\n",
       " \"Article 533 A party to a bilateral contract may refuse to perform that party's own obligation until the other party tenders the performance of that other party's obligation (including the performance of an obligation to compensate for loss or damage in lieu of the performance of an obligation);provided, however, that this does not apply if the obligation of the other party is not yet due.\",\n",
       " 'A loan for consumption becomes effective when a first party receives money or any other thing from a second party, having promised to return a thing of the same type, quality, and quantity.',\n",
       " 'The contract of loan for use shall be effective if one of the parties promises to deliver a certain thing, and the other party promises to return the thing when the contract is terminated after the other party gratuitously uses and makes profit of the borrowed thing.',\n",
       " 'A gratuitous bailee bears a duty to keep the bailed thing while exercising the same level of care that the bailee would exercise with their own property.',\n",
       " 'If monies are the subject of contribution and a partner fails to make the contribution, that partner must pay interest on the same and otherwise compensate for loss or damage.',\n",
       " '(2) If the performance of an obligation becomes impossible due to grounds attributable to the obligee, the obligee may not refuse to complete counter-performance.',\n",
       " \"Article 541 If one of the parties does not perform that party's obligation, and the other party demands performance of that obligation, specifying a reasonable period of time, but no performance is completed during that period, the other party may cancel the contract;provided, however, that this does not apply if the non-performance of the obligations upon the passage of the period is minor in light of the contract and the common sense in the transaction.\",\n",
       " '(A) may not cancel the sale and claim the delivery of (P) against (C) because (A) delivered (P) to (B) on April 10.',\n",
       " \"(A) may refuse to perform that party's own obligation until the other party tenders the performance of that other party's obligation (including the performance of an obligation to compensate for loss or damage in lieu of the performance of an obligation);provided, however, that this does not apply if the obligation of the other party is not yet due.\",\n",
       " 'The buyer bears the obligation to pay interest on the price beginning from the day of delivery;provided, however, that if a due date is provided for the payment of the price, it is not necessary to pay the interest until that due date arrives.',\n",
       " 'A lease becomes effective if one of the parties promises to make a certain thing available for the other party to use and make profit, and the other party promises to pay rent for the leased thing and return the delivered thing when the contract is terminated.',\n",
       " 'The duration of a lease may not exceed 50 years.',\n",
       " 'Article 618 Even if the parties specify the term of a lease, the provisions of the preceding Article apply mutatis mutandis if one party reserves, or both parties reserve, the right to terminate during that period.',\n",
       " 'Article 619 (1) If a lessee continues to make use or take the profits of the thing after the expiration of the term of the lease and a lessor that knows of the same raises no objection, it is presumed that a further lease is entered into under conditions identical to those of the previous lease.',\n",
       " 'The lease terminates when the term prescribed in that item has passed after the day of the notice of termination.',\n",
       " 'The buyer may not demand that the seller cure the non-conformity of performance under the provisions of that paragraph if the non-conformity is due to grounds attributable to the buyer.',\n",
       " 'Article 415 (1) If an obligor fails to perform consistent with the purpose of the obligation or the performance of an obligation is impossible, the obligee may claim compensation for loss or damage arising from the failure;provided, however, that this does not apply if the failure to perform the obligation is due to grounds not attributable to the obligor in light of the contract or other sources of obligation and the common sense in the transaction.',\n",
       " 'The contractor has an warranty against defects if he knew that the instructions were inappropriate but did not disclose the same.',\n",
       " 'The party ordering work must notify the contractor of the non-conformity to the terms of the contract within one year from the time when the party becomes aware of it.',\n",
       " 'Even if the seller makes a special agreement to the effect that the seller does not warrant in the case prescribed in the main clause of Article 562, paragraph (1) or Article 565, the seller may not be released from that responsibility with respect to any fact that the seller knew but did not disclose, and with respect to any right that the seller personally created for or assigned to a third party.',\n",
       " 'A may have a right to reimbursement against B if B is liable for the cause of the damage.',\n",
       " 'The provisions of the preceding paragraph apply mutatis mutandis if there is a defect in the planting or supporting of bamboo or trees.',\n",
       " 'Article 717 (1) If a defect in the installation or preservation of a structure on land causes damage to another person, the possessor of that structure is liable to the person incurring damage to compensate for the damage;provided, however, that if the possessor has exercised the necessary care to prevent the damage, the owner must compensate for the damage.',\n",
       " 'A is the owner of X building and A is liable to the person incurring damage to compensate for the damage.',\n",
       " 'The possessor of that structure is liable to the person incurring damage to compensate for the damage;provided, however, that if the possessor has exercised the necessary care to prevent the damage, the owner must compensate for the damage.',\n",
       " 'The prescription period does not expire until six months have passed from the time of the dissolution of their marriage.',\n",
       " 'The authority to represent ceases to exist upon: (i) death of the principal; and (ii) death of the agent, or being given an order commencing bankruptcy proceeding or a decision for commencement of guardianship against the agent.',\n",
       " 'The depositary may not return the deposited thing prior to the due date unless there is a compelling reason to do so.',\n",
       " 'A loan for use is terminated upon the death of the borrower.',\n",
       " 'Article 679 Beyond the cases referred to in the preceding Article, partners withdraw on the following grounds: (i) the partner dies; (ii) the partner is subject to an order commencing bankruptcy proceeding; (iii) the partner is subject to a decision for the commencement of guardianship; (iv) the partner has been expelled.',\n",
       " \"The obligor must retain the thing by exercising care identical to that the obligor exercises for the obligor's own property, during the period from the time of the tender of the performance until the delivery of the thing.\",\n",
       " 'The obligation for the preservation which the obligor contracts with the obligee until the delivery of the specific thing can be reduced with a special contract.',\n",
       " 'The obligor must retain the thing with the due care of a prudent manager, which is determined in light of the contract or other sources of claims and the common sense in the transaction, until the delivery.',\n",
       " \"Article 5 (1) A minor must obtain the consent of the minor's legal representative to perform a juridical act;provided, however, that this does not apply to a juridical act for merely acquiring a right or being released from an obligation.\",\n",
       " \"The minor's statutory agent may revoke or limit the permission therefor in accordance with the provisions of Part IV (Relatives).\",\n",
       " 'Article 9 A juridical act performed by an adult ward is voidable;provided, however, that this does not apply to the purchase of daily necessities or to any other act involved in day-to-day life.',\n",
       " 'The curator may rescind the act, but only if the act is voidable.',\n",
       " \"The family court may decide to commence a curatorship in respect of a person whose capacity to appreciate their own situation is extremely inadequate due to a mental disorder, at the request of the person in question, the person's spouse, the person's relative within the fourth degree of kinship, the person's guardian of a minor, the person's supervisor of a minor's guardian, the person's curator, the person's curator's supervisor, the person's assistant, the person's assistant's supervisor, or a public prosecutor.\",\n",
       " 'A possessor in bad faith has the obligation to return fruits, and reimburse the price of fruits that the possessor has already consumed, damaged due to negligence, or failed to collect.',\n",
       " 'Article 575 (1) If the subject matter of a sale which has not yet been delivered bears fruits, the fruits vest in the seller.',\n",
       " 'The pledgee of immovables may use and profit from the immovables that are the subject matter of a pledge in line with the way the relevant immovables are used.',\n",
       " 'Person A and person B have a special agreement that the rent for the month will be distributed between person A and person B in proportion to the number of the days.',\n",
       " 'Article 707 (1) If a person that is not an obligor has performed an obligation by mistake and the obligee, acting in good faith, has allowed the instrument to be lost, has damaged the instrument, has waived the security, or has lost the claim by prescription, the person performing the obligation may not demand the return of subject matter of the performance.',\n",
       " 'A void act does not become effective by ratification;provided, however, that if a party ratifies an act knowing that the act is void, it is deemed that the party did a new act.',\n",
       " 'Person B can be held liable for the disturbance even if person A does not incur serious and considerable irreparable damage.',\n",
       " 'The agent may acquire an individual possessory right for the thing possessed.',\n",
       " 'An action for recovery of possession must be filed within one year from the time when a possessor was forcibly dispossessed.',\n",
       " 'Person A is the owner and depositor of a moveable.',\n",
       " 'The transfer of possessory rights is effected by the delivery of the thing possessed.',\n",
       " 'Person B may not have a third party keep the bailed thing in custody unless the bailee obtains the consent of the bailor or there is a compelling reason to do so.',\n",
       " 'Person A is the owner of a moveable and possesses it him/herself, enters into a sale contract with person B, and simultaneously enters into a loan contract for use with person B as the use lender and person A as the lease borrower, then person B acquires the possessory right for the moveable due to the manifestation of intention of person A to the effect that he/she will thenceforward possess the thing on behalf of person B.',\n",
       " 'Article 223 A landowner may install boundary markers, sharing the expenses with the owner of the neighboring land.',\n",
       " 'The owner of the adjacent land may only claim compensation for loss or damage.',\n",
       " 'Article 209 (1) An owner of land may request the use of the neighboring land to the extent necessary for constructing or repairing walls or buildings on or in the vicinity of the boundary;provided, however, that the owner may not enter the dwelling house of the neighbor without the approval of the same.',\n",
       " 'Article 213 (1) If the partition of land creates a parcel of land that has no access to public roads, the owner of that parcel of land may pass to the public roads only through the lands owned by another person that participated in the partition.',\n",
       " 'Article 295 (1) If a possessor of a thing belonging to another person has a claim that has arisen in relation to that thing, that possessor may retain that thing until that claim is satisfied;provided, however, that this does not apply if the relevant claim has not yet fallen due.',\n",
       " 'Article 295 (1) If a possessor of a thing belonging to another person has a claim that has arisen in relation to that thing, that possessor may retain that thing until that claim is satisfied;provided, however, that this does not apply if the relevant claim has not yet fallen due.',\n",
       " \"A holder of a right of retention may collect fruits derived from the thing retained, and appropriate the same to the satisfaction of that holder's own claim before other obligees.\",\n",
       " 'The statutory lien of a lessor of a building exists against movables furnished to that building by the lessee.',\n",
       " 'The statutory lien may also be exercised against things including monies that the obligor is to receive as a result of the sale, lease or loss of, or damage to, the subject matter of the statutory lien;provided, however, that the holder of the statutory lien must attach the same before the payment or delivery of the monies or other thing.',\n",
       " 'Pledges can be created over a thing that cannot be assigned to others.',\n",
       " 'The creation of a pledge becomes effective through delivery of the subject matter of the pledge to the obligee.',\n",
       " 'The pledgor may not, either by the acts establishing pledges or by contracts made prior to the due dates for the obligations, allow the pledgee to acquire ownership of the thing pledged as satisfaction of the obligations, nor promise to allow the pledgee to dispose of it in any manner other than is prescribed by law.',\n",
       " 'Article 388 If the land and a building on that land belong to the same owner, a mortgage is created with respect to that land or building, and the enforcement of that mortgage causes them to belong to different owners, it is deemed that a superficies has been created with respect to that building.',\n",
       " 'Article 447 (1) The guarantee obligation includes interest, penalty and compensation for loss or damage in connection with the principal obligation, and all other charges secondary to that obligation.',\n",
       " 'The guarantor must prove that the principal obligor has the financial resources to pay his/her obligation and that the execution would be easily performed.',\n",
       " 'The guarantor may assert against the obligee a defense that can be raised by the principal obligor.',\n",
       " 'The guarantor has a right to reimbursement from the principal obligor for the amount of property expended for that act (if the amount of property exceeds the amount of the principal obligation extinguished by the act for extinguishment of obligation, the amount thus extinguished).',\n",
       " 'The assignment of a claim (including the assignment of a claim that is yet to arise) may not be duly asserted against the applicable obligor or any other third party, unless the assignor gives notice thereof to the obligor or the obligor has consented to the same.',\n",
       " 'The obligor may duly assert against the assignee any event that has taken place with regard to the assignor by the time of completion of the perfection.',\n",
       " 'The person that does not constitute a person authorized to accept the performance (meaning the obligee or a third party authorized to accept performance based on the provisions of laws and regulations or the manifestation of intention of the parties; the same applies hereinafter) but that appears to be the person authorized to accept the performance in light of common sense in the transaction is effective only if the person effecting performance was acting in good faith and without negligence.',\n",
       " 'The borrower may not assert the fact that he/she will make a payment by returning and exchanging the instrument when attempting to make the performance has completed his/her entire performance.',\n",
       " 'The attaching obligee is entitled to request the third party obligor to perform the obligation de novo to the extent of the damage sustained by the attaching obligee.',\n",
       " 'The relevant obligor shall bear the incremental amount of increase in the expense of performance if the obligee caused the increase in the expense of performance by relocating his/her domicile or taking any other acrtions.',\n",
       " 'Article 508 If a claim extinguished by prescription was eligible for set-off prior to its extinguishment, the obligee may use that claim for the set-off.',\n",
       " 'Article 550 Gifts not in writing may be cancelled by either party;provided, however, that this does not apply to a portion of the gift for which performance has been completed.',\n",
       " 'The mandate contract must be documented in writing in order to assert the effect of a mandate contract to a third party.',\n",
       " 'Article 176 The creation and transfer of a real right becomes effective solely by the manifestations of intention of the parties.',\n",
       " 'The contract of guarantee is deemed to be made in writing if it is recorded in an electronic or magnetic record.',\n",
       " 'The manager may claim reimbursement of those costs from the principal.',\n",
       " 'Article 474 (2) A third party that has no legitimate interest in performing an obligation may not perform the obligation against the will of the obligor;provided, however, that this does not apply if the obligee did not know that the performance is against the will of the obligor.',\n",
       " 'A person that has become a guarantor against the will of the principal obligor has the right to reimbursement only to the extent currently enriched.',\n",
       " \"Article 541 If one of the parties does not perform that party's obligation, and the other party demands performance of that obligation, specifying a reasonable period of time, but no performance is completed during that period, the other party may cancel the contract;provided, however, that this does not apply if the non-performance of the obligations upon the passage of the period is minor in light of the contract and the common sense in the transaction.\",\n",
       " 'Article 684 states that the provisions of Article 620 apply mutatis mutandis to partnership contracts.',\n",
       " 'If a sales contract for moveables is entered and a portion of the purchase price is paid, the sales contract is cancelled due to default of the seller, then he/she bears an obligation to compensate the buyer for damages, but in returning the portion of the purchase price that was received, there is no need to add interest from the time of that receipt of those moneys.',\n",
       " 'Person B is obliged to acquire ownership from person A and transfer it to person C.',\n",
       " 'The Civil Code is the legal code of the country.',\n",
       " 'The rescission of a manifestation of intention under the provisions of paragraph (1) may not be duly asserted against a third party in good faith acting without negligence.',\n",
       " 'The rescission of a manifestation of intention under the provisions of paragraph (1) may not be duly asserted against a third party in good faith acting without negligence.',\n",
       " 'The contract of guarantee is voidable on the grounds of the qualified legal capacity to act of the person who did the act.',\n",
       " \"The grounds prescribed in the main clause of Article 11 cease to exist, the family court must rescind the decision for the commencement of curatorship at the request of the person in question, that person's spouse, that person's relative within the fourth degree of kinship, the guardian of a minor, the supervisor of a minor's guardian, the curator, the curator's supervisor, or a public prosecutor.\",\n",
       " 'Article 20 (1) After a person with qualified legal capacity who is involved in dealings with another party becomes a person with the legal capacity to act (meaning a person whose legal capacity to act is not subject to restrictions; the same applies hereinafter), the other party to those dealings may fix a period of one month or longer and demand that the person give a definite answer within that period of time as to whether the person will ratify an act that the person may rescind.',\n",
       " 'Article 508 If a claim extinguished by prescription was eligible for set-off prior to its extinguishment, the obligee may use that claim for the set-off.',\n",
       " 'The person who made the defective manifestation of intention may rescind only by the person who made the defective manifestation of intention, or an agent or successor thereof.',\n",
       " 'A counterparty may rescind a contract that a person without the authority to represent has concluded until the principal ratifies it;provided, however, that this does not apply if the counterparty knew at the time of the conclusion of the contract that the agent had no authority to represent.',\n",
       " 'The other party must not know that the child was not authorized by his/her father.',\n",
       " 'The period of prescription of a right determined by a final and binding judgment or anything that has the same effect as a final and binding judgment is 10 years even if a period of prescription shorter than 10 years is provided for.',\n",
       " 'The contract was rescinded on the grounds of the limited capacity to act, even if the person is in good faith and faultless with respect to the fact that the seller is a minor, the person may not acquire the ownership of such movavle on the grounds of the immediate acquisition.',\n",
       " 'Article 246 (1) If a person (hereinafter in this Article referred to as \"processor\") adds labor to another person\\'s movables, the ownership of the processed thing belongs to the owner of the material; provided, however, that if the value derived from the work significantly exceeds the value of the material, the processor acquires ownership of the processed thing.',\n",
       " 'Article 284 (1) If one of the co-owners of land acquires a servitude by prescription, the other co-owners also acquire the same servitude.',\n",
       " 'The distinction of principal and accessory cannot be made between the movables united by accession, the owner of each movable property co-owns the composite thing in proportion to the respective price current at the time of the accession.',\n",
       " 'Superficies and farming rights may be the subject matter of a mortgage.',\n",
       " \"A servitude holder has the right to use another person's land for the convenience of their own lands in accordance with purposes prescribed in the act establishing the servitude;provided, however, that this right must not violate the provisions (limited to those that relate to public policy) under Section 1 of Chapter 3 (Extent of Ownership).\",\n",
       " 'The rent is fixed by the court at the request of the parties.',\n",
       " 'The superficies is a rephrasing of superficiary.',\n",
       " \"Article 296 A holder of a right of retention may exercise that holder's rights against the whole of the thing retained until the relevant claim is satisfied in its entirety.\",\n",
       " 'Holders of general statutory liens cannot be paid out of immovables unless they are first paid out of property other than immovables and a claim that is not satisfied remains, unless cases where the proceeds of immovable properties are distributed prior to the proceeds of assets other than immovable properties.',\n",
       " \"The pledgee may collect the same to the extent of the portion that corresponds to the amount of the pledgee's own claim.\",\n",
       " 'The provisions of the preceding paragraph do not apply if the proceeds of other assets are to be distributed prior to the proceeds of the mortgaged immovables.',\n",
       " 'Article 398-22 (1) If the amount of the obligations currently in existence after the principal is crystallized exceeds the maximum amount of a revolving mortgage, the person that created the revolving mortgage to secure the obligations of another person or a third party that has acquired ownership, superficies, farming rights, or a lease that can be duly asserted against any third party with respect to the mortgaged immovables may request the extinguishment of that revolving mortgage on paying or depositing with an official depository an amount equivalent to that maximum amount.',\n",
       " 'The provisions regarding mortgages apply mutatis mutandis to the effects of statutory liens, provided that it is not inconsistent with the nature of the same.',\n",
       " 'Article 333 Statutory liens may not be exercised against the movables that are the subject matter of the same after the obligors have delivered those movables to third party acquirers.',\n",
       " 'Statutory liens for employer-employee relationships exist with respect to salaries and other claims that arise from the employer-employee relationship between the obligor and the employee.',\n",
       " 'The holder of general statutory liens shall have the rights to have his/her own claim satisfied prior to other obligees who has the registration of statutory liens for sales of immovable properties even if the liens are not registered with respect to the relevant immovable property.',\n",
       " 'The obligor shall obtain the first mortgage by subrogation by performance only if the first mortgage was created on the same real property of the obligor.',\n",
       " '(1) A revolving mortgagee may exercise the relevant revolving mortgage up to the maximum amount with respect to all of crystallized principal as well as periodic payments including interest and compensation for loss or damage resulting from failure to perform obligations.',\n",
       " 'A mortgage shall extend to the buildings on the mortgaged land as long as the mortgage provides otherwise.',\n",
       " 'Article 501 (1) A person that is subrogated to the claim of the obligee pursuant to the provisions of the preceding two Articles may exercise any and all rights possessed by the obligee as the effect of, and as a security for, the claim held by the obligee.',\n",
       " \"The exercise of rights under the provisions of the preceding paragraph is allowed only to the extent that the person that is subrogated to the claim of the obligee is entitled to seek reimbursement from the obligor based on the person's own rights.\",\n",
       " 'The mortgage is waived if the obligee has reasonable grounds in light of the common sense in the transaction for causing the security to be lost or diminished.',\n",
       " 'Article 417 Unless a particular intention is manifested, the amount of the compensation for loss or damage is determined with reference to monetary value.',\n",
       " 'The obligor may not raise the defense of force majeure with respect to the compensation for loss or damage referred to in paragraph (1).',\n",
       " 'The court may decrease the amount of the liquidated damages if the parties agree on the amount of the liquidated damages.',\n",
       " 'The agreement on liquidated damages do not preclude the request for performance or the exercise of the cancellation right.',\n",
       " 'The provisions of the preceding paragraph do not apply in cases any pledge or mortgage has been extinguished due to the deposit.',\n",
       " 'No condition or time limit may be added to the manifestation of intention.',\n",
       " \"If an obligee manifests the intention to release an obligor from an obligation to that obligor, the obligee's claim is extinguished.\",\n",
       " 'The seller may cancel the contract only if the seller does not perform the whole of the obligation.',\n",
       " 'Article 562 (1) If the subject matter delivered to the buyer does not conform to the terms of the contract with respect to the kind, quality or quantity, the buyer may demand that the seller cure the non-conformity of performance by repairing the subject matter, delivering the substitute or delivering the replenishment;provided, however, that the seller may cure the non-conformity of performance by a method that is different from the method demanded by the buyer if it does not impose any undue burden on the buyer.',\n",
       " 'The buyer may not demand cure of the non-conformity of performance, demand a reduction of the price, claim compensation for loss or damage, or cancel the contract, on the grounds of the non-conformity;provided, however, that this does not apply if the seller knew or did not know due to gross negligence the non-conformity at the time of the delivery.',\n",
       " 'The successful bidder may cancel the contract or demand a reduction of the price against the obligor pursuant to the provisions of Articles 541 and 542 and the provisions of Article 565.',\n",
       " 'A mandate may be cancelled by either party at any time.',\n",
       " 'Mandatory must report the current status of the administration of the mandated business at any time.',\n",
       " 'Article 655 The grounds of termination of mandate may not be asserted against the other party unless the other party was notified of or knew of the same.',\n",
       " 'Article 648 (1) In the absence of any special agreements, the mandatary may not claim remuneration from the mandator.',\n",
       " \"Mandatory may demand that the mandator perform the obligation on the mandatary's behalf.\",\n",
       " 'The depositary may not return the deposited thing prior to the due date unless there is a compelling reason to do so.',\n",
       " 'Article 660 (1) If a third party claiming rights with respect to the bailed thing has filed a lawsuit against the bailee, or has effected an attachment, provisional seizure, or provisional disposition, the bailee must notify the bailor of that fact without delay;provided, however, that this does not apply if the bailor already knows it.',\n",
       " 'The depositor must compensate the depositary for damages that occur due to the defects in the Thing deposited; provided, however, that this shall not apply if the depositor did not, without negligence, know of such defect, or the depositary knew of the same.',\n",
       " 'A partner may not seek the division of the partnership property before liquidation.',\n",
       " 'Remuneration specified with reference to a period may be claimed after the passage of that period.',\n",
       " 'The contractor may claim his/her remuneration without the specified consent of remuneration amount.',\n",
       " 'Article 649 If costs will be incurred in administering the mandated business, the mandator must, at the request of the mandatary, pay an advance for those costs.',\n",
       " 'The mandatary may claim remuneration after having performed the mandated business.',\n",
       " 'Article 659 A gratuitous bailee bears a duty to keep the bailed thing while exercising the same level of care that the bailee would exercise for their own property.',\n",
       " \"A's right to reimbursement to B shall accrue even if A performed the obligation to compensate the damages to C.\",\n",
       " 'A party ordering work is not liable to compensate for damage a contractor inflicted on a third party with respect to that work;provided, however, that this does not apply if the party ordering work is negligent with regards to the order or instructions.',\n",
       " 'A minor is a person who is under the age of 18.',\n",
       " 'Article 6 (1) A minor who is permitted to conduct one or multiple types of business has the same capacity to act as an adult as far as that business is concerned.',\n",
       " 'Article 9 A juridical act performed by an adult ward is voidable;provided, however, that this does not apply to the purchase of daily necessities or to any other act involved in day-to-day life.',\n",
       " 'Borrowing money or guaranteeing an obligation is an act that requires the consent of the curator.',\n",
       " 'The counterparty of the act may issue a notice to the curator directly.',\n",
       " 'Article 108 (1) An act that a person performs as an agent of the counterparty or as agent of both parties for the same juridical act is deemed to be an act performed by a person without authority to represent;provided, however, that this does not apply to the performance of an obligation or to an act authorized by the principal in advance.',\n",
       " 'A subagent represents the principal with respect to acts within the scope of the authority thereof.',\n",
       " 'The provisions of Articles 296 through 300 and those of Article 304 apply mutatis mutandis to pledges.',\n",
       " 'A pledgee may not allow a pledgor to possess the thing pledged on behalf of the pledgee.',\n",
       " \"A holder of a right of retention may exercise that holder's rights against the whole of the thing retained until the relevant claim is satisfied in its entirety.\",\n",
       " 'The holder of the right of retention may not use, lease or provide as a security the thing retained unless that holder obtains the consent of the obligor;provided, however, that this does not apply to uses necessary for the preservation of that thing.',\n",
       " 'The provisions of Articles 296 through 300 and those of Article 304 apply mutatis mutandis to pledges.',\n",
       " 'A gratuitous depositary shall assume the duty to retain the Thing deposited with the care of a good manager.',\n",
       " 'The contract of guarantee shall be effective unless it is made in writing, but when it is concluded with an electromagnetic record, it is deemed to be made in writing.',\n",
       " 'The guarantee obligation includes interest, penalty and compensation for loss or damage in connection with the principal obligation, and all other charges secondary to that obligation.',\n",
       " 'Article 460 If a guarantor has given a guarantee as requested by the principal obligor, the guarantor may exercise in advance the right to reimbursement against the principal obligor if: (i) the principal obligor is subject to an order commencing bankruptcy proceeding, and the obligee does not participate in the distribution of the bankruptcy estate; (ii) the obligation is due;provided, however, that no extension of time granted by the obligee to the principal obligor after the conclusion of the guarantee contract may be duly asserted against the guarantor; and (iii) the guarantor is, without negligence, rendered a judicial decision ordering the guarantor to perform the obligation to the obligee.',\n",
       " 'The contract of revolving guarantee between juridicial persons that will take on obligation of a monetary loan as their primary obligation shall not become effective.',\n",
       " '(1) In the following cases, a performer may deposit the subject matter of the performance with an official depository for the benefit of the obligee.',\n",
       " 'The claim is extinguished when the performer makes the deposit.',\n",
       " 'The obligor may recover the deposited property as long as the obligee does not accept the deposit, or the judgment which pronounces that the deposit is effective does not become final and binding.',\n",
       " 'Article 495 (1) The deposit under the provisions of the preceding Article must be made with the official depository having jurisdiction over the place where the relevant obligation is performed.',\n",
       " 'A third party may also perform an obligation.',\n",
       " 'The plaintiff must assert that he/she entered into a sales contract with the defendant as the cause for action, but does not need to assert that he/she owned the subject matter of the sales contract when he/she entered into it.',\n",
       " 'Article 588 If any person has an obligation to pay money or deliver other thing under any arrangement, and the parties agree to regard such thing as the subject matter of a loan for consumption, it is deemed that this establishes a loan for consumption.',\n",
       " 'Article 608 (1) If a lessee has defrayed necessary expenses with respect to the leased thing which ought to be borne by the lessor, the lessee may immediately demand the reimbursement of the same from the lessor.',\n",
       " 'Article 624 (1) An employee may not demand remuneration until the work the employee promised to perform has been completed.',\n",
       " 'Remuneration must be paid simultaneously with delivery of the subject matter of work performed;provided, however, that if no delivery of a thing is required, the provisions of Article 624, paragraph (1) apply mutatis mutandis.',\n",
       " 'Article 648 (1) In the absence of any special agreements, the mandatary may not claim remuneration from the mandator.',\n",
       " 'Article 308 Statutory liens for employer-employee relationships exist with respect to salaries and other claims that arise from the employer-employee relationship between the obligor and the employee.',\n",
       " 'The execution of business for a partnership may be delegated to one or more partners or a third party.',\n",
       " \"The interest of the withdrawing partner may be refunded in money, regardless of the kind of the withdrawing partner's contribution.\",\n",
       " 'The partners are not jointly and mutually responsible for the performance of obligation.',\n",
       " 'If a partner dies, his/her heir shall assume his/her position.',\n",
       " 'Article 676 (1) If a partner has disposed of the interest of the partner with respect to the partnership property, that partner may not duly assert that disposition against the partnership or third parties that had dealings with the partnership.',\n",
       " \"The liability of the person with the obligation to supervise a person without capacity to assume liability in Civil Code Article 714, Paragraph 1 does not apply if the person who has the obligation to supervise has not failed to perform that person's obligation or if the damage could not have been avoided even if that person had not failed to perform that person's obligation.\",\n",
       " \"The person with the obligation to supervise a person without capacity to assume liability is liable to compensate for damage that the person without capacity to be assume responsibility has inflicted on a third party;provided, however, that this does not apply if the person who has the obligation to supervise has not failed to perform that person's obligation or if the damage could not have been avoided even if that person had not failed to perform that person's obligation.\",\n",
       " 'The liability of the employer in Civil Code Article 715, Paragraph 1 does not apply if the employer exercised reasonable care in appointing the employee or in supervising the business, or if the damage could not have been avoided even if the employer had exercised reasonable care.',\n",
       " 'The liability of the agent supervisor in Civil Code Article 715, Paragraph 2 is based on the tortious acts of person A.',\n",
       " 'The defendant may assert that he/she exercised his/her required duty of care in order to prevent the occurrence of the results as an affirmative defense.',\n",
       " 'The other party knew or could have known that the manifestation was not the true intention of the person who made it, that manifestation of intention is void.',\n",
       " 'The performer must act in good faith and without negligence.',\n",
       " 'Article 96\\n(1) A manifestation of intention based on fraud or duress is voidable.',\n",
       " \"Article 128\\nWhile it is uncertain whether or not a condition will be fulfilled, a party to a juridical act that is subject to a condition may not prejudice the other party's interests that would arise from the juridical act upon fulfillment of the condition.\",\n",
       " 'Article 162\\n(1) A person that possesses the property of another for 20 years peacefully and openly with the intention to own it acquires ownership thereof.',\n",
       " 'Article 166\\n(1) A claim is extinguished by prescription in the following cases:\\n(i) if the obligee does not exercise the right within five years from the time when the obligee came to know that it was exercisable; or\\n(ii) if the obligee does not exercise the right within 10 years from the time when it became exercisable.',\n",
       " 'Article 166\\n(1) A claim is extinguished by prescription in the following cases:\\n(i) if the obligee does not exercise the right within five years from the time when the obligee came to know that it was exercisable; or\\n(ii) if the obligee does not exercise the right within 10 years from the time when it became exercisable.',\n",
       " 'Article 300\\nThe exercise of a right of retention does not preclude the running of extinctive prescription of claims.',\n",
       " 'Article 87\\n(1) If the owner of a first thing attaches a second thing that the owner owns to the first thing to serve the ordinary use of the first thing, the thing that the owner attaches is an appurtenance.',\n",
       " 'Article 177\\nAcquisitions of, losses of and changes in real rights on immovables may not be duly asserted against any third parties, unless the same are registered pursuant to the applicable provisions of the Real Property Registration Act (Act No.',\n",
       " 'Article 302\\nA right of retention is extinguished if the holder of the right of retention loses possession of the thing retained;provided, however, that this does not apply if the thing retained is leased or it is made the subject of a pledge pursuant to the provisions of Article 298, paragraph (2).',\n",
       " 'Article 181\\nPossessory rights may be acquired through an agent.',\n",
       " 'Article 177\\nAcquisitions of, losses of and changes in real rights on immovables may not be duly asserted against any third parties, unless the same are registered pursuant to the applicable provisions of the Real Property Registration Act (Act No.',\n",
       " 'Article 177\\nAcquisitions of, losses of and changes in real rights on immovables may not be duly asserted against any third parties, unless the same are registered pursuant to the applicable provisions of the Real Property Registration Act (Act No.',\n",
       " 'Article 350\\nThe provisions of Articles 296 through 300 and those of Article 304\\napply mutatis mutandis to pledges.',\n",
       " 'Article 331\\n(1) If there is conflict among special statutory liens against the same immovables, the order of priority follows the order set forth in the items of Article 325.',\n",
       " 'Article 343\\nA thing that cannot be transferred to another person may not be made the subject of a pledge.',\n",
       " 'Article 333\\nStatutory liens may not be exercised against the movables that are the subject matter of the same after the obligors have delivered those movables to third party acquirers.',\n",
       " \"Article 296\\nA holder of a right of retention may exercise that holder's rights against the whole of the thing retained until the relevant claim is satisfied in its entirety.\",\n",
       " 'Article 308\\nStatutory liens for employer-employee relationships exist with respect to salaries and other claims that arise from the employer-employee relationship between the obligor and the employee.',\n",
       " 'Article 346\\nA pledges secures the principal, interest, penalties, expenses of enforcing the pledge, expense of preserving the thing pledged and the compensation of loss or damage arising from failure to perform obligations or latent defects in the thing pledged;provided, however, that this does not apply if the act establishing the pledge provides otherwise.',\n",
       " 'Article 375\\n(1) If a mortgagee has the right to demand periodic payments including interest, that mortgagee may exercise the mortgage solely with respect to payments of the last two years before maturity;provided, however, that with respect to prior periodic payments, if special registration is effected after maturity, the mortgagee is not precluded from exercising the mortgage as from the time of that registration.',\n",
       " 'Article 398-3\\n(1) A revolving mortgagee may exercise the relevant revolving mortgage up to the maximum amount with respect to all of crystallized principal as well as periodic payments including interest and compensation for loss or damage resulting from failure to perform obligations.',\n",
       " 'Article 321\\nStatutory liens for the sale of movables exist against movables, in connection with the price of those movables and interest on the same.',\n",
       " 'Article 587\\nA loan for consumption becomes effective when a first party receives money or any other thing from a second party, having promised to return a thing of the same type, quality, and quantity.',\n",
       " 'Article 395\\n(1) A person that uses or profits from a building subject to a mortgage by virtue of a lease that cannot be duly asserted against the mortgagee, and that is set forth as follows (in the following paragraph referred to as \"mortgaged building user\") is not required to deliver that building to the purchaser thereof until six months have passed from the time when the purchaser purchased that building at auction:\\n(i) a person that has been using or profiting from the building since prior to the commencement of auction procedures; or\\n(ii) a person that is using or profiting from the building by virtue of a lease given after the commencement of auction procedures by the administrator of compulsory administration or execution against earnings from immovable collateral.',\n",
       " 'Article 387\\n(1) A registered lease may be duly asserted against mortgagees that hold mortgages registered prior to the registration of that lease if all mortgagees that hold those mortgages give their consent and those consents are registered.',\n",
       " 'Article 389\\n(1) If a building is constructed on a mortgaged land after the creation of a mortgage, the mortgagee may auction the building together with the land;provided, however, that the right of priority of that mortgagee may be exercised solely against the proceeds of the land.',\n",
       " 'Article 379\\nA third party acquirer of a mortgaged immovables may make a claim for the extinguishment of a mortgage as prescribed in Article 383.',\n",
       " 'Article 371\\nIf there is a default with respect to a claim secured by a mortgage, the mortgage extends to the fruits of the mortgaged immovables derived after the default.',\n",
       " 'Article 414\\n(1) If an obligor voluntarily fails to perform an obligation, the obligee may request the court to enforce obligor to perform through methods such as direct compulsion, execution by substitution, or indirect compulsion, in accordance with the provisions of the Civil Execution Act and other laws and regulations concerning the procedure for compulsory execution;provided, however, that this does not apply if the nature of the obligation does not permit the enforcement.',\n",
       " 'Article 414\\n(1) If an obligor voluntarily fails to perform an obligation, the obligee may request the court to enforce obligor to perform through methods such as direct compulsion, execution by substitution, or indirect compulsion, in accordance with the provisions of the Civil Execution Act and other laws and regulations concerning the procedure for compulsory execution;provided, however, that this does not apply if the nature of the obligation does not permit the enforcement.',\n",
       " 'Article 499\\nA person that has performed the obligation for the benefit of the obligor is subrogated to the claim of the obligee.',\n",
       " 'Article 653\\nA mandate terminates when:\\n(i) the mandator or mandatary dies;\\n(ii) the mandator or mandatary is subject to an order commencing bankruptcy proceeding;\\n(iii) the mandatary is subject to a decision for the commencement of guardianship.',\n",
       " 'Article 653\\nA mandate terminates when:\\n(i) the mandator or mandatary dies;\\n(ii) the mandator or mandatary is subject to an order commencing bankruptcy proceeding;\\n(iii) the mandatary is subject to a decision for the commencement of guardianship.',\n",
       " 'Article 655\\nThe grounds of termination of mandate may not be asserted against the other party unless the other party was notified of or knew of the same.',\n",
       " \"Article 700\\nA manager must continue the benevolent intervention in another's business until the principal or an heir or legal representative thereof is able to undertake it;provided, however, that this does not apply if it is evident that the continuation of the benevolent intervention in another's business is contrary to the will of the principal, or is disadvantageous to the principal.\",\n",
       " \"Article 698\\nIf a manager engages in benevolent intervention in another's business in order to allow a principal to escape imminent danger to the principal's person, reputation, or property, the manager is not liable to compensate for damage resulting from this unless the manager has acted in bad faith or with gross negligence.\",\n",
       " \"Article 701\\nThe provisions of Article 645\\nthrough Article 647\\napply mutatis mutandis to the benevolent intervention in another's business.\",\n",
       " \"Article 15 (1) The family court may decide to commence an assistance in respect of a person whose capacity to appreciate their own situation is inadequate due to a mental disorder, at the request of the person in question, that person's spouse, that person's relative within the fourth degree of kinship, the guardian, the guardian's supervisor, the curator, the curator's supervisor, or a public prosecutor; provided, however, that this does not apply to a person with respect to whom there are grounds as prescribed in Article 7 or the main clause of Article 11.\",\n",
       " \"Article 15 (1) The family court may decide to commence an assistance in respect of a person whose capacity to appreciate their own situation is inadequate due to a mental disorder, at the request of the person in question, that person's spouse, that person's relative within the fourth degree of kinship, the guardian, the guardian's supervisor, the curator, the curator's supervisor, or a public prosecutor; provided, however, that this does not apply to a person with respect to whom there are grounds as prescribed in Article 7 or the main clause of Article 11.\",\n",
       " \"Article 18 (1) If the grounds prescribed in the main clause of Article 15, paragraph (1) cease to exist, the family court must rescind the decision for commencement of assistance at the request of the person in question, that person's spouse, that person's relative within the fourth degree of kinship, the guardian of a minor, the supervisor of a minor's guardian, the assistant, the assistant's supervisor, or a public prosecutor.\",\n",
       " \"Article 17 (1) At the request of the person referred to in the main clause of Article 15, paragraph (1) or the assistant or assistant's supervisor, the family court may decide that the person under assistance must obtain the consent of the person's assistant in order to perform a specific juridical act; provided, however, that the acts that such a decision may establish as those for which the person must obtain the consent of the assistant are restricted to a part of the acts provided for in Article 13, paragraph (1).\",\n",
       " 'Article 35 (1) With the exception of states, administrative divisions of states, and commercial companies, the formation of foreign juridical persons is not permitted; provided, however, that this does not apply to a foreign juridical persons that is permitted pursuant to the provisions of a law or treaty.',\n",
       " 'Article 95 (1) A manifestation of intention is voidable if it is based on either of the following mistakes, and the mistake is material in light of the purpose of the juridical act and the common sense in the transaction:\\n(i) a mistake wherein the person lacks the intention that corresponds to the manifestation of intention; or\\n(ii) a mistake wherein the person making the manifestation of intention holds an understandings that does not correspond to the truth with regard to the circumstances which the person has taken as the basis for the juridical act.',\n",
       " 'Article 120 (1) An act that is voidable on the grounds of the qualified legal capacity to act of the person who did the act may be rescinded only by the person with qualified legal capacity (in the case of an act performed by the person as a legal representative of another person with limited capacity, including that other person with limited capacity), or an agent or successor thereof, or a person who has the authority to give consent thereto.',\n",
       " 'Article 121-2 (1) A person that has received payment or delivery as the performance of an obligation based on a void act has an obligation to restore the other party to the original state.',\n",
       " 'Article 95 (1) A manifestation of intention is voidable if it is based on either of the following mistakes, and the mistake is material in light of the purpose of the juridical act and the common sense in the transaction:\\n(i) a mistake wherein the person lacks the intention that corresponds to the manifestation of intention; or\\n(ii) a mistake wherein the person making the manifestation of intention holds an understandings that does not correspond to the truth with regard to the circumstances which the person has taken as the basis for the juridical act.',\n",
       " 'Article 117 (1) A person who concludes a contract as an agent of another person is liable to the counterparty for the performance of the contract or compensation for loss or damage, as chosen by the counterparty, unless the person proves the authority to represent or the principal ratifies the contract.',\n",
       " 'Article 117 (1) A person who concludes a contract as an agent of another person is liable to the counterparty for the performance of the contract or compensation for loss or damage, as chosen by the counterparty, unless the person proves the authority to represent or the principal ratifies the contract.',\n",
       " 'Article 117 (1) A person who concludes a contract as an agent of another person is liable to the counterparty for the performance of the contract or compensation for loss or damage, as chosen by the counterparty, unless the person proves the authority to represent or the principal ratifies the contract.',\n",
       " 'Article 166 (1) A claim is extinguished by prescription in the following cases:\\n(i) if the obligee does not exercise the right within five years from the time when the obligee came to know that it was exercisable; or\\n(ii) if the obligee does not exercise the right within 10 years from the time when it became exercisable.',\n",
       " 'Article 126 The right to rescind an act is extinguished by the operation of the prescription if it is not exercised within five years from the time when it becomes possible to ratify the act.',\n",
       " 'Article 724 In the following cases, the claim for compensation for loss or damage caused by tort is extinguished by prescription:\\n(i) the right is not exercised within three years from the time when the victim or legal representative thereof comes to know the damage and the identity of the perpetrator; or\\n(ii) the right is not exercised within 20 years from the time of the tortious act.',\n",
       " 'Article 169 (1) The period of prescription of a right determined by a final and binding judgment or anything that has the same effect as a final and binding judgment is 10 years even if a period of prescription shorter than 10 years is provided for.',\n",
       " 'Article 168 (1) A claim for periodic payments is extinguished by prescription in the following cases:\\n(i) if the obligee does not exercise each claim for the delivery of things such as money arising from the claim for periodic payments within 10 years from the time when the obligee comes to know that each claim is exercisable; or\\n(ii) if the obligee does not exercise each claim prescribed in the preceding item within 20 years from the time when it becomes exercisable.',\n",
       " 'Article 192 A person that commences the possession of movables peacefully and openly by a transactional act acquires the rights that are exercised with respect to the movables immediately if the person possesses it in good faith and without negligence.',\n",
       " 'Article 192 A person that commences the possession of movables peacefully and openly by a transactional act acquires the rights that are exercised with respect to the movables immediately if the person possesses it in good faith and without negligence.',\n",
       " 'Article 200 (1) If a possessor is forcibly dispossessed, the possessor may demand the restitution of the thing and compensation for loss or damage by filing an action for recovery of possession.',\n",
       " 'Article 200 (1) If a possessor is forcibly dispossessed, the possessor may demand the restitution of the thing and compensation for loss or damage by filing an action for recovery of possession.',\n",
       " 'Article 200 (1) If a possessor is forcibly dispossessed, the possessor may demand the restitution of the thing and compensation for loss or damage by filing an action for recovery of possession.',\n",
       " 'Article 192 A person that commences the possession of movables peacefully and openly by a transactional act acquires the rights that are exercised with respect to the movables immediately if the person possesses it in good faith and without negligence.',\n",
       " 'Article 201 (1) An action for maintenance of possession must be filed during the obstruction or within one year after the obstruction stops; provided, however, that if the possessed thing has been damaged due to construction work and either one year has passed from the time when the construction was started or the construction has been completed, the action may not be filed.',\n",
       " 'Article 268 (1) If the duration of superficies is not fixed by the act that established the same and there are no relevant customs, the superficiary may waive that right at any time; provided, however, that if rent must be paid, the superficiary must give notice one year or more in advance or pay rent for one year that has not yet become due and payable.',\n",
       " \"Article 265 A superficiary has the right to use another person's land in order to own structures, or trees or bamboo, on that land.\",\n",
       " 'Article 269-2 (1) An underground space or airspace may be established as the subject matter of superficies for ownership of structures, through the specification of upper and lower extents.',\n",
       " 'Article 338 (1) In order to preserve the effectiveness of statutory liens for construction work for immovables, the budgeted expenses of the construction work must be registered prior to the commencement of the same.',\n",
       " 'Article 396 No mortgage is extinguished by prescription in relation to obligors and mortgagors unless it is extinguished simultaneously with the claim the mortgage secures.',\n",
       " 'Article 398-11 (1) Before the principal is crystallized, a revolving mortgagee may not dispose of a revolving mortgage under the provisions of Article 376, paragraph (1); provided, however, that the revolving mortgagee is not precluded from applying that revolving mortgage to secure other claims.',\n",
       " 'Article 398-6 (1) With respect to the principal secured by a revolving mortgage, the date when the principal is to be crystallized may be specified or changed.',\n",
       " 'Article 412-2 (1) If the performance of an obligation is impossible in light of the contract or other sources of claims and the common sense in the transaction, the obligee may not request the performance of the obligation.',\n",
       " 'Article 422-2 If the obligor acquires a right or profit as a substitute for the subject matter of the obligation due to the same cause as the one that has rendered the performance of the obligation impossible, the obligee may demand the transfer of the right or reimbursement of the profit from the obligor, to the extent of the amount of damage sustained thereby.',\n",
       " 'Article 536 (1) If the performance of an obligation becomes impossible due to grounds not attributable to either party, the obligee may refuse to perform counter-performance.',\n",
       " 'Article 567 (1) If the seller delivers the subject matter (limited to one that has been ascertained as the subject matter of the sale; hereinafter the same applies in this Article) to the buyer, and the subject matter is lost or damaged after the time of the delivery due to any grounds not attributable to either party, the buyer may not demand cure of the non-conformity of performance, demand a reduction of the price, claim compensation for loss or damage, or cancel the contract, on the ground of the loss or damage.',\n",
       " 'Article 424-7 (1) In an action concerning demand for rescission of fraudulent act, the person specified in each of the following items according to the categories set forth in the respective items stands as a defendant:\\n(i) an action concerning demand for rescission of fraudulent act against the beneficiary: the beneficiary; or\\n(ii) an action concerning demand for rescission of fraudulent act against the subsequent acquirer: the subsequent acquirer that is the other party to the demand for rescission of fraudulent act.',\n",
       " \"Article 424-5 If the obligee is entitled to make demand rescission for fraudulent act against the beneficiary, and a person subsequently acquires the property which has been transferred to the beneficiary, the obligee may also make demand for rescission of fraudulent act against the subsequent acquirer only in the situations specified in the following items according to the categories set forth in the respective items:\\n(i) if the subsequent acquirer acquires the property from the beneficiary: the subsequent acquirer, at the time of the acquisition, knows that the obligor's act will be prejudicial to the obligee; or\\n(ii) if the subsequent acquirer acquires the property from another subsequent acquirer: the relevant subsequent acquirer and all the subsequent acquirers that previously acquired the property, at the time of their respective acquisitions, know that the obligor's act will be prejudicial to the obligee.\",\n",
       " 'Article 424 (1) An obligee may demand the court to rescind an act which the obligor commits knowing that it will prejudice the obligee; provided, however, that this does not apply if a person that benefits from that act (hereinafter referred to as the \"beneficiary\" in this Subsection) does not know, at the time of the act, that the obligee will be prejudiced.',\n",
       " 'Article 425 A final and binding judgment upholding demand for rescission of fraudulent act is effective against the obligor and all obligees.',\n",
       " \"Article 425-4 If an act done by the obligor is rescinded by the demand for rescission of fraudulent act made against the subsequent acquirer, the subsequent acquirer may exercise the right specified in each of the following items according to the categories set forth in the respective items; provided, however, that this is limited to the value of the counter-performance which was completed by the subsequent acquirer in order to acquire the property from the predecessor or the value of the claim which was extinguished as a result of the acquisition of the property by the subsequent acquirer from the predecessor:\\n(i) if the act prescribed in Article 425-2 is rescinded: the beneficiary's right to demand return of the counter-performance or right to demand reimbursement of its value from the obligor, which should have arisen pursuant to the provisions of that Article if the act were rescinded by the demand for rescission of fraudulent act against the beneficiary; or\\n(ii) if the act prescribed in the preceding Article is rescinded (excluding the case of rescission pursuant to the provisions of Article 424-4): the beneficiary's claim against the obligor, which should have been restored pursuant to the provisions of the preceding Article if the act were rescinded by demand for rescission of fraudulent act against the beneficiary.\",\n",
       " 'Article 438 If novation takes place between one of the joint and several obligors and the obligee, the claim is extinguished for the benefit of all joint and several obligors.',\n",
       " 'Article 438 If novation takes place between one of the joint and several obligors and the obligee, the claim is extinguished for the benefit of all joint and several obligors.',\n",
       " 'Article 439 (1) If one of the joint and several obligors has a claim against the obligee and invokes a set-off, the claim is extinguished for the benefit of all joint and several obligors.',\n",
       " \"Article 443 (1) If one of the joint and several obligors performs the obligation or otherwise obtains a common discharge in exchange for that obligor's own property, while knowing the existence of other joint and several obligors but without giving notice of the common discharge to the other joint and several obligors, another joint and several obligor has a defense that can be duly asserted against the obligee, the other joint and several obligor may duly assert that defense against the joint and several obligor that obtained the discharge to the extent of the other obligor's share of the obligation.\",\n",
       " 'Article 466-5 (1) Notwithstanding the provisions of Article 466, paragraph (2), the manifestation of intention to restrict assignment which is made by a party with regard to a claim for deposits in a deposit account (hereinafter referred to as a \"claim for deposits\") may be duly asserted against a third party such as the assignee that knew or did not know due to gross negligence that the manifestation of intention to restrict assignment was made.',\n",
       " 'Article 499 A person that has performed the obligation for the benefit of the obligor is subrogated to the claim of the obligee.',\n",
       " \"Article 502 (1) If performance by subrogation occurs with respect to one part of a claim, the subrogee, with the consent of the obligee, may exercise the rights of the subrogee together with the obligee in proportion to the value of the subrogee's performance.\",\n",
       " 'Article 504 (1) If there is a person that has legitimate interest in performing an obligation (hereinafter referred to as a \"person entitled to subrogation\" in this paragraph), and the obligee causes the security thereof to be lost or diminished intentionally or negligently, the person entitled to subrogation is relieved from responsibility to the extent that that person can no longer seek the reimbursement due to the loss or diminution in the security available upon subrogation.',\n",
       " 'Article 404 (1) Unless the parties manifest a particular intention with respect to a claim which bears interest, the rate of the interest is the statutory interest rate as of the time when the interest first accrues.',\n",
       " 'Article 484 (1) Unless a particular intention is manifested with respect to the place where the performance should take place, the delivery of a specific thing must be effected at the place where that thing was located when the relevant claim accrued, and the discharge of any other obligation must be effected at the current domicile of the obligee.',\n",
       " \"Article 539-2 If one of the parties to a contract made an agreement with a third party to transfer that party's contractual status to that third party, and the other party to the contract gives consent to the transfer, the contractual status is transferred to the third party.\",\n",
       " 'Article 537 (1) If one of the parties promises in a contract to render a certain performance to a third party, the third party has the right to claim that performance directly from the obligor.',\n",
       " 'Article 537 (1) If one of the parties promises in a contract to render a certain performance to a third party, the third party has the right to claim that performance directly from the obligor.',\n",
       " 'Article 415 (1) If an obligor fails to perform consistent with the purpose of the obligation or the performance of an obligation is impossible, the obligee may claim compensation for loss or damage arising from the failure; provided, however, that this does not apply if the failure to perform the obligation is due to grounds not attributable to the obligor in light of the contract or other sources of obligation and the common sense in the transaction.',\n",
       " 'Article 415 (1) If an obligor fails to perform consistent with the purpose of the obligation or the performance of an obligation is impossible, the obligee may claim compensation for loss or damage arising from the failure; provided, however, that this does not apply if the failure to perform the obligation is due to grounds not attributable to the obligor in light of the contract or other sources of obligation and the common sense in the transaction.',\n",
       " 'Article 562 (1) If the subject matter delivered to the buyer does not conform to the terms of the contract with respect to the kind, quality or quantity, the buyer may demand that the seller cure the non-conformity of performance by repairing the subject matter, delivering the substitute or delivering the replenishment; provided, however, that the seller may cure the non-conformity of performance by a method that is different from the method demanded by the buyer if it does not impose any undue burden on the buyer.',\n",
       " 'Article 564 The provisions of the preceding two Articles do not preclude the buyer from claiming compensation for loss or damage pursuant to the provisions of Article 415 or exercising the right to cancel pursuant to the provisions of Articles 541 and 542.',\n",
       " 'Article 566 If the subject matter delivered by the seller to the buyer does not conform to the terms of the contract with respect to the kind or quality, and the buyer fails to notify the seller of the non-conformity within one year from the time when the buyer becomes aware of it, the buyer may not demand cure of the non-conformity of performance, demand a reduction of the price, claim compensation for loss or damage, or cancel the contract, on the grounds of the non-conformity; provided, however, that this does not apply if the seller knew or did not know due to gross negligence the non-conformity at the time of the delivery.',\n",
       " 'Article 605-2 (1) If a lease is perfected in accordance with the laws and regulations including the preceding Article, and Articles 10 and 31 of the Act on Land and Building Leases (Act No.',\n",
       " 'Article 606 (1) A lessor assumes an obligation to effect repairs necessary for using and making profit of the leased thing; provided, however, that this does not apply if repairs are necessary due to any grounds attributable to the lessee.',\n",
       " 'Article 611 (1) If it comes to no longer be possible to use or profit from part of a leased thing due to grounds such as loss and this is caused by grounds not attributable to the lessee, the rent is reduced in proportion to the value of the part that can no longer be used or profited from.',\n",
       " 'Article 613 (3) If the lessee lawfully subleases a leased thing, the lessor may not duly assert against the sublessee the cancellation by agreement of the lease with the lessee; provided, however, that this does not apply if, at the time of the cancellation, the lessor has a right to cancel due to non-performance on the part of the lessee.',\n",
       " 'Article 621 If any damage is caused to the leased thing after the lessee receives it (excluding any wear of the leased thing caused by the ordinary manner of using and making profit from it and any aging degradation of the leased thing; hereinafter the same applies in this Article), the lessee has an obligation to restore the damaged thing when the lease is terminated; provided, however, that this does not apply if the damage is caused due to any grounds not attributable to the lessee.',\n",
       " 'Article 651 (1) A mandate may be cancelled by either party at any time.',\n",
       " 'Article 656 The provisions of this Section apply mutatis mutandis to entrustments of business that do not constitute juridical acts.',\n",
       " 'Article 649 If costs will be incurred in administering the mandated business, the mandator must, at the request of the mandatary, pay an advance for those costs.',\n",
       " 'Article 653 A mandate terminates when:\\n(i) the mandator or mandatary dies;\\n(ii) the mandator or mandatary is subject to an order commencing bankruptcy proceeding;\\n(iii) the mandatary is subject to a decision for the commencement of guardianship.',\n",
       " \"Article 676 (2) A partner may not independently exercise the rights with regard to a claim that is included in the partnership property based on that partner's interest in the claim.\",\n",
       " 'Article 670 (1) The partnership business is decided by the majority of the partners and executed by each partner.',\n",
       " 'Article 678 (2) Even if the duration of the partnership is specified, each partner may withdraw if there is a compelling reason to do so.',\n",
       " \"Article 677-2 (2) A partner that is admitted to a partnership pursuant to the provisions of the preceding paragraph after it is formed is not liable to perform the obligations of the partnership that arose before that partner's admission.\",\n",
       " 'Article 676 (3) A partner may not seek the division of the partnership property before liquidation.',\n",
       " 'Article 706 If an obligor has paid money or delivered anything as performance of an obligation that has not yet fallen due, the obligor may not demand the return of the money paid or thing delivered; provided, however, that if the obligor tendered anything by mistake, the obligee must return the benefit gained as a result.',\n",
       " 'Article 707 (1) If a person that is not an obligor has performed an obligation by mistake and the obligee, acting in good faith, has allowed the instrument to be lost, has damaged the instrument, has waived the security, or has lost the claim by prescription, the person performing the obligation may not demand the return of subject matter of the performance.',\n",
       " 'Article 509 The obligor of either of the following obligations may not duly assert a set-off against the obligee; provided, however, that this does not apply if the obligee acquires a claim corresponding to the relevant obligation from another person:\\n(i) an obligation for compensation for loss or damage based on a tort committed in bad faith; or\\n(ii) an obligation for compensation for loss or damage for death or injury to person (excluding the one set forth in the preceding item).',\n",
       " 'Article 120 (2) An act that is voidable on the grounds of a mistake, fraud or duress may be rescinded only by the person who made the defective manifestation of intention, or an agent or successor thereof.',\n",
       " 'Article 153 (1) The postponement of the expiry of prescription period or the renewal of prescription period under the provisions of Article 147 or Article 148 is effective only between the parties with respect to whom grounds to postpone the expiry of prescription period or to renew prescription period have arisen and their successors.',\n",
       " \"Article 187 (1) A successor to a possessor may, as the successor chooses, assert either the successor's own possession only, or the successor's own possession together with that of the predecessor.\",\n",
       " 'Article 254 A claim that one of the co-owners holds against other co-owners with respect to the property in co-ownership may be exercised against their specific successors.',\n",
       " 'Article 406 If the subject matter of the claim is to be determined by a choice being made from among more than one performance, the right to choose belongs to the obligor.',\n",
       " 'Article 540 (1) If one of the parties has the right to cancel pursuant to the provisions of the contract or the law, the cancellation is effected by manifestation of intention to the other party.',\n",
       " 'Article 6 (1) A minor who is permitted to conduct one or multiple types of business has the same capacity to act as an adult as far as that business is concerned.',\n",
       " 'Article 120 (1) An act that is voidable on the grounds of the qualified legal capacity to act of the person who did the act may be rescinded only by the person with qualified legal capacity (in the case of an act performed by the person as a legal representative of another person with limited capacity, including that other person with limited capacity), or an agent or successor thereof, or a person who has the authority to give consent thereto.',\n",
       " 'A minor is a person who is under the age of 18.',\n",
       " 'The person who made the manifestation of intention may assert such nullity of the manifestation of intention by mistake if twenty years has elapsed from the time of the manifestation of intention.',\n",
       " 'Article 95 (1) A manifestation of intention is voidable if it is based on either of the following mistakes, and the mistake is material in light of the purpose of the juridical act and the common sense in the transaction: (i) a mistake wherein the person lacks the intention that corresponds to the manifestation of intention; or (ii) a mistake wherein the person making the manifestation of intention holds an understandings that does not correspond to the truth with regard to the circumstances which the person has taken as the basis for the juridical act.',\n",
       " 'Article 9 A juridical act performed by an adult ward is voidable;provided, however, that this does not apply to the purchase of daily necessities or to any other act involved in day-to-day life.',\n",
       " \"The person may not assert a manifestation of intention against the other party thereto if that other party had no mental capacity or was a minor or an adult ward at the time of receiving it;provided, however, that this does not apply after either of the following persons learns of the manifestation of intention: (i) the legal representative of the other party; or (ii) the other party, after that other party's mental capacity has been restored or after that other party has become a person with capacity to act.\",\n",
       " 'The offeror dies, comes to be in a constant state wherein the offeror lacks mental capacity, or becomes subject to restrictions on legal capacity to act after issuing notice of the offer, and the offeror has manifested the intention not to make the offer effective should any of these facts occur, or the other party comes to know that any of these facts has occurred before issuing a notice of acceptance, that offer is not effective.',\n",
       " 'The effect of a manifestation of intention is not impaired even if the person making it dies, loses mental capacity, or becomes subject to restrictions on their legal capacity to act after having sent the notice.',\n",
       " 'The effect of a manifestation of intention is not impaired even if the person making it dies, loses mental capacity, or becomes subject to restrictions on their legal capacity to act after having sent the notice.',\n",
       " 'The provisions of the preceding paragraph do not apply in the following cases: (i) if the counterparty knew that the person who concluded the contract as an agent of the other person had no authority to represent; (ii) if the counterparty was negligent in not knowing that the person who concluded the contract as an agent of the other person had no authority to represent;provided, however, that this does not apply if the person who concluded a contract as an agent of the other person knew themselves to have no authority to represent; or (iii) if the legal capacity to act of the person who concluded the contract as an agent of the other person was subject to restrictions.',\n",
       " 'The authority to represent ceases to exist upon: (i) death of the principal; and (ii) death of the agent, or being given an order commencing bankruptcy proceeding or a decision for commencement of guardianship against the agent.',\n",
       " \"A sub-agent has the same rights and obligations as an agent in relation to the principal and third parties within the scope of that sub-agent's authority.\",\n",
       " \"The sub-agent has the same rights and obligations as an agent in relation to the principal and third parties within the scope of that subagent's authority.\",\n",
       " 'The agent (B) may rescind the contract for sale; however, the principal (A) may not rescind it.',\n",
       " 'The order of priority of special statutory liens,pledges and mortgages with respect to the same immovable properties shall follow the chronological order of their registration.',\n",
       " 'Article 304 (1) A statutory lien may also be exercised against things including monies that the obligor is to receive as a result of the sale, lease or loss of, or damage to, the subject matter of the statutory lien;provided, however, that the holder of the statutory lien must attach the same before the payment or delivery of the monies or other thing.',\n",
       " 'Article 302 A right of retention is extinguished if the holder of the right of retention loses possession of the thing retained;provided, however, that this does not apply if the thing retained is leased or it is made the subject of a pledge pursuant to the provisions of Article 298, paragraph (2).',\n",
       " 'The pledgee of those movables has the same rights as those of the holder of a statutory lien of the first rank under Article 330.',\n",
       " 'Article 295 (1) If a possessor of a thing belonging to another person has a claim that has arisen in relation to that thing, that possessor may retain that thing until that claim is satisfied;provided, however, that this does not apply if the relevant claim has not yet fallen due.',\n",
       " \"The lessor has a statutory lien solely against the portion of the lessor's claim that will not be satisfied by that security deposit.\",\n",
       " \"The furniture store's statutory lien is ranked third, and the lessor's statutory lien is ranked first.\",\n",
       " 'Article 308 Statutory liens for employer-employee relationships exist with respect to salaries and other claims that arise from the employer-employee relationship between the obligor and the employee.',\n",
       " 'The statutory lien for the sale of movables is a special statutory lien and the statutory lien for salaries is a general statutory lien.',\n",
       " 'Holders of general statutory liens cannot be paid out of immovables unless they are first paid out of property other than immovables and a claim that is not satisfied remains.',\n",
       " 'Article 372 The provisions of Article 296, Article 304 and Article 351 apply mutatis mutandis to mortgages.',\n",
       " 'Article 371 If there is a default with respect to a claim secured by a mortgage, the mortgage extends to the fruits of the mortgaged immovables derived after the default.',\n",
       " 'The third party can refuse to pay the price of the same to the relevant mortgagee.',\n",
       " 'The approval of the person that holds the rights for which that revolving mortgage is the subject matter must be obtained.',\n",
       " 'The approval of subordinated obligees is not required to effect the changes referred to in the preceding paragraph.',\n",
       " 'The same applies with respect to change of obligors.',\n",
       " 'The date when the principal is to be crystallized may be specified or changed.',\n",
       " '(1) A revolving mortgagee may exercise the relevant revolving mortgage up to the maximum amount with respect to all of crystallized principal as well as periodic payments including interest and compensation for loss or damage resulting from failure to perform obligations.',\n",
       " 'The parties may make a claim indivisible by manifesting their intention.',\n",
       " 'Even if there is a novation or release between one of the obligees of an indivisible claim and the obligor, other obligees may request the obligor to perform the obligation in whole.',\n",
       " 'The right to choose belongs to the obligor.',\n",
       " 'Article 499 A person that has performed the obligation for the benefit of the obligor is subrogated to the claim of the obligee.',\n",
       " 'Gifts become effective by the manifestation of intention by one of the parties to give a certain property to the other party gratuitously, and the acceptance of the other party thereof.',\n",
       " 'Even if the seller makes a special agreement to the effect that the seller does not warrant in the case prescribed in the main clause of Article 562, paragraph (1) or Article 565, the seller may not be released from that responsibility with respect to any fact that the seller knew but did not disclose, and with respect to any right that the seller personally created for or assigned to a third party.',\n",
       " 'The depositor may demand the return of money at any time after the depositary has received the notice of demand.',\n",
       " 'Article 652 The provisions of Article 620 apply mutatis mutandis to mandates.',\n",
       " 'A quasi-mandate shall be effective even if it is not made in writing but a mandate shall not be effective unless it is made in writing.',\n",
       " \"If a creditor of a partnership knew the proportion of each partner's share of loss at the time of occurrence of the claim, the exercise of the creditor's rights is based on those proportions.\",\n",
       " \"Article 677 A partner's creditor may not exercise the rights of that creditor against the partnership property.\",\n",
       " 'The partnership may be dissolved on the successful completion of the business that is its object.',\n",
       " 'The person must have known that the obligation did not exist in order to be able to demand the return of the thing.',\n",
       " 'Superficies and farming rights may be the subject matter of a mortgage.',\n",
       " 'Article 606 (1) A lessor assumes an obligation to effect repairs necessary for using and making profit of the leased thing;provided, however, that this does not apply if repairs are necessary due to any grounds attributable to the lessee.',\n",
       " 'Article 612 (1) A lessee may not assign the lease or sublease a leased thing without obtaining the approval of the lessor.',\n",
       " 'A juridical act in contravention of the provisions of the preceding paragraph is voidable.',\n",
       " 'The minor may rescind the contract only by the person with qualified legal capacity or an agent or successor thereof, or a person who has the authority to give consent thereto.',\n",
       " 'The ratification of a voidable act does not become effective unless it is made after the circumstances that made the act voidable cease to exist and the person ratifying the act becomes aware of the right to rescind it.',\n",
       " 'Article 9 A juridical act performed by an adult ward is voidable;provided, however, that this does not apply to the purchase of daily necessities or to any other act involved in day-to-day life.',\n",
       " 'A, an adult ward, performs as legal representative of B, a minor, may not be rescinded on the grounds of qualified legal capacity of A.',\n",
       " \"Article 158 (2) If a minor or an adult ward has a right vis-a-vis the minor's or the adult ward's father, mother, or guardian who manages the property, the prescription period does not expire with respect to that right until six months have passed from the time when that minor or adult ward becomes a person with capacity to act, or a succeeding legal representative assumes the position.\",\n",
       " 'A manifestation of intention becomes effective at the time notice thereof reaches the other party.',\n",
       " 'B is not a person with the legal capacity to act.',\n",
       " 'The nullity of a manifestation of intention under the provisions of the proviso to the preceding paragraph may not be duly asserted against a third party in good faith.',\n",
       " 'The manifestation of intention based on the mistake may not be rescinded if the mistake is due to gross negligence on the part of the person making the manifestation of intention, and the other party was under the same mistake as the person making the manifestation of intention.',\n",
       " '(1) A manifestation of intention based on fraud or duress is voidable.',\n",
       " 'Article 120 (1) An act that is voidable on the grounds of the qualified legal capacity to act of the person who did the act may be rescinded only by the person with qualified legal capacity (in the case of an act performed by the person as a legal representative of another person with limited capacity, including that other person with limited capacity), or an agent or successor thereof, or a person who has the authority to give consent thereto.',\n",
       " 'A, a person under curatorship, may not rescind a judicial act by A after the legal representative ratifies the judicial act.',\n",
       " 'A can only void the act if C knew or could have known about the fraud.',\n",
       " 'A has the obligation to return to the extent currently enriched by the act.',\n",
       " 'The right to rescind an act is extinguished by the operation of the prescription if it is not exercised within five years from the time when it becomes possible to ratify the act.',\n",
       " 'The one who acquired Land X after the mortgage had been created on Land X and the creation had been registered may invoke the extinctive prescription of the secured claim under the mortgage.',\n",
       " 'The acquisition of ownership of Building X may not be duly asserted against any third parties, unless the same are registered pursuant to the applicable provisions of the Real Property Registration Act (Act No.',\n",
       " 'The first-ranked mortgage for the benefit of B shall not be extinguished if B purchases Land X from A.',\n",
       " 'A created the superficies on Land X, owned by A, for the benefit of B, and B created the mortgage on the superficies for the benefit of C.',\n",
       " 'Article 179 (1) If ownership and another real right on the same thing are acquired by the same person, the other real right is extinguished;provided, however, that this does not apply if that thing or the other real right is the object of the right of a third party.',\n",
       " 'The transfer of a real right on movables may not be duly asserted against a third party, unless the movables are delivered.',\n",
       " \"B is the transferee of X and the transfer of possessory rights may be effected by the parties' manifestations of intention alone.\",\n",
       " 'The location and method of passage must be chosen so as to meet the needs of the person that is entitled to the right-of-way under the provisions of that Article and cause the least damage to the other land.',\n",
       " 'A person that holds the right-of-way under the provisions of the preceding Article may construct a road if necessary.',\n",
       " 'Article 267 The provisions of Section 1, Subsection 2 of the preceding Chapter (Neighboring Relationships) apply mutatis mutandis between superficiaries or between a superficiary and a landowner;provided, however, that the mutatis mutandis application of the provisions of Article 229 to superficiaries is limited to when structures on the boundary line are installed after the establishment of the superficies.',\n",
       " \"Article 253 (2) If a co-owner does not perform the obligations referred to in the preceding paragraph within one year, other co-owners may acquire that co-owner's interest by paying a reasonable compensation.\",\n",
       " 'Article 259 (1) If one of the co-owners holds a claim regarding co-ownership against other co-owners, upon partition, the portion of the property in co-ownership that belongs to the obligor may be appropriated for the payment of the same.',\n",
       " 'A commenced possession of Building X, owned by B, while knowing there is no title, and thereafter A obtained a claim that has arisen in relation to X.',\n",
       " 'The holder of the right of retention may only exercise the right of the retention over the thing retained.',\n",
       " 'The holder of the right of retention violated the provisions of the preceding two paragraphs, the obligor may demand that the right of retention be terminated.',\n",
       " 'A sold X to B and delivered X to B.',\n",
       " 'Article 334 If there is conflict between a statutory lien and a pledge on movables, the pledgee of those movables has the same rights as those of the holder of a statutory lien of the first rank under Article 330.',\n",
       " \"Article 366 (2) If monies are the subject matter of a pledged claim, the pledgee may collect the same to the extent of the portion that corresponds to the amount of the pledgee's own claim.\",\n",
       " 'Article 366 (3) If the due date of the pledged claim referred to in the preceding paragraph arrives prior to the due date of the claim of the pledgee, the pledgee may have the third party obligor deposit with official depository that amount to be paid to the pledgee.',\n",
       " 'The scope of effect of the pledge of the claim shall extend to the interest arising from Claim Y.',\n",
       " 'C is a general creditor of A, and A is the principal obligor.',\n",
       " 'The consent of C is required to change the order of priority of the mortgage.',\n",
       " 'The right of priority of that mortgagee may be exercised solely against the proceeds of the land.',\n",
       " 'C is a third party that purchases the ownership or superficies of a mortgaged immovables.',\n",
       " \"The seller must exercise care identical to that the obligor exercises for the obligor's own property.\",\n",
       " \"Article 413 (2) If the obligee's refusal or inability to accept the performance of an obligation results in increasing the expenses for the performance, the amount of increase is borne by the obligee.\",\n",
       " 'The seller tendered the performance of the delivery of the subject matter.',\n",
       " 'The buyer may not cancel the contract if the seller has already performed the obligation of delivery.',\n",
       " 'C may duly assert the extinguish of the claim by the performance against A.',\n",
       " 'A may exercise the claim of B against C only to the extent of the amount of A’s claim.',\n",
       " 'A has no right to request C directly transfer the registration to A.',\n",
       " \"Article 449 If a guarantor that guarantees an obligation which may be voidable due to the principal obligor's limited capacity to act, is aware, at the time of entering into a guarantee contract, of the cause for its voidability, that guarantor is presumed to have assumed an independent obligation of the same subject matter in the event of non-performance by the principal obligor or rescission of the obligation.\",\n",
       " 'The guarantor has the right to reimbursement only to the extent currently enriched.',\n",
       " 'The guarantor may deem that the performance is valid only if the guarantor gives a guarantee as requested by the principal obligor.',\n",
       " 'Article 446(1) A guarantor has the responsibility to perform the obligation of the principal obligor when the latter fails to perform that obligation.',\n",
       " \"Article 465(1) If there are multiple guarantors, and one guarantor has paid the entire amount of the obligation or any amount exceeding that guarantor's share because the principal obligation is indivisible, or because there is a special provision to the effect that each guarantor should pay the entire amount, the provisions of Articles 442 through 444 apply mutatis mutandis.\",\n",
       " 'B may not refuse to perform the obligation to C because A and B made a special agreement prohibiting the assignment of Claim X.',\n",
       " 'B may refuse to perform the obligation to C based on the special agreement prohibiting the assignment if B does not perform the obligation within a reasonable period of time.',\n",
       " 'The validity of the assignment of the claim is not impaired even if a party to a claim manifests the intention to prohibit or restrict the assignment of the claim.',\n",
       " 'Article 466-2 (1) If a claim for payment of money subject to the manifestation of intention to restrict assignment is assigned to a third party, the obligor may deposit the amount of money equivalent to the full amount of the claim with an official depository having jurisdiction over the place of performance of the obligation (including the current domicile of the assignor if the place of performance of the obligation is determined on the basis of the current domicile of the obligee; the same applies in the following Article).',\n",
       " 'C knew or did not know due to gross negligence that the manifestation of intention to restrict assignment was made, and the obligee of the assignee or other third party enforces compulsory execution against the claim referred to in that paragraph, the obligor may refuse to perform the obligation and duly assert against an attaching obligee any event that results in extinguishing the obligation such as payment to the assignor.',\n",
       " 'Article 494 (2) The preceding paragraph also applies if the performer is unable to ascertain the obligee;provided, however, that this does not apply if the performer is negligent in this respect.',\n",
       " 'The performer may recover the deposited thingy as long as the obligee does not accept the deposit, or the judgment which pronounces that the deposit is effective does not become final and binding.',\n",
       " 'Article 495 (3) A person that has effected a deposit pursuant to the provisions of the preceding Article must notify the obligee of the deposit without delay.',\n",
       " 'The claim is extinguished when the performer makes the deposit.',\n",
       " 'The obligor of either of the following obligations may not duly assert a set-off against the obligee;provided, however, that this does not apply if the obligee acquires a claim corresponding to the relevant obligation from another person: (i) an obligation for compensation for loss or damage based on a tort committed in bad faith; or (ii) an obligation for compensation for loss or damage for death or injury to person (excluding the one set forth in the preceding item).',\n",
       " 'The obligor of the claim not yet due may waive the benefit of time stipulation.',\n",
       " 'A third party obligor of a claim which has been attached may assert set-off using the claim against the attached obligor held prior to the attachment.',\n",
       " 'Article 598 (2) If the parties do not specify a period of a loan for use or a purpose of using and making profit from the borrowed thing, the lender may cancel the contract at any time.',\n",
       " 'Article 617 (1) If the parties do not specify the term of a lease, either party may give a notice of termination at any time.',\n",
       " 'The contractor may not cancel the contract for work at any time whilst the contractor has not completed the work by paying compensation for loss or damage.',\n",
       " 'Article 651 (1) A mandate may be cancelled by either party at any time.',\n",
       " 'Article 657-2 (2) A gratuitous bailee may cancel the contract up until the bailee receives the bailed thing;provided, however, that this does not apply to a bailment made in writing.',\n",
       " 'The buyer may cancel the contract by the earnest money for cancellation until the buyer commences performance of the contract even if the seller has already commenced performance of the contract.',\n",
       " 'Article 557 (1) If the buyer pays earnest money to the seller, the buyer may cancel the contract by waiving the earnest money, or the seller may cancel the contract by actually providing the buyer with twice its amount;provided, however, that this does not apply after the counterparty commences performance of the contract.',\n",
       " 'The seller may cancel the contract by actually providing the buyer with twice its amount;provided, however, that this does not apply after the counterparty commences performance of the contract.',\n",
       " 'Article 557 (2) The provisions of Article 545, paragraph (4) do not apply to the cases referred to in the preceding paragraph.',\n",
       " 'Article 587 A loan for consumption becomes effective when a first party receives money or any other thing from a second party, having promised to return a thing of the same type, quality, and quantity.',\n",
       " 'The borrower of a loan for consumption made in writing may cancel the contract until the borrower receives the money or other thing from the lender.',\n",
       " 'Article 589 (1) In the absence of any special agreement, the lender may not demand interest from the borrower.',\n",
       " 'The borrower may return the borrowed thing at any time, irrespective of whether the parties have defined the time of return of the thing.',\n",
       " 'Article 590 (2) Irrespective of whether there is any special agreement referred to in paragraph (1) of the preceding Article, if the thing delivered from the lender does not conform to the terms of the contract with respect to the kind or quality, the borrower may return the value of the delivered thing.',\n",
       " \"Article 316(1) states that the lessor has a statutory lien solely against the portion of the lessor's claim that will not be satisfied by that security deposit.\",\n",
       " 'A may not demand that the lessor appropriate the security deposit to the payment of the obligation.',\n",
       " 'A may retain Building X until the claim is satisfied, but not until the claim has not yet fallen due.',\n",
       " 'A may demand the return of the security deposit from B if A lawfully assigned the lease to C.',\n",
       " 'Article 648-2 (1) If the parties agree that remuneration will be paid for any result that may be obtained through the performance of the mandated business, and the result is required to be delivered, remuneration must be paid simultaneously upon the delivery of the result.',\n",
       " 'A mandatary may not appoint a sub-mandatary unless the mandatary obtains the permission of the mandator or there is a compelling reason to do so.',\n",
       " 'The mandator may cancel the mandate at any time.',\n",
       " 'Article 650 (1) If the mandatary has expended costs found to be necessary for the administration of the mandated business, the mandatary may claim reimbursement of those costs from the mandator and any interest on the same from the day the costs were expended.',\n",
       " 'Article 652 The provisions of Article 620 apply mutatis mutandis to mandates.',\n",
       " \"Article 701 The provisions of Article 645 through Article 647 apply mutatis mutandis to the benevolent intervention in another's business.\",\n",
       " 'The manager may claim reimbursement of the costs that the manager has already paid for from the principal.',\n",
       " 'The manager must report the process and results without delay upon termination of the mandate.',\n",
       " \"Article 698 If a manager engages in benevolent intervention in another's business in order to allow a principal to escape imminent danger to the principal's person, reputation, or property, the manager is not liable to compensate for damage resulting from this unless the manager has acted in bad faith or with gross negligence.\",\n",
       " 'Article 724 In the following cases, the claim for compensation for loss or damage caused by tort is extinguished by prescription: (ii) the right is not exercised within 20 years from the time of the tortious act.',\n",
       " 'A person that, in response to the tortious act of another, is compelled to commit a harmful act to protect rights or legally protected interests of the person or of a third party, is not liable for compensation for loss or damage;provided, however, that this does not preclude a victim from filing a claim of compensation for loss or damage against the person that committed the tortious act.',\n",
       " 'A loan for use is terminated upon the death of the borrower.',\n",
       " 'The assignment of a claim (including the assignment of a claim that is yet to arise) may not be duly asserted against the applicable obligor or any other third party, unless the assignor gives notice thereof to the obligor or the obligor has consented to the same.',\n",
       " 'Article 525(1) An offer made without specifying a period for acceptance may not be revoked until the passage of a reasonable period of time for the offeror to receive a notice of acceptance;provided, however, that this does not apply if the offeror reserves the right to revoke.',\n",
       " 'The assumption of obligation not releasing an obligor may also be effected by a contract between the initial obligor and the person that becomes the additional obligor.',\n",
       " 'A bailee may not use the bailed thing without obtaining the consent of the bailor.',\n",
       " 'The possessor must be in bad faith for the court to grant a reasonable period of time for the reimbursement.',\n",
       " 'The pledgee may make a request to the court seeking the immediate appropriation of the thing pledged for the satisfaction of that claim in accordance with the evaluation of an appraiser only when there are reasonable grounds.',\n",
       " 'The performer may, with the permission of the court, sell the thing that is the subject matter of performance at public auction and deposit the proceeds of such sales with an official depository: (iii) excessive expenses are required for the preservation of the thing; or.',\n",
       " \"The family court may decide to commence an assistance in respect of a person whose capacity to appreciate their own situation is inadequate due to a mental disorder, at the request of the person in question, that person's spouse, that person's relative within the fourth degree of kinship, the guardian, the guardian's supervisor, the curator, the curator's supervisor, or a public prosecutor;provided, however, that this does not apply to a person with respect to whom there are grounds as prescribed in Article 7 or the main clause of Article 11.\",\n",
       " \"The family court may grant permission that operates in lieu of the curator's consent at the request of the person under curatorship.\",\n",
       " 'The family court must rescind the decision for commencement of the assistance respecting that person.',\n",
       " 'The counterparty has no right to rescind if the person with limited capacity and the statutory agent have the right to rescind.',\n",
       " 'The contract can only be rescinded by the person who did the act.',\n",
       " 'If a person with qualified legal capacity uses fraudulent means to induce another person to believe that the person is a person with legal capacity to act, the person may not rescind the act in question.',\n",
       " 'Article 99 (2) The provisions of the preceding paragraph apply mutatis mutandis to a manifestation of intention that a third party makes to an agent.',\n",
       " 'The authority to represent ceases to exist upon: (i) death of the principal; and (ii) death of the agent, or being given an order commencing bankruptcy proceeding or a decision for commencement of guardianship against the agent.',\n",
       " 'The validity of a manifestation of intention that an agent has made to the other party is to be influenced by the absence of intention; by mistake, fraud, or duress; or by the knowledge of or negligence in not knowing of a particular circumstance; whether or not any such fact was present is decided as it concerns the agent.',\n",
       " 'Ratification is retroactive to the time of the conclusion of the contract unless a particular intention is manifested;provided, however, that this may not prejudice the rights of a third party.',\n",
       " 'A privately appointed agent shall not be responsible vis-a-vis the principal for the appointment and supervision of such sub-agent if it appointed the sub-agent in accordance with the nomination by the principal: provided, however, that, this shall not apply to the cases where the agent knows that the sub-agent is untrustworthy, and fails to notify the principal thereof or to dismiss the sub-agent.',\n",
       " '(1) A person who indicates to a third party that the person granted certain authority to represent to another person is liable for an act performed between that other person and that third party within the scope of the authority to represent;provided, however, that this does not apply if the third party knew or did not know due to negligence that the other person has not been granted the authority to represent.',\n",
       " 'Article 115 A counterparty may rescind a contract that a person without the authority to represent has concluded until the principal ratifies it;provided, however, that this does not apply if the counterparty knew at the time of the conclusion of the contract that the agent had no authority to represent.',\n",
       " '(1) A person who concludes a contract as an agent of another person is liable to the counterparty for the performance of the contract or compensation for loss or damage, as chosen by the counterparty, unless the person proves the authority to represent or the principal ratifies the contract.',\n",
       " 'Article 131(2) If it has already been established at the time of a juridical act that a condition will not be fulfilled and that condition is a condition precedent, the juridical act is void; if that condition is a condition subsequent, the juridical act constitutes an unconditional act.',\n",
       " 'The same applies to a juridical act subject to the condition that an unlawful act not be performed.',\n",
       " 'While it is uncertain whether or not a condition will be fulfilled, the rights and obligations of the party concerned may be disposed of, inherited or preserved, or a security may be provided therefor, in accordance with the general provisions.',\n",
       " 'The extinctive prescription of the debt shall be nullified until the time when the applicable heir is identified.',\n",
       " 'Article 441 Except in cases prescribed in Articles 438, Article 439, paragraph (1), and the preceding Article, any circumstances which have arisen with respect to one of the joint and several obligors is not effective in relation to other joint and several obligors;provided, however, that if the obligee and one of the other joint and several obligors manifest a different intention, their intention prevails with respect to the effect in relation to the remaining other joint and several obligees.',\n",
       " 'Article 441 Except in cases prescribed in Articles 438, Article 439, paragraph (1), and the preceding Article, any circumstances which have arisen with respect to one of the joint and several obligors is not effective in relation to other joint and several obligors;provided, however, that if the obligee and one of the other joint and several obligors manifest a different intention, their intention prevails with respect to the effect in relation to the remaining other joint and several obligees.',\n",
       " 'Article 189 (1) A possessor in good faith acquires fruits derived from the thing under possession.',\n",
       " \"The obligee may make the demand under the provisions of paragraph (1) only if the obligee's claim has arisen from a cause that existed before the act prescribed in paragraph (1).\",\n",
       " 'A claim or property right other than ownership is extinguished by prescription if not exercised within 20 years from the time when the right became exercisable.',\n",
       " 'A pledge may have a property right for its subject matter.',\n",
       " 'A may demand the restitution of the thing and compensation for loss or damage by filing an action for recovery of possession.',\n",
       " 'C may not assert against A to aquire the ownership of the movable \"a\" without unknowlegde and negligence regarding to the trade of the movable \"a\" between A and B.',\n",
       " 'A may asserted against B to aquire the ownership of the movable \"a\" if A bought it from B.',\n",
       " 'The creation of a pledge becomes effective through delivery of the subject matter of the pledge to the obligee.',\n",
       " 'A shall not acquire the possessory right if the depositary possesses the movable \"a\" on behalf of B.',\n",
       " 'Any claim of a real right based on an ownership is the right derived from the ownership; therefore, only a claim of real right separated from an ownership may not be assigned, but may be extinguished by an extinctive prescription.',\n",
       " 'C is the third co-owner of the land and he has the right to use the entire property in co-ownership in proportion to his interest.',\n",
       " 'Article 179 (1) If ownership and another real right on the same thing are acquired by the same person, the other real right is extinguished;provided, however, that this does not apply if that thing or the other real right is the object of the right of a third party.',\n",
       " 'Article 179 (1) If ownership and another real right on the same thing are acquired by the same person, the other real right is extinguished;provided, however, that this does not apply if that thing or the other real right is the object of the right of a third party.',\n",
       " 'Article 179 (1) If ownership and another real right on the same thing are acquired by the same person, the other real right is extinguished;provided, however, that this does not apply if that thing or the other real right is the object of the right of a third party.',\n",
       " 'Article 179 (1) If ownership and another real right on the same thing are acquired by the same person, the other real right is extinguished;provided, however, that this does not apply if that thing or the other real right is the object of the right of a third party.',\n",
       " 'The holder of the right of retention may not use, lease or provide as a security the thing retained unless that holder obtains the consent of the obligor;provided, however, that this does not apply to uses necessary for the preservation of that thing.',\n",
       " 'A statutory lien may also be exercised against things including monies that the obligor is to receive as a result of the sale, lease or loss of, or damage to, the subject matter of the statutory lien;provided, however, that the holder of the statutory lien must attach the same before the payment or delivery of the monies or other thing.',\n",
       " 'Article 371 If there is a default with respect to a claim secured by a mortgage, the mortgage extends to the fruits of the mortgaged immovables derived after the default.',\n",
       " 'The primary obligor may not make a claim for the extinction of a mortgage; however, a jointly and severally liable guarantor with respect to the obligation may make that claim.',\n",
       " 'The provisions of the preceding paragraph do not apply if the purchaser, specifying a reasonable period of time, issues a notice to the mortgaged building user demanding payment of consideration for a period of one month or more with respect to the use of the building referred to in that paragraph that has been made after the time of purchase by the purchaser, and no payment is made within that reasonable period of time.',\n",
       " 'The mortgagee may auction the building together with the land;provided, however, that the right of priority of that mortgagee may be exercised solely against the proceeds of the land.',\n",
       " 'The scope of the unspecified claims to be secured by the mortgage under the provisions of the preceding paragraph (hereinafter referred to as \"revolving mortgage\") must be prescribed by limiting the scope to claims arising from specific contracts with the obligor for continuous transactions or other claims arising from certain kinds of transactions with the obligor.',\n",
       " 'Article 398-7 (1) A person that acquires a claim from a revolving mortgagee before the principal is crystallized may not exercise the revolving mortgage with respect to that claim.',\n",
       " 'The approval of third parties including subordinated obligees is required to effect the alterations with respect to the scope and the obligor of the claims to be secured by a Revolving Mortgage.',\n",
       " '(1) If succession involving a revolving mortgagee commences before the principal is crystallized, the revolving mortgage secures the claims that exist at the time of the commencement of succession and otherwise secures claims that were agreed upon by the heirs and the mortgagor of the revolving mortgage and that an heir acquires after the commencement of succession.',\n",
       " 'A revolving mortgagee may exercise the relevant revolving mortgage up to the maximum amount with respect to all of crystallized principal as well as periodic payments including interest and compensation for loss or damage resulting from failure to perform obligations.',\n",
       " 'Statutory liens may not be exercised against the movables that are the subject matter of the same after the obligors have delivered those movables to third party acquirers.',\n",
       " 'The pledge secures the principal, interest, penalties, expenses of enforcing the pledge, expense of preserving the thing pledged and the compensation of loss or damage arising from failure to perform obligations or latent defects in the thing pledged;provided, however, that this does not apply if the act establishing the pledge provides otherwise.',\n",
       " 'The provisions of the preceding three Articles do not apply if the acts establishing pledges provide otherwise or execution against earnings from the immovable collateral (referring to the execution against earnings from immovable collateral provided for in Article 180, item (ii) of the Civil Execution Act; the same applies hereinafter) has been commenced.',\n",
       " 'The mortgage shall extand to the building on the mortgaged land, in cases where there is a special provision that the mortgage does not extend to the building on the mortgage land.',\n",
       " 'The credit of sale value vested in the obligor (A) against (B) is deemed to extinguish by the performance, if the upholding judgement of the action is established.',\n",
       " 'Article 446 (2) No guarantee contract becomes effective unless it is made in writing.',\n",
       " 'The principal crystallization date is to fall on the day on which three years have passed from the day of the conclusion of the contract for revolving guarantee by an individual for loans.',\n",
       " 'Article 465-2 (1) A guarantor to a guarantee contract under which the principal obligation is one or more unidentified obligations within a certain specified scope (hereinafter referred to as a \"contract for revolving guarantee\") and the guarantor is not a corporation (hereinafter referred to as a \"contract for revolving guarantee by an individual\") is liable to perform the obligation in terms of the amounts of the principal of the principal obligation, any interest, penalty and compensation for loss or damage in connection with the principal obligation, and all the other charges secondary to the obligation, as well as the amount of any penalty or compensation for loss or damage which is agreed- upon on with regard to the guarantee obligation, up to a certain maximum amount which pertains to all of these amounts.',\n",
       " 'Article 465-4 (1) The principal of the principal obligation under a contract for revolving guarantee by an individual is crystallized in the following cases;provided, however, that in the case set forth in item (i), it is crystallized only if the procedure for compulsory execution or enforcement procedure of a security right is commenced: (i) if an obligee files a petition for compulsory execution or enforcement of any security right for a claim for payment of money with regard to any property of the guarantor; (ii) if the guarantor receives an order commencing bankruptcy proceeding; or (iii) the relevant principal obligor or guarantor has died.',\n",
       " 'The principal for the principal obligation under a contract for revolving guarantee on loans shall be determined if the relevant principal obligor has died.',\n",
       " 'The deposit under the provisions of the preceding Article must be made with the official depository having jurisdiction over the place where the relevant obligation is performed.',\n",
       " 'If a claim and obligation becomes vested in the same person, such claim is extinguished;provided, however, that this does not apply if such a claim is the subject matter of the right of a third party.',\n",
       " 'Article 489 (1) If the obligor is liable to pay interest and expenses in addition to principal with respect to one or more obligations (if the obligor bears two or more obligations, limited to when the obligor bears these obligations requiring the same kind of payment or delivery to the same obligee), and the person that performs the obligations makes payment or delivery which is not sufficient to extinguish the obligation in its entirety must be appropriated first to expenses, and then to interest and principal, in this order.',\n",
       " \"The obligee's claim is extinguished if an obligee manifests the intention to release an obligor from an obligation to that obligor.\",\n",
       " 'Article 459 (1) If a guarantor gives guarantee as requested by the principal obligor, and performs the obligation on behalf of the principal obligor or performs any other act that causes the obligation to be extinguished in exchange for the guarantor\\'s own property (hereinafter referred to as an \"act for extinguishment of obligation\"), the guarantor has a right to reimbursement from the principal obligor for the amount of property expended for that act (if the amount of property exceeds the amount of the principal obligation extinguished by the act for extinguishment of obligation, the amount thus extinguished).',\n",
       " \"Article 443 (1) If one of the joint and several obligors performs the obligation or otherwise obtains a common discharge in exchange for that obligor's own property, while knowing the existence of other joint and several obligors but without giving notice of the common discharge to the other joint and several obligors, another joint and several obligor has a defense that can be duly asserted against the obligee, the other joint and several obligor may duly assert that defense against the joint and several obligor that obtained the discharge to the extent of the other obligor's share of the obligation.\",\n",
       " 'The seller registers the transfer of ownership and the buyer pays for the land.',\n",
       " 'A loan for consumption becomes effective when a first party receives money or any other thing from a second party, having promised to return a thing of the same type, quality, and quantity.',\n",
       " 'The pre-contract of a loan for consumption shall lose its effect if a ruling for the commencement of bankruptcy procedures is subsequently made against one of the parties.',\n",
       " 'The contractor may demand remuneration in proportion to the benefit to be received by the party ordering work.',\n",
       " 'Article 641 The party ordering work may cancel the contract at any time whilst the contractor has not completed the work by paying compensation for loss or damage.',\n",
       " 'Article 562 (1) If the subject matter delivered to the buyer does not conform to the terms of the contract with respect to the kind, quality or quantity, the buyer may demand that the seller cure the non-conformity of performance by repairing the subject matter, delivering the substitute or delivering the replenishment;provided, however, that the seller may cure the non-conformity of performance by a method that is different from the method demanded by the buyer if it does not impose any undue burden on the buyer.',\n",
       " 'The provisions of the preceding paragraph do not apply if the contractor knew or did not know due to gross negligence the non-conformity referred to in that paragraph at the time when the contractor delivers the subject matter of work (in the case of the subject matter of work that is not required to be delivered, when the work is finished).',\n",
       " 'The borrower may return the borrowed thing at any time, irrespective of whether the parties have defined the time of return of the thing.',\n",
       " 'A loan for use is terminated upon the death of the borrower.',\n",
       " 'The cancellation becomes effective solely toward the future.',\n",
       " \"The partnership may be terminated by the partner's death.\",\n",
       " 'Article 663 (1) If the parties have not specified the timing of the return of the bailed thing, the bailee may return the same at any time.',\n",
       " 'A minor is not liable to compensate for an act if they did not have sufficient intellectual capacity to appreciate their own liability for that act.',\n",
       " 'Article 711 A person that has taken the life of another must compensate for loss or damage to the father, mother, spouse, and children of the victim, even if the property rights of the same have not been infringed.',\n",
       " \"Article 452 If an obligee has requested performance of an obligation from the guarantor, the guarantor may request the obligee to demand performance of the principal obligor first;provided, however, that this does not apply if the principal obligor is subject to an order commencing bankruptcy proceeding or if the principal obligor's whereabouts are unknown.\",\n",
       " 'Remuneration must be paid simultaneously with delivery of the subject matter of work performed;provided, however, that if no delivery of a thing is required, the provisions of Article 624, paragraph (1) apply mutatis mutandis.',\n",
       " 'A shall prove that A tendered the delivery of the subject matter as revived cause of action.',\n",
       " 'An unborn child is not a person and therefore does not have private rights.',\n",
       " 'A juridical person may be a partner of a civil law union.',\n",
       " 'A juridical person may be entitled to demand damages other than property damages.',\n",
       " 'The principal may not assert that the agent did not know of any particular circumstance of which the principal knew.',\n",
       " 'The agent has the authority to perform the following acts only: (i) acts of preservation; and (ii) acts with the purpose of using or improving a thing or right that is the subject matter of the agency, to the extent that this does not change the nature of that thing or right.',\n",
       " 'Article 94 (1) A false manifestation of intention that a person makes in collusion with another person is void.',\n",
       " 'The authority of an agency shall be terminated upon ruling for commencement of curatorship against the agent.',\n",
       " 'Article 102 An act that a person with qualified legal capacity performs as an agent of another person may not be rescinded on the grounds of qualified legal capacity;provided, however, that this does not apply to an act performed by a person with qualified legal capacity as a legal representative of another person with qualified legal capacity.',\n",
       " 'The ratification or refusal to ratify may not be duly asserted against the counterparty unless it is made to that counterparty;provided, however, that this does not apply if the counterparty has come to know the ratification or refusal to ratify.',\n",
       " 'The counterparty may rescind a contract that a person without the authority to represent has concluded until the principal ratifies it;provided, however, that this does not apply if the counterparty knew at the time of the conclusion of the contract that the agent had no authority to represent.',\n",
       " 'The principal can approve it after he/she attained the age of majority.',\n",
       " 'Article 169 (1) The period of prescription of a right determined by a final and binding judgment or anything that has the same effect as a final and binding judgment is 10 years even if a period of prescription shorter than 10 years is provided for.',\n",
       " 'A sold land P to B, but A did not undertake the ownership transfer registration procedure from A to B.',\n",
       " 'C must prove that the second sales contract was concluded and that C was without any knowledge of First Sales Contract and was not negligent about Fisrt Sales Contract at the time of conclusion of Second Sales Contract.',\n",
       " 'Actions for maintenance of possession must be filed during the obstruction or within one year after the obstruction stops.',\n",
       " \"A's minor child B who is living with A in building P owned by A shall not possess the possessory right of building P.\",\n",
       " 'Free superficies may be established if the superficiary must pay periodical rent to the owners of the land.',\n",
       " 'Article 268 (1) If the duration of superficies is not fixed by the act that established the same and there are no relevant customs, the superficiary may waive that right at any time;provided, however, that if rent must be paid, the superficiary must give notice one year or more in advance or pay rent for one year that has not yet become due and payable.',\n",
       " \"Emphyteusis is the right to live on another person's land without paying rent.\",\n",
       " 'Article 244 If the distinction of principal and accessory cannot be made between the movables united by accession, the owner of each movable property co-owns the composite thing in proportion to the respective price current at the time of the accession.',\n",
       " 'Article 245 applies mutatis mutandis if the things of different owners are mixed together and can no longer be distinguished.',\n",
       " 'The pledgee of immovables may use and profit from the immovables that are the subject matter of a pledge in line with the way the relevant immovables are used.',\n",
       " 'Article 378 If a third party that purchases the ownership or superficies of a mortgaged immovables pays the price of the same to a mortgagee at the request of the same mortgagee, that mortgage is terminated for the benefit of that third party.',\n",
       " 'Article 380 No principal obligor, guarantor or successor of the same may make a claim for the extinguishment of a mortgage.',\n",
       " 'The consents must be registered before the delivery of the building.',\n",
       " 'Article 391 If a third party acquirer of a mortgaged immovables has incurred necessary or beneficial expenses with respect to the mortgaged immovables, that third party may obtain reimbursement of the same out of the proceeds of the mortgaged immovables prior to other obligees, in accordance with the distinctions in Article 196.',\n",
       " 'It is not required that the approval of third parties including subordinated mortgagee be obtained.',\n",
       " 'The provisions of the preceding two paragraphs do not apply if the date on which the principal secured is to be crystallized is specified.',\n",
       " '(1) A revolving mortgagee may exercise the relevant revolving mortgage up to the maximum amount with respect to all of crystallized principal as well as periodic payments including interest and compensation for loss or damage resulting from failure to perform obligations.',\n",
       " 'Changes in the maximum amount of a revolving mortgage may not be made unless the consent of the interested parties is obtained.',\n",
       " 'Article 398-21 (1) After the principal is crystallized, the mortgagor of the revolving mortgage may request a reduction in the maximum amount of that revolving mortgage, to the amount of the obligations actually in existence plus the amount of the periodic payments including interest and the amount of compensation for loss or damage due to default in obligations that will arise in the following two years.',\n",
       " 'Even something that cannot be given an estimated monetary value may be the subject matter of a claim.',\n",
       " 'The obligor may make the payment in Japanese currency converted with the foreign exchange rate at the place of the performance.',\n",
       " 'The right to choose belongs to the obligor unless otherwise manifestation of intention provided.',\n",
       " \"Article 449 If a guarantor that guarantees an obligation which may be voidable due to the principal obligor's limited capacity to act, is aware, at the time of entering into a guarantee contract, of the cause for its voidability, that guarantor is presumed to have assumed an independent obligation of the same subject matter in the event of non-performance by the principal obligor or rescission of the obligation.\",\n",
       " 'The guarantor may refuse to perform the obligation to the obligee to the extent that the principal obligor should have been released from the obligation by exercising these rights.',\n",
       " \"The guarantor may stipulate the amount of penalty or compensation for loss or damage with regard to the guarantor's own guarantee obligation only.\",\n",
       " 'A person that has become a guarantor against the will of the principal obligor has the right to reimbursement only to the extent currently enriched.',\n",
       " 'The performance is effective only to the extent that the obligee is enriched as a result thereof.',\n",
       " 'The provisions of the preceding three paragraphs do not apply if the nature of an obligation does not permit the performance by a third party or if a party manifests the intention to prohibit or restrict the performance by a third party.',\n",
       " 'Article 412(2) states that if an uncertain due date is assigned to the performance of an obligation, the obligor is liable for delay from the time when the obligor receives the request for performance after the due date arrives or the time when the obligor becomes aware of the arrival of that due date, whichever comes earlier.',\n",
       " 'The third party may deposit the subject matter of the performance with an official depository for the benefit of the obligee.',\n",
       " 'The claim is extinguished when the performer makes the deposit.',\n",
       " 'The depository is effective if the obligor deposits the subject matter of the performance with an official depository for the benefit of the obligee.',\n",
       " \"The obligee's claim is extinguished when the obligee manifests the intention to release an obligor from an obligation to that obligor.\",\n",
       " 'The obligor may demand the return of the thing tendered when the obligor tendered anything as the performance of the obligation because the obligor forgot that he/she was released from the obligation.',\n",
       " 'B and D assume obligations amount of 3,000,000 yen jointly and severally.',\n",
       " 'Article 441 Except in cases prescribed in Articles 438, Article 439, paragraph (1), and the preceding Article, any circumstances which have arisen with respect to one of the joint and several obligors is not effective in relation to other joint and several obligors;provided, however, that if the obligee and one of the other joint and several obligors manifest a different intention, their intention prevails with respect to the effect in relation to the remaining other joint and several obligees.',\n",
       " 'Article 448 (1) If the burden of a guarantor is more onerous than the principal obligation as to either its subject matter or terms, it is reduced to the extent of the principal obligation.',\n",
       " 'A loan for consumption becomes effective when a first party receives money or any other thing from a second party, having promised to return a thing of the same type, quality, and quantity.',\n",
       " 'A loan for consumption becomes effective when a first party receives money or any other thing from a second party, having promised to return a thing of the same type, quality, and quantity.',\n",
       " 'Article 484 (1) Unless a particular intention is manifested with respect to the place where the performance should take place, the delivery of a specific thing must be effected at the place where that thing was located when the relevant claim accrued, and the discharge of any other obligation must be effected at the current domicile of the obligee.',\n",
       " 'The provisions of Article 551 apply mutatis mutandis to loans for use.',\n",
       " 'A made a loan contract with third party C, and transferred the building.',\n",
       " 'Article 196 (2) With respect to the costs paid for by a possessor to improve the thing in the possession thereof and other beneficial expenses, the possessor may have the person recovering the thing reimburse the possessor for either the costs the possessor has paid or the amount of the increased value, whichever the person recovering the thing chooses, but only if there is a current increase in value;provided, however, that with regard to a possessor in bad faith, the court may, at the request of the person recovering the thing, grant a reasonable period of time for the same.',\n",
       " 'The lender may cancel the contract if the borrower has made use of or taken the profits of the thing in violation of the provisions of the preceding two paragraphs.',\n",
       " 'A may not demand that C pay 120,000 yen per month as a rent.',\n",
       " 'A mandatary bears a duty to administer the mandated business with the due care of a prudent manager in compliance with the main purport of the mandate.',\n",
       " 'Mandatory has expended costs found to be necessary for the administration of the mandated business, the mandatary may claim reimbursement of those costs from the mandator and any interest on the same from the day the costs were expended.',\n",
       " 'Article 653 A mandate terminates when: (i) the mandator or mandatary dies; (ii) the mandator or mandatary is subject to an order commencing bankruptcy proceeding; (iii) the mandatary is subject to a decision for the commencement of guardianship.',\n",
       " 'Mandatory may cancel a mandate at any time.',\n",
       " 'B may claim reimbursement of those costs from the mandator and any interest on the same from the day the costs were expended.',\n",
       " 'Article 702 (3) applies mutatis mutandis to the extent currently enriched.',\n",
       " 'A may claim the damage of the withered hedge because B acted in bad faith or with gross negligence.',\n",
       " \"B may demand the payment of the expenses for the repair from A if B has repaired the hedge for crime prevention of not only A's house but also B's house.\",\n",
       " 'Article 716 A party ordering work is not liable to compensate for damage a contractor inflicted on a third party with respect to that work;provided, however, that this does not apply if the party ordering work is negligent with regards to the order or instructions.',\n",
       " 'The possessor of that structure is liable to the person incurring damage to compensate for the damage;provided, however, that if the possessor has exercised the necessary care to prevent the damage, the owner must compensate for the damage.',\n",
       " 'Article 718 (1) A possessor of an animal is liable to compensate for damage that the animal inflicts on another person;provided, however, that this does not apply if the possessor managed the animal while exercising reasonable care according to the kind and nature of the animal.',\n",
       " 'The claim is extinguished if the claim and obligation become vested in the same person.',\n",
       " 'If a claim and obligation becomes vested in the same person, such claim is extinguished;provided, however, that this does not apply if such a claim is the subject matter of the right of a third party.',\n",
       " 'Article 96\\n(1) A manifestation of intention based on fraud or duress is voidable.',\n",
       " 'Article 96\\n(1) A manifestation of intention based on fraud or duress is voidable.',\n",
       " 'Article 96\\n(1) A manifestation of intention based on fraud or duress is voidable.',\n",
       " 'Article 96\\n(1) A manifestation of intention based on fraud or duress is voidable.',\n",
       " 'Article 97\\n(1) A manifestation of intention becomes effective at the time notice thereof reaches the other party.',\n",
       " 'Article 20\\n(1) After a person with qualified legal capacity who is involved in dealings with another party becomes a person with the legal capacity to act (meaning a person whose legal capacity to act is not subject to restrictions; the same applies hereinafter), the other party to those dealings may fix a period of one month or longer and demand that the person give a definite answer within that period of time as to whether the person will ratify an act that the person may rescind.',\n",
       " 'Article 97\\n(1) A manifestation of intention becomes effective at the time notice thereof reaches the other party.',\n",
       " 'Article 97\\n(1) A manifestation of intention becomes effective at the time notice thereof reaches the other party.',\n",
       " 'Article 113\\n(1) A contract concluded by a person who acts as the agent of another person but has no authority to represent does not bind the principal unless the principal ratifies it.',\n",
       " 'Article 114\\nIn the case referred to in the preceding Article, the counterparty may demand, by specifying a reasonable period of time, that the principal give a definite answer on whether or not the principal will ratify within that period of time.',\n",
       " 'Article 106\\n(1) A subagent represents the principal with respect to acts within the scope of the authority thereof.',\n",
       " 'Article 102\\nAn act that a person with qualified legal capacity performs as an agent of another person may not be rescinded on the grounds of qualified legal capacity;provided, however, that this does not apply to an act performed by a person with qualified legal capacity as a legal representative of another person with qualified legal capacity.',\n",
       " 'Article 123\\nIf the counterparty to a voidable act is identified, the voidance or ratification of that act is made by the manifestation of intention to the counterparty.',\n",
       " 'Article 123\\nIf the counterparty to a voidable act is identified, the voidance or ratification of that act is made by the manifestation of intention to the counterparty.',\n",
       " 'Article 424\\n(1) An obligee may demand the court to rescind an act which the obligor commits knowing that it will prejudice the obligee; provided, however, that this does not apply if a person that benefits from that act (hereinafter referred to as the \"beneficiary\" in this Subsection) does not know, at the time of the act, that the obligee will be prejudiced.',\n",
       " 'Article 192\\nA person that commences the possession of movables peacefully and openly by a transactional act acquires the rights that are exercised with respect to the movables immediately if the person possesses it in good faith and without negligence.',\n",
       " 'Article 192\\nA person that commences the possession of movables peacefully and openly by a transactional act acquires the rights that are exercised with respect to the movables immediately if the person possesses it in good faith and without negligence.',\n",
       " 'Article 239\\n(1) Ownership of movables without an owner are acquired by possessing the same with the intention to own.',\n",
       " 'Article 197\\nA possessor may file a possessory action in accordance with the provisions of the following Article through Article 202.',\n",
       " 'Article 186\\n(1) A possessor is presumed to possess a thing with the intention to own, in good faith peacefully and openly.',\n",
       " \"Article 185\\nIf it is assumed, due to the nature of the title, that a possessor does not have the intention to own, the nature of the possessor's possession does not change unless that possessor manifests the intention to own to the person that put the thing under that person's possession, or commences possession under a new title with an intention to own from that time.\",\n",
       " 'Article 196\\n(1) If a possessor returns a thing in the possession thereof, the possessor may have the person recovering the thing reimburse the possessor for the costs the possessor has paid for its preservation and other necessary expenses;provided, however, that if the possessor has acquired fruits, ordinary and necessary expenses are borne by the possessor.',\n",
       " 'Article 299\\n(1) If the holder of a right of retention incurs necessary expenses with respect to the thing retained, that holder may have the owner reimburse the same.',\n",
       " 'Article 665\\nThe provisions of Articles 646 through 648, Article 649, and Article 650, paragraphs (1) and (2) apply mutatis mutandis to bailments.',\n",
       " 'Article 702\\n(1) If a manager has incurred beneficial expenses for a principal, the manager may claim reimbursement of those costs from the principal.',\n",
       " 'Article 295\\n(1) If a possessor of a thing belonging to another person has a claim that has arisen in relation to that thing, that possessor may retain that thing until that claim is satisfied;provided, however, that this does not apply if the relevant claim has not yet fallen due.',\n",
       " 'Article 301\\nAn obligor may demand that a right of retention be terminated by providing a reasonable security.',\n",
       " 'Article 364\\nThe creation of a pledge over a claim (including a pledge over a claim which has not yet arisen) may not be duly asserted against a third party obligor and other third parties unless notice of the creation of the pledge is given to that third party obligor in accordance with the provisions of Article 467, or unless that third party obligors gives consent to the same.',\n",
       " 'Article 366\\n(1) A pledgee may directly collect the claim that is the subject matter of the pledge.',\n",
       " 'Article 364\\nThe creation of a pledge over a claim (including a pledge over a claim which has not yet arisen) may not be duly asserted against a third party obligor and other third parties unless notice of the creation of the pledge is given to that third party obligor in accordance with the provisions of Article 467, or unless that third party obligors gives consent to the same.',\n",
       " 'Article 419\\n(1) The amount of the compensation for loss or damage for failure to perform an obligation to deliver money is determined with reference to the statutory interest rate as of the time when the obligor first assumes the responsibility for the delay;provided, however, that if the agreed-upon interest rate exceeds the statutory interest rate, the agreed-upon interest rate prevails.',\n",
       " 'Article 457\\n(1) The postponement of expiry of prescription period and the renewal of prescription period due to grounds such as a request for performance in relation to the principal obligor are also effective in relation to the guarantor.',\n",
       " 'Article 437\\nEven if there are grounds for the invalidity or rescission of a juridical act with respect to one of the joint and several obligors, the validity of the obligation of other joint and several obligor is not impaired.',\n",
       " 'Article 478\\nPerformance made to a person that does not constitute a person authorized to accept the performance (meaning the obligee or a third party authorized to accept performance based on the provisions of laws and regulations or the manifestation of intention of the parties; the same applies hereinafter) but that appears to be the person authorized to accept the performance in light of common sense in the transaction is effective only if the person effecting performance was acting in good faith and without negligence.',\n",
       " 'Article 460\\nIf a guarantor has given a guarantee as requested by the principal obligor, the guarantor may exercise in advance the right to reimbursement against the principal obligor if:\\n(i) the principal obligor is subject to an order commencing bankruptcy proceeding, and the obligee does not participate in the distribution of the bankruptcy estate;\\n(ii) the obligation is due;provided, however, that no extension of time granted by the obligee to the principal obligor after the conclusion of the guarantee contract may be duly asserted against the guarantor; and\\n(iii) the guarantor is, without negligence, rendered a judicial decision ordering the guarantor to perform the obligation to the obligee.',\n",
       " 'Article 564\\nThe provisions of the preceding two Articles do not preclude the buyer from claiming compensation for loss or damage pursuant to the provisions of Article 415\\nor exercising the right to cancel pursuant to the provisions of Articles 541 and 542.',\n",
       " 'Article 564\\nThe provisions of the preceding two Articles do not preclude the buyer from claiming compensation for loss or damage pursuant to the provisions of Article 415\\nor exercising the right to cancel pursuant to the provisions of Articles 541 and 542.',\n",
       " 'Article 566\\nIf the subject matter delivered by the seller to the buyer does not conform to the terms of the contract with respect to the kind or quality, and the buyer fails to notify the seller of the non-conformity within one year from the time when the buyer becomes aware of it, the buyer may not demand cure of the non-conformity of performance, demand a reduction of the price, claim compensation for loss or damage, or cancel the contract, on the grounds of the non-conformity;provided, however, that this does not apply if the seller knew or did not know due to gross negligence the non-conformity at the time of the delivery.',\n",
       " 'Article 568\\n(1) The successful bidder at an auction based on the provisions of the Civil Execution Act and other laws (hereinafter referred to as an \"auction\" in this Article) may cancel the contract or demand a reduction of the price against the obligor pursuant to the provisions of Articles 541 and 542 and the provisions of Article 563\\n(including as applied mutatis mutandis pursuant to Article 565).',\n",
       " 'Article 565\\nThe provisions of the preceding three Articles apply mutatis mutandis if the right transferred by the seller to the buyer does not conform to the terms of the contract (including the case in which the seller fails to transfer part of a right that belongs to another person).',\n",
       " 'Article 706\\nIf an obligor has paid money or delivered anything as performance of an obligation that has not yet fallen due, the obligor may not demand the return of the money paid or thing delivered;provided, however, that if the obligor tendered anything by mistake, the obligee must return the benefit gained as a result.',\n",
       " \"Article 11\\nThe family court may decide to commence a curatorship in respect of a person whose capacity to appreciate their own situation is extremely inadequate due to a mental disorder, at the request of the person in question, the person's spouse, the person's relative within the fourth degree of kinship, the guardian, the guardian's supervisor, the assistant, the assistant's supervisor, or a public prosecutor;provided, however, that this does not apply to a person in respect of whom a cause set forth in Article 7\\nexists.\",\n",
       " 'Article 13\\n(1) A person under curatorship must obtain the consent of the curator in order to perform any of the following acts;provided, however, that this does not apply to an act provided for in the proviso of Article 9:\\n(i) receiving or using any property producing civil fruit;\\n(ii) borrowing money or guaranteeing an obligation;\\n(iii) performing an act with the purpose of acquiring or losing any right regarding immovables or other significant property;\\n(iv) suing any procedural act;\\n(v) giving a gift, reaching a settlement, or entering into an arbitration agreement (meaning an arbitration agreement as provided in Article 2, paragraph (1) of the Arbitration Act (Act No.',\n",
       " \"Article 15\\n(1) The family court may decide to commence an assistance in respect of a person whose capacity to appreciate their own situation is inadequate due to a mental disorder, at the request of the person in question, that person's spouse, that person's relative within the fourth degree of kinship, the guardian, the guardian's supervisor, the curator, the curator's supervisor, or a public prosecutor;provided, however, that this does not apply to a person with respect to whom there are grounds as prescribed in Article 7\\nor the main clause of Article 11.\",\n",
       " 'Article 96\\n(1) A manifestation of intention based on fraud or duress is voidable.',\n",
       " 'Article 95\\n(1) A manifestation of intention is voidable if it is based on either of the following mistakes, and the mistake is material in light of the purpose of the juridical act and the common sense in the transaction:\\n(i) a mistake wherein the person lacks the intention that corresponds to the manifestation of intention; or\\n(ii) a mistake wherein the person making the manifestation of intention holds an understandings that does not correspond to the truth with regard to the circumstances which the person has taken as the basis for the juridical act.',\n",
       " 'Article 104\\nAn agent appointed by mandate may not appoint a subagent unless the authorization of the principal is obtained or there is a compelling reason to do so.',\n",
       " 'Article 113\\n(1) A contract concluded by a person who acts as the agent of another person but has no authority to represent does not bind the principal unless the principal ratifies it.',\n",
       " 'Article 140\\nWhen a period is provided for in days, weeks, months, or years, the first day of the period is not included in the computation;provided, however, that this does not apply when the period commences at twelve midnight.',\n",
       " 'Article 166\\n(1) A claim is extinguished by prescription in the following cases:\\n(i) if the obligee does not exercise the right within five years from the time when the obligee came to know that it was exercisable; or\\n(ii) if the obligee does not exercise the right within 10 years from the time when it became exercisable.',\n",
       " 'Article 200\\n(1) If a possessor is forcibly dispossessed, the possessor may demand the restitution of the thing and compensation for loss or damage by filing an action for recovery of possession.',\n",
       " 'Article 200\\n(1) If a possessor is forcibly dispossessed, the possessor may demand the restitution of the thing and compensation for loss or damage by filing an action for recovery of possession.',\n",
       " 'Article 200\\n(1) If a possessor is forcibly dispossessed, the possessor may demand the restitution of the thing and compensation for loss or damage by filing an action for recovery of possession.',\n",
       " 'Article 374\\n(1) The order of priority of mortgages may be changed with the agreement of all mortgagees;provided, however, that if there are interested persons, the consent of the same must be obtained.',\n",
       " 'Article 375\\n(1) If a mortgagee has the right to demand periodic payments including interest, that mortgagee may exercise the mortgage solely with respect to payments of the last two years before maturity;provided, however, that with respect to prior periodic payments, if special registration is effected after maturity, the mortgagee is not precluded from exercising the mortgage as from the time of that registration.',\n",
       " 'Article 555\\nA sale becomes effective when one of the parties promises to transfer certain property rights to the other party and the other party promises to pay the price for this.',\n",
       " 'Article 356\\nThe pledgee of immovables may use and profit from the immovables that are the subject matter of a pledge in line with the way the relevant immovables are used.',\n",
       " 'Article 209\\n(1) An owner of land may request the use of the neighboring land to the extent necessary for constructing or repairing walls or buildings on or in the vicinity of the boundary;provided, however, that the owner may not enter the dwelling house of the neighbor without the approval of the same.',\n",
       " 'Article 213\\n(1) If the partition of land creates a parcel of land that has no access to public roads, the owner of that parcel of land may pass to the public roads only through the lands owned by another person that participated in the partition.',\n",
       " 'Article 218\\nA landowner may not install a roof or other structures that discharge rainwater directly onto neighboring land.',\n",
       " 'Article 234\\n(1) In order to construct a building, the building must be distanced 50 centimeters or more away from the boundary line.',\n",
       " 'Article 233\\n(1) If a tree or bamboo branch from neighboring land crosses a boundary line, the landowner may have the owner of that tree or bamboo sever that branch.',\n",
       " 'Article 295\\n(1) If a possessor of a thing belonging to another person has a claim that has arisen in relation to that thing, that possessor may retain that thing until that claim is satisfied;provided, however, that this does not apply if the relevant claim has not yet fallen due.',\n",
       " 'Article 298\\n(1) The holder of a right of retention must possess the thing retained with the due care of a prudent manager.',\n",
       " 'Article 300\\nThe exercise of a right of retention does not preclude the running of extinctive prescription of claims.',\n",
       " 'Article 304\\n(1) A statutory lien may also be exercised against things including monies that the obligor is to receive as a result of the sale, lease or loss of, or damage to, the subject matter of the statutory lien;provided, however, that the holder of the statutory lien must attach the same before the payment or delivery of the monies or other thing.',\n",
       " 'Article 378\\nIf a third party that purchases the ownership or superficies of a mortgaged immovables pays the price of the same to a mortgagee at the request of the same mortgagee, that mortgage is terminated for the benefit of that third party.',\n",
       " 'Article 397\\nIf a person that is neither an obligor nor a mortgagor has possessed the mortgaged immovables in complete conformity with the requirements for acquisitive prescription, the mortgage is extinguished thereby.',\n",
       " 'Article 179\\n(1) If ownership and another real right on the same thing are acquired by the same person, the other real right is extinguished;provided, however, that this does not apply if that thing or the other real right is the object of the right of a third party.',\n",
       " 'Article 492\\nUpon tendering the performance, the obligor is relieved from any and all responsibilities which may arise from the non-performance of the obligation.',\n",
       " 'Article 484\\n(1) Unless a particular intention is manifested with respect to the place where the performance should take place, the delivery of a specific thing must be effected at the place where that thing was located when the relevant claim accrued, and the discharge of any other obligation must be effected at the current domicile of the obligee.',\n",
       " 'Article 536\\n(1) If the performance of an obligation becomes impossible due to grounds not attributable to either party, the obligee may refuse to perform counter-performance.',\n",
       " 'Article 493\\nThe tender of the performance must be made actually consistent with the main purport of the obligation;provided, however, that if the obligee refuses to accept that performance in advance or if any act is required on the part of the obligee with respect to the performance of the obligation, it is sufficient for the obligor to request the acceptance thereof by giving a notice that the tender of the performance has been prepared.',\n",
       " 'Article 424\\n(1) An obligee may demand the court to rescind an act which the obligor commits knowing that it will prejudice the obligee; provided, however, that this does not apply if a person that benefits from that act (hereinafter referred to as the \"beneficiary\" in this Subsection) does not know, at the time of the act, that the obligee will be prejudiced.',\n",
       " 'Article 441\\nExcept in cases prescribed in Articles 438, Article 439, paragraph (1), and the preceding Article, any circumstances which have arisen with respect to one of the joint and several obligors is not effective in relation to other joint and several obligors;provided, however, that if the obligee and one of the other joint and several obligors manifest a different intention, their intention prevails with respect to the effect in relation to the remaining other joint and several obligees.',\n",
       " 'Article 434\\nIf the obligor has a claim against one of the joint and several obligees, and the obligor invokes a set-off, the set-off becomes effective against other joint and several obligees as well.',\n",
       " 'Article 441\\nExcept in cases prescribed in Articles 438, Article 439, paragraph (1), and the preceding Article, any circumstances which have arisen with respect to one of the joint and several obligors is not effective in relation to other joint and several obligors;provided, however, that if the obligee and one of the other joint and several obligors manifest a different intention, their intention prevails with respect to the effect in relation to the remaining other joint and several obligees.',\n",
       " 'Article 447\\n(1) The guarantee obligation includes interest, penalty and compensation for loss or damage in connection with the principal obligation, and all other charges secondary to that obligation.',\n",
       " \"Article 449\\nIf a guarantor that guarantees an obligation which may be voidable due to the principal obligor's limited capacity to act, is aware, at the time of entering into a guarantee contract, of the cause for its voidability, that guarantor is presumed to have assumed an independent obligation of the same subject matter in the event of non-performance by the principal obligor or rescission of the obligation.\",\n",
       " 'Article 463\\n(1) If a guarantor gives guarantee as requested by the principal obligor and performs an act for extinguishment of obligation without giving prior notice to the principal obligor, the principal obligor may assert against the guarantor any defense that could have been asserted against the obligee.',\n",
       " 'Article 462\\n(1) The provisions of Article 459-2, paragraph (1) apply mutatis mutandis if a person, that has given guarantee without the request of the principal obligor, performs an act for extinguishment of obligation.',\n",
       " 'Article 494\\n(1) In the following cases, a performer may deposit the subject matter of the performance with an official depository for the benefit of the obligee.',\n",
       " 'Article 494\\n(1) In the following cases, a performer may deposit the subject matter of the performance with an official depository for the benefit of the obligee.',\n",
       " 'Article 494\\n(1) In the following cases, a performer may deposit the subject matter of the performance with an official depository for the benefit of the obligee.',\n",
       " 'Article 496\\n(1) As long as the obligee does not accept the deposit, or the judgment which pronounces that the deposit is effective does not become final and binding, the performer may recover the deposited thingy.',\n",
       " 'Article 498\\n(1) If the property that is the subject matter of performance or the proceeds referred to in the preceding Article are deposited, the obligee may demand the return of the deposited thing.',\n",
       " 'Article 549\\nGifts become effective by the manifestation of intention by one of the parties to give a certain property to the other party gratuitously, and the acceptance of the other party thereof.',\n",
       " 'Article 550\\nGifts not in writing may be cancelled by either party;provided, however, that this does not apply to a portion of the gift for which performance has been completed.',\n",
       " 'Article 400\\nIf the subject matter of a claim is the delivery of a specific thing, the obligor must retain the thing with the due care of a prudent manager, which is determined in light of the contract or other sources of claims and the common sense in the transaction, until the delivery.',\n",
       " 'Article 551\\n(1) The donor is presumed to have promised to deliver or transfer the thing or right that is the subject matter of the gift, while maintaining its condition as of the time when it is specified as the subject matter of the gift.',\n",
       " 'Article 574\\nIf price is to be paid simultaneously with delivery of the subject matter of a sale, payment must be made at the place of delivery.',\n",
       " 'Article 577\\n(1) If a mortgage that does not conform to the terms of the contract is registered on immovables that have been purchased, the buyer may refuse to pay the price until the completion of the procedures of the claim for extinguishment of the mortgage.',\n",
       " 'Article 557\\n(1) If the buyer pays earnest money to the seller, the buyer may cancel the contract by waiving the earnest money, or the seller may cancel the contract by actually providing the buyer with twice its amount;provided, however, that this does not apply after the counterparty commences performance of the contract.',\n",
       " 'Article 598\\n(1) In the case prescribed in paragraph (2) of the preceding Article, upon the passage of a period that is sufficient for the borrower to use and make profit from the borrowed thing in line with the purpose referred to in that paragraph, the lender may cancel the contract.',\n",
       " 'Article 596\\nThe provisions of Article 551\\napply mutatis mutandis to loans for use.',\n",
       " 'Article 593\\nA loan for use becomes effective if one of the parties promises to deliver a certain thing, and the other party promises to return the thing when the contract is terminated after the other party gratuitously uses and makes profit of the borrowed thing.',\n",
       " 'Article 597\\n(1) If the parties specify a period of a loan for use, the loan for use is terminated upon the expiration of the period.',\n",
       " 'Article 587\\nA loan for consumption becomes effective when a first party receives money or any other thing from a second party, having promised to return a thing of the same type, quality, and quantity.',\n",
       " 'Article 559\\nThe provisions of this Section apply mutatis mutandis to contracts for value other than contracts for sale;provided, however, that this does not apply when it is not permitted by the nature of the contract for value.',\n",
       " 'Article 587-2\\n(1) Notwithstanding the provisions of the preceding Article, a loan for consumption made in writing becomes effective when a first party promises to deliver money or any other thing and a second party promises to return a thing of the same type, quality, and quantity as the thing delivered.',\n",
       " 'Article 591\\n(1) If the parties do not define the time for return of borrowed things, the lender may demand their return, specifying a reasonable period of time.',\n",
       " 'Article 697\\n(1) A person that has begun to manage a business for another person without being obligated to do so (hereinafter in this Chapter referred to as a \"manager\") must manage that business, in accordance with the nature of the business, in the way that best suits the interests of the principal (hereinafter referred to as \"benevolent intervention in another\\'s business\").',\n",
       " \"Article 698\\nIf a manager engages in benevolent intervention in another's business in order to allow a principal to escape imminent danger to the principal's person, reputation, or property, the manager is not liable to compensate for damage resulting from this unless the manager has acted in bad faith or with gross negligence.\",\n",
       " \"Article 701\\nThe provisions of Article 645\\nthrough Article 647\\napply mutatis mutandis to the benevolent intervention in another's business.\",\n",
       " 'Article 702\\n(1) If a manager has incurred beneficial expenses for a principal, the manager may claim reimbursement of those costs from the principal.',\n",
       " 'Article 717\\n(1) If a defect in the installation or preservation of a structure on land causes damage to another person, the possessor of that structure is liable to the person incurring damage to compensate for the damage;provided, however, that if the possessor has exercised the necessary care to prevent the damage, the owner must compensate for the damage.',\n",
       " 'Article 702\\n(1) If a manager has incurred beneficial expenses for a principal, the manager may claim reimbursement of those costs from the principal.',\n",
       " 'Article 196\\n(1) If a possessor returns a thing in the possession thereof, the possessor may have the person recovering the thing reimburse the possessor for the costs the possessor has paid for its preservation and other necessary expenses;provided, however, that if the possessor has acquired fruits, ordinary and necessary expenses are borne by the possessor.',\n",
       " 'Article 350\\nThe provisions of Articles 296 through 300 and those of Article 304\\napply mutatis mutandis to pledges.',\n",
       " 'Article 299\\n(1) If the holder of a right of retention incurs necessary expenses with respect to the thing retained, that holder may have the owner reimburse the same.',\n",
       " 'Article 391\\nIf a third party acquirer of a mortgaged immovables has incurred necessary or beneficial expenses with respect to the mortgaged immovables, that third party may obtain reimbursement of the same out of the proceeds of the mortgaged immovables prior to other obligees, in accordance with the distinctions in Article 196.',\n",
       " 'Article 34\\nAn not-for-profit association or foundation that is involved in academic activities, art, charity, worship, religion, or any other matter of public interest may be established as a juridical person with the permission of the competent government agency.',\n",
       " 'Article 467\\n(1) The assignment of a claim (including the assignment of a claim that is yet to arise) may not be duly asserted against the applicable obligor or any other third party, unless the assignor gives notice thereof to the obligor or the obligor has consented to the same.',\n",
       " 'Article 96\\n(1) A manifestation of intention based on fraud or duress is voidable.',\n",
       " 'Article 605\\nA lease of immovables, when registered, may be duly asserted against a third party such as a person that subsequently acquires real rights with respect to the immovables.',\n",
       " 'Even if the seller makes a special agreement to the effect that the seller does not warrant in the case prescribed in the main clause of Article 562, paragraph (1) or Article 565, the seller may not be released from that responsibility with respect to any fact that the seller knew but did not disclose, and with respect to any right that the seller personally created for or assigned to a third party.',\n",
       " 'The limitation period on pursuance of warranty is applicable mutatis mutandis if the right transferred by the seller to the buyer does not conform to the terms of the contract (including the case in which the seller fails to transfer part of a right that belongs to another person).',\n",
       " 'The provisions of the preceding three paragraphs do not apply to the non-conformity with respect to the kind or quality of the subject matter of an auction.',\n",
       " 'Having intent towards another person is a legal term that means to have a specific plan to do something to that person.',\n",
       " \"Article 698 If a manager engages in benevolent intervention in another's business in order to allow a principal to escape imminent danger to the principal's person, reputation, or property, the manager is not liable to compensate for damage resulting from this unless the manager has acted in bad faith or with gross negligence.\",\n",
       " 'The manager is not liable to compensate for damage resulting from this unless the manager has acted in bad faith or with gross negligence.',\n",
       " 'Article 702 (1) If a manager has incurred beneficial expenses for a principal, the manager may claim reimbursement of those costs from the principal.',\n",
       " 'The authority of parents determined under the law is not a statutory agent.',\n",
       " 'The employer is released from his/her liability in cases when proof is provided that the employer made proper care regarding the appointment and supervision of the employee.',\n",
       " \"Article 715 (1) A person that employs another person for a business undertaking is liable to compensate for damage inflicted on a third party by that person's employees with respect to the execution of that business;provided, however, that this does not apply if the employer exercised reasonable care in appointing the employee or in supervising the business, or if the damage could not have been avoided even if the employer had exercised reasonable care.\",\n",
       " 'Article 175 No real right may be established other than those prescribed by laws including this Code.',\n",
       " 'Statutory real rights granted by way of security exist, but statutory usufructuary rights do not exist.',\n",
       " 'The order of priority for competing statutory liens is set forth in each item of Article 306.',\n",
       " 'The principal secured by a revolving mortgage is crystallized in the following cases: (i) if the revolving mortgagee has filed, with respect to the mortgaged immovables, a petition for auction or execution against earnings from immovable collateral or the attachment under the provisions of Article 304 as applied mutatis mutandis pursuant to Article 372;provided, however, that this provision applies only if the commencement of either auction procedures or execution procedures against earnings from immovable collateral, or an attachment has been effected; (ii) if the revolving mortgagee has effected an attachment for disposition of delinquency against the mortgaged immovables; (iii) if two weeks have passed from the time when the revolving mortgagee acquired knowledge of the commencement of auction procedures or attachment for disposition of delinquency against the mortgaged immovables; or (iv) if the obligor or mortgagor of the revolving mortgage has become subject to an order commencing bankruptcy proceeding.',\n",
       " '(1) A revolving mortgagee may exercise the relevant revolving mortgage up to the maximum amount with respect to all of crystallized principal as well as periodic payments including interest and compensation for loss or damage resulting from failure to perform obligations.',\n",
       " 'The purpose of the limit of the scope of the secured claim is to protect all mortgagors.',\n",
       " 'The third party that performed secured claims before the arrival of the due date may not exercise the revolving mortgage with respect to that claim.',\n",
       " 'Article 398-12 (1) Before the principal is crystallized, a revolving mortgagee may assign a revolving mortgage, with the approval of the mortgagor of the revolving mortgage.',\n",
       " 'Article 9 A juridical act performed by an adult ward is voidable;provided, however, that this does not apply to the purchase of daily necessities or to any other act involved in day-to-day life.',\n",
       " 'Article 9 A juridical act performed by an adult ward is voidable;provided, however, that this does not apply to the purchase of daily necessities or to any other act involved in day-to-day life.',\n",
       " \"The family court may decide to commence a guardianship in respect of a person who constantly lacks the capacity to appreciate the person's own situation due to a mental disorder, at the request of the person in question, that person's spouse, that person's relative within the fourth degree of kinship, the person's guardian of a minor, the person's supervisor of a minor's guardian, the person's curator, the person's curator's supervisor, the person's assistant, the person's assistant's supervisor, or a public prosecutor.\",\n",
       " 'Person C is not the main obligor person B.',\n",
       " 'Article 169 (1) The period of prescription of a right determined by a final and binding judgment or anything that has the same effect as a final and binding judgment is 10 years even if a period of prescription shorter than 10 years is provided for.',\n",
       " 'Article 537 (1) If one of the parties promises in a contract to render a certain performance to a third party, the third party has the right to claim that performance directly from the obligor.',\n",
       " 'Person A can not cancel the contract if person D has already performed the obligation to person C.',\n",
       " '(1) A person who indicates to a third party that the person granted certain authority to represent to another person is liable for an act performed between that other person and that third party within the scope of the authority to represent;provided, however, that this does not apply if the third party knew or did not know due to negligence that the other person has not been granted the authority to represent.',\n",
       " 'Article 255 If one of co-owners waives interest or dies without an heir, the-waived interest belongs to the other co-owners.',\n",
       " 'A claim that one of the co-owners holds against other co-owners with respect to the property in co-ownership may be exercised against their specific successors.',\n",
       " 'The obligee should bear the increase in delivery costs if the obligee relocates the domicile.',\n",
       " 'No guarantee contract becomes effective unless it is made in writing.',\n",
       " 'Article 465-2 (1) A guarantor to a guarantee contract under which the principal obligation is one or more unidentified obligations within a certain specified scope (hereinafter referred to as a \"contract for revolving guarantee\") and the guarantor is not a corporation (hereinafter referred to as a \"contract for revolving guarantee by an individual\") is liable to perform the obligation in terms of the amounts of the principal of the principal obligation, any interest, penalty and compensation for loss or damage in connection with the principal obligation, and all the other charges secondary to the obligation, as well as the amount of any penalty or compensation for loss or damage which is agreed- upon on with regard to the guarantee obligation, up to a certain maximum amount which pertains to all of these amounts.',\n",
       " 'The principal of the principal obligation under a contract for revolving guarantee by an individual for loans is crystallized in the following cases;provided, however, that in the case set forth in item (i), it is crystallized only if the procedure for compulsory execution or enforcement procedure of a security right is commenced: (i) if the obligee files a petition for compulsory execution or enforcement of a security right for a claim for payment of money with regard to property of the principal obligor; or (ii) if the principal obligor receives an order commencing bankruptcy proceeding.',\n",
       " 'The contract for revolving guarantee by an individual for loans does not provide for a principal crystallization date (or if the provisions concerning the principal crystallization date do not become effective pursuant to the provisions of the preceding paragraph), the principal crystallization date is to fall on the day on which three years have passed from the day of the conclusion of the contract for revolving guarantee by an individual for loans.',\n",
       " 'The obligor may not raise the defense of force majeure with respect to the compensation for loss or damage referred to in paragraph (1).',\n",
       " 'The statutory interest rate is 3% per annum.',\n",
       " 'A person that commences the possession of movables peacefully and openly by a transactional act acquires the rights that are exercised with respect to the movables immediately if the person possesses it in good faith and without negligence.',\n",
       " 'Article 101\\n(1) If the validity of a manifestation of intention that an agent has made to the other party is to be influenced by the absence of intention; by mistake, fraud, or duress; or by the knowledge of or negligence in not knowing of a particular circumstance; whether or not any such fact was present is decided as it concerns the agent.',\n",
       " 'Article 108\\n(1) An act that a person performs as an agent of the counterparty or as agent of both parties for the same juridical act is deemed to be an act performed by a person without authority to represent;provided, however, that this does not apply to the performance of an obligation or to an act authorized by the principal in advance.',\n",
       " 'Article 134\\nA juridical act subject to a condition precedent is void if the condition is dependent only upon the intention of the obligor.',\n",
       " \"Article 128\\nWhile it is uncertain whether or not a condition will be fulfilled, a party to a juridical act that is subject to a condition may not prejudice the other party's interests that would arise from the juridical act upon fulfillment of the condition.\",\n",
       " 'Article 152\\n(1) If a right is acknowledged, a new period of prescription commences to run at the time of the acknowledgment.',\n",
       " 'Article 152\\n(1) If a right is acknowledged, a new period of prescription commences to run at the time of the acknowledgment.',\n",
       " \"Article 293\\nIf a servitude holder does not exercise a portion of that holder's rights, only that portion is extinguished by prescription.\",\n",
       " \"Article 280\\nA servitude holder has the right to use another person's land for the convenience of their own lands in accordance with purposes prescribed in the act establishing the servitude;provided, however, that this right must not violate the provisions (limited to those that relate to public policy) under Section 1 of Chapter 3 (Extent of Ownership).\",\n",
       " \"Article 282\\n(1) One of the co-owners of land may not terminate, with respect to that owner's own interest, a servitude that exists on behalf of or in relation to the land.\",\n",
       " 'Article 292\\nIf dominant land is co-owned by more than one person, and expiry of prescription period is postponed or prescription period is renewed in favor of one co-owner, the postponement of expiry of prescription period or the renewal of prescription period is also effective for the benefit of other co-owners.',\n",
       " \"Article 281\\n(1) Servitudes are transferred together with the ownership in the dominant land (meaning the land of a servitude holder, enjoying benefits from another person's land; the same applies hereinafter) as appurtenances thereof, and are subject of other rights that exist in relation to the dominant land;provided, however, that this does not apply if the act establishing the servitude provides otherwise.\",\n",
       " 'Article 334\\nIf there is conflict between a statutory lien and a pledge on movables, the pledgee of those movables has the same rights as those of the holder of a statutory lien of the first rank under Article 330.',\n",
       " 'Article 484\\n(1) Unless a particular intention is manifested with respect to the place where the performance should take place, the delivery of a specific thing must be effected at the place where that thing was located when the relevant claim accrued, and the discharge of any other obligation must be effected at the current domicile of the obligee.',\n",
       " 'Article 485\\nUnless a particular intention is manifested with respect to the expenses of performance, those expenses are borne by the obligor;provided, however, that if the obligee caused the expenses of performance to increase by relocating the domicile thereof or taking any other act, the amount of increase due to this is borne by the obligee.',\n",
       " 'Article 489\\n(1) If the obligor is liable to pay interest and expenses in addition to principal with respect to one or more obligations (if the obligor bears two or more obligations, limited to when the obligor bears these obligations requiring the same kind of payment or delivery to the same obligee), and the person that performs the obligations makes payment or delivery which is not sufficient to extinguish the obligation in its entirety must be appropriated first to expenses, and then to interest and principal, in this order.',\n",
       " 'Article 511\\n(1) A third party obligor of a claim which has been attached may not assert sett-off as defense with any claim acquired after the attachment against the attaching obligee, but may duly assert against the same a set-off based using a claim acquired before the attachment.',\n",
       " 'Article 509\\nThe obligor of either of the following obligations may not duly assert a set-off against the obligee;provided, however, that this does not apply if the obligee acquires a claim corresponding to the relevant obligation from another person:\\n(i) an obligation for compensation for loss or damage based on a tort committed in bad faith; or\\n(ii) an obligation for compensation for loss or damage for death or injury to person (excluding the one set forth in the preceding item).',\n",
       " \"Article 545\\n(1) If one of the parties exercises the right to cancel, each party assumes an obligation to restore the other party to that other party's original state;provided, however, that this may not prejudice the rights of a third party.\",\n",
       " 'Article 415\\n(1) If an obligor fails to perform consistent with the purpose of the obligation or the performance of an obligation is impossible, the obligee may claim compensation for loss or damage arising from the failure;provided, however, that this does not apply if the failure to perform the obligation is due to grounds not attributable to the obligor in light of the contract or other sources of obligation and the common sense in the transaction.',\n",
       " 'Article 632\\nA contract for work become effective when one of the parties promises to complete work and the other party promises to pay remuneration for the outcome of the work.',\n",
       " 'Article 665\\nThe provisions of Articles 646 through 648, Article 649, and Article 650, paragraphs (1) and (2) apply mutatis mutandis to bailments.',\n",
       " 'Article 601\\nA lease becomes effective if one of the parties promises to make a certain thing available for the other party to use and make profit, and the other party promises to pay rent for the leased thing and return the delivered thing when the contract is terminated.',\n",
       " 'Article 601\\nA lease becomes effective if one of the parties promises to make a certain thing available for the other party to use and make profit, and the other party promises to pay rent for the leased thing and return the delivered thing when the contract is terminated.',\n",
       " 'Article 614\\nRent must be paid at the end of the month with respect to movables, buildings and land for residential purpose, and at the end of the year with respect to other land;provided, however, that with respect to anything with a harvest season, the rent must be paid without delay after that season.',\n",
       " 'Article 617\\n(1) If the parties do not specify the term of a lease, either party may give a notice of termination at any time.',\n",
       " 'Article 617\\n(1) If the parties do not specify the term of a lease, either party may give a notice of termination at any time.',\n",
       " 'Article 595\\n(1) The borrower bears the ordinarily necessary expenses of borrowed thing.',\n",
       " 'Article 594\\n(1) A borrower must make use of and take the profits of the thing in compliance with the method of use specified by the contract or by the nature of the thing which is the subject matter of the contract.',\n",
       " 'Article 597\\n(1) If the parties specify a period of a loan for use, the loan for use is terminated upon the expiration of the period.',\n",
       " 'Article 599\\n(1) If the borrower attaches anything to the borrowed thing after receiving it, the borrower has an obligation to remove the attached thing when the loan for use is terminated;provided, however, that this does not apply to anything that is unable to be detached from the borrowed thing or that requires excessive expenses for the detachment.',\n",
       " \"Article 613\\n(1) If a lessee lawfully subleases a leased thing, the sublessee is liable to perform an obligation based on the sublease directly to the lessor, to the extent of the scope of the lessee's obligation based on the lease between the lessor and the lessee.\",\n",
       " 'Article 641\\nThe party ordering work may cancel the contract at any time whilst the contractor has not completed the work by paying compensation for loss or damage.',\n",
       " 'Article 642\\n(1) If the party ordering work receives an order commencing bankruptcy proceeding, the contractor or the bankruptcy trustee may cancel the contract;provided, however, that this does not apply to the cancellation of the contract by the contractor after the work is completed.',\n",
       " 'Article 559\\nThe provisions of this Section apply mutatis mutandis to contracts for value other than contracts for sale;provided, however, that this does not apply when it is not permitted by the nature of the contract for value.',\n",
       " 'Article 559\\nThe provisions of this Section apply mutatis mutandis to contracts for value other than contracts for sale;provided, however, that this does not apply when it is not permitted by the nature of the contract for value.',\n",
       " 'Article 636\\nIf the contractor delivers to the party ordering work of a content the subject matter of work that does not conform to the terms of the contract with respect to the kind or quality (in the case of the subject matter of work that is not required to be delivered, if the subject matter of work does not conform to the terms of the contract with respect to the kind or quality when the work is finished), the party ordering work may not demand cure of the non-conformity of performance, demand a reduction of the remuneration, claim compensation for loss or damage, or cancel the contract, on the grounds of the non-conformity caused by the nature of the materials that the party ordering work has provided or any instructions that the relevant party has given;provided, however, that this does not apply if the contractor knew that the materials or instructions were inappropriate but did not notify the ordering party of this.',\n",
       " 'Article 559\\nThe provisions of this Section apply mutatis mutandis to contracts for value other than contracts for sale;provided, however, that this does not apply when it is not permitted by the nature of the contract for value.',\n",
       " 'Article 637\\n(1) In the case prescribed in the main clause of the preceding Article, if the party ordering work fails to notify the contractor of the non-conformity to the terms of the contract within one year from the time when the party becomes aware of it, the party ordering work may not demand cure of the non-conformity of performance, demand a reduction of the remuneration, claim compensation for loss or damage, or cancel the contract.',\n",
       " 'Article 711\\nA person that has taken the life of another must compensate for loss or damage to the father, mother, spouse, and children of the victim, even if the property rights of the same have not been infringed.',\n",
       " \"Article 715\\n(1) A person that employs another person for a business undertaking is liable to compensate for damage inflicted on a third party by that person's employees with respect to the execution of that business;provided, however, that this does not apply if the employer exercised reasonable care in appointing the employee or in supervising the business, or if the damage could not have been avoided even if the employer had exercised reasonable care.\",\n",
       " 'Article 20\\n(1) After a person with qualified legal capacity who is involved in dealings with another party becomes a person with the legal capacity to act (meaning a person whose legal capacity to act is not subject to restrictions; the same applies hereinafter), the other party to those dealings may fix a period of one month or longer and demand that the person give a definite answer within that period of time as to whether the person will ratify an act that the person may rescind.',\n",
       " 'Article 114\\nIn the case referred to in the preceding Article, the counterparty may demand, by specifying a reasonable period of time, that the principal give a definite answer on whether or not the principal will ratify within that period of time.',\n",
       " 'Article 493\\nThe tender of the performance must be made actually consistent with the main purport of the obligation;provided, however, that if the obligee refuses to accept that performance in advance or if any act is required on the part of the obligee with respect to the performance of the obligation, it is sufficient for the obligor to request the acceptance thereof by giving a notice that the tender of the performance has been prepared.',\n",
       " 'Article 547\\nIf no period of time is specified for the exercise of the right to cancel, the other party may issue a notice of demand to the holder of the right to cancel, specifying a reasonable period of time, to the effect that the holder of the right to cancel is to give a definite answer as to whether the holder will cancel or not within that period of time.',\n",
       " \"Article 297\\n(1) A holder of a right of retention may collect fruits derived from the thing retained, and appropriate the same to the satisfaction of that holder's own claim before other obligees.\",\n",
       " 'Article 405\\nIf the payment of interest corresponding to one year or more is delayed, and if the obligor does not pay that interest notwithstanding the demand by the obligee, the obligee may incorporate that interest into the principal.',\n",
       " 'Article 462\\n(1) The provisions of Article 459-2, paragraph (1) apply mutatis mutandis if a person, that has given guarantee without the request of the principal obligor, performs an act for extinguishment of obligation.',\n",
       " \"Article 545\\n(1) If one of the parties exercises the right to cancel, each party assumes an obligation to restore the other party to that other party's original state;provided, however, that this may not prejudice the rights of a third party.\",\n",
       " 'Article 575\\n(1) If the subject matter of a sale which has not yet been delivered bears fruits, the fruits vest in the seller.',\n",
       " 'The same applies if the minor disposes of property that the legal representative has permitted the minor to dispose of without specifying a purpose.',\n",
       " 'The manifestation of intention can take effect after the minor becomes a person with capacity to act.',\n",
       " 'The third party must have known or could have known of the duress.',\n",
       " 'Article 125 If, at or after the time when it becomes possible to ratify an act, any of the following facts occur with respect to a voidable act, it is deemed that the act has been ratified;provided, however, that this does not apply if an objection is reserved: (i) full or partial performance; (ii) request for the performance; (iii) novation; (iv) provision of a security; (v) assignment of a part of or the whole of a right acquired by the voidable act; or (vi) compulsory execution.',\n",
       " 'The other party can rescind the contract if the person under curatorship fails to obtain the ratification of his/her curator within the applicable period.',\n",
       " 'If no period is provided in relation to the manifestation of intention for a completion in a pre-contract to sell or purchase, regardless of whether or not the party to the pre contract issued a notice of demand to the other party, specifying a reasonable period, for the other party is to give a definite answer as to whether or not he or she would complete the sale, if no definite answer has been given, the party to the pre contract cannot demand execution of the contract of sale to the other party.',\n",
       " 'If the principal fails to give a definite answer within that period, the principal is deemed to have refused to ratify.',\n",
       " 'No time limit may be added to the manifestation of intention.',\n",
       " 'The obligor may not assert the benefit of time stipulation if: (i) the obligor has become subject to the order commencing bankruptcy proceeding; (ii) the obligor has lost, damaged, or diminished the security; or (iii) the obligor fails to provide security when it has the obligation to do so.',\n",
       " 'Article 134 A juridical act subject to a condition precedent is void if the condition is dependent only upon the intention of the obligor.',\n",
       " 'The landowner may have the owner of that tree or bamboo sever that branch.',\n",
       " 'Article 243 If two or more movable properties with different owners can no longer be separated without damage due to accession, the ownership of the composite thing belongs to the owner of the principal movable property.',\n",
       " 'The distinction of principal and accessory cannot be made between the movables united by accession, the owner of each movable property co-owns the composite thing in proportion to the respective price current at the time of the accession.',\n",
       " 'The postponement of expiry of prescription period or the renewal of prescription period is also effective for the benefit of other co-owners.',\n",
       " \"The pledgee may subpledge the thing pledged within the duration of the pledgee's right, upon the pledgee's own responsibility.\",\n",
       " 'Pledges on movable property do not take effect if there is no delivery, and thus, for that movable, multiple pledges cannot be created.',\n",
       " 'The pledgee can only recover the pledged thing by filing an action for recovery of possession.',\n",
       " 'The obligor must retain the thing with the due care of a prudent manager, which is determined in light of the contract or other sources of claims and the common sense in the transaction, until the delivery.',\n",
       " 'Article 403 If the amount of the claim is designated in the currency of a foreign state, the obligor may make the payment in Japanese currency converted with the foreign exchange rate at the place of the performance.',\n",
       " 'The right to choose belongs to the obligor as long as there is no special provision.',\n",
       " 'The subject of the claim is identified by way of choice among two performances, if one of the performances becomes impossible in the future not due to fault of persons involved that do not possess the right to choose, then the subject of the claim is identified as the other performance.',\n",
       " 'The agreement of the parties involved that the obligee.',\n",
       " \"Article 677 A partner's creditor may not exercise the rights of that creditor against the partnership property.\",\n",
       " 'Mandatory may claim compensation for this from the mandator.',\n",
       " 'Article 465-2 (1) A guarantor to a guarantee contract under which the principal obligation is one or more unidentified obligations within a certain specified scope (hereinafter referred to as a \"contract for revolving guarantee\") and the guarantor is not a corporation (hereinafter referred to as a \"contract for revolving guarantee by an individual\") is liable to perform the obligation in terms of the amounts of the principal of the principal obligation, any interest, penalty and compensation for loss or damage in connection with the principal obligation, and all the other charges secondary to the obligation, as well as the amount of any penalty or compensation for loss or damage which is agreed- upon on with regard to the guarantee obligation, up to a certain maximum amount which pertains to all of these amounts.',\n",
       " 'Article 612 (1) A lessee may not assign the lease or sublease a leased thing without obtaining the approval of the lessor.',\n",
       " 'The assignment of a claim (including the assignment of a claim that is yet to arise) may not be duly asserted against the applicable obligor or any other third party, unless the assignor gives notice thereof to the obligor or the obligor has consented to the same.',\n",
       " 'The tender of the performance must be made actually consistent with the main purport of the obligation;provided, however, that if the obligee refuses to accept that performance in advance or if any act is required on the part of the obligee with respect to the performance of the obligation, it is sufficient for the obligor to request the acceptance thereof by giving a notice that the tender of the performance has been prepared.',\n",
       " 'The obligor is relieved from any and all responsibilities which may arise from the non-performance of the obligation.',\n",
       " 'The donor is presumed to have promised to deliver or transfer the thing or right that is the subject matter of the gift, while maintaining its condition as of the time when it is specified as the subject matter of the gift.',\n",
       " 'The lessee may immediately demand the reimbursement of the same from the lessor.',\n",
       " 'A lease without a specified term can be requested to be terminated at any time, but it will not terminate the lease immediately.',\n",
       " \"Article 613 (1) If a lessee lawfully subleases a leased thing, the sublessee is liable to perform an obligation based on the sublease directly to the lessor, to the extent of the scope of the lessee's obligation based on the lease between the lessor and the lessee.\",\n",
       " \"Article 533 states that a party to a bilateral contract may refuse to perform that party's own obligation until the other party tenders the performance of that other party's obligation.\",\n",
       " 'The mandatary may demand remuneration in proportion to the performance already completed: (i) if the mandatary is no longer able to perform the mandated business due to any grounds not attributable to the mandator; or (ii) if the mandate is terminated during the course of performance.',\n",
       " 'Article 650 (1) If the mandatary has expended costs found to be necessary for the administration of the mandated business, the mandatary may claim reimbursement of those costs from the mandator and any interest on the same from the day the costs were expended.',\n",
       " 'Mandatory must deliver to the mandator monies and other things received during the course of administering the mandated business.',\n",
       " 'Mandatory may claim reimbursement of those costs from the mandator and any interest on the same from the day the costs were expended.',\n",
       " 'The contract of sale of real property is a contract of sale of real property.',\n",
       " 'The contract of sale is not the only thing that must be proven.',\n",
       " 'Article 601 A lease becomes effective if one of the parties promises to make a certain thing available for the other party to use and make profit, and the other party promises to pay rent for the leased thing and return the delivered thing when the contract is terminated.',\n",
       " 'Mandatory is a person who is appointed by the mandator to act in his place.',\n",
       " 'Article 633 Remuneration must be paid simultaneously with delivery of the subject matter of work performed;provided, however, that if no delivery of a thing is required, the provisions of Article 624, paragraph (1) apply mutatis mutandis.',\n",
       " 'Article 704 A beneficiary in bad faith must return the benefit received together with interest thereon.',\n",
       " 'The person must have known that the obligation did not exist.',\n",
       " 'The obligee must return the benefit gained as a result.',\n",
       " 'The person performing the obligation may not demand the return of subject matter of the performance.',\n",
       " \"Article 32 (1) Having received proof that a missing person is alive or that a missing person died at a time different from the time set forth in the preceding Article, the family court, at the request of the missing person or an interested person, must rescind the declaration of that person's disappearance.\",\n",
       " 'Article 30 (1) If it has been unclear for seven years whether an absentee is dead or alive, the family court may enter a declaration of disappearance at the request of an interested person.',\n",
       " \"Article 32 (1) Having received proof that a missing person is alive or that a missing person died at a time different from the time set forth in the preceding Article, the family court, at the request of the missing person or an interested person, must rescind the declaration of that person's disappearance.\",\n",
       " \"Article 93 (1) The validity of a manifestation of intention is not impaired even if the person making it does so while knowing that it does not reflect that person's true intention; provided, however, that if the other party knew or could have known that the manifestation was not the true intention of the person who made it, that manifestation of intention is void.\",\n",
       " 'Article 96 (1) A manifestation of intention based on fraud or duress is voidable.',\n",
       " \"Article 93 (1) The validity of a manifestation of intention is not impaired even if the person making it does so while knowing that it does not reflect that person's true intention; provided, however, that if the other party knew or could have known that the manifestation was not the true intention of the person who made it, that manifestation of intention is void.\",\n",
       " 'Article 96 (1) A manifestation of intention based on fraud or duress is voidable.',\n",
       " \"Article 98-2 Any person may not assert a manifestation of intention against the other party thereto if that other party had no mental capacity or was a minor or an adult ward at the time of receiving it; provided, however, that this does not apply after either of the following persons learns of the manifestation of intention:\\n(i) the legal representative of the other party; or\\n(ii) the other party, after that other party's mental capacity has been restored or after that other party has become a person with capacity to act.\",\n",
       " 'Article 97 (1) A manifestation of intention becomes effective at the time notice thereof reaches the other party.',\n",
       " 'Article 97 (1) A manifestation of intention becomes effective at the time notice thereof reaches the other party.',\n",
       " 'Article 98 (1) A manifestation of intention may be made by means of public notice if the person making it is unable to ascertain who the other party is or is unable to ascertain the whereabouts thereof.',\n",
       " 'Article 97 (1) A manifestation of intention becomes effective at the time notice thereof reaches the other party.',\n",
       " ...]"
      ]
     },
     "execution_count": 75,
     "metadata": {},
     "output_type": "execute_result"
    }
   ],
   "source": [
    "cots"
   ]
  },
  {
   "cell_type": "code",
   "execution_count": 16,
   "id": "e1fdf69e-dcb2-4970-a29c-c12f810ca70b",
   "metadata": {},
   "outputs": [
    {
     "data": {
      "text/plain": [
       "0.9306930693069307"
      ]
     },
     "execution_count": 16,
     "metadata": {},
     "output_type": "execute_result"
    }
   ],
   "source": [
    "94/101"
   ]
  }
 ],
 "metadata": {
  "kernelspec": {
   "display_name": "Python 3 (ipykernel)",
   "language": "python",
   "name": "python3"
  },
  "language_info": {
   "codemirror_mode": {
    "name": "ipython",
    "version": 3
   },
   "file_extension": ".py",
   "mimetype": "text/x-python",
   "name": "python",
   "nbconvert_exporter": "python",
   "pygments_lexer": "ipython3",
   "version": "3.10.13"
  }
 },
 "nbformat": 4,
 "nbformat_minor": 5
}
